{
 "cells": [
  {
   "cell_type": "markdown",
   "id": "39f5a9ec",
   "metadata": {},
   "source": [
    "## Ordenar listas y otros tipos de colecciones"
   ]
  },
  {
   "cell_type": "markdown",
   "id": "a7f5cf64",
   "metadata": {},
   "source": [
    "Método sort de list y la función sorted"
   ]
  },
  {
   "cell_type": "code",
   "execution_count": 1,
   "id": "a6501116",
   "metadata": {},
   "outputs": [
    {
     "data": {
      "text/plain": [
       "[-9, 0, 4, 5, 5, 6, 23]"
      ]
     },
     "execution_count": 1,
     "metadata": {},
     "output_type": "execute_result"
    }
   ],
   "source": [
    "# Ordenación ASC\n",
    "L = [23,5,6,-9,4,5,0]\n",
    "L.sort()\n",
    "L"
   ]
  },
  {
   "cell_type": "code",
   "execution_count": 2,
   "id": "f2e1f477",
   "metadata": {},
   "outputs": [
    {
     "data": {
      "text/plain": [
       "[23, 6, 5, 5, 4, 0, -9]"
      ]
     },
     "execution_count": 2,
     "metadata": {},
     "output_type": "execute_result"
    }
   ],
   "source": [
    "# Ordenación DESC\n",
    "L.sort(reverse=True)\n",
    "L"
   ]
  },
  {
   "cell_type": "code",
   "execution_count": 15,
   "id": "5eb00fff",
   "metadata": {},
   "outputs": [
    {
     "data": {
      "text/plain": [
       "['Ana', 'Jose Miguel', 'Miguel', 'Raúl', 'Sandra', 'Sara']"
      ]
     },
     "execution_count": 15,
     "metadata": {},
     "output_type": "execute_result"
    }
   ],
   "source": [
    "nombres = ['Raúl','Miguel','Ana','Jose Miguel','Sara','Sandra']\n",
    "nombres.sort()\n",
    "nombres"
   ]
  },
  {
   "cell_type": "code",
   "execution_count": 16,
   "id": "e5de9cb0",
   "metadata": {},
   "outputs": [
    {
     "data": {
      "text/plain": [
       "[3, 11, 6, 4, 6, 4]"
      ]
     },
     "execution_count": 16,
     "metadata": {},
     "output_type": "execute_result"
    }
   ],
   "source": [
    "[len(i) for i in nombres]"
   ]
  },
  {
   "cell_type": "code",
   "execution_count": 18,
   "id": "70f20e7e",
   "metadata": {},
   "outputs": [
    {
     "data": {
      "text/plain": [
       "['Jose Miguel', 'Miguel', 'Sandra', 'Raúl', 'Sara', 'Ana']"
      ]
     },
     "execution_count": 18,
     "metadata": {},
     "output_type": "execute_result"
    }
   ],
   "source": [
    "# Ordenar con una función de python\n",
    "nombres.sort(key=len, reverse=True)\n",
    "nombres"
   ]
  },
  {
   "cell_type": "code",
   "execution_count": 12,
   "id": "749c5ee5",
   "metadata": {},
   "outputs": [
    {
     "name": "stdout",
     "output_type": "stream",
     "text": [
      "['Jose Miguel', 'Miguel', 'Sandra', 'Raúl', 'Sara', 'Ana']\n",
      "('Raúl', 'Miguel', 'Ana', 'Jose Miguel', 'Sara', 'Sandra')\n"
     ]
    }
   ],
   "source": [
    "nombres = ('Raúl','Miguel','Ana','Jose Miguel','Sara','Sandra')\n",
    "# nombres.sort() La tupla no tiene el método sort\n",
    "\n",
    "L = sorted(nombres, key=len, reverse=True)\n",
    "print(L)\n",
    "print(nombres)"
   ]
  },
  {
   "cell_type": "code",
   "execution_count": null,
   "id": "1a413acc",
   "metadata": {},
   "outputs": [],
   "source": []
  }
 ],
 "metadata": {
  "kernelspec": {
   "display_name": "Python 3 (ipykernel)",
   "language": "python",
   "name": "python3"
  },
  "language_info": {
   "codemirror_mode": {
    "name": "ipython",
    "version": 3
   },
   "file_extension": ".py",
   "mimetype": "text/x-python",
   "name": "python",
   "nbconvert_exporter": "python",
   "pygments_lexer": "ipython3",
   "version": "3.8.5"
  }
 },
 "nbformat": 4,
 "nbformat_minor": 5
}

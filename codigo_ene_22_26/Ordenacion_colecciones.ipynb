{
 "cells": [
  {
   "cell_type": "markdown",
   "id": "43bae839",
   "metadata": {},
   "source": [
    "## Ordenar listas y otros tipos de colecciones"
   ]
  },
  {
   "cell_type": "markdown",
   "id": "17423c60",
   "metadata": {},
   "source": [
    "Método sort de list y la función sorted"
   ]
  },
  {
   "cell_type": "code",
   "execution_count": 1,
   "id": "6d693a1f",
   "metadata": {},
   "outputs": [
    {
     "data": {
      "text/plain": [
       "[-9, 0, 4, 5, 5, 6, 23]"
      ]
     },
     "execution_count": 1,
     "metadata": {},
     "output_type": "execute_result"
    }
   ],
   "source": [
    "# Ordenación ASC\n",
    "L = [23,5,6,-9,4,5,0]\n",
    "L.sort()\n",
    "L"
   ]
  },
  {
   "cell_type": "code",
   "execution_count": 2,
   "id": "0286d195",
   "metadata": {},
   "outputs": [
    {
     "data": {
      "text/plain": [
       "[23, 6, 5, 5, 4, 0, -9]"
      ]
     },
     "execution_count": 2,
     "metadata": {},
     "output_type": "execute_result"
    }
   ],
   "source": [
    "# Ordenación DESC\n",
    "L.sort(reverse=True)\n",
    "L"
   ]
  },
  {
   "cell_type": "code",
   "execution_count": 15,
   "id": "640b3cbe",
   "metadata": {},
   "outputs": [
    {
     "data": {
      "text/plain": [
       "['Ana', 'Jose Miguel', 'Miguel', 'Raúl', 'Sandra', 'Sara']"
      ]
     },
     "execution_count": 15,
     "metadata": {},
     "output_type": "execute_result"
    }
   ],
   "source": [
    "nombres = ['Raúl','Miguel','Ana','Jose Miguel','Sara','Sandra']\n",
    "nombres.sort()\n",
    "nombres"
   ]
  },
  {
   "cell_type": "code",
   "execution_count": 16,
   "id": "7b990a9d",
   "metadata": {},
   "outputs": [
    {
     "data": {
      "text/plain": [
       "[3, 11, 6, 4, 6, 4]"
      ]
     },
     "execution_count": 16,
     "metadata": {},
     "output_type": "execute_result"
    }
   ],
   "source": [
    "[len(i) for i in nombres]"
   ]
  },
  {
   "cell_type": "code",
   "execution_count": 18,
   "id": "da96e2e7",
   "metadata": {},
   "outputs": [
    {
     "data": {
      "text/plain": [
       "['Jose Miguel', 'Miguel', 'Sandra', 'Raúl', 'Sara', 'Ana']"
      ]
     },
     "execution_count": 18,
     "metadata": {},
     "output_type": "execute_result"
    }
   ],
   "source": [
    "# Ordenar con una función de python\n",
    "nombres.sort(key=len, reverse=True)\n",
    "nombres"
   ]
  },
  {
   "cell_type": "code",
   "execution_count": 12,
   "id": "e1bc499a",
   "metadata": {},
   "outputs": [
    {
     "name": "stdout",
     "output_type": "stream",
     "text": [
      "['Jose Miguel', 'Miguel', 'Sandra', 'Raúl', 'Sara', 'Ana']\n",
      "('Raúl', 'Miguel', 'Ana', 'Jose Miguel', 'Sara', 'Sandra')\n"
     ]
    }
   ],
   "source": [
    "nombres = ('Raúl','Miguel','Ana','Jose Miguel','Sara','Sandra')\n",
    "# nombres.sort() La tupla no tiene el método sort\n",
    "\n",
    "L = sorted(nombres, key=len, reverse=True)\n",
    "print(L)\n",
    "print(nombres)"
   ]
  },
  {
   "cell_type": "code",
   "execution_count": 21,
   "id": "541557df",
   "metadata": {},
   "outputs": [
    {
     "data": {
      "text/plain": [
       "[('Jose Miguel', 34, 1.8), ('Miguel', 55, 1.77), ('Sandra', 22, 1.65)]"
      ]
     },
     "execution_count": 21,
     "metadata": {},
     "output_type": "execute_result"
    }
   ],
   "source": [
    "# Ordenar una lista de tuplas con nombre, edad, altura\n",
    "L = [('Jose Miguel',34,1.8), ('Miguel',55,1.77), ('Sandra',22,1.65)]\n",
    "L                            "
   ]
  },
  {
   "cell_type": "code",
   "execution_count": 22,
   "id": "6bbaa4b4",
   "metadata": {},
   "outputs": [
    {
     "data": {
      "text/plain": [
       "[('Sandra', 22, 1.65), ('Jose Miguel', 34, 1.8), ('Miguel', 55, 1.77)]"
      ]
     },
     "execution_count": 22,
     "metadata": {},
     "output_type": "execute_result"
    }
   ],
   "source": [
    "# Ordenar ASC por edad\n",
    "L.sort(key=lambda t:t[1])\n",
    "L"
   ]
  },
  {
   "cell_type": "code",
   "execution_count": 24,
   "id": "dea257e6",
   "metadata": {},
   "outputs": [
    {
     "data": {
      "text/plain": [
       "[('Jose Miguel', 34, 1.8), ('Miguel', 55, 1.77), ('Sandra', 22, 1.65)]"
      ]
     },
     "execution_count": 24,
     "metadata": {},
     "output_type": "execute_result"
    }
   ],
   "source": [
    "# Ordenar DESC por altura:\n",
    "L.sort(key=lambda t:t[-1], reverse=True)\n",
    "L"
   ]
  },
  {
   "cell_type": "code",
   "execution_count": 25,
   "id": "553c90d2",
   "metadata": {},
   "outputs": [
    {
     "name": "stdout",
     "output_type": "stream",
     "text": [
      "Jose Miguel 34 1.8\n",
      "Miguel 55 1.77\n",
      "Sandra 22 1.65\n"
     ]
    }
   ],
   "source": [
    "for nombre,edad,altura in L:\n",
    "    print(nombre, edad, altura)"
   ]
  },
  {
   "cell_type": "code",
   "execution_count": null,
   "id": "932e4d87",
   "metadata": {},
   "outputs": [],
   "source": []
  }
 ],
 "metadata": {
  "kernelspec": {
   "display_name": "Python 3 (ipykernel)",
   "language": "python",
   "name": "python3"
  },
  "language_info": {
   "codemirror_mode": {
    "name": "ipython",
    "version": 3
   },
   "file_extension": ".py",
   "mimetype": "text/x-python",
   "name": "python",
   "nbconvert_exporter": "python",
   "pygments_lexer": "ipython3",
   "version": "3.8.5"
  }
 },
 "nbformat": 4,
 "nbformat_minor": 5
}

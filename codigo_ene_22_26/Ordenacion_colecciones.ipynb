{
 "cells": [
  {
   "cell_type": "markdown",
   "id": "456105ae",
   "metadata": {},
   "source": [
    "## Ordenar listas y otros tipos de colecciones"
   ]
  },
  {
   "cell_type": "markdown",
   "id": "42bd3740",
   "metadata": {},
   "source": [
    "Método sort de list y la función sorted"
   ]
  },
  {
   "cell_type": "code",
   "execution_count": 1,
   "id": "c19888ad",
   "metadata": {},
   "outputs": [
    {
     "data": {
      "text/plain": [
       "[-9, 0, 4, 5, 5, 6, 23]"
      ]
     },
     "execution_count": 1,
     "metadata": {},
     "output_type": "execute_result"
    }
   ],
   "source": [
    "# Ordenación ASC\n",
    "L = [23,5,6,-9,4,5,0]\n",
    "L.sort()\n",
    "L"
   ]
  },
  {
   "cell_type": "code",
   "execution_count": 2,
   "id": "ba3fe616",
   "metadata": {},
   "outputs": [
    {
     "data": {
      "text/plain": [
       "[23, 6, 5, 5, 4, 0, -9]"
      ]
     },
     "execution_count": 2,
     "metadata": {},
     "output_type": "execute_result"
    }
   ],
   "source": [
    "# Ordenación DESC\n",
    "L.sort(reverse=True)\n",
    "L"
   ]
  },
  {
   "cell_type": "code",
   "execution_count": 5,
   "id": "3caa948e",
   "metadata": {},
   "outputs": [
    {
     "data": {
      "text/plain": [
       "['Ana', 'Jose Miguel', 'Miguel', 'Raúl', 'Sandra', 'Sara']"
      ]
     },
     "execution_count": 5,
     "metadata": {},
     "output_type": "execute_result"
    }
   ],
   "source": [
    "nombres = ['Raúl','Miguel','Ana','Jose Miguel','Sara','Sandra']\n",
    "nombres.sort()\n",
    "nombres"
   ]
  },
  {
   "cell_type": "code",
   "execution_count": 6,
   "id": "f1918ce4",
   "metadata": {},
   "outputs": [
    {
     "data": {
      "text/plain": [
       "[3, 11, 6, 4, 6, 4]"
      ]
     },
     "execution_count": 6,
     "metadata": {},
     "output_type": "execute_result"
    }
   ],
   "source": [
    "[len(i) for i in nombres]"
   ]
  },
  {
   "cell_type": "code",
   "execution_count": 8,
   "id": "9fd02864",
   "metadata": {},
   "outputs": [
    {
     "data": {
      "text/plain": [
       "['Jose Miguel', 'Miguel', 'Sandra', 'Raúl', 'Sara', 'Ana']"
      ]
     },
     "execution_count": 8,
     "metadata": {},
     "output_type": "execute_result"
    }
   ],
   "source": [
    "# Ordenar con una función de p\n",
    "nombres.sort(key=len, reverse=True)\n",
    "nombres"
   ]
  },
  {
   "cell_type": "code",
   "execution_count": null,
   "id": "975ac7a2",
   "metadata": {},
   "outputs": [],
   "source": []
  }
 ],
 "metadata": {
  "kernelspec": {
   "display_name": "Python 3 (ipykernel)",
   "language": "python",
   "name": "python3"
  },
  "language_info": {
   "codemirror_mode": {
    "name": "ipython",
    "version": 3
   },
   "file_extension": ".py",
   "mimetype": "text/x-python",
   "name": "python",
   "nbconvert_exporter": "python",
   "pygments_lexer": "ipython3",
   "version": "3.8.5"
  }
 },
 "nbformat": 4,
 "nbformat_minor": 5
}

{
 "cells": [
  {
   "cell_type": "markdown",
   "id": "c23ef0e2",
   "metadata": {},
   "source": [
    "## Listas en Python"
   ]
  },
  {
   "cell_type": "markdown",
   "id": "613cf807",
   "metadata": {},
   "source": [
    "Definición de listas, acceso, índices, funciones, slicing, copia, métodos ..."
   ]
  },
  {
   "cell_type": "code",
   "execution_count": 5,
   "id": "ed9c8146",
   "metadata": {},
   "outputs": [
    {
     "data": {
      "text/plain": [
       "[1, 4, 5, 3, 2, 1, 2, 3, 6]"
      ]
     },
     "execution_count": 5,
     "metadata": {},
     "output_type": "execute_result"
    }
   ],
   "source": [
    "L = [1,4,5,3,2,1,2,3,6]\n",
    "L"
   ]
  },
  {
   "cell_type": "code",
   "execution_count": 6,
   "id": "fb853510",
   "metadata": {},
   "outputs": [
    {
     "data": {
      "text/plain": [
       "['h', 'o', 'l', 'a', ' ', 'q', 'u', 'e', ' ', 't', 'a', 'l']"
      ]
     },
     "execution_count": 6,
     "metadata": {},
     "output_type": "execute_result"
    }
   ],
   "source": [
    "s = \"hola que tal\"\n",
    "L2 = list(s)\n",
    "L2"
   ]
  },
  {
   "cell_type": "code",
   "execution_count": 7,
   "id": "2b14a1ac",
   "metadata": {},
   "outputs": [],
   "source": [
    "L[0] = 1000"
   ]
  },
  {
   "cell_type": "code",
   "execution_count": 8,
   "id": "914c9f75",
   "metadata": {},
   "outputs": [
    {
     "data": {
      "text/plain": [
       "[1000, 4, 5, 3, 2, 1, 2, 3, 6]"
      ]
     },
     "execution_count": 8,
     "metadata": {},
     "output_type": "execute_result"
    }
   ],
   "source": [
    "L"
   ]
  },
  {
   "cell_type": "code",
   "execution_count": 12,
   "id": "20ad2f21",
   "metadata": {},
   "outputs": [
    {
     "name": "stdout",
     "output_type": "stream",
     "text": [
      "el primero:  1000 1000\n",
      "El último:  6 6\n"
     ]
    }
   ],
   "source": [
    "# índices negativos: funcionan en listas, tuplas y cadenas\n",
    "print('el primero: ', L[0], L[-9])\n",
    "print('El último: ', L[-1], L[8])"
   ]
  },
  {
   "cell_type": "code",
   "execution_count": 10,
   "id": "1b3bcbab",
   "metadata": {},
   "outputs": [
    {
     "data": {
      "text/plain": [
       "['C:', 'mis documentos', 'libros', 'libro1.xlsx']"
      ]
     },
     "execution_count": 10,
     "metadata": {},
     "output_type": "execute_result"
    }
   ],
   "source": [
    "path = \"C:/mis documentos/libros/libro1.xlsx\"\n",
    "L3 = path.split('/') # divide la cadena por la /\n",
    "L3"
   ]
  },
  {
   "cell_type": "code",
   "execution_count": 11,
   "id": "8972f9b5",
   "metadata": {},
   "outputs": [
    {
     "data": {
      "text/plain": [
       "'libro1.xlsx'"
      ]
     },
     "execution_count": 11,
     "metadata": {},
     "output_type": "execute_result"
    }
   ],
   "source": [
    "fichero = L3[-1]\n",
    "fichero"
   ]
  },
  {
   "cell_type": "code",
   "execution_count": 13,
   "id": "296ac0b5",
   "metadata": {},
   "outputs": [
    {
     "data": {
      "text/plain": [
       "[1000, 4, 5, 3, 2, 1, 2, 3, 6]"
      ]
     },
     "execution_count": 13,
     "metadata": {},
     "output_type": "execute_result"
    }
   ],
   "source": [
    "L"
   ]
  },
  {
   "cell_type": "code",
   "execution_count": 14,
   "id": "869c88f3",
   "metadata": {},
   "outputs": [
    {
     "name": "stdout",
     "output_type": "stream",
     "text": [
      "suma: 1026\n",
      "minimo:  1\n",
      "maximo: 1000\n",
      "recuento:  9\n",
      "promedio:  114.0\n"
     ]
    }
   ],
   "source": [
    "print('suma:', sum(L))\n",
    "print('minimo: ', min(L))\n",
    "print('maximo:', max(L))\n",
    "print('recuento: ', len(L))\n",
    "print('promedio: ', sum(L)/len(L))"
   ]
  },
  {
   "cell_type": "code",
   "execution_count": 18,
   "id": "7fb96077",
   "metadata": {},
   "outputs": [
    {
     "data": {
      "text/plain": [
       "[1000, 4, 5, 3, 2, 1, 2, 3, 6]"
      ]
     },
     "execution_count": 18,
     "metadata": {},
     "output_type": "execute_result"
    }
   ],
   "source": [
    "L"
   ]
  },
  {
   "cell_type": "code",
   "execution_count": 24,
   "id": "6aca9ca0",
   "metadata": {},
   "outputs": [
    {
     "name": "stdout",
     "output_type": "stream",
     "text": [
      "los 3 primeros:  [1000, 4, 5]\n",
      "los 3 primeros:  [1000, 4, 5]\n",
      "los 3 últimos:  [2, 3, 6]\n",
      "Quitar el primero y el último:  [4, 5, 3, 2, 1, 2, 3]\n",
      "toda la lista:  [1000, 4, 5, 3, 2, 1, 2, 3, 6]\n",
      "toda la lista de dos en dos:  [1000, 5, 2, 2, 6]\n",
      "invertir:  [6, 3, 2, 1, 2, 3, 5, 4, 1000]\n"
     ]
    }
   ],
   "source": [
    "# Slicing: L[ini:fin-1:salto]\n",
    "print('los 3 primeros: ', L[0:3])\n",
    "print('los 3 primeros: ', L[:3])\n",
    "print('los 3 últimos: ', L[-3:])\n",
    "print('Quitar el primero y el último: ', L[1:-1])\n",
    "print('toda la lista: ', L[:])\n",
    "print('toda la lista de dos en dos: ',L[::2])\n",
    "print('invertir: ', L[::-1])"
   ]
  },
  {
   "cell_type": "code",
   "execution_count": 25,
   "id": "4031c481",
   "metadata": {},
   "outputs": [
    {
     "data": {
      "text/plain": [
       "'aloh'"
      ]
     },
     "execution_count": 25,
     "metadata": {},
     "output_type": "execute_result"
    }
   ],
   "source": [
    "s = \"hola\"\n",
    "s[::-1]"
   ]
  },
  {
   "cell_type": "code",
   "execution_count": 28,
   "id": "a93aa159",
   "metadata": {},
   "outputs": [
    {
     "name": "stdout",
     "output_type": "stream",
     "text": [
      "es capicua\n"
     ]
    }
   ],
   "source": [
    "s = 1235321\n",
    "snum = str(s)\n",
    "if snum == snum[::-1]:\n",
    "    print('es capicua')\n",
    "else:\n",
    "    print('no es capicua')\n"
   ]
  },
  {
   "cell_type": "code",
   "execution_count": null,
   "id": "0d337f36",
   "metadata": {},
   "outputs": [],
   "source": []
  }
 ],
 "metadata": {
  "kernelspec": {
   "display_name": "Python 3 (ipykernel)",
   "language": "python",
   "name": "python3"
  },
  "language_info": {
   "codemirror_mode": {
    "name": "ipython",
    "version": 3
   },
   "file_extension": ".py",
   "mimetype": "text/x-python",
   "name": "python",
   "nbconvert_exporter": "python",
   "pygments_lexer": "ipython3",
   "version": "3.8.5"
  }
 },
 "nbformat": 4,
 "nbformat_minor": 5
}

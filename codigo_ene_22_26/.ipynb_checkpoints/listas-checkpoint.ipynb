{
 "cells": [
  {
   "cell_type": "markdown",
   "id": "895db7ce",
   "metadata": {},
   "source": [
    "## Listas en Python"
   ]
  },
  {
   "cell_type": "markdown",
   "id": "92f31396",
   "metadata": {},
   "source": [
    "Definición de listas, acceso, índices, funciones, slicing, copia, métodos ..."
   ]
  },
  {
   "cell_type": "code",
   "execution_count": 5,
   "id": "dc5e7bc6",
   "metadata": {},
   "outputs": [
    {
     "data": {
      "text/plain": [
       "[1, 4, 5, 3, 2, 1, 2, 3, 6]"
      ]
     },
     "execution_count": 5,
     "metadata": {},
     "output_type": "execute_result"
    }
   ],
   "source": [
    "L = [1,4,5,3,2,1,2,3,6]\n",
    "L"
   ]
  },
  {
   "cell_type": "code",
   "execution_count": 6,
   "id": "ec61db6e",
   "metadata": {},
   "outputs": [
    {
     "data": {
      "text/plain": [
       "['h', 'o', 'l', 'a', ' ', 'q', 'u', 'e', ' ', 't', 'a', 'l']"
      ]
     },
     "execution_count": 6,
     "metadata": {},
     "output_type": "execute_result"
    }
   ],
   "source": [
    "s = \"hola que tal\"\n",
    "L2 = list(s)\n",
    "L2"
   ]
  },
  {
   "cell_type": "code",
   "execution_count": 7,
   "id": "42b65ed9",
   "metadata": {},
   "outputs": [],
   "source": [
    "L[0] = 1000"
   ]
  },
  {
   "cell_type": "code",
   "execution_count": 8,
   "id": "e1fdfa1d",
   "metadata": {},
   "outputs": [
    {
     "data": {
      "text/plain": [
       "[1000, 4, 5, 3, 2, 1, 2, 3, 6]"
      ]
     },
     "execution_count": 8,
     "metadata": {},
     "output_type": "execute_result"
    }
   ],
   "source": [
    "L"
   ]
  },
  {
   "cell_type": "code",
   "execution_count": 12,
   "id": "c7940ef4",
   "metadata": {},
   "outputs": [
    {
     "name": "stdout",
     "output_type": "stream",
     "text": [
      "el primero:  1000 1000\n",
      "El último:  6 6\n"
     ]
    }
   ],
   "source": [
    "# índices negativos: funcionan en listas, tuplas y cadenas\n",
    "print('el primero: ', L[0], L[-9])\n",
    "print('El último: ', L[-1], L[8])"
   ]
  },
  {
   "cell_type": "code",
   "execution_count": 10,
   "id": "a902ef84",
   "metadata": {},
   "outputs": [
    {
     "data": {
      "text/plain": [
       "['C:', 'mis documentos', 'libros', 'libro1.xlsx']"
      ]
     },
     "execution_count": 10,
     "metadata": {},
     "output_type": "execute_result"
    }
   ],
   "source": [
    "path = \"C:/mis documentos/libros/libro1.xlsx\"\n",
    "L3 = path.split('/') # divide la cadena por la /\n",
    "L3"
   ]
  },
  {
   "cell_type": "code",
   "execution_count": 11,
   "id": "a705ca43",
   "metadata": {},
   "outputs": [
    {
     "data": {
      "text/plain": [
       "'libro1.xlsx'"
      ]
     },
     "execution_count": 11,
     "metadata": {},
     "output_type": "execute_result"
    }
   ],
   "source": [
    "fichero = L3[-1]\n",
    "fichero"
   ]
  },
  {
   "cell_type": "code",
   "execution_count": 13,
   "id": "689dda0b",
   "metadata": {},
   "outputs": [
    {
     "data": {
      "text/plain": [
       "[1000, 4, 5, 3, 2, 1, 2, 3, 6]"
      ]
     },
     "execution_count": 13,
     "metadata": {},
     "output_type": "execute_result"
    }
   ],
   "source": [
    "L"
   ]
  },
  {
   "cell_type": "code",
   "execution_count": 14,
   "id": "54827266",
   "metadata": {},
   "outputs": [
    {
     "name": "stdout",
     "output_type": "stream",
     "text": [
      "suma: 1026\n",
      "minimo:  1\n",
      "maximo: 1000\n",
      "recuento:  9\n",
      "promedio:  114.0\n"
     ]
    }
   ],
   "source": [
    "print('suma:', sum(L))\n",
    "print('minimo: ', min(L))\n",
    "print('maximo:', max(L))\n",
    "print('recuento: ', len(L))\n",
    "print('promedio: ', sum(L)/len(L))"
   ]
  },
  {
   "cell_type": "code",
   "execution_count": 18,
   "id": "9f9a769a",
   "metadata": {},
   "outputs": [
    {
     "data": {
      "text/plain": [
       "[1000, 4, 5, 3, 2, 1, 2, 3, 6]"
      ]
     },
     "execution_count": 18,
     "metadata": {},
     "output_type": "execute_result"
    }
   ],
   "source": [
    "L"
   ]
  },
  {
   "cell_type": "code",
   "execution_count": 24,
   "id": "84d52b4e",
   "metadata": {},
   "outputs": [
    {
     "name": "stdout",
     "output_type": "stream",
     "text": [
      "los 3 primeros:  [1000, 4, 5]\n",
      "los 3 primeros:  [1000, 4, 5]\n",
      "los 3 últimos:  [2, 3, 6]\n",
      "Quitar el primero y el último:  [4, 5, 3, 2, 1, 2, 3]\n",
      "toda la lista:  [1000, 4, 5, 3, 2, 1, 2, 3, 6]\n",
      "toda la lista de dos en dos:  [1000, 5, 2, 2, 6]\n",
      "invertir:  [6, 3, 2, 1, 2, 3, 5, 4, 1000]\n"
     ]
    }
   ],
   "source": [
    "# Slicing: L[ini:fin-1:salto]\n",
    "print('los 3 primeros: ', L[0:3])\n",
    "print('los 3 primeros: ', L[:3])\n",
    "print('los 3 últimos: ', L[-3:])\n",
    "print('Quitar el primero y el último: ', L[1:-1])\n",
    "print('toda la lista: ', L[:])\n",
    "print('toda la lista de dos en dos: ',L[::2])\n",
    "print('invertir: ', L[::-1])"
   ]
  },
  {
   "cell_type": "code",
   "execution_count": 25,
   "id": "29d086e6",
   "metadata": {},
   "outputs": [
    {
     "data": {
      "text/plain": [
       "'aloh'"
      ]
     },
     "execution_count": 25,
     "metadata": {},
     "output_type": "execute_result"
    }
   ],
   "source": [
    "s = \"hola\"\n",
    "s[::-1]"
   ]
  },
  {
   "cell_type": "code",
   "execution_count": 28,
   "id": "30a6b094",
   "metadata": {},
   "outputs": [
    {
     "name": "stdout",
     "output_type": "stream",
     "text": [
      "es capicua\n"
     ]
    }
   ],
   "source": [
    "s = 1235321\n",
    "snum = str(s)\n",
    "if snum == snum[::-1]:\n",
    "    print('es capicua')\n",
    "else:\n",
    "    print('no es capicua')\n"
   ]
  },
  {
   "cell_type": "markdown",
   "id": "c2c0c5e0",
   "metadata": {},
   "source": [
    "Copia de listas, funciona igual para diccionarios y conjuntos"
   ]
  },
  {
   "cell_type": "code",
   "execution_count": 30,
   "id": "3bcf223d",
   "metadata": {},
   "outputs": [
    {
     "name": "stdout",
     "output_type": "stream",
     "text": [
      "L1 [1000, 3, 4, 5, 6] 2307294120448\n",
      "L2 [1000, 3, 4, 5, 6] 2307294120448\n"
     ]
    }
   ],
   "source": [
    "# No crea una copia, crea una referencia\n",
    "L1 = [1,3,4,5,6]\n",
    "L2 = L1\n",
    "L1[0] = 1000\n",
    "print(\"L1\", L1, id(L1))\n",
    "print(\"L2\", L2, id(L2))"
   ]
  },
  {
   "cell_type": "code",
   "execution_count": 31,
   "id": "fd752e20",
   "metadata": {},
   "outputs": [
    {
     "name": "stdout",
     "output_type": "stream",
     "text": [
      "L1 [1000, 3, 4, 5, 6] 2307294080640\n",
      "L2 [1, 3, 4, 5, 6] 2307294121728\n"
     ]
    }
   ],
   "source": [
    "# Copia bien siempre y cuando los elementos de la lista sean inmutables\n",
    "L1 = [1,3,4,5,6]\n",
    "L2 = L1.copy()\n",
    "L1[0] = 1000\n",
    "print(\"L1\", L1, id(L1))\n",
    "print(\"L2\", L2, id(L2))"
   ]
  },
  {
   "cell_type": "code",
   "execution_count": 32,
   "id": "1b4c467c",
   "metadata": {},
   "outputs": [
    {
     "name": "stdout",
     "output_type": "stream",
     "text": [
      "L1 [1000, [3, 4], [5, 6]] 2307294177664\n",
      "L2 [[1], [3, 4], [5, 6]] 2307294134144\n"
     ]
    }
   ],
   "source": [
    "L1 = [[1],[3,4],[5,6]]\n",
    "L2 = L1.copy()\n",
    "L1[0] = 1000\n",
    "print(\"L1\", L1, id(L1))\n",
    "print(\"L2\", L2, id(L2))"
   ]
  },
  {
   "cell_type": "code",
   "execution_count": 34,
   "id": "ef248ad1",
   "metadata": {},
   "outputs": [],
   "source": [
    "L1[-1][0] = 999"
   ]
  },
  {
   "cell_type": "code",
   "execution_count": 35,
   "id": "82d057a0",
   "metadata": {},
   "outputs": [
    {
     "name": "stdout",
     "output_type": "stream",
     "text": [
      "L1 [1000, [3, 4], [999, 6]] 2307294177664\n",
      "L2 [[1], [3, 4], [999, 6]] 2307294134144\n"
     ]
    }
   ],
   "source": [
    "print(\"L1\", L1, id(L1))\n",
    "print(\"L2\", L2, id(L2))"
   ]
  },
  {
   "cell_type": "code",
   "execution_count": 36,
   "id": "390bb89b",
   "metadata": {},
   "outputs": [
    {
     "name": "stdout",
     "output_type": "stream",
     "text": [
      "L1 [1000, [3, 4], [999, 6]] 2307294378048\n",
      "L2 [[1], [3, 4], [5, 6]] 2307294378368\n"
     ]
    }
   ],
   "source": [
    "import copy\n",
    "L1 = [[1],[3,4],[5,6]]\n",
    "L2 = copy.deepcopy(L1)\n",
    "L1[0] = 1000\n",
    "L1[-1][0] = 999\n",
    "print(\"L1\", L1, id(L1))\n",
    "print(\"L2\", L2, id(L2))"
   ]
  },
  {
   "cell_type": "code",
   "execution_count": 38,
   "id": "4bc3c7da",
   "metadata": {},
   "outputs": [
    {
     "name": "stdout",
     "output_type": "stream",
     "text": [
      "2 4 5 4 1 6 7 "
     ]
    }
   ],
   "source": [
    "L = [2,4,5,4,1,6,7]\n",
    "for i in L:\n",
    "    print(i, end=' ')"
   ]
  },
  {
   "cell_type": "code",
   "execution_count": 39,
   "id": "5e9d75fe",
   "metadata": {},
   "outputs": [
    {
     "name": "stdout",
     "output_type": "stream",
     "text": [
      "0 2\n",
      "1 4\n",
      "2 5\n",
      "3 4\n",
      "4 1\n",
      "5 6\n",
      "6 7\n"
     ]
    }
   ],
   "source": [
    "for ind, i in enumerate(L):\n",
    "    print(ind, i)"
   ]
  },
  {
   "cell_type": "code",
   "execution_count": 40,
   "id": "e4f0ba20",
   "metadata": {},
   "outputs": [
    {
     "ename": "TypeError",
     "evalue": "'int' object is not iterable",
     "output_type": "error",
     "traceback": [
      "\u001b[1;31m---------------------------------------------------------------------------\u001b[0m",
      "\u001b[1;31mTypeError\u001b[0m                                 Traceback (most recent call last)",
      "\u001b[1;32m<ipython-input-40-665a8c31cf25>\u001b[0m in \u001b[0;36m<module>\u001b[1;34m\u001b[0m\n\u001b[1;32m----> 1\u001b[1;33m \u001b[1;32mfor\u001b[0m \u001b[0mi\u001b[0m \u001b[1;32min\u001b[0m \u001b[1;36m10\u001b[0m\u001b[1;33m:\u001b[0m\u001b[1;33m\u001b[0m\u001b[1;33m\u001b[0m\u001b[0m\n\u001b[0m\u001b[0;32m      2\u001b[0m     \u001b[0mprint\u001b[0m\u001b[1;33m(\u001b[0m\u001b[0mi\u001b[0m\u001b[1;33m)\u001b[0m\u001b[1;33m\u001b[0m\u001b[1;33m\u001b[0m\u001b[0m\n",
      "\u001b[1;31mTypeError\u001b[0m: 'int' object is not iterable"
     ]
    }
   ],
   "source": [
    "for i in 10:\n",
    "    print(i)"
   ]
  },
  {
   "cell_type": "code",
   "execution_count": 41,
   "id": "7b90d632",
   "metadata": {},
   "outputs": [
    {
     "name": "stdout",
     "output_type": "stream",
     "text": [
      "0 1 2 3 4 5 6 7 8 9 "
     ]
    }
   ],
   "source": [
    "# Bucle for de 10 veces: range(ini, fin-1, salto=1)\n",
    "for i in range(10):\n",
    "    print(i, end=' ')"
   ]
  },
  {
   "cell_type": "code",
   "execution_count": 42,
   "id": "6c76eeac",
   "metadata": {},
   "outputs": [
    {
     "name": "stdout",
     "output_type": "stream",
     "text": [
      "0 5 10 15 20 25 30 35 40 45 50 55 60 65 70 75 80 85 90 95 100 "
     ]
    }
   ],
   "source": [
    "for i in range(0,101,5):\n",
    "    print(i, end= ' ')"
   ]
  },
  {
   "cell_type": "code",
   "execution_count": null,
   "id": "95b62491",
   "metadata": {},
   "outputs": [],
   "source": []
  }
 ],
 "metadata": {
  "kernelspec": {
   "display_name": "Python 3 (ipykernel)",
   "language": "python",
   "name": "python3"
  },
  "language_info": {
   "codemirror_mode": {
    "name": "ipython",
    "version": 3
   },
   "file_extension": ".py",
   "mimetype": "text/x-python",
   "name": "python",
   "nbconvert_exporter": "python",
   "pygments_lexer": "ipython3",
   "version": "3.8.5"
  }
 },
 "nbformat": 4,
 "nbformat_minor": 5
}

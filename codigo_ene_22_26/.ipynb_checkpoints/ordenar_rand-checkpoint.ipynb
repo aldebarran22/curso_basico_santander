{
 "cells": [
  {
   "cell_type": "markdown",
   "id": "9137150c",
   "metadata": {},
   "source": [
    "### Generar una lista de tuplas con números aleatorios y formatear"
   ]
  },
  {
   "cell_type": "markdown",
   "id": "54e3fd70",
   "metadata": {},
   "source": [
    "(12, 4, 5) -> 12:04:05"
   ]
  },
  {
   "cell_type": "code",
   "execution_count": 14,
   "id": "61f025b2",
   "metadata": {},
   "outputs": [],
   "source": [
    "from random import randint"
   ]
  },
  {
   "cell_type": "code",
   "execution_count": 10,
   "id": "a3a01ec7",
   "metadata": {},
   "outputs": [],
   "source": [
    "def formatear(h=0, m=0, s=0):\n",
    "    return \"%02d:%02d:%02d\" % (h,m,s)"
   ]
  },
  {
   "cell_type": "code",
   "execution_count": 13,
   "id": "df64bcae",
   "metadata": {},
   "outputs": [
    {
     "data": {
      "text/plain": [
       "'12:04:05'"
      ]
     },
     "execution_count": 13,
     "metadata": {},
     "output_type": "execute_result"
    }
   ],
   "source": [
    "t = (12,4,5)\n",
    "formatear(*t)"
   ]
  },
  {
   "cell_type": "code",
   "execution_count": 19,
   "id": "dfecd541",
   "metadata": {},
   "outputs": [
    {
     "data": {
      "text/plain": [
       "[(12, 53, 31),\n",
       " (23, 6, 58),\n",
       " (20, 39, 36),\n",
       " (19, 16, 38),\n",
       " (6, 45, 45),\n",
       " (4, 47, 39),\n",
       " (18, 40, 42),\n",
       " (9, 36, 13),\n",
       " (9, 6, 1),\n",
       " (13, 4, 41),\n",
       " (12, 30),\n",
       " (8, 45),\n",
       " (12,)]"
      ]
     },
     "execution_count": 19,
     "metadata": {},
     "output_type": "execute_result"
    }
   ],
   "source": [
    "horas = [(randint(0,23), randint(0,59), randint(0,59)) for i in range(10)] + [(12,30), (8,45), (12,)]\n",
    "horas"
   ]
  },
  {
   "cell_type": "code",
   "execution_count": 20,
   "id": "10efa1f7",
   "metadata": {},
   "outputs": [
    {
     "data": {
      "text/plain": [
       "['12:53:31',\n",
       " '23:06:58',\n",
       " '20:39:36',\n",
       " '19:16:38',\n",
       " '06:45:45',\n",
       " '04:47:39',\n",
       " '18:40:42',\n",
       " '09:36:13',\n",
       " '09:06:01',\n",
       " '13:04:41',\n",
       " '12:30:00',\n",
       " '08:45:00',\n",
       " '12:00:00']"
      ]
     },
     "execution_count": 20,
     "metadata": {},
     "output_type": "execute_result"
    }
   ],
   "source": [
    "L2 = [formatear(*t) for t in horas]\n",
    "L2"
   ]
  },
  {
   "cell_type": "code",
   "execution_count": 21,
   "id": "a36f26cc",
   "metadata": {},
   "outputs": [
    {
     "name": "stdout",
     "output_type": "stream",
     "text": [
      "12 53 31\n",
      "23 6 58\n",
      "20 39 36\n",
      "19 16 38\n",
      "6 45 45\n",
      "4 47 39\n",
      "18 40 42\n",
      "9 36 13\n",
      "9 6 1\n",
      "13 4 41\n"
     ]
    },
    {
     "ename": "ValueError",
     "evalue": "not enough values to unpack (expected 3, got 2)",
     "output_type": "error",
     "traceback": [
      "\u001b[1;31m---------------------------------------------------------------------------\u001b[0m",
      "\u001b[1;31mValueError\u001b[0m                                Traceback (most recent call last)",
      "\u001b[1;32m<ipython-input-21-20d5a7470f6a>\u001b[0m in \u001b[0;36m<module>\u001b[1;34m\u001b[0m\n\u001b[1;32m----> 1\u001b[1;33m \u001b[1;32mfor\u001b[0m \u001b[0mh\u001b[0m\u001b[1;33m,\u001b[0m\u001b[0mm\u001b[0m\u001b[1;33m,\u001b[0m\u001b[0ms\u001b[0m \u001b[1;32min\u001b[0m \u001b[0mhoras\u001b[0m\u001b[1;33m:\u001b[0m\u001b[1;33m\u001b[0m\u001b[1;33m\u001b[0m\u001b[0m\n\u001b[0m\u001b[0;32m      2\u001b[0m     \u001b[0mprint\u001b[0m\u001b[1;33m(\u001b[0m\u001b[0mh\u001b[0m\u001b[1;33m,\u001b[0m\u001b[0mm\u001b[0m\u001b[1;33m,\u001b[0m\u001b[0ms\u001b[0m\u001b[1;33m)\u001b[0m\u001b[1;33m\u001b[0m\u001b[1;33m\u001b[0m\u001b[0m\n",
      "\u001b[1;31mValueError\u001b[0m: not enough values to unpack (expected 3, got 2)"
     ]
    }
   ],
   "source": [
    "for h,m,s in horas:\n",
    "    print(h,m,s)"
   ]
  },
  {
   "cell_type": "code",
   "execution_count": null,
   "id": "b92c45a9",
   "metadata": {},
   "outputs": [],
   "source": []
  }
 ],
 "metadata": {
  "kernelspec": {
   "display_name": "Python 3 (ipykernel)",
   "language": "python",
   "name": "python3"
  },
  "language_info": {
   "codemirror_mode": {
    "name": "ipython",
    "version": 3
   },
   "file_extension": ".py",
   "mimetype": "text/x-python",
   "name": "python",
   "nbconvert_exporter": "python",
   "pygments_lexer": "ipython3",
   "version": "3.8.5"
  }
 },
 "nbformat": 4,
 "nbformat_minor": 5
}

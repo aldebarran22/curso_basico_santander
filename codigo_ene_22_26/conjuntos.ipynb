{
 "cells": [
  {
   "cell_type": "markdown",
   "id": "84690434",
   "metadata": {},
   "source": [
    "## Conjuntos en Python"
   ]
  },
  {
   "cell_type": "markdown",
   "id": "0bee133f",
   "metadata": {},
   "source": [
    "Definición, conversión de colecciones, quitar repetidos, y operaciones con conjuntos"
   ]
  },
  {
   "cell_type": "code",
   "execution_count": 1,
   "id": "a72e5555",
   "metadata": {},
   "outputs": [
    {
     "name": "stdout",
     "output_type": "stream",
     "text": [
      "{1, 2, 3, 8, 9, 44} <class 'set'>\n"
     ]
    }
   ],
   "source": [
    "c1 = {1,2,3,44,44,44,8,8,9}\n",
    "print(c1, type(c1))"
   ]
  },
  {
   "cell_type": "code",
   "execution_count": 2,
   "id": "2735c2b0",
   "metadata": {},
   "outputs": [
    {
     "ename": "TypeError",
     "evalue": "'set' object is not subscriptable",
     "output_type": "error",
     "traceback": [
      "\u001b[1;31m---------------------------------------------------------------------------\u001b[0m",
      "\u001b[1;31mTypeError\u001b[0m                                 Traceback (most recent call last)",
      "\u001b[1;32m<ipython-input-2-50c5d02d1184>\u001b[0m in \u001b[0;36m<module>\u001b[1;34m\u001b[0m\n\u001b[1;32m----> 1\u001b[1;33m \u001b[0mc1\u001b[0m\u001b[1;33m[\u001b[0m\u001b[1;36m0\u001b[0m\u001b[1;33m]\u001b[0m\u001b[1;33m\u001b[0m\u001b[1;33m\u001b[0m\u001b[0m\n\u001b[0m",
      "\u001b[1;31mTypeError\u001b[0m: 'set' object is not subscriptable"
     ]
    }
   ],
   "source": [
    "c1[0]"
   ]
  },
  {
   "cell_type": "code",
   "execution_count": 3,
   "id": "d307a059",
   "metadata": {},
   "outputs": [
    {
     "name": "stdout",
     "output_type": "stream",
     "text": [
      "1\n",
      "2\n",
      "3\n",
      "8\n",
      "9\n",
      "44\n"
     ]
    }
   ],
   "source": [
    "for i in c1:\n",
    "    print(i)"
   ]
  },
  {
   "cell_type": "code",
   "execution_count": 5,
   "id": "e277749f",
   "metadata": {},
   "outputs": [
    {
     "data": {
      "text/plain": [
       "1"
      ]
     },
     "execution_count": 5,
     "metadata": {},
     "output_type": "execute_result"
    }
   ],
   "source": [
    "L = list(c1)\n",
    "L[0]"
   ]
  },
  {
   "cell_type": "code",
   "execution_count": 6,
   "id": "9b568ac6",
   "metadata": {},
   "outputs": [
    {
     "data": {
      "text/plain": [
       "{1, 2, 3, 4, 5, 6, 7}"
      ]
     },
     "execution_count": 6,
     "metadata": {},
     "output_type": "execute_result"
    }
   ],
   "source": [
    "L = [1,2,2,3,4,3,2,1,1,4,5,6,7,6,5,3,2]\n",
    "c2 = set(L)\n",
    "c2"
   ]
  },
  {
   "cell_type": "markdown",
   "id": "8caf06ae",
   "metadata": {},
   "source": [
    "Crear un histograma para obtener el número de repeticiones de cada valor"
   ]
  },
  {
   "cell_type": "code",
   "execution_count": null,
   "id": "f764e64f",
   "metadata": {},
   "outputs": [],
   "source": []
  }
 ],
 "metadata": {
  "kernelspec": {
   "display_name": "Python 3 (ipykernel)",
   "language": "python",
   "name": "python3"
  },
  "language_info": {
   "codemirror_mode": {
    "name": "ipython",
    "version": 3
   },
   "file_extension": ".py",
   "mimetype": "text/x-python",
   "name": "python",
   "nbconvert_exporter": "python",
   "pygments_lexer": "ipython3",
   "version": "3.8.5"
  }
 },
 "nbformat": 4,
 "nbformat_minor": 5
}

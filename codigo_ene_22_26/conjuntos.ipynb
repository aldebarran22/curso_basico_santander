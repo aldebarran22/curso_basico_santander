{
 "cells": [
  {
   "cell_type": "markdown",
   "id": "7c5fe3af",
   "metadata": {},
   "source": [
    "## Conjuntos en Python"
   ]
  },
  {
   "cell_type": "markdown",
   "id": "c1f524f8",
   "metadata": {},
   "source": [
    "Definición, conversión de colecciones, quitar repetidos, y operaciones con conjuntos"
   ]
  },
  {
   "cell_type": "code",
   "execution_count": 1,
   "id": "55ecb4c5",
   "metadata": {},
   "outputs": [
    {
     "name": "stdout",
     "output_type": "stream",
     "text": [
      "{1, 2, 3, 8, 9, 44} <class 'set'>\n"
     ]
    }
   ],
   "source": [
    "c1 = {1,2,3,44,44,44,8,8,9}\n",
    "print(c1, type(c1))"
   ]
  },
  {
   "cell_type": "code",
   "execution_count": 2,
   "id": "1095f5be",
   "metadata": {},
   "outputs": [
    {
     "ename": "TypeError",
     "evalue": "'set' object is not subscriptable",
     "output_type": "error",
     "traceback": [
      "\u001b[1;31m---------------------------------------------------------------------------\u001b[0m",
      "\u001b[1;31mTypeError\u001b[0m                                 Traceback (most recent call last)",
      "\u001b[1;32m<ipython-input-2-50c5d02d1184>\u001b[0m in \u001b[0;36m<module>\u001b[1;34m\u001b[0m\n\u001b[1;32m----> 1\u001b[1;33m \u001b[0mc1\u001b[0m\u001b[1;33m[\u001b[0m\u001b[1;36m0\u001b[0m\u001b[1;33m]\u001b[0m\u001b[1;33m\u001b[0m\u001b[1;33m\u001b[0m\u001b[0m\n\u001b[0m",
      "\u001b[1;31mTypeError\u001b[0m: 'set' object is not subscriptable"
     ]
    }
   ],
   "source": [
    "c1[0]"
   ]
  },
  {
   "cell_type": "code",
   "execution_count": 3,
   "id": "8cd122e9",
   "metadata": {},
   "outputs": [
    {
     "name": "stdout",
     "output_type": "stream",
     "text": [
      "1\n",
      "2\n",
      "3\n",
      "8\n",
      "9\n",
      "44\n"
     ]
    }
   ],
   "source": [
    "for i in c1:\n",
    "    print(i)"
   ]
  },
  {
   "cell_type": "code",
   "execution_count": 5,
   "id": "015e27a0",
   "metadata": {},
   "outputs": [
    {
     "data": {
      "text/plain": [
       "1"
      ]
     },
     "execution_count": 5,
     "metadata": {},
     "output_type": "execute_result"
    }
   ],
   "source": [
    "L = list(c1)\n",
    "L[0]"
   ]
  },
  {
   "cell_type": "code",
   "execution_count": 6,
   "id": "f3719811",
   "metadata": {},
   "outputs": [
    {
     "data": {
      "text/plain": [
       "{1, 2, 3, 4, 5, 6, 7}"
      ]
     },
     "execution_count": 6,
     "metadata": {},
     "output_type": "execute_result"
    }
   ],
   "source": [
    "L = [1,2,2,3,4,3,2,1,1,4,5,6,7,6,5,3,2]\n",
    "c2 = set(L)\n",
    "c2"
   ]
  },
  {
   "cell_type": "markdown",
   "id": "3a5dd8b7",
   "metadata": {},
   "source": [
    "Operaciones con conjuntos:\n",
    "Tenemos dos grupos de personas. Grupo1 a comer y grupo2 a cenar."
   ]
  },
  {
   "cell_type": "code",
   "execution_count": 7,
   "id": "1eaf304a",
   "metadata": {},
   "outputs": [],
   "source": [
    "grupo1 = [\"Ana\",\"Raquel\",\"Miguel\",\"Raúl\",\"Sonia\"]\n",
    "grupo2 = [\"Raquel\",\"Raúl\",\"José\",\"Juan\",\"Sandra\"]\n",
    "\n",
    "c1 = set(grupo1)\n",
    "c2 = set(grupo2)"
   ]
  },
  {
   "cell_type": "code",
   "execution_count": 9,
   "id": "94affc0a",
   "metadata": {},
   "outputs": [
    {
     "data": {
      "text/plain": [
       "{'Raquel', 'Raúl'}"
      ]
     },
     "execution_count": 9,
     "metadata": {},
     "output_type": "execute_result"
    }
   ],
   "source": [
    "# Quien va a comer y a cenar?\n",
    "c2 & c1"
   ]
  },
  {
   "cell_type": "code",
   "execution_count": null,
   "id": "ac38db10",
   "metadata": {},
   "outputs": [],
   "source": []
  }
 ],
 "metadata": {
  "kernelspec": {
   "display_name": "Python 3 (ipykernel)",
   "language": "python",
   "name": "python3"
  },
  "language_info": {
   "codemirror_mode": {
    "name": "ipython",
    "version": 3
   },
   "file_extension": ".py",
   "mimetype": "text/x-python",
   "name": "python",
   "nbconvert_exporter": "python",
   "pygments_lexer": "ipython3",
   "version": "3.8.5"
  }
 },
 "nbformat": 4,
 "nbformat_minor": 5
}

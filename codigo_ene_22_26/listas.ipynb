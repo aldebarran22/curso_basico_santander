{
 "cells": [
  {
   "cell_type": "markdown",
   "id": "c98825c4",
   "metadata": {},
   "source": [
    "## Listas en Python"
   ]
  },
  {
   "cell_type": "markdown",
   "id": "a1bee232",
   "metadata": {},
   "source": [
    "Definición de listas, acceso, índices, funciones, slicing, copia, métodos ..."
   ]
  },
  {
   "cell_type": "code",
   "execution_count": 5,
   "id": "abfcedc4",
   "metadata": {},
   "outputs": [
    {
     "data": {
      "text/plain": [
       "[1, 4, 5, 3, 2, 1, 2, 3, 6]"
      ]
     },
     "execution_count": 5,
     "metadata": {},
     "output_type": "execute_result"
    }
   ],
   "source": [
    "L = [1,4,5,3,2,1,2,3,6]\n",
    "L"
   ]
  },
  {
   "cell_type": "code",
   "execution_count": 6,
   "id": "0f024e05",
   "metadata": {},
   "outputs": [
    {
     "data": {
      "text/plain": [
       "['h', 'o', 'l', 'a', ' ', 'q', 'u', 'e', ' ', 't', 'a', 'l']"
      ]
     },
     "execution_count": 6,
     "metadata": {},
     "output_type": "execute_result"
    }
   ],
   "source": [
    "s = \"hola que tal\"\n",
    "L2 = list(s)\n",
    "L2"
   ]
  },
  {
   "cell_type": "code",
   "execution_count": 7,
   "id": "51fe0de0",
   "metadata": {},
   "outputs": [],
   "source": [
    "L[0] = 1000"
   ]
  },
  {
   "cell_type": "code",
   "execution_count": 8,
   "id": "2fb0d38f",
   "metadata": {},
   "outputs": [
    {
     "data": {
      "text/plain": [
       "[1000, 4, 5, 3, 2, 1, 2, 3, 6]"
      ]
     },
     "execution_count": 8,
     "metadata": {},
     "output_type": "execute_result"
    }
   ],
   "source": [
    "L"
   ]
  },
  {
   "cell_type": "code",
   "execution_count": 12,
   "id": "668a83c5",
   "metadata": {},
   "outputs": [
    {
     "name": "stdout",
     "output_type": "stream",
     "text": [
      "el primero:  1000 1000\n",
      "El último:  6 6\n"
     ]
    }
   ],
   "source": [
    "# índices negativos: funcionan en listas, tuplas y cadenas\n",
    "print('el primero: ', L[0], L[-9])\n",
    "print('El último: ', L[-1], L[8])"
   ]
  },
  {
   "cell_type": "code",
   "execution_count": 10,
   "id": "641ddbfb",
   "metadata": {},
   "outputs": [
    {
     "data": {
      "text/plain": [
       "['C:', 'mis documentos', 'libros', 'libro1.xlsx']"
      ]
     },
     "execution_count": 10,
     "metadata": {},
     "output_type": "execute_result"
    }
   ],
   "source": [
    "path = \"C:/mis documentos/libros/libro1.xlsx\"\n",
    "L3 = path.split('/') # divide la cadena por la /\n",
    "L3"
   ]
  },
  {
   "cell_type": "code",
   "execution_count": 11,
   "id": "0166cac9",
   "metadata": {},
   "outputs": [
    {
     "data": {
      "text/plain": [
       "'libro1.xlsx'"
      ]
     },
     "execution_count": 11,
     "metadata": {},
     "output_type": "execute_result"
    }
   ],
   "source": [
    "fichero = L3[-1]\n",
    "fichero"
   ]
  },
  {
   "cell_type": "code",
   "execution_count": 13,
   "id": "be6bdaea",
   "metadata": {},
   "outputs": [
    {
     "data": {
      "text/plain": [
       "[1000, 4, 5, 3, 2, 1, 2, 3, 6]"
      ]
     },
     "execution_count": 13,
     "metadata": {},
     "output_type": "execute_result"
    }
   ],
   "source": [
    "L"
   ]
  },
  {
   "cell_type": "code",
   "execution_count": 14,
   "id": "4ea553f8",
   "metadata": {},
   "outputs": [
    {
     "name": "stdout",
     "output_type": "stream",
     "text": [
      "suma: 1026\n",
      "minimo:  1\n",
      "maximo: 1000\n",
      "recuento:  9\n",
      "promedio:  114.0\n"
     ]
    }
   ],
   "source": [
    "print('suma:', sum(L))\n",
    "print('minimo: ', min(L))\n",
    "print('maximo:', max(L))\n",
    "print('recuento: ', len(L))\n",
    "print('promedio: ', sum(L)/len(L))"
   ]
  },
  {
   "cell_type": "code",
   "execution_count": 18,
   "id": "cedd8068",
   "metadata": {},
   "outputs": [
    {
     "data": {
      "text/plain": [
       "[1000, 4, 5, 3, 2, 1, 2, 3, 6]"
      ]
     },
     "execution_count": 18,
     "metadata": {},
     "output_type": "execute_result"
    }
   ],
   "source": [
    "L"
   ]
  },
  {
   "cell_type": "code",
   "execution_count": 24,
   "id": "2486c1c2",
   "metadata": {},
   "outputs": [
    {
     "name": "stdout",
     "output_type": "stream",
     "text": [
      "los 3 primeros:  [1000, 4, 5]\n",
      "los 3 primeros:  [1000, 4, 5]\n",
      "los 3 últimos:  [2, 3, 6]\n",
      "Quitar el primero y el último:  [4, 5, 3, 2, 1, 2, 3]\n",
      "toda la lista:  [1000, 4, 5, 3, 2, 1, 2, 3, 6]\n",
      "toda la lista de dos en dos:  [1000, 5, 2, 2, 6]\n",
      "invertir:  [6, 3, 2, 1, 2, 3, 5, 4, 1000]\n"
     ]
    }
   ],
   "source": [
    "# Slicing: L[ini:fin-1:salto]\n",
    "print('los 3 primeros: ', L[0:3])\n",
    "print('los 3 primeros: ', L[:3])\n",
    "print('los 3 últimos: ', L[-3:])\n",
    "print('Quitar el primero y el último: ', L[1:-1])\n",
    "print('toda la lista: ', L[:])\n",
    "print('toda la lista de dos en dos: ',L[::2])\n",
    "print('invertir: ', L[::-1])"
   ]
  },
  {
   "cell_type": "code",
   "execution_count": 25,
   "id": "81e5a5af",
   "metadata": {},
   "outputs": [
    {
     "data": {
      "text/plain": [
       "'aloh'"
      ]
     },
     "execution_count": 25,
     "metadata": {},
     "output_type": "execute_result"
    }
   ],
   "source": [
    "s = \"hola\"\n",
    "s[::-1]"
   ]
  },
  {
   "cell_type": "code",
   "execution_count": 28,
   "id": "e9461df3",
   "metadata": {},
   "outputs": [
    {
     "name": "stdout",
     "output_type": "stream",
     "text": [
      "es capicua\n"
     ]
    }
   ],
   "source": [
    "s = 1235321\n",
    "snum = str(s)\n",
    "if snum == snum[::-1]:\n",
    "    print('es capicua')\n",
    "else:\n",
    "    print('no es capicua')\n"
   ]
  },
  {
   "cell_type": "markdown",
   "id": "3ba2bf24",
   "metadata": {},
   "source": [
    "Copia de listas, funciona igual para diccionarios y conjuntos"
   ]
  },
  {
   "cell_type": "code",
   "execution_count": 30,
   "id": "077ab0f5",
   "metadata": {},
   "outputs": [
    {
     "name": "stdout",
     "output_type": "stream",
     "text": [
      "L1 [1000, 3, 4, 5, 6] 2307294120448\n",
      "L2 [1000, 3, 4, 5, 6] 2307294120448\n"
     ]
    }
   ],
   "source": [
    "# No crea una copia, crea una referencia\n",
    "L1 = [1,3,4,5,6]\n",
    "L2 = L1\n",
    "L1[0] = 1000\n",
    "print(\"L1\", L1, id(L1))\n",
    "print(\"L2\", L2, id(L2))"
   ]
  },
  {
   "cell_type": "code",
   "execution_count": 31,
   "id": "397f2d77",
   "metadata": {},
   "outputs": [
    {
     "name": "stdout",
     "output_type": "stream",
     "text": [
      "L1 [1000, 3, 4, 5, 6] 2307294080640\n",
      "L2 [1, 3, 4, 5, 6] 2307294121728\n"
     ]
    }
   ],
   "source": [
    "# Copia bien siempre y cuando los elementos de la lista sean inmutables\n",
    "L1 = [1,3,4,5,6]\n",
    "L2 = L1.copy()\n",
    "L1[0] = 1000\n",
    "print(\"L1\", L1, id(L1))\n",
    "print(\"L2\", L2, id(L2))"
   ]
  },
  {
   "cell_type": "code",
   "execution_count": 32,
   "id": "3350a387",
   "metadata": {},
   "outputs": [
    {
     "name": "stdout",
     "output_type": "stream",
     "text": [
      "L1 [1000, [3, 4], [5, 6]] 2307294177664\n",
      "L2 [[1], [3, 4], [5, 6]] 2307294134144\n"
     ]
    }
   ],
   "source": [
    "L1 = [[1],[3,4],[5,6]]\n",
    "L2 = L1.copy()\n",
    "L1[0] = 1000\n",
    "print(\"L1\", L1, id(L1))\n",
    "print(\"L2\", L2, id(L2))"
   ]
  },
  {
   "cell_type": "code",
   "execution_count": 34,
   "id": "77b305e2",
   "metadata": {},
   "outputs": [],
   "source": [
    "L1[-1][0] = 999"
   ]
  },
  {
   "cell_type": "code",
   "execution_count": 35,
   "id": "18b1f489",
   "metadata": {},
   "outputs": [
    {
     "name": "stdout",
     "output_type": "stream",
     "text": [
      "L1 [1000, [3, 4], [999, 6]] 2307294177664\n",
      "L2 [[1], [3, 4], [999, 6]] 2307294134144\n"
     ]
    }
   ],
   "source": [
    "print(\"L1\", L1, id(L1))\n",
    "print(\"L2\", L2, id(L2))"
   ]
  },
  {
   "cell_type": "code",
   "execution_count": null,
   "id": "1f75301a",
   "metadata": {},
   "outputs": [],
   "source": []
  }
 ],
 "metadata": {
  "kernelspec": {
   "display_name": "Python 3 (ipykernel)",
   "language": "python",
   "name": "python3"
  },
  "language_info": {
   "codemirror_mode": {
    "name": "ipython",
    "version": 3
   },
   "file_extension": ".py",
   "mimetype": "text/x-python",
   "name": "python",
   "nbconvert_exporter": "python",
   "pygments_lexer": "ipython3",
   "version": "3.8.5"
  }
 },
 "nbformat": 4,
 "nbformat_minor": 5
}

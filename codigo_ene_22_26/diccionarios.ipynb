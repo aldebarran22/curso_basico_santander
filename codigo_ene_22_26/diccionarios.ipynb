{
 "cells": [
  {
   "cell_type": "markdown",
   "id": "50b4d6a7",
   "metadata": {},
   "source": [
    "## Diccionarios en Python"
   ]
  },
  {
   "cell_type": "markdown",
   "id": "322d3ba9",
   "metadata": {},
   "source": [
    "Crear diccionarios, acceso, añadir elementos, funciones (zip), ..."
   ]
  },
  {
   "cell_type": "code",
   "execution_count": 1,
   "id": "239947d1",
   "metadata": {},
   "outputs": [
    {
     "name": "stdout",
     "output_type": "stream",
     "text": [
      "{'a': 1, 'b': 2, 'c': 3} <class 'dict'>\n"
     ]
    }
   ],
   "source": [
    "d = {\"a\":1, \"b\":2, \"c\":3}\n",
    "print(d, type(d))"
   ]
  },
  {
   "cell_type": "code",
   "execution_count": 2,
   "id": "c23980ea",
   "metadata": {},
   "outputs": [
    {
     "data": {
      "text/plain": [
       "1"
      ]
     },
     "execution_count": 2,
     "metadata": {},
     "output_type": "execute_result"
    }
   ],
   "source": [
    "d[\"a\"]"
   ]
  },
  {
   "cell_type": "code",
   "execution_count": 3,
   "id": "c815ffb7",
   "metadata": {},
   "outputs": [
    {
     "data": {
      "text/plain": [
       "{'a': 1, 'b': 2, 'c': 3, 'd': 4}"
      ]
     },
     "execution_count": 3,
     "metadata": {},
     "output_type": "execute_result"
    }
   ],
   "source": [
    "d[\"d\"] = 4\n",
    "d"
   ]
  },
  {
   "cell_type": "code",
   "execution_count": 5,
   "id": "1598e7d4",
   "metadata": {},
   "outputs": [
    {
     "name": "stdout",
     "output_type": "stream",
     "text": [
      "['id', 'nombre', 'cargo']\n",
      "['1', 'Davolio', 'Representante de ventas']\n"
     ]
    }
   ],
   "source": [
    "cab = \"id;nombre;cargo\"\n",
    "val = \"1;Davolio;Representante de ventas\"\n",
    "Lcab = cab.split(\";\")\n",
    "print(Lcab)\n",
    "Lval = val.split(\";\")\n",
    "print(Lval)"
   ]
  },
  {
   "cell_type": "code",
   "execution_count": 6,
   "id": "cd3884c2",
   "metadata": {},
   "outputs": [
    {
     "name": "stdout",
     "output_type": "stream",
     "text": [
      "('id', '1')\n",
      "('nombre', 'Davolio')\n",
      "('cargo', 'Representante de ventas')\n"
     ]
    }
   ],
   "source": [
    "for i in zip(Lcab, Lval):\n",
    "    print(i)"
   ]
  },
  {
   "cell_type": "code",
   "execution_count": 8,
   "id": "dc77d6fe",
   "metadata": {},
   "outputs": [
    {
     "data": {
      "text/plain": [
       "{'id': '1', 'nombre': 'Davolio', 'cargo': 'Representante de ventas'}"
      ]
     },
     "execution_count": 8,
     "metadata": {},
     "output_type": "execute_result"
    }
   ],
   "source": [
    "emp = dict(zip(Lcab, Lval))\n",
    "emp"
   ]
  },
  {
   "cell_type": "code",
   "execution_count": 9,
   "id": "0fef2203",
   "metadata": {},
   "outputs": [
    {
     "data": {
      "text/plain": [
       "'Davolio'"
      ]
     },
     "execution_count": 9,
     "metadata": {},
     "output_type": "execute_result"
    }
   ],
   "source": [
    "emp['nombre']"
   ]
  },
  {
   "cell_type": "code",
   "execution_count": null,
   "id": "d6e9cc73",
   "metadata": {},
   "outputs": [],
   "source": []
  }
 ],
 "metadata": {
  "kernelspec": {
   "display_name": "Python 3 (ipykernel)",
   "language": "python",
   "name": "python3"
  },
  "language_info": {
   "codemirror_mode": {
    "name": "ipython",
    "version": 3
   },
   "file_extension": ".py",
   "mimetype": "text/x-python",
   "name": "python",
   "nbconvert_exporter": "python",
   "pygments_lexer": "ipython3",
   "version": "3.8.5"
  }
 },
 "nbformat": 4,
 "nbformat_minor": 5
}

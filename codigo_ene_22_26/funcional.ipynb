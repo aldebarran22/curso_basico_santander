{
 "cells": [
  {
   "cell_type": "markdown",
   "id": "f7b64d90",
   "metadata": {},
   "source": [
    "## Programación funcional: iteradores: map, filter, reduce, list compr."
   ]
  },
  {
   "cell_type": "markdown",
   "id": "e2e28e60",
   "metadata": {},
   "source": [
    "Partimos de una lista de valores y aplicamos a cada valor una función. Los resultados se almacenan en otra lista."
   ]
  },
  {
   "cell_type": "code",
   "execution_count": 6,
   "id": "84b2f1c3",
   "metadata": {},
   "outputs": [],
   "source": [
    "def calcularIVA(precio, iva=21):\n",
    "    return round(precio * iva / 100.0, 2)"
   ]
  },
  {
   "cell_type": "code",
   "execution_count": 2,
   "id": "94265f7c",
   "metadata": {},
   "outputs": [
    {
     "data": {
      "text/plain": [
       "21.0"
      ]
     },
     "execution_count": 2,
     "metadata": {},
     "output_type": "execute_result"
    }
   ],
   "source": [
    "calcularIVA(100)"
   ]
  },
  {
   "cell_type": "code",
   "execution_count": 7,
   "id": "7188529b",
   "metadata": {},
   "outputs": [
    {
     "name": "stdout",
     "output_type": "stream",
     "text": [
      "[12, 200, 340, 56, 80]\n",
      "[2.52, 42.0, 71.4, 11.76, 16.8]\n"
     ]
    }
   ],
   "source": [
    "precios = [12, 200, 340, 56, 80]\n",
    "importe_iva = []\n",
    "for precio in precios:\n",
    "    iva = calcularIVA(precio)\n",
    "    importe_iva.append(iva)\n",
    "    \n",
    "print(precios)\n",
    "print(importe_iva)"
   ]
  },
  {
   "cell_type": "markdown",
   "id": "d4e74e9f",
   "metadata": {},
   "source": [
    "### map"
   ]
  },
  {
   "cell_type": "code",
   "execution_count": 8,
   "id": "27c5c2e2",
   "metadata": {},
   "outputs": [
    {
     "data": {
      "text/plain": [
       "[2.52, 42.0, 71.4, 11.76, 16.8]"
      ]
     },
     "execution_count": 8,
     "metadata": {},
     "output_type": "execute_result"
    }
   ],
   "source": [
    "importe_iva2 = list(map(calcularIVA, precios))\n",
    "importe_iva2"
   ]
  },
  {
   "cell_type": "code",
   "execution_count": 15,
   "id": "69fd4d51",
   "metadata": {},
   "outputs": [
    {
     "data": {
      "text/plain": [
       "[2.52, 42.0, 71.4, 11.76, 16.8]"
      ]
     },
     "execution_count": 15,
     "metadata": {},
     "output_type": "execute_result"
    }
   ],
   "source": [
    "# Lo mismo con list comprehesion\n",
    "importe_iva3 = [calcularIVA(i) for i in precios]\n",
    "importe_iva3"
   ]
  },
  {
   "cell_type": "code",
   "execution_count": 16,
   "id": "f2aa73f8",
   "metadata": {},
   "outputs": [
    {
     "data": {
      "text/plain": [
       "[2.52, 42.0, 71.4, 11.76, 16.8]"
      ]
     },
     "execution_count": 16,
     "metadata": {},
     "output_type": "execute_result"
    }
   ],
   "source": [
    "importe_iva4 = [round(i * 0.21,2) for i in precios]\n",
    "importe_iva4"
   ]
  },
  {
   "cell_type": "code",
   "execution_count": 17,
   "id": "7c23ad21",
   "metadata": {},
   "outputs": [
    {
     "data": {
      "text/plain": [
       "{12: 2.52, 200: 42.0, 340: 71.4, 56: 11.76, 80: 16.8}"
      ]
     },
     "execution_count": 17,
     "metadata": {},
     "output_type": "execute_result"
    }
   ],
   "source": [
    "d = {i:calcularIVA(i) for i in precios}\n",
    "d"
   ]
  },
  {
   "cell_type": "code",
   "execution_count": 18,
   "id": "cb3ba8f7",
   "metadata": {},
   "outputs": [
    {
     "data": {
      "text/plain": [
       "{2.52, 11.76, 16.8, 42.0, 71.4}"
      ]
     },
     "execution_count": 18,
     "metadata": {},
     "output_type": "execute_result"
    }
   ],
   "source": [
    "c = {calcularIVA(i) for i in precios}\n",
    "c"
   ]
  },
  {
   "cell_type": "code",
   "execution_count": 20,
   "id": "71eb1ee7",
   "metadata": {},
   "outputs": [],
   "source": [
    "L = [10248, 'WILMK' ,5,3,32.38,'Finlandia']"
   ]
  },
  {
   "cell_type": "code",
   "execution_count": 22,
   "id": "a2ba3d47",
   "metadata": {},
   "outputs": [
    {
     "data": {
      "text/plain": [
       "'10248;WILMK;5;3;32.38;Finlandia'"
      ]
     },
     "execution_count": 22,
     "metadata": {},
     "output_type": "execute_result"
    }
   ],
   "source": [
    "linea = \";\".join([str(i) for i in L])\n",
    "linea"
   ]
  },
  {
   "cell_type": "markdown",
   "id": "a1ed64f2",
   "metadata": {},
   "source": [
    "### filter"
   ]
  },
  {
   "cell_type": "code",
   "execution_count": 23,
   "id": "23bc8cd0",
   "metadata": {},
   "outputs": [],
   "source": [
    "def multiplo3(valor):\n",
    "    if valor % 3 == 0:\n",
    "        return True\n",
    "    else:\n",
    "        return False"
   ]
  },
  {
   "cell_type": "code",
   "execution_count": 24,
   "id": "f542c2c4",
   "metadata": {},
   "outputs": [
    {
     "data": {
      "text/plain": [
       "[33, 6, 33, 3, 0]"
      ]
     },
     "execution_count": 24,
     "metadata": {},
     "output_type": "execute_result"
    }
   ],
   "source": [
    "L = [33, 6, 23, 55, 11, 33, 3, 0]\n",
    "L2 = list(filter(multiplo3, L))\n",
    "L2"
   ]
  },
  {
   "cell_type": "code",
   "execution_count": 25,
   "id": "888b3cb8",
   "metadata": {},
   "outputs": [
    {
     "data": {
      "text/plain": [
       "[33, 6, 33, 3, 0]"
      ]
     },
     "execution_count": 25,
     "metadata": {},
     "output_type": "execute_result"
    }
   ],
   "source": [
    "L3 = [i for i in L if multiplo3(i)]\n",
    "L3"
   ]
  },
  {
   "cell_type": "code",
   "execution_count": null,
   "id": "28044b70",
   "metadata": {},
   "outputs": [],
   "source": []
  },
  {
   "cell_type": "code",
   "execution_count": null,
   "id": "d7b82477",
   "metadata": {},
   "outputs": [],
   "source": []
  },
  {
   "cell_type": "code",
   "execution_count": null,
   "id": "1ceea25f",
   "metadata": {},
   "outputs": [],
   "source": []
  },
  {
   "cell_type": "code",
   "execution_count": 11,
   "id": "67d9b3c4",
   "metadata": {},
   "outputs": [
    {
     "data": {
      "text/plain": [
       "'Z'"
      ]
     },
     "execution_count": 11,
     "metadata": {},
     "output_type": "execute_result"
    }
   ],
   "source": [
    "min(\"holaZ\")"
   ]
  },
  {
   "cell_type": "code",
   "execution_count": 13,
   "id": "c1b7c563",
   "metadata": {},
   "outputs": [
    {
     "data": {
      "text/plain": [
       "90"
      ]
     },
     "execution_count": 13,
     "metadata": {},
     "output_type": "execute_result"
    }
   ],
   "source": [
    "ord('Z')"
   ]
  },
  {
   "cell_type": "code",
   "execution_count": 14,
   "id": "2521c824",
   "metadata": {},
   "outputs": [
    {
     "data": {
      "text/plain": [
       "'Z'"
      ]
     },
     "execution_count": 14,
     "metadata": {},
     "output_type": "execute_result"
    }
   ],
   "source": [
    "chr(90)"
   ]
  },
  {
   "cell_type": "code",
   "execution_count": null,
   "id": "3a321009",
   "metadata": {},
   "outputs": [],
   "source": []
  }
 ],
 "metadata": {
  "kernelspec": {
   "display_name": "Python 3 (ipykernel)",
   "language": "python",
   "name": "python3"
  },
  "language_info": {
   "codemirror_mode": {
    "name": "ipython",
    "version": 3
   },
   "file_extension": ".py",
   "mimetype": "text/x-python",
   "name": "python",
   "nbconvert_exporter": "python",
   "pygments_lexer": "ipython3",
   "version": "3.8.5"
  }
 },
 "nbformat": 4,
 "nbformat_minor": 5
}

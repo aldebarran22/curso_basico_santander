{
 "cells": [
  {
   "cell_type": "markdown",
   "id": "db2d7671",
   "metadata": {},
   "source": [
    "## Programación funcional: iteradores: map, filter, reduce, list compr."
   ]
  },
  {
   "cell_type": "markdown",
   "id": "a9be346f",
   "metadata": {},
   "source": [
    "Partimos de una lista de valores y aplicamos a cada valor una función. Los resultados se almacenan en otra lista."
   ]
  },
  {
   "cell_type": "code",
   "execution_count": 6,
   "id": "6e9a6624",
   "metadata": {},
   "outputs": [],
   "source": [
    "def calcularIVA(precio, iva=21):\n",
    "    return round(precio * iva / 100.0, 2)"
   ]
  },
  {
   "cell_type": "code",
   "execution_count": 2,
   "id": "c58a0347",
   "metadata": {},
   "outputs": [
    {
     "data": {
      "text/plain": [
       "21.0"
      ]
     },
     "execution_count": 2,
     "metadata": {},
     "output_type": "execute_result"
    }
   ],
   "source": [
    "calcularIVA(100)"
   ]
  },
  {
   "cell_type": "code",
   "execution_count": 7,
   "id": "afbabf94",
   "metadata": {},
   "outputs": [
    {
     "name": "stdout",
     "output_type": "stream",
     "text": [
      "[12, 200, 340, 56, 80]\n",
      "[2.52, 42.0, 71.4, 11.76, 16.8]\n"
     ]
    }
   ],
   "source": [
    "precios = [12, 200, 340, 56, 80]\n",
    "importe_iva = []\n",
    "for precio in precios:\n",
    "    iva = calcularIVA(precio)\n",
    "    importe_iva.append(iva)\n",
    "    \n",
    "print(precios)\n",
    "print(importe_iva)"
   ]
  },
  {
   "cell_type": "code",
   "execution_count": 8,
   "id": "c4edc74a",
   "metadata": {},
   "outputs": [
    {
     "data": {
      "text/plain": [
       "[2.52, 42.0, 71.4, 11.76, 16.8]"
      ]
     },
     "execution_count": 8,
     "metadata": {},
     "output_type": "execute_result"
    }
   ],
   "source": [
    "importe_iva2 = list(map(calcularIVA, precios))\n",
    "importe_iva2"
   ]
  },
  {
   "cell_type": "code",
   "execution_count": 15,
   "id": "6f7df403",
   "metadata": {},
   "outputs": [
    {
     "data": {
      "text/plain": [
       "[2.52, 42.0, 71.4, 11.76, 16.8]"
      ]
     },
     "execution_count": 15,
     "metadata": {},
     "output_type": "execute_result"
    }
   ],
   "source": [
    "# Lo mismo con list comprehesion\n",
    "importe_iva3 = [calcularIVA(i) for i in precios]\n",
    "importe_iva3"
   ]
  },
  {
   "cell_type": "code",
   "execution_count": 16,
   "id": "91d773d1",
   "metadata": {},
   "outputs": [
    {
     "data": {
      "text/plain": [
       "[2.52, 42.0, 71.4, 11.76, 16.8]"
      ]
     },
     "execution_count": 16,
     "metadata": {},
     "output_type": "execute_result"
    }
   ],
   "source": [
    "importe_iva4 = [round(i * 0.21,2) for i in precios]\n",
    "importe_iva4"
   ]
  },
  {
   "cell_type": "code",
   "execution_count": 17,
   "id": "ddd99bad",
   "metadata": {},
   "outputs": [
    {
     "data": {
      "text/plain": [
       "{12: 2.52, 200: 42.0, 340: 71.4, 56: 11.76, 80: 16.8}"
      ]
     },
     "execution_count": 17,
     "metadata": {},
     "output_type": "execute_result"
    }
   ],
   "source": [
    "d = {i:calcularIVA(i) for i in precios}\n",
    "d"
   ]
  },
  {
   "cell_type": "code",
   "execution_count": 18,
   "id": "9d363a2e",
   "metadata": {},
   "outputs": [
    {
     "data": {
      "text/plain": [
       "{2.52, 11.76, 16.8, 42.0, 71.4}"
      ]
     },
     "execution_count": 18,
     "metadata": {},
     "output_type": "execute_result"
    }
   ],
   "source": [
    "c = {calcularIVA(i) for i in precios}\n",
    "c"
   ]
  },
  {
   "cell_type": "code",
   "execution_count": 20,
   "id": "4080e509",
   "metadata": {},
   "outputs": [],
   "source": [
    "L = [10248, 'WILMK' ,5,3,32.38,'Finlandia']"
   ]
  },
  {
   "cell_type": "code",
   "execution_count": 22,
   "id": "8c0e19c1",
   "metadata": {},
   "outputs": [
    {
     "data": {
      "text/plain": [
       "'10248;WILMK;5;3;32.38;Finlandia'"
      ]
     },
     "execution_count": 22,
     "metadata": {},
     "output_type": "execute_result"
    }
   ],
   "source": [
    "linea = \";\".join([str(i) for i in L])\n",
    "linea"
   ]
  },
  {
   "cell_type": "code",
   "execution_count": null,
   "id": "1d61bfbb",
   "metadata": {},
   "outputs": [],
   "source": []
  },
  {
   "cell_type": "code",
   "execution_count": 11,
   "id": "7a87a08b",
   "metadata": {},
   "outputs": [
    {
     "data": {
      "text/plain": [
       "'Z'"
      ]
     },
     "execution_count": 11,
     "metadata": {},
     "output_type": "execute_result"
    }
   ],
   "source": [
    "min(\"holaZ\")"
   ]
  },
  {
   "cell_type": "code",
   "execution_count": 13,
   "id": "c6e1390e",
   "metadata": {},
   "outputs": [
    {
     "data": {
      "text/plain": [
       "90"
      ]
     },
     "execution_count": 13,
     "metadata": {},
     "output_type": "execute_result"
    }
   ],
   "source": [
    "ord('Z')"
   ]
  },
  {
   "cell_type": "code",
   "execution_count": 14,
   "id": "62f86a5d",
   "metadata": {},
   "outputs": [
    {
     "data": {
      "text/plain": [
       "'Z'"
      ]
     },
     "execution_count": 14,
     "metadata": {},
     "output_type": "execute_result"
    }
   ],
   "source": [
    "chr(90)"
   ]
  },
  {
   "cell_type": "code",
   "execution_count": null,
   "id": "93acaa32",
   "metadata": {},
   "outputs": [],
   "source": []
  }
 ],
 "metadata": {
  "kernelspec": {
   "display_name": "Python 3 (ipykernel)",
   "language": "python",
   "name": "python3"
  },
  "language_info": {
   "codemirror_mode": {
    "name": "ipython",
    "version": 3
   },
   "file_extension": ".py",
   "mimetype": "text/x-python",
   "name": "python",
   "nbconvert_exporter": "python",
   "pygments_lexer": "ipython3",
   "version": "3.8.5"
  }
 },
 "nbformat": 4,
 "nbformat_minor": 5
}

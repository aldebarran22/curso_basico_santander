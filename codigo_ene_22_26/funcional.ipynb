{
 "cells": [
  {
   "cell_type": "markdown",
   "id": "c09b7919",
   "metadata": {},
   "source": [
    "## Programación funcional: iteradores: map, filter, reduce, list compr."
   ]
  },
  {
   "cell_type": "markdown",
   "id": "4c421c0a",
   "metadata": {},
   "source": [
    "Partimos de una lista de valores y aplicamos a cada valor una función. Los resultados se almacenan en otra lista."
   ]
  },
  {
   "cell_type": "code",
   "execution_count": 6,
   "id": "e93900a7",
   "metadata": {},
   "outputs": [],
   "source": [
    "def calcularIVA(precio, iva=21):\n",
    "    return round(precio * iva / 100.0, 2)"
   ]
  },
  {
   "cell_type": "code",
   "execution_count": 2,
   "id": "19bce079",
   "metadata": {},
   "outputs": [
    {
     "data": {
      "text/plain": [
       "21.0"
      ]
     },
     "execution_count": 2,
     "metadata": {},
     "output_type": "execute_result"
    }
   ],
   "source": [
    "calcularIVA(100)"
   ]
  },
  {
   "cell_type": "code",
   "execution_count": 7,
   "id": "22bc465f",
   "metadata": {},
   "outputs": [
    {
     "name": "stdout",
     "output_type": "stream",
     "text": [
      "[12, 200, 340, 56, 80]\n",
      "[2.52, 42.0, 71.4, 11.76, 16.8]\n"
     ]
    }
   ],
   "source": [
    "precios = [12, 200, 340, 56, 80]\n",
    "importe_iva = []\n",
    "for precio in precios:\n",
    "    iva = calcularIVA(precio)\n",
    "    importe_iva.append(iva)\n",
    "    \n",
    "print(precios)\n",
    "print(importe_iva)"
   ]
  },
  {
   "cell_type": "code",
   "execution_count": 8,
   "id": "e59d7fc9",
   "metadata": {},
   "outputs": [
    {
     "data": {
      "text/plain": [
       "[2.52, 42.0, 71.4, 11.76, 16.8]"
      ]
     },
     "execution_count": 8,
     "metadata": {},
     "output_type": "execute_result"
    }
   ],
   "source": [
    "importe_iva2 = list(map(calcularIVA, precios))\n",
    "importe_iva2"
   ]
  },
  {
   "cell_type": "code",
   "execution_count": 15,
   "id": "55373cfd",
   "metadata": {},
   "outputs": [
    {
     "data": {
      "text/plain": [
       "[2.52, 42.0, 71.4, 11.76, 16.8]"
      ]
     },
     "execution_count": 15,
     "metadata": {},
     "output_type": "execute_result"
    }
   ],
   "source": [
    "# Lo mismo con list comprehesion\n",
    "importe_iva3 = [calcularIVA(i) for i in precios]\n",
    "importe_iva3"
   ]
  },
  {
   "cell_type": "code",
   "execution_count": 16,
   "id": "2d03f229",
   "metadata": {},
   "outputs": [
    {
     "data": {
      "text/plain": [
       "[2.52, 42.0, 71.4, 11.76, 16.8]"
      ]
     },
     "execution_count": 16,
     "metadata": {},
     "output_type": "execute_result"
    }
   ],
   "source": [
    "importe_iva4 = [round(i * 0.21,2) for i in precios]\n",
    "importe_iva4"
   ]
  },
  {
   "cell_type": "code",
   "execution_count": 17,
   "id": "2fe7c6a4",
   "metadata": {},
   "outputs": [
    {
     "data": {
      "text/plain": [
       "{12: 2.52, 200: 42.0, 340: 71.4, 56: 11.76, 80: 16.8}"
      ]
     },
     "execution_count": 17,
     "metadata": {},
     "output_type": "execute_result"
    }
   ],
   "source": [
    "d = {i:calcularIVA(i) for i in precios}\n",
    "d"
   ]
  },
  {
   "cell_type": "code",
   "execution_count": 18,
   "id": "fb4eecec",
   "metadata": {},
   "outputs": [
    {
     "data": {
      "text/plain": [
       "{2.52, 11.76, 16.8, 42.0, 71.4}"
      ]
     },
     "execution_count": 18,
     "metadata": {},
     "output_type": "execute_result"
    }
   ],
   "source": [
    "c = {calcularIVA(i) for i in precios}\n",
    "c"
   ]
  },
  {
   "cell_type": "code",
   "execution_count": 11,
   "id": "4a85c7d9",
   "metadata": {},
   "outputs": [
    {
     "data": {
      "text/plain": [
       "'Z'"
      ]
     },
     "execution_count": 11,
     "metadata": {},
     "output_type": "execute_result"
    }
   ],
   "source": [
    "min(\"holaZ\")"
   ]
  },
  {
   "cell_type": "code",
   "execution_count": 13,
   "id": "27fec814",
   "metadata": {},
   "outputs": [
    {
     "data": {
      "text/plain": [
       "90"
      ]
     },
     "execution_count": 13,
     "metadata": {},
     "output_type": "execute_result"
    }
   ],
   "source": [
    "ord('Z')"
   ]
  },
  {
   "cell_type": "code",
   "execution_count": 14,
   "id": "804addcc",
   "metadata": {},
   "outputs": [
    {
     "data": {
      "text/plain": [
       "'Z'"
      ]
     },
     "execution_count": 14,
     "metadata": {},
     "output_type": "execute_result"
    }
   ],
   "source": [
    "chr(90)"
   ]
  },
  {
   "cell_type": "code",
   "execution_count": null,
   "id": "3953c541",
   "metadata": {},
   "outputs": [],
   "source": []
  }
 ],
 "metadata": {
  "kernelspec": {
   "display_name": "Python 3 (ipykernel)",
   "language": "python",
   "name": "python3"
  },
  "language_info": {
   "codemirror_mode": {
    "name": "ipython",
    "version": 3
   },
   "file_extension": ".py",
   "mimetype": "text/x-python",
   "name": "python",
   "nbconvert_exporter": "python",
   "pygments_lexer": "ipython3",
   "version": "3.8.5"
  }
 },
 "nbformat": 4,
 "nbformat_minor": 5
}

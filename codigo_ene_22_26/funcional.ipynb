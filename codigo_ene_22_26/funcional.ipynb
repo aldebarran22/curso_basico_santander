{
 "cells": [
  {
   "cell_type": "markdown",
   "id": "ea934c8d",
   "metadata": {},
   "source": [
    "## Programación funcional: iteradores: map, filter, reduce, list compr."
   ]
  },
  {
   "cell_type": "markdown",
   "id": "6bb15c28",
   "metadata": {},
   "source": [
    "Partimos de una lista de valores y aplicamos a cada valor una función. Los resultados se almacenan en otra lista."
   ]
  },
  {
   "cell_type": "code",
   "execution_count": 6,
   "id": "9eb8a57a",
   "metadata": {},
   "outputs": [],
   "source": [
    "def calcularIVA(precio, iva=21):\n",
    "    return round(precio * iva / 100.0, 2)"
   ]
  },
  {
   "cell_type": "code",
   "execution_count": 2,
   "id": "8f6f6625",
   "metadata": {},
   "outputs": [
    {
     "data": {
      "text/plain": [
       "21.0"
      ]
     },
     "execution_count": 2,
     "metadata": {},
     "output_type": "execute_result"
    }
   ],
   "source": [
    "calcularIVA(100)"
   ]
  },
  {
   "cell_type": "code",
   "execution_count": 7,
   "id": "0f14796a",
   "metadata": {},
   "outputs": [
    {
     "name": "stdout",
     "output_type": "stream",
     "text": [
      "[12, 200, 340, 56, 80]\n",
      "[2.52, 42.0, 71.4, 11.76, 16.8]\n"
     ]
    }
   ],
   "source": [
    "precios = [12, 200, 340, 56, 80]\n",
    "importe_iva = []\n",
    "for precio in precios:\n",
    "    iva = calcularIVA(precio)\n",
    "    importe_iva.append(iva)\n",
    "    \n",
    "print(precios)\n",
    "print(importe_iva)"
   ]
  },
  {
   "cell_type": "markdown",
   "id": "a7976bb6",
   "metadata": {},
   "source": [
    "### map"
   ]
  },
  {
   "cell_type": "code",
   "execution_count": 8,
   "id": "52027f95",
   "metadata": {},
   "outputs": [
    {
     "data": {
      "text/plain": [
       "[2.52, 42.0, 71.4, 11.76, 16.8]"
      ]
     },
     "execution_count": 8,
     "metadata": {},
     "output_type": "execute_result"
    }
   ],
   "source": [
    "importe_iva2 = list(map(calcularIVA, precios))\n",
    "importe_iva2"
   ]
  },
  {
   "cell_type": "code",
   "execution_count": 15,
   "id": "040e7385",
   "metadata": {},
   "outputs": [
    {
     "data": {
      "text/plain": [
       "[2.52, 42.0, 71.4, 11.76, 16.8]"
      ]
     },
     "execution_count": 15,
     "metadata": {},
     "output_type": "execute_result"
    }
   ],
   "source": [
    "# Lo mismo con list comprehesion\n",
    "importe_iva3 = [calcularIVA(i) for i in precios]\n",
    "importe_iva3"
   ]
  },
  {
   "cell_type": "code",
   "execution_count": 16,
   "id": "33127832",
   "metadata": {},
   "outputs": [
    {
     "data": {
      "text/plain": [
       "[2.52, 42.0, 71.4, 11.76, 16.8]"
      ]
     },
     "execution_count": 16,
     "metadata": {},
     "output_type": "execute_result"
    }
   ],
   "source": [
    "importe_iva4 = [round(i * 0.21,2) for i in precios]\n",
    "importe_iva4"
   ]
  },
  {
   "cell_type": "code",
   "execution_count": 17,
   "id": "9c11f375",
   "metadata": {},
   "outputs": [
    {
     "data": {
      "text/plain": [
       "{12: 2.52, 200: 42.0, 340: 71.4, 56: 11.76, 80: 16.8}"
      ]
     },
     "execution_count": 17,
     "metadata": {},
     "output_type": "execute_result"
    }
   ],
   "source": [
    "d = {i:calcularIVA(i) for i in precios}\n",
    "d"
   ]
  },
  {
   "cell_type": "code",
   "execution_count": 18,
   "id": "63cc1dde",
   "metadata": {},
   "outputs": [
    {
     "data": {
      "text/plain": [
       "{2.52, 11.76, 16.8, 42.0, 71.4}"
      ]
     },
     "execution_count": 18,
     "metadata": {},
     "output_type": "execute_result"
    }
   ],
   "source": [
    "c = {calcularIVA(i) for i in precios}\n",
    "c"
   ]
  },
  {
   "cell_type": "code",
   "execution_count": 20,
   "id": "c8fa55cb",
   "metadata": {},
   "outputs": [],
   "source": [
    "L = [10248, 'WILMK' ,5,3,32.38,'Finlandia']"
   ]
  },
  {
   "cell_type": "code",
   "execution_count": 22,
   "id": "54dc9117",
   "metadata": {},
   "outputs": [
    {
     "data": {
      "text/plain": [
       "'10248;WILMK;5;3;32.38;Finlandia'"
      ]
     },
     "execution_count": 22,
     "metadata": {},
     "output_type": "execute_result"
    }
   ],
   "source": [
    "linea = \";\".join([str(i) for i in L])\n",
    "linea"
   ]
  },
  {
   "cell_type": "markdown",
   "id": "267b10ec",
   "metadata": {},
   "source": [
    "### filter"
   ]
  },
  {
   "cell_type": "code",
   "execution_count": 23,
   "id": "76f90627",
   "metadata": {},
   "outputs": [],
   "source": [
    "def multiplo3(valor):\n",
    "    if valor % 3 == 0:\n",
    "        return True\n",
    "    else:\n",
    "        return False"
   ]
  },
  {
   "cell_type": "code",
   "execution_count": 24,
   "id": "20f23627",
   "metadata": {},
   "outputs": [
    {
     "data": {
      "text/plain": [
       "[33, 6, 33, 3, 0]"
      ]
     },
     "execution_count": 24,
     "metadata": {},
     "output_type": "execute_result"
    }
   ],
   "source": [
    "L = [33, 6, 23, 55, 11, 33, 3, 0]\n",
    "L2 = list(filter(multiplo3, L))\n",
    "L2"
   ]
  },
  {
   "cell_type": "code",
   "execution_count": 25,
   "id": "40db21f5",
   "metadata": {},
   "outputs": [
    {
     "data": {
      "text/plain": [
       "[33, 6, 33, 3, 0]"
      ]
     },
     "execution_count": 25,
     "metadata": {},
     "output_type": "execute_result"
    }
   ],
   "source": [
    "L3 = [i for i in L if multiplo3(i)]\n",
    "L3"
   ]
  },
  {
   "cell_type": "markdown",
   "id": "110a422a",
   "metadata": {},
   "source": [
    "### List compre."
   ]
  },
  {
   "cell_type": "markdown",
   "id": "fec2b4db",
   "metadata": {},
   "source": [
    "Generar las 10 tablas de multiplicar en tuplas: (1,1,1),(1,2,2) … (10,1,10),…(10,10,100)"
   ]
  },
  {
   "cell_type": "code",
   "execution_count": 29,
   "id": "46b3bad2",
   "metadata": {},
   "outputs": [
    {
     "data": {
      "text/plain": [
       "[(1, 1, 1),\n",
       " (1, 2, 2),\n",
       " (1, 3, 3),\n",
       " (1, 4, 4),\n",
       " (1, 5, 5),\n",
       " (1, 6, 6),\n",
       " (1, 7, 7),\n",
       " (1, 8, 8),\n",
       " (1, 9, 9),\n",
       " (1, 10, 10)]"
      ]
     },
     "execution_count": 29,
     "metadata": {},
     "output_type": "execute_result"
    }
   ],
   "source": [
    "L = [(i, j, i*j) for i in range(1,11) for j in range(1,11)]\n",
    "L[:10]"
   ]
  },
  {
   "cell_type": "code",
   "execution_count": 30,
   "id": "cfa86abb",
   "metadata": {},
   "outputs": [
    {
     "data": {
      "text/plain": [
       "(1, 2, 4, 8, 16, 32, 64, 128, 256, 512, 1024)"
      ]
     },
     "execution_count": 30,
     "metadata": {},
     "output_type": "execute_result"
    }
   ],
   "source": [
    "t = tuple([2**i for i in range(11)])\n",
    "t"
   ]
  },
  {
   "cell_type": "code",
   "execution_count": 31,
   "id": "148c359a",
   "metadata": {},
   "outputs": [
    {
     "data": {
      "text/plain": [
       "<generator object <genexpr> at 0x000002AE86DF3040>"
      ]
     },
     "execution_count": 31,
     "metadata": {},
     "output_type": "execute_result"
    }
   ],
   "source": [
    "t2 = (2**i for i in range(11))\n",
    "t2"
   ]
  },
  {
   "cell_type": "code",
   "execution_count": null,
   "id": "d79f1f64",
   "metadata": {},
   "outputs": [],
   "source": []
  },
  {
   "cell_type": "code",
   "execution_count": 11,
   "id": "07aaeb27",
   "metadata": {},
   "outputs": [
    {
     "data": {
      "text/plain": [
       "'Z'"
      ]
     },
     "execution_count": 11,
     "metadata": {},
     "output_type": "execute_result"
    }
   ],
   "source": [
    "min(\"holaZ\")"
   ]
  },
  {
   "cell_type": "code",
   "execution_count": 13,
   "id": "7b10f803",
   "metadata": {},
   "outputs": [
    {
     "data": {
      "text/plain": [
       "90"
      ]
     },
     "execution_count": 13,
     "metadata": {},
     "output_type": "execute_result"
    }
   ],
   "source": [
    "ord('Z')"
   ]
  },
  {
   "cell_type": "code",
   "execution_count": 14,
   "id": "f081f0c8",
   "metadata": {},
   "outputs": [
    {
     "data": {
      "text/plain": [
       "'Z'"
      ]
     },
     "execution_count": 14,
     "metadata": {},
     "output_type": "execute_result"
    }
   ],
   "source": [
    "chr(90)"
   ]
  },
  {
   "cell_type": "code",
   "execution_count": null,
   "id": "377a6182",
   "metadata": {},
   "outputs": [],
   "source": []
  }
 ],
 "metadata": {
  "kernelspec": {
   "display_name": "Python 3 (ipykernel)",
   "language": "python",
   "name": "python3"
  },
  "language_info": {
   "codemirror_mode": {
    "name": "ipython",
    "version": 3
   },
   "file_extension": ".py",
   "mimetype": "text/x-python",
   "name": "python",
   "nbconvert_exporter": "python",
   "pygments_lexer": "ipython3",
   "version": "3.8.5"
  }
 },
 "nbformat": 4,
 "nbformat_minor": 5
}

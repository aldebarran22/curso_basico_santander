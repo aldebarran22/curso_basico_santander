{
 "cells": [
  {
   "cell_type": "markdown",
   "id": "d5448843",
   "metadata": {},
   "source": [
    "## Programación funcional: iteradores: map, filter, reduce, list compr."
   ]
  },
  {
   "cell_type": "markdown",
   "id": "70de2dc6",
   "metadata": {},
   "source": [
    "Partimos de una lista de valores y aplicamos a cada valor una función. Los resultados se almacenan en otra lista."
   ]
  },
  {
   "cell_type": "code",
   "execution_count": 6,
   "id": "16382e4f",
   "metadata": {},
   "outputs": [],
   "source": [
    "def calcularIVA(precio, iva=21):\n",
    "    return round(precio * iva / 100.0, 2)"
   ]
  },
  {
   "cell_type": "code",
   "execution_count": 2,
   "id": "6f94ea53",
   "metadata": {},
   "outputs": [
    {
     "data": {
      "text/plain": [
       "21.0"
      ]
     },
     "execution_count": 2,
     "metadata": {},
     "output_type": "execute_result"
    }
   ],
   "source": [
    "calcularIVA(100)"
   ]
  },
  {
   "cell_type": "code",
   "execution_count": 7,
   "id": "96204c06",
   "metadata": {},
   "outputs": [
    {
     "name": "stdout",
     "output_type": "stream",
     "text": [
      "[12, 200, 340, 56, 80]\n",
      "[2.52, 42.0, 71.4, 11.76, 16.8]\n"
     ]
    }
   ],
   "source": [
    "precios = [12, 200, 340, 56, 80]\n",
    "importe_iva = []\n",
    "for precio in precios:\n",
    "    iva = calcularIVA(precio)\n",
    "    importe_iva.append(iva)\n",
    "    \n",
    "print(precios)\n",
    "print(importe_iva)"
   ]
  },
  {
   "cell_type": "code",
   "execution_count": null,
   "id": "b7996148",
   "metadata": {},
   "outputs": [],
   "source": []
  }
 ],
 "metadata": {
  "kernelspec": {
   "display_name": "Python 3 (ipykernel)",
   "language": "python",
   "name": "python3"
  },
  "language_info": {
   "codemirror_mode": {
    "name": "ipython",
    "version": 3
   },
   "file_extension": ".py",
   "mimetype": "text/x-python",
   "name": "python",
   "nbconvert_exporter": "python",
   "pygments_lexer": "ipython3",
   "version": "3.8.5"
  }
 },
 "nbformat": 4,
 "nbformat_minor": 5
}

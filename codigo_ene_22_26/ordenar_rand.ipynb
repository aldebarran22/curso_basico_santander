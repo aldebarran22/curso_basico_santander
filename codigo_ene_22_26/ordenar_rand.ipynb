{
 "cells": [
  {
   "cell_type": "markdown",
   "id": "3a55f7ec",
   "metadata": {},
   "source": [
    "### Generar una lista de tuplas con números aleatorios y formatear"
   ]
  },
  {
   "cell_type": "markdown",
   "id": "fc43fd02",
   "metadata": {},
   "source": [
    "(12, 4, 5) -> 12:04:05"
   ]
  },
  {
   "cell_type": "code",
   "execution_count": 14,
   "id": "76d27041",
   "metadata": {},
   "outputs": [],
   "source": [
    "from random import randint"
   ]
  },
  {
   "cell_type": "code",
   "execution_count": 10,
   "id": "46231530",
   "metadata": {},
   "outputs": [],
   "source": [
    "def formatear(h=0, m=0, s=0):\n",
    "    return \"%02d:%02d:%02d\" % (h,m,s)"
   ]
  },
  {
   "cell_type": "code",
   "execution_count": 13,
   "id": "60a8c717",
   "metadata": {},
   "outputs": [
    {
     "data": {
      "text/plain": [
       "'12:04:05'"
      ]
     },
     "execution_count": 13,
     "metadata": {},
     "output_type": "execute_result"
    }
   ],
   "source": [
    "t = (12,4,5)\n",
    "formatear(*t)"
   ]
  },
  {
   "cell_type": "code",
   "execution_count": 15,
   "id": "5bfec4a0",
   "metadata": {},
   "outputs": [
    {
     "data": {
      "text/plain": [
       "[(11, 4, 53),\n",
       " (7, 14, 22),\n",
       " (1, 20, 16),\n",
       " (2, 16, 55),\n",
       " (15, 51, 59),\n",
       " (11, 16, 59),\n",
       " (7, 46, 23),\n",
       " (0, 11, 38),\n",
       " (18, 41, 35),\n",
       " (23, 56, 57)]"
      ]
     },
     "execution_count": 15,
     "metadata": {},
     "output_type": "execute_result"
    }
   ],
   "source": [
    "horas = [(randint(0,23), randint(0,59), randint(0,59)) for i in range(10)]\n",
    "horas"
   ]
  },
  {
   "cell_type": "code",
   "execution_count": null,
   "id": "0b937561",
   "metadata": {},
   "outputs": [],
   "source": []
  }
 ],
 "metadata": {
  "kernelspec": {
   "display_name": "Python 3 (ipykernel)",
   "language": "python",
   "name": "python3"
  },
  "language_info": {
   "codemirror_mode": {
    "name": "ipython",
    "version": 3
   },
   "file_extension": ".py",
   "mimetype": "text/x-python",
   "name": "python",
   "nbconvert_exporter": "python",
   "pygments_lexer": "ipython3",
   "version": "3.8.5"
  }
 },
 "nbformat": 4,
 "nbformat_minor": 5
}

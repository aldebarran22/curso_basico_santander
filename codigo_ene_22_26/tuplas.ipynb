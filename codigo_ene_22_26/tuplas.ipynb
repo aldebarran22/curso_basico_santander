{
 "cells": [
  {
   "cell_type": "markdown",
   "id": "32030761",
   "metadata": {},
   "source": [
    "## Tuplas en Python"
   ]
  },
  {
   "cell_type": "markdown",
   "id": "67eebe6c",
   "metadata": {},
   "source": [
    "Tuplas se utilizan:\n",
    "- Paso de parámetros a una función\n",
    "- Intercambio de variables\n",
    "- Inicialización múltiple\n",
    "- Resultados de consultas a la BD."
   ]
  },
  {
   "cell_type": "code",
   "execution_count": 1,
   "id": "856e6d22",
   "metadata": {},
   "outputs": [
    {
     "name": "stdout",
     "output_type": "stream",
     "text": [
      "1\n",
      "2\n"
     ]
    }
   ],
   "source": [
    "# Inicialización múltiple\n",
    "a,b = 1,2\n",
    "print(a)\n",
    "print(b)"
   ]
  },
  {
   "cell_type": "code",
   "execution_count": null,
   "id": "568abce6",
   "metadata": {},
   "outputs": [],
   "source": [
    "# Definición de tuplas:\n",
    "t = (1,2,3,5,6)\n",
    "t2 = 4,5,6,7,8,9\n",
    "print(t, type(t))\n",
    "print(t2, type(t2))"
   ]
  }
 ],
 "metadata": {
  "kernelspec": {
   "display_name": "Python 3 (ipykernel)",
   "language": "python",
   "name": "python3"
  },
  "language_info": {
   "codemirror_mode": {
    "name": "ipython",
    "version": 3
   },
   "file_extension": ".py",
   "mimetype": "text/x-python",
   "name": "python",
   "nbconvert_exporter": "python",
   "pygments_lexer": "ipython3",
   "version": "3.8.5"
  }
 },
 "nbformat": 4,
 "nbformat_minor": 5
}

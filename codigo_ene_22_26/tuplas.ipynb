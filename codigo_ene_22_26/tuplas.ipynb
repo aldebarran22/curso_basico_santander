{
 "cells": [
  {
   "cell_type": "markdown",
   "id": "ccead696",
   "metadata": {},
   "source": [
    "## Tuplas en Python"
   ]
  },
  {
   "cell_type": "markdown",
   "id": "68f737ab",
   "metadata": {},
   "source": [
    "Tuplas se utilizan:\n",
    "- Paso de parámetros a una función\n",
    "- Intercambio de variables\n",
    "- Inicialización múltiple\n",
    "- Expansión de tuplas\n",
    "- Resultados de consultas a la BD.\n",
    "- Sentencias SQL parametrizadas: select * from clientes where pais=?, ('Suiza',)"
   ]
  },
  {
   "cell_type": "code",
   "execution_count": 1,
   "id": "e7b9f607",
   "metadata": {},
   "outputs": [
    {
     "name": "stdout",
     "output_type": "stream",
     "text": [
      "1\n",
      "2\n"
     ]
    }
   ],
   "source": [
    "# Inicialización múltiple\n",
    "a,b = 1,2\n",
    "print(a)\n",
    "print(b)"
   ]
  },
  {
   "cell_type": "code",
   "execution_count": 6,
   "id": "3243bc15",
   "metadata": {},
   "outputs": [
    {
     "name": "stdout",
     "output_type": "stream",
     "text": [
      "2\n",
      "1\n"
     ]
    }
   ],
   "source": [
    "# Intercambio de variables:\n",
    "a,b=b,a\n",
    "print(a)\n",
    "print(b)"
   ]
  },
  {
   "cell_type": "code",
   "execution_count": 2,
   "id": "20381879",
   "metadata": {},
   "outputs": [
    {
     "name": "stdout",
     "output_type": "stream",
     "text": [
      "(1, 2, 3, 5, 6) <class 'tuple'>\n",
      "(4, 5, 6, 7, 8, 9) <class 'tuple'>\n"
     ]
    }
   ],
   "source": [
    "# Definición de tuplas:\n",
    "t = (1,2,3,5,6)\n",
    "t2 = 4,5,6,7,8,9\n",
    "print(t, type(t))\n",
    "print(t2, type(t2))"
   ]
  },
  {
   "cell_type": "code",
   "execution_count": 3,
   "id": "2cac53c0",
   "metadata": {},
   "outputs": [
    {
     "name": "stdout",
     "output_type": "stream",
     "text": [
      "1 <class 'int'>\n"
     ]
    }
   ],
   "source": [
    "t = (1)\n",
    "print(t, type(t))"
   ]
  },
  {
   "cell_type": "code",
   "execution_count": 5,
   "id": "43b71f4c",
   "metadata": {},
   "outputs": [
    {
     "name": "stdout",
     "output_type": "stream",
     "text": [
      "(1,) <class 'tuple'>\n"
     ]
    }
   ],
   "source": [
    "t = (1,)\n",
    "print(t, type(t))"
   ]
  },
  {
   "cell_type": "code",
   "execution_count": 8,
   "id": "c0fcc328",
   "metadata": {},
   "outputs": [
    {
     "name": "stdout",
     "output_type": "stream",
     "text": [
      "('clientes', '.', 'xlsx')\n",
      "xlsx xlsx\n"
     ]
    }
   ],
   "source": [
    "fichero = \"clientes.xlsx\"\n",
    "t = fichero.partition('.')\n",
    "print(t)\n",
    "print(t[2], t[-1])"
   ]
  },
  {
   "cell_type": "code",
   "execution_count": 9,
   "id": "9349cbcd",
   "metadata": {},
   "outputs": [
    {
     "name": "stdout",
     "output_type": "stream",
     "text": [
      "clientes\n",
      "xlsx\n"
     ]
    }
   ],
   "source": [
    "nombre, _, ext = fichero.partition('.')\n",
    "print(nombre)\n",
    "print(ext)"
   ]
  },
  {
   "cell_type": "code",
   "execution_count": 10,
   "id": "bd3cffc7",
   "metadata": {},
   "outputs": [
    {
     "data": {
      "text/plain": [
       "'xlsx'"
      ]
     },
     "execution_count": 10,
     "metadata": {},
     "output_type": "execute_result"
    }
   ],
   "source": [
    "ext = fichero.partition('.')[2]\n",
    "ext"
   ]
  },
  {
   "cell_type": "code",
   "execution_count": null,
   "id": "fc4564ca",
   "metadata": {},
   "outputs": [],
   "source": []
  }
 ],
 "metadata": {
  "kernelspec": {
   "display_name": "Python 3 (ipykernel)",
   "language": "python",
   "name": "python3"
  },
  "language_info": {
   "codemirror_mode": {
    "name": "ipython",
    "version": 3
   },
   "file_extension": ".py",
   "mimetype": "text/x-python",
   "name": "python",
   "nbconvert_exporter": "python",
   "pygments_lexer": "ipython3",
   "version": "3.8.5"
  }
 },
 "nbformat": 4,
 "nbformat_minor": 5
}

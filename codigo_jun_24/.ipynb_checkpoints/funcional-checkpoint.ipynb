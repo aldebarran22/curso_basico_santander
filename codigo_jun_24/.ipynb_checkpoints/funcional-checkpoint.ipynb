{
 "cells": [
  {
   "cell_type": "markdown",
   "id": "51165245",
   "metadata": {},
   "source": [
    "### Programación funcional"
   ]
  },
  {
   "cell_type": "markdown",
   "id": "40be7ebf",
   "metadata": {},
   "source": [
    "- Iteradores: map y filter\n",
    "- Función reduce\n",
    "- List comprehension"
   ]
  },
  {
   "cell_type": "code",
   "execution_count": 1,
   "id": "a0edbfa8",
   "metadata": {},
   "outputs": [
    {
     "data": {
      "text/plain": [
       "[1, 3, 4, 5, 6, 7]"
      ]
     },
     "execution_count": 1,
     "metadata": {},
     "output_type": "execute_result"
    }
   ],
   "source": [
    "L = [1,3,4,5,6,7]\n",
    "L"
   ]
  },
  {
   "cell_type": "code",
   "execution_count": 2,
   "id": "1c7b7689",
   "metadata": {},
   "outputs": [
    {
     "data": {
      "text/plain": [
       "[1, 3, 4, 5, 6, 7]"
      ]
     },
     "execution_count": 2,
     "metadata": {},
     "output_type": "execute_result"
    }
   ],
   "source": []
  },
  {
   "cell_type": "code",
   "execution_count": null,
   "id": "c40e21f9",
   "metadata": {},
   "outputs": [],
   "source": []
  }
 ],
 "metadata": {
  "kernelspec": {
   "display_name": "Python 3 (ipykernel)",
   "language": "python",
   "name": "python3"
  },
  "language_info": {
   "codemirror_mode": {
    "name": "ipython",
    "version": 3
   },
   "file_extension": ".py",
   "mimetype": "text/x-python",
   "name": "python",
   "nbconvert_exporter": "python",
   "pygments_lexer": "ipython3",
   "version": "3.9.13"
  }
 },
 "nbformat": 4,
 "nbformat_minor": 5
}

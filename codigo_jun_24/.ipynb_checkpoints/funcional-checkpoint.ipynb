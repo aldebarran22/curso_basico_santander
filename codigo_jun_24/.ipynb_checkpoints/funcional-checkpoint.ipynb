{
 "cells": [
  {
   "cell_type": "markdown",
   "id": "0adbe7e0",
   "metadata": {},
   "source": [
    "### Programación funcional"
   ]
  },
  {
   "cell_type": "markdown",
   "id": "8a27a946",
   "metadata": {},
   "source": [
    "- Iteradores: map y filter\n",
    "- Función reduce\n",
    "- List comprehension"
   ]
  },
  {
   "cell_type": "code",
   "execution_count": 1,
   "id": "b9a023e6",
   "metadata": {},
   "outputs": [
    {
     "data": {
      "text/plain": [
       "[1, 3, 4, 5, 6, 7]"
      ]
     },
     "execution_count": 1,
     "metadata": {},
     "output_type": "execute_result"
    }
   ],
   "source": [
    "L = [1,3,4,5,6,7]\n",
    "L"
   ]
  },
  {
   "cell_type": "code",
   "execution_count": 3,
   "id": "7e079878",
   "metadata": {},
   "outputs": [],
   "source": [
    "def cuadrado(n):\n",
    "    return n**2"
   ]
  },
  {
   "cell_type": "code",
   "execution_count": 4,
   "id": "ddec1220",
   "metadata": {},
   "outputs": [
    {
     "data": {
      "text/plain": [
       "[1, 9, 16, 25, 36, 49]"
      ]
     },
     "execution_count": 4,
     "metadata": {},
     "output_type": "execute_result"
    }
   ],
   "source": [
    "R = []\n",
    "for i in L:\n",
    "    R.append(cuadrado(i))\n",
    "R"
   ]
  },
  {
   "cell_type": "markdown",
   "id": "4e9c701a",
   "metadata": {},
   "source": [
    "#### map"
   ]
  },
  {
   "cell_type": "code",
   "execution_count": 5,
   "id": "8e848e4e",
   "metadata": {},
   "outputs": [
    {
     "data": {
      "text/plain": [
       "[1, 9, 16, 25, 36, 49]"
      ]
     },
     "execution_count": 5,
     "metadata": {},
     "output_type": "execute_result"
    }
   ],
   "source": [
    "R2 = list(map(cuadrado, L))\n",
    "R2"
   ]
  },
  {
   "cell_type": "code",
   "execution_count": null,
   "id": "a3575041",
   "metadata": {},
   "outputs": [],
   "source": []
  }
 ],
 "metadata": {
  "kernelspec": {
   "display_name": "Python 3 (ipykernel)",
   "language": "python",
   "name": "python3"
  },
  "language_info": {
   "codemirror_mode": {
    "name": "ipython",
    "version": 3
   },
   "file_extension": ".py",
   "mimetype": "text/x-python",
   "name": "python",
   "nbconvert_exporter": "python",
   "pygments_lexer": "ipython3",
   "version": "3.9.13"
  }
 },
 "nbformat": 4,
 "nbformat_minor": 5
}

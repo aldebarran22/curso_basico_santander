{
 "cells": [
  {
   "cell_type": "markdown",
   "id": "b825141a",
   "metadata": {},
   "source": [
    "### Programación funcional"
   ]
  },
  {
   "cell_type": "markdown",
   "id": "9826de50",
   "metadata": {},
   "source": [
    "- Iteradores: map y filter\n",
    "- Función reduce\n",
    "- List comprehension"
   ]
  },
  {
   "cell_type": "code",
   "execution_count": 19,
   "id": "3a0b5ecd",
   "metadata": {},
   "outputs": [],
   "source": [
    "from random import randint\n",
    "from functools import reduce\n",
    "from string import ascii_letters"
   ]
  },
  {
   "cell_type": "code",
   "execution_count": 2,
   "id": "c57e9393",
   "metadata": {},
   "outputs": [
    {
     "data": {
      "text/plain": [
       "[1, 3, 4, 5, 6, 7]"
      ]
     },
     "execution_count": 2,
     "metadata": {},
     "output_type": "execute_result"
    }
   ],
   "source": [
    "L = [1,3,4,5,6,7]\n",
    "L"
   ]
  },
  {
   "cell_type": "code",
   "execution_count": 3,
   "id": "31d880dd",
   "metadata": {},
   "outputs": [],
   "source": [
    "def cuadrado(n):\n",
    "    return n**2"
   ]
  },
  {
   "cell_type": "code",
   "execution_count": 4,
   "id": "93da59fe",
   "metadata": {},
   "outputs": [
    {
     "data": {
      "text/plain": [
       "[1, 9, 16, 25, 36, 49]"
      ]
     },
     "execution_count": 4,
     "metadata": {},
     "output_type": "execute_result"
    }
   ],
   "source": [
    "R = []\n",
    "for i in L:\n",
    "    R.append(cuadrado(i))\n",
    "R"
   ]
  },
  {
   "cell_type": "markdown",
   "id": "aaa0be92",
   "metadata": {},
   "source": [
    "#### map"
   ]
  },
  {
   "cell_type": "code",
   "execution_count": 5,
   "id": "1e6b2893",
   "metadata": {},
   "outputs": [
    {
     "name": "stdout",
     "output_type": "stream",
     "text": [
      "1 9 16 25 36 49 "
     ]
    }
   ],
   "source": [
    "R2 = map(cuadrado, L)\n",
    "for i in R2:\n",
    "    print(i, end=\" \")"
   ]
  },
  {
   "cell_type": "code",
   "execution_count": 6,
   "id": "4a475ef2",
   "metadata": {},
   "outputs": [
    {
     "data": {
      "text/plain": [
       "[1, 9, 16, 25, 36, 49]"
      ]
     },
     "execution_count": 6,
     "metadata": {},
     "output_type": "execute_result"
    }
   ],
   "source": [
    "R2 = list(map(cuadrado, L))\n",
    "R2"
   ]
  },
  {
   "cell_type": "code",
   "execution_count": 7,
   "id": "67356403",
   "metadata": {},
   "outputs": [
    {
     "data": {
      "text/plain": [
       "{1, 9, 16, 25, 36, 49}"
      ]
     },
     "execution_count": 7,
     "metadata": {},
     "output_type": "execute_result"
    }
   ],
   "source": [
    "c2 = set(map(cuadrado, L))\n",
    "c2"
   ]
  },
  {
   "cell_type": "markdown",
   "id": "7bdff1eb",
   "metadata": {},
   "source": [
    "#### Con List compre."
   ]
  },
  {
   "cell_type": "code",
   "execution_count": 8,
   "id": "118ced64",
   "metadata": {},
   "outputs": [
    {
     "data": {
      "text/plain": [
       "[1, 9, 16, 25, 36, 49]"
      ]
     },
     "execution_count": 8,
     "metadata": {},
     "output_type": "execute_result"
    }
   ],
   "source": [
    "R3 = [cuadrado(i) for i in L]\n",
    "R3"
   ]
  },
  {
   "cell_type": "code",
   "execution_count": 9,
   "id": "5e41715d",
   "metadata": {},
   "outputs": [
    {
     "data": {
      "text/plain": [
       "[1, 9, 16, 25, 36, 49]"
      ]
     },
     "execution_count": 9,
     "metadata": {},
     "output_type": "execute_result"
    }
   ],
   "source": [
    "R4 = [i**2 for i in L]\n",
    "R4"
   ]
  },
  {
   "cell_type": "markdown",
   "id": "6d9b5413",
   "metadata": {},
   "source": [
    "#### filter"
   ]
  },
  {
   "cell_type": "code",
   "execution_count": 10,
   "id": "d2580e66",
   "metadata": {},
   "outputs": [
    {
     "data": {
      "text/plain": [
       "[4, 12, 22, 2, 9, 28, 5, 6, 12, 19]"
      ]
     },
     "execution_count": 10,
     "metadata": {},
     "output_type": "execute_result"
    }
   ],
   "source": [
    "# Generar una lista de números aleatorios con L.C.\n",
    "numeros = [randint(1,30) for _ in range(30)]\n",
    "numeros[:10]"
   ]
  },
  {
   "cell_type": "code",
   "execution_count": 11,
   "id": "a51add3d",
   "metadata": {},
   "outputs": [],
   "source": [
    "def filtro(n):\n",
    "    if n > 20:\n",
    "        return True\n",
    "    else:\n",
    "        return False"
   ]
  },
  {
   "cell_type": "code",
   "execution_count": 12,
   "id": "880aebaf",
   "metadata": {},
   "outputs": [],
   "source": [
    "def filtro2(n):\n",
    "    return n > 20"
   ]
  },
  {
   "cell_type": "code",
   "execution_count": 13,
   "id": "9c900441",
   "metadata": {},
   "outputs": [
    {
     "data": {
      "text/plain": [
       "[22, 28, 28, 30, 30, 29, 25, 24, 28, 24, 23, 29]"
      ]
     },
     "execution_count": 13,
     "metadata": {},
     "output_type": "execute_result"
    }
   ],
   "source": [
    "R3 = list(filter(filtro, numeros))\n",
    "R3"
   ]
  },
  {
   "cell_type": "markdown",
   "id": "f6e3c2b8",
   "metadata": {},
   "source": [
    "#### Con LC."
   ]
  },
  {
   "cell_type": "code",
   "execution_count": 14,
   "id": "8a139d6b",
   "metadata": {},
   "outputs": [
    {
     "data": {
      "text/plain": [
       "[22, 28, 28, 30, 30, 29, 25, 24, 28, 24, 23, 29]"
      ]
     },
     "execution_count": 14,
     "metadata": {},
     "output_type": "execute_result"
    }
   ],
   "source": [
    "R4 = [i for i in numeros if filtro(i)]\n",
    "R4"
   ]
  },
  {
   "cell_type": "code",
   "execution_count": 15,
   "id": "800d585e",
   "metadata": {},
   "outputs": [
    {
     "data": {
      "text/plain": [
       "[22, 28, 28, 30, 30, 29, 25, 24, 28, 24, 23, 29]"
      ]
     },
     "execution_count": 15,
     "metadata": {},
     "output_type": "execute_result"
    }
   ],
   "source": [
    "R4 = [i for i in numeros if i > 20]\n",
    "R4"
   ]
  },
  {
   "cell_type": "markdown",
   "id": "aa3cd4aa",
   "metadata": {},
   "source": [
    "#### reduce"
   ]
  },
  {
   "cell_type": "code",
   "execution_count": 17,
   "id": "91647583",
   "metadata": {},
   "outputs": [],
   "source": [
    "def minimo(a,b):\n",
    "    print(a,b)\n",
    "    \n",
    "    return a if a < b else b"
   ]
  },
  {
   "cell_type": "code",
   "execution_count": 18,
   "id": "81d22567",
   "metadata": {},
   "outputs": [
    {
     "name": "stdout",
     "output_type": "stream",
     "text": [
      "40 39\n",
      "39 42\n",
      "39 28\n",
      "28 33\n",
      "28 21\n",
      "21 7\n",
      "7 9\n",
      "7 1\n"
     ]
    },
    {
     "data": {
      "text/plain": [
       "1"
      ]
     },
     "execution_count": 18,
     "metadata": {},
     "output_type": "execute_result"
    }
   ],
   "source": [
    "L = [40, 39, 42, 28, 33, 21, 7, 9, 1]\n",
    "valor = reduce(minimo, L)\n",
    "valor"
   ]
  },
  {
   "cell_type": "markdown",
   "id": "f1f58021",
   "metadata": {},
   "source": [
    "Generar una lista de candidatos con diccionarios. "
   ]
  },
  {
   "cell_type": "code",
   "execution_count": 27,
   "id": "74cd375a",
   "metadata": {},
   "outputs": [],
   "source": [
    "def generarCode(c):        \n",
    "        valores = list(c.values())        \n",
    "        valores = tuple(valores[1:])               \n",
    "        codigo = \"%d%d%d\" % valores\n",
    "        return int(codigo)               \n"
   ]
  },
  {
   "cell_type": "code",
   "execution_count": 29,
   "id": "60d7a8dc",
   "metadata": {},
   "outputs": [
    {
     "name": "stdout",
     "output_type": "stream",
     "text": [
      "dict_values(['aaaaa', 10, 5, True])\n",
      "['aaaaa', 10, 5, True]\n",
      "(10, 5, True)\n",
      "1051\n",
      "\n",
      "dict_values(['bbbbb', 5, 4, False])\n",
      "['bbbbb', 5, 4, False]\n",
      "(5, 4, False)\n",
      "540\n"
     ]
    }
   ],
   "source": [
    "d1 = {'nombre': 'aaaaa', 'exp': 10, 'emp': 5, 'sup': True}\n",
    "d2 = {'nombre': 'bbbbb', 'exp': 5, 'emp': 4, 'sup': False}\n",
    "\n",
    "generarCode(d1)\n",
    "print()\n",
    "generarCode(d2)"
   ]
  },
  {
   "cell_type": "code",
   "execution_count": null,
   "id": "3a81280a",
   "metadata": {},
   "outputs": [],
   "source": [
    "def mejorCandidato(c1, c2):\n",
    "    \n",
    "    def generarCode(c):\n",
    "        valores = list(c.values())\n",
    "        valores = tuple(valores[1:])\n",
    "        \n",
    "        \"%d%d%d\" % \n",
    "    \n",
    "    cod1 = generarCode(c1)\n",
    "    cod2 = generarCode(c2)\n",
    "    \n",
    "    return c1 if cod1 > cod2 else c2\n",
    "    \n",
    "    "
   ]
  },
  {
   "cell_type": "code",
   "execution_count": 23,
   "id": "270a6776",
   "metadata": {},
   "outputs": [
    {
     "data": {
      "text/plain": [
       "[{'nombre': 'aaaaa', 'exp': 10, 'emp': 5, 'sup': False},\n",
       " {'nombre': 'bbbbb', 'exp': 5, 'emp': 4, 'sup': False},\n",
       " {'nombre': 'ccccc', 'exp': 5, 'emp': 4, 'sup': True},\n",
       " {'nombre': 'ddddd', 'exp': 5, 'emp': 3, 'sup': True},\n",
       " {'nombre': 'eeeee', 'exp': 9, 'emp': 4, 'sup': False},\n",
       " {'nombre': 'fffff', 'exp': 9, 'emp': 3, 'sup': False},\n",
       " {'nombre': 'ggggg', 'exp': 5, 'emp': 6, 'sup': False},\n",
       " {'nombre': 'hhhhh', 'exp': 8, 'emp': 3, 'sup': True},\n",
       " {'nombre': 'iiiii', 'exp': 10, 'emp': 4, 'sup': False},\n",
       " {'nombre': 'jjjjj', 'exp': 8, 'emp': 4, 'sup': True},\n",
       " {'nombre': 'kkkkk', 'exp': 7, 'emp': 6, 'sup': False},\n",
       " {'nombre': 'lllll', 'exp': 7, 'emp': 6, 'sup': False},\n",
       " {'nombre': 'mmmmm', 'exp': 5, 'emp': 5, 'sup': False},\n",
       " {'nombre': 'nnnnn', 'exp': 7, 'emp': 6, 'sup': True},\n",
       " {'nombre': 'ooooo', 'exp': 7, 'emp': 3, 'sup': True},\n",
       " {'nombre': 'ppppp', 'exp': 7, 'emp': 3, 'sup': False},\n",
       " {'nombre': 'qqqqq', 'exp': 6, 'emp': 5, 'sup': True},\n",
       " {'nombre': 'rrrrr', 'exp': 7, 'emp': 4, 'sup': False},\n",
       " {'nombre': 'sssss', 'exp': 8, 'emp': 6, 'sup': False},\n",
       " {'nombre': 'ttttt', 'exp': 8, 'emp': 6, 'sup': False},\n",
       " {'nombre': 'uuuuu', 'exp': 5, 'emp': 5, 'sup': True},\n",
       " {'nombre': 'vvvvv', 'exp': 10, 'emp': 6, 'sup': False},\n",
       " {'nombre': 'wwwww', 'exp': 8, 'emp': 3, 'sup': False},\n",
       " {'nombre': 'xxxxx', 'exp': 9, 'emp': 3, 'sup': False},\n",
       " {'nombre': 'yyyyy', 'exp': 9, 'emp': 5, 'sup': False},\n",
       " {'nombre': 'zzzzz', 'exp': 7, 'emp': 4, 'sup': False},\n",
       " {'nombre': 'AAAAA', 'exp': 9, 'emp': 6, 'sup': False},\n",
       " {'nombre': 'BBBBB', 'exp': 5, 'emp': 6, 'sup': True},\n",
       " {'nombre': 'CCCCC', 'exp': 8, 'emp': 6, 'sup': True},\n",
       " {'nombre': 'DDDDD', 'exp': 5, 'emp': 5, 'sup': False},\n",
       " {'nombre': 'EEEEE', 'exp': 6, 'emp': 4, 'sup': False},\n",
       " {'nombre': 'FFFFF', 'exp': 10, 'emp': 3, 'sup': False},\n",
       " {'nombre': 'GGGGG', 'exp': 7, 'emp': 3, 'sup': False},\n",
       " {'nombre': 'HHHHH', 'exp': 8, 'emp': 3, 'sup': False},\n",
       " {'nombre': 'IIIII', 'exp': 7, 'emp': 4, 'sup': True},\n",
       " {'nombre': 'JJJJJ', 'exp': 7, 'emp': 3, 'sup': False},\n",
       " {'nombre': 'KKKKK', 'exp': 6, 'emp': 4, 'sup': True},\n",
       " {'nombre': 'LLLLL', 'exp': 8, 'emp': 4, 'sup': False},\n",
       " {'nombre': 'MMMMM', 'exp': 5, 'emp': 4, 'sup': False},\n",
       " {'nombre': 'NNNNN', 'exp': 6, 'emp': 4, 'sup': True},\n",
       " {'nombre': 'OOOOO', 'exp': 5, 'emp': 4, 'sup': True},\n",
       " {'nombre': 'PPPPP', 'exp': 9, 'emp': 5, 'sup': False},\n",
       " {'nombre': 'QQQQQ', 'exp': 9, 'emp': 6, 'sup': False},\n",
       " {'nombre': 'RRRRR', 'exp': 9, 'emp': 6, 'sup': True},\n",
       " {'nombre': 'SSSSS', 'exp': 9, 'emp': 6, 'sup': False},\n",
       " {'nombre': 'TTTTT', 'exp': 8, 'emp': 3, 'sup': True},\n",
       " {'nombre': 'UUUUU', 'exp': 8, 'emp': 6, 'sup': True},\n",
       " {'nombre': 'VVVVV', 'exp': 7, 'emp': 3, 'sup': True},\n",
       " {'nombre': 'WWWWW', 'exp': 5, 'emp': 5, 'sup': False},\n",
       " {'nombre': 'XXXXX', 'exp': 5, 'emp': 4, 'sup': True},\n",
       " {'nombre': 'YYYYY', 'exp': 9, 'emp': 6, 'sup': False},\n",
       " {'nombre': 'ZZZZZ', 'exp': 7, 'emp': 5, 'sup': True}]"
      ]
     },
     "execution_count": 23,
     "metadata": {},
     "output_type": "execute_result"
    }
   ],
   "source": [
    "candidatos = [{\"nombre\":letra * 5, \\\n",
    "               \"exp\":randint(5,10), \\\n",
    "               \"emp\":randint(3,6),\n",
    "               \"sup\": randint(1,10) % 2 == 0} \\\n",
    "              for letra in ascii_letters]\n",
    "candidatos"
   ]
  },
  {
   "cell_type": "code",
   "execution_count": null,
   "id": "d9137729",
   "metadata": {},
   "outputs": [],
   "source": []
  }
 ],
 "metadata": {
  "kernelspec": {
   "display_name": "Python 3 (ipykernel)",
   "language": "python",
   "name": "python3"
  },
  "language_info": {
   "codemirror_mode": {
    "name": "ipython",
    "version": 3
   },
   "file_extension": ".py",
   "mimetype": "text/x-python",
   "name": "python",
   "nbconvert_exporter": "python",
   "pygments_lexer": "ipython3",
   "version": "3.9.13"
  }
 },
 "nbformat": 4,
 "nbformat_minor": 5
}

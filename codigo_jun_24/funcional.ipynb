{
 "cells": [
  {
   "cell_type": "markdown",
   "id": "fe35adf3",
   "metadata": {},
   "source": [
    "### Programación funcional"
   ]
  },
  {
   "cell_type": "markdown",
   "id": "74531e6f",
   "metadata": {},
   "source": [
    "- Iteradores: map y filter\n",
    "- Función reduce\n",
    "- List comprehension"
   ]
  },
  {
   "cell_type": "code",
   "execution_count": 19,
   "id": "3c4508f6",
   "metadata": {},
   "outputs": [],
   "source": [
    "from random import randint\n",
    "from functools import reduce\n",
    "from string import ascii_letters"
   ]
  },
  {
   "cell_type": "code",
   "execution_count": 2,
   "id": "970748fd",
   "metadata": {},
   "outputs": [
    {
     "data": {
      "text/plain": [
       "[1, 3, 4, 5, 6, 7]"
      ]
     },
     "execution_count": 2,
     "metadata": {},
     "output_type": "execute_result"
    }
   ],
   "source": [
    "L = [1,3,4,5,6,7]\n",
    "L"
   ]
  },
  {
   "cell_type": "code",
   "execution_count": 3,
   "id": "ce2a25d9",
   "metadata": {},
   "outputs": [],
   "source": [
    "def cuadrado(n):\n",
    "    return n**2"
   ]
  },
  {
   "cell_type": "code",
   "execution_count": 4,
   "id": "ad6435e4",
   "metadata": {},
   "outputs": [
    {
     "data": {
      "text/plain": [
       "[1, 9, 16, 25, 36, 49]"
      ]
     },
     "execution_count": 4,
     "metadata": {},
     "output_type": "execute_result"
    }
   ],
   "source": [
    "R = []\n",
    "for i in L:\n",
    "    R.append(cuadrado(i))\n",
    "R"
   ]
  },
  {
   "cell_type": "markdown",
   "id": "de566573",
   "metadata": {},
   "source": [
    "#### map"
   ]
  },
  {
   "cell_type": "code",
   "execution_count": 5,
   "id": "2efa9896",
   "metadata": {},
   "outputs": [
    {
     "name": "stdout",
     "output_type": "stream",
     "text": [
      "1 9 16 25 36 49 "
     ]
    }
   ],
   "source": [
    "R2 = map(cuadrado, L)\n",
    "for i in R2:\n",
    "    print(i, end=\" \")"
   ]
  },
  {
   "cell_type": "code",
   "execution_count": 6,
   "id": "98673b39",
   "metadata": {},
   "outputs": [
    {
     "data": {
      "text/plain": [
       "[1, 9, 16, 25, 36, 49]"
      ]
     },
     "execution_count": 6,
     "metadata": {},
     "output_type": "execute_result"
    }
   ],
   "source": [
    "R2 = list(map(cuadrado, L))\n",
    "R2"
   ]
  },
  {
   "cell_type": "code",
   "execution_count": 7,
   "id": "5b015464",
   "metadata": {},
   "outputs": [
    {
     "data": {
      "text/plain": [
       "{1, 9, 16, 25, 36, 49}"
      ]
     },
     "execution_count": 7,
     "metadata": {},
     "output_type": "execute_result"
    }
   ],
   "source": [
    "c2 = set(map(cuadrado, L))\n",
    "c2"
   ]
  },
  {
   "cell_type": "markdown",
   "id": "e7575e48",
   "metadata": {},
   "source": [
    "#### Con List compre."
   ]
  },
  {
   "cell_type": "code",
   "execution_count": 8,
   "id": "80ea2341",
   "metadata": {},
   "outputs": [
    {
     "data": {
      "text/plain": [
       "[1, 9, 16, 25, 36, 49]"
      ]
     },
     "execution_count": 8,
     "metadata": {},
     "output_type": "execute_result"
    }
   ],
   "source": [
    "R3 = [cuadrado(i) for i in L]\n",
    "R3"
   ]
  },
  {
   "cell_type": "code",
   "execution_count": 9,
   "id": "f4b89d6e",
   "metadata": {},
   "outputs": [
    {
     "data": {
      "text/plain": [
       "[1, 9, 16, 25, 36, 49]"
      ]
     },
     "execution_count": 9,
     "metadata": {},
     "output_type": "execute_result"
    }
   ],
   "source": [
    "R4 = [i**2 for i in L]\n",
    "R4"
   ]
  },
  {
   "cell_type": "markdown",
   "id": "ce8f182e",
   "metadata": {},
   "source": [
    "#### filter"
   ]
  },
  {
   "cell_type": "code",
   "execution_count": 10,
   "id": "d43dc171",
   "metadata": {},
   "outputs": [
    {
     "data": {
      "text/plain": [
       "[4, 12, 22, 2, 9, 28, 5, 6, 12, 19]"
      ]
     },
     "execution_count": 10,
     "metadata": {},
     "output_type": "execute_result"
    }
   ],
   "source": [
    "# Generar una lista de números aleatorios con L.C.\n",
    "numeros = [randint(1,30) for _ in range(30)]\n",
    "numeros[:10]"
   ]
  },
  {
   "cell_type": "code",
   "execution_count": 11,
   "id": "d3dfa292",
   "metadata": {},
   "outputs": [],
   "source": [
    "def filtro(n):\n",
    "    if n > 20:\n",
    "        return True\n",
    "    else:\n",
    "        return False"
   ]
  },
  {
   "cell_type": "code",
   "execution_count": 12,
   "id": "f092a0ac",
   "metadata": {},
   "outputs": [],
   "source": [
    "def filtro2(n):\n",
    "    return n > 20"
   ]
  },
  {
   "cell_type": "code",
   "execution_count": 13,
   "id": "1a534ce2",
   "metadata": {},
   "outputs": [
    {
     "data": {
      "text/plain": [
       "[22, 28, 28, 30, 30, 29, 25, 24, 28, 24, 23, 29]"
      ]
     },
     "execution_count": 13,
     "metadata": {},
     "output_type": "execute_result"
    }
   ],
   "source": [
    "R3 = list(filter(filtro, numeros))\n",
    "R3"
   ]
  },
  {
   "cell_type": "markdown",
   "id": "c3fe5e3a",
   "metadata": {},
   "source": [
    "#### Con LC."
   ]
  },
  {
   "cell_type": "code",
   "execution_count": 14,
   "id": "af0e12e3",
   "metadata": {},
   "outputs": [
    {
     "data": {
      "text/plain": [
       "[22, 28, 28, 30, 30, 29, 25, 24, 28, 24, 23, 29]"
      ]
     },
     "execution_count": 14,
     "metadata": {},
     "output_type": "execute_result"
    }
   ],
   "source": [
    "R4 = [i for i in numeros if filtro(i)]\n",
    "R4"
   ]
  },
  {
   "cell_type": "code",
   "execution_count": 15,
   "id": "b6c7fd4c",
   "metadata": {},
   "outputs": [
    {
     "data": {
      "text/plain": [
       "[22, 28, 28, 30, 30, 29, 25, 24, 28, 24, 23, 29]"
      ]
     },
     "execution_count": 15,
     "metadata": {},
     "output_type": "execute_result"
    }
   ],
   "source": [
    "R4 = [i for i in numeros if i > 20]\n",
    "R4"
   ]
  },
  {
   "cell_type": "markdown",
   "id": "f2d16c9f",
   "metadata": {},
   "source": [
    "#### reduce"
   ]
  },
  {
   "cell_type": "code",
   "execution_count": 17,
   "id": "14fe2efa",
   "metadata": {},
   "outputs": [],
   "source": [
    "def minimo(a,b):\n",
    "    print(a,b)\n",
    "    \n",
    "    return a if a < b else b"
   ]
  },
  {
   "cell_type": "code",
   "execution_count": 18,
   "id": "a23bd612",
   "metadata": {},
   "outputs": [
    {
     "name": "stdout",
     "output_type": "stream",
     "text": [
      "40 39\n",
      "39 42\n",
      "39 28\n",
      "28 33\n",
      "28 21\n",
      "21 7\n",
      "7 9\n",
      "7 1\n"
     ]
    },
    {
     "data": {
      "text/plain": [
       "1"
      ]
     },
     "execution_count": 18,
     "metadata": {},
     "output_type": "execute_result"
    }
   ],
   "source": [
    "L = [40, 39, 42, 28, 33, 21, 7, 9, 1]\n",
    "valor = reduce(minimo, L)\n",
    "valor"
   ]
  },
  {
   "cell_type": "markdown",
   "id": "4b8c8a87",
   "metadata": {},
   "source": [
    "Generar una lista de candidatos con diccionarios. "
   ]
  },
  {
   "cell_type": "code",
   "execution_count": 31,
   "id": "4ccf02f1",
   "metadata": {},
   "outputs": [],
   "source": [
    "def generarCode(c):        \n",
    "        valores = list(c.values())        \n",
    "        valores = tuple(valores[1:])               \n",
    "        codigo = \"%d%d%d\" % valores\n",
    "        return int(codigo)               \n"
   ]
  },
  {
   "cell_type": "code",
   "execution_count": 32,
   "id": "29504c6e",
   "metadata": {},
   "outputs": [
    {
     "name": "stdout",
     "output_type": "stream",
     "text": [
      "1051\n",
      "\n",
      "540\n"
     ]
    }
   ],
   "source": [
    "d1 = {'nombre': 'aaaaa', 'exp': 10, 'emp': 5, 'sup': True}\n",
    "d2 = {'nombre': 'bbbbb', 'exp': 5, 'emp': 4, 'sup': False}\n",
    "\n",
    "print(generarCode(d1))\n",
    "print()\n",
    "print(generarCode(d2))"
   ]
  },
  {
   "cell_type": "code",
   "execution_count": 33,
   "id": "a4576038",
   "metadata": {},
   "outputs": [],
   "source": [
    "def mejorCandidato(c1, c2):\n",
    "    \n",
    "    def generarCode(c):        \n",
    "        valores = list(c.values())        \n",
    "        valores = tuple(valores[1:])               \n",
    "        codigo = \"%d%d%d\" % valores\n",
    "        return int(codigo)  \n",
    "    \n",
    "    cod1 = generarCode(c1)\n",
    "    cod2 = generarCode(c2)\n",
    "    \n",
    "    return c1 if cod1 > cod2 else c2  \n",
    "    "
   ]
  },
  {
   "cell_type": "code",
   "execution_count": 36,
   "id": "5e292712",
   "metadata": {},
   "outputs": [
    {
     "data": {
      "text/plain": [
       "[{'nombre': 'aaaaa', 'exp': 6, 'emp': 4, 'sup': True},\n",
       " {'nombre': 'bbbbb', 'exp': 9, 'emp': 6, 'sup': False},\n",
       " {'nombre': 'ccccc', 'exp': 8, 'emp': 5, 'sup': False},\n",
       " {'nombre': 'ddddd', 'exp': 7, 'emp': 4, 'sup': True},\n",
       " {'nombre': 'eeeee', 'exp': 7, 'emp': 6, 'sup': False},\n",
       " {'nombre': 'fffff', 'exp': 10, 'emp': 4, 'sup': False},\n",
       " {'nombre': 'ggggg', 'exp': 10, 'emp': 6, 'sup': True},\n",
       " {'nombre': 'hhhhh', 'exp': 9, 'emp': 5, 'sup': False},\n",
       " {'nombre': 'iiiii', 'exp': 9, 'emp': 6, 'sup': False},\n",
       " {'nombre': 'jjjjj', 'exp': 6, 'emp': 4, 'sup': True},\n",
       " {'nombre': 'kkkkk', 'exp': 9, 'emp': 4, 'sup': False},\n",
       " {'nombre': 'lllll', 'exp': 9, 'emp': 5, 'sup': False},\n",
       " {'nombre': 'mmmmm', 'exp': 7, 'emp': 5, 'sup': False},\n",
       " {'nombre': 'nnnnn', 'exp': 6, 'emp': 5, 'sup': False},\n",
       " {'nombre': 'ooooo', 'exp': 9, 'emp': 4, 'sup': False},\n",
       " {'nombre': 'ppppp', 'exp': 6, 'emp': 5, 'sup': True},\n",
       " {'nombre': 'qqqqq', 'exp': 8, 'emp': 4, 'sup': False},\n",
       " {'nombre': 'rrrrr', 'exp': 7, 'emp': 6, 'sup': True},\n",
       " {'nombre': 'sssss', 'exp': 9, 'emp': 4, 'sup': True},\n",
       " {'nombre': 'ttttt', 'exp': 7, 'emp': 4, 'sup': True},\n",
       " {'nombre': 'uuuuu', 'exp': 9, 'emp': 6, 'sup': True},\n",
       " {'nombre': 'vvvvv', 'exp': 10, 'emp': 4, 'sup': True},\n",
       " {'nombre': 'wwwww', 'exp': 7, 'emp': 6, 'sup': False},\n",
       " {'nombre': 'xxxxx', 'exp': 10, 'emp': 4, 'sup': True},\n",
       " {'nombre': 'yyyyy', 'exp': 6, 'emp': 6, 'sup': True},\n",
       " {'nombre': 'zzzzz', 'exp': 6, 'emp': 4, 'sup': False},\n",
       " {'nombre': 'AAAAA', 'exp': 6, 'emp': 6, 'sup': False},\n",
       " {'nombre': 'BBBBB', 'exp': 6, 'emp': 5, 'sup': True},\n",
       " {'nombre': 'CCCCC', 'exp': 8, 'emp': 6, 'sup': False},\n",
       " {'nombre': 'DDDDD', 'exp': 9, 'emp': 4, 'sup': True},\n",
       " {'nombre': 'EEEEE', 'exp': 8, 'emp': 4, 'sup': True},\n",
       " {'nombre': 'FFFFF', 'exp': 9, 'emp': 4, 'sup': True},\n",
       " {'nombre': 'GGGGG', 'exp': 7, 'emp': 5, 'sup': False},\n",
       " {'nombre': 'HHHHH', 'exp': 7, 'emp': 6, 'sup': False},\n",
       " {'nombre': 'IIIII', 'exp': 10, 'emp': 4, 'sup': True},\n",
       " {'nombre': 'JJJJJ', 'exp': 10, 'emp': 6, 'sup': True},\n",
       " {'nombre': 'KKKKK', 'exp': 9, 'emp': 5, 'sup': True},\n",
       " {'nombre': 'LLLLL', 'exp': 8, 'emp': 4, 'sup': True},\n",
       " {'nombre': 'MMMMM', 'exp': 8, 'emp': 5, 'sup': True},\n",
       " {'nombre': 'NNNNN', 'exp': 10, 'emp': 6, 'sup': False},\n",
       " {'nombre': 'OOOOO', 'exp': 7, 'emp': 4, 'sup': False},\n",
       " {'nombre': 'PPPPP', 'exp': 9, 'emp': 5, 'sup': False},\n",
       " {'nombre': 'QQQQQ', 'exp': 8, 'emp': 6, 'sup': True},\n",
       " {'nombre': 'RRRRR', 'exp': 10, 'emp': 4, 'sup': False},\n",
       " {'nombre': 'SSSSS', 'exp': 8, 'emp': 6, 'sup': True},\n",
       " {'nombre': 'TTTTT', 'exp': 10, 'emp': 5, 'sup': True},\n",
       " {'nombre': 'UUUUU', 'exp': 10, 'emp': 5, 'sup': False},\n",
       " {'nombre': 'VVVVV', 'exp': 7, 'emp': 6, 'sup': True},\n",
       " {'nombre': 'WWWWW', 'exp': 7, 'emp': 6, 'sup': True},\n",
       " {'nombre': 'XXXXX', 'exp': 8, 'emp': 5, 'sup': False},\n",
       " {'nombre': 'YYYYY', 'exp': 9, 'emp': 6, 'sup': False},\n",
       " {'nombre': 'ZZZZZ', 'exp': 8, 'emp': 4, 'sup': False}]"
      ]
     },
     "execution_count": 36,
     "metadata": {},
     "output_type": "execute_result"
    }
   ],
   "source": [
    "candidatos = [{\"nombre\":letra * 5, \\\n",
    "               \"exp\":randint(6,10), \\\n",
    "               \"emp\":randint(4,6),\n",
    "               \"sup\": randint(1,10) % 2 == 0} \\\n",
    "              for letra in ascii_letters]\n",
    "candidatos"
   ]
  },
  {
   "cell_type": "code",
   "execution_count": 37,
   "id": "c7f6c803",
   "metadata": {},
   "outputs": [
    {
     "data": {
      "text/plain": [
       "{'nombre': 'JJJJJ', 'exp': 10, 'emp': 6, 'sup': True}"
      ]
     },
     "execution_count": 37,
     "metadata": {},
     "output_type": "execute_result"
    }
   ],
   "source": [
    "elMejor = reduce(mejorCandidato, candidatos)\n",
    "elMejor"
   ]
  },
  {
   "cell_type": "markdown",
   "id": "d2deae6e",
   "metadata": {},
   "source": [
    "#### Ordenar colecciones"
   ]
  },
  {
   "cell_type": "code",
   "execution_count": 44,
   "id": "ed965dda",
   "metadata": {},
   "outputs": [
    {
     "data": {
      "text/plain": [
       "['Ana', 'Andrés', 'Jose Miguel', 'Olga', 'Raúl', 'Sara']"
      ]
     },
     "execution_count": 44,
     "metadata": {},
     "output_type": "execute_result"
    }
   ],
   "source": [
    "nombres = [\"Olga\", \"Sara\",\"Andrés\", \"Ana\", \"Raúl\",\"Jose Miguel\"]\n",
    "nombres.sort()\n",
    "nombres"
   ]
  },
  {
   "cell_type": "code",
   "execution_count": 45,
   "id": "0396a903",
   "metadata": {},
   "outputs": [
    {
     "data": {
      "text/plain": [
       "[3, 6, 11, 4, 4, 4]"
      ]
     },
     "execution_count": 45,
     "metadata": {},
     "output_type": "execute_result"
    }
   ],
   "source": [
    "longitudes = [len(i) for i in nombres]\n",
    "longitudes"
   ]
  },
  {
   "cell_type": "code",
   "execution_count": 42,
   "id": "31eb38eb",
   "metadata": {},
   "outputs": [
    {
     "data": {
      "text/plain": [
       "['Jose Miguel', 'Andrés', 'Olga', 'Raúl', 'Sara', 'Ana']"
      ]
     },
     "execution_count": 42,
     "metadata": {},
     "output_type": "execute_result"
    }
   ],
   "source": [
    "nombres.sort(key=len, reverse=True)\n",
    "nombres"
   ]
  },
  {
   "cell_type": "code",
   "execution_count": 54,
   "id": "d8759e91",
   "metadata": {},
   "outputs": [
    {
     "name": "stdout",
     "output_type": "stream",
     "text": [
      "['madrid', 'Ankara', 'zermatt', 'barcelona', 'Sevilla']\n",
      "['Ankara', 'Sevilla', 'barcelona', 'madrid', 'zermatt']\n",
      "['Ankara', 'Sevilla', 'barcelona', 'madrid', 'zermatt']\n"
     ]
    }
   ],
   "source": [
    "ciudades = [\"madrid\",\"Ankara\",\"zermatt\", \"barcelona\", \"Sevilla\"]\n",
    "ciudades2 = ciudades.copy()\n",
    "ciudades2.sort()\n",
    "\n",
    "print(ciudades)\n",
    "print(ciudades2)\n",
    "\n",
    "ciudades3 = sorted(ciudades)\n",
    "print(ciudades3)"
   ]
  },
  {
   "cell_type": "code",
   "execution_count": 47,
   "id": "08a7fad9",
   "metadata": {},
   "outputs": [
    {
     "data": {
      "text/plain": [
       "'Barcelona'"
      ]
     },
     "execution_count": 47,
     "metadata": {},
     "output_type": "execute_result"
    }
   ],
   "source": [
    "\"barcelona\".capitalize()"
   ]
  },
  {
   "cell_type": "code",
   "execution_count": 48,
   "id": "0307a1d5",
   "metadata": {},
   "outputs": [
    {
     "data": {
      "text/plain": [
       "['Ankara', 'barcelona', 'madrid', 'Sevilla', 'zermatt']"
      ]
     },
     "execution_count": 48,
     "metadata": {},
     "output_type": "execute_result"
    }
   ],
   "source": [
    "ciudades.sort(key=lambda c : c.capitalize())\n",
    "ciudades"
   ]
  },
  {
   "cell_type": "code",
   "execution_count": 49,
   "id": "341c9983",
   "metadata": {},
   "outputs": [
    {
     "data": {
      "text/plain": [
       "['amberes', 'ancara', 'barcelona', 'Madrid', 'Sevilla']"
      ]
     },
     "execution_count": 49,
     "metadata": {},
     "output_type": "execute_result"
    }
   ],
   "source": [
    "ciudades= [\"Madrid\", \"barcelona\",\"amberes\", \"ancara\",\"Sevilla\"]\n",
    "\n",
    "ciudades.sort(key=str.capitalize)\n",
    "\n",
    "ciudades"
   ]
  },
  {
   "cell_type": "code",
   "execution_count": 55,
   "id": "75e3b98e",
   "metadata": {},
   "outputs": [],
   "source": [
    "csv = \"\"\"99;Estados Unidos\n",
    "32.38;Finlandia\n",
    "11.61;Alemania\n",
    "65.83;Brasil\n",
    "41.34;Francia\n",
    "51.3;Belgica\n",
    "58.17;Brasil\n",
    "22.98;Suiza\n",
    "148.33;Suiza\n",
    "13.97;Brasil\n",
    "81.91;Venezuela\n",
    "140.51;Austria\n",
    "3.25;Mexico\n",
    "55.09;Alemania\n",
    "3.05;Brasil\n",
    "48.29;Estados Unidos\n",
    "146.06;Austria\n",
    "3.67;Suecia\n",
    "55.28;Francia\n",
    "25.73;Finlandia\n",
    "208.58;Alemania\n",
    "66.29;Venezuela\n",
    "4.56;Estados Unidos\n",
    "136.54;Finlandia\n",
    "4.54;Estados Unidos\n",
    "98.03;Estados Unidos\n",
    "76.07;Alemania\n",
    "6.01;Francia\n",
    "26.93;Italia\n",
    "13.84;Mexico\n",
    "125.77;Alemania\n",
    "92.69;Suecia\n",
    "25.83;Alemania\n",
    "8.98;Suecia\n",
    "2.94;Espanya\n",
    "12.69;Espanya\n",
    "84.81;Venezuela\n",
    "76.56;Alemania\n",
    "76.83;Alemania\n",
    "229.24;Alemania\"\"\""
   ]
  },
  {
   "cell_type": "code",
   "execution_count": 58,
   "id": "5eb06a8e",
   "metadata": {},
   "outputs": [],
   "source": [
    "def extraerTupla(cad):\n",
    "    importe, _, pais = cad.partition(\";\")\n",
    "    return float(importe), pais"
   ]
  },
  {
   "cell_type": "code",
   "execution_count": 74,
   "id": "1ec937d4",
   "metadata": {},
   "outputs": [
    {
     "data": {
      "text/plain": [
       "[(99.0, 'Estados Unidos'),\n",
       " (32.38, 'Finlandia'),\n",
       " (11.61, 'Alemania'),\n",
       " (65.83, 'Brasil'),\n",
       " (41.34, 'Francia')]"
      ]
     },
     "execution_count": 74,
     "metadata": {},
     "output_type": "execute_result"
    }
   ],
   "source": [
    "paises = [extraerTupla(i) for i in csv.split(\"\\n\")]\n",
    "paises[:5]"
   ]
  },
  {
   "cell_type": "code",
   "execution_count": 60,
   "id": "495aa35e",
   "metadata": {},
   "outputs": [
    {
     "data": {
      "text/plain": [
       "[(2.94, 'Espanya'),\n",
       " (3.05, 'Brasil'),\n",
       " (3.25, 'Mexico'),\n",
       " (3.67, 'Suecia'),\n",
       " (4.54, 'Estados Unidos')]"
      ]
     },
     "execution_count": 60,
     "metadata": {},
     "output_type": "execute_result"
    }
   ],
   "source": [
    "paises.sort()\n",
    "paises[:5]"
   ]
  },
  {
   "cell_type": "code",
   "execution_count": 61,
   "id": "b27374ea",
   "metadata": {},
   "outputs": [
    {
     "data": {
      "text/plain": [
       "[(140.51, 'Austria'),\n",
       " (146.06, 'Austria'),\n",
       " (148.33, 'Suiza'),\n",
       " (208.58, 'Alemania'),\n",
       " (229.24, 'Alemania')]"
      ]
     },
     "execution_count": 61,
     "metadata": {},
     "output_type": "execute_result"
    }
   ],
   "source": [
    "paises[-5:]"
   ]
  },
  {
   "cell_type": "code",
   "execution_count": 73,
   "id": "bb182f9c",
   "metadata": {},
   "outputs": [],
   "source": [
    "def ordenar(t):\n",
    "    print(\"tupla:\",t[1])\n",
    "    return t[1]"
   ]
  },
  {
   "cell_type": "code",
   "execution_count": 69,
   "id": "4d4f56c7",
   "metadata": {},
   "outputs": [
    {
     "data": {
      "text/plain": [
       "(25.83, 'Alemania')"
      ]
     },
     "execution_count": 69,
     "metadata": {},
     "output_type": "execute_result"
    }
   ],
   "source": [
    "paises[1]"
   ]
  },
  {
   "cell_type": "code",
   "execution_count": 75,
   "id": "359a9da4",
   "metadata": {},
   "outputs": [
    {
     "name": "stdout",
     "output_type": "stream",
     "text": [
      "tupla: Estados Unidos\n",
      "tupla: Finlandia\n",
      "tupla: Alemania\n",
      "tupla: Brasil\n",
      "tupla: Francia\n",
      "tupla: Belgica\n",
      "tupla: Brasil\n",
      "tupla: Suiza\n",
      "tupla: Suiza\n",
      "tupla: Brasil\n",
      "tupla: Venezuela\n",
      "tupla: Austria\n",
      "tupla: Mexico\n",
      "tupla: Alemania\n",
      "tupla: Brasil\n",
      "tupla: Estados Unidos\n",
      "tupla: Austria\n",
      "tupla: Suecia\n",
      "tupla: Francia\n",
      "tupla: Finlandia\n",
      "tupla: Alemania\n",
      "tupla: Venezuela\n",
      "tupla: Estados Unidos\n",
      "tupla: Finlandia\n",
      "tupla: Estados Unidos\n",
      "tupla: Estados Unidos\n",
      "tupla: Alemania\n",
      "tupla: Francia\n",
      "tupla: Italia\n",
      "tupla: Mexico\n",
      "tupla: Alemania\n",
      "tupla: Suecia\n",
      "tupla: Alemania\n",
      "tupla: Suecia\n",
      "tupla: Espanya\n",
      "tupla: Espanya\n",
      "tupla: Venezuela\n",
      "tupla: Alemania\n",
      "tupla: Alemania\n",
      "tupla: Alemania\n"
     ]
    },
    {
     "data": {
      "text/plain": [
       "[(11.61, 'Alemania'),\n",
       " (55.09, 'Alemania'),\n",
       " (208.58, 'Alemania'),\n",
       " (76.07, 'Alemania'),\n",
       " (125.77, 'Alemania'),\n",
       " (25.83, 'Alemania'),\n",
       " (76.56, 'Alemania'),\n",
       " (76.83, 'Alemania'),\n",
       " (229.24, 'Alemania'),\n",
       " (140.51, 'Austria'),\n",
       " (146.06, 'Austria'),\n",
       " (51.3, 'Belgica'),\n",
       " (65.83, 'Brasil'),\n",
       " (58.17, 'Brasil'),\n",
       " (13.97, 'Brasil'),\n",
       " (3.05, 'Brasil'),\n",
       " (2.94, 'Espanya'),\n",
       " (12.69, 'Espanya'),\n",
       " (99.0, 'Estados Unidos'),\n",
       " (48.29, 'Estados Unidos'),\n",
       " (4.56, 'Estados Unidos'),\n",
       " (4.54, 'Estados Unidos'),\n",
       " (98.03, 'Estados Unidos'),\n",
       " (32.38, 'Finlandia'),\n",
       " (25.73, 'Finlandia'),\n",
       " (136.54, 'Finlandia'),\n",
       " (41.34, 'Francia'),\n",
       " (55.28, 'Francia'),\n",
       " (6.01, 'Francia'),\n",
       " (26.93, 'Italia'),\n",
       " (3.25, 'Mexico'),\n",
       " (13.84, 'Mexico'),\n",
       " (3.67, 'Suecia'),\n",
       " (92.69, 'Suecia'),\n",
       " (8.98, 'Suecia'),\n",
       " (22.98, 'Suiza'),\n",
       " (148.33, 'Suiza'),\n",
       " (81.91, 'Venezuela'),\n",
       " (66.29, 'Venezuela'),\n",
       " (84.81, 'Venezuela')]"
      ]
     },
     "execution_count": 75,
     "metadata": {},
     "output_type": "execute_result"
    }
   ],
   "source": [
    "paises.sort(key=ordenar)\n",
    "#paises.sort(key=lambda t:t[1])\n",
    "paises"
   ]
  },
  {
   "cell_type": "code",
   "execution_count": null,
   "id": "74da1a7e",
   "metadata": {},
   "outputs": [],
   "source": []
  }
 ],
 "metadata": {
  "kernelspec": {
   "display_name": "Python 3 (ipykernel)",
   "language": "python",
   "name": "python3"
  },
  "language_info": {
   "codemirror_mode": {
    "name": "ipython",
    "version": 3
   },
   "file_extension": ".py",
   "mimetype": "text/x-python",
   "name": "python",
   "nbconvert_exporter": "python",
   "pygments_lexer": "ipython3",
   "version": "3.9.13"
  }
 },
 "nbformat": 4,
 "nbformat_minor": 5
}

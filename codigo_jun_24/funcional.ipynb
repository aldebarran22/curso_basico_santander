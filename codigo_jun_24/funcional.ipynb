{
 "cells": [
  {
   "cell_type": "markdown",
   "id": "f7c7696d",
   "metadata": {},
   "source": [
    "### Programación funcional"
   ]
  },
  {
   "cell_type": "markdown",
   "id": "67148dbf",
   "metadata": {},
   "source": [
    "- Iteradores: map y filter\n",
    "- Función reduce\n",
    "- List comprehension"
   ]
  },
  {
   "cell_type": "code",
   "execution_count": 19,
   "id": "7ded6159",
   "metadata": {},
   "outputs": [],
   "source": [
    "from random import randint\n",
    "from functools import reduce\n",
    "from string import ascii_letters"
   ]
  },
  {
   "cell_type": "code",
   "execution_count": 2,
   "id": "f15795f1",
   "metadata": {},
   "outputs": [
    {
     "data": {
      "text/plain": [
       "[1, 3, 4, 5, 6, 7]"
      ]
     },
     "execution_count": 2,
     "metadata": {},
     "output_type": "execute_result"
    }
   ],
   "source": [
    "L = [1,3,4,5,6,7]\n",
    "L"
   ]
  },
  {
   "cell_type": "code",
   "execution_count": 3,
   "id": "e2bbe72e",
   "metadata": {},
   "outputs": [],
   "source": [
    "def cuadrado(n):\n",
    "    return n**2"
   ]
  },
  {
   "cell_type": "code",
   "execution_count": 4,
   "id": "7c97f973",
   "metadata": {},
   "outputs": [
    {
     "data": {
      "text/plain": [
       "[1, 9, 16, 25, 36, 49]"
      ]
     },
     "execution_count": 4,
     "metadata": {},
     "output_type": "execute_result"
    }
   ],
   "source": [
    "R = []\n",
    "for i in L:\n",
    "    R.append(cuadrado(i))\n",
    "R"
   ]
  },
  {
   "cell_type": "markdown",
   "id": "0b30f4cc",
   "metadata": {},
   "source": [
    "#### map"
   ]
  },
  {
   "cell_type": "code",
   "execution_count": 5,
   "id": "d3096f31",
   "metadata": {},
   "outputs": [
    {
     "name": "stdout",
     "output_type": "stream",
     "text": [
      "1 9 16 25 36 49 "
     ]
    }
   ],
   "source": [
    "R2 = map(cuadrado, L)\n",
    "for i in R2:\n",
    "    print(i, end=\" \")"
   ]
  },
  {
   "cell_type": "code",
   "execution_count": 6,
   "id": "8f286165",
   "metadata": {},
   "outputs": [
    {
     "data": {
      "text/plain": [
       "[1, 9, 16, 25, 36, 49]"
      ]
     },
     "execution_count": 6,
     "metadata": {},
     "output_type": "execute_result"
    }
   ],
   "source": [
    "R2 = list(map(cuadrado, L))\n",
    "R2"
   ]
  },
  {
   "cell_type": "code",
   "execution_count": 7,
   "id": "21064ab8",
   "metadata": {},
   "outputs": [
    {
     "data": {
      "text/plain": [
       "{1, 9, 16, 25, 36, 49}"
      ]
     },
     "execution_count": 7,
     "metadata": {},
     "output_type": "execute_result"
    }
   ],
   "source": [
    "c2 = set(map(cuadrado, L))\n",
    "c2"
   ]
  },
  {
   "cell_type": "markdown",
   "id": "e80bd465",
   "metadata": {},
   "source": [
    "#### Con List compre."
   ]
  },
  {
   "cell_type": "code",
   "execution_count": 8,
   "id": "45d98257",
   "metadata": {},
   "outputs": [
    {
     "data": {
      "text/plain": [
       "[1, 9, 16, 25, 36, 49]"
      ]
     },
     "execution_count": 8,
     "metadata": {},
     "output_type": "execute_result"
    }
   ],
   "source": [
    "R3 = [cuadrado(i) for i in L]\n",
    "R3"
   ]
  },
  {
   "cell_type": "code",
   "execution_count": 9,
   "id": "319a3e04",
   "metadata": {},
   "outputs": [
    {
     "data": {
      "text/plain": [
       "[1, 9, 16, 25, 36, 49]"
      ]
     },
     "execution_count": 9,
     "metadata": {},
     "output_type": "execute_result"
    }
   ],
   "source": [
    "R4 = [i**2 for i in L]\n",
    "R4"
   ]
  },
  {
   "cell_type": "markdown",
   "id": "da6d252e",
   "metadata": {},
   "source": [
    "#### filter"
   ]
  },
  {
   "cell_type": "code",
   "execution_count": 10,
   "id": "66474f1e",
   "metadata": {},
   "outputs": [
    {
     "data": {
      "text/plain": [
       "[4, 12, 22, 2, 9, 28, 5, 6, 12, 19]"
      ]
     },
     "execution_count": 10,
     "metadata": {},
     "output_type": "execute_result"
    }
   ],
   "source": [
    "# Generar una lista de números aleatorios con L.C.\n",
    "numeros = [randint(1,30) for _ in range(30)]\n",
    "numeros[:10]"
   ]
  },
  {
   "cell_type": "code",
   "execution_count": 11,
   "id": "756fd7ab",
   "metadata": {},
   "outputs": [],
   "source": [
    "def filtro(n):\n",
    "    if n > 20:\n",
    "        return True\n",
    "    else:\n",
    "        return False"
   ]
  },
  {
   "cell_type": "code",
   "execution_count": 12,
   "id": "c8312581",
   "metadata": {},
   "outputs": [],
   "source": [
    "def filtro2(n):\n",
    "    return n > 20"
   ]
  },
  {
   "cell_type": "code",
   "execution_count": 13,
   "id": "23918e7b",
   "metadata": {},
   "outputs": [
    {
     "data": {
      "text/plain": [
       "[22, 28, 28, 30, 30, 29, 25, 24, 28, 24, 23, 29]"
      ]
     },
     "execution_count": 13,
     "metadata": {},
     "output_type": "execute_result"
    }
   ],
   "source": [
    "R3 = list(filter(filtro, numeros))\n",
    "R3"
   ]
  },
  {
   "cell_type": "markdown",
   "id": "459553f8",
   "metadata": {},
   "source": [
    "#### Con LC."
   ]
  },
  {
   "cell_type": "code",
   "execution_count": 14,
   "id": "1943c13a",
   "metadata": {},
   "outputs": [
    {
     "data": {
      "text/plain": [
       "[22, 28, 28, 30, 30, 29, 25, 24, 28, 24, 23, 29]"
      ]
     },
     "execution_count": 14,
     "metadata": {},
     "output_type": "execute_result"
    }
   ],
   "source": [
    "R4 = [i for i in numeros if filtro(i)]\n",
    "R4"
   ]
  },
  {
   "cell_type": "code",
   "execution_count": 15,
   "id": "884a6f05",
   "metadata": {},
   "outputs": [
    {
     "data": {
      "text/plain": [
       "[22, 28, 28, 30, 30, 29, 25, 24, 28, 24, 23, 29]"
      ]
     },
     "execution_count": 15,
     "metadata": {},
     "output_type": "execute_result"
    }
   ],
   "source": [
    "R4 = [i for i in numeros if i > 20]\n",
    "R4"
   ]
  },
  {
   "cell_type": "markdown",
   "id": "21be7de4",
   "metadata": {},
   "source": [
    "#### reduce"
   ]
  },
  {
   "cell_type": "code",
   "execution_count": 17,
   "id": "1760c7aa",
   "metadata": {},
   "outputs": [],
   "source": [
    "def minimo(a,b):\n",
    "    print(a,b)\n",
    "    \n",
    "    return a if a < b else b"
   ]
  },
  {
   "cell_type": "code",
   "execution_count": 18,
   "id": "16009a49",
   "metadata": {},
   "outputs": [
    {
     "name": "stdout",
     "output_type": "stream",
     "text": [
      "40 39\n",
      "39 42\n",
      "39 28\n",
      "28 33\n",
      "28 21\n",
      "21 7\n",
      "7 9\n",
      "7 1\n"
     ]
    },
    {
     "data": {
      "text/plain": [
       "1"
      ]
     },
     "execution_count": 18,
     "metadata": {},
     "output_type": "execute_result"
    }
   ],
   "source": [
    "L = [40, 39, 42, 28, 33, 21, 7, 9, 1]\n",
    "valor = reduce(minimo, L)\n",
    "valor"
   ]
  },
  {
   "cell_type": "markdown",
   "id": "63eb42eb",
   "metadata": {},
   "source": [
    "Generar una lista de candidatos con diccionarios. "
   ]
  },
  {
   "cell_type": "code",
   "execution_count": 23,
   "id": "1ac302aa",
   "metadata": {},
   "outputs": [
    {
     "data": {
      "text/plain": [
       "[{'nombre': 'aaaaa', 'exp': 10, 'emp': 5, 'sup': False},\n",
       " {'nombre': 'bbbbb', 'exp': 5, 'emp': 4, 'sup': False},\n",
       " {'nombre': 'ccccc', 'exp': 5, 'emp': 4, 'sup': True},\n",
       " {'nombre': 'ddddd', 'exp': 5, 'emp': 3, 'sup': True},\n",
       " {'nombre': 'eeeee', 'exp': 9, 'emp': 4, 'sup': False},\n",
       " {'nombre': 'fffff', 'exp': 9, 'emp': 3, 'sup': False},\n",
       " {'nombre': 'ggggg', 'exp': 5, 'emp': 6, 'sup': False},\n",
       " {'nombre': 'hhhhh', 'exp': 8, 'emp': 3, 'sup': True},\n",
       " {'nombre': 'iiiii', 'exp': 10, 'emp': 4, 'sup': False},\n",
       " {'nombre': 'jjjjj', 'exp': 8, 'emp': 4, 'sup': True},\n",
       " {'nombre': 'kkkkk', 'exp': 7, 'emp': 6, 'sup': False},\n",
       " {'nombre': 'lllll', 'exp': 7, 'emp': 6, 'sup': False},\n",
       " {'nombre': 'mmmmm', 'exp': 5, 'emp': 5, 'sup': False},\n",
       " {'nombre': 'nnnnn', 'exp': 7, 'emp': 6, 'sup': True},\n",
       " {'nombre': 'ooooo', 'exp': 7, 'emp': 3, 'sup': True},\n",
       " {'nombre': 'ppppp', 'exp': 7, 'emp': 3, 'sup': False},\n",
       " {'nombre': 'qqqqq', 'exp': 6, 'emp': 5, 'sup': True},\n",
       " {'nombre': 'rrrrr', 'exp': 7, 'emp': 4, 'sup': False},\n",
       " {'nombre': 'sssss', 'exp': 8, 'emp': 6, 'sup': False},\n",
       " {'nombre': 'ttttt', 'exp': 8, 'emp': 6, 'sup': False},\n",
       " {'nombre': 'uuuuu', 'exp': 5, 'emp': 5, 'sup': True},\n",
       " {'nombre': 'vvvvv', 'exp': 10, 'emp': 6, 'sup': False},\n",
       " {'nombre': 'wwwww', 'exp': 8, 'emp': 3, 'sup': False},\n",
       " {'nombre': 'xxxxx', 'exp': 9, 'emp': 3, 'sup': False},\n",
       " {'nombre': 'yyyyy', 'exp': 9, 'emp': 5, 'sup': False},\n",
       " {'nombre': 'zzzzz', 'exp': 7, 'emp': 4, 'sup': False},\n",
       " {'nombre': 'AAAAA', 'exp': 9, 'emp': 6, 'sup': False},\n",
       " {'nombre': 'BBBBB', 'exp': 5, 'emp': 6, 'sup': True},\n",
       " {'nombre': 'CCCCC', 'exp': 8, 'emp': 6, 'sup': True},\n",
       " {'nombre': 'DDDDD', 'exp': 5, 'emp': 5, 'sup': False},\n",
       " {'nombre': 'EEEEE', 'exp': 6, 'emp': 4, 'sup': False},\n",
       " {'nombre': 'FFFFF', 'exp': 10, 'emp': 3, 'sup': False},\n",
       " {'nombre': 'GGGGG', 'exp': 7, 'emp': 3, 'sup': False},\n",
       " {'nombre': 'HHHHH', 'exp': 8, 'emp': 3, 'sup': False},\n",
       " {'nombre': 'IIIII', 'exp': 7, 'emp': 4, 'sup': True},\n",
       " {'nombre': 'JJJJJ', 'exp': 7, 'emp': 3, 'sup': False},\n",
       " {'nombre': 'KKKKK', 'exp': 6, 'emp': 4, 'sup': True},\n",
       " {'nombre': 'LLLLL', 'exp': 8, 'emp': 4, 'sup': False},\n",
       " {'nombre': 'MMMMM', 'exp': 5, 'emp': 4, 'sup': False},\n",
       " {'nombre': 'NNNNN', 'exp': 6, 'emp': 4, 'sup': True},\n",
       " {'nombre': 'OOOOO', 'exp': 5, 'emp': 4, 'sup': True},\n",
       " {'nombre': 'PPPPP', 'exp': 9, 'emp': 5, 'sup': False},\n",
       " {'nombre': 'QQQQQ', 'exp': 9, 'emp': 6, 'sup': False},\n",
       " {'nombre': 'RRRRR', 'exp': 9, 'emp': 6, 'sup': True},\n",
       " {'nombre': 'SSSSS', 'exp': 9, 'emp': 6, 'sup': False},\n",
       " {'nombre': 'TTTTT', 'exp': 8, 'emp': 3, 'sup': True},\n",
       " {'nombre': 'UUUUU', 'exp': 8, 'emp': 6, 'sup': True},\n",
       " {'nombre': 'VVVVV', 'exp': 7, 'emp': 3, 'sup': True},\n",
       " {'nombre': 'WWWWW', 'exp': 5, 'emp': 5, 'sup': False},\n",
       " {'nombre': 'XXXXX', 'exp': 5, 'emp': 4, 'sup': True},\n",
       " {'nombre': 'YYYYY', 'exp': 9, 'emp': 6, 'sup': False},\n",
       " {'nombre': 'ZZZZZ', 'exp': 7, 'emp': 5, 'sup': True}]"
      ]
     },
     "execution_count": 23,
     "metadata": {},
     "output_type": "execute_result"
    }
   ],
   "source": [
    "candidatos = [{\"nombre\":letra * 5, \\\n",
    "               \"exp\":randint(5,10), \\\n",
    "               \"emp\":randint(3,6),\n",
    "               \"sup\": randint(1,10) % 2 == 0} \\\n",
    "              for letra in ascii_letters]\n",
    "candidatos"
   ]
  },
  {
   "cell_type": "code",
   "execution_count": null,
   "id": "2cd756c7",
   "metadata": {},
   "outputs": [],
   "source": []
  }
 ],
 "metadata": {
  "kernelspec": {
   "display_name": "Python 3 (ipykernel)",
   "language": "python",
   "name": "python3"
  },
  "language_info": {
   "codemirror_mode": {
    "name": "ipython",
    "version": 3
   },
   "file_extension": ".py",
   "mimetype": "text/x-python",
   "name": "python",
   "nbconvert_exporter": "python",
   "pygments_lexer": "ipython3",
   "version": "3.9.13"
  }
 },
 "nbformat": 4,
 "nbformat_minor": 5
}

{
 "cells": [
  {
   "cell_type": "markdown",
   "id": "13cac9dc",
   "metadata": {},
   "source": [
    "### Programación funcional"
   ]
  },
  {
   "cell_type": "markdown",
   "id": "99bd6cdf",
   "metadata": {},
   "source": [
    "- Iteradores: map y filter\n",
    "- Función reduce\n",
    "- List comprehension"
   ]
  },
  {
   "cell_type": "code",
   "execution_count": 19,
   "id": "792ccdea",
   "metadata": {},
   "outputs": [],
   "source": [
    "from random import randint\n",
    "from functools import reduce\n",
    "from string import ascii_letters"
   ]
  },
  {
   "cell_type": "code",
   "execution_count": 2,
   "id": "89ed3343",
   "metadata": {},
   "outputs": [
    {
     "data": {
      "text/plain": [
       "[1, 3, 4, 5, 6, 7]"
      ]
     },
     "execution_count": 2,
     "metadata": {},
     "output_type": "execute_result"
    }
   ],
   "source": [
    "L = [1,3,4,5,6,7]\n",
    "L"
   ]
  },
  {
   "cell_type": "code",
   "execution_count": 3,
   "id": "c1b91969",
   "metadata": {},
   "outputs": [],
   "source": [
    "def cuadrado(n):\n",
    "    return n**2"
   ]
  },
  {
   "cell_type": "code",
   "execution_count": 4,
   "id": "85f057f1",
   "metadata": {},
   "outputs": [
    {
     "data": {
      "text/plain": [
       "[1, 9, 16, 25, 36, 49]"
      ]
     },
     "execution_count": 4,
     "metadata": {},
     "output_type": "execute_result"
    }
   ],
   "source": [
    "R = []\n",
    "for i in L:\n",
    "    R.append(cuadrado(i))\n",
    "R"
   ]
  },
  {
   "cell_type": "markdown",
   "id": "aa51a9ff",
   "metadata": {},
   "source": [
    "#### map"
   ]
  },
  {
   "cell_type": "code",
   "execution_count": 5,
   "id": "72e06bab",
   "metadata": {},
   "outputs": [
    {
     "name": "stdout",
     "output_type": "stream",
     "text": [
      "1 9 16 25 36 49 "
     ]
    }
   ],
   "source": [
    "R2 = map(cuadrado, L)\n",
    "for i in R2:\n",
    "    print(i, end=\" \")"
   ]
  },
  {
   "cell_type": "code",
   "execution_count": 6,
   "id": "71d15b64",
   "metadata": {},
   "outputs": [
    {
     "data": {
      "text/plain": [
       "[1, 9, 16, 25, 36, 49]"
      ]
     },
     "execution_count": 6,
     "metadata": {},
     "output_type": "execute_result"
    }
   ],
   "source": [
    "R2 = list(map(cuadrado, L))\n",
    "R2"
   ]
  },
  {
   "cell_type": "code",
   "execution_count": 7,
   "id": "f82cc923",
   "metadata": {},
   "outputs": [
    {
     "data": {
      "text/plain": [
       "{1, 9, 16, 25, 36, 49}"
      ]
     },
     "execution_count": 7,
     "metadata": {},
     "output_type": "execute_result"
    }
   ],
   "source": [
    "c2 = set(map(cuadrado, L))\n",
    "c2"
   ]
  },
  {
   "cell_type": "markdown",
   "id": "b38a6a76",
   "metadata": {},
   "source": [
    "#### Con List compre."
   ]
  },
  {
   "cell_type": "code",
   "execution_count": 8,
   "id": "b11e84af",
   "metadata": {},
   "outputs": [
    {
     "data": {
      "text/plain": [
       "[1, 9, 16, 25, 36, 49]"
      ]
     },
     "execution_count": 8,
     "metadata": {},
     "output_type": "execute_result"
    }
   ],
   "source": [
    "R3 = [cuadrado(i) for i in L]\n",
    "R3"
   ]
  },
  {
   "cell_type": "code",
   "execution_count": 9,
   "id": "020d0511",
   "metadata": {},
   "outputs": [
    {
     "data": {
      "text/plain": [
       "[1, 9, 16, 25, 36, 49]"
      ]
     },
     "execution_count": 9,
     "metadata": {},
     "output_type": "execute_result"
    }
   ],
   "source": [
    "R4 = [i**2 for i in L]\n",
    "R4"
   ]
  },
  {
   "cell_type": "markdown",
   "id": "b6169256",
   "metadata": {},
   "source": [
    "#### filter"
   ]
  },
  {
   "cell_type": "code",
   "execution_count": 10,
   "id": "b9625b89",
   "metadata": {},
   "outputs": [
    {
     "data": {
      "text/plain": [
       "[4, 12, 22, 2, 9, 28, 5, 6, 12, 19]"
      ]
     },
     "execution_count": 10,
     "metadata": {},
     "output_type": "execute_result"
    }
   ],
   "source": [
    "# Generar una lista de números aleatorios con L.C.\n",
    "numeros = [randint(1,30) for _ in range(30)]\n",
    "numeros[:10]"
   ]
  },
  {
   "cell_type": "code",
   "execution_count": 11,
   "id": "2b169c4a",
   "metadata": {},
   "outputs": [],
   "source": [
    "def filtro(n):\n",
    "    if n > 20:\n",
    "        return True\n",
    "    else:\n",
    "        return False"
   ]
  },
  {
   "cell_type": "code",
   "execution_count": 12,
   "id": "63214245",
   "metadata": {},
   "outputs": [],
   "source": [
    "def filtro2(n):\n",
    "    return n > 20"
   ]
  },
  {
   "cell_type": "code",
   "execution_count": 13,
   "id": "3a46945e",
   "metadata": {},
   "outputs": [
    {
     "data": {
      "text/plain": [
       "[22, 28, 28, 30, 30, 29, 25, 24, 28, 24, 23, 29]"
      ]
     },
     "execution_count": 13,
     "metadata": {},
     "output_type": "execute_result"
    }
   ],
   "source": [
    "R3 = list(filter(filtro, numeros))\n",
    "R3"
   ]
  },
  {
   "cell_type": "markdown",
   "id": "2613587d",
   "metadata": {},
   "source": [
    "#### Con LC."
   ]
  },
  {
   "cell_type": "code",
   "execution_count": 14,
   "id": "17a0b7df",
   "metadata": {},
   "outputs": [
    {
     "data": {
      "text/plain": [
       "[22, 28, 28, 30, 30, 29, 25, 24, 28, 24, 23, 29]"
      ]
     },
     "execution_count": 14,
     "metadata": {},
     "output_type": "execute_result"
    }
   ],
   "source": [
    "R4 = [i for i in numeros if filtro(i)]\n",
    "R4"
   ]
  },
  {
   "cell_type": "code",
   "execution_count": 15,
   "id": "8e18ec57",
   "metadata": {},
   "outputs": [
    {
     "data": {
      "text/plain": [
       "[22, 28, 28, 30, 30, 29, 25, 24, 28, 24, 23, 29]"
      ]
     },
     "execution_count": 15,
     "metadata": {},
     "output_type": "execute_result"
    }
   ],
   "source": [
    "R4 = [i for i in numeros if i > 20]\n",
    "R4"
   ]
  },
  {
   "cell_type": "markdown",
   "id": "05491fac",
   "metadata": {},
   "source": [
    "#### reduce"
   ]
  },
  {
   "cell_type": "code",
   "execution_count": 17,
   "id": "d948b0a2",
   "metadata": {},
   "outputs": [],
   "source": [
    "def minimo(a,b):\n",
    "    print(a,b)\n",
    "    \n",
    "    return a if a < b else b"
   ]
  },
  {
   "cell_type": "code",
   "execution_count": 18,
   "id": "75d99464",
   "metadata": {},
   "outputs": [
    {
     "name": "stdout",
     "output_type": "stream",
     "text": [
      "40 39\n",
      "39 42\n",
      "39 28\n",
      "28 33\n",
      "28 21\n",
      "21 7\n",
      "7 9\n",
      "7 1\n"
     ]
    },
    {
     "data": {
      "text/plain": [
       "1"
      ]
     },
     "execution_count": 18,
     "metadata": {},
     "output_type": "execute_result"
    }
   ],
   "source": [
    "L = [40, 39, 42, 28, 33, 21, 7, 9, 1]\n",
    "valor = reduce(minimo, L)\n",
    "valor"
   ]
  },
  {
   "cell_type": "markdown",
   "id": "b8225f78",
   "metadata": {},
   "source": [
    "Generar una lista de candidatos con diccionarios. "
   ]
  },
  {
   "cell_type": "code",
   "execution_count": 31,
   "id": "9331829b",
   "metadata": {},
   "outputs": [],
   "source": [
    "def generarCode(c):        \n",
    "        valores = list(c.values())        \n",
    "        valores = tuple(valores[1:])               \n",
    "        codigo = \"%d%d%d\" % valores\n",
    "        return int(codigo)               \n"
   ]
  },
  {
   "cell_type": "code",
   "execution_count": 32,
   "id": "6abe0d1c",
   "metadata": {},
   "outputs": [
    {
     "name": "stdout",
     "output_type": "stream",
     "text": [
      "1051\n",
      "\n",
      "540\n"
     ]
    }
   ],
   "source": [
    "d1 = {'nombre': 'aaaaa', 'exp': 10, 'emp': 5, 'sup': True}\n",
    "d2 = {'nombre': 'bbbbb', 'exp': 5, 'emp': 4, 'sup': False}\n",
    "\n",
    "print(generarCode(d1))\n",
    "print()\n",
    "print(generarCode(d2))"
   ]
  },
  {
   "cell_type": "code",
   "execution_count": 33,
   "id": "faba6033",
   "metadata": {},
   "outputs": [],
   "source": [
    "def mejorCandidato(c1, c2):\n",
    "    \n",
    "    def generarCode(c):        \n",
    "        valores = list(c.values())        \n",
    "        valores = tuple(valores[1:])               \n",
    "        codigo = \"%d%d%d\" % valores\n",
    "        return int(codigo)  \n",
    "    \n",
    "    cod1 = generarCode(c1)\n",
    "    cod2 = generarCode(c2)\n",
    "    \n",
    "    return c1 if cod1 > cod2 else c2  \n",
    "    "
   ]
  },
  {
   "cell_type": "code",
   "execution_count": 36,
   "id": "ba7dfa40",
   "metadata": {},
   "outputs": [
    {
     "data": {
      "text/plain": [
       "[{'nombre': 'aaaaa', 'exp': 6, 'emp': 4, 'sup': True},\n",
       " {'nombre': 'bbbbb', 'exp': 9, 'emp': 6, 'sup': False},\n",
       " {'nombre': 'ccccc', 'exp': 8, 'emp': 5, 'sup': False},\n",
       " {'nombre': 'ddddd', 'exp': 7, 'emp': 4, 'sup': True},\n",
       " {'nombre': 'eeeee', 'exp': 7, 'emp': 6, 'sup': False},\n",
       " {'nombre': 'fffff', 'exp': 10, 'emp': 4, 'sup': False},\n",
       " {'nombre': 'ggggg', 'exp': 10, 'emp': 6, 'sup': True},\n",
       " {'nombre': 'hhhhh', 'exp': 9, 'emp': 5, 'sup': False},\n",
       " {'nombre': 'iiiii', 'exp': 9, 'emp': 6, 'sup': False},\n",
       " {'nombre': 'jjjjj', 'exp': 6, 'emp': 4, 'sup': True},\n",
       " {'nombre': 'kkkkk', 'exp': 9, 'emp': 4, 'sup': False},\n",
       " {'nombre': 'lllll', 'exp': 9, 'emp': 5, 'sup': False},\n",
       " {'nombre': 'mmmmm', 'exp': 7, 'emp': 5, 'sup': False},\n",
       " {'nombre': 'nnnnn', 'exp': 6, 'emp': 5, 'sup': False},\n",
       " {'nombre': 'ooooo', 'exp': 9, 'emp': 4, 'sup': False},\n",
       " {'nombre': 'ppppp', 'exp': 6, 'emp': 5, 'sup': True},\n",
       " {'nombre': 'qqqqq', 'exp': 8, 'emp': 4, 'sup': False},\n",
       " {'nombre': 'rrrrr', 'exp': 7, 'emp': 6, 'sup': True},\n",
       " {'nombre': 'sssss', 'exp': 9, 'emp': 4, 'sup': True},\n",
       " {'nombre': 'ttttt', 'exp': 7, 'emp': 4, 'sup': True},\n",
       " {'nombre': 'uuuuu', 'exp': 9, 'emp': 6, 'sup': True},\n",
       " {'nombre': 'vvvvv', 'exp': 10, 'emp': 4, 'sup': True},\n",
       " {'nombre': 'wwwww', 'exp': 7, 'emp': 6, 'sup': False},\n",
       " {'nombre': 'xxxxx', 'exp': 10, 'emp': 4, 'sup': True},\n",
       " {'nombre': 'yyyyy', 'exp': 6, 'emp': 6, 'sup': True},\n",
       " {'nombre': 'zzzzz', 'exp': 6, 'emp': 4, 'sup': False},\n",
       " {'nombre': 'AAAAA', 'exp': 6, 'emp': 6, 'sup': False},\n",
       " {'nombre': 'BBBBB', 'exp': 6, 'emp': 5, 'sup': True},\n",
       " {'nombre': 'CCCCC', 'exp': 8, 'emp': 6, 'sup': False},\n",
       " {'nombre': 'DDDDD', 'exp': 9, 'emp': 4, 'sup': True},\n",
       " {'nombre': 'EEEEE', 'exp': 8, 'emp': 4, 'sup': True},\n",
       " {'nombre': 'FFFFF', 'exp': 9, 'emp': 4, 'sup': True},\n",
       " {'nombre': 'GGGGG', 'exp': 7, 'emp': 5, 'sup': False},\n",
       " {'nombre': 'HHHHH', 'exp': 7, 'emp': 6, 'sup': False},\n",
       " {'nombre': 'IIIII', 'exp': 10, 'emp': 4, 'sup': True},\n",
       " {'nombre': 'JJJJJ', 'exp': 10, 'emp': 6, 'sup': True},\n",
       " {'nombre': 'KKKKK', 'exp': 9, 'emp': 5, 'sup': True},\n",
       " {'nombre': 'LLLLL', 'exp': 8, 'emp': 4, 'sup': True},\n",
       " {'nombre': 'MMMMM', 'exp': 8, 'emp': 5, 'sup': True},\n",
       " {'nombre': 'NNNNN', 'exp': 10, 'emp': 6, 'sup': False},\n",
       " {'nombre': 'OOOOO', 'exp': 7, 'emp': 4, 'sup': False},\n",
       " {'nombre': 'PPPPP', 'exp': 9, 'emp': 5, 'sup': False},\n",
       " {'nombre': 'QQQQQ', 'exp': 8, 'emp': 6, 'sup': True},\n",
       " {'nombre': 'RRRRR', 'exp': 10, 'emp': 4, 'sup': False},\n",
       " {'nombre': 'SSSSS', 'exp': 8, 'emp': 6, 'sup': True},\n",
       " {'nombre': 'TTTTT', 'exp': 10, 'emp': 5, 'sup': True},\n",
       " {'nombre': 'UUUUU', 'exp': 10, 'emp': 5, 'sup': False},\n",
       " {'nombre': 'VVVVV', 'exp': 7, 'emp': 6, 'sup': True},\n",
       " {'nombre': 'WWWWW', 'exp': 7, 'emp': 6, 'sup': True},\n",
       " {'nombre': 'XXXXX', 'exp': 8, 'emp': 5, 'sup': False},\n",
       " {'nombre': 'YYYYY', 'exp': 9, 'emp': 6, 'sup': False},\n",
       " {'nombre': 'ZZZZZ', 'exp': 8, 'emp': 4, 'sup': False}]"
      ]
     },
     "execution_count": 36,
     "metadata": {},
     "output_type": "execute_result"
    }
   ],
   "source": [
    "candidatos = [{\"nombre\":letra * 5, \\\n",
    "               \"exp\":randint(6,10), \\\n",
    "               \"emp\":randint(4,6),\n",
    "               \"sup\": randint(1,10) % 2 == 0} \\\n",
    "              for letra in ascii_letters]\n",
    "candidatos"
   ]
  },
  {
   "cell_type": "code",
   "execution_count": 37,
   "id": "7deaa0b7",
   "metadata": {},
   "outputs": [
    {
     "data": {
      "text/plain": [
       "{'nombre': 'JJJJJ', 'exp': 10, 'emp': 6, 'sup': True}"
      ]
     },
     "execution_count": 37,
     "metadata": {},
     "output_type": "execute_result"
    }
   ],
   "source": [
    "elMejor = reduce(mejorCandidato, candidatos)\n",
    "elMejor"
   ]
  },
  {
   "cell_type": "markdown",
   "id": "a8e0a726",
   "metadata": {},
   "source": [
    "#### Ordenar colecciones"
   ]
  },
  {
   "cell_type": "code",
   "execution_count": 44,
   "id": "d068501f",
   "metadata": {},
   "outputs": [
    {
     "data": {
      "text/plain": [
       "['Ana', 'Andrés', 'Jose Miguel', 'Olga', 'Raúl', 'Sara']"
      ]
     },
     "execution_count": 44,
     "metadata": {},
     "output_type": "execute_result"
    }
   ],
   "source": [
    "nombres = [\"Olga\", \"Sara\",\"Andrés\", \"Ana\", \"Raúl\",\"Jose Miguel\"]\n",
    "nombres.sort()\n",
    "nombres"
   ]
  },
  {
   "cell_type": "code",
   "execution_count": 45,
   "id": "2bfd50a7",
   "metadata": {},
   "outputs": [
    {
     "data": {
      "text/plain": [
       "[3, 6, 11, 4, 4, 4]"
      ]
     },
     "execution_count": 45,
     "metadata": {},
     "output_type": "execute_result"
    }
   ],
   "source": [
    "longitudes = [len(i) for i in nombres]\n",
    "longitudes"
   ]
  },
  {
   "cell_type": "code",
   "execution_count": 42,
   "id": "5ecd9722",
   "metadata": {},
   "outputs": [
    {
     "data": {
      "text/plain": [
       "['Jose Miguel', 'Andrés', 'Olga', 'Raúl', 'Sara', 'Ana']"
      ]
     },
     "execution_count": 42,
     "metadata": {},
     "output_type": "execute_result"
    }
   ],
   "source": [
    "nombres.sort(key=len, reverse=True)\n",
    "nombres"
   ]
  },
  {
   "cell_type": "code",
   "execution_count": null,
   "id": "316ecdff",
   "metadata": {},
   "outputs": [],
   "source": []
  }
 ],
 "metadata": {
  "kernelspec": {
   "display_name": "Python 3 (ipykernel)",
   "language": "python",
   "name": "python3"
  },
  "language_info": {
   "codemirror_mode": {
    "name": "ipython",
    "version": 3
   },
   "file_extension": ".py",
   "mimetype": "text/x-python",
   "name": "python",
   "nbconvert_exporter": "python",
   "pygments_lexer": "ipython3",
   "version": "3.9.13"
  }
 },
 "nbformat": 4,
 "nbformat_minor": 5
}

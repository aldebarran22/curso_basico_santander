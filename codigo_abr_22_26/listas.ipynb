{
 "cells": [
  {
   "cell_type": "markdown",
   "id": "4ac83dc7",
   "metadata": {},
   "source": [
    "### Listas en Python"
   ]
  },
  {
   "cell_type": "markdown",
   "id": "ed1210ef",
   "metadata": {},
   "source": [
    "- Crear listas\n",
    "- Función list\n",
    "- Acceso a los elementos\n",
    "- Bucle for\n",
    "- Operadores\n",
    "- Slicing\n",
    "- Funciones\n",
    "- Métodos\n",
    "- Copia de listas"
   ]
  },
  {
   "cell_type": "code",
   "execution_count": 2,
   "id": "ec7c1830",
   "metadata": {},
   "outputs": [
    {
     "data": {
      "text/plain": [
       "[1, 2, 3, 4, 5, 4, 1, 2]"
      ]
     },
     "execution_count": 2,
     "metadata": {},
     "output_type": "execute_result"
    }
   ],
   "source": [
    "L = [1,2,3,4,5,4,1,2]\n",
    "L"
   ]
  },
  {
   "cell_type": "code",
   "execution_count": 3,
   "id": "c93841d9",
   "metadata": {},
   "outputs": [
    {
     "data": {
      "text/plain": [
       "['h', 'o', 'l', 'a', ' ', 'q', 'u', 'e', ' ', 't', 'a', 'l']"
      ]
     },
     "execution_count": 3,
     "metadata": {},
     "output_type": "execute_result"
    }
   ],
   "source": [
    "cad = \"hola que tal\"\n",
    "L2 = list(cad)\n",
    "L2"
   ]
  },
  {
   "cell_type": "code",
   "execution_count": 4,
   "id": "5ebb0982",
   "metadata": {},
   "outputs": [
    {
     "name": "stdout",
     "output_type": "stream",
     "text": [
      "[1, 2, 3, 4, 5, 6]\n",
      "recuento:  6\n",
      "suma:  21\n",
      "min:  1\n",
      "max:  6\n",
      "Promedio:  3.5\n"
     ]
    }
   ],
   "source": [
    "L3 = [1,2,3,4,5,6]\n",
    "print(L3)\n",
    "print(\"recuento: \", len(L3))\n",
    "print(\"suma: \", sum(L3))\n",
    "print(\"min: \", min(L3))\n",
    "print(\"max: \", max(L3))\n",
    "print(\"Promedio: \", sum(L3)/len(L3))"
   ]
  },
  {
   "cell_type": "code",
   "execution_count": 5,
   "id": "b891cc52",
   "metadata": {},
   "outputs": [
    {
     "name": "stdout",
     "output_type": "stream",
     "text": [
      "1\n",
      "2\n",
      "3\n",
      "4\n",
      "5\n",
      "6\n"
     ]
    }
   ],
   "source": [
    "for i in L3:\n",
    "    print(i)"
   ]
  },
  {
   "cell_type": "code",
   "execution_count": 6,
   "id": "a2cd56f2",
   "metadata": {},
   "outputs": [
    {
     "name": "stdout",
     "output_type": "stream",
     "text": [
      "0 1\n",
      "1 2\n",
      "2 3\n",
      "3 4\n",
      "4 5\n",
      "5 6\n"
     ]
    }
   ],
   "source": [
    "for pos, i in enumerate(L3):\n",
    "    print(pos,i)"
   ]
  },
  {
   "cell_type": "code",
   "execution_count": 7,
   "id": "4bda2994",
   "metadata": {},
   "outputs": [
    {
     "name": "stdout",
     "output_type": "stream",
     "text": [
      "[1, 2, 3, 4, 5, 6]\n"
     ]
    }
   ],
   "source": [
    "# operadores: +, *, in (funciona igual en cadenas y tuplas)\n",
    "L1 = [1,2,3]\n",
    "L2 = [4,5,6]\n",
    "print(L1 + L2) # Concatenar!"
   ]
  },
  {
   "cell_type": "code",
   "execution_count": 9,
   "id": "246aad00",
   "metadata": {},
   "outputs": [
    {
     "data": {
      "text/plain": [
       "[1, 2, 3, 1, 2, 3, 1, 2, 3]"
      ]
     },
     "execution_count": 9,
     "metadata": {},
     "output_type": "execute_result"
    }
   ],
   "source": [
    "L1 * 3  # Concatena 3 veces!"
   ]
  },
  {
   "cell_type": "code",
   "execution_count": 11,
   "id": "b61ad2ae",
   "metadata": {},
   "outputs": [
    {
     "name": "stdout",
     "output_type": "stream",
     "text": [
      "3 in L1:  True\n",
      "1 in L1:  True\n",
      "4 in L1:  False\n"
     ]
    }
   ],
   "source": [
    "print(\"3 in L1: \", 3 in L1)\n",
    "print(\"1 in L1: \", 1 in L1)\n",
    "print(\"4 in L1: \", 4 in L1)"
   ]
  },
  {
   "cell_type": "code",
   "execution_count": 12,
   "id": "b906cb8e",
   "metadata": {},
   "outputs": [
    {
     "data": {
      "text/plain": [
       "[2, 4]"
      ]
     },
     "execution_count": 12,
     "metadata": {},
     "output_type": "execute_result"
    }
   ],
   "source": [
    "# Crear una lista vacía y añadir elementos:\n",
    "R = []  # R = list()\n",
    "R += [2]\n",
    "R += [4]\n",
    "R\n"
   ]
  },
  {
   "cell_type": "code",
   "execution_count": 13,
   "id": "10a7b235",
   "metadata": {},
   "outputs": [
    {
     "data": {
      "text/plain": [
       "[1, 2, 3, 4]"
      ]
     },
     "execution_count": 13,
     "metadata": {},
     "output_type": "execute_result"
    }
   ],
   "source": [
    "# Calcular la intersección de dos listas (no puede haber repetidos)\n",
    "L1 = [1,2,1,2,3,4,5,4,3,1,8]\n",
    "L2 = [2,3,4,1,2,3,1,7]\n",
    "\n",
    "R = []\n",
    "for i in L1:\n",
    "    if i in L2 and i not in R:\n",
    "        R+=[i]\n",
    "R\n"
   ]
  },
  {
   "cell_type": "code",
   "execution_count": 16,
   "id": "5dd5a2ab",
   "metadata": {},
   "outputs": [
    {
     "name": "stdout",
     "output_type": "stream",
     "text": [
      "[1, 2, 3, 4]\n",
      "El primero:  1 1\n",
      "El último: 4 4\n"
     ]
    }
   ],
   "source": [
    "# Acceso a los elementos:\n",
    "print(R)\n",
    "print('El primero: ', R[0], R[-4])\n",
    "print(\"El último:\", R[-1], R[3])"
   ]
  },
  {
   "cell_type": "code",
   "execution_count": 18,
   "id": "a72557cc",
   "metadata": {},
   "outputs": [
    {
     "ename": "IndexError",
     "evalue": "list index out of range",
     "output_type": "error",
     "traceback": [
      "\u001b[1;31m---------------------------------------------------------------------------\u001b[0m",
      "\u001b[1;31mIndexError\u001b[0m                                Traceback (most recent call last)",
      "\u001b[1;32m~\\AppData\\Local\\Temp\\ipykernel_1728\\3935104803.py\u001b[0m in \u001b[0;36m<module>\u001b[1;34m\u001b[0m\n\u001b[1;32m----> 1\u001b[1;33m \u001b[0mR\u001b[0m\u001b[1;33m[\u001b[0m\u001b[1;36m10\u001b[0m\u001b[1;33m]\u001b[0m\u001b[1;33m\u001b[0m\u001b[1;33m\u001b[0m\u001b[0m\n\u001b[0m",
      "\u001b[1;31mIndexError\u001b[0m: list index out of range"
     ]
    }
   ],
   "source": [
    "R[10]"
   ]
  },
  {
   "cell_type": "code",
   "execution_count": 17,
   "id": "8cc19a14",
   "metadata": {},
   "outputs": [
    {
     "data": {
      "text/plain": [
       "'libro1.xlsx'"
      ]
     },
     "execution_count": 17,
     "metadata": {},
     "output_type": "execute_result"
    }
   ],
   "source": [
    "path = \"C:/mis documentos/libros/libro1.xlsx\"\n",
    "L = path.split(\"/\")\n",
    "fichero = L[-1]\n",
    "fichero"
   ]
  },
  {
   "cell_type": "code",
   "execution_count": 26,
   "id": "ddb0695c",
   "metadata": {},
   "outputs": [
    {
     "name": "stdout",
     "output_type": "stream",
     "text": [
      "[1, 2, 3, 4, 5, 6, 7, 8, 9]\n",
      "los 3 primeros:  [1, 2, 3] [1, 2, 3]\n",
      "los 3 últimos:  [7, 8, 9]\n",
      "Quitar el primero y el último:  [2, 3, 4, 5, 6, 7, 8]\n",
      "Toda la lista:  [1, 2, 3, 4, 5, 6, 7, 8, 9] [1, 2, 3, 4, 5, 6, 7, 8, 9]\n",
      "toda la lista de dos en dos:  [1, 3, 5, 7, 9]\n",
      "invertir:  [9, 8, 7, 6, 5, 4, 3, 2, 1]\n"
     ]
    }
   ],
   "source": [
    "# slicing(inicio:fin-1:salto=1)\n",
    "R = [1,2,3,4,5,6,7,8,9]\n",
    "print(R)\n",
    "print('los 3 primeros: ', R[0:3], R[:3])\n",
    "print('los 3 últimos: ', R[-3:])\n",
    "print('Quitar el primero y el último: ', R[1:-1])\n",
    "print('Toda la lista: ', R[:], R)\n",
    "print('toda la lista de dos en dos: ', R[::2])\n",
    "print('invertir: ', R[::-1])"
   ]
  },
  {
   "cell_type": "code",
   "execution_count": 30,
   "id": "af646f6b",
   "metadata": {},
   "outputs": [
    {
     "data": {
      "text/plain": [
       "'no capicua'"
      ]
     },
     "execution_count": 30,
     "metadata": {},
     "output_type": "execute_result"
    }
   ],
   "source": [
    "# Comprobar si el número es capicua\n",
    "numero = 1234321\n",
    "snum = str(numero)\n",
    "\"capicua\" if snum == snum[::-1] else \"no capicua\""
   ]
  },
  {
   "cell_type": "code",
   "execution_count": 32,
   "id": "0d8628df",
   "metadata": {},
   "outputs": [
    {
     "name": "stdout",
     "output_type": "stream",
     "text": [
      "0\n",
      "1\n",
      "2\n",
      "3\n",
      "4\n"
     ]
    }
   ],
   "source": [
    "for i in range(5):\n",
    "    print(i)"
   ]
  },
  {
   "cell_type": "code",
   "execution_count": 37,
   "id": "90cfd298",
   "metadata": {},
   "outputs": [
    {
     "name": "stdout",
     "output_type": "stream",
     "text": [
      "Del 1 al 10:  [1, 2, 3, 4, 5, 6, 7, 8, 9, 10]\n",
      "Del -10 al 10:  [-10, -9, -8, -7, -6, -5, -4, -3, -2, -1, 0, 1, 2, 3, 4, 5, 6, 7, 8, 9, 10]\n",
      "Del 0 al 100 de 5 en 5:  [0, 5, 10, 15, 20, 25, 30, 35, 40, 45, 50, 55, 60, 65, 70, 75, 80, 85, 90, 95, 100]\n",
      "Del 10 al 1:  [10, 9, 8, 7, 6, 5, 4, 3, 2, 1]\n"
     ]
    }
   ],
   "source": [
    "# range(ini, fin-1, salto=1)\n",
    "print(\"Del 1 al 10: \", list(range(1,11)))\n",
    "print(\"Del -10 al 10: \", list(range(-10, 11)))\n",
    "print('Del 0 al 100 de 5 en 5: ', list(range(0,101,5)))\n",
    "print('Del 10 al 1: ', list(range(10, 0, -1)))"
   ]
  },
  {
   "cell_type": "code",
   "execution_count": null,
   "id": "7e96cfc8",
   "metadata": {},
   "outputs": [],
   "source": []
  }
 ],
 "metadata": {
  "kernelspec": {
   "display_name": "Python 3 (ipykernel)",
   "language": "python",
   "name": "python3"
  },
  "language_info": {
   "codemirror_mode": {
    "name": "ipython",
    "version": 3
   },
   "file_extension": ".py",
   "mimetype": "text/x-python",
   "name": "python",
   "nbconvert_exporter": "python",
   "pygments_lexer": "ipython3",
   "version": "3.9.13"
  }
 },
 "nbformat": 4,
 "nbformat_minor": 5
}

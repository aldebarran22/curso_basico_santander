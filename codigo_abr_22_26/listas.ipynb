{
 "cells": [
  {
   "cell_type": "markdown",
   "id": "1d623b9d",
   "metadata": {},
   "source": [
    "### Listas en Python"
   ]
  },
  {
   "cell_type": "markdown",
   "id": "759d24f4",
   "metadata": {},
   "source": [
    "- Crear listas\n",
    "- Función list\n",
    "- Acceso a los elementos\n",
    "- Bucle for\n",
    "- Operadores\n",
    "- Slicing\n",
    "- Funciones\n",
    "- Métodos\n",
    "- Copia de listas"
   ]
  },
  {
   "cell_type": "code",
   "execution_count": 2,
   "id": "76a4fad6",
   "metadata": {},
   "outputs": [
    {
     "data": {
      "text/plain": [
       "[1, 2, 3, 4, 5, 4, 1, 2]"
      ]
     },
     "execution_count": 2,
     "metadata": {},
     "output_type": "execute_result"
    }
   ],
   "source": [
    "L = [1,2,3,4,5,4,1,2]\n",
    "L"
   ]
  },
  {
   "cell_type": "code",
   "execution_count": 3,
   "id": "65cf0dda",
   "metadata": {},
   "outputs": [
    {
     "data": {
      "text/plain": [
       "['h', 'o', 'l', 'a', ' ', 'q', 'u', 'e', ' ', 't', 'a', 'l']"
      ]
     },
     "execution_count": 3,
     "metadata": {},
     "output_type": "execute_result"
    }
   ],
   "source": [
    "cad = \"hola que tal\"\n",
    "L2 = list(cad)\n",
    "L2"
   ]
  },
  {
   "cell_type": "code",
   "execution_count": 4,
   "id": "c65eab0f",
   "metadata": {},
   "outputs": [
    {
     "name": "stdout",
     "output_type": "stream",
     "text": [
      "[1, 2, 3, 4, 5, 6]\n",
      "recuento:  6\n",
      "suma:  21\n",
      "min:  1\n",
      "max:  6\n",
      "Promedio:  3.5\n"
     ]
    }
   ],
   "source": [
    "L3 = [1,2,3,4,5,6]\n",
    "print(L3)\n",
    "print(\"recuento: \", len(L3))\n",
    "print(\"suma: \", sum(L3))\n",
    "print(\"min: \", min(L3))\n",
    "print(\"max: \", max(L3))\n",
    "print(\"Promedio: \", sum(L3)/len(L3))"
   ]
  },
  {
   "cell_type": "code",
   "execution_count": 5,
   "id": "a4742c05",
   "metadata": {},
   "outputs": [
    {
     "name": "stdout",
     "output_type": "stream",
     "text": [
      "1\n",
      "2\n",
      "3\n",
      "4\n",
      "5\n",
      "6\n"
     ]
    }
   ],
   "source": [
    "for i in L3:\n",
    "    print(i)"
   ]
  },
  {
   "cell_type": "code",
   "execution_count": 6,
   "id": "80a43ad4",
   "metadata": {},
   "outputs": [
    {
     "name": "stdout",
     "output_type": "stream",
     "text": [
      "0 1\n",
      "1 2\n",
      "2 3\n",
      "3 4\n",
      "4 5\n",
      "5 6\n"
     ]
    }
   ],
   "source": [
    "for pos, i in enumerate(L3):\n",
    "    print(pos,i)"
   ]
  },
  {
   "cell_type": "code",
   "execution_count": 7,
   "id": "208b2306",
   "metadata": {},
   "outputs": [
    {
     "name": "stdout",
     "output_type": "stream",
     "text": [
      "[1, 2, 3, 4, 5, 6]\n"
     ]
    }
   ],
   "source": [
    "# operadores: +, *, in (funciona igual en cadenas y tuplas)\n",
    "L1 = [1,2,3]\n",
    "L2 = [4,5,6]\n",
    "print(L1 + L2) # Concatenar!"
   ]
  },
  {
   "cell_type": "code",
   "execution_count": 9,
   "id": "44c3585f",
   "metadata": {},
   "outputs": [
    {
     "data": {
      "text/plain": [
       "[1, 2, 3, 1, 2, 3, 1, 2, 3]"
      ]
     },
     "execution_count": 9,
     "metadata": {},
     "output_type": "execute_result"
    }
   ],
   "source": [
    "L1 * 3  # Concatena 3 veces!"
   ]
  },
  {
   "cell_type": "code",
   "execution_count": 11,
   "id": "394852e1",
   "metadata": {},
   "outputs": [
    {
     "name": "stdout",
     "output_type": "stream",
     "text": [
      "3 in L1:  True\n",
      "1 in L1:  True\n",
      "4 in L1:  False\n"
     ]
    }
   ],
   "source": [
    "print(\"3 in L1: \", 3 in L1)\n",
    "print(\"1 in L1: \", 1 in L1)\n",
    "print(\"4 in L1: \", 4 in L1)"
   ]
  },
  {
   "cell_type": "code",
   "execution_count": 12,
   "id": "b141357f",
   "metadata": {},
   "outputs": [
    {
     "data": {
      "text/plain": [
       "[2, 4]"
      ]
     },
     "execution_count": 12,
     "metadata": {},
     "output_type": "execute_result"
    }
   ],
   "source": [
    "# Crear una lista vacía y añadir elementos:\n",
    "R = []  # R = list()\n",
    "R += [2]\n",
    "R += [4]\n",
    "R\n"
   ]
  },
  {
   "cell_type": "code",
   "execution_count": 13,
   "id": "c1c69731",
   "metadata": {},
   "outputs": [
    {
     "data": {
      "text/plain": [
       "[1, 2, 3, 4]"
      ]
     },
     "execution_count": 13,
     "metadata": {},
     "output_type": "execute_result"
    }
   ],
   "source": [
    "# Calcular la intersección de dos listas (no puede haber repetidos)\n",
    "L1 = [1,2,1,2,3,4,5,4,3,1,8]\n",
    "L2 = [2,3,4,1,2,3,1,7]\n",
    "\n",
    "R = []\n",
    "for i in L1:\n",
    "    if i in L2 and i not in R:\n",
    "        R+=[i]\n",
    "R\n"
   ]
  },
  {
   "cell_type": "code",
   "execution_count": 16,
   "id": "06ca3f41",
   "metadata": {},
   "outputs": [
    {
     "name": "stdout",
     "output_type": "stream",
     "text": [
      "[1, 2, 3, 4]\n",
      "El primero:  1 1\n",
      "El último: 4 4\n"
     ]
    }
   ],
   "source": [
    "# Acceso a los elementos:\n",
    "print(R)\n",
    "print('El primero: ', R[0], R[-4])\n",
    "print(\"El último:\", R[-1], R[3])"
   ]
  },
  {
   "cell_type": "code",
   "execution_count": 17,
   "id": "cf421582",
   "metadata": {},
   "outputs": [
    {
     "data": {
      "text/plain": [
       "'libro1.xlsx'"
      ]
     },
     "execution_count": 17,
     "metadata": {},
     "output_type": "execute_result"
    }
   ],
   "source": [
    "path = \"C:/mis documentos/libros/libro1.xlsx\"\n",
    "L = path.split(\"/\")\n",
    "fichero = L[-1]\n",
    "fichero"
   ]
  },
  {
   "cell_type": "code",
   "execution_count": null,
   "id": "dfbfe8af",
   "metadata": {},
   "outputs": [],
   "source": []
  }
 ],
 "metadata": {
  "kernelspec": {
   "display_name": "Python 3 (ipykernel)",
   "language": "python",
   "name": "python3"
  },
  "language_info": {
   "codemirror_mode": {
    "name": "ipython",
    "version": 3
   },
   "file_extension": ".py",
   "mimetype": "text/x-python",
   "name": "python",
   "nbconvert_exporter": "python",
   "pygments_lexer": "ipython3",
   "version": "3.9.13"
  }
 },
 "nbformat": 4,
 "nbformat_minor": 5
}

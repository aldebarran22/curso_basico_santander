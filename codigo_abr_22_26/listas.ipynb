{
 "cells": [
  {
   "cell_type": "markdown",
   "id": "ea8d104d",
   "metadata": {},
   "source": [
    "### Listas en Python"
   ]
  },
  {
   "cell_type": "markdown",
   "id": "e1355d69",
   "metadata": {},
   "source": [
    "- Crear listas\n",
    "- Función list\n",
    "- Acceso a los elementos\n",
    "- Bucle for\n",
    "- Operadores\n",
    "- Slicing\n",
    "- Funciones\n",
    "- Métodos\n",
    "- Copia de listas"
   ]
  },
  {
   "cell_type": "code",
   "execution_count": 2,
   "id": "9225b976",
   "metadata": {},
   "outputs": [
    {
     "data": {
      "text/plain": [
       "[1, 2, 3, 4, 5, 4, 1, 2]"
      ]
     },
     "execution_count": 2,
     "metadata": {},
     "output_type": "execute_result"
    }
   ],
   "source": [
    "L = [1,2,3,4,5,4,1,2]\n",
    "L"
   ]
  },
  {
   "cell_type": "code",
   "execution_count": 3,
   "id": "76fde334",
   "metadata": {},
   "outputs": [
    {
     "data": {
      "text/plain": [
       "['h', 'o', 'l', 'a', ' ', 'q', 'u', 'e', ' ', 't', 'a', 'l']"
      ]
     },
     "execution_count": 3,
     "metadata": {},
     "output_type": "execute_result"
    }
   ],
   "source": [
    "cad = \"hola que tal\"\n",
    "L2 = list(cad)\n",
    "L2"
   ]
  },
  {
   "cell_type": "code",
   "execution_count": 4,
   "id": "cf6ee00f",
   "metadata": {},
   "outputs": [
    {
     "name": "stdout",
     "output_type": "stream",
     "text": [
      "[1, 2, 3, 4, 5, 6]\n",
      "recuento:  6\n",
      "suma:  21\n",
      "min:  1\n",
      "max:  6\n",
      "Promedio:  3.5\n"
     ]
    }
   ],
   "source": [
    "L3 = [1,2,3,4,5,6]\n",
    "print(L3)\n",
    "print(\"recuento: \", len(L3))\n",
    "print(\"suma: \", sum(L3))\n",
    "print(\"min: \", min(L3))\n",
    "print(\"max: \", max(L3))\n",
    "print(\"Promedio: \", sum(L3)/len(L3))"
   ]
  },
  {
   "cell_type": "code",
   "execution_count": 5,
   "id": "ce727196",
   "metadata": {},
   "outputs": [
    {
     "name": "stdout",
     "output_type": "stream",
     "text": [
      "1\n",
      "2\n",
      "3\n",
      "4\n",
      "5\n",
      "6\n"
     ]
    }
   ],
   "source": [
    "for i in L3:\n",
    "    print(i)"
   ]
  },
  {
   "cell_type": "code",
   "execution_count": 6,
   "id": "b7d8cb8b",
   "metadata": {},
   "outputs": [
    {
     "name": "stdout",
     "output_type": "stream",
     "text": [
      "0 1\n",
      "1 2\n",
      "2 3\n",
      "3 4\n",
      "4 5\n",
      "5 6\n"
     ]
    }
   ],
   "source": [
    "for pos, i in enumerate(L3):\n",
    "    print(pos,i)"
   ]
  },
  {
   "cell_type": "code",
   "execution_count": 7,
   "id": "3859b690",
   "metadata": {},
   "outputs": [
    {
     "name": "stdout",
     "output_type": "stream",
     "text": [
      "[1, 2, 3, 4, 5, 6]\n"
     ]
    }
   ],
   "source": [
    "# operadores: +, *, in (funciona igual en cadenas y tuplas)\n",
    "L1 = [1,2,3]\n",
    "L2 = [4,5,6]\n",
    "print(L1 + L2) # Concatenar!"
   ]
  },
  {
   "cell_type": "code",
   "execution_count": 9,
   "id": "30196833",
   "metadata": {},
   "outputs": [
    {
     "data": {
      "text/plain": [
       "[1, 2, 3, 1, 2, 3, 1, 2, 3]"
      ]
     },
     "execution_count": 9,
     "metadata": {},
     "output_type": "execute_result"
    }
   ],
   "source": [
    "L1 * 3  # Concatena 3 veces!"
   ]
  },
  {
   "cell_type": "code",
   "execution_count": 11,
   "id": "cfdd6607",
   "metadata": {},
   "outputs": [
    {
     "name": "stdout",
     "output_type": "stream",
     "text": [
      "3 in L1:  True\n",
      "1 in L1:  True\n",
      "4 in L1:  False\n"
     ]
    }
   ],
   "source": [
    "print(\"3 in L1: \", 3 in L1)\n",
    "print(\"1 in L1: \", 1 in L1)\n",
    "print(\"4 in L1: \", 4 in L1)"
   ]
  },
  {
   "cell_type": "code",
   "execution_count": 12,
   "id": "cf835729",
   "metadata": {},
   "outputs": [
    {
     "data": {
      "text/plain": [
       "[2, 4]"
      ]
     },
     "execution_count": 12,
     "metadata": {},
     "output_type": "execute_result"
    }
   ],
   "source": [
    "# Crear una lista vacía y añadir elementos:\n",
    "R = []  # R = list()\n",
    "R += [2]\n",
    "R += [4]\n",
    "R\n"
   ]
  },
  {
   "cell_type": "code",
   "execution_count": null,
   "id": "2a356981",
   "metadata": {},
   "outputs": [],
   "source": [
    "# Calcular la intersección de dos listas (no puede haber repetidos)\n",
    "L1 = [1,2,1,2,3,4,5,4,3,1,8]\n",
    "L2 = [2,3,4,1,2,3,1,7]\n",
    "\n"
   ]
  }
 ],
 "metadata": {
  "kernelspec": {
   "display_name": "Python 3 (ipykernel)",
   "language": "python",
   "name": "python3"
  },
  "language_info": {
   "codemirror_mode": {
    "name": "ipython",
    "version": 3
   },
   "file_extension": ".py",
   "mimetype": "text/x-python",
   "name": "python",
   "nbconvert_exporter": "python",
   "pygments_lexer": "ipython3",
   "version": "3.9.13"
  }
 },
 "nbformat": 4,
 "nbformat_minor": 5
}

{
 "cells": [
  {
   "cell_type": "markdown",
   "id": "d4068038",
   "metadata": {},
   "source": [
    "### Listas en Python"
   ]
  },
  {
   "cell_type": "markdown",
   "id": "a568a40c",
   "metadata": {},
   "source": [
    "- Crear listas\n",
    "- Función list\n",
    "- Acceso a los elementos\n",
    "- Bucle for\n",
    "- Operadores\n",
    "- Slicing\n",
    "- Funciones\n",
    "- Métodos\n",
    "- Copia de listas"
   ]
  },
  {
   "cell_type": "code",
   "execution_count": 2,
   "id": "55fd0b51",
   "metadata": {},
   "outputs": [
    {
     "data": {
      "text/plain": [
       "[1, 2, 3, 4, 5, 4, 1, 2]"
      ]
     },
     "execution_count": 2,
     "metadata": {},
     "output_type": "execute_result"
    }
   ],
   "source": [
    "L = [1,2,3,4,5,4,1,2]\n",
    "L"
   ]
  },
  {
   "cell_type": "code",
   "execution_count": 3,
   "id": "38280409",
   "metadata": {},
   "outputs": [
    {
     "data": {
      "text/plain": [
       "['h', 'o', 'l', 'a', ' ', 'q', 'u', 'e', ' ', 't', 'a', 'l']"
      ]
     },
     "execution_count": 3,
     "metadata": {},
     "output_type": "execute_result"
    }
   ],
   "source": [
    "cad = \"hola que tal\"\n",
    "L2 = list(cad)\n",
    "L2"
   ]
  },
  {
   "cell_type": "code",
   "execution_count": 4,
   "id": "58ef6008",
   "metadata": {},
   "outputs": [
    {
     "name": "stdout",
     "output_type": "stream",
     "text": [
      "[1, 2, 3, 4, 5, 6]\n",
      "recuento:  6\n",
      "suma:  21\n",
      "min:  1\n",
      "max:  6\n",
      "Promedio:  3.5\n"
     ]
    }
   ],
   "source": [
    "L3 = [1,2,3,4,5,6]\n",
    "print(L3)\n",
    "print(\"recuento: \", len(L3))\n",
    "print(\"suma: \", sum(L3))\n",
    "print(\"min: \", min(L3))\n",
    "print(\"max: \", max(L3))\n",
    "print(\"Promedio: \", sum(L3)/len(L3))"
   ]
  },
  {
   "cell_type": "code",
   "execution_count": 5,
   "id": "e2604f13",
   "metadata": {},
   "outputs": [
    {
     "name": "stdout",
     "output_type": "stream",
     "text": [
      "1\n",
      "2\n",
      "3\n",
      "4\n",
      "5\n",
      "6\n"
     ]
    }
   ],
   "source": [
    "for i in L3:\n",
    "    print(i)"
   ]
  },
  {
   "cell_type": "code",
   "execution_count": 6,
   "id": "0b6fdff2",
   "metadata": {},
   "outputs": [
    {
     "name": "stdout",
     "output_type": "stream",
     "text": [
      "0 1\n",
      "1 2\n",
      "2 3\n",
      "3 4\n",
      "4 5\n",
      "5 6\n"
     ]
    }
   ],
   "source": [
    "for pos, i in enumerate(L3):\n",
    "    print(pos,i)"
   ]
  },
  {
   "cell_type": "code",
   "execution_count": 7,
   "id": "9d03bac6",
   "metadata": {},
   "outputs": [
    {
     "name": "stdout",
     "output_type": "stream",
     "text": [
      "[1, 2, 3, 4, 5, 6]\n"
     ]
    }
   ],
   "source": [
    "# operadores: +, *, in (funciona igual en cadenas y tuplas)\n",
    "L1 = [1,2,3]\n",
    "L2 = [4,5,6]\n",
    "print(L1 + L2) # Concatenar!"
   ]
  },
  {
   "cell_type": "code",
   "execution_count": 9,
   "id": "c63fba52",
   "metadata": {},
   "outputs": [
    {
     "data": {
      "text/plain": [
       "[1, 2, 3, 1, 2, 3, 1, 2, 3]"
      ]
     },
     "execution_count": 9,
     "metadata": {},
     "output_type": "execute_result"
    }
   ],
   "source": [
    "L1 * 3  # Concatena 3 veces!"
   ]
  },
  {
   "cell_type": "code",
   "execution_count": 11,
   "id": "34b05036",
   "metadata": {},
   "outputs": [
    {
     "name": "stdout",
     "output_type": "stream",
     "text": [
      "3 in L1:  True\n",
      "1 in L1:  True\n",
      "4 in L1:  False\n"
     ]
    }
   ],
   "source": [
    "print(\"3 in L1: \", 3 in L1)\n",
    "print(\"1 in L1: \", 1 in L1)\n",
    "print(\"4 in L1: \", 4 in L1)"
   ]
  },
  {
   "cell_type": "code",
   "execution_count": 12,
   "id": "342f8955",
   "metadata": {},
   "outputs": [
    {
     "data": {
      "text/plain": [
       "[2, 4]"
      ]
     },
     "execution_count": 12,
     "metadata": {},
     "output_type": "execute_result"
    }
   ],
   "source": [
    "# Crear una lista vacía y añadir elementos:\n",
    "R = []  # R = list()\n",
    "R += [2]\n",
    "R += [4]\n",
    "R\n"
   ]
  },
  {
   "cell_type": "code",
   "execution_count": 13,
   "id": "bc3c2982",
   "metadata": {},
   "outputs": [
    {
     "data": {
      "text/plain": [
       "[1, 2, 3, 4]"
      ]
     },
     "execution_count": 13,
     "metadata": {},
     "output_type": "execute_result"
    }
   ],
   "source": [
    "# Calcular la intersección de dos listas (no puede haber repetidos)\n",
    "L1 = [1,2,1,2,3,4,5,4,3,1,8]\n",
    "L2 = [2,3,4,1,2,3,1,7]\n",
    "\n",
    "R = []\n",
    "for i in L1:\n",
    "    if i in L2 and i not in R:\n",
    "        R+=[i]\n",
    "R\n"
   ]
  },
  {
   "cell_type": "code",
   "execution_count": 16,
   "id": "6db0e4aa",
   "metadata": {},
   "outputs": [
    {
     "name": "stdout",
     "output_type": "stream",
     "text": [
      "[1, 2, 3, 4]\n",
      "El primero:  1 1\n",
      "El último: 4 4\n"
     ]
    }
   ],
   "source": [
    "# Acceso a los elementos:\n",
    "print(R)\n",
    "print('El primero: ', R[0], R[-4])\n",
    "print(\"El último:\", R[-1], R[3])"
   ]
  },
  {
   "cell_type": "code",
   "execution_count": 18,
   "id": "27883cfb",
   "metadata": {},
   "outputs": [
    {
     "ename": "IndexError",
     "evalue": "list index out of range",
     "output_type": "error",
     "traceback": [
      "\u001b[1;31m---------------------------------------------------------------------------\u001b[0m",
      "\u001b[1;31mIndexError\u001b[0m                                Traceback (most recent call last)",
      "\u001b[1;32m~\\AppData\\Local\\Temp\\ipykernel_1728\\3935104803.py\u001b[0m in \u001b[0;36m<module>\u001b[1;34m\u001b[0m\n\u001b[1;32m----> 1\u001b[1;33m \u001b[0mR\u001b[0m\u001b[1;33m[\u001b[0m\u001b[1;36m10\u001b[0m\u001b[1;33m]\u001b[0m\u001b[1;33m\u001b[0m\u001b[1;33m\u001b[0m\u001b[0m\n\u001b[0m",
      "\u001b[1;31mIndexError\u001b[0m: list index out of range"
     ]
    }
   ],
   "source": [
    "R[10]"
   ]
  },
  {
   "cell_type": "code",
   "execution_count": 17,
   "id": "528afd22",
   "metadata": {},
   "outputs": [
    {
     "data": {
      "text/plain": [
       "'libro1.xlsx'"
      ]
     },
     "execution_count": 17,
     "metadata": {},
     "output_type": "execute_result"
    }
   ],
   "source": [
    "path = \"C:/mis documentos/libros/libro1.xlsx\"\n",
    "L = path.split(\"/\")\n",
    "fichero = L[-1]\n",
    "fichero"
   ]
  },
  {
   "cell_type": "code",
   "execution_count": 26,
   "id": "92db4ab4",
   "metadata": {},
   "outputs": [
    {
     "name": "stdout",
     "output_type": "stream",
     "text": [
      "[1, 2, 3, 4, 5, 6, 7, 8, 9]\n",
      "los 3 primeros:  [1, 2, 3] [1, 2, 3]\n",
      "los 3 últimos:  [7, 8, 9]\n",
      "Quitar el primero y el último:  [2, 3, 4, 5, 6, 7, 8]\n",
      "Toda la lista:  [1, 2, 3, 4, 5, 6, 7, 8, 9] [1, 2, 3, 4, 5, 6, 7, 8, 9]\n",
      "toda la lista de dos en dos:  [1, 3, 5, 7, 9]\n",
      "invertir:  [9, 8, 7, 6, 5, 4, 3, 2, 1]\n"
     ]
    }
   ],
   "source": [
    "# slicing(inicio:fin-1:salto=1)\n",
    "R = [1,2,3,4,5,6,7,8,9]\n",
    "print(R)\n",
    "print('los 3 primeros: ', R[0:3], R[:3])\n",
    "print('los 3 últimos: ', R[-3:])\n",
    "print('Quitar el primero y el último: ', R[1:-1])\n",
    "print('Toda la lista: ', R[:], R)\n",
    "print('toda la lista de dos en dos: ', R[::2])\n",
    "print('invertir: ', R[::-1])"
   ]
  },
  {
   "cell_type": "code",
   "execution_count": 30,
   "id": "36bd52a5",
   "metadata": {},
   "outputs": [
    {
     "data": {
      "text/plain": [
       "'no capicua'"
      ]
     },
     "execution_count": 30,
     "metadata": {},
     "output_type": "execute_result"
    }
   ],
   "source": [
    "# Comprobar si el número es capicua\n",
    "numero = 1234321\n",
    "snum = str(numero)\n",
    "\"capicua\" if snum == snum[::-1] else \"no capicua\""
   ]
  },
  {
   "cell_type": "code",
   "execution_count": 32,
   "id": "a8cd4d17",
   "metadata": {},
   "outputs": [
    {
     "name": "stdout",
     "output_type": "stream",
     "text": [
      "0\n",
      "1\n",
      "2\n",
      "3\n",
      "4\n"
     ]
    }
   ],
   "source": [
    "for i in range(5):\n",
    "    print(i)"
   ]
  },
  {
   "cell_type": "code",
   "execution_count": 37,
   "id": "6495d5f1",
   "metadata": {},
   "outputs": [
    {
     "name": "stdout",
     "output_type": "stream",
     "text": [
      "Del 1 al 10:  [1, 2, 3, 4, 5, 6, 7, 8, 9, 10]\n",
      "Del -10 al 10:  [-10, -9, -8, -7, -6, -5, -4, -3, -2, -1, 0, 1, 2, 3, 4, 5, 6, 7, 8, 9, 10]\n",
      "Del 0 al 100 de 5 en 5:  [0, 5, 10, 15, 20, 25, 30, 35, 40, 45, 50, 55, 60, 65, 70, 75, 80, 85, 90, 95, 100]\n",
      "Del 10 al 1:  [10, 9, 8, 7, 6, 5, 4, 3, 2, 1]\n"
     ]
    }
   ],
   "source": [
    "# range(ini, fin-1, salto=1)\n",
    "print(\"Del 1 al 10: \", list(range(1,11)))\n",
    "print(\"Del -10 al 10: \", list(range(-10, 11)))\n",
    "print('Del 0 al 100 de 5 en 5: ', list(range(0,101,5)))\n",
    "print('Del 10 al 1: ', list(range(10, 0, -1)))"
   ]
  },
  {
   "cell_type": "markdown",
   "id": "f2609b05",
   "metadata": {},
   "source": [
    "#### Copia de listas (objetos mutables -> list, set y dict)"
   ]
  },
  {
   "cell_type": "code",
   "execution_count": 38,
   "id": "0a020b36",
   "metadata": {},
   "outputs": [
    {
     "name": "stdout",
     "output_type": "stream",
     "text": [
      "L2 [1000, 2, 3, 4, 5, 6] 2473780066368\n",
      "L [1000, 2, 3, 4, 5, 6] 2473780066368\n"
     ]
    }
   ],
   "source": [
    "L = [1,2,3,4,5,6]\n",
    "L2 = L # Crea una ref.\n",
    "L[0] = 1000\n",
    "print('L2',L2,id(L2))\n",
    "print('L',L,id(L))"
   ]
  },
  {
   "cell_type": "code",
   "execution_count": 39,
   "id": "90bb33eb",
   "metadata": {},
   "outputs": [
    {
     "name": "stdout",
     "output_type": "stream",
     "text": [
      "L2 [1, 2, 3, 4, 5, 6] 2473779528896\n",
      "L [1000, 2, 3, 4, 5, 6] 2473779539712\n"
     ]
    }
   ],
   "source": [
    "L = [1,2,3,4,5,6]\n",
    "L2 = L.copy() # Copia una lista de objetos inmutables\n",
    "L[0] = 1000\n",
    "print('L2',L2,id(L2))\n",
    "print('L',L,id(L))"
   ]
  },
  {
   "cell_type": "code",
   "execution_count": 40,
   "id": "86e2eccd",
   "metadata": {},
   "outputs": [
    {
     "name": "stdout",
     "output_type": "stream",
     "text": [
      "L2 [[1, 2, 3], [4, 5, 6, 999]] 2473779529920\n",
      "L [1000, [4, 5, 6, 999]] 2473779589248\n"
     ]
    }
   ],
   "source": [
    "L = [[1,2,3],[4,5,6]]\n",
    "L2 = L.copy() # Copia (superficial) una lista de objetos mutables (lista de listas)\n",
    "L[0] = 1000\n",
    "L[-1].append(999)\n",
    "print('L2',L2,id(L2))\n",
    "print('L',L,id(L))"
   ]
  },
  {
   "cell_type": "code",
   "execution_count": 41,
   "id": "0b379750",
   "metadata": {},
   "outputs": [
    {
     "name": "stdout",
     "output_type": "stream",
     "text": [
      "L2 [[1, 2, 3], [4, 5, 6]] 2473780354752\n",
      "L [1000, [4, 5, 6, 999]] 2473778083712\n"
     ]
    }
   ],
   "source": [
    "import copy\n",
    "L = [[1,2,3],[4,5,6]]\n",
    "L2 = copy.deepcopy(L) # Copia (profunda) una lista de objetos mutables (lista de listas)\n",
    "L[0] = 1000\n",
    "L[-1].append(999)\n",
    "print('L2',L2,id(L2))\n",
    "print('L',L,id(L))"
   ]
  },
  {
   "cell_type": "code",
   "execution_count": 42,
   "id": "a9c383a2",
   "metadata": {},
   "outputs": [
    {
     "name": "stdout",
     "output_type": "stream",
     "text": [
      "[1, 2, 3, 4, 5, [10, 20, 30]]\n"
     ]
    }
   ],
   "source": [
    "# Métodos de inserción en listas: insert, append, extend\n",
    "t = [10,20,30]\n",
    "\n",
    "L = [1,2,3,4,5]\n",
    "\n",
    "L.append(t)\n",
    "print(L)\n"
   ]
  },
  {
   "cell_type": "code",
   "execution_count": 43,
   "id": "6d33cc1b",
   "metadata": {},
   "outputs": [
    {
     "name": "stdout",
     "output_type": "stream",
     "text": [
      "[1, 2, 3, 4, 5, 10, 20, 30]\n"
     ]
    }
   ],
   "source": [
    "t = [10,20,30]\n",
    "\n",
    "L = [1,2,3,4,5]\n",
    "\n",
    "L.extend(t)\n",
    "print(L)"
   ]
  },
  {
   "cell_type": "code",
   "execution_count": 44,
   "id": "389b483a",
   "metadata": {},
   "outputs": [
    {
     "data": {
      "text/plain": [
       "[1000, 1, 2, 3, 4, 5, 10, 20, 30]"
      ]
     },
     "execution_count": 44,
     "metadata": {},
     "output_type": "execute_result"
    }
   ],
   "source": [
    "L.insert(0, 1000)\n",
    "L"
   ]
  },
  {
   "cell_type": "code",
   "execution_count": 45,
   "id": "9c729e78",
   "metadata": {},
   "outputs": [
    {
     "data": {
      "text/plain": [
       "[1000, 1, 2, 3, 4, 555, 5, 10, 20, 30]"
      ]
     },
     "execution_count": 45,
     "metadata": {},
     "output_type": "execute_result"
    }
   ],
   "source": [
    "L.insert(5, 555)\n",
    "L"
   ]
  },
  {
   "cell_type": "code",
   "execution_count": 46,
   "id": "a23b566f",
   "metadata": {},
   "outputs": [
    {
     "data": {
      "text/plain": [
       "[1, 2, 3, 4, 555, 5, 10, 20, 30]"
      ]
     },
     "execution_count": 46,
     "metadata": {},
     "output_type": "execute_result"
    }
   ],
   "source": [
    "del(L[0])\n",
    "L"
   ]
  },
  {
   "cell_type": "code",
   "execution_count": null,
   "id": "7fb49927",
   "metadata": {},
   "outputs": [],
   "source": []
  }
 ],
 "metadata": {
  "kernelspec": {
   "display_name": "Python 3 (ipykernel)",
   "language": "python",
   "name": "python3"
  },
  "language_info": {
   "codemirror_mode": {
    "name": "ipython",
    "version": 3
   },
   "file_extension": ".py",
   "mimetype": "text/x-python",
   "name": "python",
   "nbconvert_exporter": "python",
   "pygments_lexer": "ipython3",
   "version": "3.9.13"
  }
 },
 "nbformat": 4,
 "nbformat_minor": 5
}

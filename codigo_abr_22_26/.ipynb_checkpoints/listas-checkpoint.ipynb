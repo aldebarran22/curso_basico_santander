{
 "cells": [
  {
   "cell_type": "markdown",
   "id": "50a0e88b",
   "metadata": {},
   "source": [
    "### Listas en Python"
   ]
  },
  {
   "cell_type": "markdown",
   "id": "e4a32cbc",
   "metadata": {},
   "source": [
    "- Crear listas\n",
    "- Función list\n",
    "- Acceso a los elementos\n",
    "- Bucle for\n",
    "- Operadores\n",
    "- Slicing\n",
    "- Funciones\n",
    "- Métodos\n",
    "- Copia de listas"
   ]
  },
  {
   "cell_type": "code",
   "execution_count": 2,
   "id": "cc7458dd",
   "metadata": {},
   "outputs": [
    {
     "data": {
      "text/plain": [
       "[1, 2, 3, 4, 5, 4, 1, 2]"
      ]
     },
     "execution_count": 2,
     "metadata": {},
     "output_type": "execute_result"
    }
   ],
   "source": [
    "L = [1,2,3,4,5,4,1,2]\n",
    "L"
   ]
  },
  {
   "cell_type": "code",
   "execution_count": null,
   "id": "262f5525",
   "metadata": {},
   "outputs": [],
   "source": []
  }
 ],
 "metadata": {
  "kernelspec": {
   "display_name": "Python 3 (ipykernel)",
   "language": "python",
   "name": "python3"
  },
  "language_info": {
   "codemirror_mode": {
    "name": "ipython",
    "version": 3
   },
   "file_extension": ".py",
   "mimetype": "text/x-python",
   "name": "python",
   "nbconvert_exporter": "python",
   "pygments_lexer": "ipython3",
   "version": "3.9.13"
  }
 },
 "nbformat": 4,
 "nbformat_minor": 5
}

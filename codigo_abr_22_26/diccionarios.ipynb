{
 "cells": [
  {
   "cell_type": "markdown",
   "id": "d17465a2",
   "metadata": {},
   "source": [
    "### Diccionarios en Python"
   ]
  },
  {
   "cell_type": "markdown",
   "id": "caeed004",
   "metadata": {},
   "source": [
    "- Crear diccionarios\n",
    "- Función dict, zip\n",
    "- Acceso a los elementos\n",
    "- Bucle\n"
   ]
  },
  {
   "cell_type": "code",
   "execution_count": 1,
   "id": "7c0dafb0",
   "metadata": {},
   "outputs": [
    {
     "data": {
      "text/plain": [
       "({'a': 1, 'b': 2, 'c': 3}, dict)"
      ]
     },
     "execution_count": 1,
     "metadata": {},
     "output_type": "execute_result"
    }
   ],
   "source": [
    "d = {\"a\":1, \"b\":2, \"c\":3}\n",
    "d, type(d)"
   ]
  },
  {
   "cell_type": "code",
   "execution_count": 3,
   "id": "ba09429b",
   "metadata": {},
   "outputs": [
    {
     "data": {
      "text/plain": [
       "{1: 'sugar', 2: 'spice', 3: 'everything nice'}"
      ]
     },
     "execution_count": 3,
     "metadata": {},
     "output_type": "execute_result"
    }
   ],
   "source": [
    "k = [1, 2, 3, 4, 5]\n",
    "v = ['sugar', 'spice', 'everything nice']\n",
    "\n",
    "d2 = dict(zip(k, v))\n",
    "d2"
   ]
  },
  {
   "cell_type": "code",
   "execution_count": 4,
   "id": "0fa18808",
   "metadata": {},
   "outputs": [
    {
     "data": {
      "text/plain": [
       "{1: 'azucar', 2: 'spice', 3: 'everything nice'}"
      ]
     },
     "execution_count": 4,
     "metadata": {},
     "output_type": "execute_result"
    }
   ],
   "source": [
    "d2[1] = 'azucar'\n",
    "d2"
   ]
  },
  {
   "cell_type": "code",
   "execution_count": 5,
   "id": "1c4bc63a",
   "metadata": {},
   "outputs": [
    {
     "data": {
      "text/plain": [
       "{1: 'azucar', 2: 'spice', 3: 'everything nice', 4: 'sugar'}"
      ]
     },
     "execution_count": 5,
     "metadata": {},
     "output_type": "execute_result"
    }
   ],
   "source": [
    "d2[4] = 'sugar'\n",
    "d2"
   ]
  },
  {
   "cell_type": "code",
   "execution_count": 6,
   "id": "bb94ed6d",
   "metadata": {},
   "outputs": [
    {
     "name": "stdout",
     "output_type": "stream",
     "text": [
      "['id', 'nombre', 'cargo']\n",
      "['1', 'Davolio', 'Representante de ventas']\n"
     ]
    }
   ],
   "source": [
    "cabs = \"id;nombre;cargo\"\n",
    "datos = \"1;Davolio;Representante de ventas\"\n",
    "\n",
    "Lcabs = cabs.split(\";\")\n",
    "Ldatos = datos.split(\";\")\n",
    "\n",
    "print(Lcabs)\n",
    "print(Ldatos)"
   ]
  },
  {
   "cell_type": "code",
   "execution_count": 7,
   "id": "2cf4b8e5",
   "metadata": {},
   "outputs": [
    {
     "data": {
      "text/plain": [
       "{'id': '1', 'nombre': 'Davolio', 'cargo': 'Representante de ventas'}"
      ]
     },
     "execution_count": 7,
     "metadata": {},
     "output_type": "execute_result"
    }
   ],
   "source": [
    "emp = dict(zip(Lcabs, Ldatos))\n",
    "emp"
   ]
  },
  {
   "cell_type": "code",
   "execution_count": 8,
   "id": "28080654",
   "metadata": {},
   "outputs": [
    {
     "data": {
      "text/plain": [
       "'Davolio'"
      ]
     },
     "execution_count": 8,
     "metadata": {},
     "output_type": "execute_result"
    }
   ],
   "source": [
    "emp['nombre']"
   ]
  },
  {
   "cell_type": "code",
   "execution_count": 9,
   "id": "0de64c52",
   "metadata": {},
   "outputs": [
    {
     "data": {
      "text/plain": [
       "{'id': '1',\n",
       " 'nombre': 'Davolio',\n",
       " 'cargo': 'Representante de ventas',\n",
       " 'tno': 915568877}"
      ]
     },
     "execution_count": 9,
     "metadata": {},
     "output_type": "execute_result"
    }
   ],
   "source": [
    "emp['tno'] = 915568877\n",
    "emp"
   ]
  },
  {
   "cell_type": "code",
   "execution_count": 10,
   "id": "0b179014",
   "metadata": {},
   "outputs": [
    {
     "ename": "KeyError",
     "evalue": "'movil'",
     "output_type": "error",
     "traceback": [
      "\u001b[1;31m---------------------------------------------------------------------------\u001b[0m",
      "\u001b[1;31mKeyError\u001b[0m                                  Traceback (most recent call last)",
      "\u001b[1;32m~\\AppData\\Local\\Temp\\ipykernel_22176\\3778236608.py\u001b[0m in \u001b[0;36m<module>\u001b[1;34m\u001b[0m\n\u001b[1;32m----> 1\u001b[1;33m \u001b[0memp\u001b[0m\u001b[1;33m[\u001b[0m\u001b[1;34m'movil'\u001b[0m\u001b[1;33m]\u001b[0m\u001b[1;33m\u001b[0m\u001b[1;33m\u001b[0m\u001b[0m\n\u001b[0m",
      "\u001b[1;31mKeyError\u001b[0m: 'movil'"
     ]
    }
   ],
   "source": [
    "emp['movil']"
   ]
  },
  {
   "cell_type": "code",
   "execution_count": null,
   "id": "03ffed84",
   "metadata": {},
   "outputs": [],
   "source": []
  }
 ],
 "metadata": {
  "kernelspec": {
   "display_name": "Python 3 (ipykernel)",
   "language": "python",
   "name": "python3"
  },
  "language_info": {
   "codemirror_mode": {
    "name": "ipython",
    "version": 3
   },
   "file_extension": ".py",
   "mimetype": "text/x-python",
   "name": "python",
   "nbconvert_exporter": "python",
   "pygments_lexer": "ipython3",
   "version": "3.9.13"
  }
 },
 "nbformat": 4,
 "nbformat_minor": 5
}

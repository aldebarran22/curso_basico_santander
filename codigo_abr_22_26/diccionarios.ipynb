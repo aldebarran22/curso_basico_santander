{
 "cells": [
  {
   "cell_type": "markdown",
   "id": "844c4e2a",
   "metadata": {},
   "source": [
    "### Diccionarios en Python"
   ]
  },
  {
   "cell_type": "markdown",
   "id": "157edbfc",
   "metadata": {},
   "source": [
    "- Crear diccionarios\n",
    "- Función dict, zip\n",
    "- Acceso a los elementos\n",
    "- Bucle\n"
   ]
  },
  {
   "cell_type": "code",
   "execution_count": 1,
   "id": "68e38ed5",
   "metadata": {},
   "outputs": [
    {
     "data": {
      "text/plain": [
       "({'a': 1, 'b': 2, 'c': 3}, dict)"
      ]
     },
     "execution_count": 1,
     "metadata": {},
     "output_type": "execute_result"
    }
   ],
   "source": [
    "d = {\"a\":1, \"b\":2, \"c\":3}\n",
    "d, type(d)"
   ]
  },
  {
   "cell_type": "code",
   "execution_count": 3,
   "id": "9f8ef3c6",
   "metadata": {},
   "outputs": [
    {
     "data": {
      "text/plain": [
       "{1: 'sugar', 2: 'spice', 3: 'everything nice'}"
      ]
     },
     "execution_count": 3,
     "metadata": {},
     "output_type": "execute_result"
    }
   ],
   "source": [
    "k = [1, 2, 3, 4, 5]\n",
    "v = ['sugar', 'spice', 'everything nice']\n",
    "\n",
    "d2 = dict(zip(k, v))\n",
    "d2"
   ]
  },
  {
   "cell_type": "code",
   "execution_count": 4,
   "id": "5430fe33",
   "metadata": {},
   "outputs": [
    {
     "data": {
      "text/plain": [
       "{1: 'azucar', 2: 'spice', 3: 'everything nice'}"
      ]
     },
     "execution_count": 4,
     "metadata": {},
     "output_type": "execute_result"
    }
   ],
   "source": [
    "d2[1] = 'azucar'\n",
    "d2"
   ]
  },
  {
   "cell_type": "code",
   "execution_count": 5,
   "id": "e2aec72c",
   "metadata": {},
   "outputs": [
    {
     "data": {
      "text/plain": [
       "{1: 'azucar', 2: 'spice', 3: 'everything nice', 4: 'sugar'}"
      ]
     },
     "execution_count": 5,
     "metadata": {},
     "output_type": "execute_result"
    }
   ],
   "source": [
    "d2[4] = 'sugar'\n",
    "d2"
   ]
  },
  {
   "cell_type": "code",
   "execution_count": 6,
   "id": "82b3740b",
   "metadata": {},
   "outputs": [
    {
     "name": "stdout",
     "output_type": "stream",
     "text": [
      "['id', 'nombre', 'cargo']\n",
      "['1', 'Davolio', 'Representante de ventas']\n"
     ]
    }
   ],
   "source": [
    "cabs = \"id;nombre;cargo\"\n",
    "datos = \"1;Davolio;Representante de ventas\"\n",
    "\n",
    "Lcabs = cabs.split(\";\")\n",
    "Ldatos = datos.split(\";\")\n",
    "\n",
    "print(Lcabs)\n",
    "print(Ldatos)"
   ]
  },
  {
   "cell_type": "code",
   "execution_count": 7,
   "id": "bc47a206",
   "metadata": {},
   "outputs": [
    {
     "data": {
      "text/plain": [
       "{'id': '1', 'nombre': 'Davolio', 'cargo': 'Representante de ventas'}"
      ]
     },
     "execution_count": 7,
     "metadata": {},
     "output_type": "execute_result"
    }
   ],
   "source": [
    "emp = dict(zip(Lcabs, Ldatos))\n",
    "emp"
   ]
  },
  {
   "cell_type": "code",
   "execution_count": 8,
   "id": "41ecd654",
   "metadata": {},
   "outputs": [
    {
     "data": {
      "text/plain": [
       "'Davolio'"
      ]
     },
     "execution_count": 8,
     "metadata": {},
     "output_type": "execute_result"
    }
   ],
   "source": [
    "emp['nombre']"
   ]
  },
  {
   "cell_type": "code",
   "execution_count": 9,
   "id": "25b8eabd",
   "metadata": {},
   "outputs": [
    {
     "data": {
      "text/plain": [
       "{'id': '1',\n",
       " 'nombre': 'Davolio',\n",
       " 'cargo': 'Representante de ventas',\n",
       " 'tno': 915568877}"
      ]
     },
     "execution_count": 9,
     "metadata": {},
     "output_type": "execute_result"
    }
   ],
   "source": [
    "emp['tno'] = 915568877\n",
    "emp"
   ]
  },
  {
   "cell_type": "code",
   "execution_count": null,
   "id": "73e478db",
   "metadata": {},
   "outputs": [],
   "source": []
  }
 ],
 "metadata": {
  "kernelspec": {
   "display_name": "Python 3 (ipykernel)",
   "language": "python",
   "name": "python3"
  },
  "language_info": {
   "codemirror_mode": {
    "name": "ipython",
    "version": 3
   },
   "file_extension": ".py",
   "mimetype": "text/x-python",
   "name": "python",
   "nbconvert_exporter": "python",
   "pygments_lexer": "ipython3",
   "version": "3.9.13"
  }
 },
 "nbformat": 4,
 "nbformat_minor": 5
}

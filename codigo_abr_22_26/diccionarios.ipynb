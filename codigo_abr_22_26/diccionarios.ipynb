{
 "cells": [
  {
   "cell_type": "markdown",
   "id": "d14e1f56",
   "metadata": {},
   "source": [
    "### Diccionarios en Python"
   ]
  },
  {
   "cell_type": "markdown",
   "id": "bee18a36",
   "metadata": {},
   "source": [
    "- Crear diccionarios\n",
    "- Función dict, zip\n",
    "- Acceso a los elementos\n",
    "- Bucle\n"
   ]
  },
  {
   "cell_type": "code",
   "execution_count": 1,
   "id": "7f50f715",
   "metadata": {},
   "outputs": [
    {
     "data": {
      "text/plain": [
       "({'a': 1, 'b': 2, 'c': 3}, dict)"
      ]
     },
     "execution_count": 1,
     "metadata": {},
     "output_type": "execute_result"
    }
   ],
   "source": [
    "d = {\"a\":1, \"b\":2, \"c\":3}\n",
    "d, type(d)"
   ]
  },
  {
   "cell_type": "code",
   "execution_count": 3,
   "id": "67735bcc",
   "metadata": {},
   "outputs": [
    {
     "data": {
      "text/plain": [
       "{1: 'sugar', 2: 'spice', 3: 'everything nice'}"
      ]
     },
     "execution_count": 3,
     "metadata": {},
     "output_type": "execute_result"
    }
   ],
   "source": [
    "k = [1, 2, 3, 4, 5]\n",
    "v = ['sugar', 'spice', 'everything nice']\n",
    "\n",
    "d2 = dict(zip(k, v))\n",
    "d2"
   ]
  },
  {
   "cell_type": "code",
   "execution_count": 4,
   "id": "6f3c0e23",
   "metadata": {},
   "outputs": [
    {
     "data": {
      "text/plain": [
       "{1: 'azucar', 2: 'spice', 3: 'everything nice'}"
      ]
     },
     "execution_count": 4,
     "metadata": {},
     "output_type": "execute_result"
    }
   ],
   "source": [
    "d2[1] = 'azucar'\n",
    "d2"
   ]
  },
  {
   "cell_type": "code",
   "execution_count": 5,
   "id": "26bf96c0",
   "metadata": {},
   "outputs": [
    {
     "data": {
      "text/plain": [
       "{1: 'azucar', 2: 'spice', 3: 'everything nice', 4: 'sugar'}"
      ]
     },
     "execution_count": 5,
     "metadata": {},
     "output_type": "execute_result"
    }
   ],
   "source": [
    "d2[4] = 'sugar'\n",
    "d2"
   ]
  },
  {
   "cell_type": "code",
   "execution_count": null,
   "id": "b9251b53",
   "metadata": {},
   "outputs": [],
   "source": []
  }
 ],
 "metadata": {
  "kernelspec": {
   "display_name": "Python 3 (ipykernel)",
   "language": "python",
   "name": "python3"
  },
  "language_info": {
   "codemirror_mode": {
    "name": "ipython",
    "version": 3
   },
   "file_extension": ".py",
   "mimetype": "text/x-python",
   "name": "python",
   "nbconvert_exporter": "python",
   "pygments_lexer": "ipython3",
   "version": "3.9.13"
  }
 },
 "nbformat": 4,
 "nbformat_minor": 5
}

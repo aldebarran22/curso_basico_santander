{
 "cells": [
  {
   "cell_type": "markdown",
   "id": "8b1aa000",
   "metadata": {},
   "source": [
    "## Programación funcional"
   ]
  },
  {
   "cell_type": "markdown",
   "id": "d7c5bccd",
   "metadata": {},
   "source": [
    "- map, filter, reduce (de python 2)\n",
    "- list comprehension\n",
    "- funciones lambda\n",
    "- generadores"
   ]
  },
  {
   "cell_type": "code",
   "execution_count": 1,
   "id": "ab965f7e",
   "metadata": {},
   "outputs": [],
   "source": [
    "def cuadrado(n):\n",
    "    return n**2"
   ]
  },
  {
   "cell_type": "code",
   "execution_count": 2,
   "id": "d48795ee",
   "metadata": {},
   "outputs": [
    {
     "data": {
      "text/plain": [
       "[2, 3, 4, 2, 1, 2, 3, 4, 6, 7]"
      ]
     },
     "execution_count": 2,
     "metadata": {},
     "output_type": "execute_result"
    }
   ],
   "source": [
    "L = [2,3,4,2,1,2,3,4,6,7]\n",
    "L"
   ]
  },
  {
   "cell_type": "code",
   "execution_count": 3,
   "id": "d1b8b4a5",
   "metadata": {},
   "outputs": [
    {
     "data": {
      "text/plain": [
       "[4, 9, 16, 4, 1, 4, 9, 16, 36, 49]"
      ]
     },
     "execution_count": 3,
     "metadata": {},
     "output_type": "execute_result"
    }
   ],
   "source": [
    "R = []\n",
    "for i in L:\n",
    "    R.append(cuadrado(i))\n",
    "R"
   ]
  },
  {
   "cell_type": "markdown",
   "id": "8e29d9cb",
   "metadata": {},
   "source": [
    "#### map"
   ]
  },
  {
   "cell_type": "code",
   "execution_count": 6,
   "id": "deb52003",
   "metadata": {},
   "outputs": [
    {
     "data": {
      "text/plain": [
       "[4, 9, 16, 4, 1, 4, 9, 16, 36, 49]"
      ]
     },
     "execution_count": 6,
     "metadata": {},
     "output_type": "execute_result"
    }
   ],
   "source": [
    "R2 = list(map(cuadrado, L))\n",
    "R2"
   ]
  },
  {
   "cell_type": "code",
   "execution_count": 9,
   "id": "14a58ec0",
   "metadata": {},
   "outputs": [
    {
     "data": {
      "text/plain": [
       "[4, 9, 16, 4, 1, 4, 9, 16, 36, 49]"
      ]
     },
     "execution_count": 9,
     "metadata": {},
     "output_type": "execute_result"
    }
   ],
   "source": [
    "# Con una lambda\n",
    "R22 = list(map(lambda i : i**2, L))\n",
    "R22"
   ]
  },
  {
   "cell_type": "code",
   "execution_count": 11,
   "id": "69aa066c",
   "metadata": {},
   "outputs": [
    {
     "data": {
      "text/plain": [
       "[(2, 4),\n",
       " (3, 9),\n",
       " (4, 16),\n",
       " (2, 4),\n",
       " (1, 1),\n",
       " (2, 4),\n",
       " (3, 9),\n",
       " (4, 16),\n",
       " (6, 36),\n",
       " (7, 49)]"
      ]
     },
     "execution_count": 11,
     "metadata": {},
     "output_type": "execute_result"
    }
   ],
   "source": [
    "R22 = list(map(lambda i : (i,i**2), L))\n",
    "R22"
   ]
  },
  {
   "cell_type": "markdown",
   "id": "6f5f6511",
   "metadata": {},
   "source": [
    "#### List comprehension"
   ]
  },
  {
   "cell_type": "code",
   "execution_count": 7,
   "id": "667ea646",
   "metadata": {},
   "outputs": [
    {
     "data": {
      "text/plain": [
       "[4, 9, 16, 4, 1, 4, 9, 16, 36, 49]"
      ]
     },
     "execution_count": 7,
     "metadata": {},
     "output_type": "execute_result"
    }
   ],
   "source": [
    "R3 = [cuadrado(i) for i in L]\n",
    "R3"
   ]
  },
  {
   "cell_type": "code",
   "execution_count": 8,
   "id": "833f3c07",
   "metadata": {},
   "outputs": [
    {
     "data": {
      "text/plain": [
       "[4, 9, 16, 4, 1, 4, 9, 16, 36, 49]"
      ]
     },
     "execution_count": 8,
     "metadata": {},
     "output_type": "execute_result"
    }
   ],
   "source": [
    "R4 = [i**2 for i in L]\n",
    "R4"
   ]
  },
  {
   "cell_type": "code",
   "execution_count": 10,
   "id": "fc085027",
   "metadata": {},
   "outputs": [
    {
     "data": {
      "text/plain": [
       "[(2, 4),\n",
       " (3, 9),\n",
       " (4, 16),\n",
       " (2, 4),\n",
       " (1, 1),\n",
       " (2, 4),\n",
       " (3, 9),\n",
       " (4, 16),\n",
       " (6, 36),\n",
       " (7, 49)]"
      ]
     },
     "execution_count": 10,
     "metadata": {},
     "output_type": "execute_result"
    }
   ],
   "source": [
    "R5 = [(i, i**2) for i in L]\n",
    "R5"
   ]
  },
  {
   "cell_type": "code",
   "execution_count": null,
   "id": "b1160806",
   "metadata": {},
   "outputs": [],
   "source": []
  }
 ],
 "metadata": {
  "kernelspec": {
   "display_name": "Python 3 (ipykernel)",
   "language": "python",
   "name": "python3"
  },
  "language_info": {
   "codemirror_mode": {
    "name": "ipython",
    "version": 3
   },
   "file_extension": ".py",
   "mimetype": "text/x-python",
   "name": "python",
   "nbconvert_exporter": "python",
   "pygments_lexer": "ipython3",
   "version": "3.8.5"
  }
 },
 "nbformat": 4,
 "nbformat_minor": 5
}

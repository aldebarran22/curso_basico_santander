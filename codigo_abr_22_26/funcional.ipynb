{
 "cells": [
  {
   "cell_type": "markdown",
   "id": "209e9581",
   "metadata": {},
   "source": [
    "## Programación funcional"
   ]
  },
  {
   "cell_type": "markdown",
   "id": "f5b6ca89",
   "metadata": {},
   "source": [
    "- map, filter, reduce (de python 2)\n",
    "- list comprehension\n",
    "- funciones lambda\n",
    "- generadores"
   ]
  },
  {
   "cell_type": "code",
   "execution_count": 24,
   "id": "06805119",
   "metadata": {},
   "outputs": [],
   "source": [
    "from random import randint\n",
    "from functools import reduce\n",
    "from string import ascii_letters"
   ]
  },
  {
   "cell_type": "code",
   "execution_count": 1,
   "id": "46fe99ac",
   "metadata": {},
   "outputs": [],
   "source": [
    "def cuadrado(n):\n",
    "    return n**2"
   ]
  },
  {
   "cell_type": "code",
   "execution_count": 2,
   "id": "a33b1b00",
   "metadata": {},
   "outputs": [
    {
     "data": {
      "text/plain": [
       "[2, 3, 4, 2, 1, 2, 3, 4, 6, 7]"
      ]
     },
     "execution_count": 2,
     "metadata": {},
     "output_type": "execute_result"
    }
   ],
   "source": [
    "L = [2,3,4,2,1,2,3,4,6,7]\n",
    "L"
   ]
  },
  {
   "cell_type": "code",
   "execution_count": 3,
   "id": "d5f30cbd",
   "metadata": {},
   "outputs": [
    {
     "data": {
      "text/plain": [
       "[4, 9, 16, 4, 1, 4, 9, 16, 36, 49]"
      ]
     },
     "execution_count": 3,
     "metadata": {},
     "output_type": "execute_result"
    }
   ],
   "source": [
    "R = []\n",
    "for i in L:\n",
    "    R.append(cuadrado(i))\n",
    "R"
   ]
  },
  {
   "cell_type": "markdown",
   "id": "b057270f",
   "metadata": {},
   "source": [
    "#### map"
   ]
  },
  {
   "cell_type": "code",
   "execution_count": 6,
   "id": "0ad0e43f",
   "metadata": {},
   "outputs": [
    {
     "data": {
      "text/plain": [
       "[4, 9, 16, 4, 1, 4, 9, 16, 36, 49]"
      ]
     },
     "execution_count": 6,
     "metadata": {},
     "output_type": "execute_result"
    }
   ],
   "source": [
    "R2 = list(map(cuadrado, L))\n",
    "R2"
   ]
  },
  {
   "cell_type": "code",
   "execution_count": 9,
   "id": "bbe14ede",
   "metadata": {},
   "outputs": [
    {
     "data": {
      "text/plain": [
       "[4, 9, 16, 4, 1, 4, 9, 16, 36, 49]"
      ]
     },
     "execution_count": 9,
     "metadata": {},
     "output_type": "execute_result"
    }
   ],
   "source": [
    "# Con una lambda\n",
    "R22 = list(map(lambda i : i**2, L))\n",
    "R22"
   ]
  },
  {
   "cell_type": "code",
   "execution_count": 11,
   "id": "66b12a55",
   "metadata": {},
   "outputs": [
    {
     "data": {
      "text/plain": [
       "[(2, 4),\n",
       " (3, 9),\n",
       " (4, 16),\n",
       " (2, 4),\n",
       " (1, 1),\n",
       " (2, 4),\n",
       " (3, 9),\n",
       " (4, 16),\n",
       " (6, 36),\n",
       " (7, 49)]"
      ]
     },
     "execution_count": 11,
     "metadata": {},
     "output_type": "execute_result"
    }
   ],
   "source": [
    "R22 = list(map(lambda i : (i,i**2), L))\n",
    "R22"
   ]
  },
  {
   "cell_type": "markdown",
   "id": "8d3ce512",
   "metadata": {},
   "source": [
    "#### List comprehension"
   ]
  },
  {
   "cell_type": "code",
   "execution_count": 7,
   "id": "0373646e",
   "metadata": {},
   "outputs": [
    {
     "data": {
      "text/plain": [
       "[4, 9, 16, 4, 1, 4, 9, 16, 36, 49]"
      ]
     },
     "execution_count": 7,
     "metadata": {},
     "output_type": "execute_result"
    }
   ],
   "source": [
    "R3 = [cuadrado(i) for i in L]\n",
    "R3"
   ]
  },
  {
   "cell_type": "code",
   "execution_count": 8,
   "id": "b184cdf0",
   "metadata": {},
   "outputs": [
    {
     "data": {
      "text/plain": [
       "[4, 9, 16, 4, 1, 4, 9, 16, 36, 49]"
      ]
     },
     "execution_count": 8,
     "metadata": {},
     "output_type": "execute_result"
    }
   ],
   "source": [
    "R4 = [i**2 for i in L]\n",
    "R4"
   ]
  },
  {
   "cell_type": "code",
   "execution_count": 10,
   "id": "e7c53871",
   "metadata": {},
   "outputs": [
    {
     "data": {
      "text/plain": [
       "[(2, 4),\n",
       " (3, 9),\n",
       " (4, 16),\n",
       " (2, 4),\n",
       " (1, 1),\n",
       " (2, 4),\n",
       " (3, 9),\n",
       " (4, 16),\n",
       " (6, 36),\n",
       " (7, 49)]"
      ]
     },
     "execution_count": 10,
     "metadata": {},
     "output_type": "execute_result"
    }
   ],
   "source": [
    "R5 = [(i, i**2) for i in L]\n",
    "R5"
   ]
  },
  {
   "cell_type": "markdown",
   "id": "19952852",
   "metadata": {},
   "source": [
    "#### filter"
   ]
  },
  {
   "cell_type": "code",
   "execution_count": 13,
   "id": "f04f35f5",
   "metadata": {},
   "outputs": [],
   "source": [
    "def filtroMul3(n):\n",
    "    return True if n % 3 == 0 else False"
   ]
  },
  {
   "cell_type": "code",
   "execution_count": 14,
   "id": "31b8ecd2",
   "metadata": {},
   "outputs": [
    {
     "data": {
      "text/plain": [
       "[21, 22, 78, 87, 90]"
      ]
     },
     "execution_count": 14,
     "metadata": {},
     "output_type": "execute_result"
    }
   ],
   "source": [
    "L = [randint(1,100) for _ in range(30)]\n",
    "L[:5]"
   ]
  },
  {
   "cell_type": "code",
   "execution_count": 15,
   "id": "96caa527",
   "metadata": {},
   "outputs": [
    {
     "data": {
      "text/plain": [
       "[21, 78, 87, 90, 27, 27, 81, 84, 48, 15, 78]"
      ]
     },
     "execution_count": 15,
     "metadata": {},
     "output_type": "execute_result"
    }
   ],
   "source": [
    "R = list(filter(filtroMul3, L))\n",
    "R"
   ]
  },
  {
   "cell_type": "code",
   "execution_count": 16,
   "id": "96062c0e",
   "metadata": {},
   "outputs": [
    {
     "data": {
      "text/plain": [
       "[21, 78, 87, 90, 27, 27, 81, 84, 48, 15, 78]"
      ]
     },
     "execution_count": 16,
     "metadata": {},
     "output_type": "execute_result"
    }
   ],
   "source": [
    "R = list(filter(lambda n : n % 3 == 0, L))\n",
    "R"
   ]
  },
  {
   "cell_type": "code",
   "execution_count": 17,
   "id": "3abb6449",
   "metadata": {},
   "outputs": [
    {
     "data": {
      "text/plain": [
       "[21, 78, 87, 90, 27, 27, 81, 84, 48, 15, 78]"
      ]
     },
     "execution_count": 17,
     "metadata": {},
     "output_type": "execute_result"
    }
   ],
   "source": [
    "R = [i for i in L if i % 3 == 0]\n",
    "R"
   ]
  },
  {
   "cell_type": "markdown",
   "id": "62e47c59",
   "metadata": {},
   "source": [
    "#### reduce"
   ]
  },
  {
   "cell_type": "code",
   "execution_count": 21,
   "id": "fb5032e7",
   "metadata": {},
   "outputs": [],
   "source": [
    "def minimo(n1, n2):\n",
    "    print(n1, n2)\n",
    "    return n1 if n1 < n2 else n2"
   ]
  },
  {
   "cell_type": "code",
   "execution_count": 23,
   "id": "a07d5afa",
   "metadata": {},
   "outputs": [
    {
     "name": "stdout",
     "output_type": "stream",
     "text": [
      "10 30\n",
      "10 21\n",
      "10 9\n",
      "9 33\n",
      "9 8\n",
      "8 2\n",
      "2 1\n",
      "El menor es:  1\n",
      "Minimo:  1\n"
     ]
    }
   ],
   "source": [
    "L = [10,30, 21,9,33,8,2,1]\n",
    "elMenor = reduce(minimo, L)\n",
    "print('El menor es: ', elMenor)\n",
    "\n",
    "print(\"Minimo: \", min(L))"
   ]
  },
  {
   "cell_type": "code",
   "execution_count": 31,
   "id": "273e21bd",
   "metadata": {},
   "outputs": [],
   "source": [
    "def mejorCandidato(c1, c2):\n",
    "    if c1['exp'] > c2['exp']:\n",
    "        return c1\n",
    "    \n",
    "    elif c2['exp'] > c1['exp']:\n",
    "        return c2\n",
    "        \n",
    "        \n",
    "    else:\n",
    "        if c1['emp'] > c2['emp']:\n",
    "            return c1\n",
    "            \n",
    "        elif c2['emp'] > c1['emp']:\n",
    "            return c2\n",
    "            \n",
    "        else:\n",
    "            if c1['sup'] and not c2['sup']:\n",
    "                return c1\n",
    "            elif c2['sup'] and not c1['sup']:\n",
    "                return c2\n",
    "            else:\n",
    "                return c1\n",
    "        "
   ]
  },
  {
   "cell_type": "code",
   "execution_count": 28,
   "id": "4e1180ae",
   "metadata": {},
   "outputs": [
    {
     "name": "stdout",
     "output_type": "stream",
     "text": [
      "{'nombre': 'aaaaa', 'exp': 7, 'emp': 4, 'sup': True}\n",
      "{'nombre': 'bbbbb', 'exp': 10, 'emp': 3, 'sup': True}\n",
      "{'nombre': 'ccccc', 'exp': 9, 'emp': 6, 'sup': True}\n",
      "{'nombre': 'ddddd', 'exp': 10, 'emp': 6, 'sup': True}\n",
      "{'nombre': 'eeeee', 'exp': 10, 'emp': 5, 'sup': True}\n",
      "{'nombre': 'fffff', 'exp': 5, 'emp': 6, 'sup': True}\n",
      "{'nombre': 'ggggg', 'exp': 5, 'emp': 5, 'sup': True}\n",
      "{'nombre': 'hhhhh', 'exp': 6, 'emp': 6, 'sup': False}\n",
      "{'nombre': 'iiiii', 'exp': 5, 'emp': 6, 'sup': False}\n",
      "{'nombre': 'jjjjj', 'exp': 5, 'emp': 6, 'sup': True}\n",
      "{'nombre': 'kkkkk', 'exp': 5, 'emp': 4, 'sup': True}\n",
      "{'nombre': 'lllll', 'exp': 9, 'emp': 5, 'sup': False}\n",
      "{'nombre': 'mmmmm', 'exp': 8, 'emp': 5, 'sup': True}\n",
      "{'nombre': 'nnnnn', 'exp': 5, 'emp': 3, 'sup': False}\n",
      "{'nombre': 'ooooo', 'exp': 10, 'emp': 6, 'sup': False}\n",
      "{'nombre': 'ppppp', 'exp': 8, 'emp': 3, 'sup': False}\n",
      "{'nombre': 'qqqqq', 'exp': 8, 'emp': 3, 'sup': False}\n",
      "{'nombre': 'rrrrr', 'exp': 8, 'emp': 3, 'sup': False}\n",
      "{'nombre': 'sssss', 'exp': 6, 'emp': 6, 'sup': False}\n",
      "{'nombre': 'ttttt', 'exp': 8, 'emp': 6, 'sup': True}\n",
      "{'nombre': 'uuuuu', 'exp': 6, 'emp': 3, 'sup': True}\n",
      "{'nombre': 'vvvvv', 'exp': 8, 'emp': 6, 'sup': False}\n",
      "{'nombre': 'wwwww', 'exp': 5, 'emp': 4, 'sup': False}\n",
      "{'nombre': 'xxxxx', 'exp': 6, 'emp': 3, 'sup': True}\n",
      "{'nombre': 'yyyyy', 'exp': 5, 'emp': 5, 'sup': False}\n",
      "{'nombre': 'zzzzz', 'exp': 5, 'emp': 3, 'sup': True}\n",
      "{'nombre': 'AAAAA', 'exp': 10, 'emp': 3, 'sup': False}\n",
      "{'nombre': 'BBBBB', 'exp': 8, 'emp': 3, 'sup': False}\n",
      "{'nombre': 'CCCCC', 'exp': 6, 'emp': 5, 'sup': False}\n",
      "{'nombre': 'DDDDD', 'exp': 8, 'emp': 3, 'sup': True}\n",
      "{'nombre': 'EEEEE', 'exp': 7, 'emp': 4, 'sup': True}\n",
      "{'nombre': 'FFFFF', 'exp': 6, 'emp': 6, 'sup': False}\n",
      "{'nombre': 'GGGGG', 'exp': 6, 'emp': 3, 'sup': True}\n",
      "{'nombre': 'HHHHH', 'exp': 5, 'emp': 4, 'sup': False}\n",
      "{'nombre': 'IIIII', 'exp': 7, 'emp': 4, 'sup': False}\n",
      "{'nombre': 'JJJJJ', 'exp': 9, 'emp': 4, 'sup': True}\n",
      "{'nombre': 'KKKKK', 'exp': 7, 'emp': 4, 'sup': False}\n",
      "{'nombre': 'LLLLL', 'exp': 7, 'emp': 4, 'sup': True}\n",
      "{'nombre': 'MMMMM', 'exp': 5, 'emp': 3, 'sup': True}\n",
      "{'nombre': 'NNNNN', 'exp': 10, 'emp': 3, 'sup': True}\n",
      "{'nombre': 'OOOOO', 'exp': 7, 'emp': 6, 'sup': True}\n",
      "{'nombre': 'PPPPP', 'exp': 6, 'emp': 4, 'sup': True}\n",
      "{'nombre': 'QQQQQ', 'exp': 7, 'emp': 5, 'sup': False}\n",
      "{'nombre': 'RRRRR', 'exp': 7, 'emp': 6, 'sup': False}\n",
      "{'nombre': 'SSSSS', 'exp': 9, 'emp': 4, 'sup': True}\n",
      "{'nombre': 'TTTTT', 'exp': 7, 'emp': 3, 'sup': True}\n",
      "{'nombre': 'UUUUU', 'exp': 7, 'emp': 5, 'sup': True}\n",
      "{'nombre': 'VVVVV', 'exp': 9, 'emp': 3, 'sup': False}\n",
      "{'nombre': 'WWWWW', 'exp': 8, 'emp': 5, 'sup': False}\n",
      "{'nombre': 'XXXXX', 'exp': 6, 'emp': 3, 'sup': True}\n",
      "{'nombre': 'YYYYY', 'exp': 5, 'emp': 5, 'sup': True}\n",
      "{'nombre': 'ZZZZZ', 'exp': 8, 'emp': 6, 'sup': False}\n"
     ]
    }
   ],
   "source": [
    "candidatos = [{\"nombre\":letra * 5, 'exp': randint(5,10), 'emp':randint(3,6), \n",
    "               'sup':True if randint(1,6) % 2 == 0 else False}  for letra in ascii_letters]\n",
    "for c in candidatos:\n",
    "    print(c)"
   ]
  },
  {
   "cell_type": "code",
   "execution_count": 32,
   "id": "43747efe",
   "metadata": {},
   "outputs": [
    {
     "data": {
      "text/plain": [
       "{'nombre': 'ddddd', 'exp': 10, 'emp': 6, 'sup': True}"
      ]
     },
     "execution_count": 32,
     "metadata": {},
     "output_type": "execute_result"
    }
   ],
   "source": [
    "obj = reduce(mejorCandidato, candidatos)\n",
    "obj"
   ]
  },
  {
   "cell_type": "code",
   "execution_count": null,
   "id": "df124ccd",
   "metadata": {},
   "outputs": [],
   "source": []
  }
 ],
 "metadata": {
  "kernelspec": {
   "display_name": "Python 3 (ipykernel)",
   "language": "python",
   "name": "python3"
  },
  "language_info": {
   "codemirror_mode": {
    "name": "ipython",
    "version": 3
   },
   "file_extension": ".py",
   "mimetype": "text/x-python",
   "name": "python",
   "nbconvert_exporter": "python",
   "pygments_lexer": "ipython3",
   "version": "3.8.5"
  }
 },
 "nbformat": 4,
 "nbformat_minor": 5
}

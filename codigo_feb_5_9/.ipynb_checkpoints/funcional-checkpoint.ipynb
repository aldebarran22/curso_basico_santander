{
 "cells": [
  {
   "cell_type": "markdown",
   "id": "5c6bb74d",
   "metadata": {},
   "source": [
    "## Programación funcional"
   ]
  },
  {
   "cell_type": "markdown",
   "id": "053a1461",
   "metadata": {},
   "source": [
    "Iteradores: map, filter y reduce (vienen heredado de Python 2.7)"
   ]
  },
  {
   "cell_type": "markdown",
   "id": "30325660",
   "metadata": {},
   "source": [
    "List comprehension: forma compacta de generar: listas, diccionario y conjuntos"
   ]
  },
  {
   "cell_type": "code",
   "execution_count": 18,
   "id": "26698fec",
   "metadata": {},
   "outputs": [],
   "source": [
    "from functools import reduce"
   ]
  },
  {
   "cell_type": "code",
   "execution_count": 6,
   "id": "14797e64",
   "metadata": {},
   "outputs": [],
   "source": [
    "# Dada una lista aplicar una función a todos los elementos de la lista y resultado lo dejamos en otra lista\n",
    "def calcularTotal(precio):\n",
    "    # Incrementa el precio con el 21% de IVA\n",
    "    return round(precio * 1.21, 2)"
   ]
  },
  {
   "cell_type": "code",
   "execution_count": 3,
   "id": "0249ee55",
   "metadata": {},
   "outputs": [
    {
     "data": {
      "text/plain": [
       "121.0"
      ]
     },
     "execution_count": 3,
     "metadata": {},
     "output_type": "execute_result"
    }
   ],
   "source": [
    "calcularTotal(100)"
   ]
  },
  {
   "cell_type": "code",
   "execution_count": 7,
   "id": "67dc6206",
   "metadata": {},
   "outputs": [
    {
     "data": {
      "text/plain": [
       "[121.0, 278.3, 181.5, 200.86, 544.5, 943.8]"
      ]
     },
     "execution_count": 7,
     "metadata": {},
     "output_type": "execute_result"
    }
   ],
   "source": [
    "L = [100, 230, 150, 166, 450, 780]\n",
    "R = []\n",
    "for i in L:\n",
    "    R.append(calcularTotal(i))\n",
    "R"
   ]
  },
  {
   "cell_type": "markdown",
   "id": "d76fb883",
   "metadata": {},
   "source": [
    "### map"
   ]
  },
  {
   "cell_type": "code",
   "execution_count": 8,
   "id": "ca259b53",
   "metadata": {},
   "outputs": [
    {
     "data": {
      "text/plain": [
       "[121.0, 278.3, 181.5, 200.86, 544.5, 943.8]"
      ]
     },
     "execution_count": 8,
     "metadata": {},
     "output_type": "execute_result"
    }
   ],
   "source": [
    "# Solución utilizando map:\n",
    "R2 = list(map(calcularTotal, L))\n",
    "R2"
   ]
  },
  {
   "cell_type": "markdown",
   "id": "50a00cc8",
   "metadata": {},
   "source": [
    "### List comprehesion"
   ]
  },
  {
   "cell_type": "code",
   "execution_count": 9,
   "id": "2b3a7bef",
   "metadata": {},
   "outputs": [
    {
     "data": {
      "text/plain": [
       "[121.0, 278.3, 181.5, 200.86, 544.5, 943.8]"
      ]
     },
     "execution_count": 9,
     "metadata": {},
     "output_type": "execute_result"
    }
   ],
   "source": [
    "# Solución con list compre.\n",
    "R3 = [calcularTotal(i) for i in L]\n",
    "R3"
   ]
  },
  {
   "cell_type": "code",
   "execution_count": 10,
   "id": "0b72ed21",
   "metadata": {},
   "outputs": [
    {
     "data": {
      "text/plain": [
       "[121.0, 278.3, 181.5, 200.86, 544.5, 943.8]"
      ]
     },
     "execution_count": 10,
     "metadata": {},
     "output_type": "execute_result"
    }
   ],
   "source": [
    "R4 = [round(i * 1.21, 2) for i in L]\n",
    "R4"
   ]
  },
  {
   "cell_type": "code",
   "execution_count": 12,
   "id": "f3de8fba",
   "metadata": {},
   "outputs": [
    {
     "data": {
      "text/plain": [
       "['Ana', 'Jorge', 'Eva', 'Miguel', 'Elena']"
      ]
     },
     "execution_count": 12,
     "metadata": {},
     "output_type": "execute_result"
    }
   ],
   "source": [
    "# A partir de una lista de nombres generar otra lista con los nombres escritos correctamente (primera letra en mayúscula)\n",
    "nombres = ['ANA', 'jorge', 'eVA','miguel','eleNA']\n",
    "R = [i.capitalize() for i in nombres]\n",
    "R"
   ]
  },
  {
   "cell_type": "markdown",
   "id": "dd283d9c",
   "metadata": {},
   "source": [
    "### filter"
   ]
  },
  {
   "cell_type": "code",
   "execution_count": 13,
   "id": "4ea55b8f",
   "metadata": {},
   "outputs": [],
   "source": [
    "# Filtrar precios que están entre 150 y 250 eur.\n",
    "def filtro(num):\n",
    "    return 150 <= num <= 250"
   ]
  },
  {
   "cell_type": "code",
   "execution_count": 15,
   "id": "3bf2933a",
   "metadata": {},
   "outputs": [
    {
     "data": {
      "text/plain": [
       "[100, 230, 150, 166, 450, 780]"
      ]
     },
     "execution_count": 15,
     "metadata": {},
     "output_type": "execute_result"
    }
   ],
   "source": [
    "L"
   ]
  },
  {
   "cell_type": "code",
   "execution_count": 14,
   "id": "c8f42727",
   "metadata": {},
   "outputs": [
    {
     "data": {
      "text/plain": [
       "[230, 150, 166]"
      ]
     },
     "execution_count": 14,
     "metadata": {},
     "output_type": "execute_result"
    }
   ],
   "source": [
    "R = list(filter(filtro, L))\n",
    "R"
   ]
  },
  {
   "cell_type": "markdown",
   "id": "86f71da5",
   "metadata": {},
   "source": [
    "### List comprehession"
   ]
  },
  {
   "cell_type": "code",
   "execution_count": 16,
   "id": "af79beb3",
   "metadata": {},
   "outputs": [
    {
     "data": {
      "text/plain": [
       "[230, 150, 166]"
      ]
     },
     "execution_count": 16,
     "metadata": {},
     "output_type": "execute_result"
    }
   ],
   "source": [
    "R2 = [i for i in L if filtro(i)]\n",
    "R2"
   ]
  },
  {
   "cell_type": "code",
   "execution_count": 17,
   "id": "f40b4881",
   "metadata": {},
   "outputs": [
    {
     "data": {
      "text/plain": [
       "[230, 150, 166]"
      ]
     },
     "execution_count": 17,
     "metadata": {},
     "output_type": "execute_result"
    }
   ],
   "source": [
    "R3 = [i for i in L if 150 <= i <= 250]\n",
    "R3"
   ]
  },
  {
   "cell_type": "code",
   "execution_count": null,
   "id": "9b7d3b03",
   "metadata": {},
   "outputs": [],
   "source": []
  }
 ],
 "metadata": {
  "kernelspec": {
   "display_name": "Python 3 (ipykernel)",
   "language": "python",
   "name": "python3"
  },
  "language_info": {
   "codemirror_mode": {
    "name": "ipython",
    "version": 3
   },
   "file_extension": ".py",
   "mimetype": "text/x-python",
   "name": "python",
   "nbconvert_exporter": "python",
   "pygments_lexer": "ipython3",
   "version": "3.9.13"
  }
 },
 "nbformat": 4,
 "nbformat_minor": 5
}

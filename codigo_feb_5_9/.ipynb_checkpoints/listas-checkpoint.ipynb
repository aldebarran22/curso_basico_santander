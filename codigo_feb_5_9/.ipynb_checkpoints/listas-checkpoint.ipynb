{
 "cells": [
  {
   "cell_type": "markdown",
   "id": "60f6a01f",
   "metadata": {},
   "source": [
    "## Listas: copias y algún método"
   ]
  },
  {
   "cell_type": "markdown",
   "id": "10ac2ef9",
   "metadata": {},
   "source": [
    "Pruebas con la copia de listas (funciona igual en dict, set)"
   ]
  },
  {
   "cell_type": "code",
   "execution_count": 1,
   "id": "ea96290f",
   "metadata": {},
   "outputs": [],
   "source": [
    "L = [1,2,3,4,5,6]"
   ]
  },
  {
   "cell_type": "code",
   "execution_count": 2,
   "id": "884c48bc",
   "metadata": {},
   "outputs": [],
   "source": [
    "L.append(100)"
   ]
  },
  {
   "cell_type": "code",
   "execution_count": 3,
   "id": "7a741d56",
   "metadata": {},
   "outputs": [
    {
     "data": {
      "text/plain": [
       "[1, 2, 3, 4, 5, 6, 100]"
      ]
     },
     "execution_count": 3,
     "metadata": {},
     "output_type": "execute_result"
    }
   ],
   "source": [
    "L"
   ]
  },
  {
   "cell_type": "code",
   "execution_count": 4,
   "id": "1bec8afd",
   "metadata": {},
   "outputs": [
    {
     "data": {
      "text/plain": [
       "[0, 1, 2, 3, 4, 5, 6, 7, 8, 9]"
      ]
     },
     "execution_count": 4,
     "metadata": {},
     "output_type": "execute_result"
    }
   ],
   "source": [
    "L1 = list(range(10))\n",
    "L1"
   ]
  },
  {
   "cell_type": "code",
   "execution_count": 6,
   "id": "64207ccc",
   "metadata": {},
   "outputs": [
    {
     "name": "stdout",
     "output_type": "stream",
     "text": [
      "L1 [1000, 1, 2, 3, 4, 5, 6, 7, 8, 9] 2825856265792\n",
      "L2 [1000, 1, 2, 3, 4, 5, 6, 7, 8, 9] 2825856265792\n"
     ]
    }
   ],
   "source": [
    "# Copia de listas: OJO CREA UNA REFERENCIA\n",
    "L1 = list(range(10))\n",
    "L2 = L1  # crear una referencia: con objetos mutables: list, dict, set\n",
    "L1[0] = 1000\n",
    "print('L1',L1, id(L1))\n",
    "print('L2',L2, id(L2))"
   ]
  },
  {
   "cell_type": "code",
   "execution_count": 7,
   "id": "d88c6a93",
   "metadata": {},
   "outputs": [
    {
     "name": "stdout",
     "output_type": "stream",
     "text": [
      "L1 [1000, 1, 2, 3, 4, 5, 6, 7, 8, 9] 2825856265280\n",
      "L2 [0, 1, 2, 3, 4, 5, 6, 7, 8, 9] 2825856333952\n"
     ]
    }
   ],
   "source": [
    "# copia de listas para objetos inmutables: lista de enteros\n",
    "L1 = list(range(10))\n",
    "L2 = L1.copy()\n",
    "L1[0] = 1000\n",
    "print('L1',L1, id(L1))\n",
    "print('L2',L2, id(L2))"
   ]
  },
  {
   "cell_type": "code",
   "execution_count": 8,
   "id": "135ee59b",
   "metadata": {},
   "outputs": [
    {
     "name": "stdout",
     "output_type": "stream",
     "text": [
      "L1 [1000, [4, 5, 6], [7, 8, 9, 999]] 2825856350592\n",
      "L2 [[1, 2, 3], [4, 5, 6], [7, 8, 9, 999]] 2825856265792\n"
     ]
    }
   ],
   "source": [
    "# copia de listas para objetos mutables: La copia crea dos listas pero se comparten los elementos:\n",
    "L1 = [[1,2,3],[4,5,6],[7,8,9]]\n",
    "L2 = L1.copy()\n",
    "L1[0] = 1000\n",
    "L1[-1].append(999) # Añadir a la última sublista el valor: 999\n",
    "print('L1',L1, id(L1))\n",
    "print('L2',L2, id(L2))"
   ]
  },
  {
   "cell_type": "code",
   "execution_count": null,
   "id": "1f54da24",
   "metadata": {},
   "outputs": [],
   "source": [
    "import copy\n",
    "L1 = [[1,2,3],[4,5,6],[7,8,9]]\n",
    "L2 = copy.deepcopy(L1) # Realiza una copia profunda de la matriz\n",
    "L1[0] = 1000\n",
    "L1[-1].append(999) # Añadir a la última sublista el valor: 999\n",
    "print('L1',L1, id(L1))\n",
    "print('L2',L2, id(L2))"
   ]
  }
 ],
 "metadata": {
  "kernelspec": {
   "display_name": "Python 3 (ipykernel)",
   "language": "python",
   "name": "python3"
  },
  "language_info": {
   "codemirror_mode": {
    "name": "ipython",
    "version": 3
   },
   "file_extension": ".py",
   "mimetype": "text/x-python",
   "name": "python",
   "nbconvert_exporter": "python",
   "pygments_lexer": "ipython3",
   "version": "3.9.13"
  }
 },
 "nbformat": 4,
 "nbformat_minor": 5
}

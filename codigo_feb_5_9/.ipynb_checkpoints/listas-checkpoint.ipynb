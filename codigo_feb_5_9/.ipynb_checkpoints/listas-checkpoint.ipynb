{
 "cells": [
  {
   "cell_type": "markdown",
   "id": "75803acb",
   "metadata": {},
   "source": [
    "## Listas: copias y algún método"
   ]
  },
  {
   "cell_type": "markdown",
   "id": "2badf933",
   "metadata": {},
   "source": [
    "Pruebas con la copia de listas (funciona igual en dict, set)"
   ]
  },
  {
   "cell_type": "code",
   "execution_count": 1,
   "id": "45b59f34",
   "metadata": {},
   "outputs": [],
   "source": [
    "L = [1,2,3,4,5,6]"
   ]
  },
  {
   "cell_type": "code",
   "execution_count": 2,
   "id": "cb7d2b75",
   "metadata": {},
   "outputs": [],
   "source": [
    "L.append(100)"
   ]
  },
  {
   "cell_type": "code",
   "execution_count": 3,
   "id": "cfcfa393",
   "metadata": {},
   "outputs": [
    {
     "data": {
      "text/plain": [
       "[1, 2, 3, 4, 5, 6, 100]"
      ]
     },
     "execution_count": 3,
     "metadata": {},
     "output_type": "execute_result"
    }
   ],
   "source": [
    "L"
   ]
  },
  {
   "cell_type": "code",
   "execution_count": 4,
   "id": "973fad61",
   "metadata": {},
   "outputs": [
    {
     "data": {
      "text/plain": [
       "[0, 1, 2, 3, 4, 5, 6, 7, 8, 9]"
      ]
     },
     "execution_count": 4,
     "metadata": {},
     "output_type": "execute_result"
    }
   ],
   "source": [
    "L1 = list(range(10))\n",
    "L1"
   ]
  },
  {
   "cell_type": "code",
   "execution_count": 6,
   "id": "abab86de",
   "metadata": {},
   "outputs": [
    {
     "name": "stdout",
     "output_type": "stream",
     "text": [
      "L1 [1000, 1, 2, 3, 4, 5, 6, 7, 8, 9] 2825856265792\n",
      "L2 [1000, 1, 2, 3, 4, 5, 6, 7, 8, 9] 2825856265792\n"
     ]
    }
   ],
   "source": [
    "# Copia de listas: OJO CREA UNA REFERENCIA\n",
    "L1 = list(range(10))\n",
    "L2 = L1  # crear una referencia: con objetos mutables: list, dict, set\n",
    "L1[0] = 1000\n",
    "print('L1',L1, id(L1))\n",
    "print('L2',L2, id(L2))"
   ]
  },
  {
   "cell_type": "code",
   "execution_count": 7,
   "id": "ab727af8",
   "metadata": {},
   "outputs": [
    {
     "name": "stdout",
     "output_type": "stream",
     "text": [
      "L1 [1000, 1, 2, 3, 4, 5, 6, 7, 8, 9] 2825856265280\n",
      "L2 [0, 1, 2, 3, 4, 5, 6, 7, 8, 9] 2825856333952\n"
     ]
    }
   ],
   "source": [
    "# copia de listas para objetos inmutables: lista de enteros\n",
    "L1 = list(range(10))\n",
    "L2 = L1.copy()\n",
    "L1[0] = 1000\n",
    "print('L1',L1, id(L1))\n",
    "print('L2',L2, id(L2))"
   ]
  },
  {
   "cell_type": "code",
   "execution_count": null,
   "id": "6a24d938",
   "metadata": {},
   "outputs": [],
   "source": [
    "# copia de listas para objetos mutables: La copia crea dos listas pero se comparten los elementos:\n",
    "L1 = [[1,2,3],[4,5,6],[7,8,9]]\n",
    "L2 "
   ]
  }
 ],
 "metadata": {
  "kernelspec": {
   "display_name": "Python 3 (ipykernel)",
   "language": "python",
   "name": "python3"
  },
  "language_info": {
   "codemirror_mode": {
    "name": "ipython",
    "version": 3
   },
   "file_extension": ".py",
   "mimetype": "text/x-python",
   "name": "python",
   "nbconvert_exporter": "python",
   "pygments_lexer": "ipython3",
   "version": "3.9.13"
  }
 },
 "nbformat": 4,
 "nbformat_minor": 5
}

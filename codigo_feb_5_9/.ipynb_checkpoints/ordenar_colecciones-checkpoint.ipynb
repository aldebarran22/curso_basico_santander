{
 "cells": [
  {
   "cell_type": "markdown",
   "id": "349e0c15",
   "metadata": {},
   "source": [
    "## Ordenar colecciones en Python"
   ]
  },
  {
   "cell_type": "markdown",
   "id": "51b19bc6",
   "metadata": {},
   "source": [
    "Método sort de las listas, función sorted, funciones lambda"
   ]
  },
  {
   "cell_type": "code",
   "execution_count": 1,
   "id": "a2a1024d",
   "metadata": {},
   "outputs": [
    {
     "data": {
      "text/plain": [
       "[-7, 0, 1, 1, 3, 4, 4, 5]"
      ]
     },
     "execution_count": 1,
     "metadata": {},
     "output_type": "execute_result"
    }
   ],
   "source": [
    "L = [1,4,-7,0,4,5,1,3]\n",
    "L.sort()\n",
    "L"
   ]
  },
  {
   "cell_type": "code",
   "execution_count": 3,
   "id": "1c0d6fb4",
   "metadata": {},
   "outputs": [
    {
     "data": {
      "text/plain": [
       "[-9, 2, 4, 5, 5, 7, 8, 31]"
      ]
     },
     "execution_count": 3,
     "metadata": {},
     "output_type": "execute_result"
    }
   ],
   "source": [
    "t = (2,5,5,4,31,7,8,-9)\n",
    "L2 = sorted(t)\n",
    "L2"
   ]
  },
  {
   "cell_type": "code",
   "execution_count": 6,
   "id": "e2b2fc50",
   "metadata": {},
   "outputs": [
    {
     "data": {
      "text/plain": [
       "['Ana', 'Andres', 'Jorge', 'Sara', 'Tomas', 'jose']"
      ]
     },
     "execution_count": 6,
     "metadata": {},
     "output_type": "execute_result"
    }
   ],
   "source": [
    "c = {\"Sara\",\"Andres\",\"Jorge\",\"Ana\",\"Tomas\",\"jose\"}\n",
    "L3 = sorted(c)\n",
    "L3"
   ]
  },
  {
   "cell_type": "code",
   "execution_count": 7,
   "id": "dbb25f3f",
   "metadata": {},
   "outputs": [
    {
     "data": {
      "text/plain": [
       "[5, 4, 4, 3, 1, 1, 0, -7]"
      ]
     },
     "execution_count": 7,
     "metadata": {},
     "output_type": "execute_result"
    }
   ],
   "source": [
    "# Ordenar DESC\n",
    "L.sort(reverse=True)\n",
    "L"
   ]
  },
  {
   "cell_type": "code",
   "execution_count": 8,
   "id": "b5a81328",
   "metadata": {},
   "outputs": [
    {
     "data": {
      "text/plain": [
       "['jose', 'Tomas', 'Sara', 'Jorge', 'Andres', 'Ana']"
      ]
     },
     "execution_count": 8,
     "metadata": {},
     "output_type": "execute_result"
    }
   ],
   "source": [
    "L4 = sorted(c, reverse=True)\n",
    "L4"
   ]
  },
  {
   "cell_type": "code",
   "execution_count": null,
   "id": "239450a8",
   "metadata": {},
   "outputs": [],
   "source": []
  }
 ],
 "metadata": {
  "kernelspec": {
   "display_name": "Python 3 (ipykernel)",
   "language": "python",
   "name": "python3"
  },
  "language_info": {
   "codemirror_mode": {
    "name": "ipython",
    "version": 3
   },
   "file_extension": ".py",
   "mimetype": "text/x-python",
   "name": "python",
   "nbconvert_exporter": "python",
   "pygments_lexer": "ipython3",
   "version": "3.8.5"
  }
 },
 "nbformat": 4,
 "nbformat_minor": 5
}

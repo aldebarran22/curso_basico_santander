{
 "cells": [
  {
   "cell_type": "markdown",
   "id": "7e0a620b",
   "metadata": {},
   "source": [
    "## Listas: copias y algún método"
   ]
  },
  {
   "cell_type": "markdown",
   "id": "b8d0d26f",
   "metadata": {},
   "source": [
    "Pruebas con la copia de listas (funciona igual en dict, set)"
   ]
  },
  {
   "cell_type": "code",
   "execution_count": 1,
   "id": "45941fd2",
   "metadata": {},
   "outputs": [],
   "source": [
    "L = [1,2,3,4,5,6]"
   ]
  },
  {
   "cell_type": "code",
   "execution_count": 2,
   "id": "b0be978b",
   "metadata": {},
   "outputs": [],
   "source": [
    "L.append(100)"
   ]
  },
  {
   "cell_type": "code",
   "execution_count": 3,
   "id": "3e480b3b",
   "metadata": {},
   "outputs": [
    {
     "data": {
      "text/plain": [
       "[1, 2, 3, 4, 5, 6, 100]"
      ]
     },
     "execution_count": 3,
     "metadata": {},
     "output_type": "execute_result"
    }
   ],
   "source": [
    "L"
   ]
  },
  {
   "cell_type": "code",
   "execution_count": 4,
   "id": "c25d384e",
   "metadata": {},
   "outputs": [
    {
     "data": {
      "text/plain": [
       "[0, 1, 2, 3, 4, 5, 6, 7, 8, 9]"
      ]
     },
     "execution_count": 4,
     "metadata": {},
     "output_type": "execute_result"
    }
   ],
   "source": [
    "L1 = list(range(10))\n",
    "L1"
   ]
  },
  {
   "cell_type": "code",
   "execution_count": 6,
   "id": "bfafa101",
   "metadata": {},
   "outputs": [
    {
     "name": "stdout",
     "output_type": "stream",
     "text": [
      "L1 [1000, 1, 2, 3, 4, 5, 6, 7, 8, 9] 2825856265792\n",
      "L2 [1000, 1, 2, 3, 4, 5, 6, 7, 8, 9] 2825856265792\n"
     ]
    }
   ],
   "source": [
    "# Copia de listas: OJO CREA UNA REFERENCIA\n",
    "L1 = list(range(10))\n",
    "L2 = L1  # crear una referencia: con objetos mutables: list, dict, set\n",
    "L1[0] = 1000\n",
    "print('L1',L1, id(L1))\n",
    "print('L2',L2, id(L2))"
   ]
  },
  {
   "cell_type": "code",
   "execution_count": 7,
   "id": "d2212626",
   "metadata": {},
   "outputs": [
    {
     "name": "stdout",
     "output_type": "stream",
     "text": [
      "L1 [1000, 1, 2, 3, 4, 5, 6, 7, 8, 9] 2825856265280\n",
      "L2 [0, 1, 2, 3, 4, 5, 6, 7, 8, 9] 2825856333952\n"
     ]
    }
   ],
   "source": [
    "# copia de listas para objetos inmutables: lista de enteros\n",
    "L1 = list(range(10))\n",
    "L2 = L1.copy()\n",
    "L1[0] = 1000\n",
    "print('L1',L1, id(L1))\n",
    "print('L2',L2, id(L2))"
   ]
  },
  {
   "cell_type": "code",
   "execution_count": 8,
   "id": "4030a726",
   "metadata": {},
   "outputs": [
    {
     "name": "stdout",
     "output_type": "stream",
     "text": [
      "L1 [1000, [4, 5, 6], [7, 8, 9, 999]] 2825856350592\n",
      "L2 [[1, 2, 3], [4, 5, 6], [7, 8, 9, 999]] 2825856265792\n"
     ]
    }
   ],
   "source": [
    "# copia de listas para objetos mutables: La copia crea dos listas pero se comparten los elementos:\n",
    "L1 = [[1,2,3],[4,5,6],[7,8,9]]\n",
    "L2 = L1.copy()\n",
    "L1[0] = 1000\n",
    "L1[-1].append(999) # Añadir a la última sublista el valor: 999\n",
    "print('L1',L1, id(L1))\n",
    "print('L2',L2, id(L2))"
   ]
  },
  {
   "cell_type": "code",
   "execution_count": 9,
   "id": "e6faa5d4",
   "metadata": {},
   "outputs": [
    {
     "name": "stdout",
     "output_type": "stream",
     "text": [
      "L1 [1000, [4, 5, 6], [7, 8, 9, 999]] 2825856341248\n",
      "L2 [[1, 2, 3], [4, 5, 6], [7, 8, 9]] 2825856340864\n"
     ]
    }
   ],
   "source": [
    "import copy\n",
    "L1 = [[1,2,3],[4,5,6],[7,8,9]]\n",
    "L2 = copy.deepcopy(L1) # Realiza una copia profunda de la matriz\n",
    "L1[0] = 1000\n",
    "L1[-1].append(999) # Añadir a la última sublista el valor: 999\n",
    "print('L1',L1, id(L1))\n",
    "print('L2',L2, id(L2))"
   ]
  },
  {
   "cell_type": "code",
   "execution_count": null,
   "id": "cba7cbe3",
   "metadata": {},
   "outputs": [],
   "source": []
  }
 ],
 "metadata": {
  "kernelspec": {
   "display_name": "Python 3 (ipykernel)",
   "language": "python",
   "name": "python3"
  },
  "language_info": {
   "codemirror_mode": {
    "name": "ipython",
    "version": 3
   },
   "file_extension": ".py",
   "mimetype": "text/x-python",
   "name": "python",
   "nbconvert_exporter": "python",
   "pygments_lexer": "ipython3",
   "version": "3.9.13"
  }
 },
 "nbformat": 4,
 "nbformat_minor": 5
}

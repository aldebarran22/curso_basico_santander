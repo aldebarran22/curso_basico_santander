{
 "cells": [
  {
   "cell_type": "markdown",
   "id": "0b8f4429",
   "metadata": {},
   "source": [
    "## Ordenar colecciones en Python"
   ]
  },
  {
   "cell_type": "markdown",
   "id": "3d7de47a",
   "metadata": {},
   "source": [
    "Método sort de las listas, función sorted, funciones lambda"
   ]
  },
  {
   "cell_type": "code",
   "execution_count": 1,
   "id": "51f79ce6",
   "metadata": {},
   "outputs": [
    {
     "data": {
      "text/plain": [
       "[-7, 0, 1, 1, 3, 4, 4, 5]"
      ]
     },
     "execution_count": 1,
     "metadata": {},
     "output_type": "execute_result"
    }
   ],
   "source": [
    "L = [1,4,-7,0,4,5,1,3]\n",
    "L.sort()\n",
    "L"
   ]
  },
  {
   "cell_type": "code",
   "execution_count": 3,
   "id": "ebf4f682",
   "metadata": {},
   "outputs": [
    {
     "data": {
      "text/plain": [
       "[-9, 2, 4, 5, 5, 7, 8, 31]"
      ]
     },
     "execution_count": 3,
     "metadata": {},
     "output_type": "execute_result"
    }
   ],
   "source": [
    "t = (2,5,5,4,31,7,8,-9)\n",
    "L2 = sorted(t)\n",
    "L2"
   ]
  },
  {
   "cell_type": "code",
   "execution_count": 9,
   "id": "e5a2f1c5",
   "metadata": {},
   "outputs": [
    {
     "data": {
      "text/plain": [
       "['Ana', 'Andres', 'Jorge', 'Jose Luis', 'Sara', 'Tomas']"
      ]
     },
     "execution_count": 9,
     "metadata": {},
     "output_type": "execute_result"
    }
   ],
   "source": [
    "c = {\"Sara\",\"Andres\",\"Jorge\",\"Ana\",\"Tomas\",\"Jose Luis\"}\n",
    "L3 = sorted(c)\n",
    "L3"
   ]
  },
  {
   "cell_type": "code",
   "execution_count": 10,
   "id": "2f209a58",
   "metadata": {},
   "outputs": [
    {
     "data": {
      "text/plain": [
       "[5, 4, 4, 3, 1, 1, 0, -7]"
      ]
     },
     "execution_count": 10,
     "metadata": {},
     "output_type": "execute_result"
    }
   ],
   "source": [
    "# Ordenar DESC\n",
    "L.sort(reverse=True)\n",
    "L"
   ]
  },
  {
   "cell_type": "code",
   "execution_count": 11,
   "id": "ea42601d",
   "metadata": {},
   "outputs": [
    {
     "data": {
      "text/plain": [
       "['Tomas', 'Sara', 'Jose Luis', 'Jorge', 'Andres', 'Ana']"
      ]
     },
     "execution_count": 11,
     "metadata": {},
     "output_type": "execute_result"
    }
   ],
   "source": [
    "L4 = sorted(c, reverse=True)\n",
    "L4"
   ]
  },
  {
   "cell_type": "code",
   "execution_count": 12,
   "id": "43ed25e7",
   "metadata": {},
   "outputs": [
    {
     "data": {
      "text/plain": [
       "['Ana', 'Sara', 'Jorge', 'Tomas', 'Andres', 'Jose Luis']"
      ]
     },
     "execution_count": 12,
     "metadata": {},
     "output_type": "execute_result"
    }
   ],
   "source": [
    "L5 = sorted(c, key=len)\n",
    "L5"
   ]
  },
  {
   "cell_type": "code",
   "execution_count": 13,
   "id": "da43cc91",
   "metadata": {},
   "outputs": [
    {
     "data": {
      "text/plain": [
       "[6, 4, 5, 9, 3, 5]"
      ]
     },
     "execution_count": 13,
     "metadata": {},
     "output_type": "execute_result"
    }
   ],
   "source": [
    "longitudes = [len(i) for i in c]\n",
    "longitudes"
   ]
  },
  {
   "cell_type": "code",
   "execution_count": 14,
   "id": "985ab8d3",
   "metadata": {},
   "outputs": [
    {
     "name": "stdout",
     "output_type": "stream",
     "text": [
      "{1, 2, 4, 5, 6, 7}\n",
      "{1: 4, 2: 4, 4: 2, 5: 2, 6: 2, 7: 1}\n"
     ]
    }
   ],
   "source": [
    "L = [1,2,2,2,1,1,1,2,4,5,5,6,7,6,4]\n",
    "k = set(L) # Quitar repetidos.\n",
    "print(k)\n",
    "histo = dict()\n",
    "for i in k:\n",
    "    histo[i] = L.count(i)\n",
    "print(histo)"
   ]
  },
  {
   "cell_type": "code",
   "execution_count": 15,
   "id": "92dedce9",
   "metadata": {},
   "outputs": [
    {
     "data": {
      "text/plain": [
       "[(1, 4), (2, 4), (4, 2), (5, 2), (6, 2), (7, 1)]"
      ]
     },
     "execution_count": 15,
     "metadata": {},
     "output_type": "execute_result"
    }
   ],
   "source": [
    "L = list(histo.items())\n",
    "L"
   ]
  },
  {
   "cell_type": "code",
   "execution_count": 16,
   "id": "b875d14c",
   "metadata": {},
   "outputs": [
    {
     "data": {
      "text/plain": [
       "[('Jorge', 43, 1.7),\n",
       " ('Tomas', 23, 1.9),\n",
       " ('Andres', 55, 1.78),\n",
       " ('Olga', 33, 1.67)]"
      ]
     },
     "execution_count": 16,
     "metadata": {},
     "output_type": "execute_result"
    }
   ],
   "source": [
    "L = [('Jorge',43, 1.7), ('Tomas',23,1.9), ('Andres',55,1.78),('Olga',33,1.67)]\n",
    "L"
   ]
  },
  {
   "cell_type": "code",
   "execution_count": 17,
   "id": "b717cf2a",
   "metadata": {},
   "outputs": [
    {
     "data": {
      "text/plain": [
       "[('Andres', 55, 1.78),\n",
       " ('Jorge', 43, 1.7),\n",
       " ('Olga', 33, 1.67),\n",
       " ('Tomas', 23, 1.9)]"
      ]
     },
     "execution_count": 17,
     "metadata": {},
     "output_type": "execute_result"
    }
   ],
   "source": [
    "L.sort()\n",
    "L"
   ]
  },
  {
   "cell_type": "code",
   "execution_count": 18,
   "id": "ae6b8606",
   "metadata": {},
   "outputs": [
    {
     "data": {
      "text/plain": [
       "[('Tomas', 23, 1.9),\n",
       " ('Olga', 33, 1.67),\n",
       " ('Jorge', 43, 1.7),\n",
       " ('Andres', 55, 1.78)]"
      ]
     },
     "execution_count": 18,
     "metadata": {},
     "output_type": "execute_result"
    }
   ],
   "source": [
    "# Ordenar ASC por Edad\n",
    "L.sort(key=lambda t:t[1])\n",
    "L"
   ]
  },
  {
   "cell_type": "code",
   "execution_count": 19,
   "id": "cee5accd",
   "metadata": {},
   "outputs": [
    {
     "data": {
      "text/plain": [
       "[('Tomas', 23, 1.9),\n",
       " ('Andres', 55, 1.78),\n",
       " ('Jorge', 43, 1.7),\n",
       " ('Olga', 33, 1.67)]"
      ]
     },
     "execution_count": 19,
     "metadata": {},
     "output_type": "execute_result"
    }
   ],
   "source": [
    "# Ordenar DESC por altura\n",
    "L.sort(key=lambda t:t[2], reverse=True)\n",
    "L"
   ]
  },
  {
   "cell_type": "markdown",
   "id": "1638efa9",
   "metadata": {},
   "source": [
    "#### Crear un histograma con el siguiente texto. Calcular cuales son las 10 palabras mas utilizadas"
   ]
  },
  {
   "cell_type": "code",
   "execution_count": 20,
   "id": "7d19ccca",
   "metadata": {},
   "outputs": [],
   "source": [
    "txt=\"\"\"Quiere la boca exhausta vid kiwi piña y fugaz jamón Fabio me exige sin tapujos que añada \n",
    "cerveza al whisky Jovencillo emponzoñado de whisky ¡qué figurota exhibes! La cigüeña tocaba cada vez \n",
    "mejor el saxofón y el búho pedía kiwi y queso El jefe buscó el éxtasis en un imprevisto baño de whisky \n",
    "y gozó como un duque Exhíbanse politiquillos zafios con orejas kilométricas y uñas de gavilán \n",
    "El cadáver de Wamba rey godo de España fue exhumado y trasladado en una caja de zinc que pesó un kilo \n",
    "El pingüino Wenceslao hizo kilómetros bajo exhaustiva lluvia y frío añoraba a su querido cachorro El veloz \n",
    "murciélago hindú comía feliz cardillo y kiwi La cigüeña tocaba el saxofón detrás del palenque de pajaQuiere la boca exhausta vid kiwi piña y fugaz jamón Fabio me exige sin tapujos que añada cerveza al whisky Jovencillo emponzoñado de whisky ¡qué figurota exhibes! La cigüeña tocaba cada vez mejor el saxofón y el búho pedía kiwi y queso El jefe buscó el éxtasis en un imprevisto baño de whisky y gozó como un duque Exhíbanse politiquillos zafios con orejas kilométricas y uñas de gavilán El cadáver de Wamba rey godo de España fue\"\"\""
   ]
  },
  {
   "cell_type": "code",
   "execution_count": null,
   "id": "73bdbe0d",
   "metadata": {},
   "outputs": [],
   "source": []
  }
 ],
 "metadata": {
  "kernelspec": {
   "display_name": "Python 3 (ipykernel)",
   "language": "python",
   "name": "python3"
  },
  "language_info": {
   "codemirror_mode": {
    "name": "ipython",
    "version": 3
   },
   "file_extension": ".py",
   "mimetype": "text/x-python",
   "name": "python",
   "nbconvert_exporter": "python",
   "pygments_lexer": "ipython3",
   "version": "3.8.5"
  }
 },
 "nbformat": 4,
 "nbformat_minor": 5
}

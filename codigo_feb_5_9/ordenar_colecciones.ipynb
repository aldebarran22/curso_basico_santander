{
 "cells": [
  {
   "cell_type": "markdown",
   "id": "c3ba7289",
   "metadata": {},
   "source": [
    "## Ordenar colecciones en Python"
   ]
  },
  {
   "cell_type": "markdown",
   "id": "093d07c6",
   "metadata": {},
   "source": [
    "Método sort de las listas, función sorted, funciones lambda"
   ]
  },
  {
   "cell_type": "code",
   "execution_count": 1,
   "id": "90418b7a",
   "metadata": {},
   "outputs": [
    {
     "data": {
      "text/plain": [
       "[-7, 0, 1, 1, 3, 4, 4, 5]"
      ]
     },
     "execution_count": 1,
     "metadata": {},
     "output_type": "execute_result"
    }
   ],
   "source": [
    "L = [1,4,-7,0,4,5,1,3]\n",
    "L.sort()\n",
    "L"
   ]
  },
  {
   "cell_type": "code",
   "execution_count": 3,
   "id": "815b6a7e",
   "metadata": {},
   "outputs": [
    {
     "data": {
      "text/plain": [
       "[-9, 2, 4, 5, 5, 7, 8, 31]"
      ]
     },
     "execution_count": 3,
     "metadata": {},
     "output_type": "execute_result"
    }
   ],
   "source": [
    "t = (2,5,5,4,31,7,8,-9)\n",
    "L2 = sorted(t)\n",
    "L2"
   ]
  },
  {
   "cell_type": "code",
   "execution_count": 9,
   "id": "cd14257d",
   "metadata": {},
   "outputs": [
    {
     "data": {
      "text/plain": [
       "['Ana', 'Andres', 'Jorge', 'Jose Luis', 'Sara', 'Tomas']"
      ]
     },
     "execution_count": 9,
     "metadata": {},
     "output_type": "execute_result"
    }
   ],
   "source": [
    "c = {\"Sara\",\"Andres\",\"Jorge\",\"Ana\",\"Tomas\",\"Jose Luis\"}\n",
    "L3 = sorted(c)\n",
    "L3"
   ]
  },
  {
   "cell_type": "code",
   "execution_count": 10,
   "id": "72fc7070",
   "metadata": {},
   "outputs": [
    {
     "data": {
      "text/plain": [
       "[5, 4, 4, 3, 1, 1, 0, -7]"
      ]
     },
     "execution_count": 10,
     "metadata": {},
     "output_type": "execute_result"
    }
   ],
   "source": [
    "# Ordenar DESC\n",
    "L.sort(reverse=True)\n",
    "L"
   ]
  },
  {
   "cell_type": "code",
   "execution_count": 11,
   "id": "2fcd4524",
   "metadata": {},
   "outputs": [
    {
     "data": {
      "text/plain": [
       "['Tomas', 'Sara', 'Jose Luis', 'Jorge', 'Andres', 'Ana']"
      ]
     },
     "execution_count": 11,
     "metadata": {},
     "output_type": "execute_result"
    }
   ],
   "source": [
    "L4 = sorted(c, reverse=True)\n",
    "L4"
   ]
  },
  {
   "cell_type": "code",
   "execution_count": 12,
   "id": "08125964",
   "metadata": {},
   "outputs": [
    {
     "data": {
      "text/plain": [
       "['Ana', 'Sara', 'Jorge', 'Tomas', 'Andres', 'Jose Luis']"
      ]
     },
     "execution_count": 12,
     "metadata": {},
     "output_type": "execute_result"
    }
   ],
   "source": [
    "L5 = sorted(c, key=len)\n",
    "L5"
   ]
  },
  {
   "cell_type": "code",
   "execution_count": 13,
   "id": "cbc6112a",
   "metadata": {},
   "outputs": [
    {
     "data": {
      "text/plain": [
       "[6, 4, 5, 9, 3, 5]"
      ]
     },
     "execution_count": 13,
     "metadata": {},
     "output_type": "execute_result"
    }
   ],
   "source": [
    "longitudes = [len(i) for i in c]\n",
    "longitudes"
   ]
  },
  {
   "cell_type": "code",
   "execution_count": 14,
   "id": "ef26b2fa",
   "metadata": {},
   "outputs": [
    {
     "name": "stdout",
     "output_type": "stream",
     "text": [
      "{1, 2, 4, 5, 6, 7}\n",
      "{1: 4, 2: 4, 4: 2, 5: 2, 6: 2, 7: 1}\n"
     ]
    }
   ],
   "source": [
    "L = [1,2,2,2,1,1,1,2,4,5,5,6,7,6,4]\n",
    "k = set(L) # Quitar repetidos.\n",
    "print(k)\n",
    "histo = dict()\n",
    "for i in k:\n",
    "    histo[i] = L.count(i)\n",
    "print(histo)"
   ]
  },
  {
   "cell_type": "code",
   "execution_count": 15,
   "id": "15e78a7c",
   "metadata": {},
   "outputs": [
    {
     "data": {
      "text/plain": [
       "[(1, 4), (2, 4), (4, 2), (5, 2), (6, 2), (7, 1)]"
      ]
     },
     "execution_count": 15,
     "metadata": {},
     "output_type": "execute_result"
    }
   ],
   "source": [
    "L = list(histo.items())\n",
    "L"
   ]
  },
  {
   "cell_type": "code",
   "execution_count": 16,
   "id": "4165feb3",
   "metadata": {},
   "outputs": [
    {
     "data": {
      "text/plain": [
       "[('Jorge', 43, 1.7),\n",
       " ('Tomas', 23, 1.9),\n",
       " ('Andres', 55, 1.78),\n",
       " ('Olga', 33, 1.67)]"
      ]
     },
     "execution_count": 16,
     "metadata": {},
     "output_type": "execute_result"
    }
   ],
   "source": [
    "L = [('Jorge',43, 1.7), ('Tomas',23,1.9), ('Andres',55,1.78),('Olga',33,1.67)]\n",
    "L"
   ]
  },
  {
   "cell_type": "code",
   "execution_count": 17,
   "id": "265d5ac2",
   "metadata": {},
   "outputs": [
    {
     "data": {
      "text/plain": [
       "[('Andres', 55, 1.78),\n",
       " ('Jorge', 43, 1.7),\n",
       " ('Olga', 33, 1.67),\n",
       " ('Tomas', 23, 1.9)]"
      ]
     },
     "execution_count": 17,
     "metadata": {},
     "output_type": "execute_result"
    }
   ],
   "source": [
    "L.sort()\n",
    "L"
   ]
  },
  {
   "cell_type": "code",
   "execution_count": 18,
   "id": "923e5eea",
   "metadata": {},
   "outputs": [
    {
     "data": {
      "text/plain": [
       "[('Tomas', 23, 1.9),\n",
       " ('Olga', 33, 1.67),\n",
       " ('Jorge', 43, 1.7),\n",
       " ('Andres', 55, 1.78)]"
      ]
     },
     "execution_count": 18,
     "metadata": {},
     "output_type": "execute_result"
    }
   ],
   "source": [
    "# Ordenar ASC por Edad\n",
    "L.sort(key=lambda t:t[1])\n",
    "L"
   ]
  },
  {
   "cell_type": "code",
   "execution_count": 19,
   "id": "34a6f716",
   "metadata": {},
   "outputs": [
    {
     "data": {
      "text/plain": [
       "[('Tomas', 23, 1.9),\n",
       " ('Andres', 55, 1.78),\n",
       " ('Jorge', 43, 1.7),\n",
       " ('Olga', 33, 1.67)]"
      ]
     },
     "execution_count": 19,
     "metadata": {},
     "output_type": "execute_result"
    }
   ],
   "source": [
    "# Ordenar DESC por altura\n",
    "L.sort(key=lambda t:t[2], reverse=True)\n",
    "L"
   ]
  },
  {
   "cell_type": "code",
   "execution_count": null,
   "id": "9e07ae7b",
   "metadata": {},
   "outputs": [],
   "source": []
  }
 ],
 "metadata": {
  "kernelspec": {
   "display_name": "Python 3 (ipykernel)",
   "language": "python",
   "name": "python3"
  },
  "language_info": {
   "codemirror_mode": {
    "name": "ipython",
    "version": 3
   },
   "file_extension": ".py",
   "mimetype": "text/x-python",
   "name": "python",
   "nbconvert_exporter": "python",
   "pygments_lexer": "ipython3",
   "version": "3.8.5"
  }
 },
 "nbformat": 4,
 "nbformat_minor": 5
}

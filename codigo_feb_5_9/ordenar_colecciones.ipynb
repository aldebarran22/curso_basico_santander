{
 "cells": [
  {
   "cell_type": "markdown",
   "id": "3632429a",
   "metadata": {},
   "source": [
    "## Ordenar colecciones en Python"
   ]
  },
  {
   "cell_type": "markdown",
   "id": "17191089",
   "metadata": {},
   "source": [
    "Método sort de las listas, función sorted, funciones lambda"
   ]
  },
  {
   "cell_type": "code",
   "execution_count": 1,
   "id": "17e14f46",
   "metadata": {},
   "outputs": [
    {
     "data": {
      "text/plain": [
       "[-7, 0, 1, 1, 3, 4, 4, 5]"
      ]
     },
     "execution_count": 1,
     "metadata": {},
     "output_type": "execute_result"
    }
   ],
   "source": [
    "L = [1,4,-7,0,4,5,1,3]\n",
    "L.sort()\n",
    "L"
   ]
  },
  {
   "cell_type": "code",
   "execution_count": 3,
   "id": "2ab33f41",
   "metadata": {},
   "outputs": [
    {
     "data": {
      "text/plain": [
       "[-9, 2, 4, 5, 5, 7, 8, 31]"
      ]
     },
     "execution_count": 3,
     "metadata": {},
     "output_type": "execute_result"
    }
   ],
   "source": [
    "t = (2,5,5,4,31,7,8,-9)\n",
    "L2 = sorted(t)\n",
    "L2"
   ]
  },
  {
   "cell_type": "code",
   "execution_count": 9,
   "id": "40c75338",
   "metadata": {},
   "outputs": [
    {
     "data": {
      "text/plain": [
       "['Ana', 'Andres', 'Jorge', 'Jose Luis', 'Sara', 'Tomas']"
      ]
     },
     "execution_count": 9,
     "metadata": {},
     "output_type": "execute_result"
    }
   ],
   "source": [
    "c = {\"Sara\",\"Andres\",\"Jorge\",\"Ana\",\"Tomas\",\"Jose Luis\"}\n",
    "L3 = sorted(c)\n",
    "L3"
   ]
  },
  {
   "cell_type": "code",
   "execution_count": 10,
   "id": "80bec9dd",
   "metadata": {},
   "outputs": [
    {
     "data": {
      "text/plain": [
       "[5, 4, 4, 3, 1, 1, 0, -7]"
      ]
     },
     "execution_count": 10,
     "metadata": {},
     "output_type": "execute_result"
    }
   ],
   "source": [
    "# Ordenar DESC\n",
    "L.sort(reverse=True)\n",
    "L"
   ]
  },
  {
   "cell_type": "code",
   "execution_count": 11,
   "id": "f3cbe951",
   "metadata": {},
   "outputs": [
    {
     "data": {
      "text/plain": [
       "['Tomas', 'Sara', 'Jose Luis', 'Jorge', 'Andres', 'Ana']"
      ]
     },
     "execution_count": 11,
     "metadata": {},
     "output_type": "execute_result"
    }
   ],
   "source": [
    "L4 = sorted(c, reverse=True)\n",
    "L4"
   ]
  },
  {
   "cell_type": "code",
   "execution_count": 12,
   "id": "7aeb0c27",
   "metadata": {},
   "outputs": [
    {
     "data": {
      "text/plain": [
       "['Ana', 'Sara', 'Jorge', 'Tomas', 'Andres', 'Jose Luis']"
      ]
     },
     "execution_count": 12,
     "metadata": {},
     "output_type": "execute_result"
    }
   ],
   "source": [
    "L5 = sorted(c, key=len)\n",
    "L5"
   ]
  },
  {
   "cell_type": "code",
   "execution_count": 13,
   "id": "c11cfbf5",
   "metadata": {},
   "outputs": [
    {
     "data": {
      "text/plain": [
       "[6, 4, 5, 9, 3, 5]"
      ]
     },
     "execution_count": 13,
     "metadata": {},
     "output_type": "execute_result"
    }
   ],
   "source": [
    "longitudes = [len(i) for i in c]\n",
    "longitudes"
   ]
  },
  {
   "cell_type": "code",
   "execution_count": 14,
   "id": "5a7d20e9",
   "metadata": {},
   "outputs": [
    {
     "name": "stdout",
     "output_type": "stream",
     "text": [
      "{1, 2, 4, 5, 6, 7}\n",
      "{1: 4, 2: 4, 4: 2, 5: 2, 6: 2, 7: 1}\n"
     ]
    }
   ],
   "source": [
    "L = [1,2,2,2,1,1,1,2,4,5,5,6,7,6,4]\n",
    "k = set(L) # Quitar repetidos.\n",
    "print(k)\n",
    "histo = dict()\n",
    "for i in k:\n",
    "    histo[i] = L.count(i)\n",
    "print(histo)"
   ]
  },
  {
   "cell_type": "code",
   "execution_count": 15,
   "id": "a28996e7",
   "metadata": {},
   "outputs": [
    {
     "data": {
      "text/plain": [
       "[(1, 4), (2, 4), (4, 2), (5, 2), (6, 2), (7, 1)]"
      ]
     },
     "execution_count": 15,
     "metadata": {},
     "output_type": "execute_result"
    }
   ],
   "source": [
    "L = list(histo.items())\n",
    "L"
   ]
  },
  {
   "cell_type": "code",
   "execution_count": 16,
   "id": "63e1a841",
   "metadata": {},
   "outputs": [
    {
     "data": {
      "text/plain": [
       "[('Jorge', 43, 1.7),\n",
       " ('Tomas', 23, 1.9),\n",
       " ('Andres', 55, 1.78),\n",
       " ('Olga', 33, 1.67)]"
      ]
     },
     "execution_count": 16,
     "metadata": {},
     "output_type": "execute_result"
    }
   ],
   "source": [
    "L = [('Jorge',43, 1.7), ('Tomas',23,1.9), ('Andres',55,1.78),('Olga',33,1.67)]\n",
    "L"
   ]
  },
  {
   "cell_type": "code",
   "execution_count": 17,
   "id": "9c88af7e",
   "metadata": {},
   "outputs": [
    {
     "data": {
      "text/plain": [
       "[('Andres', 55, 1.78),\n",
       " ('Jorge', 43, 1.7),\n",
       " ('Olga', 33, 1.67),\n",
       " ('Tomas', 23, 1.9)]"
      ]
     },
     "execution_count": 17,
     "metadata": {},
     "output_type": "execute_result"
    }
   ],
   "source": [
    "L.sort()\n",
    "L"
   ]
  },
  {
   "cell_type": "code",
   "execution_count": 18,
   "id": "95a1e88a",
   "metadata": {},
   "outputs": [
    {
     "data": {
      "text/plain": [
       "[('Tomas', 23, 1.9),\n",
       " ('Olga', 33, 1.67),\n",
       " ('Jorge', 43, 1.7),\n",
       " ('Andres', 55, 1.78)]"
      ]
     },
     "execution_count": 18,
     "metadata": {},
     "output_type": "execute_result"
    }
   ],
   "source": [
    "# Ordenar ASC por Edad\n",
    "L.sort(key=lambda t:t[1])\n",
    "L"
   ]
  },
  {
   "cell_type": "code",
   "execution_count": 19,
   "id": "8757ef57",
   "metadata": {},
   "outputs": [
    {
     "data": {
      "text/plain": [
       "[('Tomas', 23, 1.9),\n",
       " ('Andres', 55, 1.78),\n",
       " ('Jorge', 43, 1.7),\n",
       " ('Olga', 33, 1.67)]"
      ]
     },
     "execution_count": 19,
     "metadata": {},
     "output_type": "execute_result"
    }
   ],
   "source": [
    "# Ordenar DESC por altura\n",
    "L.sort(key=lambda t:t[2], reverse=True)\n",
    "L"
   ]
  },
  {
   "cell_type": "markdown",
   "id": "77bb0a8e",
   "metadata": {},
   "source": [
    "#### Crear un histograma con el siguiente texto. Calcular cuales son las 10 palabras mas utilizadas"
   ]
  },
  {
   "cell_type": "code",
   "execution_count": 20,
   "id": "58bcf22a",
   "metadata": {},
   "outputs": [],
   "source": [
    "txt=\"\"\"Quiere la boca exhausta vid kiwi piña y fugaz jamón Fabio me exige sin tapujos que añada \n",
    "cerveza al whisky Jovencillo emponzoñado de whisky ¡qué figurota exhibes! La cigüeña tocaba cada vez \n",
    "mejor el saxofón y el búho pedía kiwi y queso El jefe buscó el éxtasis en un imprevisto baño de whisky \n",
    "y gozó como un duque Exhíbanse politiquillos zafios con orejas kilométricas y uñas de gavilán \n",
    "El cadáver de Wamba rey godo de España fue exhumado y trasladado en una caja de zinc que pesó un kilo \n",
    "El pingüino Wenceslao hizo kilómetros bajo exhaustiva lluvia y frío añoraba a su querido cachorro El veloz \n",
    "murciélago hindú comía feliz cardillo y kiwi La cigüeña tocaba el saxofón detrás del palenque de pajaQuiere la boca exhausta vid kiwi piña y fugaz jamón Fabio me exige sin tapujos que añada cerveza al whisky Jovencillo emponzoñado de whisky ¡qué figurota exhibes! La cigüeña tocaba cada vez mejor el saxofón y el búho pedía kiwi y queso El jefe buscó el éxtasis en un imprevisto baño de whisky y gozó como un duque Exhíbanse politiquillos zafios con orejas kilométricas y uñas de gavilán El cadáver de Wamba rey godo de España fue\"\"\""
   ]
  },
  {
   "cell_type": "code",
   "execution_count": 26,
   "id": "7ab35104",
   "metadata": {},
   "outputs": [
    {
     "data": {
      "text/plain": [
       "['Quiere',\n",
       " 'la',\n",
       " 'boca',\n",
       " 'exhausta',\n",
       " 'vid',\n",
       " 'kiwi',\n",
       " 'piña',\n",
       " 'y',\n",
       " 'fugaz',\n",
       " 'jamón']"
      ]
     },
     "execution_count": 26,
     "metadata": {},
     "output_type": "execute_result"
    }
   ],
   "source": [
    "L = txt.replace(\"\\n\",\"\").split(\" \")\n",
    "L[:10]"
   ]
  },
  {
   "cell_type": "code",
   "execution_count": 27,
   "id": "43fb94ea",
   "metadata": {},
   "outputs": [
    {
     "data": {
      "text/plain": [
       "198"
      ]
     },
     "execution_count": 27,
     "metadata": {},
     "output_type": "execute_result"
    }
   ],
   "source": [
    "txt.count(\" \")"
   ]
  },
  {
   "cell_type": "code",
   "execution_count": 28,
   "id": "1d718618",
   "metadata": {},
   "outputs": [
    {
     "data": {
      "text/plain": [
       "1132"
      ]
     },
     "execution_count": 28,
     "metadata": {},
     "output_type": "execute_result"
    }
   ],
   "source": [
    "len(txt)"
   ]
  },
  {
   "cell_type": "code",
   "execution_count": 29,
   "id": "5021b8f3",
   "metadata": {},
   "outputs": [
    {
     "data": {
      "text/plain": [
       "199"
      ]
     },
     "execution_count": 29,
     "metadata": {},
     "output_type": "execute_result"
    }
   ],
   "source": [
    "len(L)"
   ]
  },
  {
   "cell_type": "code",
   "execution_count": 35,
   "id": "43f36241",
   "metadata": {},
   "outputs": [
    {
     "data": {
      "text/plain": [
       "[('y', 13), ('de', 12), ('el', 7), ('whisky', 6), ('El', 6)]"
      ]
     },
     "execution_count": 35,
     "metadata": {},
     "output_type": "execute_result"
    }
   ],
   "source": [
    "from collections import Counter\n",
    "c = Counter(L)\n",
    "d = dict(c)\n",
    "L = sorted(d.items(), key=lambda t:t[1], reverse=True)\n",
    "L[:5]"
   ]
  },
  {
   "cell_type": "code",
   "execution_count": null,
   "id": "203be70c",
   "metadata": {},
   "outputs": [],
   "source": []
  }
 ],
 "metadata": {
  "kernelspec": {
   "display_name": "Python 3 (ipykernel)",
   "language": "python",
   "name": "python3"
  },
  "language_info": {
   "codemirror_mode": {
    "name": "ipython",
    "version": 3
   },
   "file_extension": ".py",
   "mimetype": "text/x-python",
   "name": "python",
   "nbconvert_exporter": "python",
   "pygments_lexer": "ipython3",
   "version": "3.8.5"
  }
 },
 "nbformat": 4,
 "nbformat_minor": 5
}

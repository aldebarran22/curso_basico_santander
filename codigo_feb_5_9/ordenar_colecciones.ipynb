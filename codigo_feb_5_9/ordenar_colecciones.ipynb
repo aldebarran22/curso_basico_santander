{
 "cells": [
  {
   "cell_type": "markdown",
   "id": "57dd56d4",
   "metadata": {},
   "source": [
    "## Ordenar colecciones en Python"
   ]
  },
  {
   "cell_type": "markdown",
   "id": "0fe7e33b",
   "metadata": {},
   "source": [
    "Método sort de las listas, función sorted, funciones lambda"
   ]
  },
  {
   "cell_type": "code",
   "execution_count": 1,
   "id": "27c1648e",
   "metadata": {},
   "outputs": [
    {
     "data": {
      "text/plain": [
       "[-7, 0, 1, 1, 3, 4, 4, 5]"
      ]
     },
     "execution_count": 1,
     "metadata": {},
     "output_type": "execute_result"
    }
   ],
   "source": [
    "L = [1,4,-7,0,4,5,1,3]\n",
    "L.sort()\n",
    "L"
   ]
  },
  {
   "cell_type": "code",
   "execution_count": 3,
   "id": "fe26b893",
   "metadata": {},
   "outputs": [
    {
     "data": {
      "text/plain": [
       "[-9, 2, 4, 5, 5, 7, 8, 31]"
      ]
     },
     "execution_count": 3,
     "metadata": {},
     "output_type": "execute_result"
    }
   ],
   "source": [
    "t = (2,5,5,4,31,7,8,-9)\n",
    "L2 = sorted(t)\n",
    "L2"
   ]
  },
  {
   "cell_type": "code",
   "execution_count": 9,
   "id": "4976ddff",
   "metadata": {},
   "outputs": [
    {
     "data": {
      "text/plain": [
       "['Ana', 'Andres', 'Jorge', 'Jose Luis', 'Sara', 'Tomas']"
      ]
     },
     "execution_count": 9,
     "metadata": {},
     "output_type": "execute_result"
    }
   ],
   "source": [
    "c = {\"Sara\",\"Andres\",\"Jorge\",\"Ana\",\"Tomas\",\"Jose Luis\"}\n",
    "L3 = sorted(c)\n",
    "L3"
   ]
  },
  {
   "cell_type": "code",
   "execution_count": 10,
   "id": "301b7b6d",
   "metadata": {},
   "outputs": [
    {
     "data": {
      "text/plain": [
       "[5, 4, 4, 3, 1, 1, 0, -7]"
      ]
     },
     "execution_count": 10,
     "metadata": {},
     "output_type": "execute_result"
    }
   ],
   "source": [
    "# Ordenar DESC\n",
    "L.sort(reverse=True)\n",
    "L"
   ]
  },
  {
   "cell_type": "code",
   "execution_count": 11,
   "id": "763a3ac2",
   "metadata": {},
   "outputs": [
    {
     "data": {
      "text/plain": [
       "['Tomas', 'Sara', 'Jose Luis', 'Jorge', 'Andres', 'Ana']"
      ]
     },
     "execution_count": 11,
     "metadata": {},
     "output_type": "execute_result"
    }
   ],
   "source": [
    "L4 = sorted(c, reverse=True)\n",
    "L4"
   ]
  },
  {
   "cell_type": "code",
   "execution_count": 12,
   "id": "808e9445",
   "metadata": {},
   "outputs": [
    {
     "data": {
      "text/plain": [
       "['Ana', 'Sara', 'Jorge', 'Tomas', 'Andres', 'Jose Luis']"
      ]
     },
     "execution_count": 12,
     "metadata": {},
     "output_type": "execute_result"
    }
   ],
   "source": [
    "L5 = sorted(c, key=len)\n",
    "L5"
   ]
  },
  {
   "cell_type": "code",
   "execution_count": null,
   "id": "11683dec",
   "metadata": {},
   "outputs": [],
   "source": [
    "longitud = [len(i) for i in ]"
   ]
  }
 ],
 "metadata": {
  "kernelspec": {
   "display_name": "Python 3 (ipykernel)",
   "language": "python",
   "name": "python3"
  },
  "language_info": {
   "codemirror_mode": {
    "name": "ipython",
    "version": 3
   },
   "file_extension": ".py",
   "mimetype": "text/x-python",
   "name": "python",
   "nbconvert_exporter": "python",
   "pygments_lexer": "ipython3",
   "version": "3.8.5"
  }
 },
 "nbformat": 4,
 "nbformat_minor": 5
}

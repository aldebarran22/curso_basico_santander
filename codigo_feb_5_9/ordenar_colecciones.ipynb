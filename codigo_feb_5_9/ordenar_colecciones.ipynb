{
 "cells": [
  {
   "cell_type": "markdown",
   "id": "d6aa8e22",
   "metadata": {},
   "source": [
    "## Ordenar colecciones en Python"
   ]
  },
  {
   "cell_type": "markdown",
   "id": "088e77a1",
   "metadata": {},
   "source": [
    "Método sort de las listas, función sorted, funciones lambda"
   ]
  },
  {
   "cell_type": "code",
   "execution_count": 1,
   "id": "418b3bb4",
   "metadata": {},
   "outputs": [
    {
     "data": {
      "text/plain": [
       "[-7, 0, 1, 1, 3, 4, 4, 5]"
      ]
     },
     "execution_count": 1,
     "metadata": {},
     "output_type": "execute_result"
    }
   ],
   "source": [
    "L = [1,4,-7,0,4,5,1,3]\n",
    "L.sort()\n",
    "L"
   ]
  },
  {
   "cell_type": "code",
   "execution_count": 3,
   "id": "c3e1d16e",
   "metadata": {},
   "outputs": [
    {
     "data": {
      "text/plain": [
       "[-9, 2, 4, 5, 5, 7, 8, 31]"
      ]
     },
     "execution_count": 3,
     "metadata": {},
     "output_type": "execute_result"
    }
   ],
   "source": [
    "t = (2,5,5,4,31,7,8,-9)\n",
    "L2 = sorted(t)\n",
    "L2"
   ]
  },
  {
   "cell_type": "code",
   "execution_count": 9,
   "id": "eb5d4ed5",
   "metadata": {},
   "outputs": [
    {
     "data": {
      "text/plain": [
       "['Ana', 'Andres', 'Jorge', 'Jose Luis', 'Sara', 'Tomas']"
      ]
     },
     "execution_count": 9,
     "metadata": {},
     "output_type": "execute_result"
    }
   ],
   "source": [
    "c = {\"Sara\",\"Andres\",\"Jorge\",\"Ana\",\"Tomas\",\"Jose Luis\"}\n",
    "L3 = sorted(c)\n",
    "L3"
   ]
  },
  {
   "cell_type": "code",
   "execution_count": 10,
   "id": "e144adef",
   "metadata": {},
   "outputs": [
    {
     "data": {
      "text/plain": [
       "[5, 4, 4, 3, 1, 1, 0, -7]"
      ]
     },
     "execution_count": 10,
     "metadata": {},
     "output_type": "execute_result"
    }
   ],
   "source": [
    "# Ordenar DESC\n",
    "L.sort(reverse=True)\n",
    "L"
   ]
  },
  {
   "cell_type": "code",
   "execution_count": 11,
   "id": "3901d257",
   "metadata": {},
   "outputs": [
    {
     "data": {
      "text/plain": [
       "['Tomas', 'Sara', 'Jose Luis', 'Jorge', 'Andres', 'Ana']"
      ]
     },
     "execution_count": 11,
     "metadata": {},
     "output_type": "execute_result"
    }
   ],
   "source": [
    "L4 = sorted(c, reverse=True)\n",
    "L4"
   ]
  },
  {
   "cell_type": "code",
   "execution_count": 12,
   "id": "8bafd61c",
   "metadata": {},
   "outputs": [
    {
     "data": {
      "text/plain": [
       "['Ana', 'Sara', 'Jorge', 'Tomas', 'Andres', 'Jose Luis']"
      ]
     },
     "execution_count": 12,
     "metadata": {},
     "output_type": "execute_result"
    }
   ],
   "source": [
    "L5 = sorted(c, key=len)\n",
    "L5"
   ]
  },
  {
   "cell_type": "code",
   "execution_count": 13,
   "id": "13399cf7",
   "metadata": {},
   "outputs": [
    {
     "data": {
      "text/plain": [
       "[6, 4, 5, 9, 3, 5]"
      ]
     },
     "execution_count": 13,
     "metadata": {},
     "output_type": "execute_result"
    }
   ],
   "source": [
    "longitudes = [len(i) for i in c]\n",
    "longitudes"
   ]
  },
  {
   "cell_type": "code",
   "execution_count": 14,
   "id": "6b800231",
   "metadata": {},
   "outputs": [
    {
     "name": "stdout",
     "output_type": "stream",
     "text": [
      "{1, 2, 4, 5, 6, 7}\n",
      "{1: 4, 2: 4, 4: 2, 5: 2, 6: 2, 7: 1}\n"
     ]
    }
   ],
   "source": [
    "L = [1,2,2,2,1,1,1,2,4,5,5,6,7,6,4]\n",
    "k = set(L) # Quitar repetidos.\n",
    "print(k)\n",
    "histo = dict()\n",
    "for i in k:\n",
    "    histo[i] = L.count(i)\n",
    "print(histo)"
   ]
  },
  {
   "cell_type": "code",
   "execution_count": 15,
   "id": "5704d781",
   "metadata": {},
   "outputs": [
    {
     "data": {
      "text/plain": [
       "[(1, 4), (2, 4), (4, 2), (5, 2), (6, 2), (7, 1)]"
      ]
     },
     "execution_count": 15,
     "metadata": {},
     "output_type": "execute_result"
    }
   ],
   "source": [
    "L = list(histo.items())\n",
    "L"
   ]
  },
  {
   "cell_type": "code",
   "execution_count": 16,
   "id": "3e01e784",
   "metadata": {},
   "outputs": [
    {
     "data": {
      "text/plain": [
       "[('Jorge', 43, 1.7),\n",
       " ('Tomas', 23, 1.9),\n",
       " ('Andres', 55, 1.78),\n",
       " ('Olga', 33, 1.67)]"
      ]
     },
     "execution_count": 16,
     "metadata": {},
     "output_type": "execute_result"
    }
   ],
   "source": [
    "L = [('Jorge',43, 1.7), ('Tomas',23,1.9), ('Andres',55,1.78),('Olga',33,1.67)]\n",
    "L"
   ]
  },
  {
   "cell_type": "code",
   "execution_count": 17,
   "id": "9f255508",
   "metadata": {},
   "outputs": [
    {
     "data": {
      "text/plain": [
       "[('Andres', 55, 1.78),\n",
       " ('Jorge', 43, 1.7),\n",
       " ('Olga', 33, 1.67),\n",
       " ('Tomas', 23, 1.9)]"
      ]
     },
     "execution_count": 17,
     "metadata": {},
     "output_type": "execute_result"
    }
   ],
   "source": [
    "L.sort()\n",
    "L"
   ]
  },
  {
   "cell_type": "code",
   "execution_count": 18,
   "id": "26b89a53",
   "metadata": {},
   "outputs": [
    {
     "data": {
      "text/plain": [
       "[('Tomas', 23, 1.9),\n",
       " ('Olga', 33, 1.67),\n",
       " ('Jorge', 43, 1.7),\n",
       " ('Andres', 55, 1.78)]"
      ]
     },
     "execution_count": 18,
     "metadata": {},
     "output_type": "execute_result"
    }
   ],
   "source": [
    "# Ordenar ASC por Edad\n",
    "L.sort(key=lambda t:t[1])\n",
    "L"
   ]
  },
  {
   "cell_type": "code",
   "execution_count": 19,
   "id": "755e57b8",
   "metadata": {},
   "outputs": [
    {
     "data": {
      "text/plain": [
       "[('Tomas', 23, 1.9),\n",
       " ('Andres', 55, 1.78),\n",
       " ('Jorge', 43, 1.7),\n",
       " ('Olga', 33, 1.67)]"
      ]
     },
     "execution_count": 19,
     "metadata": {},
     "output_type": "execute_result"
    }
   ],
   "source": [
    "# Ordenar DESC por altura\n",
    "L.sort(key=lambda t:t[2], reverse=True)\n",
    "L"
   ]
  },
  {
   "cell_type": "markdown",
   "id": "ac0b7cc5",
   "metadata": {},
   "source": [
    "#### Crear un histograma con el siguiente texto. Calcular cuales son las 10 palabras mas utilizadas"
   ]
  },
  {
   "cell_type": "code",
   "execution_count": 20,
   "id": "832eb963",
   "metadata": {},
   "outputs": [],
   "source": [
    "txt=\"\"\"Quiere la boca exhausta vid kiwi piña y fugaz jamón Fabio me exige sin tapujos que añada \n",
    "cerveza al whisky Jovencillo emponzoñado de whisky ¡qué figurota exhibes! La cigüeña tocaba cada vez \n",
    "mejor el saxofón y el búho pedía kiwi y queso El jefe buscó el éxtasis en un imprevisto baño de whisky \n",
    "y gozó como un duque Exhíbanse politiquillos zafios con orejas kilométricas y uñas de gavilán \n",
    "El cadáver de Wamba rey godo de España fue exhumado y trasladado en una caja de zinc que pesó un kilo \n",
    "El pingüino Wenceslao hizo kilómetros bajo exhaustiva lluvia y frío añoraba a su querido cachorro El veloz \n",
    "murciélago hindú comía feliz cardillo y kiwi La cigüeña tocaba el saxofón detrás del palenque de pajaQuiere la boca exhausta vid kiwi piña y fugaz jamón Fabio me exige sin tapujos que añada cerveza al whisky Jovencillo emponzoñado de whisky ¡qué figurota exhibes! La cigüeña tocaba cada vez mejor el saxofón y el búho pedía kiwi y queso El jefe buscó el éxtasis en un imprevisto baño de whisky y gozó como un duque Exhíbanse politiquillos zafios con orejas kilométricas y uñas de gavilán El cadáver de Wamba rey godo de España fue\"\"\""
   ]
  },
  {
   "cell_type": "code",
   "execution_count": 21,
   "id": "3d5b8874",
   "metadata": {},
   "outputs": [
    {
     "data": {
      "text/plain": [
       "['Quiere',\n",
       " 'la',\n",
       " 'boca',\n",
       " 'exhausta',\n",
       " 'vid',\n",
       " 'kiwi',\n",
       " 'piña',\n",
       " 'y',\n",
       " 'fugaz',\n",
       " 'jamón']"
      ]
     },
     "execution_count": 21,
     "metadata": {},
     "output_type": "execute_result"
    }
   ],
   "source": [
    "L = txt.split(\" \")\n",
    "L[:10]"
   ]
  },
  {
   "cell_type": "code",
   "execution_count": 23,
   "id": "310a6a89",
   "metadata": {},
   "outputs": [
    {
     "data": {
      "text/plain": [
       "198"
      ]
     },
     "execution_count": 23,
     "metadata": {},
     "output_type": "execute_result"
    }
   ],
   "source": [
    "txt.count(\" \")"
   ]
  },
  {
   "cell_type": "code",
   "execution_count": 24,
   "id": "7e949770",
   "metadata": {},
   "outputs": [
    {
     "data": {
      "text/plain": [
       "1132"
      ]
     },
     "execution_count": 24,
     "metadata": {},
     "output_type": "execute_result"
    }
   ],
   "source": [
    "len(txt)"
   ]
  },
  {
   "cell_type": "code",
   "execution_count": 22,
   "id": "bc5514c3",
   "metadata": {},
   "outputs": [
    {
     "data": {
      "text/plain": [
       "199"
      ]
     },
     "execution_count": 22,
     "metadata": {},
     "output_type": "execute_result"
    }
   ],
   "source": [
    "len(L)"
   ]
  },
  {
   "cell_type": "code",
   "execution_count": 25,
   "id": "9b388d0b",
   "metadata": {},
   "outputs": [
    {
     "data": {
      "text/plain": [
       "Counter({'Quiere': 1,\n",
       "         'la': 2,\n",
       "         'boca': 2,\n",
       "         'exhausta': 2,\n",
       "         'vid': 2,\n",
       "         'kiwi': 5,\n",
       "         'piña': 2,\n",
       "         'y': 12,\n",
       "         'fugaz': 2,\n",
       "         'jamón': 2,\n",
       "         'Fabio': 2,\n",
       "         'me': 2,\n",
       "         'exige': 2,\n",
       "         'sin': 2,\n",
       "         'tapujos': 2,\n",
       "         'que': 3,\n",
       "         'añada': 2,\n",
       "         '\\ncerveza': 1,\n",
       "         'al': 2,\n",
       "         'whisky': 6,\n",
       "         'Jovencillo': 2,\n",
       "         'emponzoñado': 2,\n",
       "         'de': 12,\n",
       "         '¡qué': 2,\n",
       "         'figurota': 2,\n",
       "         'exhibes!': 2,\n",
       "         'La': 3,\n",
       "         'cigüeña': 3,\n",
       "         'tocaba': 3,\n",
       "         'cada': 2,\n",
       "         'vez': 2,\n",
       "         '\\nmejor': 1,\n",
       "         'el': 7,\n",
       "         'saxofón': 3,\n",
       "         'búho': 2,\n",
       "         'pedía': 2,\n",
       "         'queso': 2,\n",
       "         'El': 4,\n",
       "         'jefe': 2,\n",
       "         'buscó': 2,\n",
       "         'éxtasis': 2,\n",
       "         'en': 3,\n",
       "         'un': 5,\n",
       "         'imprevisto': 2,\n",
       "         'baño': 2,\n",
       "         '\\ny': 1,\n",
       "         'gozó': 2,\n",
       "         'como': 2,\n",
       "         'duque': 2,\n",
       "         'Exhíbanse': 2,\n",
       "         'politiquillos': 2,\n",
       "         'zafios': 2,\n",
       "         'con': 2,\n",
       "         'orejas': 2,\n",
       "         'kilométricas': 2,\n",
       "         'uñas': 2,\n",
       "         'gavilán': 2,\n",
       "         '\\nEl': 2,\n",
       "         'cadáver': 2,\n",
       "         'Wamba': 2,\n",
       "         'rey': 2,\n",
       "         'godo': 2,\n",
       "         'España': 2,\n",
       "         'fue': 2,\n",
       "         'exhumado': 1,\n",
       "         'trasladado': 1,\n",
       "         'una': 1,\n",
       "         'caja': 1,\n",
       "         'zinc': 1,\n",
       "         'pesó': 1,\n",
       "         'kilo': 1,\n",
       "         'pingüino': 1,\n",
       "         'Wenceslao': 1,\n",
       "         'hizo': 1,\n",
       "         'kilómetros': 1,\n",
       "         'bajo': 1,\n",
       "         'exhaustiva': 1,\n",
       "         'lluvia': 1,\n",
       "         'frío': 1,\n",
       "         'añoraba': 1,\n",
       "         'a': 1,\n",
       "         'su': 1,\n",
       "         'querido': 1,\n",
       "         'cachorro': 1,\n",
       "         'veloz': 1,\n",
       "         '\\nmurciélago': 1,\n",
       "         'hindú': 1,\n",
       "         'comía': 1,\n",
       "         'feliz': 1,\n",
       "         'cardillo': 1,\n",
       "         'detrás': 1,\n",
       "         'del': 1,\n",
       "         'palenque': 1,\n",
       "         'pajaQuiere': 1,\n",
       "         'cerveza': 1,\n",
       "         'mejor': 1})"
      ]
     },
     "execution_count": 25,
     "metadata": {},
     "output_type": "execute_result"
    }
   ],
   "source": [
    "from collections import Counter\n",
    "c = Counter(L)\n",
    "d = dict(c)"
   ]
  },
  {
   "cell_type": "code",
   "execution_count": null,
   "id": "8a9c553c",
   "metadata": {},
   "outputs": [],
   "source": []
  }
 ],
 "metadata": {
  "kernelspec": {
   "display_name": "Python 3 (ipykernel)",
   "language": "python",
   "name": "python3"
  },
  "language_info": {
   "codemirror_mode": {
    "name": "ipython",
    "version": 3
   },
   "file_extension": ".py",
   "mimetype": "text/x-python",
   "name": "python",
   "nbconvert_exporter": "python",
   "pygments_lexer": "ipython3",
   "version": "3.8.5"
  }
 },
 "nbformat": 4,
 "nbformat_minor": 5
}

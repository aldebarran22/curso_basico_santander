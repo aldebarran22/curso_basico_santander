{
 "cells": [
  {
   "cell_type": "markdown",
   "id": "6c2eb516",
   "metadata": {},
   "source": [
    "## Programación funcional"
   ]
  },
  {
   "cell_type": "markdown",
   "id": "d98e31a3",
   "metadata": {},
   "source": [
    "Iteradores: map, filter y reduce (vienen heredado de Python 2.7)"
   ]
  },
  {
   "cell_type": "markdown",
   "id": "6358badc",
   "metadata": {},
   "source": [
    "List comprehension: forma compacta de generar: listas, diccionario y conjuntos"
   ]
  },
  {
   "cell_type": "code",
   "execution_count": 17,
   "id": "88363707",
   "metadata": {},
   "outputs": [],
   "source": [
    "from functools import reduce\n",
    "from random import randint"
   ]
  },
  {
   "cell_type": "code",
   "execution_count": 2,
   "id": "808a635f",
   "metadata": {},
   "outputs": [],
   "source": [
    "# Dada una lista aplicar una función a todos los elementos de la lista y resultado lo dejamos en otra lista\n",
    "def calcularTotal(precio):\n",
    "    # Incrementa el precio con el 21% de IVA\n",
    "    return round(precio * 1.21, 2)"
   ]
  },
  {
   "cell_type": "code",
   "execution_count": 3,
   "id": "0a4ee80b",
   "metadata": {},
   "outputs": [
    {
     "data": {
      "text/plain": [
       "121.0"
      ]
     },
     "execution_count": 3,
     "metadata": {},
     "output_type": "execute_result"
    }
   ],
   "source": [
    "calcularTotal(100)"
   ]
  },
  {
   "cell_type": "code",
   "execution_count": 4,
   "id": "ef0535be",
   "metadata": {},
   "outputs": [
    {
     "data": {
      "text/plain": [
       "[121.0, 278.3, 181.5, 200.86, 544.5, 943.8]"
      ]
     },
     "execution_count": 4,
     "metadata": {},
     "output_type": "execute_result"
    }
   ],
   "source": [
    "L = [100, 230, 150, 166, 450, 780]\n",
    "R = []\n",
    "for i in L:\n",
    "    R.append(calcularTotal(i))\n",
    "R"
   ]
  },
  {
   "cell_type": "markdown",
   "id": "0f7e64b9",
   "metadata": {},
   "source": [
    "### map"
   ]
  },
  {
   "cell_type": "code",
   "execution_count": 5,
   "id": "c00ace1b",
   "metadata": {},
   "outputs": [
    {
     "data": {
      "text/plain": [
       "[121.0, 278.3, 181.5, 200.86, 544.5, 943.8]"
      ]
     },
     "execution_count": 5,
     "metadata": {},
     "output_type": "execute_result"
    }
   ],
   "source": [
    "# Solución utilizando map:\n",
    "R2 = list(map(calcularTotal, L))\n",
    "R2"
   ]
  },
  {
   "cell_type": "markdown",
   "id": "d33dae83",
   "metadata": {},
   "source": [
    "### List comprehesion"
   ]
  },
  {
   "cell_type": "code",
   "execution_count": 6,
   "id": "d6a182bf",
   "metadata": {},
   "outputs": [
    {
     "data": {
      "text/plain": [
       "[121.0, 278.3, 181.5, 200.86, 544.5, 943.8]"
      ]
     },
     "execution_count": 6,
     "metadata": {},
     "output_type": "execute_result"
    }
   ],
   "source": [
    "# Solución con list compre.\n",
    "R3 = [calcularTotal(i) for i in L]\n",
    "R3"
   ]
  },
  {
   "cell_type": "code",
   "execution_count": 7,
   "id": "f90a11a8",
   "metadata": {},
   "outputs": [
    {
     "data": {
      "text/plain": [
       "[121.0, 278.3, 181.5, 200.86, 544.5, 943.8]"
      ]
     },
     "execution_count": 7,
     "metadata": {},
     "output_type": "execute_result"
    }
   ],
   "source": [
    "R4 = [round(i * 1.21, 2) for i in L]\n",
    "R4"
   ]
  },
  {
   "cell_type": "code",
   "execution_count": 8,
   "id": "76d36256",
   "metadata": {},
   "outputs": [
    {
     "data": {
      "text/plain": [
       "['Ana', 'Jorge', 'Eva', 'Miguel', 'Elena']"
      ]
     },
     "execution_count": 8,
     "metadata": {},
     "output_type": "execute_result"
    }
   ],
   "source": [
    "# A partir de una lista de nombres generar otra lista con los nombres escritos correctamente (primera letra en mayúscula)\n",
    "nombres = ['ANA', 'jorge', 'eVA','miguel','eleNA']\n",
    "R = [i.capitalize() for i in nombres]\n",
    "R"
   ]
  },
  {
   "cell_type": "markdown",
   "id": "51e62e0f",
   "metadata": {},
   "source": [
    "### filter"
   ]
  },
  {
   "cell_type": "code",
   "execution_count": 9,
   "id": "92f350f9",
   "metadata": {},
   "outputs": [],
   "source": [
    "# Filtrar precios que están entre 150 y 250 eur.\n",
    "def filtro(num):\n",
    "    return 150 <= num <= 250"
   ]
  },
  {
   "cell_type": "code",
   "execution_count": 10,
   "id": "f2a1d2dd",
   "metadata": {},
   "outputs": [
    {
     "data": {
      "text/plain": [
       "[100, 230, 150, 166, 450, 780]"
      ]
     },
     "execution_count": 10,
     "metadata": {},
     "output_type": "execute_result"
    }
   ],
   "source": [
    "L"
   ]
  },
  {
   "cell_type": "code",
   "execution_count": 11,
   "id": "3e5cfdd7",
   "metadata": {},
   "outputs": [
    {
     "data": {
      "text/plain": [
       "[230, 150, 166]"
      ]
     },
     "execution_count": 11,
     "metadata": {},
     "output_type": "execute_result"
    }
   ],
   "source": [
    "R = list(filter(filtro, L))\n",
    "R"
   ]
  },
  {
   "cell_type": "markdown",
   "id": "d076d7be",
   "metadata": {},
   "source": [
    "### List comprehession"
   ]
  },
  {
   "cell_type": "code",
   "execution_count": 12,
   "id": "0be1edc3",
   "metadata": {},
   "outputs": [
    {
     "data": {
      "text/plain": [
       "[230, 150, 166]"
      ]
     },
     "execution_count": 12,
     "metadata": {},
     "output_type": "execute_result"
    }
   ],
   "source": [
    "R2 = [i for i in L if filtro(i)]\n",
    "R2"
   ]
  },
  {
   "cell_type": "code",
   "execution_count": 13,
   "id": "71a076c9",
   "metadata": {},
   "outputs": [
    {
     "data": {
      "text/plain": [
       "[230, 150, 166]"
      ]
     },
     "execution_count": 13,
     "metadata": {},
     "output_type": "execute_result"
    }
   ],
   "source": [
    "R3 = [i for i in L if 150 <= i <= 250]\n",
    "R3"
   ]
  },
  {
   "cell_type": "markdown",
   "id": "b380fba4",
   "metadata": {},
   "source": [
    "### reduce"
   ]
  },
  {
   "cell_type": "code",
   "execution_count": 14,
   "id": "e4dd2b59",
   "metadata": {},
   "outputs": [],
   "source": [
    "def maximo(n1, n2):\n",
    "    print(n1, n2)\n",
    "    return n1 if n1 > n2 else n2"
   ]
  },
  {
   "cell_type": "code",
   "execution_count": 15,
   "id": "9d294dc6",
   "metadata": {},
   "outputs": [
    {
     "data": {
      "text/plain": [
       "[100, 230, 150, 166, 450, 780]"
      ]
     },
     "execution_count": 15,
     "metadata": {},
     "output_type": "execute_result"
    }
   ],
   "source": [
    "L"
   ]
  },
  {
   "cell_type": "code",
   "execution_count": 16,
   "id": "e620eb42",
   "metadata": {},
   "outputs": [
    {
     "name": "stdout",
     "output_type": "stream",
     "text": [
      "100 230\n",
      "230 150\n",
      "230 166\n",
      "230 450\n",
      "450 780\n"
     ]
    },
    {
     "data": {
      "text/plain": [
       "780"
      ]
     },
     "execution_count": 16,
     "metadata": {},
     "output_type": "execute_result"
    }
   ],
   "source": [
    "resul = reduce(maximo, L)\n",
    "resul"
   ]
  },
  {
   "cell_type": "markdown",
   "id": "cd409eaf",
   "metadata": {},
   "source": [
    "### List Compre. aplicado a otras colecciones de Python"
   ]
  },
  {
   "cell_type": "code",
   "execution_count": 18,
   "id": "cfb3b9ee",
   "metadata": {},
   "outputs": [
    {
     "data": {
      "text/plain": [
       "[20, 22, 4, 14, 27, 19, 13, 5, 16, 5]"
      ]
     },
     "execution_count": 18,
     "metadata": {},
     "output_type": "execute_result"
    }
   ],
   "source": [
    "L = [randint(1,30) for _ in range(10)]\n",
    "L"
   ]
  },
  {
   "cell_type": "code",
   "execution_count": 19,
   "id": "f62bbc9e",
   "metadata": {},
   "outputs": [
    {
     "name": "stdout",
     "output_type": "stream",
     "text": [
      "a [29, 28, 1, 19, 16, 25, 14, 5, 30, 16]\n",
      "e [23, 1, 19, 25, 5, 13, 13, 15, 28, 1]\n",
      "i [2, 25, 16, 7, 2, 2, 1, 30, 16, 27]\n",
      "o [12, 6, 16, 2, 20, 26, 17, 18, 3, 28]\n",
      "u [24, 14, 2, 14, 30, 19, 4, 28, 21, 28]\n"
     ]
    }
   ],
   "source": [
    "d = {letra:[randint(1,30) for _ in range(10)]  for letra in \"aeiou\"}\n",
    "for k, L in d.items():\n",
    "    print(k,L)"
   ]
  },
  {
   "cell_type": "markdown",
   "id": "8d7e1143",
   "metadata": {},
   "source": [
    "Generar las 10 tablas de multiplicar en tuplas: (1,1,1),(1,2,2) … (10,1,10),…(10,10,100)"
   ]
  },
  {
   "cell_type": "code",
   "execution_count": 21,
   "id": "7069a10d",
   "metadata": {},
   "outputs": [
    {
     "data": {
      "text/plain": [
       "[(10, 1, 10),\n",
       " (10, 2, 20),\n",
       " (10, 3, 30),\n",
       " (10, 4, 40),\n",
       " (10, 5, 50),\n",
       " (10, 6, 60),\n",
       " (10, 7, 70),\n",
       " (10, 8, 80),\n",
       " (10, 9, 90),\n",
       " (10, 10, 100)]"
      ]
     },
     "execution_count": 21,
     "metadata": {},
     "output_type": "execute_result"
    }
   ],
   "source": [
    "L = [(i, j, i*j) for i in range(1,11) \\\n",
    "     for j in range(1,11)]\n",
    "L[90:]"
   ]
  },
  {
   "cell_type": "markdown",
   "id": "d1b741c4",
   "metadata": {},
   "source": [
    "### Generadores"
   ]
  },
  {
   "cell_type": "code",
   "execution_count": 24,
   "id": "d31b5345",
   "metadata": {},
   "outputs": [
    {
     "data": {
      "text/plain": [
       "<generator object <genexpr> at 0x000001AAB9251A50>"
      ]
     },
     "execution_count": 24,
     "metadata": {},
     "output_type": "execute_result"
    }
   ],
   "source": [
    "t = (2**i for i in range(1,11))\n",
    "t"
   ]
  },
  {
   "cell_type": "markdown",
   "id": "672581f6",
   "metadata": {},
   "source": [
    "Generar una tupla con list compre"
   ]
  },
  {
   "cell_type": "code",
   "execution_count": 25,
   "id": "a51d1ee6",
   "metadata": {},
   "outputs": [
    {
     "data": {
      "text/plain": [
       "(2, 4, 8, 16, 32, 64, 128, 256, 512, 1024)"
      ]
     },
     "execution_count": 25,
     "metadata": {},
     "output_type": "execute_result"
    }
   ],
   "source": [
    "t2 = tuple([2**i for i in range(1,11)])\n",
    "t2"
   ]
  },
  {
   "cell_type": "code",
   "execution_count": null,
   "id": "018fd3f0",
   "metadata": {},
   "outputs": [],
   "source": []
  }
 ],
 "metadata": {
  "kernelspec": {
   "display_name": "Python 3 (ipykernel)",
   "language": "python",
   "name": "python3"
  },
  "language_info": {
   "codemirror_mode": {
    "name": "ipython",
    "version": 3
   },
   "file_extension": ".py",
   "mimetype": "text/x-python",
   "name": "python",
   "nbconvert_exporter": "python",
   "pygments_lexer": "ipython3",
   "version": "3.8.5"
  }
 },
 "nbformat": 4,
 "nbformat_minor": 5
}

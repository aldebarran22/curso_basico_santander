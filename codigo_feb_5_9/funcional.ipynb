{
 "cells": [
  {
   "cell_type": "markdown",
   "id": "86fde8eb",
   "metadata": {},
   "source": [
    "## Programación funcional"
   ]
  },
  {
   "cell_type": "markdown",
   "id": "0c9906b5",
   "metadata": {},
   "source": [
    "Iteradores: map, filter y reduce (vienen heredado de Python 2.7)"
   ]
  },
  {
   "cell_type": "markdown",
   "id": "3953df7f",
   "metadata": {},
   "source": [
    "List comprehension: forma compacta de generar: listas, diccionario y conjuntos"
   ]
  },
  {
   "cell_type": "code",
   "execution_count": 6,
   "id": "11586e7e",
   "metadata": {},
   "outputs": [],
   "source": [
    "# Dada una lista aplicar una función a todos los elementos de la lista y resultado lo dejamos en otra lista\n",
    "def calcularTotal(precio):\n",
    "    # Incrementa el precio con el 21% de IVA\n",
    "    return round(precio * 1.21, 2)"
   ]
  },
  {
   "cell_type": "code",
   "execution_count": 3,
   "id": "b0a6113c",
   "metadata": {},
   "outputs": [
    {
     "data": {
      "text/plain": [
       "121.0"
      ]
     },
     "execution_count": 3,
     "metadata": {},
     "output_type": "execute_result"
    }
   ],
   "source": [
    "calcularTotal(100)"
   ]
  },
  {
   "cell_type": "code",
   "execution_count": 7,
   "id": "b5d9ead1",
   "metadata": {},
   "outputs": [
    {
     "data": {
      "text/plain": [
       "[121.0, 278.3, 181.5, 200.86, 544.5, 943.8]"
      ]
     },
     "execution_count": 7,
     "metadata": {},
     "output_type": "execute_result"
    }
   ],
   "source": [
    "L = [100, 230, 150, 166, 450, 780]\n",
    "R = []\n",
    "for i in L:\n",
    "    R.append(calcularTotal(i))\n",
    "R"
   ]
  },
  {
   "cell_type": "markdown",
   "id": "767c8eed",
   "metadata": {},
   "source": [
    "### map"
   ]
  },
  {
   "cell_type": "code",
   "execution_count": 8,
   "id": "0df65dd7",
   "metadata": {},
   "outputs": [
    {
     "data": {
      "text/plain": [
       "[121.0, 278.3, 181.5, 200.86, 544.5, 943.8]"
      ]
     },
     "execution_count": 8,
     "metadata": {},
     "output_type": "execute_result"
    }
   ],
   "source": [
    "# Solución utilizando map:\n",
    "R2 = list(map(calcularTotal, L))\n",
    "R2"
   ]
  },
  {
   "cell_type": "markdown",
   "id": "8927671e",
   "metadata": {},
   "source": [
    "### List comprehesion"
   ]
  },
  {
   "cell_type": "code",
   "execution_count": 9,
   "id": "1770e162",
   "metadata": {},
   "outputs": [
    {
     "data": {
      "text/plain": [
       "[121.0, 278.3, 181.5, 200.86, 544.5, 943.8]"
      ]
     },
     "execution_count": 9,
     "metadata": {},
     "output_type": "execute_result"
    }
   ],
   "source": [
    "# Solución con list compre.\n",
    "R3 = [calcularTotal(i) for i in L]\n",
    "R3"
   ]
  },
  {
   "cell_type": "code",
   "execution_count": 10,
   "id": "edfa0c95",
   "metadata": {},
   "outputs": [
    {
     "data": {
      "text/plain": [
       "[121.0, 278.3, 181.5, 200.86, 544.5, 943.8]"
      ]
     },
     "execution_count": 10,
     "metadata": {},
     "output_type": "execute_result"
    }
   ],
   "source": [
    "R4 = [round(i * 1.21, 2) for i in L]\n",
    "R4"
   ]
  },
  {
   "cell_type": "code",
   "execution_count": 12,
   "id": "95cfc00c",
   "metadata": {},
   "outputs": [
    {
     "data": {
      "text/plain": [
       "['Ana', 'Jorge', 'Eva', 'Miguel', 'Elena']"
      ]
     },
     "execution_count": 12,
     "metadata": {},
     "output_type": "execute_result"
    }
   ],
   "source": [
    "# A partir de una lista de nombres generar otra lista con los nombres escritos correctamente (primera letra en mayúscula)\n",
    "nombres = ['ANA', 'jorge', 'eVA','miguel','eleNA']\n",
    "R = [i.capitalize() for i in nombres]\n",
    "R"
   ]
  },
  {
   "cell_type": "markdown",
   "id": "66d4c7b3",
   "metadata": {},
   "source": [
    "### filter"
   ]
  },
  {
   "cell_type": "code",
   "execution_count": 13,
   "id": "d9f96e2e",
   "metadata": {},
   "outputs": [],
   "source": [
    "# Filtrar precios que están entre 150 y 250 eur.\n",
    "def filtro(num):\n",
    "    return 150 <= num <= 250"
   ]
  },
  {
   "cell_type": "code",
   "execution_count": 15,
   "id": "6226ef55",
   "metadata": {},
   "outputs": [
    {
     "data": {
      "text/plain": [
       "[100, 230, 150, 166, 450, 780]"
      ]
     },
     "execution_count": 15,
     "metadata": {},
     "output_type": "execute_result"
    }
   ],
   "source": [
    "L"
   ]
  },
  {
   "cell_type": "code",
   "execution_count": 14,
   "id": "cdef3347",
   "metadata": {},
   "outputs": [
    {
     "data": {
      "text/plain": [
       "[230, 150, 166]"
      ]
     },
     "execution_count": 14,
     "metadata": {},
     "output_type": "execute_result"
    }
   ],
   "source": [
    "R = list(filter(filtro, L))\n",
    "R"
   ]
  },
  {
   "cell_type": "markdown",
   "id": "66d00dca",
   "metadata": {},
   "source": [
    "### List comprehession"
   ]
  },
  {
   "cell_type": "code",
   "execution_count": null,
   "id": "58ff1881",
   "metadata": {},
   "outputs": [],
   "source": []
  }
 ],
 "metadata": {
  "kernelspec": {
   "display_name": "Python 3 (ipykernel)",
   "language": "python",
   "name": "python3"
  },
  "language_info": {
   "codemirror_mode": {
    "name": "ipython",
    "version": 3
   },
   "file_extension": ".py",
   "mimetype": "text/x-python",
   "name": "python",
   "nbconvert_exporter": "python",
   "pygments_lexer": "ipython3",
   "version": "3.9.13"
  }
 },
 "nbformat": 4,
 "nbformat_minor": 5
}

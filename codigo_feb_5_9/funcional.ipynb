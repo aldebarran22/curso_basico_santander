{
 "cells": [
  {
   "cell_type": "markdown",
   "id": "232f63e2",
   "metadata": {},
   "source": [
    "## Programación funcional"
   ]
  },
  {
   "cell_type": "markdown",
   "id": "a9fea3bf",
   "metadata": {},
   "source": [
    "Iteradores: map, filter y reduce (vienen heredado de Python 2.7)"
   ]
  },
  {
   "cell_type": "markdown",
   "id": "57bbcf17",
   "metadata": {},
   "source": [
    "List comprehension: forma compacta de generar: listas, diccionario y conjuntos"
   ]
  },
  {
   "cell_type": "code",
   "execution_count": 17,
   "id": "4c5113fc",
   "metadata": {},
   "outputs": [],
   "source": [
    "from functools import reduce\n",
    "from random import randint"
   ]
  },
  {
   "cell_type": "code",
   "execution_count": 2,
   "id": "a2072239",
   "metadata": {},
   "outputs": [],
   "source": [
    "# Dada una lista aplicar una función a todos los elementos de la lista y resultado lo dejamos en otra lista\n",
    "def calcularTotal(precio):\n",
    "    # Incrementa el precio con el 21% de IVA\n",
    "    return round(precio * 1.21, 2)"
   ]
  },
  {
   "cell_type": "code",
   "execution_count": 3,
   "id": "0acc1b13",
   "metadata": {},
   "outputs": [
    {
     "data": {
      "text/plain": [
       "121.0"
      ]
     },
     "execution_count": 3,
     "metadata": {},
     "output_type": "execute_result"
    }
   ],
   "source": [
    "calcularTotal(100)"
   ]
  },
  {
   "cell_type": "code",
   "execution_count": 4,
   "id": "317346b6",
   "metadata": {},
   "outputs": [
    {
     "data": {
      "text/plain": [
       "[121.0, 278.3, 181.5, 200.86, 544.5, 943.8]"
      ]
     },
     "execution_count": 4,
     "metadata": {},
     "output_type": "execute_result"
    }
   ],
   "source": [
    "L = [100, 230, 150, 166, 450, 780]\n",
    "R = []\n",
    "for i in L:\n",
    "    R.append(calcularTotal(i))\n",
    "R"
   ]
  },
  {
   "cell_type": "markdown",
   "id": "781bc413",
   "metadata": {},
   "source": [
    "### map"
   ]
  },
  {
   "cell_type": "code",
   "execution_count": 5,
   "id": "c5f321c2",
   "metadata": {},
   "outputs": [
    {
     "data": {
      "text/plain": [
       "[121.0, 278.3, 181.5, 200.86, 544.5, 943.8]"
      ]
     },
     "execution_count": 5,
     "metadata": {},
     "output_type": "execute_result"
    }
   ],
   "source": [
    "# Solución utilizando map:\n",
    "R2 = list(map(calcularTotal, L))\n",
    "R2"
   ]
  },
  {
   "cell_type": "markdown",
   "id": "457bcbf1",
   "metadata": {},
   "source": [
    "### List comprehesion"
   ]
  },
  {
   "cell_type": "code",
   "execution_count": 6,
   "id": "8a03d582",
   "metadata": {},
   "outputs": [
    {
     "data": {
      "text/plain": [
       "[121.0, 278.3, 181.5, 200.86, 544.5, 943.8]"
      ]
     },
     "execution_count": 6,
     "metadata": {},
     "output_type": "execute_result"
    }
   ],
   "source": [
    "# Solución con list compre.\n",
    "R3 = [calcularTotal(i) for i in L]\n",
    "R3"
   ]
  },
  {
   "cell_type": "code",
   "execution_count": 7,
   "id": "8adc780e",
   "metadata": {},
   "outputs": [
    {
     "data": {
      "text/plain": [
       "[121.0, 278.3, 181.5, 200.86, 544.5, 943.8]"
      ]
     },
     "execution_count": 7,
     "metadata": {},
     "output_type": "execute_result"
    }
   ],
   "source": [
    "R4 = [round(i * 1.21, 2) for i in L]\n",
    "R4"
   ]
  },
  {
   "cell_type": "code",
   "execution_count": 8,
   "id": "221c94f1",
   "metadata": {},
   "outputs": [
    {
     "data": {
      "text/plain": [
       "['Ana', 'Jorge', 'Eva', 'Miguel', 'Elena']"
      ]
     },
     "execution_count": 8,
     "metadata": {},
     "output_type": "execute_result"
    }
   ],
   "source": [
    "# A partir de una lista de nombres generar otra lista con los nombres escritos correctamente (primera letra en mayúscula)\n",
    "nombres = ['ANA', 'jorge', 'eVA','miguel','eleNA']\n",
    "R = [i.capitalize() for i in nombres]\n",
    "R"
   ]
  },
  {
   "cell_type": "markdown",
   "id": "625bdf44",
   "metadata": {},
   "source": [
    "### filter"
   ]
  },
  {
   "cell_type": "code",
   "execution_count": 9,
   "id": "0408ae2b",
   "metadata": {},
   "outputs": [],
   "source": [
    "# Filtrar precios que están entre 150 y 250 eur.\n",
    "def filtro(num):\n",
    "    return 150 <= num <= 250"
   ]
  },
  {
   "cell_type": "code",
   "execution_count": 10,
   "id": "681b21fd",
   "metadata": {},
   "outputs": [
    {
     "data": {
      "text/plain": [
       "[100, 230, 150, 166, 450, 780]"
      ]
     },
     "execution_count": 10,
     "metadata": {},
     "output_type": "execute_result"
    }
   ],
   "source": [
    "L"
   ]
  },
  {
   "cell_type": "code",
   "execution_count": 11,
   "id": "f770bea9",
   "metadata": {},
   "outputs": [
    {
     "data": {
      "text/plain": [
       "[230, 150, 166]"
      ]
     },
     "execution_count": 11,
     "metadata": {},
     "output_type": "execute_result"
    }
   ],
   "source": [
    "R = list(filter(filtro, L))\n",
    "R"
   ]
  },
  {
   "cell_type": "markdown",
   "id": "fa05d752",
   "metadata": {},
   "source": [
    "### List comprehession"
   ]
  },
  {
   "cell_type": "code",
   "execution_count": 12,
   "id": "2517ba5f",
   "metadata": {},
   "outputs": [
    {
     "data": {
      "text/plain": [
       "[230, 150, 166]"
      ]
     },
     "execution_count": 12,
     "metadata": {},
     "output_type": "execute_result"
    }
   ],
   "source": [
    "R2 = [i for i in L if filtro(i)]\n",
    "R2"
   ]
  },
  {
   "cell_type": "code",
   "execution_count": 13,
   "id": "e796b021",
   "metadata": {},
   "outputs": [
    {
     "data": {
      "text/plain": [
       "[230, 150, 166]"
      ]
     },
     "execution_count": 13,
     "metadata": {},
     "output_type": "execute_result"
    }
   ],
   "source": [
    "R3 = [i for i in L if 150 <= i <= 250]\n",
    "R3"
   ]
  },
  {
   "cell_type": "markdown",
   "id": "a2df4cce",
   "metadata": {},
   "source": [
    "### reduce"
   ]
  },
  {
   "cell_type": "code",
   "execution_count": 14,
   "id": "5b33db2f",
   "metadata": {},
   "outputs": [],
   "source": [
    "def maximo(n1, n2):\n",
    "    print(n1, n2)\n",
    "    return n1 if n1 > n2 else n2"
   ]
  },
  {
   "cell_type": "code",
   "execution_count": 15,
   "id": "874c9d34",
   "metadata": {},
   "outputs": [
    {
     "data": {
      "text/plain": [
       "[100, 230, 150, 166, 450, 780]"
      ]
     },
     "execution_count": 15,
     "metadata": {},
     "output_type": "execute_result"
    }
   ],
   "source": [
    "L"
   ]
  },
  {
   "cell_type": "code",
   "execution_count": 16,
   "id": "978efc5a",
   "metadata": {},
   "outputs": [
    {
     "name": "stdout",
     "output_type": "stream",
     "text": [
      "100 230\n",
      "230 150\n",
      "230 166\n",
      "230 450\n",
      "450 780\n"
     ]
    },
    {
     "data": {
      "text/plain": [
       "780"
      ]
     },
     "execution_count": 16,
     "metadata": {},
     "output_type": "execute_result"
    }
   ],
   "source": [
    "resul = reduce(maximo, L)\n",
    "resul"
   ]
  },
  {
   "cell_type": "markdown",
   "id": "1e3cb224",
   "metadata": {},
   "source": [
    "### List Compre. aplicado a otras colecciones de Python"
   ]
  },
  {
   "cell_type": "code",
   "execution_count": 18,
   "id": "0c9b18db",
   "metadata": {},
   "outputs": [
    {
     "data": {
      "text/plain": [
       "[20, 22, 4, 14, 27, 19, 13, 5, 16, 5]"
      ]
     },
     "execution_count": 18,
     "metadata": {},
     "output_type": "execute_result"
    }
   ],
   "source": [
    "L = [randint(1,30) for _ in range(10)]\n",
    "L"
   ]
  },
  {
   "cell_type": "code",
   "execution_count": 19,
   "id": "fda073f7",
   "metadata": {},
   "outputs": [
    {
     "name": "stdout",
     "output_type": "stream",
     "text": [
      "a [29, 28, 1, 19, 16, 25, 14, 5, 30, 16]\n",
      "e [23, 1, 19, 25, 5, 13, 13, 15, 28, 1]\n",
      "i [2, 25, 16, 7, 2, 2, 1, 30, 16, 27]\n",
      "o [12, 6, 16, 2, 20, 26, 17, 18, 3, 28]\n",
      "u [24, 14, 2, 14, 30, 19, 4, 28, 21, 28]\n"
     ]
    }
   ],
   "source": [
    "d = {letra:[randint(1,30) for _ in range(10)]  for letra in \"aeiou\"}\n",
    "for k, L in d.items():\n",
    "    print(k,L)"
   ]
  },
  {
   "cell_type": "markdown",
   "id": "93642bfd",
   "metadata": {},
   "source": [
    "Generar las 10 tablas de multiplicar en tuplas: (1,1,1),(1,2,2) … (10,1,10),…(10,10,100)"
   ]
  },
  {
   "cell_type": "code",
   "execution_count": 21,
   "id": "22ed7bd5",
   "metadata": {},
   "outputs": [
    {
     "data": {
      "text/plain": [
       "[(10, 1, 10),\n",
       " (10, 2, 20),\n",
       " (10, 3, 30),\n",
       " (10, 4, 40),\n",
       " (10, 5, 50),\n",
       " (10, 6, 60),\n",
       " (10, 7, 70),\n",
       " (10, 8, 80),\n",
       " (10, 9, 90),\n",
       " (10, 10, 100)]"
      ]
     },
     "execution_count": 21,
     "metadata": {},
     "output_type": "execute_result"
    }
   ],
   "source": [
    "L = [(i, j, i*j) for i in range(1,11) \\\n",
    "     for j in range(1,11)]\n",
    "L[90:]"
   ]
  },
  {
   "cell_type": "code",
   "execution_count": null,
   "id": "f9ebe24c",
   "metadata": {},
   "outputs": [],
   "source": []
  }
 ],
 "metadata": {
  "kernelspec": {
   "display_name": "Python 3 (ipykernel)",
   "language": "python",
   "name": "python3"
  },
  "language_info": {
   "codemirror_mode": {
    "name": "ipython",
    "version": 3
   },
   "file_extension": ".py",
   "mimetype": "text/x-python",
   "name": "python",
   "nbconvert_exporter": "python",
   "pygments_lexer": "ipython3",
   "version": "3.8.5"
  }
 },
 "nbformat": 4,
 "nbformat_minor": 5
}

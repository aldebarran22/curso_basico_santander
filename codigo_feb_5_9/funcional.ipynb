{
 "cells": [
  {
   "cell_type": "markdown",
   "id": "c3900343",
   "metadata": {},
   "source": [
    "## Programación funcional"
   ]
  },
  {
   "cell_type": "markdown",
   "id": "25fb655b",
   "metadata": {},
   "source": [
    "Iteradores: map, filter y reduce (vienen heredado de Python 2.7)"
   ]
  },
  {
   "cell_type": "markdown",
   "id": "38639736",
   "metadata": {},
   "source": [
    "List comprehension: forma compacta de generar: listas, diccionario y conjuntos"
   ]
  },
  {
   "cell_type": "code",
   "execution_count": 6,
   "id": "3cb1a326",
   "metadata": {},
   "outputs": [],
   "source": [
    "# Dada una lista aplicar una función a todos los elementos de la lista y resultado lo dejamos en otra lista\n",
    "def calcularTotal(precio):\n",
    "    # Incrementa el precio con el 21% de IVA\n",
    "    return round(precio * 1.21, 2)"
   ]
  },
  {
   "cell_type": "code",
   "execution_count": 3,
   "id": "fa0dd3d2",
   "metadata": {},
   "outputs": [
    {
     "data": {
      "text/plain": [
       "121.0"
      ]
     },
     "execution_count": 3,
     "metadata": {},
     "output_type": "execute_result"
    }
   ],
   "source": [
    "calcularTotal(100)"
   ]
  },
  {
   "cell_type": "code",
   "execution_count": 7,
   "id": "65cf24d1",
   "metadata": {},
   "outputs": [
    {
     "data": {
      "text/plain": [
       "[121.0, 278.3, 181.5, 200.86, 544.5, 943.8]"
      ]
     },
     "execution_count": 7,
     "metadata": {},
     "output_type": "execute_result"
    }
   ],
   "source": [
    "L = [100, 230, 150, 166, 450, 780]\n",
    "R = []\n",
    "for i in L:\n",
    "    R.append(calcularTotal(i))\n",
    "R"
   ]
  },
  {
   "cell_type": "code",
   "execution_count": 8,
   "id": "771c6f4d",
   "metadata": {},
   "outputs": [
    {
     "data": {
      "text/plain": [
       "[121.0, 278.3, 181.5, 200.86, 544.5, 943.8]"
      ]
     },
     "execution_count": 8,
     "metadata": {},
     "output_type": "execute_result"
    }
   ],
   "source": [
    "# Solución utilizando map:\n",
    "R2 = list(map(calcularTotal, L))\n",
    "R2"
   ]
  },
  {
   "cell_type": "code",
   "execution_count": 9,
   "id": "9e8061cd",
   "metadata": {},
   "outputs": [
    {
     "data": {
      "text/plain": [
       "[121.0, 278.3, 181.5, 200.86, 544.5, 943.8]"
      ]
     },
     "execution_count": 9,
     "metadata": {},
     "output_type": "execute_result"
    }
   ],
   "source": [
    "# Solución con list compre.\n",
    "R3 = [calcularTotal(i) for i in L]\n",
    "R3"
   ]
  },
  {
   "cell_type": "code",
   "execution_count": 10,
   "id": "2184cdb4",
   "metadata": {},
   "outputs": [
    {
     "data": {
      "text/plain": [
       "[121.0, 278.3, 181.5, 200.86, 544.5, 943.8]"
      ]
     },
     "execution_count": 10,
     "metadata": {},
     "output_type": "execute_result"
    }
   ],
   "source": [
    "R4 = [round(i * 1.21, 2) for i in L]\n",
    "R4"
   ]
  },
  {
   "cell_type": "code",
   "execution_count": null,
   "id": "f220f738",
   "metadata": {},
   "outputs": [],
   "source": []
  }
 ],
 "metadata": {
  "kernelspec": {
   "display_name": "Python 3 (ipykernel)",
   "language": "python",
   "name": "python3"
  },
  "language_info": {
   "codemirror_mode": {
    "name": "ipython",
    "version": 3
   },
   "file_extension": ".py",
   "mimetype": "text/x-python",
   "name": "python",
   "nbconvert_exporter": "python",
   "pygments_lexer": "ipython3",
   "version": "3.9.13"
  }
 },
 "nbformat": 4,
 "nbformat_minor": 5
}

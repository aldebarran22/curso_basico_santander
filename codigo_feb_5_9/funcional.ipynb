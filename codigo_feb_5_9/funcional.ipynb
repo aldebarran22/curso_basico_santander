{
 "cells": [
  {
   "cell_type": "markdown",
   "id": "f5f9e9fb",
   "metadata": {},
   "source": [
    "## Programación funcional"
   ]
  },
  {
   "cell_type": "markdown",
   "id": "819644b3",
   "metadata": {},
   "source": [
    "Iteradores: map, filter y reduce (vienen heredado de Python 2.7)"
   ]
  },
  {
   "cell_type": "markdown",
   "id": "2c0eaa35",
   "metadata": {},
   "source": [
    "List comprehension: forma compacta de generar: listas, diccionario y conjuntos"
   ]
  },
  {
   "cell_type": "code",
   "execution_count": null,
   "id": "c1e560ef",
   "metadata": {},
   "outputs": [],
   "source": [
    "# Dada una lista aplicar una función a todos los elementos de la lista y resultado lo dejamos en otra lista\n",
    "def calcularTotal(precio):\n",
    "    # Incrementa el precio con el 21% de IVA\n",
    "    return precio * 1.21"
   ]
  },
  {
   "cell_type": "code",
   "execution_count": null,
   "id": "f9a07f8e",
   "metadata": {},
   "outputs": [],
   "source": [
    "calcularTotal(100)"
   ]
  }
 ],
 "metadata": {
  "kernelspec": {
   "display_name": "Python 3 (ipykernel)",
   "language": "python",
   "name": "python3"
  },
  "language_info": {
   "codemirror_mode": {
    "name": "ipython",
    "version": 3
   },
   "file_extension": ".py",
   "mimetype": "text/x-python",
   "name": "python",
   "nbconvert_exporter": "python",
   "pygments_lexer": "ipython3",
   "version": "3.9.13"
  }
 },
 "nbformat": 4,
 "nbformat_minor": 5
}

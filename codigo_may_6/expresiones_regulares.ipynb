{
 "cells": [
  {
   "cell_type": "markdown",
   "id": "6f6d2d4c",
   "metadata": {},
   "source": [
    "### Expresiones Regulares"
   ]
  },
  {
   "cell_type": "code",
   "execution_count": 1,
   "id": "db223559",
   "metadata": {},
   "outputs": [],
   "source": [
    "import re"
   ]
  },
  {
   "cell_type": "code",
   "execution_count": 2,
   "id": "60d1c8e5",
   "metadata": {},
   "outputs": [],
   "source": [
    "def validar(patron, L):\n",
    "    print('Patrón:', patron)\n",
    "    \n",
    "    for cadena in L:\n",
    "        print(cadena, True if re.match(patron, cadena) else False)\n",
    "    print()"
   ]
  },
  {
   "cell_type": "code",
   "execution_count": 3,
   "id": "2c1b80e6",
   "metadata": {},
   "outputs": [
    {
     "name": "stdout",
     "output_type": "stream",
     "text": [
      "Patrón: [pjc]ython\n",
      "python True\n",
      "jython True\n",
      "cython True\n",
      "ython False\n",
      "python311 True\n",
      "\n"
     ]
    }
   ],
   "source": [
    "patron = \"[pjc]ython\"\n",
    "L = [\"python\", \"jython\", \"cython\", \"ython\", \"python311\"]\n",
    "\n",
    "validar(patron, L)"
   ]
  },
  {
   "cell_type": "code",
   "execution_count": 4,
   "id": "f967fecf",
   "metadata": {},
   "outputs": [
    {
     "name": "stdout",
     "output_type": "stream",
     "text": [
      "Patrón: [pjc]ython$\n",
      "python True\n",
      "jython True\n",
      "cython True\n",
      "ython False\n",
      "python311 False\n",
      "\n"
     ]
    }
   ],
   "source": [
    "patron = \"[pjc]ython$\"\n",
    "L = [\"python\", \"jython\", \"cython\", \"ython\", \"python311\"]\n",
    "\n",
    "validar(patron, L)"
   ]
  },
  {
   "cell_type": "code",
   "execution_count": null,
   "id": "3df1e1de",
   "metadata": {},
   "outputs": [],
   "source": []
  }
 ],
 "metadata": {
  "kernelspec": {
   "display_name": "Python 3 (ipykernel)",
   "language": "python",
   "name": "python3"
  },
  "language_info": {
   "codemirror_mode": {
    "name": "ipython",
    "version": 3
   },
   "file_extension": ".py",
   "mimetype": "text/x-python",
   "name": "python",
   "nbconvert_exporter": "python",
   "pygments_lexer": "ipython3",
   "version": "3.8.5"
  }
 },
 "nbformat": 4,
 "nbformat_minor": 5
}

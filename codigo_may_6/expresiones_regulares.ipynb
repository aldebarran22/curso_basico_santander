{
 "cells": [
  {
   "cell_type": "markdown",
   "id": "3e337c46",
   "metadata": {},
   "source": [
    "### Expresiones Regulares"
   ]
  },
  {
   "cell_type": "code",
   "execution_count": 1,
   "id": "a874d7c4",
   "metadata": {},
   "outputs": [],
   "source": [
    "import re"
   ]
  },
  {
   "cell_type": "code",
   "execution_count": 2,
   "id": "a177c808",
   "metadata": {},
   "outputs": [],
   "source": [
    "def validar(patron, L):\n",
    "    print('Patrón:', patron)\n",
    "    \n",
    "    for cadena in L:\n",
    "        print(cadena, True if re.match(patron, cadena) else False)\n",
    "    print()"
   ]
  },
  {
   "cell_type": "code",
   "execution_count": null,
   "id": "34bd6189",
   "metadata": {},
   "outputs": [],
   "source": [
    "patron = \"[pjc]ython\"\n",
    "L = [\"python\", \"jython\", \"cython\", \"ython\", \"python311\"]\n",
    "\n",
    "validar(patron, L)"
   ]
  }
 ],
 "metadata": {
  "kernelspec": {
   "display_name": "Python 3 (ipykernel)",
   "language": "python",
   "name": "python3"
  },
  "language_info": {
   "codemirror_mode": {
    "name": "ipython",
    "version": 3
   },
   "file_extension": ".py",
   "mimetype": "text/x-python",
   "name": "python",
   "nbconvert_exporter": "python",
   "pygments_lexer": "ipython3",
   "version": "3.8.5"
  }
 },
 "nbformat": 4,
 "nbformat_minor": 5
}

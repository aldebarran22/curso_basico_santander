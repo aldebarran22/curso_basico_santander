{
 "cells": [
  {
   "cell_type": "markdown",
   "id": "d0b70a65",
   "metadata": {},
   "source": [
    "### Expresiones Regulares"
   ]
  },
  {
   "cell_type": "code",
   "execution_count": 1,
   "id": "71b41d4b",
   "metadata": {},
   "outputs": [],
   "source": [
    "import re"
   ]
  },
  {
   "cell_type": "code",
   "execution_count": 2,
   "id": "6484278a",
   "metadata": {},
   "outputs": [],
   "source": [
    "def validar(patron, L):\n",
    "    print('Patrón:', patron)\n",
    "    \n",
    "    for cadena in L:\n",
    "        print(cadena, True if re.match(patron, cadena) else False)\n",
    "    print()"
   ]
  },
  {
   "cell_type": "code",
   "execution_count": 3,
   "id": "4e8d9ece",
   "metadata": {},
   "outputs": [
    {
     "name": "stdout",
     "output_type": "stream",
     "text": [
      "Patrón: [pjc]ython\n",
      "python True\n",
      "jython True\n",
      "cython True\n",
      "ython False\n",
      "python311 True\n",
      "\n"
     ]
    }
   ],
   "source": [
    "patron = \"[pjc]ython\"\n",
    "L = [\"python\", \"jython\", \"cython\", \"ython\", \"python311\"]\n",
    "\n",
    "validar(patron, L)"
   ]
  },
  {
   "cell_type": "code",
   "execution_count": 4,
   "id": "b16a02a4",
   "metadata": {},
   "outputs": [
    {
     "name": "stdout",
     "output_type": "stream",
     "text": [
      "Patrón: [pjc]ython$\n",
      "python True\n",
      "jython True\n",
      "cython True\n",
      "ython False\n",
      "python311 False\n",
      "\n"
     ]
    }
   ],
   "source": [
    "patron = \"[pjc]ython$\"\n",
    "L = [\"python\", \"jython\", \"cython\", \"ython\", \"python311\"]\n",
    "\n",
    "validar(patron, L)"
   ]
  },
  {
   "cell_type": "code",
   "execution_count": 5,
   "id": "e010fa58",
   "metadata": {},
   "outputs": [
    {
     "name": "stdout",
     "output_type": "stream",
     "text": [
      "Patrón: [a-z]{3}\\$$\n",
      "abc$ True\n",
      "123$ False\n",
      "av$ False\n",
      "AVF$ False\n",
      "$$$ False\n",
      "\n"
     ]
    }
   ],
   "source": [
    "# Cadenas de 3 letras que terminan en $\n",
    "patron = \"[a-z]{3}\\$$\"\n",
    "L = [\"abc$\", \"123$\", \"av$\", \"AVF$\", \"$$$\", \"123$$\", \"123$3\"]\n",
    "\n",
    "validar(patron, L)"
   ]
  },
  {
   "cell_type": "code",
   "execution_count": null,
   "id": "9f1755b1",
   "metadata": {},
   "outputs": [],
   "source": []
  }
 ],
 "metadata": {
  "kernelspec": {
   "display_name": "Python 3 (ipykernel)",
   "language": "python",
   "name": "python3"
  },
  "language_info": {
   "codemirror_mode": {
    "name": "ipython",
    "version": 3
   },
   "file_extension": ".py",
   "mimetype": "text/x-python",
   "name": "python",
   "nbconvert_exporter": "python",
   "pygments_lexer": "ipython3",
   "version": "3.8.5"
  }
 },
 "nbformat": 4,
 "nbformat_minor": 5
}

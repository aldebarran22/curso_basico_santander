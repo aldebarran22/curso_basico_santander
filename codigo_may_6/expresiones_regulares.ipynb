{
 "cells": [
  {
   "cell_type": "markdown",
   "id": "2905de32",
   "metadata": {},
   "source": [
    "### Expresiones Regulares"
   ]
  },
  {
   "cell_type": "code",
   "execution_count": 1,
   "id": "b1d7bc11",
   "metadata": {},
   "outputs": [],
   "source": [
    "import re"
   ]
  },
  {
   "cell_type": "code",
   "execution_count": 2,
   "id": "f5e2542c",
   "metadata": {},
   "outputs": [],
   "source": [
    "def validar(patron, L):\n",
    "    print('Patrón:', patron)\n",
    "    \n",
    "    for cadena in L:\n",
    "        print(cadena, True if re.match(patron, cadena) else False)\n",
    "    print()"
   ]
  },
  {
   "cell_type": "code",
   "execution_count": 3,
   "id": "ab67b5ad",
   "metadata": {},
   "outputs": [
    {
     "name": "stdout",
     "output_type": "stream",
     "text": [
      "Patrón: [pjc]ython\n",
      "python True\n",
      "jython True\n",
      "cython True\n",
      "ython False\n",
      "python311 True\n",
      "\n"
     ]
    }
   ],
   "source": [
    "patron = r\"[pjc]ython\"\n",
    "L = [\"python\", \"jython\", \"cython\", \"ython\", \"python311\"]\n",
    "\n",
    "validar(patron, L)"
   ]
  },
  {
   "cell_type": "code",
   "execution_count": 4,
   "id": "2a0dfc6a",
   "metadata": {},
   "outputs": [
    {
     "name": "stdout",
     "output_type": "stream",
     "text": [
      "Patrón: [pjc]ython$\n",
      "python True\n",
      "jython True\n",
      "cython True\n",
      "ython False\n",
      "python311 False\n",
      "\n"
     ]
    }
   ],
   "source": [
    "patron = r\"[pjc]ython$\"\n",
    "L = [\"python\", \"jython\", \"cython\", \"ython\", \"python311\"]\n",
    "\n",
    "validar(patron, L)"
   ]
  },
  {
   "cell_type": "code",
   "execution_count": 5,
   "id": "e19cc1eb",
   "metadata": {},
   "outputs": [
    {
     "name": "stdout",
     "output_type": "stream",
     "text": [
      "Patrón: [a-z]{3}\\$$\n",
      "abc$ True\n",
      "123$ False\n",
      "av$ False\n",
      "AVF$ False\n",
      "$$$ False\n",
      "123$$ False\n",
      "123$3 False\n",
      "\n"
     ]
    }
   ],
   "source": [
    "# Cadenas de 3 letras que terminan en $\n",
    "patron = r\"[a-z]{3}\\$$\"\n",
    "L = [\"abc$\", \"123$\", \"av$\", \"AVF$\", \"$$$\", \"123$$\", \"123$3\"]\n",
    "\n",
    "validar(patron, L)"
   ]
  },
  {
   "cell_type": "code",
   "execution_count": 8,
   "id": "1e65c3d8",
   "metadata": {},
   "outputs": [
    {
     "name": "stdout",
     "output_type": "stream",
     "text": [
      "<re.Match object; span=(0, 8), match='12-45-12'>\n",
      "('12', '45', '12')\n"
     ]
    }
   ],
   "source": [
    "cad = \"12-45-12\"\n",
    "patron = \"([0-9][0-9])-([0-9][0-9])-([0-9][0-9])$\"\n",
    "\n",
    "obj = re.match(patron, cad)\n",
    "if obj:\n",
    "    print(obj)\n",
    "    print(obj.groups())"
   ]
  },
  {
   "cell_type": "code",
   "execution_count": 9,
   "id": "f810ca68",
   "metadata": {},
   "outputs": [
    {
     "name": "stdout",
     "output_type": "stream",
     "text": [
      "Patrón: \\d{4}[BCDFGHJKLMNPQRSTVWXYZ]{3}$\n",
      "1234 False\n",
      "4455ASD False\n",
      "4455GTG True\n",
      "3456DDWW False\n",
      "011TTR False\n",
      "\n"
     ]
    }
   ],
   "source": [
    "# Validar matrícula europea:\n",
    "patron = \"\\d{4}[BCDFGHJKLMNPQRSTVWXYZ]{3}$\"\n",
    "L = [\"1234\", \"4455ASD\", \"4455GTG\",\"3456DDWW\",\"011TTR\"]\n",
    "\n",
    "validar(patron, L)"
   ]
  },
  {
   "cell_type": "code",
   "execution_count": null,
   "id": "d4107166",
   "metadata": {},
   "outputs": [],
   "source": []
  }
 ],
 "metadata": {
  "kernelspec": {
   "display_name": "Python 3 (ipykernel)",
   "language": "python",
   "name": "python3"
  },
  "language_info": {
   "codemirror_mode": {
    "name": "ipython",
    "version": 3
   },
   "file_extension": ".py",
   "mimetype": "text/x-python",
   "name": "python",
   "nbconvert_exporter": "python",
   "pygments_lexer": "ipython3",
   "version": "3.8.5"
  }
 },
 "nbformat": 4,
 "nbformat_minor": 5
}

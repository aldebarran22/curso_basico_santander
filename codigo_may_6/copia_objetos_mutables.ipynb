{
 "cells": [
  {
   "cell_type": "markdown",
   "id": "a0887609",
   "metadata": {},
   "source": [
    "## Copia de objetos mutables"
   ]
  },
  {
   "cell_type": "code",
   "execution_count": 1,
   "id": "1fb3938e",
   "metadata": {},
   "outputs": [],
   "source": [
    "import matplotlib.pyplot as plt"
   ]
  },
  {
   "cell_type": "markdown",
   "id": "384c61f5",
   "metadata": {},
   "source": [
    "Pruebas con graficas y con objetos mutables"
   ]
  },
  {
   "cell_type": "code",
   "execution_count": 2,
   "id": "17331d33",
   "metadata": {},
   "outputs": [
    {
     "data": {
      "image/png": "[encoded data removed]",
      "text/plain": [
       "<Figure size 640x480 with 1 Axes>"
      ]
     },
     "metadata": {},
     "output_type": "display_data"
    }
   ],
   "source": [
    "x = list(range(5))\n",
    "y = [12,5,6,7,22]\n",
    "\n",
    "plt.plot(x, y, color=\"blue\")\n",
    "plt.show()"
   ]
  },
  {
   "cell_type": "markdown",
   "id": "537a1aee",
   "metadata": {},
   "source": [
    "Copiar un objeto mutable: listas o diccionarios o conjuntos"
   ]
  },
  {
   "cell_type": "code",
   "execution_count": 3,
   "id": "5b0ed426",
   "metadata": {},
   "outputs": [
    {
     "name": "stdout",
     "output_type": "stream",
     "text": [
      "L [1000, 4, 5, 6, 3, 4] 2869625187520\n",
      "L2 [1000, 4, 5, 6, 3, 4] 2869625187520\n"
     ]
    }
   ],
   "source": [
    "# Ojo, no es una copia es una referencia.\n",
    "L = [1,4,5,6,3,4]\n",
    "L2 = L\n",
    "L[0] = 1000\n",
    "print(\"L\", L, id(L))\n",
    "print(\"L2\", L2, id(L2))\n"
   ]
  },
  {
   "cell_type": "code",
   "execution_count": 4,
   "id": "ea515e46",
   "metadata": {},
   "outputs": [
    {
     "name": "stdout",
     "output_type": "stream",
     "text": [
      "L [1000, 4, 5, 6, 3, 4] 2869588900160\n",
      "L2 [1, 4, 5, 6, 3, 4] 2869625187392\n"
     ]
    }
   ],
   "source": [
    "# Funciona bien si la lista contiene objetos inmutables:\n",
    "L = [1,4,5,6,3,4]\n",
    "L2 = L.copy()\n",
    "L[0] = 1000\n",
    "print(\"L\", L, id(L))\n",
    "print(\"L2\", L2, id(L2))"
   ]
  },
  {
   "cell_type": "code",
   "execution_count": 5,
   "id": "a2e62676",
   "metadata": {},
   "outputs": [
    {
     "name": "stdout",
     "output_type": "stream",
     "text": [
      "L [1000, [6, 3, 4, 999]] 2869586951680\n",
      "L2 [[1, 4, 5], [6, 3, 4, 999]] 2869625187584\n"
     ]
    }
   ],
   "source": [
    "# Las listas son independientes pero las sublistas se comparten.\n",
    "L = [[1,4,5],[6,3,4]]\n",
    "L2 = L.copy()\n",
    "L[0] = 1000\n",
    "L[-1].append(999)\n",
    "print(\"L\", L, id(L))\n",
    "print(\"L2\", L2, id(L2))"
   ]
  },
  {
   "cell_type": "code",
   "execution_count": 6,
   "id": "422b03f8",
   "metadata": {},
   "outputs": [
    {
     "name": "stdout",
     "output_type": "stream",
     "text": [
      "L [1000, [6, 3, 4, 999]] 2869625187648\n",
      "L2 [[1, 4, 5], [6, 3, 4]] 2869625187392\n"
     ]
    }
   ],
   "source": [
    "import copy\n",
    "L = [[1,4,5],[6,3,4]]\n",
    "L2 = copy.deepcopy(L)\n",
    "L[0] = 1000\n",
    "L[-1].append(999)\n",
    "print(\"L\", L, id(L))\n",
    "print(\"L2\", L2, id(L2))"
   ]
  },
  {
   "cell_type": "markdown",
   "id": "1db007eb",
   "metadata": {},
   "source": [
    "### Modificar objetos inmutables en una función (pasan por copia)"
   ]
  },
  {
   "cell_type": "code",
   "execution_count": 10,
   "id": "431355ef",
   "metadata": {},
   "outputs": [],
   "source": [
    "def modificarInmutables(cadena, tupla, numero):\n",
    "    cadena += \"hola\"\n",
    "    tupla += (7,8,9)\n",
    "    numero *= 100\n",
    "    \n",
    "    print('En la funcion:')\n",
    "    print(cadena)\n",
    "    print(tupla)\n",
    "    print(numero)\n",
    "    print('-' * 20)"
   ]
  },
  {
   "cell_type": "code",
   "execution_count": 11,
   "id": "93d75bac",
   "metadata": {},
   "outputs": [
    {
     "name": "stdout",
     "output_type": "stream",
     "text": [
      "En la funcion:\n",
      "adioshola\n",
      "(1, 2, 3, 7, 8, 9)\n",
      "1000\n",
      "--------------------\n",
      "adios\n",
      "(1, 2, 3)\n",
      "10\n"
     ]
    }
   ],
   "source": [
    "cadena2 = \"adios\"\n",
    "tupla = (1,2,3)\n",
    "numero = 10\n",
    "\n",
    "modificarInmutables(cadena2, tupla, numero)\n",
    "\n",
    "print(cadena2)\n",
    "print(tupla)\n",
    "print(numero)"
   ]
  },
  {
   "cell_type": "markdown",
   "id": "4e4b041f",
   "metadata": {},
   "source": [
    "### Modificar objetos mutables en una función (pasan por referencia)"
   ]
  },
  {
   "cell_type": "code",
   "execution_count": 8,
   "id": "37ea2f00",
   "metadata": {},
   "outputs": [],
   "source": [
    "def modificarMutables(lista, conjunto, diccionario):\n",
    "    lista.append(1000)\n",
    "    conjunto.add(1000)\n",
    "    diccionario[\"1000\"]=1000"
   ]
  },
  {
   "cell_type": "code",
   "execution_count": 12,
   "id": "41323961",
   "metadata": {},
   "outputs": [
    {
     "name": "stdout",
     "output_type": "stream",
     "text": [
      "[1, 2, 3, 4, 1000]\n",
      "{1000, 10, 20, 30}\n",
      "{'1': 1, '2': 2, '1000': 1000}\n"
     ]
    }
   ],
   "source": [
    "# Por defecto pasan por referencia\n",
    "L = [1,2,3,4]\n",
    "conjunto = {10,20,30}\n",
    "dicc = {\"1\":1, \"2\":2}\n",
    "\n",
    "modificarMutables(L, conjunto, dicc)\n",
    "\n",
    "print(L)\n",
    "print(conjunto)\n",
    "print(dicc)"
   ]
  },
  {
   "cell_type": "code",
   "execution_count": 13,
   "id": "6fb89b69",
   "metadata": {},
   "outputs": [
    {
     "name": "stdout",
     "output_type": "stream",
     "text": [
      "[1, 2, 3, 4]\n",
      "{10, 20, 30}\n",
      "{'1': 1, '2': 2}\n"
     ]
    }
   ],
   "source": [
    "# Pasarlo por copia\n",
    "L = [1,2,3,4]\n",
    "conjunto = {10,20,30}\n",
    "dicc = {\"1\":1, \"2\":2}\n",
    "\n",
    "modificarMutables(L.copy(), conjunto.copy(), dicc.copy())\n",
    "\n",
    "print(L)\n",
    "print(conjunto)\n",
    "print(dicc)"
   ]
  },
  {
   "cell_type": "code",
   "execution_count": null,
   "id": "d18bb8bf",
   "metadata": {},
   "outputs": [],
   "source": []
  }
 ],
 "metadata": {
  "kernelspec": {
   "display_name": "Python 3 (ipykernel)",
   "language": "python",
   "name": "python3"
  },
  "language_info": {
   "codemirror_mode": {
    "name": "ipython",
    "version": 3
   },
   "file_extension": ".py",
   "mimetype": "text/x-python",
   "name": "python",
   "nbconvert_exporter": "python",
   "pygments_lexer": "ipython3",
   "version": "3.9.13"
  }
 },
 "nbformat": 4,
 "nbformat_minor": 5
}

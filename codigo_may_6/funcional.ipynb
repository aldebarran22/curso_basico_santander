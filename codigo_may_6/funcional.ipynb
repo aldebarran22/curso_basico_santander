{
 "cells": [
  {
   "cell_type": "markdown",
   "id": "6a0b592d",
   "metadata": {},
   "source": [
    "### Programación Funcional"
   ]
  },
  {
   "cell_type": "markdown",
   "id": "c04ea456",
   "metadata": {},
   "source": [
    "- map, filter, reduce\n",
    "- list comprehesion\n",
    "- funciones lambda"
   ]
  },
  {
   "cell_type": "markdown",
   "id": "e53aefe6",
   "metadata": {},
   "source": [
    "Aplicar una función a todos los elementos de una lista y dejar el resultado en otra"
   ]
  },
  {
   "cell_type": "code",
   "execution_count": 1,
   "id": "fbbb952d",
   "metadata": {},
   "outputs": [],
   "source": [
    "def calcularIva(importe, iva=0.21):\n",
    "    return round(importe * iva, 2)"
   ]
  },
  {
   "cell_type": "code",
   "execution_count": 2,
   "id": "0d0dd78b",
   "metadata": {},
   "outputs": [
    {
     "data": {
      "text/plain": [
       "21.0"
      ]
     },
     "execution_count": 2,
     "metadata": {},
     "output_type": "execute_result"
    }
   ],
   "source": [
    "calcularIva(100)"
   ]
  },
  {
   "cell_type": "code",
   "execution_count": 3,
   "id": "0f517f0b",
   "metadata": {},
   "outputs": [
    {
     "data": {
      "text/plain": [
       "[252.0, 142.17, 71.4, 189.0, 48.3, 3.15, 11.76]"
      ]
     },
     "execution_count": 3,
     "metadata": {},
     "output_type": "execute_result"
    }
   ],
   "source": [
    "L = [1200, 677, 340, 900, 230, 15, 56]\n",
    "R = []\n",
    "for p in L:\n",
    "    R.append(calcularIva(p))\n",
    "R"
   ]
  },
  {
   "cell_type": "markdown",
   "id": "555b882a",
   "metadata": {},
   "source": [
    "#### map"
   ]
  },
  {
   "cell_type": "code",
   "execution_count": 5,
   "id": "ab6c9e30",
   "metadata": {},
   "outputs": [
    {
     "data": {
      "text/plain": [
       "[252.0, 142.17, 71.4, 189.0, 48.3, 3.15, 11.76]"
      ]
     },
     "execution_count": 5,
     "metadata": {},
     "output_type": "execute_result"
    }
   ],
   "source": [
    "R2 = list(map(calcularIva, L))\n",
    "R2"
   ]
  },
  {
   "cell_type": "code",
   "execution_count": 9,
   "id": "2c8aab0f",
   "metadata": {},
   "outputs": [
    {
     "data": {
      "text/plain": [
       "{3.15, 11.76, 48.3, 71.4, 142.17, 189.0, 252.0}"
      ]
     },
     "execution_count": 9,
     "metadata": {},
     "output_type": "execute_result"
    }
   ],
   "source": [
    "c2 = set(map(calcularIva, L))\n",
    "c2"
   ]
  },
  {
   "cell_type": "markdown",
   "id": "e31651b6",
   "metadata": {},
   "source": [
    "#### Con list compre."
   ]
  },
  {
   "cell_type": "code",
   "execution_count": 6,
   "id": "a598fcd2",
   "metadata": {},
   "outputs": [
    {
     "data": {
      "text/plain": [
       "[252.0, 142.17, 71.4, 189.0, 48.3, 3.15, 11.76]"
      ]
     },
     "execution_count": 6,
     "metadata": {},
     "output_type": "execute_result"
    }
   ],
   "source": [
    "R3 = [calcularIva(i) for i in L]\n",
    "R3"
   ]
  },
  {
   "cell_type": "code",
   "execution_count": 7,
   "id": "23503e1e",
   "metadata": {},
   "outputs": [
    {
     "data": {
      "text/plain": [
       "[252.0, 142.17, 71.4, 189.0, 48.3, 3.15, 11.76]"
      ]
     },
     "execution_count": 7,
     "metadata": {},
     "output_type": "execute_result"
    }
   ],
   "source": [
    "R4 = [round(i * 0.21, 2) for i in L]\n",
    "R4"
   ]
  },
  {
   "cell_type": "code",
   "execution_count": 8,
   "id": "7b6d3892",
   "metadata": {},
   "outputs": [
    {
     "data": {
      "text/plain": [
       "{3.15, 11.76, 48.3, 71.4, 142.17, 189.0, 252.0}"
      ]
     },
     "execution_count": 8,
     "metadata": {},
     "output_type": "execute_result"
    }
   ],
   "source": [
    "c = {round(i * 0.21, 2) for i in L}\n",
    "c"
   ]
  },
  {
   "cell_type": "code",
   "execution_count": 10,
   "id": "17c4c1c4",
   "metadata": {},
   "outputs": [
    {
     "data": {
      "text/plain": [
       "{1200: 252.0,\n",
       " 677: 142.17,\n",
       " 340: 71.4,\n",
       " 900: 189.0,\n",
       " 230: 48.3,\n",
       " 15: 3.15,\n",
       " 56: 11.76}"
      ]
     },
     "execution_count": 10,
     "metadata": {},
     "output_type": "execute_result"
    }
   ],
   "source": [
    "# Un diccionario con la clave: el importe y el valor el iva\n",
    "d = {i:calcularIva(i) for  i in L}\n",
    "d"
   ]
  },
  {
   "cell_type": "code",
   "execution_count": 12,
   "id": "aa2cfcce",
   "metadata": {},
   "outputs": [
    {
     "data": {
      "text/plain": [
       "[(6, 1, 6),\n",
       " (6, 2, 12),\n",
       " (6, 3, 18),\n",
       " (6, 4, 24),\n",
       " (6, 5, 30),\n",
       " (6, 6, 36),\n",
       " (6, 7, 42),\n",
       " (6, 8, 48),\n",
       " (6, 9, 54),\n",
       " (6, 10, 60)]"
      ]
     },
     "execution_count": 12,
     "metadata": {},
     "output_type": "execute_result"
    }
   ],
   "source": [
    "# [(1,1,1), (1,10,10), ....  (5,1,5),(5,2,10), (5,3,15) ... (10,10,100)]\n",
    "tablas = [(i,j,i*j) for i in range(1,11) for j in range(1,11)]\n",
    "tablas[50:60]"
   ]
  },
  {
   "cell_type": "markdown",
   "id": "f9bd4bda",
   "metadata": {},
   "source": [
    "#### filter"
   ]
  },
  {
   "cell_type": "code",
   "execution_count": null,
   "id": "5cedb706",
   "metadata": {},
   "outputs": [],
   "source": []
  }
 ],
 "metadata": {
  "kernelspec": {
   "display_name": "Python 3 (ipykernel)",
   "language": "python",
   "name": "python3"
  },
  "language_info": {
   "codemirror_mode": {
    "name": "ipython",
    "version": 3
   },
   "file_extension": ".py",
   "mimetype": "text/x-python",
   "name": "python",
   "nbconvert_exporter": "python",
   "pygments_lexer": "ipython3",
   "version": "3.8.5"
  }
 },
 "nbformat": 4,
 "nbformat_minor": 5
}

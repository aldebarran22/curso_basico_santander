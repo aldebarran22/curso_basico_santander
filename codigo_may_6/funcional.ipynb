{
 "cells": [
  {
   "cell_type": "markdown",
   "id": "eb83c3fd",
   "metadata": {},
   "source": [
    "### Programación Funcional"
   ]
  },
  {
   "cell_type": "markdown",
   "id": "0583e0a8",
   "metadata": {},
   "source": [
    "- map, filter, reduce\n",
    "- list comprehesion\n",
    "- funciones lambda"
   ]
  },
  {
   "cell_type": "markdown",
   "id": "fa2499fd",
   "metadata": {},
   "source": [
    "Aplicar una función a todos los elementos de una lista y dejar el resultado en otra"
   ]
  },
  {
   "cell_type": "code",
   "execution_count": 1,
   "id": "015b9199",
   "metadata": {},
   "outputs": [],
   "source": [
    "def calcularIva(importe, iva=0.21):\n",
    "    return round(importe * iva, 2)"
   ]
  },
  {
   "cell_type": "code",
   "execution_count": 2,
   "id": "612fdc59",
   "metadata": {},
   "outputs": [
    {
     "data": {
      "text/plain": [
       "21.0"
      ]
     },
     "execution_count": 2,
     "metadata": {},
     "output_type": "execute_result"
    }
   ],
   "source": [
    "calcularIva(100)"
   ]
  },
  {
   "cell_type": "code",
   "execution_count": 3,
   "id": "8b178c06",
   "metadata": {},
   "outputs": [
    {
     "data": {
      "text/plain": [
       "[252.0, 142.17, 71.4, 189.0, 48.3, 3.15, 11.76]"
      ]
     },
     "execution_count": 3,
     "metadata": {},
     "output_type": "execute_result"
    }
   ],
   "source": [
    "L = [1200, 677, 340, 900, 230, 15, 56]\n",
    "R = []\n",
    "for p in L:\n",
    "    R.append(calcularIva(p))\n",
    "R"
   ]
  },
  {
   "cell_type": "markdown",
   "id": "6f4d95e7",
   "metadata": {},
   "source": [
    "#### map"
   ]
  },
  {
   "cell_type": "code",
   "execution_count": 5,
   "id": "37bb53d4",
   "metadata": {},
   "outputs": [
    {
     "data": {
      "text/plain": [
       "[252.0, 142.17, 71.4, 189.0, 48.3, 3.15, 11.76]"
      ]
     },
     "execution_count": 5,
     "metadata": {},
     "output_type": "execute_result"
    }
   ],
   "source": [
    "R2 = list(map(calcularIva, L))\n",
    "R2"
   ]
  },
  {
   "cell_type": "markdown",
   "id": "2eceb9cb",
   "metadata": {},
   "source": [
    "#### Con list compre."
   ]
  },
  {
   "cell_type": "code",
   "execution_count": 6,
   "id": "ded00919",
   "metadata": {},
   "outputs": [
    {
     "data": {
      "text/plain": [
       "[252.0, 142.17, 71.4, 189.0, 48.3, 3.15, 11.76]"
      ]
     },
     "execution_count": 6,
     "metadata": {},
     "output_type": "execute_result"
    }
   ],
   "source": [
    "R3 = [calcularIva(i) for i in L]\n",
    "R3"
   ]
  },
  {
   "cell_type": "code",
   "execution_count": 7,
   "id": "d5844931",
   "metadata": {},
   "outputs": [
    {
     "data": {
      "text/plain": [
       "[252.0, 142.17, 71.4, 189.0, 48.3, 3.15, 11.76]"
      ]
     },
     "execution_count": 7,
     "metadata": {},
     "output_type": "execute_result"
    }
   ],
   "source": [
    "R4 = [round(i * 0.21, 2) for i in L]\n",
    "R4"
   ]
  },
  {
   "cell_type": "code",
   "execution_count": null,
   "id": "e65290fb",
   "metadata": {},
   "outputs": [],
   "source": []
  }
 ],
 "metadata": {
  "kernelspec": {
   "display_name": "Python 3 (ipykernel)",
   "language": "python",
   "name": "python3"
  },
  "language_info": {
   "codemirror_mode": {
    "name": "ipython",
    "version": 3
   },
   "file_extension": ".py",
   "mimetype": "text/x-python",
   "name": "python",
   "nbconvert_exporter": "python",
   "pygments_lexer": "ipython3",
   "version": "3.8.5"
  }
 },
 "nbformat": 4,
 "nbformat_minor": 5
}

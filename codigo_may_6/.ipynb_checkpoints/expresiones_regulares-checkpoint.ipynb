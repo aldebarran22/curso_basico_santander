{
 "cells": [
  {
   "cell_type": "markdown",
   "id": "da1e7857",
   "metadata": {},
   "source": [
    "### Expresiones Regulares"
   ]
  },
  {
   "cell_type": "code",
   "execution_count": 1,
   "id": "3de14a06",
   "metadata": {},
   "outputs": [],
   "source": [
    "import re"
   ]
  },
  {
   "cell_type": "code",
   "execution_count": 2,
   "id": "2b3a0cc9",
   "metadata": {},
   "outputs": [],
   "source": [
    "def validar(patron, L):\n",
    "    print('Patrón:', patron)\n",
    "    \n",
    "    for cadena in L:\n",
    "        print(cadena, True if re.match(patron, cadena) else False)\n",
    "    print()"
   ]
  },
  {
   "cell_type": "code",
   "execution_count": 3,
   "id": "e4640930",
   "metadata": {},
   "outputs": [
    {
     "name": "stdout",
     "output_type": "stream",
     "text": [
      "Patrón: [pjc]ython\n",
      "python True\n",
      "jython True\n",
      "cython True\n",
      "ython False\n",
      "python311 True\n",
      "\n"
     ]
    }
   ],
   "source": [
    "patron = r\"[pjc]ython\"\n",
    "L = [\"python\", \"jython\", \"cython\", \"ython\", \"python311\"]\n",
    "\n",
    "validar(patron, L)"
   ]
  },
  {
   "cell_type": "code",
   "execution_count": 4,
   "id": "77c62901",
   "metadata": {},
   "outputs": [
    {
     "name": "stdout",
     "output_type": "stream",
     "text": [
      "Patrón: [pjc]ython$\n",
      "python True\n",
      "jython True\n",
      "cython True\n",
      "ython False\n",
      "python311 False\n",
      "\n"
     ]
    }
   ],
   "source": [
    "patron = r\"[pjc]ython$\"\n",
    "L = [\"python\", \"jython\", \"cython\", \"ython\", \"python311\"]\n",
    "\n",
    "validar(patron, L)"
   ]
  },
  {
   "cell_type": "code",
   "execution_count": 5,
   "id": "9c7cfc2a",
   "metadata": {},
   "outputs": [
    {
     "name": "stdout",
     "output_type": "stream",
     "text": [
      "Patrón: [a-z]{3}\\$$\n",
      "abc$ True\n",
      "123$ False\n",
      "av$ False\n",
      "AVF$ False\n",
      "$$$ False\n",
      "123$$ False\n",
      "123$3 False\n",
      "\n"
     ]
    }
   ],
   "source": [
    "# Cadenas de 3 letras que terminan en $\n",
    "patron = r\"[a-z]{3}\\$$\"\n",
    "L = [\"abc$\", \"123$\", \"av$\", \"AVF$\", \"$$$\", \"123$$\", \"123$3\"]\n",
    "\n",
    "validar(patron, L)"
   ]
  },
  {
   "cell_type": "code",
   "execution_count": 8,
   "id": "2f821a6a",
   "metadata": {},
   "outputs": [
    {
     "name": "stdout",
     "output_type": "stream",
     "text": [
      "<re.Match object; span=(0, 8), match='12-45-12'>\n",
      "('12', '45', '12')\n"
     ]
    }
   ],
   "source": [
    "cad = \"12-45-12\"\n",
    "patron = \"([0-9][0-9])-([0-9][0-9])-([0-9][0-9])$\"\n",
    "\n",
    "obj = re.match(patron, cad)\n",
    "if obj:\n",
    "    print(obj)\n",
    "    print(obj.groups())"
   ]
  },
  {
   "cell_type": "code",
   "execution_count": 9,
   "id": "9f3ee96f",
   "metadata": {},
   "outputs": [
    {
     "name": "stdout",
     "output_type": "stream",
     "text": [
      "Patrón: \\d{4}[BCDFGHJKLMNPQRSTVWXYZ]{3}$\n",
      "1234 False\n",
      "4455ASD False\n",
      "4455GTG True\n",
      "3456DDWW False\n",
      "011TTR False\n",
      "\n"
     ]
    }
   ],
   "source": [
    "# Validar matrícula europea:\n",
    "patron = \"\\d{4}[BCDFGHJKLMNPQRSTVWXYZ]{3}$\"\n",
    "L = [\"1234\", \"4455ASD\", \"4455GTG\",\"3456DDWW\",\"011TTR\"]\n",
    "\n",
    "validar(patron, L)"
   ]
  },
  {
   "cell_type": "code",
   "execution_count": 10,
   "id": "096b4a08",
   "metadata": {},
   "outputs": [
    {
     "name": "stdout",
     "output_type": "stream",
     "text": [
      "match:  None\n",
      "search:  <re.Match object; span=(16, 23), match='1234RRR'>\n"
     ]
    }
   ],
   "source": [
    "patron = \"\\d{4}[BCDFGHJKLMNPQRSTVWXYZ]{3}$\"\n",
    "frase = \"mi matricula es 1234RRR\"\n",
    "print(\"match: \", re.match(patron, frase))\n",
    "print(\"search: \", re.search(patron, frase))"
   ]
  },
  {
   "cell_type": "code",
   "execution_count": 13,
   "id": "80ff4e0c",
   "metadata": {},
   "outputs": [
    {
     "name": "stdout",
     "output_type": "stream",
     "text": [
      "<re.Match object; span=(16, 23), match='1234RRR'>\n",
      "<re.Match object; span=(35, 42), match='3344TTY'>\n"
     ]
    }
   ],
   "source": [
    "patron = \"\\d{4}[BCDFGHJKLMNPQRSTVWXYZ]{3}\"\n",
    "frase = \"mi matricula es 1234RRR y la tuya 3344TTY\"\n",
    "for obj in re.finditer(patron, frase):\n",
    "    print(obj)"
   ]
  },
  {
   "cell_type": "code",
   "execution_count": null,
   "id": "5e7f8503",
   "metadata": {},
   "outputs": [],
   "source": []
  }
 ],
 "metadata": {
  "kernelspec": {
   "display_name": "Python 3 (ipykernel)",
   "language": "python",
   "name": "python3"
  },
  "language_info": {
   "codemirror_mode": {
    "name": "ipython",
    "version": 3
   },
   "file_extension": ".py",
   "mimetype": "text/x-python",
   "name": "python",
   "nbconvert_exporter": "python",
   "pygments_lexer": "ipython3",
   "version": "3.8.5"
  }
 },
 "nbformat": 4,
 "nbformat_minor": 5
}

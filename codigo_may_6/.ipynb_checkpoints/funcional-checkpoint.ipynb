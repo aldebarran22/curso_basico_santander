{
 "cells": [
  {
   "cell_type": "markdown",
   "id": "32a393db",
   "metadata": {},
   "source": [
    "### Programación Funcional"
   ]
  },
  {
   "cell_type": "markdown",
   "id": "e6dd244d",
   "metadata": {},
   "source": [
    "- map, filter, reduce\n",
    "- list comprehesion\n",
    "- funciones lambda"
   ]
  },
  {
   "cell_type": "markdown",
   "id": "3776108a",
   "metadata": {},
   "source": [
    "Aplicar una función a todos los elementos de una lista y dejar el resultado en otra"
   ]
  },
  {
   "cell_type": "code",
   "execution_count": 14,
   "id": "c1b8a928",
   "metadata": {},
   "outputs": [],
   "source": [
    "from random import randint\n",
    "from string import ascii_letters"
   ]
  },
  {
   "cell_type": "code",
   "execution_count": 1,
   "id": "62da6fc0",
   "metadata": {},
   "outputs": [],
   "source": [
    "def calcularIva(importe, iva=0.21):\n",
    "    return round(importe * iva, 2)"
   ]
  },
  {
   "cell_type": "code",
   "execution_count": 2,
   "id": "a07f64f9",
   "metadata": {},
   "outputs": [
    {
     "data": {
      "text/plain": [
       "21.0"
      ]
     },
     "execution_count": 2,
     "metadata": {},
     "output_type": "execute_result"
    }
   ],
   "source": [
    "calcularIva(100)"
   ]
  },
  {
   "cell_type": "code",
   "execution_count": 3,
   "id": "9d89ed2e",
   "metadata": {},
   "outputs": [
    {
     "data": {
      "text/plain": [
       "[252.0, 142.17, 71.4, 189.0, 48.3, 3.15, 11.76]"
      ]
     },
     "execution_count": 3,
     "metadata": {},
     "output_type": "execute_result"
    }
   ],
   "source": [
    "L = [1200, 677, 340, 900, 230, 15, 56]\n",
    "R = []\n",
    "for p in L:\n",
    "    R.append(calcularIva(p))\n",
    "R"
   ]
  },
  {
   "cell_type": "markdown",
   "id": "01116759",
   "metadata": {},
   "source": [
    "#### map"
   ]
  },
  {
   "cell_type": "code",
   "execution_count": 5,
   "id": "c5ec4761",
   "metadata": {},
   "outputs": [
    {
     "data": {
      "text/plain": [
       "[252.0, 142.17, 71.4, 189.0, 48.3, 3.15, 11.76]"
      ]
     },
     "execution_count": 5,
     "metadata": {},
     "output_type": "execute_result"
    }
   ],
   "source": [
    "R2 = list(map(calcularIva, L))\n",
    "R2"
   ]
  },
  {
   "cell_type": "code",
   "execution_count": 9,
   "id": "ce98abb9",
   "metadata": {},
   "outputs": [
    {
     "data": {
      "text/plain": [
       "{3.15, 11.76, 48.3, 71.4, 142.17, 189.0, 252.0}"
      ]
     },
     "execution_count": 9,
     "metadata": {},
     "output_type": "execute_result"
    }
   ],
   "source": [
    "c2 = set(map(calcularIva, L))\n",
    "c2"
   ]
  },
  {
   "cell_type": "markdown",
   "id": "630ff211",
   "metadata": {},
   "source": [
    "#### Con list compre."
   ]
  },
  {
   "cell_type": "code",
   "execution_count": 6,
   "id": "c5617303",
   "metadata": {},
   "outputs": [
    {
     "data": {
      "text/plain": [
       "[252.0, 142.17, 71.4, 189.0, 48.3, 3.15, 11.76]"
      ]
     },
     "execution_count": 6,
     "metadata": {},
     "output_type": "execute_result"
    }
   ],
   "source": [
    "R3 = [calcularIva(i) for i in L]\n",
    "R3"
   ]
  },
  {
   "cell_type": "code",
   "execution_count": 7,
   "id": "95383b95",
   "metadata": {},
   "outputs": [
    {
     "data": {
      "text/plain": [
       "[252.0, 142.17, 71.4, 189.0, 48.3, 3.15, 11.76]"
      ]
     },
     "execution_count": 7,
     "metadata": {},
     "output_type": "execute_result"
    }
   ],
   "source": [
    "R4 = [round(i * 0.21, 2) for i in L]\n",
    "R4"
   ]
  },
  {
   "cell_type": "code",
   "execution_count": 8,
   "id": "a4f55b04",
   "metadata": {},
   "outputs": [
    {
     "data": {
      "text/plain": [
       "{3.15, 11.76, 48.3, 71.4, 142.17, 189.0, 252.0}"
      ]
     },
     "execution_count": 8,
     "metadata": {},
     "output_type": "execute_result"
    }
   ],
   "source": [
    "c = {round(i * 0.21, 2) for i in L}\n",
    "c"
   ]
  },
  {
   "cell_type": "code",
   "execution_count": 10,
   "id": "3d4df247",
   "metadata": {},
   "outputs": [
    {
     "data": {
      "text/plain": [
       "{1200: 252.0,\n",
       " 677: 142.17,\n",
       " 340: 71.4,\n",
       " 900: 189.0,\n",
       " 230: 48.3,\n",
       " 15: 3.15,\n",
       " 56: 11.76}"
      ]
     },
     "execution_count": 10,
     "metadata": {},
     "output_type": "execute_result"
    }
   ],
   "source": [
    "# Un diccionario con la clave: el importe y el valor el iva\n",
    "d = {i:calcularIva(i) for  i in L}\n",
    "d"
   ]
  },
  {
   "cell_type": "code",
   "execution_count": 12,
   "id": "94194df4",
   "metadata": {},
   "outputs": [
    {
     "data": {
      "text/plain": [
       "[(6, 1, 6),\n",
       " (6, 2, 12),\n",
       " (6, 3, 18),\n",
       " (6, 4, 24),\n",
       " (6, 5, 30),\n",
       " (6, 6, 36),\n",
       " (6, 7, 42),\n",
       " (6, 8, 48),\n",
       " (6, 9, 54),\n",
       " (6, 10, 60)]"
      ]
     },
     "execution_count": 12,
     "metadata": {},
     "output_type": "execute_result"
    }
   ],
   "source": [
    "# [(1,1,1), (1,10,10), ....  (5,1,5),(5,2,10), (5,3,15) ... (10,10,100)]\n",
    "tablas = [(i,j,i*j) for i in range(1,11) for j in range(1,11)]\n",
    "tablas[50:60]"
   ]
  },
  {
   "cell_type": "code",
   "execution_count": 18,
   "id": "84ec39f7",
   "metadata": {},
   "outputs": [
    {
     "data": {
      "text/plain": [
       "[{'nombre': 'aaaaa', 'exp': 4, 'emp': 3, 'sup': False},\n",
       " {'nombre': 'bbbbb', 'exp': 3, 'emp': 2, 'sup': True}]"
      ]
     },
     "execution_count": 18,
     "metadata": {},
     "output_type": "execute_result"
    }
   ],
   "source": [
    "# Generar una estructura aleatoria, lista de diccionarios, cada dicc representa un candidato.\n",
    "candidatos = [{\"nombre\":letra * 5, \n",
    "               \"exp\":randint(2,8), \n",
    "               \"emp\":randint(1,6),\n",
    "               \"sup\": True if randint(1,10) % 2 == 0 else False} for letra in ascii_letters]\n",
    "candidatos[:2]"
   ]
  },
  {
   "cell_type": "markdown",
   "id": "e0278485",
   "metadata": {},
   "source": [
    "#### filter"
   ]
  },
  {
   "cell_type": "code",
   "execution_count": 24,
   "id": "c658e7b2",
   "metadata": {},
   "outputs": [],
   "source": [
    "def filtro(candidato):\n",
    "    return candidato['sup'] and candidato['exp'] > 5"
   ]
  },
  {
   "cell_type": "code",
   "execution_count": 25,
   "id": "c509512f",
   "metadata": {},
   "outputs": [
    {
     "data": {
      "text/plain": [
       "[{'nombre': 'ccccc', 'exp': 6, 'emp': 1, 'sup': True},\n",
       " {'nombre': 'mmmmm', 'exp': 7, 'emp': 4, 'sup': True},\n",
       " {'nombre': 'ooooo', 'exp': 6, 'emp': 2, 'sup': True},\n",
       " {'nombre': 'ppppp', 'exp': 6, 'emp': 3, 'sup': True},\n",
       " {'nombre': 'ttttt', 'exp': 7, 'emp': 3, 'sup': True},\n",
       " {'nombre': 'EEEEE', 'exp': 7, 'emp': 2, 'sup': True},\n",
       " {'nombre': 'FFFFF', 'exp': 8, 'emp': 5, 'sup': True},\n",
       " {'nombre': 'GGGGG', 'exp': 8, 'emp': 6, 'sup': True},\n",
       " {'nombre': 'QQQQQ', 'exp': 8, 'emp': 1, 'sup': True},\n",
       " {'nombre': 'VVVVV', 'exp': 7, 'emp': 4, 'sup': True},\n",
       " {'nombre': 'XXXXX', 'exp': 8, 'emp': 6, 'sup': True}]"
      ]
     },
     "execution_count": 25,
     "metadata": {},
     "output_type": "execute_result"
    }
   ],
   "source": [
    "R = list(filter(filtro, candidatos))\n",
    "R"
   ]
  },
  {
   "cell_type": "markdown",
   "id": "bf29ec8c",
   "metadata": {},
   "source": [
    "#### reduce"
   ]
  },
  {
   "cell_type": "code",
   "execution_count": null,
   "id": "b0429440",
   "metadata": {},
   "outputs": [],
   "source": []
  }
 ],
 "metadata": {
  "kernelspec": {
   "display_name": "Python 3 (ipykernel)",
   "language": "python",
   "name": "python3"
  },
  "language_info": {
   "codemirror_mode": {
    "name": "ipython",
    "version": 3
   },
   "file_extension": ".py",
   "mimetype": "text/x-python",
   "name": "python",
   "nbconvert_exporter": "python",
   "pygments_lexer": "ipython3",
   "version": "3.8.5"
  }
 },
 "nbformat": 4,
 "nbformat_minor": 5
}

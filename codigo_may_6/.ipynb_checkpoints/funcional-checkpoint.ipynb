{
 "cells": [
  {
   "cell_type": "markdown",
   "id": "c2573654",
   "metadata": {},
   "source": [
    "### Programación Funcional"
   ]
  },
  {
   "cell_type": "markdown",
   "id": "d9b37c7a",
   "metadata": {},
   "source": [
    "- map, filter, reduce\n",
    "- list comprehesion\n",
    "- funciones lambda"
   ]
  },
  {
   "cell_type": "markdown",
   "id": "bc87e78f",
   "metadata": {},
   "source": [
    "Aplicar una función a todos los elementos de una lista y dejar el resultado en otra"
   ]
  },
  {
   "cell_type": "code",
   "execution_count": 29,
   "id": "1a2ec631",
   "metadata": {},
   "outputs": [],
   "source": [
    "from random import randint\n",
    "from string import ascii_letters\n",
    "from functools import reduce"
   ]
  },
  {
   "cell_type": "code",
   "execution_count": 1,
   "id": "7d2ff4b4",
   "metadata": {},
   "outputs": [],
   "source": [
    "def calcularIva(importe, iva=0.21):\n",
    "    return round(importe * iva, 2)"
   ]
  },
  {
   "cell_type": "code",
   "execution_count": 2,
   "id": "398fe13e",
   "metadata": {},
   "outputs": [
    {
     "data": {
      "text/plain": [
       "21.0"
      ]
     },
     "execution_count": 2,
     "metadata": {},
     "output_type": "execute_result"
    }
   ],
   "source": [
    "calcularIva(100)"
   ]
  },
  {
   "cell_type": "code",
   "execution_count": 3,
   "id": "91a7650a",
   "metadata": {},
   "outputs": [
    {
     "data": {
      "text/plain": [
       "[252.0, 142.17, 71.4, 189.0, 48.3, 3.15, 11.76]"
      ]
     },
     "execution_count": 3,
     "metadata": {},
     "output_type": "execute_result"
    }
   ],
   "source": [
    "L = [1200, 677, 340, 900, 230, 15, 56]\n",
    "R = []\n",
    "for p in L:\n",
    "    R.append(calcularIva(p))\n",
    "R"
   ]
  },
  {
   "cell_type": "markdown",
   "id": "00100ad5",
   "metadata": {},
   "source": [
    "#### map"
   ]
  },
  {
   "cell_type": "code",
   "execution_count": 5,
   "id": "82092b9b",
   "metadata": {},
   "outputs": [
    {
     "data": {
      "text/plain": [
       "[252.0, 142.17, 71.4, 189.0, 48.3, 3.15, 11.76]"
      ]
     },
     "execution_count": 5,
     "metadata": {},
     "output_type": "execute_result"
    }
   ],
   "source": [
    "R2 = list(map(calcularIva, L))\n",
    "R2"
   ]
  },
  {
   "cell_type": "code",
   "execution_count": 9,
   "id": "a5000dcb",
   "metadata": {},
   "outputs": [
    {
     "data": {
      "text/plain": [
       "{3.15, 11.76, 48.3, 71.4, 142.17, 189.0, 252.0}"
      ]
     },
     "execution_count": 9,
     "metadata": {},
     "output_type": "execute_result"
    }
   ],
   "source": [
    "c2 = set(map(calcularIva, L))\n",
    "c2"
   ]
  },
  {
   "cell_type": "markdown",
   "id": "60365fc6",
   "metadata": {},
   "source": [
    "#### Con list compre."
   ]
  },
  {
   "cell_type": "code",
   "execution_count": 6,
   "id": "90f8eb2d",
   "metadata": {},
   "outputs": [
    {
     "data": {
      "text/plain": [
       "[252.0, 142.17, 71.4, 189.0, 48.3, 3.15, 11.76]"
      ]
     },
     "execution_count": 6,
     "metadata": {},
     "output_type": "execute_result"
    }
   ],
   "source": [
    "R3 = [calcularIva(i) for i in L]\n",
    "R3"
   ]
  },
  {
   "cell_type": "code",
   "execution_count": 7,
   "id": "b937a881",
   "metadata": {},
   "outputs": [
    {
     "data": {
      "text/plain": [
       "[252.0, 142.17, 71.4, 189.0, 48.3, 3.15, 11.76]"
      ]
     },
     "execution_count": 7,
     "metadata": {},
     "output_type": "execute_result"
    }
   ],
   "source": [
    "R4 = [round(i * 0.21, 2) for i in L]\n",
    "R4"
   ]
  },
  {
   "cell_type": "code",
   "execution_count": 8,
   "id": "25a3c21f",
   "metadata": {},
   "outputs": [
    {
     "data": {
      "text/plain": [
       "{3.15, 11.76, 48.3, 71.4, 142.17, 189.0, 252.0}"
      ]
     },
     "execution_count": 8,
     "metadata": {},
     "output_type": "execute_result"
    }
   ],
   "source": [
    "c = {round(i * 0.21, 2) for i in L}\n",
    "c"
   ]
  },
  {
   "cell_type": "code",
   "execution_count": 10,
   "id": "d8a7df5f",
   "metadata": {},
   "outputs": [
    {
     "data": {
      "text/plain": [
       "{1200: 252.0,\n",
       " 677: 142.17,\n",
       " 340: 71.4,\n",
       " 900: 189.0,\n",
       " 230: 48.3,\n",
       " 15: 3.15,\n",
       " 56: 11.76}"
      ]
     },
     "execution_count": 10,
     "metadata": {},
     "output_type": "execute_result"
    }
   ],
   "source": [
    "# Un diccionario con la clave: el importe y el valor el iva\n",
    "d = {i:calcularIva(i) for  i in L}\n",
    "d"
   ]
  },
  {
   "cell_type": "code",
   "execution_count": 12,
   "id": "c05da664",
   "metadata": {},
   "outputs": [
    {
     "data": {
      "text/plain": [
       "[(6, 1, 6),\n",
       " (6, 2, 12),\n",
       " (6, 3, 18),\n",
       " (6, 4, 24),\n",
       " (6, 5, 30),\n",
       " (6, 6, 36),\n",
       " (6, 7, 42),\n",
       " (6, 8, 48),\n",
       " (6, 9, 54),\n",
       " (6, 10, 60)]"
      ]
     },
     "execution_count": 12,
     "metadata": {},
     "output_type": "execute_result"
    }
   ],
   "source": [
    "# [(1,1,1), (1,10,10), ....  (5,1,5),(5,2,10), (5,3,15) ... (10,10,100)]\n",
    "tablas = [(i,j,i*j) for i in range(1,11) for j in range(1,11)]\n",
    "tablas[50:60]"
   ]
  },
  {
   "cell_type": "code",
   "execution_count": 18,
   "id": "6c3db178",
   "metadata": {},
   "outputs": [
    {
     "data": {
      "text/plain": [
       "[{'nombre': 'aaaaa', 'exp': 4, 'emp': 3, 'sup': False},\n",
       " {'nombre': 'bbbbb', 'exp': 3, 'emp': 2, 'sup': True}]"
      ]
     },
     "execution_count": 18,
     "metadata": {},
     "output_type": "execute_result"
    }
   ],
   "source": [
    "# Generar una estructura aleatoria, lista de diccionarios, cada dicc representa un candidato.\n",
    "candidatos = [{\"nombre\":letra * 5, \n",
    "               \"exp\":randint(2,8), \n",
    "               \"emp\":randint(1,6),\n",
    "               \"sup\": True if randint(1,10) % 2 == 0 else False} for letra in ascii_letters]\n",
    "candidatos[:2]"
   ]
  },
  {
   "cell_type": "markdown",
   "id": "113519f8",
   "metadata": {},
   "source": [
    "#### filter"
   ]
  },
  {
   "cell_type": "code",
   "execution_count": 26,
   "id": "2a163e25",
   "metadata": {},
   "outputs": [],
   "source": [
    "def filtro(candidato):\n",
    "    return candidato['sup'] and candidato['exp'] > 5"
   ]
  },
  {
   "cell_type": "code",
   "execution_count": 27,
   "id": "3915f5d7",
   "metadata": {},
   "outputs": [
    {
     "data": {
      "text/plain": [
       "[{'nombre': 'ccccc', 'exp': 6, 'emp': 1, 'sup': True},\n",
       " {'nombre': 'mmmmm', 'exp': 7, 'emp': 4, 'sup': True},\n",
       " {'nombre': 'ooooo', 'exp': 6, 'emp': 2, 'sup': True},\n",
       " {'nombre': 'ppppp', 'exp': 6, 'emp': 3, 'sup': True},\n",
       " {'nombre': 'ttttt', 'exp': 7, 'emp': 3, 'sup': True},\n",
       " {'nombre': 'EEEEE', 'exp': 7, 'emp': 2, 'sup': True},\n",
       " {'nombre': 'FFFFF', 'exp': 8, 'emp': 5, 'sup': True},\n",
       " {'nombre': 'GGGGG', 'exp': 8, 'emp': 6, 'sup': True},\n",
       " {'nombre': 'QQQQQ', 'exp': 8, 'emp': 1, 'sup': True},\n",
       " {'nombre': 'VVVVV', 'exp': 7, 'emp': 4, 'sup': True},\n",
       " {'nombre': 'XXXXX', 'exp': 8, 'emp': 6, 'sup': True}]"
      ]
     },
     "execution_count": 27,
     "metadata": {},
     "output_type": "execute_result"
    }
   ],
   "source": [
    "R = list(filter(filtro, candidatos))\n",
    "R"
   ]
  },
  {
   "cell_type": "code",
   "execution_count": 28,
   "id": "0a82070e",
   "metadata": {},
   "outputs": [
    {
     "data": {
      "text/plain": [
       "[{'nombre': 'ccccc', 'exp': 6, 'emp': 1, 'sup': True},\n",
       " {'nombre': 'mmmmm', 'exp': 7, 'emp': 4, 'sup': True},\n",
       " {'nombre': 'ooooo', 'exp': 6, 'emp': 2, 'sup': True},\n",
       " {'nombre': 'ppppp', 'exp': 6, 'emp': 3, 'sup': True},\n",
       " {'nombre': 'ttttt', 'exp': 7, 'emp': 3, 'sup': True},\n",
       " {'nombre': 'EEEEE', 'exp': 7, 'emp': 2, 'sup': True},\n",
       " {'nombre': 'FFFFF', 'exp': 8, 'emp': 5, 'sup': True},\n",
       " {'nombre': 'GGGGG', 'exp': 8, 'emp': 6, 'sup': True},\n",
       " {'nombre': 'QQQQQ', 'exp': 8, 'emp': 1, 'sup': True},\n",
       " {'nombre': 'VVVVV', 'exp': 7, 'emp': 4, 'sup': True},\n",
       " {'nombre': 'XXXXX', 'exp': 8, 'emp': 6, 'sup': True}]"
      ]
     },
     "execution_count": 28,
     "metadata": {},
     "output_type": "execute_result"
    }
   ],
   "source": [
    "R2 = [c for c in candidatos if filtro(c)]\n",
    "R2"
   ]
  },
  {
   "cell_type": "markdown",
   "id": "f20168e6",
   "metadata": {},
   "source": [
    "#### reduce"
   ]
  },
  {
   "cell_type": "code",
   "execution_count": 30,
   "id": "f469f58a",
   "metadata": {},
   "outputs": [],
   "source": [
    "def minimo(a,b):\n",
    "    print(a,b)\n",
    "    return min(a,b)"
   ]
  },
  {
   "cell_type": "code",
   "execution_count": 31,
   "id": "13757503",
   "metadata": {},
   "outputs": [
    {
     "name": "stdout",
     "output_type": "stream",
     "text": [
      "23 22\n",
      "22 44\n",
      "22 21\n",
      "21 45\n",
      "21 19\n",
      "19 55\n",
      "19 12\n",
      "12 7\n",
      "7 2\n",
      "2 1\n"
     ]
    },
    {
     "data": {
      "text/plain": [
       "1"
      ]
     },
     "execution_count": 31,
     "metadata": {},
     "output_type": "execute_result"
    }
   ],
   "source": [
    "L = [23,22,44,21,45,19,55,12,7,2,1]\n",
    "obj = reduce(minimo, L)\n",
    "obj"
   ]
  },
  {
   "cell_type": "code",
   "execution_count": 32,
   "id": "fe429a56",
   "metadata": {},
   "outputs": [],
   "source": [
    "def mejorCandidato(c1, c2):\n",
    "    if c1['exp'] > c2['exp']:\n",
    "        return c1\n",
    "    \n",
    "    elif c2['exp'] > c1['exp']:\n",
    "        return c2\n",
    "    \n",
    "    else:\n",
    "        if c1['emp'] > c2['emp']:\n",
    "            return c1\n",
    "        \n",
    "        elif c2['emp'] > c1['emp']:\n",
    "            return c2\n",
    "        \n",
    "        else:\n",
    "            if c1['sup'] and not c2['sup']:\n",
    "                return c1\n",
    "            \n",
    "            elif c2['sup'] and not c1['sup']:\n",
    "                return c2\n",
    "            \n",
    "            else:\n",
    "                return c1\n",
    "            \n",
    "        \n",
    "    "
   ]
  },
  {
   "cell_type": "code",
   "execution_count": 33,
   "id": "cf5ed904",
   "metadata": {},
   "outputs": [
    {
     "data": {
      "text/plain": [
       "[{'nombre': 'aaaaa', 'exp': 4, 'emp': 3, 'sup': False},\n",
       " {'nombre': 'bbbbb', 'exp': 3, 'emp': 2, 'sup': True},\n",
       " {'nombre': 'ccccc', 'exp': 6, 'emp': 1, 'sup': True},\n",
       " {'nombre': 'ddddd', 'exp': 6, 'emp': 1, 'sup': False},\n",
       " {'nombre': 'eeeee', 'exp': 5, 'emp': 3, 'sup': True},\n",
       " {'nombre': 'fffff', 'exp': 8, 'emp': 1, 'sup': False},\n",
       " {'nombre': 'ggggg', 'exp': 2, 'emp': 1, 'sup': True},\n",
       " {'nombre': 'hhhhh', 'exp': 2, 'emp': 2, 'sup': False},\n",
       " {'nombre': 'iiiii', 'exp': 8, 'emp': 5, 'sup': False},\n",
       " {'nombre': 'jjjjj', 'exp': 7, 'emp': 3, 'sup': False},\n",
       " {'nombre': 'kkkkk', 'exp': 3, 'emp': 3, 'sup': False},\n",
       " {'nombre': 'lllll', 'exp': 8, 'emp': 5, 'sup': False},\n",
       " {'nombre': 'mmmmm', 'exp': 7, 'emp': 4, 'sup': True},\n",
       " {'nombre': 'nnnnn', 'exp': 3, 'emp': 3, 'sup': True},\n",
       " {'nombre': 'ooooo', 'exp': 6, 'emp': 2, 'sup': True},\n",
       " {'nombre': 'ppppp', 'exp': 6, 'emp': 3, 'sup': True},\n",
       " {'nombre': 'qqqqq', 'exp': 3, 'emp': 2, 'sup': False},\n",
       " {'nombre': 'rrrrr', 'exp': 4, 'emp': 5, 'sup': True},\n",
       " {'nombre': 'sssss', 'exp': 3, 'emp': 3, 'sup': True},\n",
       " {'nombre': 'ttttt', 'exp': 7, 'emp': 3, 'sup': True},\n",
       " {'nombre': 'uuuuu', 'exp': 5, 'emp': 2, 'sup': False},\n",
       " {'nombre': 'vvvvv', 'exp': 7, 'emp': 5, 'sup': False},\n",
       " {'nombre': 'wwwww', 'exp': 2, 'emp': 2, 'sup': True},\n",
       " {'nombre': 'xxxxx', 'exp': 8, 'emp': 6, 'sup': False},\n",
       " {'nombre': 'yyyyy', 'exp': 2, 'emp': 2, 'sup': False},\n",
       " {'nombre': 'zzzzz', 'exp': 2, 'emp': 2, 'sup': False},\n",
       " {'nombre': 'AAAAA', 'exp': 8, 'emp': 1, 'sup': False},\n",
       " {'nombre': 'BBBBB', 'exp': 5, 'emp': 3, 'sup': False},\n",
       " {'nombre': 'CCCCC', 'exp': 7, 'emp': 4, 'sup': False},\n",
       " {'nombre': 'DDDDD', 'exp': 5, 'emp': 1, 'sup': False},\n",
       " {'nombre': 'EEEEE', 'exp': 7, 'emp': 2, 'sup': True},\n",
       " {'nombre': 'FFFFF', 'exp': 8, 'emp': 5, 'sup': True},\n",
       " {'nombre': 'GGGGG', 'exp': 8, 'emp': 6, 'sup': True},\n",
       " {'nombre': 'HHHHH', 'exp': 5, 'emp': 6, 'sup': True},\n",
       " {'nombre': 'IIIII', 'exp': 3, 'emp': 6, 'sup': False},\n",
       " {'nombre': 'JJJJJ', 'exp': 5, 'emp': 1, 'sup': False},\n",
       " {'nombre': 'KKKKK', 'exp': 4, 'emp': 4, 'sup': False},\n",
       " {'nombre': 'LLLLL', 'exp': 3, 'emp': 5, 'sup': True},\n",
       " {'nombre': 'MMMMM', 'exp': 8, 'emp': 6, 'sup': False},\n",
       " {'nombre': 'NNNNN', 'exp': 4, 'emp': 2, 'sup': True},\n",
       " {'nombre': 'OOOOO', 'exp': 6, 'emp': 6, 'sup': False},\n",
       " {'nombre': 'PPPPP', 'exp': 2, 'emp': 2, 'sup': True},\n",
       " {'nombre': 'QQQQQ', 'exp': 8, 'emp': 1, 'sup': True},\n",
       " {'nombre': 'RRRRR', 'exp': 2, 'emp': 1, 'sup': False},\n",
       " {'nombre': 'SSSSS', 'exp': 3, 'emp': 5, 'sup': True},\n",
       " {'nombre': 'TTTTT', 'exp': 4, 'emp': 2, 'sup': True},\n",
       " {'nombre': 'UUUUU', 'exp': 3, 'emp': 1, 'sup': False},\n",
       " {'nombre': 'VVVVV', 'exp': 7, 'emp': 4, 'sup': True},\n",
       " {'nombre': 'WWWWW', 'exp': 4, 'emp': 1, 'sup': False},\n",
       " {'nombre': 'XXXXX', 'exp': 8, 'emp': 6, 'sup': True},\n",
       " {'nombre': 'YYYYY', 'exp': 8, 'emp': 2, 'sup': False},\n",
       " {'nombre': 'ZZZZZ', 'exp': 4, 'emp': 5, 'sup': False}]"
      ]
     },
     "execution_count": 33,
     "metadata": {},
     "output_type": "execute_result"
    }
   ],
   "source": [
    "candidatos"
   ]
  },
  {
   "cell_type": "code",
   "execution_count": 34,
   "id": "6ab99372",
   "metadata": {},
   "outputs": [
    {
     "data": {
      "text/plain": [
       "{'nombre': 'GGGGG', 'exp': 8, 'emp': 6, 'sup': True}"
      ]
     },
     "execution_count": 34,
     "metadata": {},
     "output_type": "execute_result"
    }
   ],
   "source": [
    "mejor = reduce(mejorCandidato, candidatos)\n",
    "mejor"
   ]
  },
  {
   "cell_type": "code",
   "execution_count": null,
   "id": "b634848d",
   "metadata": {},
   "outputs": [],
   "source": []
  }
 ],
 "metadata": {
  "kernelspec": {
   "display_name": "Python 3 (ipykernel)",
   "language": "python",
   "name": "python3"
  },
  "language_info": {
   "codemirror_mode": {
    "name": "ipython",
    "version": 3
   },
   "file_extension": ".py",
   "mimetype": "text/x-python",
   "name": "python",
   "nbconvert_exporter": "python",
   "pygments_lexer": "ipython3",
   "version": "3.8.5"
  }
 },
 "nbformat": 4,
 "nbformat_minor": 5
}

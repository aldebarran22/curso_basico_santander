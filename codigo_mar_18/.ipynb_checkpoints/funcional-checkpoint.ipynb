{
 "cells": [
  {
   "cell_type": "markdown",
   "id": "81ef5e17",
   "metadata": {},
   "source": [
    "## Programación funcional"
   ]
  },
  {
   "cell_type": "markdown",
   "id": "14909640",
   "metadata": {},
   "source": [
    "- Iteradores: map, filter, reduce\n",
    "- List comprehession: (dict, set, list)\n",
    "- expresiones generadoras"
   ]
  },
  {
   "cell_type": "code",
   "execution_count": 14,
   "id": "7f7827f3",
   "metadata": {},
   "outputs": [],
   "source": [
    "from random import randint\n",
    "from functools import reduce"
   ]
  },
  {
   "cell_type": "code",
   "execution_count": 2,
   "id": "077ff096",
   "metadata": {},
   "outputs": [
    {
     "data": {
      "text/plain": [
       "[1, 4, 5, 6, 7, 3, 4, 1]"
      ]
     },
     "execution_count": 2,
     "metadata": {},
     "output_type": "execute_result"
    }
   ],
   "source": [
    "L = [1,4,5,6,7,3,4,1]\n",
    "L"
   ]
  },
  {
   "cell_type": "code",
   "execution_count": 3,
   "id": "8b05c318",
   "metadata": {},
   "outputs": [],
   "source": [
    "def calcular(n):\n",
    "    return 2**n"
   ]
  },
  {
   "cell_type": "code",
   "execution_count": 4,
   "id": "1fa24106",
   "metadata": {},
   "outputs": [
    {
     "data": {
      "text/plain": [
       "[2, 16, 32, 64, 128, 8, 16, 2]"
      ]
     },
     "execution_count": 4,
     "metadata": {},
     "output_type": "execute_result"
    }
   ],
   "source": [
    "R = []\n",
    "for i in L:\n",
    "    R.append(calcular(i))\n",
    "R"
   ]
  },
  {
   "cell_type": "markdown",
   "id": "ff70bc50",
   "metadata": {},
   "source": [
    "### map"
   ]
  },
  {
   "cell_type": "code",
   "execution_count": 5,
   "id": "989527b6",
   "metadata": {},
   "outputs": [
    {
     "data": {
      "text/plain": [
       "[2, 16, 32, 64, 128, 8, 16, 2]"
      ]
     },
     "execution_count": 5,
     "metadata": {},
     "output_type": "execute_result"
    }
   ],
   "source": [
    "R2 = list(map(calcular, L))\n",
    "R2"
   ]
  },
  {
   "cell_type": "code",
   "execution_count": 6,
   "id": "4dd072e4",
   "metadata": {},
   "outputs": [
    {
     "data": {
      "text/plain": [
       "[2, 16, 32, 64, 128, 8, 16, 2]"
      ]
     },
     "execution_count": 6,
     "metadata": {},
     "output_type": "execute_result"
    }
   ],
   "source": [
    "R3 = [calcular(i) for i in L]\n",
    "R3"
   ]
  },
  {
   "cell_type": "code",
   "execution_count": 7,
   "id": "4e25c254",
   "metadata": {},
   "outputs": [
    {
     "data": {
      "text/plain": [
       "[2, 16, 32, 64, 128, 8, 16, 2]"
      ]
     },
     "execution_count": 7,
     "metadata": {},
     "output_type": "execute_result"
    }
   ],
   "source": [
    "R4 = [2**i for i in L]\n",
    "R4"
   ]
  },
  {
   "cell_type": "code",
   "execution_count": 8,
   "id": "ec77d670",
   "metadata": {},
   "outputs": [
    {
     "data": {
      "text/plain": [
       "[(6, 1, 6),\n",
       " (6, 2, 12),\n",
       " (6, 3, 18),\n",
       " (6, 4, 24),\n",
       " (6, 5, 30),\n",
       " (6, 6, 36),\n",
       " (6, 7, 42),\n",
       " (6, 8, 48),\n",
       " (6, 9, 54),\n",
       " (6, 10, 60)]"
      ]
     },
     "execution_count": 8,
     "metadata": {},
     "output_type": "execute_result"
    }
   ],
   "source": [
    "tablas = [(i,j,i*j) for i in range(1,11) for j in range(1,11)]\n",
    "tablas[50:60]"
   ]
  },
  {
   "cell_type": "markdown",
   "id": "18f8895e",
   "metadata": {},
   "source": [
    "### filter"
   ]
  },
  {
   "cell_type": "code",
   "execution_count": 9,
   "id": "94729296",
   "metadata": {},
   "outputs": [],
   "source": [
    "def filtro(n):\n",
    "    return 20 <= n <= 30"
   ]
  },
  {
   "cell_type": "code",
   "execution_count": 10,
   "id": "623c2531",
   "metadata": {},
   "outputs": [
    {
     "data": {
      "text/plain": [
       "[48, 7, 37, 8, 25]"
      ]
     },
     "execution_count": 10,
     "metadata": {},
     "output_type": "execute_result"
    }
   ],
   "source": [
    "L = [randint(1,50) for _ in range(50)]\n",
    "L[:5]"
   ]
  },
  {
   "cell_type": "code",
   "execution_count": 11,
   "id": "934ef931",
   "metadata": {},
   "outputs": [
    {
     "data": {
      "text/plain": [
       "[25, 30, 27, 29, 28, 24, 24, 20, 28, 24, 27, 27]"
      ]
     },
     "execution_count": 11,
     "metadata": {},
     "output_type": "execute_result"
    }
   ],
   "source": [
    "R = list(filter(filtro, L))\n",
    "R"
   ]
  },
  {
   "cell_type": "code",
   "execution_count": 12,
   "id": "9cc8018a",
   "metadata": {},
   "outputs": [
    {
     "data": {
      "text/plain": [
       "[25, 30, 27, 29, 28, 24, 24, 20, 28, 24, 27, 27]"
      ]
     },
     "execution_count": 12,
     "metadata": {},
     "output_type": "execute_result"
    }
   ],
   "source": [
    "R2 = [i for i in L if filtro(i)]\n",
    "R2"
   ]
  },
  {
   "cell_type": "code",
   "execution_count": 13,
   "id": "d7451a2e",
   "metadata": {},
   "outputs": [
    {
     "data": {
      "text/plain": [
       "[25, 30, 27, 29, 28, 24, 24, 20, 28, 24, 27, 27]"
      ]
     },
     "execution_count": 13,
     "metadata": {},
     "output_type": "execute_result"
    }
   ],
   "source": [
    "R3 = [i for i in L if 20 <= i <= 30]\n",
    "R3"
   ]
  },
  {
   "cell_type": "markdown",
   "id": "78dd68f6",
   "metadata": {},
   "source": [
    "### reduce"
   ]
  },
  {
   "cell_type": "code",
   "execution_count": 15,
   "id": "30a161bb",
   "metadata": {},
   "outputs": [],
   "source": [
    "def minimo(a,b):\n",
    "    print(a,b)\n",
    "    return a if a < b else b"
   ]
  },
  {
   "cell_type": "code",
   "execution_count": 17,
   "id": "c7941211",
   "metadata": {},
   "outputs": [
    {
     "data": {
      "text/plain": [
       "[48, 7, 37, 8, 25, 18, 9, 4, 30, 12]"
      ]
     },
     "execution_count": 17,
     "metadata": {},
     "output_type": "execute_result"
    }
   ],
   "source": [
    "L = L[:10]\n",
    "L"
   ]
  },
  {
   "cell_type": "code",
   "execution_count": 18,
   "id": "f902dcb0",
   "metadata": {},
   "outputs": [
    {
     "name": "stdout",
     "output_type": "stream",
     "text": [
      "48 7\n",
      "7 37\n",
      "7 8\n",
      "7 25\n",
      "7 18\n",
      "7 9\n",
      "7 4\n",
      "4 30\n",
      "4 12\n"
     ]
    },
    {
     "data": {
      "text/plain": [
       "4"
      ]
     },
     "execution_count": 18,
     "metadata": {},
     "output_type": "execute_result"
    }
   ],
   "source": [
    "resul = reduce(minimo, L)\n",
    "resul"
   ]
  },
  {
   "cell_type": "code",
   "execution_count": 22,
   "id": "e16b6db0",
   "metadata": {},
   "outputs": [
    {
     "name": "stdout",
     "output_type": "stream",
     "text": [
      "{'años': 9, 'empresas': 5, 'superior': False}\n",
      "{'años': 7, 'empresas': 7, 'superior': False}\n",
      "{'años': 7, 'empresas': 7, 'superior': False}\n",
      "{'años': 7, 'empresas': 6, 'superior': True}\n",
      "{'años': 7, 'empresas': 5, 'superior': True}\n",
      "{'años': 7, 'empresas': 5, 'superior': False}\n",
      "{'años': 7, 'empresas': 7, 'superior': True}\n",
      "{'años': 10, 'empresas': 7, 'superior': True}\n",
      "{'años': 10, 'empresas': 6, 'superior': True}\n",
      "{'años': 8, 'empresas': 7, 'superior': True}\n",
      "{'años': 8, 'empresas': 10, 'superior': False}\n",
      "{'años': 10, 'empresas': 8, 'superior': False}\n",
      "{'años': 7, 'empresas': 6, 'superior': True}\n",
      "{'años': 8, 'empresas': 8, 'superior': True}\n",
      "{'años': 9, 'empresas': 10, 'superior': False}\n",
      "{'años': 9, 'empresas': 8, 'superior': False}\n",
      "{'años': 10, 'empresas': 8, 'superior': True}\n",
      "{'años': 8, 'empresas': 7, 'superior': False}\n",
      "{'años': 8, 'empresas': 6, 'superior': False}\n",
      "{'años': 9, 'empresas': 7, 'superior': False}\n",
      "{'años': 10, 'empresas': 10, 'superior': False}\n",
      "{'años': 10, 'empresas': 7, 'superior': True}\n",
      "{'años': 10, 'empresas': 10, 'superior': True}\n",
      "{'años': 7, 'empresas': 8, 'superior': True}\n",
      "{'años': 8, 'empresas': 6, 'superior': False}\n",
      "{'años': 8, 'empresas': 5, 'superior': False}\n",
      "{'años': 9, 'empresas': 8, 'superior': False}\n",
      "{'años': 9, 'empresas': 10, 'superior': False}\n",
      "{'años': 7, 'empresas': 10, 'superior': False}\n",
      "{'años': 10, 'empresas': 5, 'superior': True}\n",
      "{'años': 10, 'empresas': 9, 'superior': False}\n",
      "{'años': 8, 'empresas': 9, 'superior': True}\n",
      "{'años': 9, 'empresas': 5, 'superior': True}\n",
      "{'años': 10, 'empresas': 7, 'superior': True}\n",
      "{'años': 10, 'empresas': 7, 'superior': True}\n"
     ]
    }
   ],
   "source": [
    "candidatos = [{\"años\":randint(7,10), \"empresas\":randint(5,10), \"superior\":randint(1,6) % 2 == 0} for _ in range(35)]\n",
    "for d in candidatos:\n",
    "    print(d)"
   ]
  },
  {
   "cell_type": "code",
   "execution_count": null,
   "id": "a4046687",
   "metadata": {},
   "outputs": [],
   "source": [
    "def mejorCandidato(c1, c2):\n",
    "    \n",
    "    if c1['años'] > c2['años']:\n",
    "        return c1\n",
    "    \n",
    "    elif c2['años'] > c1['años']:\n",
    "        return c2\n",
    "    \n",
    "    else:\n",
    "        if c1['empresas'] > c2['empresas']:\n",
    "            return c1\n",
    "        \n",
    "        elif c2['empresas'] > c1['empresas']:\n",
    "            return c2\n",
    "        \n",
    "        else:\n",
    "            if c1['superior'] and not c2['superior']:\n",
    "                return c1\n",
    "            \n",
    "            elif not c1['superior'] and c2['superior']:\n",
    "                return c2\n",
    "            \n",
    "            else:\n",
    "                return c1"
   ]
  }
 ],
 "metadata": {
  "kernelspec": {
   "display_name": "Python 3 (ipykernel)",
   "language": "python",
   "name": "python3"
  },
  "language_info": {
   "codemirror_mode": {
    "name": "ipython",
    "version": 3
   },
   "file_extension": ".py",
   "mimetype": "text/x-python",
   "name": "python",
   "nbconvert_exporter": "python",
   "pygments_lexer": "ipython3",
   "version": "3.8.5"
  }
 },
 "nbformat": 4,
 "nbformat_minor": 5
}

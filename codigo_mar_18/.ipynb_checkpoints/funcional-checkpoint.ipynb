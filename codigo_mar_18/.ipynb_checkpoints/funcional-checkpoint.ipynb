{
 "cells": [
  {
   "cell_type": "markdown",
   "id": "4d7fb62b",
   "metadata": {},
   "source": [
    "## Programación funcional"
   ]
  },
  {
   "cell_type": "markdown",
   "id": "a4908bf8",
   "metadata": {},
   "source": [
    "- Iteradores: map, filter, reduce\n",
    "- List comprehession: (dict, set, list)\n",
    "- expresiones generadoras"
   ]
  },
  {
   "cell_type": "code",
   "execution_count": 1,
   "id": "749807c3",
   "metadata": {},
   "outputs": [
    {
     "data": {
      "text/plain": [
       "[1, 4, 5, 6, 7, 3, 4, 1]"
      ]
     },
     "execution_count": 1,
     "metadata": {},
     "output_type": "execute_result"
    }
   ],
   "source": [
    "L = [1,4,5,6,7,3,4,1]\n",
    "L"
   ]
  },
  {
   "cell_type": "code",
   "execution_count": null,
   "id": "ab39bd29",
   "metadata": {},
   "outputs": [],
   "source": []
  }
 ],
 "metadata": {
  "kernelspec": {
   "display_name": "Python 3 (ipykernel)",
   "language": "python",
   "name": "python3"
  },
  "language_info": {
   "codemirror_mode": {
    "name": "ipython",
    "version": 3
   },
   "file_extension": ".py",
   "mimetype": "text/x-python",
   "name": "python",
   "nbconvert_exporter": "python",
   "pygments_lexer": "ipython3",
   "version": "3.8.5"
  }
 },
 "nbformat": 4,
 "nbformat_minor": 5
}

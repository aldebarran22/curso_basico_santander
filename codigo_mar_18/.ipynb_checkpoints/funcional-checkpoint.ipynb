{
 "cells": [
  {
   "cell_type": "markdown",
   "id": "eed3aa22",
   "metadata": {},
   "source": [
    "## Programación funcional"
   ]
  },
  {
   "cell_type": "markdown",
   "id": "3cad45d0",
   "metadata": {},
   "source": [
    "- Iteradores: map, filter, reduce\n",
    "- List comprehession: (dict, set, list)\n",
    "- expresiones generadoras"
   ]
  },
  {
   "cell_type": "code",
   "execution_count": 23,
   "id": "a64eb5a8",
   "metadata": {},
   "outputs": [],
   "source": [
    "from random import randint\n",
    "from functools import reduce\n",
    "from string import ascii_letters"
   ]
  },
  {
   "cell_type": "code",
   "execution_count": 2,
   "id": "b9999ce6",
   "metadata": {},
   "outputs": [
    {
     "data": {
      "text/plain": [
       "[1, 4, 5, 6, 7, 3, 4, 1]"
      ]
     },
     "execution_count": 2,
     "metadata": {},
     "output_type": "execute_result"
    }
   ],
   "source": [
    "L = [1,4,5,6,7,3,4,1]\n",
    "L"
   ]
  },
  {
   "cell_type": "code",
   "execution_count": 3,
   "id": "2d35ab2b",
   "metadata": {},
   "outputs": [],
   "source": [
    "def calcular(n):\n",
    "    return 2**n"
   ]
  },
  {
   "cell_type": "code",
   "execution_count": 4,
   "id": "8ef88744",
   "metadata": {},
   "outputs": [
    {
     "data": {
      "text/plain": [
       "[2, 16, 32, 64, 128, 8, 16, 2]"
      ]
     },
     "execution_count": 4,
     "metadata": {},
     "output_type": "execute_result"
    }
   ],
   "source": [
    "R = []\n",
    "for i in L:\n",
    "    R.append(calcular(i))\n",
    "R"
   ]
  },
  {
   "cell_type": "markdown",
   "id": "f11542be",
   "metadata": {},
   "source": [
    "### map"
   ]
  },
  {
   "cell_type": "code",
   "execution_count": 5,
   "id": "975af806",
   "metadata": {},
   "outputs": [
    {
     "data": {
      "text/plain": [
       "[2, 16, 32, 64, 128, 8, 16, 2]"
      ]
     },
     "execution_count": 5,
     "metadata": {},
     "output_type": "execute_result"
    }
   ],
   "source": [
    "R2 = list(map(calcular, L))\n",
    "R2"
   ]
  },
  {
   "cell_type": "code",
   "execution_count": 6,
   "id": "40e05d24",
   "metadata": {},
   "outputs": [
    {
     "data": {
      "text/plain": [
       "[2, 16, 32, 64, 128, 8, 16, 2]"
      ]
     },
     "execution_count": 6,
     "metadata": {},
     "output_type": "execute_result"
    }
   ],
   "source": [
    "R3 = [calcular(i) for i in L]\n",
    "R3"
   ]
  },
  {
   "cell_type": "code",
   "execution_count": 7,
   "id": "e0639b4e",
   "metadata": {},
   "outputs": [
    {
     "data": {
      "text/plain": [
       "[2, 16, 32, 64, 128, 8, 16, 2]"
      ]
     },
     "execution_count": 7,
     "metadata": {},
     "output_type": "execute_result"
    }
   ],
   "source": [
    "R4 = [2**i for i in L]\n",
    "R4"
   ]
  },
  {
   "cell_type": "code",
   "execution_count": 8,
   "id": "a36c1dc6",
   "metadata": {},
   "outputs": [
    {
     "data": {
      "text/plain": [
       "[(6, 1, 6),\n",
       " (6, 2, 12),\n",
       " (6, 3, 18),\n",
       " (6, 4, 24),\n",
       " (6, 5, 30),\n",
       " (6, 6, 36),\n",
       " (6, 7, 42),\n",
       " (6, 8, 48),\n",
       " (6, 9, 54),\n",
       " (6, 10, 60)]"
      ]
     },
     "execution_count": 8,
     "metadata": {},
     "output_type": "execute_result"
    }
   ],
   "source": [
    "tablas = [(i,j,i*j) for i in range(1,11) for j in range(1,11)]\n",
    "tablas[50:60]"
   ]
  },
  {
   "cell_type": "markdown",
   "id": "c5d0e370",
   "metadata": {},
   "source": [
    "### filter"
   ]
  },
  {
   "cell_type": "code",
   "execution_count": 9,
   "id": "d4512b66",
   "metadata": {},
   "outputs": [],
   "source": [
    "def filtro(n):\n",
    "    return 20 <= n <= 30"
   ]
  },
  {
   "cell_type": "code",
   "execution_count": 10,
   "id": "0a6d69ae",
   "metadata": {},
   "outputs": [
    {
     "data": {
      "text/plain": [
       "[48, 7, 37, 8, 25]"
      ]
     },
     "execution_count": 10,
     "metadata": {},
     "output_type": "execute_result"
    }
   ],
   "source": [
    "L = [randint(1,50) for _ in range(50)]\n",
    "L[:5]"
   ]
  },
  {
   "cell_type": "code",
   "execution_count": 11,
   "id": "1cd11ec6",
   "metadata": {},
   "outputs": [
    {
     "data": {
      "text/plain": [
       "[25, 30, 27, 29, 28, 24, 24, 20, 28, 24, 27, 27]"
      ]
     },
     "execution_count": 11,
     "metadata": {},
     "output_type": "execute_result"
    }
   ],
   "source": [
    "R = list(filter(filtro, L))\n",
    "R"
   ]
  },
  {
   "cell_type": "code",
   "execution_count": 12,
   "id": "6b40a092",
   "metadata": {},
   "outputs": [
    {
     "data": {
      "text/plain": [
       "[25, 30, 27, 29, 28, 24, 24, 20, 28, 24, 27, 27]"
      ]
     },
     "execution_count": 12,
     "metadata": {},
     "output_type": "execute_result"
    }
   ],
   "source": [
    "R2 = [i for i in L if filtro(i)]\n",
    "R2"
   ]
  },
  {
   "cell_type": "code",
   "execution_count": 13,
   "id": "56bc9ac9",
   "metadata": {},
   "outputs": [
    {
     "data": {
      "text/plain": [
       "[25, 30, 27, 29, 28, 24, 24, 20, 28, 24, 27, 27]"
      ]
     },
     "execution_count": 13,
     "metadata": {},
     "output_type": "execute_result"
    }
   ],
   "source": [
    "R3 = [i for i in L if 20 <= i <= 30]\n",
    "R3"
   ]
  },
  {
   "cell_type": "markdown",
   "id": "2f6dd002",
   "metadata": {},
   "source": [
    "### reduce"
   ]
  },
  {
   "cell_type": "code",
   "execution_count": 15,
   "id": "386aea6b",
   "metadata": {},
   "outputs": [],
   "source": [
    "def minimo(a,b):\n",
    "    print(a,b)\n",
    "    return a if a < b else b"
   ]
  },
  {
   "cell_type": "code",
   "execution_count": 17,
   "id": "33f96776",
   "metadata": {},
   "outputs": [
    {
     "data": {
      "text/plain": [
       "[48, 7, 37, 8, 25, 18, 9, 4, 30, 12]"
      ]
     },
     "execution_count": 17,
     "metadata": {},
     "output_type": "execute_result"
    }
   ],
   "source": [
    "L = L[:10]\n",
    "L"
   ]
  },
  {
   "cell_type": "code",
   "execution_count": 18,
   "id": "ca297d62",
   "metadata": {},
   "outputs": [
    {
     "name": "stdout",
     "output_type": "stream",
     "text": [
      "48 7\n",
      "7 37\n",
      "7 8\n",
      "7 25\n",
      "7 18\n",
      "7 9\n",
      "7 4\n",
      "4 30\n",
      "4 12\n"
     ]
    },
    {
     "data": {
      "text/plain": [
       "4"
      ]
     },
     "execution_count": 18,
     "metadata": {},
     "output_type": "execute_result"
    }
   ],
   "source": [
    "resul = reduce(minimo, L)\n",
    "resul"
   ]
  },
  {
   "cell_type": "code",
   "execution_count": 24,
   "id": "06676c9b",
   "metadata": {},
   "outputs": [
    {
     "name": "stdout",
     "output_type": "stream",
     "text": [
      "{'nombre': 'aaaaa', 'años': 10, 'empresas': 5, 'superior': True}\n",
      "{'nombre': 'bbbbb', 'años': 10, 'empresas': 8, 'superior': False}\n",
      "{'nombre': 'ccccc', 'años': 10, 'empresas': 5, 'superior': False}\n",
      "{'nombre': 'ddddd', 'años': 9, 'empresas': 7, 'superior': False}\n",
      "{'nombre': 'eeeee', 'años': 7, 'empresas': 7, 'superior': False}\n",
      "{'nombre': 'fffff', 'años': 7, 'empresas': 8, 'superior': False}\n",
      "{'nombre': 'ggggg', 'años': 9, 'empresas': 6, 'superior': True}\n",
      "{'nombre': 'hhhhh', 'años': 10, 'empresas': 6, 'superior': True}\n",
      "{'nombre': 'iiiii', 'años': 8, 'empresas': 10, 'superior': True}\n",
      "{'nombre': 'jjjjj', 'años': 8, 'empresas': 10, 'superior': False}\n",
      "{'nombre': 'kkkkk', 'años': 10, 'empresas': 10, 'superior': False}\n",
      "{'nombre': 'lllll', 'años': 8, 'empresas': 8, 'superior': False}\n",
      "{'nombre': 'mmmmm', 'años': 7, 'empresas': 9, 'superior': False}\n",
      "{'nombre': 'nnnnn', 'años': 8, 'empresas': 9, 'superior': True}\n",
      "{'nombre': 'ooooo', 'años': 10, 'empresas': 7, 'superior': False}\n",
      "{'nombre': 'ppppp', 'años': 7, 'empresas': 8, 'superior': True}\n",
      "{'nombre': 'qqqqq', 'años': 10, 'empresas': 8, 'superior': False}\n",
      "{'nombre': 'rrrrr', 'años': 9, 'empresas': 5, 'superior': False}\n",
      "{'nombre': 'sssss', 'años': 7, 'empresas': 9, 'superior': False}\n",
      "{'nombre': 'ttttt', 'años': 8, 'empresas': 10, 'superior': True}\n",
      "{'nombre': 'uuuuu', 'años': 9, 'empresas': 6, 'superior': False}\n",
      "{'nombre': 'vvvvv', 'años': 8, 'empresas': 6, 'superior': True}\n",
      "{'nombre': 'wwwww', 'años': 7, 'empresas': 10, 'superior': True}\n",
      "{'nombre': 'xxxxx', 'años': 10, 'empresas': 6, 'superior': False}\n",
      "{'nombre': 'yyyyy', 'años': 10, 'empresas': 5, 'superior': False}\n",
      "{'nombre': 'zzzzz', 'años': 7, 'empresas': 5, 'superior': True}\n",
      "{'nombre': 'AAAAA', 'años': 7, 'empresas': 8, 'superior': False}\n",
      "{'nombre': 'BBBBB', 'años': 7, 'empresas': 6, 'superior': False}\n",
      "{'nombre': 'CCCCC', 'años': 10, 'empresas': 9, 'superior': True}\n",
      "{'nombre': 'DDDDD', 'años': 9, 'empresas': 9, 'superior': True}\n",
      "{'nombre': 'EEEEE', 'años': 9, 'empresas': 9, 'superior': False}\n",
      "{'nombre': 'FFFFF', 'años': 7, 'empresas': 5, 'superior': False}\n",
      "{'nombre': 'GGGGG', 'años': 9, 'empresas': 5, 'superior': False}\n",
      "{'nombre': 'HHHHH', 'años': 9, 'empresas': 5, 'superior': True}\n",
      "{'nombre': 'IIIII', 'años': 8, 'empresas': 8, 'superior': False}\n",
      "{'nombre': 'JJJJJ', 'años': 9, 'empresas': 7, 'superior': True}\n",
      "{'nombre': 'KKKKK', 'años': 8, 'empresas': 5, 'superior': False}\n",
      "{'nombre': 'LLLLL', 'años': 10, 'empresas': 10, 'superior': False}\n",
      "{'nombre': 'MMMMM', 'años': 7, 'empresas': 6, 'superior': False}\n",
      "{'nombre': 'NNNNN', 'años': 10, 'empresas': 7, 'superior': False}\n",
      "{'nombre': 'OOOOO', 'años': 8, 'empresas': 5, 'superior': True}\n",
      "{'nombre': 'PPPPP', 'años': 9, 'empresas': 5, 'superior': True}\n",
      "{'nombre': 'QQQQQ', 'años': 8, 'empresas': 9, 'superior': True}\n",
      "{'nombre': 'RRRRR', 'años': 9, 'empresas': 6, 'superior': True}\n",
      "{'nombre': 'SSSSS', 'años': 10, 'empresas': 9, 'superior': False}\n",
      "{'nombre': 'TTTTT', 'años': 9, 'empresas': 8, 'superior': True}\n",
      "{'nombre': 'UUUUU', 'años': 10, 'empresas': 5, 'superior': False}\n",
      "{'nombre': 'VVVVV', 'años': 10, 'empresas': 7, 'superior': False}\n",
      "{'nombre': 'WWWWW', 'años': 10, 'empresas': 6, 'superior': False}\n",
      "{'nombre': 'XXXXX', 'años': 10, 'empresas': 6, 'superior': True}\n",
      "{'nombre': 'YYYYY', 'años': 7, 'empresas': 10, 'superior': True}\n",
      "{'nombre': 'ZZZZZ', 'años': 7, 'empresas': 7, 'superior': True}\n"
     ]
    }
   ],
   "source": [
    "candidatos = [{\"nombre\": letra * 5,\"años\":randint(7,10), \"empresas\":randint(5,10), \"superior\":randint(1,6) % 2 == 0} for letra in ascii_letters]\n",
    "for d in candidatos:\n",
    "    print(d)"
   ]
  },
  {
   "cell_type": "code",
   "execution_count": 25,
   "id": "a88cbc05",
   "metadata": {},
   "outputs": [],
   "source": [
    "def mejorCandidato(c1, c2):\n",
    "    \n",
    "    if c1['años'] > c2['años']:\n",
    "        return c1\n",
    "    \n",
    "    elif c2['años'] > c1['años']:\n",
    "        return c2\n",
    "    \n",
    "    else:\n",
    "        if c1['empresas'] > c2['empresas']:\n",
    "            return c1\n",
    "        \n",
    "        elif c2['empresas'] > c1['empresas']:\n",
    "            return c2\n",
    "        \n",
    "        else:\n",
    "            if c1['superior'] and not c2['superior']:\n",
    "                return c1\n",
    "            \n",
    "            elif not c1['superior'] and c2['superior']:\n",
    "                return c2\n",
    "            \n",
    "            else:\n",
    "                return c1"
   ]
  },
  {
   "cell_type": "code",
   "execution_count": 26,
   "id": "0a938aba",
   "metadata": {},
   "outputs": [
    {
     "data": {
      "text/plain": [
       "{'nombre': 'kkkkk', 'años': 10, 'empresas': 10, 'superior': False}"
      ]
     },
     "execution_count": 26,
     "metadata": {},
     "output_type": "execute_result"
    }
   ],
   "source": [
    "elMejor = reduce(mejorCandidato, candidatos)\n",
    "elMejor"
   ]
  },
  {
   "cell_type": "code",
   "execution_count": 31,
   "id": "a27f77ed",
   "metadata": {},
   "outputs": [],
   "source": [
    "def comparar(elMejor, c):\n",
    "    L1 = list(elMejor.values())[1:]\n",
    "    L2 = list(c.values())[1:]\n",
    "    return L1 == L2"
   ]
  },
  {
   "cell_type": "code",
   "execution_count": 32,
   "id": "4cbdd26e",
   "metadata": {},
   "outputs": [],
   "source": [
    "mejoresCandidatos = [c for c in candidatos if comparar(elMejor, c)]"
   ]
  },
  {
   "cell_type": "code",
   "execution_count": 33,
   "id": "da616ff8",
   "metadata": {},
   "outputs": [
    {
     "data": {
      "text/plain": [
       "[{'nombre': 'kkkkk', 'años': 10, 'empresas': 10, 'superior': False},\n",
       " {'nombre': 'LLLLL', 'años': 10, 'empresas': 10, 'superior': False}]"
      ]
     },
     "execution_count": 33,
     "metadata": {},
     "output_type": "execute_result"
    }
   ],
   "source": [
    "mejoresCandidatos"
   ]
  },
  {
   "cell_type": "code",
   "execution_count": 30,
   "id": "59255717",
   "metadata": {},
   "outputs": [
    {
     "data": {
      "text/plain": [
       "[8, 5, False]"
      ]
     },
     "execution_count": 30,
     "metadata": {},
     "output_type": "execute_result"
    }
   ],
   "source": [
    "d = {'nombre': 'KKKKK', 'años': 8, 'empresas': 5, 'superior': False}\n",
    "L = list(d.values())[1:]\n",
    "L"
   ]
  },
  {
   "cell_type": "code",
   "execution_count": null,
   "id": "bd680330",
   "metadata": {},
   "outputs": [],
   "source": []
  }
 ],
 "metadata": {
  "kernelspec": {
   "display_name": "Python 3 (ipykernel)",
   "language": "python",
   "name": "python3"
  },
  "language_info": {
   "codemirror_mode": {
    "name": "ipython",
    "version": 3
   },
   "file_extension": ".py",
   "mimetype": "text/x-python",
   "name": "python",
   "nbconvert_exporter": "python",
   "pygments_lexer": "ipython3",
   "version": "3.8.5"
  }
 },
 "nbformat": 4,
 "nbformat_minor": 5
}

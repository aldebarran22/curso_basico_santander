{
 "cells": [
  {
   "cell_type": "markdown",
   "id": "236a3c6e",
   "metadata": {},
   "source": [
    "## Programación Funcional con Python"
   ]
  },
  {
   "cell_type": "markdown",
   "id": "270d3100",
   "metadata": {},
   "source": [
    "### map, filter, reduce y list compre."
   ]
  },
  {
   "cell_type": "code",
   "execution_count": 13,
   "id": "065961be",
   "metadata": {},
   "outputs": [],
   "source": [
    "from random import randint"
   ]
  },
  {
   "cell_type": "code",
   "execution_count": 1,
   "id": "19aced80",
   "metadata": {},
   "outputs": [],
   "source": [
    "def cuadrado(n):\n",
    "    return n**2"
   ]
  },
  {
   "cell_type": "code",
   "execution_count": 2,
   "id": "0b6b59e5",
   "metadata": {},
   "outputs": [
    {
     "data": {
      "text/plain": [
       "[3, 5, 6, 7, 1, 2, 3]"
      ]
     },
     "execution_count": 2,
     "metadata": {},
     "output_type": "execute_result"
    }
   ],
   "source": [
    "L = [3,5,6,7,1,2,3]\n",
    "L"
   ]
  },
  {
   "cell_type": "code",
   "execution_count": 4,
   "id": "24deeb93",
   "metadata": {},
   "outputs": [
    {
     "data": {
      "text/plain": [
       "[9, 25, 36, 49, 1, 4, 9]"
      ]
     },
     "execution_count": 4,
     "metadata": {},
     "output_type": "execute_result"
    }
   ],
   "source": [
    "L2 = list(map(cuadrado, L))\n",
    "L2"
   ]
  },
  {
   "cell_type": "code",
   "execution_count": 5,
   "id": "aae3bc78",
   "metadata": {},
   "outputs": [
    {
     "data": {
      "text/plain": [
       "[9, 25, 36, 49, 1, 4, 9]"
      ]
     },
     "execution_count": 5,
     "metadata": {},
     "output_type": "execute_result"
    }
   ],
   "source": [
    "L3 = [cuadrado(i) for i in L]\n",
    "L3"
   ]
  },
  {
   "cell_type": "code",
   "execution_count": 6,
   "id": "22ed0532",
   "metadata": {},
   "outputs": [
    {
     "data": {
      "text/plain": [
       "[9, 25, 36, 49, 1, 4, 9]"
      ]
     },
     "execution_count": 6,
     "metadata": {},
     "output_type": "execute_result"
    }
   ],
   "source": [
    "L4 = [i**2 for i in L]\n",
    "L4"
   ]
  },
  {
   "cell_type": "code",
   "execution_count": 7,
   "id": "f0aad9c0",
   "metadata": {},
   "outputs": [],
   "source": [
    "def filtro(n):\n",
    "    # return n % 3 == 0\n",
    "    return True if n % 3 == 0 else False"
   ]
  },
  {
   "cell_type": "code",
   "execution_count": 8,
   "id": "b36ce8d5",
   "metadata": {},
   "outputs": [
    {
     "data": {
      "text/plain": [
       "[9, 36, 9]"
      ]
     },
     "execution_count": 8,
     "metadata": {},
     "output_type": "execute_result"
    }
   ],
   "source": [
    "L5 = list(filter(filtro, L4))\n",
    "L5"
   ]
  },
  {
   "cell_type": "code",
   "execution_count": 9,
   "id": "b2b27ff2",
   "metadata": {},
   "outputs": [
    {
     "data": {
      "text/plain": [
       "[9, 36, 9]"
      ]
     },
     "execution_count": 9,
     "metadata": {},
     "output_type": "execute_result"
    }
   ],
   "source": [
    "L6 = [i for i in L4 if filtro(i)]\n",
    "L6"
   ]
  },
  {
   "cell_type": "code",
   "execution_count": 10,
   "id": "278b4391",
   "metadata": {},
   "outputs": [
    {
     "data": {
      "text/plain": [
       "[9, 36, 9]"
      ]
     },
     "execution_count": 10,
     "metadata": {},
     "output_type": "execute_result"
    }
   ],
   "source": [
    "L6 = [i for i in L4 if i % 3 == 0]\n",
    "L6"
   ]
  },
  {
   "cell_type": "code",
   "execution_count": 11,
   "id": "f1a69192",
   "metadata": {},
   "outputs": [
    {
     "data": {
      "text/plain": [
       "[(3, 5), (3, 6), (3, 4), (2, 5), (2, 6), (2, 4), (1, 5), (1, 6), (1, 4)]"
      ]
     },
     "execution_count": 11,
     "metadata": {},
     "output_type": "execute_result"
    }
   ],
   "source": [
    "L1 = [3,2,1]\n",
    "L2 = [5,6,4]\n",
    "resul = [(i,j) for i in L1 for j in L2]\n",
    "resul"
   ]
  },
  {
   "cell_type": "code",
   "execution_count": 12,
   "id": "62776929",
   "metadata": {},
   "outputs": [
    {
     "data": {
      "text/plain": [
       "{1: 2, 2: 4, 3: 8, 4: 16, 5: 32, 6: 64, 7: 128, 8: 256, 9: 512, 10: 1024}"
      ]
     },
     "execution_count": 12,
     "metadata": {},
     "output_type": "execute_result"
    }
   ],
   "source": [
    "# Generar un diccionario con las potencias de 2. \n",
    "# La clave será el exponente y el valor el resultado\n",
    "d = {0:1, 1:2, 2:4, 3:8}\n",
    "d = {i:2**i for i in range(1,11)}\n",
    "d"
   ]
  },
  {
   "cell_type": "code",
   "execution_count": 14,
   "id": "cf9eb9d2",
   "metadata": {},
   "outputs": [
    {
     "data": {
      "text/plain": [
       "[14, 20, 34, 42, 30, 29, 12, 32, 2, 41, 37, 6, 29, 13, 15, 7, 20, 8, 24, 11]"
      ]
     },
     "execution_count": 14,
     "metadata": {},
     "output_type": "execute_result"
    }
   ],
   "source": [
    "L = [randint(1,50) for _ in range(20)]\n",
    "L"
   ]
  },
  {
   "cell_type": "code",
   "execution_count": 15,
   "id": "e3f81f53",
   "metadata": {},
   "outputs": [
    {
     "data": {
      "text/plain": [
       "{2, 8, 9, 19, 24, 27, 31, 32, 38, 42, 43, 46, 48, 50}"
      ]
     },
     "execution_count": 15,
     "metadata": {},
     "output_type": "execute_result"
    }
   ],
   "source": [
    "c = {randint(1,50) for _ in range(20)}\n",
    "c"
   ]
  },
  {
   "cell_type": "code",
   "execution_count": 16,
   "id": "e40f61d7",
   "metadata": {},
   "outputs": [
    {
     "data": {
      "text/plain": [
       "<generator object <genexpr> at 0x000001F8CCEA97B0>"
      ]
     },
     "execution_count": 16,
     "metadata": {},
     "output_type": "execute_result"
    }
   ],
   "source": [
    "t = (randint(1,50) for _ in range(20))\n",
    "t"
   ]
  },
  {
   "cell_type": "code",
   "execution_count": 17,
   "id": "72ebf6c5",
   "metadata": {},
   "outputs": [
    {
     "data": {
      "text/plain": [
       "(40, 19, 5, 29, 28, 16, 5, 46, 23, 22, 25, 4, 9, 26, 24, 43, 38, 10, 29, 49)"
      ]
     },
     "execution_count": 17,
     "metadata": {},
     "output_type": "execute_result"
    }
   ],
   "source": [
    "t2 = tuple([randint(1,50) for _ in range(20)])\n",
    "t2"
   ]
  },
  {
   "cell_type": "code",
   "execution_count": 20,
   "id": "1bbfd4f2",
   "metadata": {},
   "outputs": [],
   "source": [
    "def suma(x,y):\n",
    "    print(x,y)\n",
    "    return x+y"
   ]
  },
  {
   "cell_type": "code",
   "execution_count": 21,
   "id": "9d6371aa",
   "metadata": {
    "scrolled": false
   },
   "outputs": [
    {
     "name": "stdout",
     "output_type": "stream",
     "text": [
      "14 20\n",
      "34 34\n",
      "68 42\n",
      "110 30\n",
      "140 29\n",
      "169 12\n",
      "181 32\n",
      "213 2\n",
      "215 41\n",
      "256 37\n",
      "293 6\n",
      "299 29\n",
      "328 13\n",
      "341 15\n",
      "356 7\n",
      "363 20\n",
      "383 8\n",
      "391 24\n",
      "415 11\n"
     ]
    },
    {
     "data": {
      "text/plain": [
       "426"
      ]
     },
     "execution_count": 21,
     "metadata": {},
     "output_type": "execute_result"
    }
   ],
   "source": [
    "from functools import reduce\n",
    "x = reduce(suma, L)\n",
    "x"
   ]
  },
  {
   "cell_type": "code",
   "execution_count": null,
   "id": "3079b004",
   "metadata": {},
   "outputs": [],
   "source": []
  }
 ],
 "metadata": {
  "kernelspec": {
   "display_name": "Python 3 (ipykernel)",
   "language": "python",
   "name": "python3"
  },
  "language_info": {
   "codemirror_mode": {
    "name": "ipython",
    "version": 3
   },
   "file_extension": ".py",
   "mimetype": "text/x-python",
   "name": "python",
   "nbconvert_exporter": "python",
   "pygments_lexer": "ipython3",
   "version": "3.8.5"
  }
 },
 "nbformat": 4,
 "nbformat_minor": 5
}

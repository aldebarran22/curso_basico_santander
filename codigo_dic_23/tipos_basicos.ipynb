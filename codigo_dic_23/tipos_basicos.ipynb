{
 "cells": [
  {
   "cell_type": "markdown",
   "id": "c2431c5e",
   "metadata": {},
   "source": [
    "## Pruebas con tipos básicos"
   ]
  },
  {
   "cell_type": "markdown",
   "id": "335b9a8b",
   "metadata": {},
   "source": [
    "Definición de variables y conversiones de tipos simples"
   ]
  },
  {
   "cell_type": "code",
   "execution_count": 1,
   "id": "34001482",
   "metadata": {},
   "outputs": [
    {
     "data": {
      "text/plain": [
       "100"
      ]
     },
     "execution_count": 1,
     "metadata": {},
     "output_type": "execute_result"
    }
   ],
   "source": [
    "numero = 100\n",
    "numero"
   ]
  },
  {
   "cell_type": "code",
   "execution_count": 2,
   "id": "9f828810",
   "metadata": {},
   "outputs": [],
   "source": [
    "# definir dos variables\n",
    "real = 70.9\n",
    "complejo = 4+3j"
   ]
  },
  {
   "cell_type": "code",
   "execution_count": 3,
   "id": "464a1ccb",
   "metadata": {},
   "outputs": [
    {
     "data": {
      "text/plain": [
       "(174.9+3j)"
      ]
     },
     "execution_count": 3,
     "metadata": {},
     "output_type": "execute_result"
    }
   ],
   "source": [
    "resul = numero + real + complejo\n",
    "resul"
   ]
  },
  {
   "cell_type": "code",
   "execution_count": 4,
   "id": "c0fd95f6",
   "metadata": {},
   "outputs": [
    {
     "name": "stdout",
     "output_type": "stream",
     "text": [
      "100 <class 'int'>\n",
      "70.9 <class 'float'>\n",
      "(4+3j) <class 'complex'>\n"
     ]
    }
   ],
   "source": [
    "print(numero, type(numero))\n",
    "print(real, type(real))\n",
    "print(complejo, type(complejo))\n"
   ]
  },
  {
   "cell_type": "code",
   "execution_count": 5,
   "id": "12b9c2b3",
   "metadata": {},
   "outputs": [
    {
     "data": {
      "text/plain": [
       "534362554845387984429285717632078264404288886701292664674348522803815713962719368388235666590605403677248156163757205903151663471252295262323428554065966415119622859595311765695862653081931610727643220493235980821067016368596072933871898558447311260924172452892154994718383894837560902079215434740406586067213948236319846971454630912532664174303743711065026766611328884448241698834673057727410176920463272481071110614520981385979622714871558146978674186608922401845176115263154524360989762752964387193869798200475394349488330738864555948027101595246612784073865855211779163799776897551488316148055324599120037091729264355737502650438134597631978363640183648542025849814482994659139982520532615470431227895343047487431398063671068137021202741283977918697421562827307287757095088143275997734455443252789856625079352313256367028049552390678654760506344512196496528709277797277493931755363058736709353460070871445241744376336608530426787624136625688526119133159450990063433974287582908305244200774830116288326128099340057046181432100217642781322503003229892736183887814961311563087865136900075349183688294886983672488126230751923378053718980772724415188844804513035348819398467905119902101998014333916472260923120653298671929918745244387797987466310871755402142469270718693734764580297770247364464159723408761558993632966934277763892076802667575778825233237218760001"
      ]
     },
     "execution_count": 5,
     "metadata": {},
     "output_type": "execute_result"
    }
   ],
   "source": [
    "23**1000"
   ]
  },
  {
   "cell_type": "code",
   "execution_count": null,
   "id": "ed86c18b",
   "metadata": {},
   "outputs": [],
   "source": []
  },
  {
   "cell_type": "code",
   "execution_count": null,
   "id": "7a8eebde",
   "metadata": {},
   "outputs": [],
   "source": []
  },
  {
   "cell_type": "code",
   "execution_count": null,
   "id": "5abfb657",
   "metadata": {},
   "outputs": [],
   "source": []
  }
 ],
 "metadata": {
  "kernelspec": {
   "display_name": "Python 3 (ipykernel)",
   "language": "python",
   "name": "python3"
  },
  "language_info": {
   "codemirror_mode": {
    "name": "ipython",
    "version": 3
   },
   "file_extension": ".py",
   "mimetype": "text/x-python",
   "name": "python",
   "nbconvert_exporter": "python",
   "pygments_lexer": "ipython3",
   "version": "3.9.13"
  }
 },
 "nbformat": 4,
 "nbformat_minor": 5
}

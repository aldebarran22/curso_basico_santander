{
 "cells": [
  {
   "cell_type": "markdown",
   "id": "53914713",
   "metadata": {},
   "source": [
    "## Diccionarios en Python"
   ]
  },
  {
   "cell_type": "markdown",
   "id": "55f0b601",
   "metadata": {},
   "source": [
    "Definición de diccionarios"
   ]
  },
  {
   "cell_type": "code",
   "execution_count": 1,
   "id": "4b0c9df5",
   "metadata": {},
   "outputs": [
    {
     "data": {
      "text/plain": [
       "{'a': 1, 'b': 2, 'c': 3}"
      ]
     },
     "execution_count": 1,
     "metadata": {},
     "output_type": "execute_result"
    }
   ],
   "source": [
    "d = {'a':1, 'b':2, 'c':3}\n",
    "d"
   ]
  },
  {
   "cell_type": "code",
   "execution_count": 2,
   "id": "7a27ffcd",
   "metadata": {},
   "outputs": [
    {
     "data": {
      "text/plain": [
       "2"
      ]
     },
     "execution_count": 2,
     "metadata": {},
     "output_type": "execute_result"
    }
   ],
   "source": [
    "d['b']"
   ]
  },
  {
   "cell_type": "code",
   "execution_count": 3,
   "id": "72443bd1",
   "metadata": {},
   "outputs": [
    {
     "data": {
      "text/plain": [
       "{'a': 1, 'b': 2, 'c': 300, 'e': 5}"
      ]
     },
     "execution_count": 3,
     "metadata": {},
     "output_type": "execute_result"
    }
   ],
   "source": [
    "d['e'] = 5\n",
    "d['c'] = 300\n",
    "d"
   ]
  },
  {
   "cell_type": "markdown",
   "id": "6f3c1bec",
   "metadata": {},
   "source": [
    "Crear un diccionario con la función zip"
   ]
  },
  {
   "cell_type": "code",
   "execution_count": 6,
   "id": "2aba1bbe",
   "metadata": {},
   "outputs": [
    {
     "name": "stdout",
     "output_type": "stream",
     "text": [
      "{'a': 0, 'd': 1, 'i': 2, 'o': 3, 's': 4}\n"
     ]
    }
   ],
   "source": [
    "letras = 'adiosrt'\n",
    "L = list(range(5))\n",
    "d2 = dict(zip(letras, L))\n",
    "print(d2)"
   ]
  },
  {
   "cell_type": "code",
   "execution_count": 7,
   "id": "4fe49261",
   "metadata": {},
   "outputs": [
    {
     "name": "stdout",
     "output_type": "stream",
     "text": [
      "{0: 'a', 1: 'd', 2: 'i', 3: 'o', 4: 's'}\n"
     ]
    }
   ],
   "source": [
    "d3 = dict(zip(L, letras))\n",
    "print(d3)"
   ]
  },
  {
   "cell_type": "code",
   "execution_count": 9,
   "id": "ceacdeaf",
   "metadata": {},
   "outputs": [
    {
     "name": "stdout",
     "output_type": "stream",
     "text": [
      "('a', 0) <class 'tuple'>\n",
      "('d', 1) <class 'tuple'>\n",
      "('i', 2) <class 'tuple'>\n",
      "('o', 3) <class 'tuple'>\n",
      "('s', 4) <class 'tuple'>\n"
     ]
    }
   ],
   "source": [
    "for t in d2.items():\n",
    "    print(t, type(t))"
   ]
  },
  {
   "cell_type": "code",
   "execution_count": 10,
   "id": "74939573",
   "metadata": {},
   "outputs": [
    {
     "name": "stdout",
     "output_type": "stream",
     "text": [
      "a 0\n",
      "d 1\n",
      "i 2\n",
      "o 3\n",
      "s 4\n"
     ]
    }
   ],
   "source": [
    "for k,v in d2.items():\n",
    "    print(k,v)"
   ]
  },
  {
   "cell_type": "code",
   "execution_count": 11,
   "id": "2d1835d1",
   "metadata": {},
   "outputs": [
    {
     "name": "stdout",
     "output_type": "stream",
     "text": [
      "True\n",
      "False\n"
     ]
    }
   ],
   "source": [
    "print('a' in d2)\n",
    "print('z' in d2)"
   ]
  },
  {
   "cell_type": "code",
   "execution_count": 12,
   "id": "5cc7b024",
   "metadata": {},
   "outputs": [
    {
     "name": "stdout",
     "output_type": "stream",
     "text": [
      "True\n"
     ]
    }
   ],
   "source": [
    "print(3 in d2.values())"
   ]
  },
  {
   "cell_type": "code",
   "execution_count": 13,
   "id": "c9784509",
   "metadata": {},
   "outputs": [
    {
     "name": "stdout",
     "output_type": "stream",
     "text": [
      "dict_keys(['a', 'd', 'i', 'o', 's'])\n",
      "dict_values([0, 1, 2, 3, 4])\n",
      "dict_items([('a', 0), ('d', 1), ('i', 2), ('o', 3), ('s', 4)])\n"
     ]
    }
   ],
   "source": [
    "print(d2.keys())\n",
    "print(d2.values())\n",
    "print(d2.items())"
   ]
  },
  {
   "cell_type": "markdown",
   "id": "9296fa72",
   "metadata": {},
   "source": [
    "Uso de diccionarios para crear histogramas"
   ]
  },
  {
   "cell_type": "code",
   "execution_count": 14,
   "id": "a5e419a1",
   "metadata": {},
   "outputs": [
    {
     "data": {
      "text/plain": [
       "{1: 4, 2: 5, 3: 2, 4: 4, 5: 3, 6: 4, 7: 5, 8: 2, 9: 1, 0: 1}"
      ]
     },
     "execution_count": 14,
     "metadata": {},
     "output_type": "execute_result"
    }
   ],
   "source": [
    "# diccionario: clave es el número y el valor el número de veces que se repite.\n",
    "L = [1,2,2,3,3,2,1,1,4,5,6,7,6,7,7,7,7,6,5,4,8,8,9,0,5,4,2,1,2,4,6]\n",
    "histo = dict()\n",
    "\n",
    "for i in L:\n",
    "    if i in histo:\n",
    "        histo[i] += 1\n",
    "    else:\n",
    "        histo[i] = 1\n",
    "        \n",
    "histo\n"
   ]
  },
  {
   "cell_type": "code",
   "execution_count": 15,
   "id": "72640127",
   "metadata": {},
   "outputs": [
    {
     "name": "stdout",
     "output_type": "stream",
     "text": [
      "[1, 2, 3, 4, 5, 6, 7, 8, 9, 0]\n",
      "[4, 5, 2, 4, 3, 4, 5, 2, 1, 1]\n"
     ]
    }
   ],
   "source": [
    "Lk = list(histo.keys())\n",
    "Lv = list(histo.values())\n",
    "print(Lk)\n",
    "print(Lv)"
   ]
  },
  {
   "cell_type": "code",
   "execution_count": null,
   "id": "16ce1eaf",
   "metadata": {},
   "outputs": [],
   "source": []
  }
 ],
 "metadata": {
  "kernelspec": {
   "display_name": "Python 3 (ipykernel)",
   "language": "python",
   "name": "python3"
  },
  "language_info": {
   "codemirror_mode": {
    "name": "ipython",
    "version": 3
   },
   "file_extension": ".py",
   "mimetype": "text/x-python",
   "name": "python",
   "nbconvert_exporter": "python",
   "pygments_lexer": "ipython3",
   "version": "3.9.13"
  }
 },
 "nbformat": 4,
 "nbformat_minor": 5
}

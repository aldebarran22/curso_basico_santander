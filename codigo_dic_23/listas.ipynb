{
 "cells": [
  {
   "cell_type": "markdown",
   "id": "3516b096",
   "metadata": {},
   "source": [
    "## Listas en Python"
   ]
  },
  {
   "cell_type": "markdown",
   "id": "81d3cf3a",
   "metadata": {},
   "source": [
    "Definición de listas"
   ]
  },
  {
   "cell_type": "code",
   "execution_count": 1,
   "id": "8bca084a",
   "metadata": {},
   "outputs": [
    {
     "data": {
      "text/plain": [
       "[4, 5, 6, 3, 3, 3, 11, 2, 3, 5]"
      ]
     },
     "execution_count": 1,
     "metadata": {},
     "output_type": "execute_result"
    }
   ],
   "source": [
    "L = [4,5,6,3,3,3,11,2,3,5]\n",
    "L"
   ]
  },
  {
   "cell_type": "markdown",
   "id": "7cec4732",
   "metadata": {},
   "source": [
    "Acceso a los elementos"
   ]
  },
  {
   "cell_type": "code",
   "execution_count": 4,
   "id": "00a24761",
   "metadata": {},
   "outputs": [
    {
     "data": {
      "text/plain": [
       "5"
      ]
     },
     "execution_count": 4,
     "metadata": {},
     "output_type": "execute_result"
    }
   ],
   "source": [
    "L[1]"
   ]
  },
  {
   "cell_type": "code",
   "execution_count": 5,
   "id": "6ebe5a6f",
   "metadata": {},
   "outputs": [
    {
     "data": {
      "text/plain": [
       "[4, 5, 6, 33, 3, 3, 11, 2, 3, 5]"
      ]
     },
     "execution_count": 5,
     "metadata": {},
     "output_type": "execute_result"
    }
   ],
   "source": [
    "L[3] = 33\n",
    "L"
   ]
  },
  {
   "cell_type": "code",
   "execution_count": 6,
   "id": "8df1de9e",
   "metadata": {},
   "outputs": [
    {
     "data": {
      "text/plain": [
       "['h', 'o', 'l', 'a', ' ', 'q', 'u', 'e', ' ', 't', 'a', 'l']"
      ]
     },
     "execution_count": 6,
     "metadata": {},
     "output_type": "execute_result"
    }
   ],
   "source": [
    "L2 = list('hola que tal')\n",
    "L2"
   ]
  },
  {
   "cell_type": "code",
   "execution_count": 7,
   "id": "eea7f723",
   "metadata": {},
   "outputs": [
    {
     "data": {
      "text/plain": [
       "True"
      ]
     },
     "execution_count": 7,
     "metadata": {},
     "output_type": "execute_result"
    }
   ],
   "source": [
    "'a' in L2"
   ]
  },
  {
   "cell_type": "code",
   "execution_count": 8,
   "id": "e89f5095",
   "metadata": {},
   "outputs": [
    {
     "data": {
      "text/plain": [
       "False"
      ]
     },
     "execution_count": 8,
     "metadata": {},
     "output_type": "execute_result"
    }
   ],
   "source": [
    "'z' in L2"
   ]
  },
  {
   "cell_type": "markdown",
   "id": "b8b3f8b1",
   "metadata": {},
   "source": [
    "Copiar una lista"
   ]
  },
  {
   "cell_type": "code",
   "execution_count": 11,
   "id": "bba2fecc",
   "metadata": {},
   "outputs": [
    {
     "name": "stdout",
     "output_type": "stream",
     "text": [
      "L [1000, 2, 3, 4, 5] 2704325977536\n",
      "L2 [1000, 2, 3, 4, 5] 2704325977536\n"
     ]
    }
   ],
   "source": [
    "# OJO es una referencia a la misma lista\n",
    "L = [1,2,3,4,5]\n",
    "L2 = L\n",
    "L[0] = 1000\n",
    "print('L',L, id(L))\n",
    "print('L2',L2, id(L2))"
   ]
  },
  {
   "cell_type": "code",
   "execution_count": 12,
   "id": "65fe5774",
   "metadata": {},
   "outputs": [
    {
     "name": "stdout",
     "output_type": "stream",
     "text": [
      "L [1000, 2, 3, 4, 5] 2704325981696\n",
      "L2 [1, 2, 3, 4, 5] 2704324183424\n"
     ]
    }
   ],
   "source": [
    "# Crea una copia (pero solo funciona bien con elementos inmutables)\n",
    "L = [1,2,3,4,5]\n",
    "L2 = L.copy()\n",
    "L[0] = 1000\n",
    "print('L',L, id(L))\n",
    "print('L2',L2, id(L2))"
   ]
  },
  {
   "cell_type": "code",
   "execution_count": 14,
   "id": "7599f4ef",
   "metadata": {},
   "outputs": [
    {
     "name": "stdout",
     "output_type": "stream",
     "text": [
      "hola 2704325691504\n",
      "HOLA 2704325927600\n"
     ]
    }
   ],
   "source": [
    "cadena1 = \"hola\"\n",
    "cadena2 = cadena1.upper()\n",
    "print(cadena1, id(cadena1))\n",
    "print(cadena2, id(cadena2))\n"
   ]
  },
  {
   "cell_type": "code",
   "execution_count": null,
   "id": "725db30d",
   "metadata": {},
   "outputs": [],
   "source": []
  }
 ],
 "metadata": {
  "kernelspec": {
   "display_name": "Python 3 (ipykernel)",
   "language": "python",
   "name": "python3"
  },
  "language_info": {
   "codemirror_mode": {
    "name": "ipython",
    "version": 3
   },
   "file_extension": ".py",
   "mimetype": "text/x-python",
   "name": "python",
   "nbconvert_exporter": "python",
   "pygments_lexer": "ipython3",
   "version": "3.9.13"
  }
 },
 "nbformat": 4,
 "nbformat_minor": 5
}

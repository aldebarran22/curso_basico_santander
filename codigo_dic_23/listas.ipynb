{
 "cells": [
  {
   "cell_type": "markdown",
   "id": "89953d47",
   "metadata": {},
   "source": [
    "## Listas en Python"
   ]
  },
  {
   "cell_type": "markdown",
   "id": "cc3d382a",
   "metadata": {},
   "source": [
    "Definición de listas"
   ]
  },
  {
   "cell_type": "code",
   "execution_count": 1,
   "id": "fb858c4b",
   "metadata": {},
   "outputs": [
    {
     "data": {
      "text/plain": [
       "[4, 5, 6, 3, 3, 3, 11, 2, 3, 5]"
      ]
     },
     "execution_count": 1,
     "metadata": {},
     "output_type": "execute_result"
    }
   ],
   "source": [
    "L = [4,5,6,3,3,3,11,2,3,5]\n",
    "L"
   ]
  },
  {
   "cell_type": "markdown",
   "id": "1833cf70",
   "metadata": {},
   "source": [
    "Acceso a los elementos"
   ]
  },
  {
   "cell_type": "code",
   "execution_count": 4,
   "id": "c817ad2a",
   "metadata": {},
   "outputs": [
    {
     "data": {
      "text/plain": [
       "5"
      ]
     },
     "execution_count": 4,
     "metadata": {},
     "output_type": "execute_result"
    }
   ],
   "source": [
    "L[1]"
   ]
  },
  {
   "cell_type": "code",
   "execution_count": 5,
   "id": "bf56358b",
   "metadata": {},
   "outputs": [
    {
     "data": {
      "text/plain": [
       "[4, 5, 6, 33, 3, 3, 11, 2, 3, 5]"
      ]
     },
     "execution_count": 5,
     "metadata": {},
     "output_type": "execute_result"
    }
   ],
   "source": [
    "L[3] = 33\n",
    "L"
   ]
  },
  {
   "cell_type": "code",
   "execution_count": 6,
   "id": "550b684b",
   "metadata": {},
   "outputs": [
    {
     "data": {
      "text/plain": [
       "['h', 'o', 'l', 'a', ' ', 'q', 'u', 'e', ' ', 't', 'a', 'l']"
      ]
     },
     "execution_count": 6,
     "metadata": {},
     "output_type": "execute_result"
    }
   ],
   "source": [
    "L2 = list('hola que tal')\n",
    "L2"
   ]
  },
  {
   "cell_type": "code",
   "execution_count": 7,
   "id": "30c4924b",
   "metadata": {},
   "outputs": [
    {
     "data": {
      "text/plain": [
       "True"
      ]
     },
     "execution_count": 7,
     "metadata": {},
     "output_type": "execute_result"
    }
   ],
   "source": [
    "'a' in L2"
   ]
  },
  {
   "cell_type": "code",
   "execution_count": 8,
   "id": "f23e51dc",
   "metadata": {},
   "outputs": [
    {
     "data": {
      "text/plain": [
       "False"
      ]
     },
     "execution_count": 8,
     "metadata": {},
     "output_type": "execute_result"
    }
   ],
   "source": [
    "'z' in L2"
   ]
  },
  {
   "cell_type": "markdown",
   "id": "bad67151",
   "metadata": {},
   "source": [
    "Copiar una lista"
   ]
  },
  {
   "cell_type": "code",
   "execution_count": 11,
   "id": "ef6f7c13",
   "metadata": {},
   "outputs": [
    {
     "name": "stdout",
     "output_type": "stream",
     "text": [
      "L [1000, 2, 3, 4, 5] 2704325977536\n",
      "L2 [1000, 2, 3, 4, 5] 2704325977536\n"
     ]
    }
   ],
   "source": [
    "# OJO es una referencia a la misma lista\n",
    "L = [1,2,3,4,5]\n",
    "L2 = L\n",
    "L[0] = 1000\n",
    "print('L',L, id(L))\n",
    "print('L2',L2, id(L2))"
   ]
  },
  {
   "cell_type": "code",
   "execution_count": 12,
   "id": "024b8350",
   "metadata": {},
   "outputs": [
    {
     "name": "stdout",
     "output_type": "stream",
     "text": [
      "L [1000, 2, 3, 4, 5] 2704325981696\n",
      "L2 [1, 2, 3, 4, 5] 2704324183424\n"
     ]
    }
   ],
   "source": [
    "# Crea una copia (pero solo funciona bien con elementos inmutables)\n",
    "L = [1,2,3,4,5]\n",
    "L2 = L.copy()\n",
    "L[0] = 1000\n",
    "print('L',L, id(L))\n",
    "print('L2',L2, id(L2))"
   ]
  },
  {
   "cell_type": "code",
   "execution_count": 14,
   "id": "0d3f64d4",
   "metadata": {},
   "outputs": [
    {
     "name": "stdout",
     "output_type": "stream",
     "text": [
      "hola 2704325691504\n",
      "HOLA 2704325927600\n"
     ]
    }
   ],
   "source": [
    "cadena1 = \"hola\"\n",
    "cadena2 = cadena1.upper()\n",
    "print(cadena1, id(cadena1))\n",
    "print(cadena2, id(cadena2))\n"
   ]
  },
  {
   "cell_type": "markdown",
   "id": "84480dd0",
   "metadata": {},
   "source": [
    "Funciones generales para listas:"
   ]
  },
  {
   "cell_type": "code",
   "execution_count": 21,
   "id": "e9f5ef88",
   "metadata": {},
   "outputs": [],
   "source": [
    "L = [40, 123, 15, 20, -9]"
   ]
  },
  {
   "cell_type": "code",
   "execution_count": 22,
   "id": "24a3bdfd",
   "metadata": {},
   "outputs": [
    {
     "name": "stdout",
     "output_type": "stream",
     "text": [
      "recuento: 5\n",
      "min:  -9\n",
      "max:  123\n",
      "suma:  189\n",
      "promedio:  37.8\n"
     ]
    }
   ],
   "source": [
    "print('recuento:', len(L))\n",
    "print('min: ', min(L))\n",
    "print('max: ', max(L))\n",
    "print('suma: ', sum(L))\n",
    "print('promedio: ', sum(L)/len(L))"
   ]
  },
  {
   "cell_type": "code",
   "execution_count": 23,
   "id": "d4e2f64c",
   "metadata": {},
   "outputs": [
    {
     "name": "stdout",
     "output_type": "stream",
     "text": [
      "pos del máximo:  1\n",
      "pos del mínimo:  4\n"
     ]
    }
   ],
   "source": [
    "# posición máximo\n",
    "posMax = L.index(max(L))\n",
    "print('pos del máximo: ', posMax)\n",
    "\n",
    "# posición mínimo\n",
    "posMin = L.index(min(L))\n",
    "print('pos del mínimo: ', posMin)"
   ]
  },
  {
   "cell_type": "code",
   "execution_count": 24,
   "id": "cf2c672f",
   "metadata": {},
   "outputs": [
    {
     "data": {
      "text/plain": [
       "[40, 123, 15, 20, -9, 900]"
      ]
     },
     "execution_count": 24,
     "metadata": {},
     "output_type": "execute_result"
    }
   ],
   "source": [
    "# Añadir elementos a una lista:\n",
    "L += [900]\n",
    "L"
   ]
  },
  {
   "cell_type": "code",
   "execution_count": 26,
   "id": "6e125045",
   "metadata": {},
   "outputs": [
    {
     "ename": "TypeError",
     "evalue": "'int' object is not iterable",
     "output_type": "error",
     "traceback": [
      "\u001b[1;31m---------------------------------------------------------------------------\u001b[0m",
      "\u001b[1;31mTypeError\u001b[0m                                 Traceback (most recent call last)",
      "\u001b[1;32m~\\AppData\\Local\\Temp\\ipykernel_30616\\791670265.py\u001b[0m in \u001b[0;36m<module>\u001b[1;34m\u001b[0m\n\u001b[1;32m----> 1\u001b[1;33m \u001b[0mL\u001b[0m \u001b[1;33m+=\u001b[0m \u001b[1;36m900\u001b[0m\u001b[1;33m\u001b[0m\u001b[1;33m\u001b[0m\u001b[0m\n\u001b[0m",
      "\u001b[1;31mTypeError\u001b[0m: 'int' object is not iterable"
     ]
    }
   ],
   "source": [
    "L += 900 # OJO tengo una lista y un número "
   ]
  },
  {
   "cell_type": "code",
   "execution_count": 25,
   "id": "d23ae653",
   "metadata": {},
   "outputs": [
    {
     "data": {
      "text/plain": [
       "[40, 123, 15, 20, -9, 900, 901]"
      ]
     },
     "execution_count": 25,
     "metadata": {},
     "output_type": "execute_result"
    }
   ],
   "source": [
    "L.append(901)\n",
    "L"
   ]
  },
  {
   "cell_type": "code",
   "execution_count": 27,
   "id": "539b4201",
   "metadata": {},
   "outputs": [
    {
     "data": {
      "text/plain": [
       "[40, 5, 123, 15, 20, -9, 900, 901]"
      ]
     },
     "execution_count": 27,
     "metadata": {},
     "output_type": "execute_result"
    }
   ],
   "source": [
    "L.insert(1,5)\n",
    "L"
   ]
  },
  {
   "cell_type": "code",
   "execution_count": 28,
   "id": "3386b02d",
   "metadata": {},
   "outputs": [
    {
     "data": {
      "text/plain": [
       "[40, 5, 123, 15, 20, -9, 900, 901, 5]"
      ]
     },
     "execution_count": 28,
     "metadata": {},
     "output_type": "execute_result"
    }
   ],
   "source": [
    "L.insert(100,5)\n",
    "L"
   ]
  },
  {
   "cell_type": "code",
   "execution_count": 29,
   "id": "b8806c04",
   "metadata": {},
   "outputs": [
    {
     "ename": "IndexError",
     "evalue": "list index out of range",
     "output_type": "error",
     "traceback": [
      "\u001b[1;31m---------------------------------------------------------------------------\u001b[0m",
      "\u001b[1;31mIndexError\u001b[0m                                Traceback (most recent call last)",
      "\u001b[1;32m~\\AppData\\Local\\Temp\\ipykernel_30616\\2375707862.py\u001b[0m in \u001b[0;36m<module>\u001b[1;34m\u001b[0m\n\u001b[1;32m----> 1\u001b[1;33m \u001b[0mL\u001b[0m\u001b[1;33m[\u001b[0m\u001b[1;36m100\u001b[0m\u001b[1;33m]\u001b[0m\u001b[1;33m\u001b[0m\u001b[1;33m\u001b[0m\u001b[0m\n\u001b[0m",
      "\u001b[1;31mIndexError\u001b[0m: list index out of range"
     ]
    }
   ],
   "source": [
    "L[100] # Nos salimos de la lista"
   ]
  },
  {
   "cell_type": "code",
   "execution_count": null,
   "id": "9541519e",
   "metadata": {},
   "outputs": [],
   "source": []
  }
 ],
 "metadata": {
  "kernelspec": {
   "display_name": "Python 3 (ipykernel)",
   "language": "python",
   "name": "python3"
  },
  "language_info": {
   "codemirror_mode": {
    "name": "ipython",
    "version": 3
   },
   "file_extension": ".py",
   "mimetype": "text/x-python",
   "name": "python",
   "nbconvert_exporter": "python",
   "pygments_lexer": "ipython3",
   "version": "3.9.13"
  }
 },
 "nbformat": 4,
 "nbformat_minor": 5
}

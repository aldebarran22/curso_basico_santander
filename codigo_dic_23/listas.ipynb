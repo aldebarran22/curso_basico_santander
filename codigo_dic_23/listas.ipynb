{
 "cells": [
  {
   "cell_type": "markdown",
   "id": "3db4bd65",
   "metadata": {},
   "source": [
    "## Listas en Python"
   ]
  },
  {
   "cell_type": "markdown",
   "id": "6b5910b6",
   "metadata": {},
   "source": [
    "Definición de listas"
   ]
  },
  {
   "cell_type": "code",
   "execution_count": 1,
   "id": "3a870309",
   "metadata": {},
   "outputs": [
    {
     "data": {
      "text/plain": [
       "[4, 5, 6, 3, 3, 3, 11, 2, 3, 5]"
      ]
     },
     "execution_count": 1,
     "metadata": {},
     "output_type": "execute_result"
    }
   ],
   "source": [
    "L = [4,5,6,3,3,3,11,2,3,5]\n",
    "L"
   ]
  },
  {
   "cell_type": "markdown",
   "id": "5d9232d4",
   "metadata": {},
   "source": [
    "Acceso a los elementos"
   ]
  },
  {
   "cell_type": "code",
   "execution_count": 4,
   "id": "faf30dbe",
   "metadata": {},
   "outputs": [
    {
     "data": {
      "text/plain": [
       "5"
      ]
     },
     "execution_count": 4,
     "metadata": {},
     "output_type": "execute_result"
    }
   ],
   "source": [
    "L[1]"
   ]
  },
  {
   "cell_type": "code",
   "execution_count": 5,
   "id": "0f7f5394",
   "metadata": {},
   "outputs": [
    {
     "data": {
      "text/plain": [
       "[4, 5, 6, 33, 3, 3, 11, 2, 3, 5]"
      ]
     },
     "execution_count": 5,
     "metadata": {},
     "output_type": "execute_result"
    }
   ],
   "source": [
    "L[3] = 33\n",
    "L"
   ]
  },
  {
   "cell_type": "code",
   "execution_count": 6,
   "id": "5903a1f9",
   "metadata": {},
   "outputs": [
    {
     "data": {
      "text/plain": [
       "['h', 'o', 'l', 'a', ' ', 'q', 'u', 'e', ' ', 't', 'a', 'l']"
      ]
     },
     "execution_count": 6,
     "metadata": {},
     "output_type": "execute_result"
    }
   ],
   "source": [
    "L2 = list('hola que tal')\n",
    "L2"
   ]
  },
  {
   "cell_type": "code",
   "execution_count": 7,
   "id": "51cedee7",
   "metadata": {},
   "outputs": [
    {
     "data": {
      "text/plain": [
       "True"
      ]
     },
     "execution_count": 7,
     "metadata": {},
     "output_type": "execute_result"
    }
   ],
   "source": [
    "'a' in L2"
   ]
  },
  {
   "cell_type": "code",
   "execution_count": 8,
   "id": "20680f74",
   "metadata": {},
   "outputs": [
    {
     "data": {
      "text/plain": [
       "False"
      ]
     },
     "execution_count": 8,
     "metadata": {},
     "output_type": "execute_result"
    }
   ],
   "source": [
    "'z' in L2"
   ]
  },
  {
   "cell_type": "markdown",
   "id": "75b94540",
   "metadata": {},
   "source": [
    "Copiar una lista"
   ]
  },
  {
   "cell_type": "code",
   "execution_count": 11,
   "id": "348568fb",
   "metadata": {},
   "outputs": [
    {
     "name": "stdout",
     "output_type": "stream",
     "text": [
      "L [1000, 2, 3, 4, 5] 2704325977536\n",
      "L2 [1000, 2, 3, 4, 5] 2704325977536\n"
     ]
    }
   ],
   "source": [
    "# OJO es una referencia a la misma lista\n",
    "L = [1,2,3,4,5]\n",
    "L2 = L\n",
    "L[0] = 1000\n",
    "print('L',L, id(L))\n",
    "print('L2',L2, id(L2))"
   ]
  },
  {
   "cell_type": "code",
   "execution_count": 12,
   "id": "faee6169",
   "metadata": {},
   "outputs": [
    {
     "name": "stdout",
     "output_type": "stream",
     "text": [
      "L [1000, 2, 3, 4, 5] 2704325981696\n",
      "L2 [1, 2, 3, 4, 5] 2704324183424\n"
     ]
    }
   ],
   "source": [
    "# Crea una copia (pero solo funciona bien con elementos inmutables)\n",
    "L = [1,2,3,4,5]\n",
    "L2 = L.copy()\n",
    "L[0] = 1000\n",
    "print('L',L, id(L))\n",
    "print('L2',L2, id(L2))"
   ]
  },
  {
   "cell_type": "code",
   "execution_count": 14,
   "id": "2e6e4f2e",
   "metadata": {},
   "outputs": [
    {
     "name": "stdout",
     "output_type": "stream",
     "text": [
      "hola 2704325691504\n",
      "HOLA 2704325927600\n"
     ]
    }
   ],
   "source": [
    "cadena1 = \"hola\"\n",
    "cadena2 = cadena1.upper()\n",
    "print(cadena1, id(cadena1))\n",
    "print(cadena2, id(cadena2))\n"
   ]
  },
  {
   "cell_type": "markdown",
   "id": "523c942b",
   "metadata": {},
   "source": [
    "Funciones generales para listas:"
   ]
  },
  {
   "cell_type": "code",
   "execution_count": 21,
   "id": "68603463",
   "metadata": {},
   "outputs": [],
   "source": [
    "L = [40, 123, 15, 20, -9]"
   ]
  },
  {
   "cell_type": "code",
   "execution_count": 22,
   "id": "805ce6f2",
   "metadata": {},
   "outputs": [
    {
     "name": "stdout",
     "output_type": "stream",
     "text": [
      "recuento: 5\n",
      "min:  -9\n",
      "max:  123\n",
      "suma:  189\n",
      "promedio:  37.8\n"
     ]
    }
   ],
   "source": [
    "print('recuento:', len(L))\n",
    "print('min: ', min(L))\n",
    "print('max: ', max(L))\n",
    "print('suma: ', sum(L))\n",
    "print('promedio: ', sum(L)/len(L))"
   ]
  },
  {
   "cell_type": "code",
   "execution_count": 23,
   "id": "7f268caa",
   "metadata": {},
   "outputs": [
    {
     "name": "stdout",
     "output_type": "stream",
     "text": [
      "pos del máximo:  1\n",
      "pos del mínimo:  4\n"
     ]
    }
   ],
   "source": [
    "# posición máximo\n",
    "posMax = L.index(max(L))\n",
    "print('pos del máximo: ', posMax)\n",
    "\n",
    "# posición mínimo\n",
    "posMin = L.index(min(L))\n",
    "print('pos del mínimo: ', posMin)"
   ]
  },
  {
   "cell_type": "code",
   "execution_count": 24,
   "id": "ff739a22",
   "metadata": {},
   "outputs": [
    {
     "data": {
      "text/plain": [
       "[40, 123, 15, 20, -9, 900]"
      ]
     },
     "execution_count": 24,
     "metadata": {},
     "output_type": "execute_result"
    }
   ],
   "source": [
    "# Añadir elementos a una lista:\n",
    "L += [900]\n",
    "L"
   ]
  },
  {
   "cell_type": "code",
   "execution_count": 26,
   "id": "23cfc895",
   "metadata": {},
   "outputs": [
    {
     "ename": "TypeError",
     "evalue": "'int' object is not iterable",
     "output_type": "error",
     "traceback": [
      "\u001b[1;31m---------------------------------------------------------------------------\u001b[0m",
      "\u001b[1;31mTypeError\u001b[0m                                 Traceback (most recent call last)",
      "\u001b[1;32m~\\AppData\\Local\\Temp\\ipykernel_30616\\791670265.py\u001b[0m in \u001b[0;36m<module>\u001b[1;34m\u001b[0m\n\u001b[1;32m----> 1\u001b[1;33m \u001b[0mL\u001b[0m \u001b[1;33m+=\u001b[0m \u001b[1;36m900\u001b[0m\u001b[1;33m\u001b[0m\u001b[1;33m\u001b[0m\u001b[0m\n\u001b[0m",
      "\u001b[1;31mTypeError\u001b[0m: 'int' object is not iterable"
     ]
    }
   ],
   "source": [
    "L += 900 # OJO tengo una lista y un número "
   ]
  },
  {
   "cell_type": "code",
   "execution_count": 25,
   "id": "fc15bcc3",
   "metadata": {},
   "outputs": [
    {
     "data": {
      "text/plain": [
       "[40, 123, 15, 20, -9, 900, 901]"
      ]
     },
     "execution_count": 25,
     "metadata": {},
     "output_type": "execute_result"
    }
   ],
   "source": [
    "L.append(901)\n",
    "L"
   ]
  },
  {
   "cell_type": "code",
   "execution_count": 27,
   "id": "2ef89dbd",
   "metadata": {},
   "outputs": [
    {
     "data": {
      "text/plain": [
       "[40, 5, 123, 15, 20, -9, 900, 901]"
      ]
     },
     "execution_count": 27,
     "metadata": {},
     "output_type": "execute_result"
    }
   ],
   "source": [
    "L.insert(1,5)\n",
    "L"
   ]
  },
  {
   "cell_type": "code",
   "execution_count": 28,
   "id": "76f61c27",
   "metadata": {},
   "outputs": [
    {
     "data": {
      "text/plain": [
       "[40, 5, 123, 15, 20, -9, 900, 901, 5]"
      ]
     },
     "execution_count": 28,
     "metadata": {},
     "output_type": "execute_result"
    }
   ],
   "source": [
    "L.insert(100,5)\n",
    "L"
   ]
  },
  {
   "cell_type": "code",
   "execution_count": 29,
   "id": "8287cc9b",
   "metadata": {},
   "outputs": [
    {
     "ename": "IndexError",
     "evalue": "list index out of range",
     "output_type": "error",
     "traceback": [
      "\u001b[1;31m---------------------------------------------------------------------------\u001b[0m",
      "\u001b[1;31mIndexError\u001b[0m                                Traceback (most recent call last)",
      "\u001b[1;32m~\\AppData\\Local\\Temp\\ipykernel_30616\\2375707862.py\u001b[0m in \u001b[0;36m<module>\u001b[1;34m\u001b[0m\n\u001b[1;32m----> 1\u001b[1;33m \u001b[0mL\u001b[0m\u001b[1;33m[\u001b[0m\u001b[1;36m100\u001b[0m\u001b[1;33m]\u001b[0m\u001b[1;33m\u001b[0m\u001b[1;33m\u001b[0m\u001b[0m\n\u001b[0m",
      "\u001b[1;31mIndexError\u001b[0m: list index out of range"
     ]
    }
   ],
   "source": [
    "L[100] # Nos salimos de la lista"
   ]
  },
  {
   "cell_type": "markdown",
   "id": "5a2c3cd2",
   "metadata": {},
   "source": [
    "Indices negativos y  slicing"
   ]
  },
  {
   "cell_type": "code",
   "execution_count": 31,
   "id": "ba50f06f",
   "metadata": {},
   "outputs": [
    {
     "name": "stdout",
     "output_type": "stream",
     "text": [
      "El primero:  1 1\n",
      "El último:  5 5\n"
     ]
    }
   ],
   "source": [
    "L = [1,2,3,4,5]\n",
    "\n",
    "print('El primero: ', L[0], L[-5])\n",
    "print('El último: ', L[4], L[-1])"
   ]
  },
  {
   "cell_type": "markdown",
   "id": "e7e64e4f",
   "metadata": {},
   "source": [
    "Aplicación de los índices negativos: extraer el nombre del fichero en un path"
   ]
  },
  {
   "cell_type": "code",
   "execution_count": 32,
   "id": "58c4de16",
   "metadata": {},
   "outputs": [
    {
     "data": {
      "text/plain": [
       "['C:', 'mis documentos', 'excel', 'libro1.xlsx']"
      ]
     },
     "execution_count": 32,
     "metadata": {},
     "output_type": "execute_result"
    }
   ],
   "source": [
    "path = \"C:/mis documentos/excel/libro1.xlsx\"\n",
    "L = path.split('/')\n",
    "L"
   ]
  },
  {
   "cell_type": "code",
   "execution_count": 33,
   "id": "eefe00d2",
   "metadata": {},
   "outputs": [
    {
     "name": "stdout",
     "output_type": "stream",
     "text": [
      "El fichero es:  libro1.xlsx\n"
     ]
    }
   ],
   "source": [
    "print('El fichero es: ', L[-1])"
   ]
  },
  {
   "cell_type": "code",
   "execution_count": 36,
   "id": "7cfbe57b",
   "metadata": {},
   "outputs": [
    {
     "name": "stdout",
     "output_type": "stream",
     "text": [
      "Los 3 primeros:  [1, 2, 3]\n",
      "Los 3 primeros:  [1, 2, 3]\n"
     ]
    }
   ],
   "source": [
    "# Slicing: L[ini:fin-1, salto=1]\n",
    "L = [1,2,3,4,5,6,7,8,9]\n",
    "print('Los 3 primeros: ', L[0:3])\n",
    "print('Los 3 primeros: ', L[:3])"
   ]
  },
  {
   "cell_type": "code",
   "execution_count": 37,
   "id": "9bb5fcd9",
   "metadata": {},
   "outputs": [
    {
     "name": "stdout",
     "output_type": "stream",
     "text": [
      "los tres últimos:  [7, 8, 9]\n"
     ]
    }
   ],
   "source": [
    "print('los tres últimos: ', L[-3:])"
   ]
  },
  {
   "cell_type": "code",
   "execution_count": 40,
   "id": "fbb68822",
   "metadata": {},
   "outputs": [
    {
     "name": "stdout",
     "output_type": "stream",
     "text": [
      "[77070, 8080, 5504, 5050, 1230, 1102, 333, 302, 202, 78, 77]\n"
     ]
    }
   ],
   "source": [
    "# Obtener los 5 precios más caros:\n",
    "L = [78,8080, 1230, 5504, 77,333,5050,202,1102, 77070, 302]\n",
    "L.sort(reverse=True)\n",
    "print(L)"
   ]
  },
  {
   "cell_type": "code",
   "execution_count": 41,
   "id": "5822138c",
   "metadata": {},
   "outputs": [
    {
     "name": "stdout",
     "output_type": "stream",
     "text": [
      "El top 5:  [77070, 8080, 5504, 5050, 1230]\n"
     ]
    }
   ],
   "source": [
    "print('El top 5: ', L[:5])"
   ]
  },
  {
   "cell_type": "code",
   "execution_count": 42,
   "id": "50f43556",
   "metadata": {},
   "outputs": [
    {
     "name": "stdout",
     "output_type": "stream",
     "text": [
      "Quitar los extremos: [8080, 5504, 5050, 1230, 1102, 333, 302, 202, 78]\n"
     ]
    }
   ],
   "source": [
    "print('Quitar los extremos:', L[1:-1])"
   ]
  },
  {
   "cell_type": "code",
   "execution_count": 43,
   "id": "e9201b14",
   "metadata": {},
   "outputs": [
    {
     "name": "stdout",
     "output_type": "stream",
     "text": [
      "[77070, 5504, 1230, 333, 202, 77]\n"
     ]
    }
   ],
   "source": [
    "# Toda la lista con saltos de 2 en 2:\n",
    "print(L[::2])\n"
   ]
  },
  {
   "cell_type": "code",
   "execution_count": 44,
   "id": "22f66242",
   "metadata": {},
   "outputs": [
    {
     "name": "stdout",
     "output_type": "stream",
     "text": [
      "invertir:  [77, 78, 202, 302, 333, 1102, 1230, 5050, 5504, 8080, 77070]\n"
     ]
    }
   ],
   "source": [
    "print('invertir: ', L[::-1])"
   ]
  },
  {
   "cell_type": "code",
   "execution_count": 45,
   "id": "77e92d47",
   "metadata": {},
   "outputs": [
    {
     "name": "stdout",
     "output_type": "stream",
     "text": [
      "invertir:  [77, 202, 333, 1230, 5504, 77070]\n"
     ]
    }
   ],
   "source": [
    "print('invertir: ', L[::-2])"
   ]
  },
  {
   "cell_type": "code",
   "execution_count": 46,
   "id": "fd5cde8b",
   "metadata": {},
   "outputs": [
    {
     "name": "stdout",
     "output_type": "stream",
     "text": [
      "Toda la lista:  [77070, 8080, 5504, 5050, 1230, 1102, 333, 302, 202, 78, 77]\n"
     ]
    }
   ],
   "source": [
    "print('Toda la lista: ', L[:])"
   ]
  },
  {
   "cell_type": "markdown",
   "id": "53258820",
   "metadata": {},
   "source": [
    "Recorrer una lista: bucle for"
   ]
  },
  {
   "cell_type": "code",
   "execution_count": 51,
   "id": "0bcc89fb",
   "metadata": {},
   "outputs": [
    {
     "name": "stdout",
     "output_type": "stream",
     "text": [
      "77070 8080 5504 5050 1230 1102 333 302 202 78 77 "
     ]
    }
   ],
   "source": [
    "for i in L:\n",
    "    print(i, end=' ')"
   ]
  },
  {
   "cell_type": "code",
   "execution_count": 52,
   "id": "bc5753b9",
   "metadata": {},
   "outputs": [
    {
     "name": "stdout",
     "output_type": "stream",
     "text": [
      "77 78 202 302 333 1102 1230 5050 5504 8080 77070 "
     ]
    }
   ],
   "source": [
    "for i in L[::-1]:\n",
    "    print(i, end=' ')"
   ]
  },
  {
   "cell_type": "code",
   "execution_count": 53,
   "id": "f48cd1b0",
   "metadata": {},
   "outputs": [
    {
     "name": "stdout",
     "output_type": "stream",
     "text": [
      "1\n",
      "2\n",
      "3\n",
      "4\n"
     ]
    }
   ],
   "source": [
    "for i in [1,2,3,4]:\n",
    "    print(i)"
   ]
  },
  {
   "cell_type": "code",
   "execution_count": null,
   "id": "b8c22639",
   "metadata": {},
   "outputs": [],
   "source": []
  }
 ],
 "metadata": {
  "kernelspec": {
   "display_name": "Python 3 (ipykernel)",
   "language": "python",
   "name": "python3"
  },
  "language_info": {
   "codemirror_mode": {
    "name": "ipython",
    "version": 3
   },
   "file_extension": ".py",
   "mimetype": "text/x-python",
   "name": "python",
   "nbconvert_exporter": "python",
   "pygments_lexer": "ipython3",
   "version": "3.9.13"
  }
 },
 "nbformat": 4,
 "nbformat_minor": 5
}

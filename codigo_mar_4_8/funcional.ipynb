{
 "cells": [
  {
   "cell_type": "markdown",
   "id": "6c69f61d",
   "metadata": {},
   "source": [
    "## Programación Funcional en Python"
   ]
  },
  {
   "cell_type": "markdown",
   "id": "c4d6f89e",
   "metadata": {},
   "source": [
    "Contenidos:"
   ]
  },
  {
   "cell_type": "markdown",
   "id": "2be794c3",
   "metadata": {},
   "source": [
    " - Iteradores: map, filter y reduce\n",
    " - List comprehession\n",
    " - generadores\n",
    " - funciones lambda\n",
    " - ordenación de colecciones"
   ]
  },
  {
   "cell_type": "markdown",
   "id": "20539dbc",
   "metadata": {},
   "source": [
    "Iterador map:"
   ]
  },
  {
   "cell_type": "code",
   "execution_count": 25,
   "id": "d4be1cd6",
   "metadata": {},
   "outputs": [],
   "source": [
    "from random import randint\n",
    "from functools import reduce\n",
    "from string import ascii_uppercase"
   ]
  },
  {
   "cell_type": "code",
   "execution_count": 1,
   "id": "7f7f8465",
   "metadata": {},
   "outputs": [],
   "source": [
    "def calcularIVA(importe, iva=21):\n",
    "    return round(importe * iva / 100, 2)"
   ]
  },
  {
   "cell_type": "code",
   "execution_count": 2,
   "id": "8ae62608",
   "metadata": {},
   "outputs": [],
   "source": [
    "L = [98,54,77,88,11,55,44,55]"
   ]
  },
  {
   "cell_type": "code",
   "execution_count": 3,
   "id": "f8e1ba9c",
   "metadata": {},
   "outputs": [
    {
     "data": {
      "text/plain": [
       "[20.58, 11.34, 16.17, 18.48, 2.31, 11.55, 9.24, 11.55]"
      ]
     },
     "execution_count": 3,
     "metadata": {},
     "output_type": "execute_result"
    }
   ],
   "source": [
    "R = list(map(calcularIVA, L))\n",
    "R"
   ]
  },
  {
   "cell_type": "markdown",
   "id": "faed674a",
   "metadata": {},
   "source": [
    "Equivalente con List Compre."
   ]
  },
  {
   "cell_type": "code",
   "execution_count": 4,
   "id": "0aee0478",
   "metadata": {},
   "outputs": [
    {
     "data": {
      "text/plain": [
       "[20.58, 11.34, 16.17, 18.48, 2.31, 11.55, 9.24, 11.55]"
      ]
     },
     "execution_count": 4,
     "metadata": {},
     "output_type": "execute_result"
    }
   ],
   "source": [
    "R2 = [calcularIVA(i) for i in L]\n",
    "R2"
   ]
  },
  {
   "cell_type": "code",
   "execution_count": 7,
   "id": "2cc32409",
   "metadata": {},
   "outputs": [
    {
     "data": {
      "text/plain": [
       "[20.58, 11.34, 16.17, 18.48, 2.31, 11.55, 9.24, 11.55]"
      ]
     },
     "execution_count": 7,
     "metadata": {},
     "output_type": "execute_result"
    }
   ],
   "source": [
    "R3 = [round(i * 21 / 100, 2) for i in L]\n",
    "R3"
   ]
  },
  {
   "cell_type": "code",
   "execution_count": 8,
   "id": "d0222c5d",
   "metadata": {},
   "outputs": [
    {
     "data": {
      "text/plain": [
       "{2.31, 9.24, 11.34, 11.55, 16.17, 18.48, 20.58}"
      ]
     },
     "execution_count": 8,
     "metadata": {},
     "output_type": "execute_result"
    }
   ],
   "source": [
    "C1 = {calcularIVA(i) for i in L}\n",
    "C1"
   ]
  },
  {
   "cell_type": "markdown",
   "id": "17d1dbfc",
   "metadata": {},
   "source": [
    "Iterador filter"
   ]
  },
  {
   "cell_type": "code",
   "execution_count": 14,
   "id": "2baab2c0",
   "metadata": {},
   "outputs": [
    {
     "data": {
      "text/plain": [
       "[50, 12, 6, 22, 22]"
      ]
     },
     "execution_count": 14,
     "metadata": {},
     "output_type": "execute_result"
    }
   ],
   "source": [
    "# Generar 30 números aleatorios:\n",
    "L2 = [randint(1,50) for i in range(20)]\n",
    "L2[:5]"
   ]
  },
  {
   "cell_type": "code",
   "execution_count": 15,
   "id": "a3431771",
   "metadata": {},
   "outputs": [
    {
     "data": {
      "text/plain": [
       "[50, 12, 6, 22, 22, 5, 2, 41, 12, 46, 16, 26, 13, 30, 30, 14, 16, 45, 11, 31]"
      ]
     },
     "execution_count": 15,
     "metadata": {},
     "output_type": "execute_result"
    }
   ],
   "source": [
    "L2"
   ]
  },
  {
   "cell_type": "code",
   "execution_count": 16,
   "id": "0a5bd762",
   "metadata": {},
   "outputs": [],
   "source": [
    "# Filtrar con filter los números > 30\n",
    "def filtro(numero):\n",
    "    if numero > 30:\n",
    "        return True\n",
    "    else:\n",
    "        return False"
   ]
  },
  {
   "cell_type": "code",
   "execution_count": 17,
   "id": "0a79f0f3",
   "metadata": {},
   "outputs": [
    {
     "data": {
      "text/plain": [
       "[50, 41, 46, 45, 31]"
      ]
     },
     "execution_count": 17,
     "metadata": {},
     "output_type": "execute_result"
    }
   ],
   "source": [
    "R3 = list(filter(filtro, L2))\n",
    "R3"
   ]
  },
  {
   "cell_type": "code",
   "execution_count": 18,
   "id": "2af175e4",
   "metadata": {},
   "outputs": [
    {
     "data": {
      "text/plain": [
       "[50, 41, 46, 45, 31]"
      ]
     },
     "execution_count": 18,
     "metadata": {},
     "output_type": "execute_result"
    }
   ],
   "source": [
    "# Equivalente con List Compre.\n",
    "R4 = [i for i in L2 if filtro(i)]\n",
    "R4"
   ]
  },
  {
   "cell_type": "code",
   "execution_count": 19,
   "id": "2765c352",
   "metadata": {},
   "outputs": [
    {
     "data": {
      "text/plain": [
       "[50, 41, 46, 45, 31]"
      ]
     },
     "execution_count": 19,
     "metadata": {},
     "output_type": "execute_result"
    }
   ],
   "source": [
    "R5 = [i for i in L2 if i > 30]\n",
    "R5"
   ]
  },
  {
   "cell_type": "markdown",
   "id": "fa23d760",
   "metadata": {},
   "source": [
    "reduce:"
   ]
  },
  {
   "cell_type": "code",
   "execution_count": 23,
   "id": "e06d1ce7",
   "metadata": {},
   "outputs": [],
   "source": [
    "def sumar(a,b):\n",
    "    print(a,b)\n",
    "    return a+b"
   ]
  },
  {
   "cell_type": "code",
   "execution_count": 24,
   "id": "b6659c8b",
   "metadata": {},
   "outputs": [
    {
     "name": "stdout",
     "output_type": "stream",
     "text": [
      "2 3\n",
      "5 4\n",
      "9 5\n",
      "14 6\n",
      "20 1\n",
      "El resultado es: 21\n"
     ]
    }
   ],
   "source": [
    "L = [2,3,4,5,6,1]\n",
    "resul = reduce(sumar, L)\n",
    "print(\"El resultado es:\", resul)"
   ]
  },
  {
   "cell_type": "code",
   "execution_count": null,
   "id": "81c84a74",
   "metadata": {},
   "outputs": [],
   "source": [
    "d = {\"nombre\":\"AAA\",\"años\":20, \"numempresas\":5, \"superior\":True}"
   ]
  },
  {
   "cell_type": "code",
   "execution_count": 32,
   "id": "90c6e6ad",
   "metadata": {},
   "outputs": [],
   "source": [
    "def mejorCandidato(d1, d2):\n",
    "    print(d1['nombre'],'<==>',d2['nombre'])\n",
    "    \n",
    "    if d1['años'] > d2['años']:\n",
    "        return d1\n",
    "    \n",
    "    elif d1['años'] == d2['años']:\n",
    "        \n",
    "        if d1['numempresas'] > d2['numempresas']:\n",
    "            return d1\n",
    "        \n",
    "        elif d1['numempresas'] == d2['numempresas']:\n",
    "            \n",
    "            return d1 if d1['superior'] else d2\n",
    "        \n",
    "        else:\n",
    "            return d2\n",
    "    \n",
    "    else:\n",
    "        return d2\n",
    "        "
   ]
  },
  {
   "cell_type": "code",
   "execution_count": 31,
   "id": "d1251530",
   "metadata": {},
   "outputs": [
    {
     "data": {
      "text/plain": [
       "[{'nombre': 'AAA', 'años': 8, 'numempresas': 1, 'superior': False},\n",
       " {'nombre': 'BBB', 'años': 6, 'numempresas': 3, 'superior': False},\n",
       " {'nombre': 'CCC', 'años': 10, 'numempresas': 4, 'superior': False},\n",
       " {'nombre': 'DDD', 'años': 7, 'numempresas': 1, 'superior': False},\n",
       " {'nombre': 'EEE', 'años': 7, 'numempresas': 7, 'superior': True},\n",
       " {'nombre': 'FFF', 'años': 6, 'numempresas': 3, 'superior': True},\n",
       " {'nombre': 'GGG', 'años': 10, 'numempresas': 1, 'superior': True},\n",
       " {'nombre': 'HHH', 'años': 7, 'numempresas': 4, 'superior': False},\n",
       " {'nombre': 'III', 'años': 10, 'numempresas': 6, 'superior': True},\n",
       " {'nombre': 'JJJ', 'años': 5, 'numempresas': 6, 'superior': False},\n",
       " {'nombre': 'KKK', 'años': 7, 'numempresas': 4, 'superior': True},\n",
       " {'nombre': 'LLL', 'años': 5, 'numempresas': 1, 'superior': True},\n",
       " {'nombre': 'MMM', 'años': 10, 'numempresas': 3, 'superior': True},\n",
       " {'nombre': 'NNN', 'años': 8, 'numempresas': 6, 'superior': True},\n",
       " {'nombre': 'OOO', 'años': 9, 'numempresas': 5, 'superior': True},\n",
       " {'nombre': 'PPP', 'años': 9, 'numempresas': 2, 'superior': True},\n",
       " {'nombre': 'QQQ', 'años': 6, 'numempresas': 2, 'superior': True},\n",
       " {'nombre': 'RRR', 'años': 5, 'numempresas': 6, 'superior': False},\n",
       " {'nombre': 'SSS', 'años': 6, 'numempresas': 6, 'superior': True},\n",
       " {'nombre': 'TTT', 'años': 7, 'numempresas': 2, 'superior': True},\n",
       " {'nombre': 'UUU', 'años': 10, 'numempresas': 5, 'superior': True},\n",
       " {'nombre': 'VVV', 'años': 10, 'numempresas': 7, 'superior': True},\n",
       " {'nombre': 'WWW', 'años': 8, 'numempresas': 3, 'superior': True},\n",
       " {'nombre': 'XXX', 'años': 9, 'numempresas': 3, 'superior': True},\n",
       " {'nombre': 'YYY', 'años': 6, 'numempresas': 1, 'superior': False},\n",
       " {'nombre': 'ZZZ', 'años': 10, 'numempresas': 6, 'superior': True}]"
      ]
     },
     "execution_count": 31,
     "metadata": {},
     "output_type": "execute_result"
    }
   ],
   "source": [
    "candidatos = [{\"nombre\":letra * 3, \"años\":randint(5,10), \n",
    "               \"numempresas\":randint(1,8), \n",
    "               \"superior\":True if randint(2,10) % 2 == 0 else False} for letra in ascii_uppercase]\n",
    "candidatos"
   ]
  },
  {
   "cell_type": "code",
   "execution_count": 33,
   "id": "af15ea4b",
   "metadata": {},
   "outputs": [
    {
     "name": "stdout",
     "output_type": "stream",
     "text": [
      "AAA <==> BBB\n",
      "AAA <==> CCC\n",
      "CCC <==> DDD\n",
      "CCC <==> EEE\n",
      "CCC <==> FFF\n",
      "CCC <==> GGG\n",
      "CCC <==> HHH\n",
      "CCC <==> III\n",
      "III <==> JJJ\n",
      "III <==> KKK\n",
      "III <==> LLL\n",
      "III <==> MMM\n",
      "III <==> NNN\n",
      "III <==> OOO\n",
      "III <==> PPP\n",
      "III <==> QQQ\n",
      "III <==> RRR\n",
      "III <==> SSS\n",
      "III <==> TTT\n",
      "III <==> UUU\n",
      "III <==> VVV\n",
      "VVV <==> WWW\n",
      "VVV <==> XXX\n",
      "VVV <==> YYY\n",
      "VVV <==> ZZZ\n",
      "El mejor candidato:  {'nombre': 'VVV', 'años': 10, 'numempresas': 7, 'superior': True}\n"
     ]
    }
   ],
   "source": [
    "print('El mejor candidato: ', reduce(mejorCandidato, candidatos))"
   ]
  },
  {
   "cell_type": "code",
   "execution_count": 35,
   "id": "f475dfc5",
   "metadata": {},
   "outputs": [
    {
     "name": "stdout",
     "output_type": "stream",
     "text": [
      "AAA <==> BBB\n"
     ]
    },
    {
     "data": {
      "text/plain": [
       "{'nombre': 'AAA', 'años': 8, 'numempresas': 1, 'superior': False}"
      ]
     },
     "execution_count": 35,
     "metadata": {},
     "output_type": "execute_result"
    }
   ],
   "source": [
    "mejorCandidato(candidatos[0], candidatos[1])"
   ]
  },
  {
   "cell_type": "markdown",
   "id": "f11ffd70",
   "metadata": {},
   "source": [
    "Ordenación de candidatos"
   ]
  },
  {
   "cell_type": "code",
   "execution_count": 37,
   "id": "e76736f6",
   "metadata": {},
   "outputs": [
    {
     "data": {
      "text/plain": [
       "[{'nombre': 'CCC', 'años': 10, 'numempresas': 4, 'superior': False},\n",
       " {'nombre': 'GGG', 'años': 10, 'numempresas': 1, 'superior': True},\n",
       " {'nombre': 'III', 'años': 10, 'numempresas': 6, 'superior': True},\n",
       " {'nombre': 'MMM', 'años': 10, 'numempresas': 3, 'superior': True},\n",
       " {'nombre': 'UUU', 'años': 10, 'numempresas': 5, 'superior': True},\n",
       " {'nombre': 'VVV', 'años': 10, 'numempresas': 7, 'superior': True},\n",
       " {'nombre': 'ZZZ', 'años': 10, 'numempresas': 6, 'superior': True},\n",
       " {'nombre': 'OOO', 'años': 9, 'numempresas': 5, 'superior': True},\n",
       " {'nombre': 'PPP', 'años': 9, 'numempresas': 2, 'superior': True},\n",
       " {'nombre': 'XXX', 'años': 9, 'numempresas': 3, 'superior': True},\n",
       " {'nombre': 'AAA', 'años': 8, 'numempresas': 1, 'superior': False},\n",
       " {'nombre': 'NNN', 'años': 8, 'numempresas': 6, 'superior': True},\n",
       " {'nombre': 'WWW', 'años': 8, 'numempresas': 3, 'superior': True},\n",
       " {'nombre': 'DDD', 'años': 7, 'numempresas': 1, 'superior': False},\n",
       " {'nombre': 'EEE', 'años': 7, 'numempresas': 7, 'superior': True},\n",
       " {'nombre': 'HHH', 'años': 7, 'numempresas': 4, 'superior': False},\n",
       " {'nombre': 'KKK', 'años': 7, 'numempresas': 4, 'superior': True},\n",
       " {'nombre': 'TTT', 'años': 7, 'numempresas': 2, 'superior': True},\n",
       " {'nombre': 'BBB', 'años': 6, 'numempresas': 3, 'superior': False},\n",
       " {'nombre': 'FFF', 'años': 6, 'numempresas': 3, 'superior': True},\n",
       " {'nombre': 'QQQ', 'años': 6, 'numempresas': 2, 'superior': True},\n",
       " {'nombre': 'SSS', 'años': 6, 'numempresas': 6, 'superior': True},\n",
       " {'nombre': 'YYY', 'años': 6, 'numempresas': 1, 'superior': False},\n",
       " {'nombre': 'JJJ', 'años': 5, 'numempresas': 6, 'superior': False},\n",
       " {'nombre': 'LLL', 'años': 5, 'numempresas': 1, 'superior': True},\n",
       " {'nombre': 'RRR', 'años': 5, 'numempresas': 6, 'superior': False}]"
      ]
     },
     "execution_count": 37,
     "metadata": {},
     "output_type": "execute_result"
    }
   ],
   "source": [
    "candidatos.sort(key=lambda d : d['años'], reverse=True)\n",
    "candidatos"
   ]
  },
  {
   "cell_type": "code",
   "execution_count": 38,
   "id": "b743a5ab",
   "metadata": {},
   "outputs": [],
   "source": [
    "def calcularPesoCand(d):\n",
    "    # 'años': 10, 'numempresas': 4, --> 104\n",
    "    # 'años': 10, 'numempresas': 7, --> 107\n",
    "    # 'años': 9, 'numempresas': 5,  --> 95\n",
    "    resul = str(d['años']) + str(d['numempresas']) \n",
    "    return int(resul)"
   ]
  },
  {
   "cell_type": "code",
   "execution_count": 39,
   "id": "924be3f6",
   "metadata": {},
   "outputs": [
    {
     "data": {
      "text/plain": [
       "104"
      ]
     },
     "execution_count": 39,
     "metadata": {},
     "output_type": "execute_result"
    }
   ],
   "source": [
    "calcularPesoCand(candidatos[0])"
   ]
  },
  {
   "cell_type": "code",
   "execution_count": 40,
   "id": "c8339b58",
   "metadata": {},
   "outputs": [
    {
     "data": {
      "text/plain": [
       "56"
      ]
     },
     "execution_count": 40,
     "metadata": {},
     "output_type": "execute_result"
    }
   ],
   "source": [
    "calcularPesoCand(candidatos[-1])"
   ]
  },
  {
   "cell_type": "code",
   "execution_count": 42,
   "id": "29fe21e0",
   "metadata": {},
   "outputs": [
    {
     "data": {
      "text/plain": [
       "[{'nombre': 'VVV', 'años': 10, 'numempresas': 7, 'superior': True},\n",
       " {'nombre': 'III', 'años': 10, 'numempresas': 6, 'superior': True},\n",
       " {'nombre': 'ZZZ', 'años': 10, 'numempresas': 6, 'superior': True},\n",
       " {'nombre': 'UUU', 'años': 10, 'numempresas': 5, 'superior': True},\n",
       " {'nombre': 'CCC', 'años': 10, 'numempresas': 4, 'superior': False},\n",
       " {'nombre': 'MMM', 'años': 10, 'numempresas': 3, 'superior': True},\n",
       " {'nombre': 'GGG', 'años': 10, 'numempresas': 1, 'superior': True},\n",
       " {'nombre': 'OOO', 'años': 9, 'numempresas': 5, 'superior': True},\n",
       " {'nombre': 'XXX', 'años': 9, 'numempresas': 3, 'superior': True},\n",
       " {'nombre': 'PPP', 'años': 9, 'numempresas': 2, 'superior': True},\n",
       " {'nombre': 'NNN', 'años': 8, 'numempresas': 6, 'superior': True},\n",
       " {'nombre': 'WWW', 'años': 8, 'numempresas': 3, 'superior': True},\n",
       " {'nombre': 'AAA', 'años': 8, 'numempresas': 1, 'superior': False},\n",
       " {'nombre': 'EEE', 'años': 7, 'numempresas': 7, 'superior': True},\n",
       " {'nombre': 'HHH', 'años': 7, 'numempresas': 4, 'superior': False},\n",
       " {'nombre': 'KKK', 'años': 7, 'numempresas': 4, 'superior': True},\n",
       " {'nombre': 'TTT', 'años': 7, 'numempresas': 2, 'superior': True},\n",
       " {'nombre': 'DDD', 'años': 7, 'numempresas': 1, 'superior': False},\n",
       " {'nombre': 'SSS', 'años': 6, 'numempresas': 6, 'superior': True},\n",
       " {'nombre': 'BBB', 'años': 6, 'numempresas': 3, 'superior': False},\n",
       " {'nombre': 'FFF', 'años': 6, 'numempresas': 3, 'superior': True},\n",
       " {'nombre': 'QQQ', 'años': 6, 'numempresas': 2, 'superior': True},\n",
       " {'nombre': 'YYY', 'años': 6, 'numempresas': 1, 'superior': False},\n",
       " {'nombre': 'JJJ', 'años': 5, 'numempresas': 6, 'superior': False},\n",
       " {'nombre': 'RRR', 'años': 5, 'numempresas': 6, 'superior': False},\n",
       " {'nombre': 'LLL', 'años': 5, 'numempresas': 1, 'superior': True}]"
      ]
     },
     "execution_count": 42,
     "metadata": {},
     "output_type": "execute_result"
    }
   ],
   "source": [
    "candidatos.sort(key=calcularPesoCand, reverse=True)\n",
    "candidatos"
   ]
  },
  {
   "cell_type": "code",
   "execution_count": 44,
   "id": "eafd7e6e",
   "metadata": {},
   "outputs": [
    {
     "name": "stdout",
     "output_type": "stream",
     "text": [
      "Los 10 mejores:\n",
      "{'nombre': 'VVV', 'años': 10, 'numempresas': 7, 'superior': True}\n",
      "{'nombre': 'III', 'años': 10, 'numempresas': 6, 'superior': True}\n",
      "{'nombre': 'ZZZ', 'años': 10, 'numempresas': 6, 'superior': True}\n",
      "{'nombre': 'UUU', 'años': 10, 'numempresas': 5, 'superior': True}\n",
      "{'nombre': 'CCC', 'años': 10, 'numempresas': 4, 'superior': False}\n",
      "{'nombre': 'MMM', 'años': 10, 'numempresas': 3, 'superior': True}\n",
      "{'nombre': 'GGG', 'años': 10, 'numempresas': 1, 'superior': True}\n",
      "{'nombre': 'OOO', 'años': 9, 'numempresas': 5, 'superior': True}\n",
      "{'nombre': 'XXX', 'años': 9, 'numempresas': 3, 'superior': True}\n",
      "{'nombre': 'PPP', 'años': 9, 'numempresas': 2, 'superior': True}\n"
     ]
    }
   ],
   "source": [
    "print('Los 10 mejores:')\n",
    "for c in candidatos[:10]:\n",
    "    print(c)"
   ]
  },
  {
   "cell_type": "code",
   "execution_count": null,
   "id": "74d83cc2",
   "metadata": {},
   "outputs": [],
   "source": []
  }
 ],
 "metadata": {
  "kernelspec": {
   "display_name": "Python 3 (ipykernel)",
   "language": "python",
   "name": "python3"
  },
  "language_info": {
   "codemirror_mode": {
    "name": "ipython",
    "version": 3
   },
   "file_extension": ".py",
   "mimetype": "text/x-python",
   "name": "python",
   "nbconvert_exporter": "python",
   "pygments_lexer": "ipython3",
   "version": "3.8.5"
  }
 },
 "nbformat": 4,
 "nbformat_minor": 5
}

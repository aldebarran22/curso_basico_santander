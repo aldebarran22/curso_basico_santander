{
 "cells": [
  {
   "cell_type": "markdown",
   "id": "6599ca66",
   "metadata": {},
   "source": [
    "## Programación Funcional en Python"
   ]
  },
  {
   "cell_type": "markdown",
   "id": "a046e5ec",
   "metadata": {},
   "source": [
    "Contenidos:"
   ]
  },
  {
   "cell_type": "markdown",
   "id": "9afb4249",
   "metadata": {},
   "source": [
    " - Iteradores: map, filter y reduce\n",
    " - List comprehession\n",
    " - generadores\n",
    " - funciones lambda\n",
    " - ordenación de colecciones"
   ]
  },
  {
   "cell_type": "markdown",
   "id": "97e03e88",
   "metadata": {},
   "source": [
    "Iterador map:"
   ]
  },
  {
   "cell_type": "code",
   "execution_count": 20,
   "id": "95e9550b",
   "metadata": {},
   "outputs": [],
   "source": [
    "from random import randint\n",
    "from functools import reduce"
   ]
  },
  {
   "cell_type": "code",
   "execution_count": 1,
   "id": "54aeec4d",
   "metadata": {},
   "outputs": [],
   "source": [
    "def calcularIVA(importe, iva=21):\n",
    "    return round(importe * iva / 100, 2)"
   ]
  },
  {
   "cell_type": "code",
   "execution_count": 2,
   "id": "670b3334",
   "metadata": {},
   "outputs": [],
   "source": [
    "L = [98,54,77,88,11,55,44,55]"
   ]
  },
  {
   "cell_type": "code",
   "execution_count": 3,
   "id": "6e6f302c",
   "metadata": {},
   "outputs": [
    {
     "data": {
      "text/plain": [
       "[20.58, 11.34, 16.17, 18.48, 2.31, 11.55, 9.24, 11.55]"
      ]
     },
     "execution_count": 3,
     "metadata": {},
     "output_type": "execute_result"
    }
   ],
   "source": [
    "R = list(map(calcularIVA, L))\n",
    "R"
   ]
  },
  {
   "cell_type": "markdown",
   "id": "c7663cbf",
   "metadata": {},
   "source": [
    "Equivalente con List Compre."
   ]
  },
  {
   "cell_type": "code",
   "execution_count": 4,
   "id": "864467a6",
   "metadata": {},
   "outputs": [
    {
     "data": {
      "text/plain": [
       "[20.58, 11.34, 16.17, 18.48, 2.31, 11.55, 9.24, 11.55]"
      ]
     },
     "execution_count": 4,
     "metadata": {},
     "output_type": "execute_result"
    }
   ],
   "source": [
    "R2 = [calcularIVA(i) for i in L]\n",
    "R2"
   ]
  },
  {
   "cell_type": "code",
   "execution_count": 7,
   "id": "0ada8877",
   "metadata": {},
   "outputs": [
    {
     "data": {
      "text/plain": [
       "[20.58, 11.34, 16.17, 18.48, 2.31, 11.55, 9.24, 11.55]"
      ]
     },
     "execution_count": 7,
     "metadata": {},
     "output_type": "execute_result"
    }
   ],
   "source": [
    "R3 = [round(i * 21 / 100, 2) for i in L]\n",
    "R3"
   ]
  },
  {
   "cell_type": "code",
   "execution_count": 8,
   "id": "3207dedc",
   "metadata": {},
   "outputs": [
    {
     "data": {
      "text/plain": [
       "{2.31, 9.24, 11.34, 11.55, 16.17, 18.48, 20.58}"
      ]
     },
     "execution_count": 8,
     "metadata": {},
     "output_type": "execute_result"
    }
   ],
   "source": [
    "C1 = {calcularIVA(i) for i in L}\n",
    "C1"
   ]
  },
  {
   "cell_type": "markdown",
   "id": "bc08bba4",
   "metadata": {},
   "source": [
    "Iterador filter"
   ]
  },
  {
   "cell_type": "code",
   "execution_count": 14,
   "id": "fb7f60a8",
   "metadata": {},
   "outputs": [
    {
     "data": {
      "text/plain": [
       "[50, 12, 6, 22, 22]"
      ]
     },
     "execution_count": 14,
     "metadata": {},
     "output_type": "execute_result"
    }
   ],
   "source": [
    "# Generar 30 números aleatorios:\n",
    "L2 = [randint(1,50) for i in range(20)]\n",
    "L2[:5]"
   ]
  },
  {
   "cell_type": "code",
   "execution_count": 15,
   "id": "cced3e74",
   "metadata": {},
   "outputs": [
    {
     "data": {
      "text/plain": [
       "[50, 12, 6, 22, 22, 5, 2, 41, 12, 46, 16, 26, 13, 30, 30, 14, 16, 45, 11, 31]"
      ]
     },
     "execution_count": 15,
     "metadata": {},
     "output_type": "execute_result"
    }
   ],
   "source": [
    "L2"
   ]
  },
  {
   "cell_type": "code",
   "execution_count": 16,
   "id": "784c5f94",
   "metadata": {},
   "outputs": [],
   "source": [
    "# Filtrar con filter los números > 30\n",
    "def filtro(numero):\n",
    "    if numero > 30:\n",
    "        return True\n",
    "    else:\n",
    "        return False"
   ]
  },
  {
   "cell_type": "code",
   "execution_count": 17,
   "id": "622e4efa",
   "metadata": {},
   "outputs": [
    {
     "data": {
      "text/plain": [
       "[50, 41, 46, 45, 31]"
      ]
     },
     "execution_count": 17,
     "metadata": {},
     "output_type": "execute_result"
    }
   ],
   "source": [
    "R3 = list(filter(filtro, L2))\n",
    "R3"
   ]
  },
  {
   "cell_type": "code",
   "execution_count": 18,
   "id": "fecce4e9",
   "metadata": {},
   "outputs": [
    {
     "data": {
      "text/plain": [
       "[50, 41, 46, 45, 31]"
      ]
     },
     "execution_count": 18,
     "metadata": {},
     "output_type": "execute_result"
    }
   ],
   "source": [
    "# Equivalente con List Compre.\n",
    "R4 = [i for i in L2 if filtro(i)]\n",
    "R4"
   ]
  },
  {
   "cell_type": "code",
   "execution_count": 19,
   "id": "a6d7a065",
   "metadata": {},
   "outputs": [
    {
     "data": {
      "text/plain": [
       "[50, 41, 46, 45, 31]"
      ]
     },
     "execution_count": 19,
     "metadata": {},
     "output_type": "execute_result"
    }
   ],
   "source": [
    "R5 = [i for i in L2 if i > 30]\n",
    "R5"
   ]
  },
  {
   "cell_type": "markdown",
   "id": "55947e59",
   "metadata": {},
   "source": [
    "reduce:"
   ]
  },
  {
   "cell_type": "code",
   "execution_count": 22,
   "id": "ee6a662c",
   "metadata": {},
   "outputs": [],
   "source": [
    "def sumar(a,b):\n",
    "    print(a,b)\n",
    "    return a+b"
   ]
  },
  {
   "cell_type": "code",
   "execution_count": null,
   "id": "a83ea813",
   "metadata": {},
   "outputs": [],
   "source": [
    "L = [2,3,4,5,6,1]\n",
    "resul = reduce(sumar, L)\n",
    "print(\"El resultado es:\", resul)"
   ]
  }
 ],
 "metadata": {
  "kernelspec": {
   "display_name": "Python 3 (ipykernel)",
   "language": "python",
   "name": "python3"
  },
  "language_info": {
   "codemirror_mode": {
    "name": "ipython",
    "version": 3
   },
   "file_extension": ".py",
   "mimetype": "text/x-python",
   "name": "python",
   "nbconvert_exporter": "python",
   "pygments_lexer": "ipython3",
   "version": "3.8.5"
  }
 },
 "nbformat": 4,
 "nbformat_minor": 5
}

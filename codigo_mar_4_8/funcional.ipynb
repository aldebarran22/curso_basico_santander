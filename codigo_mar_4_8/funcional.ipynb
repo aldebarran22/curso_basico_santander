{
 "cells": [
  {
   "cell_type": "markdown",
   "id": "8786118c",
   "metadata": {},
   "source": [
    "## Programación Funcional en Python"
   ]
  },
  {
   "cell_type": "markdown",
   "id": "d25e5a16",
   "metadata": {},
   "source": [
    "Contenidos:"
   ]
  },
  {
   "cell_type": "markdown",
   "id": "4f98b6ac",
   "metadata": {},
   "source": [
    " - Iteradores: map, filter y reduce\n",
    " - List comprehession\n",
    " - generadores\n",
    " - funciones lambda\n",
    " - ordenación de colecciones"
   ]
  },
  {
   "cell_type": "markdown",
   "id": "fd594da5",
   "metadata": {},
   "source": [
    "Iterador map:"
   ]
  },
  {
   "cell_type": "code",
   "execution_count": 25,
   "id": "9a96d209",
   "metadata": {},
   "outputs": [],
   "source": [
    "from random import randint\n",
    "from functools import reduce\n",
    "from string import ascii_uppercase"
   ]
  },
  {
   "cell_type": "code",
   "execution_count": 1,
   "id": "55f72f26",
   "metadata": {},
   "outputs": [],
   "source": [
    "def calcularIVA(importe, iva=21):\n",
    "    return round(importe * iva / 100, 2)"
   ]
  },
  {
   "cell_type": "code",
   "execution_count": 2,
   "id": "10231c96",
   "metadata": {},
   "outputs": [],
   "source": [
    "L = [98,54,77,88,11,55,44,55]"
   ]
  },
  {
   "cell_type": "code",
   "execution_count": 3,
   "id": "fa3f5437",
   "metadata": {},
   "outputs": [
    {
     "data": {
      "text/plain": [
       "[20.58, 11.34, 16.17, 18.48, 2.31, 11.55, 9.24, 11.55]"
      ]
     },
     "execution_count": 3,
     "metadata": {},
     "output_type": "execute_result"
    }
   ],
   "source": [
    "R = list(map(calcularIVA, L))\n",
    "R"
   ]
  },
  {
   "cell_type": "markdown",
   "id": "dbb7c80f",
   "metadata": {},
   "source": [
    "Equivalente con List Compre."
   ]
  },
  {
   "cell_type": "code",
   "execution_count": 4,
   "id": "8491e6d6",
   "metadata": {},
   "outputs": [
    {
     "data": {
      "text/plain": [
       "[20.58, 11.34, 16.17, 18.48, 2.31, 11.55, 9.24, 11.55]"
      ]
     },
     "execution_count": 4,
     "metadata": {},
     "output_type": "execute_result"
    }
   ],
   "source": [
    "R2 = [calcularIVA(i) for i in L]\n",
    "R2"
   ]
  },
  {
   "cell_type": "code",
   "execution_count": 7,
   "id": "a2917c12",
   "metadata": {},
   "outputs": [
    {
     "data": {
      "text/plain": [
       "[20.58, 11.34, 16.17, 18.48, 2.31, 11.55, 9.24, 11.55]"
      ]
     },
     "execution_count": 7,
     "metadata": {},
     "output_type": "execute_result"
    }
   ],
   "source": [
    "R3 = [round(i * 21 / 100, 2) for i in L]\n",
    "R3"
   ]
  },
  {
   "cell_type": "code",
   "execution_count": 8,
   "id": "e5971ac5",
   "metadata": {},
   "outputs": [
    {
     "data": {
      "text/plain": [
       "{2.31, 9.24, 11.34, 11.55, 16.17, 18.48, 20.58}"
      ]
     },
     "execution_count": 8,
     "metadata": {},
     "output_type": "execute_result"
    }
   ],
   "source": [
    "C1 = {calcularIVA(i) for i in L}\n",
    "C1"
   ]
  },
  {
   "cell_type": "markdown",
   "id": "28333972",
   "metadata": {},
   "source": [
    "Iterador filter"
   ]
  },
  {
   "cell_type": "code",
   "execution_count": 14,
   "id": "932c2722",
   "metadata": {},
   "outputs": [
    {
     "data": {
      "text/plain": [
       "[50, 12, 6, 22, 22]"
      ]
     },
     "execution_count": 14,
     "metadata": {},
     "output_type": "execute_result"
    }
   ],
   "source": [
    "# Generar 30 números aleatorios:\n",
    "L2 = [randint(1,50) for i in range(20)]\n",
    "L2[:5]"
   ]
  },
  {
   "cell_type": "code",
   "execution_count": 15,
   "id": "5a05f50d",
   "metadata": {},
   "outputs": [
    {
     "data": {
      "text/plain": [
       "[50, 12, 6, 22, 22, 5, 2, 41, 12, 46, 16, 26, 13, 30, 30, 14, 16, 45, 11, 31]"
      ]
     },
     "execution_count": 15,
     "metadata": {},
     "output_type": "execute_result"
    }
   ],
   "source": [
    "L2"
   ]
  },
  {
   "cell_type": "code",
   "execution_count": 16,
   "id": "16977a4f",
   "metadata": {},
   "outputs": [],
   "source": [
    "# Filtrar con filter los números > 30\n",
    "def filtro(numero):\n",
    "    if numero > 30:\n",
    "        return True\n",
    "    else:\n",
    "        return False"
   ]
  },
  {
   "cell_type": "code",
   "execution_count": 17,
   "id": "8fe1bb16",
   "metadata": {},
   "outputs": [
    {
     "data": {
      "text/plain": [
       "[50, 41, 46, 45, 31]"
      ]
     },
     "execution_count": 17,
     "metadata": {},
     "output_type": "execute_result"
    }
   ],
   "source": [
    "R3 = list(filter(filtro, L2))\n",
    "R3"
   ]
  },
  {
   "cell_type": "code",
   "execution_count": 18,
   "id": "eebb2b53",
   "metadata": {},
   "outputs": [
    {
     "data": {
      "text/plain": [
       "[50, 41, 46, 45, 31]"
      ]
     },
     "execution_count": 18,
     "metadata": {},
     "output_type": "execute_result"
    }
   ],
   "source": [
    "# Equivalente con List Compre.\n",
    "R4 = [i for i in L2 if filtro(i)]\n",
    "R4"
   ]
  },
  {
   "cell_type": "code",
   "execution_count": 19,
   "id": "334d7903",
   "metadata": {},
   "outputs": [
    {
     "data": {
      "text/plain": [
       "[50, 41, 46, 45, 31]"
      ]
     },
     "execution_count": 19,
     "metadata": {},
     "output_type": "execute_result"
    }
   ],
   "source": [
    "R5 = [i for i in L2 if i > 30]\n",
    "R5"
   ]
  },
  {
   "cell_type": "markdown",
   "id": "48896ca9",
   "metadata": {},
   "source": [
    "reduce:"
   ]
  },
  {
   "cell_type": "code",
   "execution_count": 23,
   "id": "8271a12a",
   "metadata": {},
   "outputs": [],
   "source": [
    "def sumar(a,b):\n",
    "    print(a,b)\n",
    "    return a+b"
   ]
  },
  {
   "cell_type": "code",
   "execution_count": 24,
   "id": "221cc44e",
   "metadata": {},
   "outputs": [
    {
     "name": "stdout",
     "output_type": "stream",
     "text": [
      "2 3\n",
      "5 4\n",
      "9 5\n",
      "14 6\n",
      "20 1\n",
      "El resultado es: 21\n"
     ]
    }
   ],
   "source": [
    "L = [2,3,4,5,6,1]\n",
    "resul = reduce(sumar, L)\n",
    "print(\"El resultado es:\", resul)"
   ]
  },
  {
   "cell_type": "code",
   "execution_count": null,
   "id": "a8f68cd3",
   "metadata": {},
   "outputs": [],
   "source": [
    "d = {\"nombre\":\"AAA\",\"años\":20, \"numempresas\":5, \"superior\":True}"
   ]
  },
  {
   "cell_type": "code",
   "execution_count": 32,
   "id": "0867bb70",
   "metadata": {},
   "outputs": [],
   "source": [
    "def mejorCandidato(d1, d2):\n",
    "    print(d1['nombre'],'<==>',d2['nombre'])\n",
    "    \n",
    "    if d1['años'] > d2['años']:\n",
    "        return d1\n",
    "    \n",
    "    elif d1['años'] == d2['años']:\n",
    "        \n",
    "        if d1['numempresas'] > d2['numempresas']:\n",
    "            return d1\n",
    "        \n",
    "        elif d1['numempresas'] == d2['numempresas']:\n",
    "            \n",
    "            return d1 if d1['superior'] else d2\n",
    "        \n",
    "        else:\n",
    "            return d2\n",
    "    \n",
    "    else:\n",
    "        return d2\n",
    "        "
   ]
  },
  {
   "cell_type": "code",
   "execution_count": 31,
   "id": "90d6636b",
   "metadata": {},
   "outputs": [
    {
     "data": {
      "text/plain": [
       "[{'nombre': 'AAA', 'años': 8, 'numempresas': 1, 'superior': False},\n",
       " {'nombre': 'BBB', 'años': 6, 'numempresas': 3, 'superior': False},\n",
       " {'nombre': 'CCC', 'años': 10, 'numempresas': 4, 'superior': False},\n",
       " {'nombre': 'DDD', 'años': 7, 'numempresas': 1, 'superior': False},\n",
       " {'nombre': 'EEE', 'años': 7, 'numempresas': 7, 'superior': True},\n",
       " {'nombre': 'FFF', 'años': 6, 'numempresas': 3, 'superior': True},\n",
       " {'nombre': 'GGG', 'años': 10, 'numempresas': 1, 'superior': True},\n",
       " {'nombre': 'HHH', 'años': 7, 'numempresas': 4, 'superior': False},\n",
       " {'nombre': 'III', 'años': 10, 'numempresas': 6, 'superior': True},\n",
       " {'nombre': 'JJJ', 'años': 5, 'numempresas': 6, 'superior': False},\n",
       " {'nombre': 'KKK', 'años': 7, 'numempresas': 4, 'superior': True},\n",
       " {'nombre': 'LLL', 'años': 5, 'numempresas': 1, 'superior': True},\n",
       " {'nombre': 'MMM', 'años': 10, 'numempresas': 3, 'superior': True},\n",
       " {'nombre': 'NNN', 'años': 8, 'numempresas': 6, 'superior': True},\n",
       " {'nombre': 'OOO', 'años': 9, 'numempresas': 5, 'superior': True},\n",
       " {'nombre': 'PPP', 'años': 9, 'numempresas': 2, 'superior': True},\n",
       " {'nombre': 'QQQ', 'años': 6, 'numempresas': 2, 'superior': True},\n",
       " {'nombre': 'RRR', 'años': 5, 'numempresas': 6, 'superior': False},\n",
       " {'nombre': 'SSS', 'años': 6, 'numempresas': 6, 'superior': True},\n",
       " {'nombre': 'TTT', 'años': 7, 'numempresas': 2, 'superior': True},\n",
       " {'nombre': 'UUU', 'años': 10, 'numempresas': 5, 'superior': True},\n",
       " {'nombre': 'VVV', 'años': 10, 'numempresas': 7, 'superior': True},\n",
       " {'nombre': 'WWW', 'años': 8, 'numempresas': 3, 'superior': True},\n",
       " {'nombre': 'XXX', 'años': 9, 'numempresas': 3, 'superior': True},\n",
       " {'nombre': 'YYY', 'años': 6, 'numempresas': 1, 'superior': False},\n",
       " {'nombre': 'ZZZ', 'años': 10, 'numempresas': 6, 'superior': True}]"
      ]
     },
     "execution_count": 31,
     "metadata": {},
     "output_type": "execute_result"
    }
   ],
   "source": [
    "candidatos = [{\"nombre\":letra * 3, \"años\":randint(5,10), \n",
    "               \"numempresas\":randint(1,8), \n",
    "               \"superior\":True if randint(2,10) % 2 == 0 else False} for letra in ascii_uppercase]\n",
    "candidatos"
   ]
  },
  {
   "cell_type": "code",
   "execution_count": 33,
   "id": "736b93a4",
   "metadata": {},
   "outputs": [
    {
     "name": "stdout",
     "output_type": "stream",
     "text": [
      "AAA <==> BBB\n",
      "AAA <==> CCC\n",
      "CCC <==> DDD\n",
      "CCC <==> EEE\n",
      "CCC <==> FFF\n",
      "CCC <==> GGG\n",
      "CCC <==> HHH\n",
      "CCC <==> III\n",
      "III <==> JJJ\n",
      "III <==> KKK\n",
      "III <==> LLL\n",
      "III <==> MMM\n",
      "III <==> NNN\n",
      "III <==> OOO\n",
      "III <==> PPP\n",
      "III <==> QQQ\n",
      "III <==> RRR\n",
      "III <==> SSS\n",
      "III <==> TTT\n",
      "III <==> UUU\n",
      "III <==> VVV\n",
      "VVV <==> WWW\n",
      "VVV <==> XXX\n",
      "VVV <==> YYY\n",
      "VVV <==> ZZZ\n",
      "El mejor candidato:  {'nombre': 'VVV', 'años': 10, 'numempresas': 7, 'superior': True}\n"
     ]
    }
   ],
   "source": [
    "print('El mejor candidato: ', reduce(mejorCandidato, candidatos))"
   ]
  },
  {
   "cell_type": "code",
   "execution_count": 35,
   "id": "a444b5d0",
   "metadata": {},
   "outputs": [
    {
     "name": "stdout",
     "output_type": "stream",
     "text": [
      "AAA <==> BBB\n"
     ]
    },
    {
     "data": {
      "text/plain": [
       "{'nombre': 'AAA', 'años': 8, 'numempresas': 1, 'superior': False}"
      ]
     },
     "execution_count": 35,
     "metadata": {},
     "output_type": "execute_result"
    }
   ],
   "source": [
    "mejorCandidato(candidatos[0], candidatos[1])"
   ]
  },
  {
   "cell_type": "markdown",
   "id": "dfa15bc0",
   "metadata": {},
   "source": [
    "Ordenación de candidatos"
   ]
  },
  {
   "cell_type": "code",
   "execution_count": 37,
   "id": "d718fcac",
   "metadata": {},
   "outputs": [
    {
     "data": {
      "text/plain": [
       "[{'nombre': 'CCC', 'años': 10, 'numempresas': 4, 'superior': False},\n",
       " {'nombre': 'GGG', 'años': 10, 'numempresas': 1, 'superior': True},\n",
       " {'nombre': 'III', 'años': 10, 'numempresas': 6, 'superior': True},\n",
       " {'nombre': 'MMM', 'años': 10, 'numempresas': 3, 'superior': True},\n",
       " {'nombre': 'UUU', 'años': 10, 'numempresas': 5, 'superior': True},\n",
       " {'nombre': 'VVV', 'años': 10, 'numempresas': 7, 'superior': True},\n",
       " {'nombre': 'ZZZ', 'años': 10, 'numempresas': 6, 'superior': True},\n",
       " {'nombre': 'OOO', 'años': 9, 'numempresas': 5, 'superior': True},\n",
       " {'nombre': 'PPP', 'años': 9, 'numempresas': 2, 'superior': True},\n",
       " {'nombre': 'XXX', 'años': 9, 'numempresas': 3, 'superior': True},\n",
       " {'nombre': 'AAA', 'años': 8, 'numempresas': 1, 'superior': False},\n",
       " {'nombre': 'NNN', 'años': 8, 'numempresas': 6, 'superior': True},\n",
       " {'nombre': 'WWW', 'años': 8, 'numempresas': 3, 'superior': True},\n",
       " {'nombre': 'DDD', 'años': 7, 'numempresas': 1, 'superior': False},\n",
       " {'nombre': 'EEE', 'años': 7, 'numempresas': 7, 'superior': True},\n",
       " {'nombre': 'HHH', 'años': 7, 'numempresas': 4, 'superior': False},\n",
       " {'nombre': 'KKK', 'años': 7, 'numempresas': 4, 'superior': True},\n",
       " {'nombre': 'TTT', 'años': 7, 'numempresas': 2, 'superior': True},\n",
       " {'nombre': 'BBB', 'años': 6, 'numempresas': 3, 'superior': False},\n",
       " {'nombre': 'FFF', 'años': 6, 'numempresas': 3, 'superior': True},\n",
       " {'nombre': 'QQQ', 'años': 6, 'numempresas': 2, 'superior': True},\n",
       " {'nombre': 'SSS', 'años': 6, 'numempresas': 6, 'superior': True},\n",
       " {'nombre': 'YYY', 'años': 6, 'numempresas': 1, 'superior': False},\n",
       " {'nombre': 'JJJ', 'años': 5, 'numempresas': 6, 'superior': False},\n",
       " {'nombre': 'LLL', 'años': 5, 'numempresas': 1, 'superior': True},\n",
       " {'nombre': 'RRR', 'años': 5, 'numempresas': 6, 'superior': False}]"
      ]
     },
     "execution_count": 37,
     "metadata": {},
     "output_type": "execute_result"
    }
   ],
   "source": [
    "candidatos.sort(key=lambda d : d['años'], reverse=True)\n",
    "candidatos"
   ]
  },
  {
   "cell_type": "code",
   "execution_count": 38,
   "id": "2f09ca84",
   "metadata": {},
   "outputs": [],
   "source": [
    "def calcularPesoCand(d):\n",
    "    # 'años': 10, 'numempresas': 4, --> 104\n",
    "    # 'años': 10, 'numempresas': 7, --> 107\n",
    "    # 'años': 9, 'numempresas': 5,  --> 95\n",
    "    resul = str(d['años']) + str(d['numempresas']) \n",
    "    return int(resul)"
   ]
  },
  {
   "cell_type": "code",
   "execution_count": 39,
   "id": "a2ce2aa3",
   "metadata": {},
   "outputs": [
    {
     "data": {
      "text/plain": [
       "104"
      ]
     },
     "execution_count": 39,
     "metadata": {},
     "output_type": "execute_result"
    }
   ],
   "source": [
    "calcularPesoCand(candidatos[0])"
   ]
  },
  {
   "cell_type": "code",
   "execution_count": 40,
   "id": "5313ee8f",
   "metadata": {},
   "outputs": [
    {
     "data": {
      "text/plain": [
       "56"
      ]
     },
     "execution_count": 40,
     "metadata": {},
     "output_type": "execute_result"
    }
   ],
   "source": [
    "calcularPesoCand(candidatos[-1])"
   ]
  },
  {
   "cell_type": "code",
   "execution_count": 42,
   "id": "a1fb43c6",
   "metadata": {},
   "outputs": [
    {
     "data": {
      "text/plain": [
       "[{'nombre': 'VVV', 'años': 10, 'numempresas': 7, 'superior': True},\n",
       " {'nombre': 'III', 'años': 10, 'numempresas': 6, 'superior': True},\n",
       " {'nombre': 'ZZZ', 'años': 10, 'numempresas': 6, 'superior': True},\n",
       " {'nombre': 'UUU', 'años': 10, 'numempresas': 5, 'superior': True},\n",
       " {'nombre': 'CCC', 'años': 10, 'numempresas': 4, 'superior': False},\n",
       " {'nombre': 'MMM', 'años': 10, 'numempresas': 3, 'superior': True},\n",
       " {'nombre': 'GGG', 'años': 10, 'numempresas': 1, 'superior': True},\n",
       " {'nombre': 'OOO', 'años': 9, 'numempresas': 5, 'superior': True},\n",
       " {'nombre': 'XXX', 'años': 9, 'numempresas': 3, 'superior': True},\n",
       " {'nombre': 'PPP', 'años': 9, 'numempresas': 2, 'superior': True},\n",
       " {'nombre': 'NNN', 'años': 8, 'numempresas': 6, 'superior': True},\n",
       " {'nombre': 'WWW', 'años': 8, 'numempresas': 3, 'superior': True},\n",
       " {'nombre': 'AAA', 'años': 8, 'numempresas': 1, 'superior': False},\n",
       " {'nombre': 'EEE', 'años': 7, 'numempresas': 7, 'superior': True},\n",
       " {'nombre': 'HHH', 'años': 7, 'numempresas': 4, 'superior': False},\n",
       " {'nombre': 'KKK', 'años': 7, 'numempresas': 4, 'superior': True},\n",
       " {'nombre': 'TTT', 'años': 7, 'numempresas': 2, 'superior': True},\n",
       " {'nombre': 'DDD', 'años': 7, 'numempresas': 1, 'superior': False},\n",
       " {'nombre': 'SSS', 'años': 6, 'numempresas': 6, 'superior': True},\n",
       " {'nombre': 'BBB', 'años': 6, 'numempresas': 3, 'superior': False},\n",
       " {'nombre': 'FFF', 'años': 6, 'numempresas': 3, 'superior': True},\n",
       " {'nombre': 'QQQ', 'años': 6, 'numempresas': 2, 'superior': True},\n",
       " {'nombre': 'YYY', 'años': 6, 'numempresas': 1, 'superior': False},\n",
       " {'nombre': 'JJJ', 'años': 5, 'numempresas': 6, 'superior': False},\n",
       " {'nombre': 'RRR', 'años': 5, 'numempresas': 6, 'superior': False},\n",
       " {'nombre': 'LLL', 'años': 5, 'numempresas': 1, 'superior': True}]"
      ]
     },
     "execution_count": 42,
     "metadata": {},
     "output_type": "execute_result"
    }
   ],
   "source": [
    "candidatos.sort(key=calcularPesoCand, reverse=True)\n",
    "candidatos"
   ]
  },
  {
   "cell_type": "code",
   "execution_count": 44,
   "id": "3bfdaa76",
   "metadata": {},
   "outputs": [
    {
     "name": "stdout",
     "output_type": "stream",
     "text": [
      "Los 10 mejores:\n",
      "{'nombre': 'VVV', 'años': 10, 'numempresas': 7, 'superior': True}\n",
      "{'nombre': 'III', 'años': 10, 'numempresas': 6, 'superior': True}\n",
      "{'nombre': 'ZZZ', 'años': 10, 'numempresas': 6, 'superior': True}\n",
      "{'nombre': 'UUU', 'años': 10, 'numempresas': 5, 'superior': True}\n",
      "{'nombre': 'CCC', 'años': 10, 'numempresas': 4, 'superior': False}\n",
      "{'nombre': 'MMM', 'años': 10, 'numempresas': 3, 'superior': True}\n",
      "{'nombre': 'GGG', 'años': 10, 'numempresas': 1, 'superior': True}\n",
      "{'nombre': 'OOO', 'años': 9, 'numempresas': 5, 'superior': True}\n",
      "{'nombre': 'XXX', 'años': 9, 'numempresas': 3, 'superior': True}\n",
      "{'nombre': 'PPP', 'años': 9, 'numempresas': 2, 'superior': True}\n"
     ]
    }
   ],
   "source": [
    "print('Los 10 mejores:')\n",
    "for c in candidatos[:10]:\n",
    "    print(c)"
   ]
  },
  {
   "cell_type": "markdown",
   "id": "da342038",
   "metadata": {},
   "source": [
    "Generadores:"
   ]
  },
  {
   "cell_type": "code",
   "execution_count": 45,
   "id": "ede7a1d5",
   "metadata": {},
   "outputs": [
    {
     "data": {
      "text/plain": [
       "<generator object <genexpr> at 0x000002224100A580>"
      ]
     },
     "execution_count": 45,
     "metadata": {},
     "output_type": "execute_result"
    }
   ],
   "source": [
    "t = (2**i for i in range(10))\n",
    "t"
   ]
  },
  {
   "cell_type": "code",
   "execution_count": 46,
   "id": "fd431f42",
   "metadata": {},
   "outputs": [
    {
     "name": "stdout",
     "output_type": "stream",
     "text": [
      "1 2 4 8 16 32 64 128 256 512 "
     ]
    }
   ],
   "source": [
    "for i in t:\n",
    "    print(i, end=\" \")"
   ]
  },
  {
   "cell_type": "code",
   "execution_count": 47,
   "id": "6c3f53f1",
   "metadata": {},
   "outputs": [],
   "source": [
    "for i in t:\n",
    "    print(i, end=\" \")"
   ]
  },
  {
   "cell_type": "code",
   "execution_count": 48,
   "id": "b1d82441",
   "metadata": {},
   "outputs": [
    {
     "data": {
      "text/plain": [
       "(1, 2, 4, 8, 16, 32, 64, 128, 256, 512)"
      ]
     },
     "execution_count": 48,
     "metadata": {},
     "output_type": "execute_result"
    }
   ],
   "source": [
    "t = tuple((2**i for i in range(10)))\n",
    "t"
   ]
  },
  {
   "cell_type": "code",
   "execution_count": null,
   "id": "613d3c3c",
   "metadata": {},
   "outputs": [],
   "source": []
  }
 ],
 "metadata": {
  "kernelspec": {
   "display_name": "Python 3 (ipykernel)",
   "language": "python",
   "name": "python3"
  },
  "language_info": {
   "codemirror_mode": {
    "name": "ipython",
    "version": 3
   },
   "file_extension": ".py",
   "mimetype": "text/x-python",
   "name": "python",
   "nbconvert_exporter": "python",
   "pygments_lexer": "ipython3",
   "version": "3.8.5"
  }
 },
 "nbformat": 4,
 "nbformat_minor": 5
}

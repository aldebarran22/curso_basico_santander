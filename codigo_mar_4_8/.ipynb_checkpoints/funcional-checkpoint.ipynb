{
 "cells": [
  {
   "cell_type": "markdown",
   "id": "aebf68bf",
   "metadata": {},
   "source": [
    "## Programación Funcional en Python"
   ]
  },
  {
   "cell_type": "markdown",
   "id": "d3a82d99",
   "metadata": {},
   "source": [
    " - Iteradores: map, filter y reduce\n",
    " - List comprehession\n",
    " - generadores\n",
    " - funciones lambda\n",
    " - ordenación de colecciones"
   ]
  },
  {
   "cell_type": "code",
   "execution_count": null,
   "id": "dfb3450f",
   "metadata": {},
   "outputs": [],
   "source": []
  }
 ],
 "metadata": {
  "kernelspec": {
   "display_name": "Python 3 (ipykernel)",
   "language": "python",
   "name": "python3"
  },
  "language_info": {
   "codemirror_mode": {
    "name": "ipython",
    "version": 3
   },
   "file_extension": ".py",
   "mimetype": "text/x-python",
   "name": "python",
   "nbconvert_exporter": "python",
   "pygments_lexer": "ipython3",
   "version": "3.8.5"
  }
 },
 "nbformat": 4,
 "nbformat_minor": 5
}

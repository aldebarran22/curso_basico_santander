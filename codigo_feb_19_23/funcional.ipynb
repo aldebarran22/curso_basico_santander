{
 "cells": [
  {
   "cell_type": "markdown",
   "id": "c3906e1b",
   "metadata": {},
   "source": [
    "### Programación Funcional"
   ]
  },
  {
   "cell_type": "markdown",
   "id": "b59ebdac",
   "metadata": {},
   "source": [
    "#### Iteradores: map, filter, reduce y List comprehession"
   ]
  },
  {
   "cell_type": "code",
   "execution_count": 1,
   "id": "403e0a32",
   "metadata": {},
   "outputs": [],
   "source": [
    "precios = [1200, 340, 55, 230, 440, 350]"
   ]
  },
  {
   "cell_type": "code",
   "execution_count": 2,
   "id": "c7edb9f8",
   "metadata": {},
   "outputs": [],
   "source": [
    "def iva(precio):\n",
    "    return precio * 0.21"
   ]
  },
  {
   "cell_type": "code",
   "execution_count": 3,
   "id": "4013dab8",
   "metadata": {},
   "outputs": [
    {
     "data": {
      "text/plain": [
       "21.0"
      ]
     },
     "execution_count": 3,
     "metadata": {},
     "output_type": "execute_result"
    }
   ],
   "source": [
    "iva(100)"
   ]
  },
  {
   "cell_type": "code",
   "execution_count": 5,
   "id": "9ddb9c4a",
   "metadata": {},
   "outputs": [
    {
     "name": "stdout",
     "output_type": "stream",
     "text": [
      "[252.0, 71.39999999999999, 11.549999999999999, 48.3, 92.39999999999999, 73.5]\n"
     ]
    }
   ],
   "source": [
    "R = list()\n",
    "for i in precios:\n",
    "    R.append(iva(i))\n",
    "print(R)"
   ]
  },
  {
   "cell_type": "code",
   "execution_count": null,
   "id": "5d5c5d25",
   "metadata": {},
   "outputs": [],
   "source": []
  }
 ],
 "metadata": {
  "kernelspec": {
   "display_name": "Python 3 (ipykernel)",
   "language": "python",
   "name": "python3"
  },
  "language_info": {
   "codemirror_mode": {
    "name": "ipython",
    "version": 3
   },
   "file_extension": ".py",
   "mimetype": "text/x-python",
   "name": "python",
   "nbconvert_exporter": "python",
   "pygments_lexer": "ipython3",
   "version": "3.8.5"
  }
 },
 "nbformat": 4,
 "nbformat_minor": 5
}

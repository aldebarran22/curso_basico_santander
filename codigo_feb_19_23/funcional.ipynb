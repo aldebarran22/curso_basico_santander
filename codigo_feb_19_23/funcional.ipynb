{
 "cells": [
  {
   "cell_type": "markdown",
   "id": "3e9ed6c7",
   "metadata": {},
   "source": [
    "### Programación Funcional"
   ]
  },
  {
   "cell_type": "markdown",
   "id": "32bcdd92",
   "metadata": {},
   "source": [
    "#### Iteradores: map, filter, reduce y List comprehession"
   ]
  },
  {
   "cell_type": "code",
   "execution_count": 20,
   "id": "301b5a85",
   "metadata": {},
   "outputs": [],
   "source": [
    "from functools import reduce"
   ]
  },
  {
   "cell_type": "code",
   "execution_count": 1,
   "id": "e60c9391",
   "metadata": {},
   "outputs": [],
   "source": [
    "precios = [1200, 340, 55, 230, 440, 350]"
   ]
  },
  {
   "cell_type": "code",
   "execution_count": 2,
   "id": "a8e200cf",
   "metadata": {},
   "outputs": [],
   "source": [
    "def iva(precio):\n",
    "    return round(precio * 0.21, 2)"
   ]
  },
  {
   "cell_type": "code",
   "execution_count": 3,
   "id": "6fdf0f1d",
   "metadata": {},
   "outputs": [
    {
     "data": {
      "text/plain": [
       "21.0"
      ]
     },
     "execution_count": 3,
     "metadata": {},
     "output_type": "execute_result"
    }
   ],
   "source": [
    "iva(100)"
   ]
  },
  {
   "cell_type": "code",
   "execution_count": 4,
   "id": "c05165e9",
   "metadata": {},
   "outputs": [
    {
     "name": "stdout",
     "output_type": "stream",
     "text": [
      "[252.0, 71.4, 11.55, 48.3, 92.4, 73.5]\n"
     ]
    }
   ],
   "source": [
    "R = []\n",
    "for i in precios:\n",
    "    R.append(iva(i))\n",
    "print(R)"
   ]
  },
  {
   "cell_type": "code",
   "execution_count": 5,
   "id": "e55af0af",
   "metadata": {},
   "outputs": [
    {
     "data": {
      "text/plain": [
       "[252.0, 71.4, 11.55, 48.3, 92.4, 73.5]"
      ]
     },
     "execution_count": 5,
     "metadata": {},
     "output_type": "execute_result"
    }
   ],
   "source": [
    "R2 = list(map(iva, precios))\n",
    "R2"
   ]
  },
  {
   "cell_type": "code",
   "execution_count": 6,
   "id": "f27590e8",
   "metadata": {},
   "outputs": [
    {
     "data": {
      "text/plain": [
       "[252.0, 71.4, 11.55, 48.3, 92.4, 73.5]"
      ]
     },
     "execution_count": 6,
     "metadata": {},
     "output_type": "execute_result"
    }
   ],
   "source": [
    "R3 = [iva(i) for i in precios]\n",
    "R3"
   ]
  },
  {
   "cell_type": "code",
   "execution_count": 7,
   "id": "a8ad17c4",
   "metadata": {},
   "outputs": [
    {
     "data": {
      "text/plain": [
       "[252.0, 71.4, 11.55, 48.3, 92.4, 73.5]"
      ]
     },
     "execution_count": 7,
     "metadata": {},
     "output_type": "execute_result"
    }
   ],
   "source": [
    "R4 = [round(i * 0.21, 2) for i in precios]\n",
    "R4"
   ]
  },
  {
   "cell_type": "code",
   "execution_count": 8,
   "id": "90aa5d19",
   "metadata": {},
   "outputs": [
    {
     "data": {
      "text/plain": [
       "[(1200, 252.0),\n",
       " (340, 71.4),\n",
       " (55, 11.55),\n",
       " (230, 48.3),\n",
       " (440, 92.4),\n",
       " (350, 73.5)]"
      ]
     },
     "execution_count": 8,
     "metadata": {},
     "output_type": "execute_result"
    }
   ],
   "source": [
    "# Generar una lista de tuplas: (precio, iva)\n",
    "R5 = [(i, iva(i)) for i in precios]\n",
    "R5"
   ]
  },
  {
   "cell_type": "code",
   "execution_count": 9,
   "id": "47a6e3c4",
   "metadata": {},
   "outputs": [
    {
     "data": {
      "text/plain": [
       "[{'precio': 1200, 'iva': 252.0},\n",
       " {'precio': 340, 'iva': 71.4},\n",
       " {'precio': 55, 'iva': 11.55},\n",
       " {'precio': 230, 'iva': 48.3},\n",
       " {'precio': 440, 'iva': 92.4},\n",
       " {'precio': 350, 'iva': 73.5}]"
      ]
     },
     "execution_count": 9,
     "metadata": {},
     "output_type": "execute_result"
    }
   ],
   "source": [
    "# Generar una lista de diccionarios: {\"precio\":xx, \"iva\":yy}\n",
    "R6 = [{\"precio\":i, \"iva\": iva(i)} for i in precios]\n",
    "R6"
   ]
  },
  {
   "cell_type": "code",
   "execution_count": 10,
   "id": "6a956c16",
   "metadata": {},
   "outputs": [
    {
     "data": {
      "text/plain": [
       "{1: 4, 2: 4, 3: 3, 4: 1, 5: 1, 6: 1}"
      ]
     },
     "execution_count": 10,
     "metadata": {},
     "output_type": "execute_result"
    }
   ],
   "source": [
    "L = [1, 2, 3, 1, 1, 2, 3, 4, 5, 6, 3, 2, 1, 2]\n",
    "d = dict()\n",
    "for i in set(L):\n",
    "    d[i] = L.count(i)\n",
    "d"
   ]
  },
  {
   "cell_type": "code",
   "execution_count": 11,
   "id": "e558c8fc",
   "metadata": {},
   "outputs": [
    {
     "data": {
      "text/plain": [
       "{1: 4, 2: 4, 3: 3, 4: 1, 5: 1, 6: 1}"
      ]
     },
     "execution_count": 11,
     "metadata": {},
     "output_type": "execute_result"
    }
   ],
   "source": [
    "D = {i:L.count(i) for i in set(L)}\n",
    "D"
   ]
  },
  {
   "cell_type": "markdown",
   "id": "2e73973d",
   "metadata": {},
   "source": [
    "#### filter: filtrar datos de una colección"
   ]
  },
  {
   "cell_type": "code",
   "execution_count": 12,
   "id": "57fa35f3",
   "metadata": {},
   "outputs": [
    {
     "data": {
      "text/plain": [
       "[1200, 340, 55, 230, 440, 350]"
      ]
     },
     "execution_count": 12,
     "metadata": {},
     "output_type": "execute_result"
    }
   ],
   "source": [
    "precios"
   ]
  },
  {
   "cell_type": "code",
   "execution_count": 13,
   "id": "3c67a35d",
   "metadata": {},
   "outputs": [],
   "source": [
    "# filtrar precios inferiores a 400 euros\n",
    "def filtro(precio):\n",
    "    if precio < 400:\n",
    "        return True\n",
    "    else:\n",
    "        return False"
   ]
  },
  {
   "cell_type": "code",
   "execution_count": 14,
   "id": "6d0e4437",
   "metadata": {},
   "outputs": [
    {
     "data": {
      "text/plain": [
       "False"
      ]
     },
     "execution_count": 14,
     "metadata": {},
     "output_type": "execute_result"
    }
   ],
   "source": [
    "filtro(500)"
   ]
  },
  {
   "cell_type": "code",
   "execution_count": 15,
   "id": "182ec217",
   "metadata": {},
   "outputs": [
    {
     "data": {
      "text/plain": [
       "True"
      ]
     },
     "execution_count": 15,
     "metadata": {},
     "output_type": "execute_result"
    }
   ],
   "source": [
    "filtro(399)"
   ]
  },
  {
   "cell_type": "code",
   "execution_count": 16,
   "id": "5d2eac8f",
   "metadata": {},
   "outputs": [
    {
     "data": {
      "text/plain": [
       "[340, 55, 230, 350]"
      ]
     },
     "execution_count": 16,
     "metadata": {},
     "output_type": "execute_result"
    }
   ],
   "source": [
    "R = list(filter(filtro, precios))\n",
    "R"
   ]
  },
  {
   "cell_type": "code",
   "execution_count": 17,
   "id": "106849d7",
   "metadata": {},
   "outputs": [
    {
     "data": {
      "text/plain": [
       "[340, 55, 230, 350]"
      ]
     },
     "execution_count": 17,
     "metadata": {},
     "output_type": "execute_result"
    }
   ],
   "source": [
    "R2 = [i for i in precios if filtro(i)]\n",
    "R2"
   ]
  },
  {
   "cell_type": "code",
   "execution_count": 18,
   "id": "7649b29d",
   "metadata": {},
   "outputs": [
    {
     "data": {
      "text/plain": [
       "[340, 55, 230, 350]"
      ]
     },
     "execution_count": 18,
     "metadata": {},
     "output_type": "execute_result"
    }
   ],
   "source": [
    "R2 = [i for i in precios if i < 400]\n",
    "R2"
   ]
  },
  {
   "cell_type": "markdown",
   "id": "acce57ad",
   "metadata": {},
   "source": [
    "#### reduce"
   ]
  },
  {
   "cell_type": "code",
   "execution_count": 21,
   "id": "d9367017",
   "metadata": {},
   "outputs": [],
   "source": [
    "def sumar(a,b):\n",
    "    print(f'a:{a}, b: {b}')\n",
    "    \n",
    "    return a+b"
   ]
  },
  {
   "cell_type": "code",
   "execution_count": 22,
   "id": "74c855c4",
   "metadata": {},
   "outputs": [
    {
     "name": "stdout",
     "output_type": "stream",
     "text": [
      "[0, 1, 2, 3, 4, 5, 6, 7, 8, 9, 10, 11, 12, 13, 14]\n",
      "a:0, b: 1\n",
      "a:1, b: 2\n",
      "a:3, b: 3\n",
      "a:6, b: 4\n",
      "a:10, b: 5\n",
      "a:15, b: 6\n",
      "a:21, b: 7\n",
      "a:28, b: 8\n",
      "a:36, b: 9\n",
      "a:45, b: 10\n",
      "a:55, b: 11\n",
      "a:66, b: 12\n",
      "a:78, b: 13\n",
      "a:91, b: 14\n",
      "105\n"
     ]
    }
   ],
   "source": [
    "L = list(range(15))\n",
    "print(L)\n",
    "obj = reduce(sumar, L)\n",
    "print(obj)"
   ]
  },
  {
   "cell_type": "code",
   "execution_count": 29,
   "id": "99a41864",
   "metadata": {},
   "outputs": [],
   "source": [
    "d = [{\"años\":15, \"edad\":40, \"carrera\":True},\n",
    "     {\"años\":23, \"edad\":33, \"carrera\":True},\n",
    "     {\"años\":23, \"edad\":45, \"carrera\":True},\n",
    "     {\"años\":15, \"edad\":38, \"carrera\":False}\n",
    "    ]"
   ]
  },
  {
   "cell_type": "code",
   "execution_count": 27,
   "id": "908ae6ab",
   "metadata": {},
   "outputs": [],
   "source": [
    "def mejorCandidato(c1, c2):\n",
    "    if c1['años'] > c2['años']:\n",
    "        return c1\n",
    "    elif c2['años'] > c1['años']:\n",
    "        return c2\n",
    "    else:\n",
    "        if c1['carrera'] and c2['carrera']:\n",
    "            return c1 if c1['edad'] < c2['edad'] else c2\n",
    "        elif c1['carrera']:\n",
    "            return c1\n",
    "        else:\n",
    "            return c2"
   ]
  },
  {
   "cell_type": "code",
   "execution_count": 30,
   "id": "caca11d9",
   "metadata": {},
   "outputs": [
    {
     "data": {
      "text/plain": [
       "{'años': 23, 'edad': 33, 'carrera': True}"
      ]
     },
     "execution_count": 30,
     "metadata": {},
     "output_type": "execute_result"
    }
   ],
   "source": [
    "mejor = reduce(mejorCandidato, d)\n",
    "mejor"
   ]
  },
  {
   "cell_type": "code",
   "execution_count": null,
   "id": "6598d703",
   "metadata": {},
   "outputs": [],
   "source": []
  }
 ],
 "metadata": {
  "kernelspec": {
   "display_name": "Python 3 (ipykernel)",
   "language": "python",
   "name": "python3"
  },
  "language_info": {
   "codemirror_mode": {
    "name": "ipython",
    "version": 3
   },
   "file_extension": ".py",
   "mimetype": "text/x-python",
   "name": "python",
   "nbconvert_exporter": "python",
   "pygments_lexer": "ipython3",
   "version": "3.8.5"
  }
 },
 "nbformat": 4,
 "nbformat_minor": 5
}

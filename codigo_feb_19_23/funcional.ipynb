{
 "cells": [
  {
   "cell_type": "markdown",
   "id": "6058e430",
   "metadata": {},
   "source": [
    "### Programación Funcional"
   ]
  },
  {
   "cell_type": "markdown",
   "id": "b206c5f6",
   "metadata": {},
   "source": [
    "#### Iteradores: map, filter, reduce y List comprehession"
   ]
  },
  {
   "cell_type": "code",
   "execution_count": 1,
   "id": "a583d783",
   "metadata": {},
   "outputs": [],
   "source": [
    "precios = [1200, 340, 55, 230, 440, 350]"
   ]
  },
  {
   "cell_type": "code",
   "execution_count": 7,
   "id": "891e5fed",
   "metadata": {},
   "outputs": [],
   "source": [
    "def iva(precio):\n",
    "    return round(precio * 0.21, 2)"
   ]
  },
  {
   "cell_type": "code",
   "execution_count": 3,
   "id": "ed0548f3",
   "metadata": {},
   "outputs": [
    {
     "data": {
      "text/plain": [
       "21.0"
      ]
     },
     "execution_count": 3,
     "metadata": {},
     "output_type": "execute_result"
    }
   ],
   "source": [
    "iva(100)"
   ]
  },
  {
   "cell_type": "code",
   "execution_count": 9,
   "id": "c84a9112",
   "metadata": {},
   "outputs": [
    {
     "name": "stdout",
     "output_type": "stream",
     "text": [
      "[252.0, 71.4, 11.55, 48.3, 92.4, 73.5]\n"
     ]
    }
   ],
   "source": [
    "R = []\n",
    "for i in precios:\n",
    "    R.append(iva(i))\n",
    "print(R)"
   ]
  },
  {
   "cell_type": "code",
   "execution_count": 10,
   "id": "e1ae5d08",
   "metadata": {},
   "outputs": [
    {
     "data": {
      "text/plain": [
       "[252.0, 71.4, 11.55, 48.3, 92.4, 73.5]"
      ]
     },
     "execution_count": 10,
     "metadata": {},
     "output_type": "execute_result"
    }
   ],
   "source": [
    "R2 = list(map(iva, precios))\n",
    "R2"
   ]
  },
  {
   "cell_type": "code",
   "execution_count": 11,
   "id": "23b6dd07",
   "metadata": {},
   "outputs": [
    {
     "data": {
      "text/plain": [
       "[252.0, 71.4, 11.55, 48.3, 92.4, 73.5]"
      ]
     },
     "execution_count": 11,
     "metadata": {},
     "output_type": "execute_result"
    }
   ],
   "source": [
    "R3 = [iva(i) for i in precios]\n",
    "R3"
   ]
  },
  {
   "cell_type": "code",
   "execution_count": 12,
   "id": "af243976",
   "metadata": {},
   "outputs": [
    {
     "data": {
      "text/plain": [
       "[252.0, 71.4, 11.55, 48.3, 92.4, 73.5]"
      ]
     },
     "execution_count": 12,
     "metadata": {},
     "output_type": "execute_result"
    }
   ],
   "source": [
    "R4 = [round(i * 0.21, 2) for i in precios]\n",
    "R4"
   ]
  },
  {
   "cell_type": "code",
   "execution_count": null,
   "id": "aca35e96",
   "metadata": {},
   "outputs": [],
   "source": []
  }
 ],
 "metadata": {
  "kernelspec": {
   "display_name": "Python 3 (ipykernel)",
   "language": "python",
   "name": "python3"
  },
  "language_info": {
   "codemirror_mode": {
    "name": "ipython",
    "version": 3
   },
   "file_extension": ".py",
   "mimetype": "text/x-python",
   "name": "python",
   "nbconvert_exporter": "python",
   "pygments_lexer": "ipython3",
   "version": "3.8.5"
  }
 },
 "nbformat": 4,
 "nbformat_minor": 5
}

{
 "cells": [
  {
   "cell_type": "markdown",
   "id": "8296e9a8",
   "metadata": {},
   "source": [
    "### Programación Funcional"
   ]
  },
  {
   "cell_type": "markdown",
   "id": "027fb205",
   "metadata": {},
   "source": [
    "#### Iteradores: map, filter, reduce y List comprehession"
   ]
  },
  {
   "cell_type": "code",
   "execution_count": 1,
   "id": "98766f08",
   "metadata": {},
   "outputs": [],
   "source": [
    "precios = [1200, 340, 55, 230, 440, 350]"
   ]
  },
  {
   "cell_type": "code",
   "execution_count": 2,
   "id": "a5ae09b8",
   "metadata": {},
   "outputs": [],
   "source": [
    "def iva(precio):\n",
    "    return round(precio * 0.21, 2)"
   ]
  },
  {
   "cell_type": "code",
   "execution_count": 3,
   "id": "33fb382d",
   "metadata": {},
   "outputs": [
    {
     "data": {
      "text/plain": [
       "21.0"
      ]
     },
     "execution_count": 3,
     "metadata": {},
     "output_type": "execute_result"
    }
   ],
   "source": [
    "iva(100)"
   ]
  },
  {
   "cell_type": "code",
   "execution_count": 4,
   "id": "b962193c",
   "metadata": {},
   "outputs": [
    {
     "name": "stdout",
     "output_type": "stream",
     "text": [
      "[252.0, 71.4, 11.55, 48.3, 92.4, 73.5]\n"
     ]
    }
   ],
   "source": [
    "R = []\n",
    "for i in precios:\n",
    "    R.append(iva(i))\n",
    "print(R)"
   ]
  },
  {
   "cell_type": "code",
   "execution_count": 5,
   "id": "4d096a30",
   "metadata": {},
   "outputs": [
    {
     "data": {
      "text/plain": [
       "[252.0, 71.4, 11.55, 48.3, 92.4, 73.5]"
      ]
     },
     "execution_count": 5,
     "metadata": {},
     "output_type": "execute_result"
    }
   ],
   "source": [
    "R2 = list(map(iva, precios))\n",
    "R2"
   ]
  },
  {
   "cell_type": "code",
   "execution_count": 6,
   "id": "320663fc",
   "metadata": {},
   "outputs": [
    {
     "data": {
      "text/plain": [
       "[252.0, 71.4, 11.55, 48.3, 92.4, 73.5]"
      ]
     },
     "execution_count": 6,
     "metadata": {},
     "output_type": "execute_result"
    }
   ],
   "source": [
    "R3 = [iva(i) for i in precios]\n",
    "R3"
   ]
  },
  {
   "cell_type": "code",
   "execution_count": 7,
   "id": "996063db",
   "metadata": {},
   "outputs": [
    {
     "data": {
      "text/plain": [
       "[252.0, 71.4, 11.55, 48.3, 92.4, 73.5]"
      ]
     },
     "execution_count": 7,
     "metadata": {},
     "output_type": "execute_result"
    }
   ],
   "source": [
    "R4 = [round(i * 0.21, 2) for i in precios]\n",
    "R4"
   ]
  },
  {
   "cell_type": "code",
   "execution_count": 8,
   "id": "be7c6685",
   "metadata": {},
   "outputs": [
    {
     "data": {
      "text/plain": [
       "[(1200, 252.0),\n",
       " (340, 71.4),\n",
       " (55, 11.55),\n",
       " (230, 48.3),\n",
       " (440, 92.4),\n",
       " (350, 73.5)]"
      ]
     },
     "execution_count": 8,
     "metadata": {},
     "output_type": "execute_result"
    }
   ],
   "source": [
    "# Generar una lista de tuplas: (precio, iva)\n",
    "R5 = [(i, iva(i)) for i in precios]\n",
    "R5"
   ]
  },
  {
   "cell_type": "code",
   "execution_count": 9,
   "id": "b34fa35d",
   "metadata": {},
   "outputs": [
    {
     "data": {
      "text/plain": [
       "[{'precio': 1200, 'iva': 252.0},\n",
       " {'precio': 340, 'iva': 71.4},\n",
       " {'precio': 55, 'iva': 11.55},\n",
       " {'precio': 230, 'iva': 48.3},\n",
       " {'precio': 440, 'iva': 92.4},\n",
       " {'precio': 350, 'iva': 73.5}]"
      ]
     },
     "execution_count": 9,
     "metadata": {},
     "output_type": "execute_result"
    }
   ],
   "source": [
    "# Generar una lista de diccionarios: {\"precio\":xx, \"iva\":yy}\n",
    "R6 = [{\"precio\":i, \"iva\": iva(i)} for i in precios]\n",
    "R6"
   ]
  },
  {
   "cell_type": "code",
   "execution_count": 10,
   "id": "af08c373",
   "metadata": {},
   "outputs": [
    {
     "data": {
      "text/plain": [
       "{1: 4, 2: 4, 3: 3, 4: 1, 5: 1, 6: 1}"
      ]
     },
     "execution_count": 10,
     "metadata": {},
     "output_type": "execute_result"
    }
   ],
   "source": [
    "L = [1, 2, 3, 1, 1, 2, 3, 4, 5, 6, 3, 2, 1, 2]\n",
    "d = dict()\n",
    "for i in set(L):\n",
    "    d[i] = L.count(i)\n",
    "d"
   ]
  },
  {
   "cell_type": "code",
   "execution_count": 11,
   "id": "28a9b457",
   "metadata": {},
   "outputs": [
    {
     "data": {
      "text/plain": [
       "{1: 4, 2: 4, 3: 3, 4: 1, 5: 1, 6: 1}"
      ]
     },
     "execution_count": 11,
     "metadata": {},
     "output_type": "execute_result"
    }
   ],
   "source": [
    "D = {i:L.count(i) for i in set(L)}\n",
    "D"
   ]
  },
  {
   "cell_type": "markdown",
   "id": "b10cfe02",
   "metadata": {},
   "source": [
    "#### filter: filtrar datos de una colección"
   ]
  },
  {
   "cell_type": "code",
   "execution_count": 12,
   "id": "89caa042",
   "metadata": {},
   "outputs": [
    {
     "data": {
      "text/plain": [
       "[1200, 340, 55, 230, 440, 350]"
      ]
     },
     "execution_count": 12,
     "metadata": {},
     "output_type": "execute_result"
    }
   ],
   "source": [
    "precios"
   ]
  },
  {
   "cell_type": "code",
   "execution_count": 13,
   "id": "9f4d2dc9",
   "metadata": {},
   "outputs": [],
   "source": [
    "# filtrar precios inferiores a 400 euros\n",
    "def filtro(precio):\n",
    "    if precio < 400:\n",
    "        return True\n",
    "    else:\n",
    "        return False"
   ]
  },
  {
   "cell_type": "code",
   "execution_count": 14,
   "id": "3489f3fb",
   "metadata": {},
   "outputs": [
    {
     "data": {
      "text/plain": [
       "False"
      ]
     },
     "execution_count": 14,
     "metadata": {},
     "output_type": "execute_result"
    }
   ],
   "source": [
    "filtro(500)"
   ]
  },
  {
   "cell_type": "code",
   "execution_count": 15,
   "id": "7115c73d",
   "metadata": {},
   "outputs": [
    {
     "data": {
      "text/plain": [
       "True"
      ]
     },
     "execution_count": 15,
     "metadata": {},
     "output_type": "execute_result"
    }
   ],
   "source": [
    "filtro(399)"
   ]
  },
  {
   "cell_type": "code",
   "execution_count": 16,
   "id": "3c815452",
   "metadata": {},
   "outputs": [
    {
     "data": {
      "text/plain": [
       "[340, 55, 230, 350]"
      ]
     },
     "execution_count": 16,
     "metadata": {},
     "output_type": "execute_result"
    }
   ],
   "source": [
    "R = list(filter(filtro, precios))\n",
    "R"
   ]
  },
  {
   "cell_type": "code",
   "execution_count": 17,
   "id": "4544a053",
   "metadata": {},
   "outputs": [
    {
     "data": {
      "text/plain": [
       "[340, 55, 230, 350]"
      ]
     },
     "execution_count": 17,
     "metadata": {},
     "output_type": "execute_result"
    }
   ],
   "source": [
    "R2 = [i for i in precios if filtro(i)]\n",
    "R2"
   ]
  },
  {
   "cell_type": "code",
   "execution_count": 18,
   "id": "fcb2f656",
   "metadata": {},
   "outputs": [
    {
     "data": {
      "text/plain": [
       "[340, 55, 230, 350]"
      ]
     },
     "execution_count": 18,
     "metadata": {},
     "output_type": "execute_result"
    }
   ],
   "source": [
    "R2 = [i for i in precios if i < 400]\n",
    "R2"
   ]
  },
  {
   "cell_type": "code",
   "execution_count": null,
   "id": "186736d4",
   "metadata": {},
   "outputs": [],
   "source": []
  }
 ],
 "metadata": {
  "kernelspec": {
   "display_name": "Python 3 (ipykernel)",
   "language": "python",
   "name": "python3"
  },
  "language_info": {
   "codemirror_mode": {
    "name": "ipython",
    "version": 3
   },
   "file_extension": ".py",
   "mimetype": "text/x-python",
   "name": "python",
   "nbconvert_exporter": "python",
   "pygments_lexer": "ipython3",
   "version": "3.8.5"
  }
 },
 "nbformat": 4,
 "nbformat_minor": 5
}

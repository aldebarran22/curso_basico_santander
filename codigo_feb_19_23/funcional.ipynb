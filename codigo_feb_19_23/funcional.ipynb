{
 "cells": [
  {
   "cell_type": "markdown",
   "id": "a9936103",
   "metadata": {},
   "source": [
    "### Programación Funcional"
   ]
  },
  {
   "cell_type": "markdown",
   "id": "ab8dbe29",
   "metadata": {},
   "source": [
    "#### Iteradores: map, filter, reduce y List comprehession"
   ]
  },
  {
   "cell_type": "code",
   "execution_count": 1,
   "id": "436261ca",
   "metadata": {},
   "outputs": [],
   "source": [
    "precios = [1200, 340, 55, 230, 440, 350]"
   ]
  },
  {
   "cell_type": "code",
   "execution_count": 7,
   "id": "f7cd112c",
   "metadata": {},
   "outputs": [],
   "source": [
    "def iva(precio):\n",
    "    return round(precio * 0.21, 2)"
   ]
  },
  {
   "cell_type": "code",
   "execution_count": 3,
   "id": "f0da6915",
   "metadata": {},
   "outputs": [
    {
     "data": {
      "text/plain": [
       "21.0"
      ]
     },
     "execution_count": 3,
     "metadata": {},
     "output_type": "execute_result"
    }
   ],
   "source": [
    "iva(100)"
   ]
  },
  {
   "cell_type": "code",
   "execution_count": 9,
   "id": "c20c70f9",
   "metadata": {},
   "outputs": [
    {
     "name": "stdout",
     "output_type": "stream",
     "text": [
      "[252.0, 71.4, 11.55, 48.3, 92.4, 73.5]\n"
     ]
    }
   ],
   "source": [
    "R = []\n",
    "for i in precios:\n",
    "    R.append(iva(i))\n",
    "print(R)"
   ]
  },
  {
   "cell_type": "code",
   "execution_count": 10,
   "id": "34de59f3",
   "metadata": {},
   "outputs": [
    {
     "data": {
      "text/plain": [
       "[252.0, 71.4, 11.55, 48.3, 92.4, 73.5]"
      ]
     },
     "execution_count": 10,
     "metadata": {},
     "output_type": "execute_result"
    }
   ],
   "source": [
    "R2 = list(map(iva, precios))\n",
    "R2"
   ]
  },
  {
   "cell_type": "code",
   "execution_count": 11,
   "id": "2c6093fe",
   "metadata": {},
   "outputs": [
    {
     "data": {
      "text/plain": [
       "[252.0, 71.4, 11.55, 48.3, 92.4, 73.5]"
      ]
     },
     "execution_count": 11,
     "metadata": {},
     "output_type": "execute_result"
    }
   ],
   "source": [
    "R3 = [iva(i) for i in precios]\n",
    "R3"
   ]
  },
  {
   "cell_type": "code",
   "execution_count": 12,
   "id": "fe127b86",
   "metadata": {},
   "outputs": [
    {
     "data": {
      "text/plain": [
       "[252.0, 71.4, 11.55, 48.3, 92.4, 73.5]"
      ]
     },
     "execution_count": 12,
     "metadata": {},
     "output_type": "execute_result"
    }
   ],
   "source": [
    "R4 = [round(i * 0.21, 2) for i in precios]\n",
    "R4"
   ]
  },
  {
   "cell_type": "code",
   "execution_count": 13,
   "id": "9c6cb38b",
   "metadata": {},
   "outputs": [
    {
     "data": {
      "text/plain": [
       "[(1200, 252.0),\n",
       " (340, 71.4),\n",
       " (55, 11.55),\n",
       " (230, 48.3),\n",
       " (440, 92.4),\n",
       " (350, 73.5)]"
      ]
     },
     "execution_count": 13,
     "metadata": {},
     "output_type": "execute_result"
    }
   ],
   "source": [
    "# Generar una lista de tuplas: (precio, iva)\n",
    "R5 = [(i, iva(i)) for i in precios]\n",
    "R5"
   ]
  },
  {
   "cell_type": "code",
   "execution_count": 14,
   "id": "1ea0f7ef",
   "metadata": {},
   "outputs": [
    {
     "data": {
      "text/plain": [
       "[{'precio': 1200, 'iva': 252.0},\n",
       " {'precio': 340, 'iva': 71.4},\n",
       " {'precio': 55, 'iva': 11.55},\n",
       " {'precio': 230, 'iva': 48.3},\n",
       " {'precio': 440, 'iva': 92.4},\n",
       " {'precio': 350, 'iva': 73.5}]"
      ]
     },
     "execution_count": 14,
     "metadata": {},
     "output_type": "execute_result"
    }
   ],
   "source": [
    "# Generar una lista de diccionarios: {\"precio\":xx, \"iva\":yy}\n",
    "R6 = [{\"precio\":i, \"iva\": iva(i)} for i in precios]\n",
    "R6"
   ]
  },
  {
   "cell_type": "code",
   "execution_count": 15,
   "id": "9d5cdd7d",
   "metadata": {},
   "outputs": [
    {
     "data": {
      "text/plain": [
       "{1: 4, 2: 4, 3: 3, 4: 1, 5: 1, 6: 1}"
      ]
     },
     "execution_count": 15,
     "metadata": {},
     "output_type": "execute_result"
    }
   ],
   "source": [
    "L = [1, 2, 3, 1, 1, 2, 3, 4, 5, 6, 3, 2, 1, 2]\n",
    "d = dict()\n",
    "for i in set(L):\n",
    "    d[i] = L.count(i)\n",
    "d"
   ]
  },
  {
   "cell_type": "code",
   "execution_count": 16,
   "id": "e1b6884d",
   "metadata": {},
   "outputs": [
    {
     "data": {
      "text/plain": [
       "{1: 4, 2: 4, 3: 3, 4: 1, 5: 1, 6: 1}"
      ]
     },
     "execution_count": 16,
     "metadata": {},
     "output_type": "execute_result"
    }
   ],
   "source": [
    "D = {i:L.count(i) for i in set(L)}\n",
    "D"
   ]
  },
  {
   "cell_type": "markdown",
   "id": "2b911826",
   "metadata": {},
   "source": [
    "#### filter: filtrar datos de una colección"
   ]
  },
  {
   "cell_type": "code",
   "execution_count": 17,
   "id": "2fba0dac",
   "metadata": {},
   "outputs": [
    {
     "data": {
      "text/plain": [
       "[1200, 340, 55, 230, 440, 350]"
      ]
     },
     "execution_count": 17,
     "metadata": {},
     "output_type": "execute_result"
    }
   ],
   "source": [
    "precios"
   ]
  },
  {
   "cell_type": "code",
   "execution_count": 18,
   "id": "e5e6de38",
   "metadata": {},
   "outputs": [],
   "source": [
    "# filtrar precios inferiores a 400 euros\n",
    "def filtro(precio):\n",
    "    if precio < 400:\n",
    "        return True\n",
    "    else:\n",
    "        return False"
   ]
  },
  {
   "cell_type": "code",
   "execution_count": 19,
   "id": "aa874700",
   "metadata": {},
   "outputs": [
    {
     "data": {
      "text/plain": [
       "False"
      ]
     },
     "execution_count": 19,
     "metadata": {},
     "output_type": "execute_result"
    }
   ],
   "source": [
    "filtro(500)"
   ]
  },
  {
   "cell_type": "code",
   "execution_count": null,
   "id": "0bb8a5f4",
   "metadata": {},
   "outputs": [],
   "source": [
    "filtro()"
   ]
  }
 ],
 "metadata": {
  "kernelspec": {
   "display_name": "Python 3 (ipykernel)",
   "language": "python",
   "name": "python3"
  },
  "language_info": {
   "codemirror_mode": {
    "name": "ipython",
    "version": 3
   },
   "file_extension": ".py",
   "mimetype": "text/x-python",
   "name": "python",
   "nbconvert_exporter": "python",
   "pygments_lexer": "ipython3",
   "version": "3.8.5"
  }
 },
 "nbformat": 4,
 "nbformat_minor": 5
}

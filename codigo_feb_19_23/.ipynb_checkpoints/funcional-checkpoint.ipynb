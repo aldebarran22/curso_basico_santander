{
 "cells": [
  {
   "cell_type": "markdown",
   "id": "311198c2",
   "metadata": {},
   "source": [
    "### Programación Funcional"
   ]
  },
  {
   "cell_type": "markdown",
   "id": "2b5c7cf5",
   "metadata": {},
   "source": [
    "#### Iteradores: map, filter, reduce y List comprehession"
   ]
  },
  {
   "cell_type": "code",
   "execution_count": 1,
   "id": "4415c62c",
   "metadata": {},
   "outputs": [],
   "source": [
    "precios = [1200, 340, 55, 230, 440, 350]"
   ]
  },
  {
   "cell_type": "code",
   "execution_count": 7,
   "id": "75848f9d",
   "metadata": {},
   "outputs": [],
   "source": [
    "def iva(precio):\n",
    "    return round(precio * 0.21, 2)"
   ]
  },
  {
   "cell_type": "code",
   "execution_count": 3,
   "id": "f149a2de",
   "metadata": {},
   "outputs": [
    {
     "data": {
      "text/plain": [
       "21.0"
      ]
     },
     "execution_count": 3,
     "metadata": {},
     "output_type": "execute_result"
    }
   ],
   "source": [
    "iva(100)"
   ]
  },
  {
   "cell_type": "code",
   "execution_count": 9,
   "id": "36652dae",
   "metadata": {},
   "outputs": [
    {
     "name": "stdout",
     "output_type": "stream",
     "text": [
      "[252.0, 71.4, 11.55, 48.3, 92.4, 73.5]\n"
     ]
    }
   ],
   "source": [
    "R = []\n",
    "for i in precios:\n",
    "    R.append(iva(i))\n",
    "print(R)"
   ]
  },
  {
   "cell_type": "code",
   "execution_count": 10,
   "id": "4aec2dc3",
   "metadata": {},
   "outputs": [
    {
     "data": {
      "text/plain": [
       "[252.0, 71.4, 11.55, 48.3, 92.4, 73.5]"
      ]
     },
     "execution_count": 10,
     "metadata": {},
     "output_type": "execute_result"
    }
   ],
   "source": [
    "R2 = list(map(iva, precios))\n",
    "R2"
   ]
  },
  {
   "cell_type": "code",
   "execution_count": 11,
   "id": "070f3dca",
   "metadata": {},
   "outputs": [
    {
     "data": {
      "text/plain": [
       "[252.0, 71.4, 11.55, 48.3, 92.4, 73.5]"
      ]
     },
     "execution_count": 11,
     "metadata": {},
     "output_type": "execute_result"
    }
   ],
   "source": [
    "R3 = [iva(i) for i in precios]\n",
    "R3"
   ]
  },
  {
   "cell_type": "code",
   "execution_count": 12,
   "id": "6d93e482",
   "metadata": {},
   "outputs": [
    {
     "data": {
      "text/plain": [
       "[252.0, 71.4, 11.55, 48.3, 92.4, 73.5]"
      ]
     },
     "execution_count": 12,
     "metadata": {},
     "output_type": "execute_result"
    }
   ],
   "source": [
    "R4 = [round(i * 0.21, 2) for i in precios]\n",
    "R4"
   ]
  },
  {
   "cell_type": "code",
   "execution_count": 13,
   "id": "cc0b4800",
   "metadata": {},
   "outputs": [
    {
     "data": {
      "text/plain": [
       "[(1200, 252.0),\n",
       " (340, 71.4),\n",
       " (55, 11.55),\n",
       " (230, 48.3),\n",
       " (440, 92.4),\n",
       " (350, 73.5)]"
      ]
     },
     "execution_count": 13,
     "metadata": {},
     "output_type": "execute_result"
    }
   ],
   "source": [
    "# Generar una lista de tuplas: (precio, iva)\n",
    "R5 = [(i, iva(i)) for i in precios]\n",
    "R5"
   ]
  },
  {
   "cell_type": "code",
   "execution_count": null,
   "id": "34933be7",
   "metadata": {},
   "outputs": [],
   "source": []
  }
 ],
 "metadata": {
  "kernelspec": {
   "display_name": "Python 3 (ipykernel)",
   "language": "python",
   "name": "python3"
  },
  "language_info": {
   "codemirror_mode": {
    "name": "ipython",
    "version": 3
   },
   "file_extension": ".py",
   "mimetype": "text/x-python",
   "name": "python",
   "nbconvert_exporter": "python",
   "pygments_lexer": "ipython3",
   "version": "3.8.5"
  }
 },
 "nbformat": 4,
 "nbformat_minor": 5
}

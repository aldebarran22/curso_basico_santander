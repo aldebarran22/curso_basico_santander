{
 "cells": [
  {
   "cell_type": "markdown",
   "id": "8e9e5bea",
   "metadata": {},
   "source": [
    "### Copiar listar"
   ]
  },
  {
   "cell_type": "markdown",
   "id": "945b73e9",
   "metadata": {},
   "source": [
    "#### Copia de elementos mutables"
   ]
  },
  {
   "cell_type": "markdown",
   "id": "c4767d38",
   "metadata": {},
   "source": [
    "La copia funciona igual en listas, diccionarios y conjuntos"
   ]
  },
  {
   "cell_type": "code",
   "execution_count": 3,
   "id": "2e34614f",
   "metadata": {},
   "outputs": [
    {
     "name": "stdout",
     "output_type": "stream",
     "text": [
      "L1 [1000, 2, 3, 4] 2463485186816\n",
      "L2 [1000, 2, 3, 4] 2463485186816\n"
     ]
    }
   ],
   "source": [
    "# Ojo no copia, crea una referencia:\n",
    "L1 = [1,2,3,4]\n",
    "L2 = L1\n",
    "L1[0] = 1000\n",
    "print('L1',L1,id(L1))\n",
    "print('L2',L2,id(L2))"
   ]
  },
  {
   "cell_type": "code",
   "execution_count": 4,
   "id": "ffcdd228",
   "metadata": {},
   "outputs": [
    {
     "name": "stdout",
     "output_type": "stream",
     "text": [
      "L1 [1000, 2, 3, 4] 2463485195648\n",
      "L2 [1, 2, 3, 4] 2463485194368\n"
     ]
    }
   ],
   "source": [
    "# Utilizar el método copy: disponible en list, set y dict\n",
    "L1 = [1,2,3,4]\n",
    "L2 = L1.copy()\n",
    "L1[0] = 1000\n",
    "print('L1',L1,id(L1))\n",
    "print('L2',L2,id(L2))"
   ]
  },
  {
   "cell_type": "markdown",
   "id": "bcee6d67",
   "metadata": {},
   "source": [
    "Para copiar listas de objetos mutables u objetos más complejos. Utilizar"
   ]
  },
  {
   "cell_type": "markdown",
   "id": "c1988ac0",
   "metadata": {},
   "source": [
    "import copy\n"
   ]
  },
  {
   "cell_type": "markdown",
   "id": "25bb9022",
   "metadata": {},
   "source": [
    "copia = copy.deepcopy(original)"
   ]
  },
  {
   "cell_type": "markdown",
   "id": "fcf14feb",
   "metadata": {},
   "source": [
    "### Pruebas con conjuntos"
   ]
  },
  {
   "cell_type": "code",
   "execution_count": 5,
   "id": "7e82abc4",
   "metadata": {},
   "outputs": [
    {
     "data": {
      "text/plain": [
       "{1, 2, 3, 4, 5}"
      ]
     },
     "execution_count": 5,
     "metadata": {},
     "output_type": "execute_result"
    }
   ],
   "source": [
    "c1 = {1,2,2,2,1,1,3,4,5}\n",
    "c1"
   ]
  },
  {
   "cell_type": "code",
   "execution_count": 6,
   "id": "e939b993",
   "metadata": {},
   "outputs": [
    {
     "data": {
      "text/plain": [
       "{1, 2, 3, 4, 5, 6, 8}"
      ]
     },
     "execution_count": 6,
     "metadata": {},
     "output_type": "execute_result"
    }
   ],
   "source": [
    "L = [1,2,3,4,3,2,1,2,2,2,4,5,6,8]\n",
    "c2 = set(L)\n",
    "c2"
   ]
  },
  {
   "cell_type": "code",
   "execution_count": 7,
   "id": "0eb60c0f",
   "metadata": {},
   "outputs": [
    {
     "data": {
      "text/plain": [
       "[32, 1, 2, 3, 4, 5]"
      ]
     },
     "execution_count": 7,
     "metadata": {},
     "output_type": "execute_result"
    }
   ],
   "source": [
    "# Quiar repetidos a una lista y dejar los datos en una lista\n",
    "L2 = [1,2,3,4,3,32,1,2,3,4,5]\n",
    "L3 = list(set(L2))\n",
    "L3"
   ]
  },
  {
   "cell_type": "code",
   "execution_count": 8,
   "id": "9723213d",
   "metadata": {},
   "outputs": [],
   "source": [
    "comida = {\"Alex\",\"Ana\",\"Miguel\",\"Eva\",\"Raquel\"}\n",
    "cena = {\"Ana\",\"Miguel\", \"Juan\", \"Pedro\",\"Raúl\"}"
   ]
  },
  {
   "cell_type": "code",
   "execution_count": 9,
   "id": "252c548c",
   "metadata": {},
   "outputs": [
    {
     "data": {
      "text/plain": [
       "{'Ana', 'Miguel'}"
      ]
     },
     "execution_count": 9,
     "metadata": {},
     "output_type": "execute_result"
    }
   ],
   "source": [
    "# Quien va a comer y a cenar:\n",
    "comida & cena"
   ]
  },
  {
   "cell_type": "code",
   "execution_count": 10,
   "id": "69a0b6b2",
   "metadata": {},
   "outputs": [
    {
     "data": {
      "text/plain": [
       "{'Alex', 'Eva', 'Raquel'}"
      ]
     },
     "execution_count": 10,
     "metadata": {},
     "output_type": "execute_result"
    }
   ],
   "source": [
    "# Quien va solo a comer:\n",
    "comida - cena"
   ]
  },
  {
   "cell_type": "code",
   "execution_count": 11,
   "id": "5e27d4a7",
   "metadata": {},
   "outputs": [
    {
     "data": {
      "text/plain": [
       "{'Juan', 'Pedro', 'Raúl'}"
      ]
     },
     "execution_count": 11,
     "metadata": {},
     "output_type": "execute_result"
    }
   ],
   "source": [
    "# Quien va solo a cenar:\n",
    "cena - comida"
   ]
  },
  {
   "cell_type": "code",
   "execution_count": 12,
   "id": "4fc74362",
   "metadata": {},
   "outputs": [
    {
     "data": {
      "text/plain": [
       "{'Alex', 'Ana', 'Eva', 'Juan', 'Miguel', 'Pedro', 'Raquel', 'Raúl'}"
      ]
     },
     "execution_count": 12,
     "metadata": {},
     "output_type": "execute_result"
    }
   ],
   "source": [
    "# Quienes han participado en los eventos:\n",
    "comida | cena"
   ]
  },
  {
   "cell_type": "code",
   "execution_count": 13,
   "id": "991f311e",
   "metadata": {},
   "outputs": [
    {
     "data": {
      "text/plain": [
       "{'Alex', 'Eva', 'Juan', 'Pedro', 'Raquel', 'Raúl'}"
      ]
     },
     "execution_count": 13,
     "metadata": {},
     "output_type": "execute_result"
    }
   ],
   "source": [
    "# Quien va solo a un evento: solo uno!\n",
    "comida ^ cena"
   ]
  },
  {
   "cell_type": "markdown",
   "id": "81c5fcf9",
   "metadata": {},
   "source": [
    "### Pruebas con tuplas"
   ]
  },
  {
   "cell_type": "code",
   "execution_count": 14,
   "id": "f416aa2e",
   "metadata": {},
   "outputs": [
    {
     "name": "stdout",
     "output_type": "stream",
     "text": [
      "(1, 2, 3, 4, 5) <class 'tuple'>\n",
      "(4, 5, 6, 7) <class 'tuple'>\n"
     ]
    }
   ],
   "source": [
    "t1 = (1,2,3,4,5)\n",
    "t2 = 4,5,6,7\n",
    "print(t1, type(t1))\n",
    "print(t2, type(t2))\n"
   ]
  },
  {
   "cell_type": "code",
   "execution_count": null,
   "id": "acbe04c9",
   "metadata": {},
   "outputs": [],
   "source": []
  }
 ],
 "metadata": {
  "kernelspec": {
   "display_name": "Python 3 (ipykernel)",
   "language": "python",
   "name": "python3"
  },
  "language_info": {
   "codemirror_mode": {
    "name": "ipython",
    "version": 3
   },
   "file_extension": ".py",
   "mimetype": "text/x-python",
   "name": "python",
   "nbconvert_exporter": "python",
   "pygments_lexer": "ipython3",
   "version": "3.9.13"
  }
 },
 "nbformat": 4,
 "nbformat_minor": 5
}

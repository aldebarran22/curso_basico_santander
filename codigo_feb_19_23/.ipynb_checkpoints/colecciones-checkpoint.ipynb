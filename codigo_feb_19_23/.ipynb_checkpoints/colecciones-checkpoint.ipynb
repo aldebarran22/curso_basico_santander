{
 "cells": [
  {
   "cell_type": "markdown",
   "id": "c06d6235",
   "metadata": {},
   "source": [
    "### Copiar listar"
   ]
  },
  {
   "cell_type": "markdown",
   "id": "57a5c664",
   "metadata": {},
   "source": [
    "#### Copia de elementos mutables"
   ]
  },
  {
   "cell_type": "markdown",
   "id": "164b9051",
   "metadata": {},
   "source": [
    "La copia funciona igual en listas, diccionarios y conjuntos"
   ]
  },
  {
   "cell_type": "code",
   "execution_count": 3,
   "id": "afb1eb87",
   "metadata": {},
   "outputs": [
    {
     "name": "stdout",
     "output_type": "stream",
     "text": [
      "L1 [1000, 2, 3, 4] 2463485186816\n",
      "L2 [1000, 2, 3, 4] 2463485186816\n"
     ]
    }
   ],
   "source": [
    "# Ojo no copia, crea una referencia:\n",
    "L1 = [1,2,3,4]\n",
    "L2 = L1\n",
    "L1[0] = 1000\n",
    "print('L1',L1,id(L1))\n",
    "print('L2',L2,id(L2))"
   ]
  },
  {
   "cell_type": "code",
   "execution_count": 4,
   "id": "abf4b192",
   "metadata": {},
   "outputs": [
    {
     "name": "stdout",
     "output_type": "stream",
     "text": [
      "L1 [1000, 2, 3, 4] 2463485195648\n",
      "L2 [1, 2, 3, 4] 2463485194368\n"
     ]
    }
   ],
   "source": [
    "# Utilizar el método copy: disponible en list, set y dict\n",
    "L1 = [1,2,3,4]\n",
    "L2 = L1.copy()\n",
    "L1[0] = 1000\n",
    "print('L1',L1,id(L1))\n",
    "print('L2',L2,id(L2))"
   ]
  },
  {
   "cell_type": "markdown",
   "id": "8998fc7e",
   "metadata": {},
   "source": [
    "Para copiar listas de objetos mutables u objetos más complejos. Utilizar"
   ]
  },
  {
   "cell_type": "markdown",
   "id": "9611e892",
   "metadata": {},
   "source": [
    "import copy\n"
   ]
  },
  {
   "cell_type": "markdown",
   "id": "d46d4f38",
   "metadata": {},
   "source": [
    "copia = copy.deepcopy(original)"
   ]
  },
  {
   "cell_type": "markdown",
   "id": "4f880d1b",
   "metadata": {},
   "source": [
    "### Pruebas con conjuntos"
   ]
  },
  {
   "cell_type": "code",
   "execution_count": 5,
   "id": "1e826cde",
   "metadata": {},
   "outputs": [
    {
     "data": {
      "text/plain": [
       "{1, 2, 3, 4, 5}"
      ]
     },
     "execution_count": 5,
     "metadata": {},
     "output_type": "execute_result"
    }
   ],
   "source": [
    "c1 = {1,2,2,2,1,1,3,4,5}\n",
    "c1"
   ]
  },
  {
   "cell_type": "code",
   "execution_count": 6,
   "id": "c6b85c7a",
   "metadata": {},
   "outputs": [
    {
     "data": {
      "text/plain": [
       "{1, 2, 3, 4, 5, 6, 8}"
      ]
     },
     "execution_count": 6,
     "metadata": {},
     "output_type": "execute_result"
    }
   ],
   "source": [
    "L = [1,2,3,4,3,2,1,2,2,2,4,5,6,8]\n",
    "c2 = set(L)\n",
    "c2"
   ]
  },
  {
   "cell_type": "code",
   "execution_count": 7,
   "id": "adcb84e4",
   "metadata": {},
   "outputs": [
    {
     "data": {
      "text/plain": [
       "[32, 1, 2, 3, 4, 5]"
      ]
     },
     "execution_count": 7,
     "metadata": {},
     "output_type": "execute_result"
    }
   ],
   "source": [
    "# Quiar repetidos a una lista y dejar los datos en una lista\n",
    "L2 = [1,2,3,4,3,32,1,2,3,4,5]\n",
    "L3 = list(set(L2))\n",
    "L3"
   ]
  },
  {
   "cell_type": "code",
   "execution_count": null,
   "id": "84855ec0",
   "metadata": {},
   "outputs": [],
   "source": []
  }
 ],
 "metadata": {
  "kernelspec": {
   "display_name": "Python 3 (ipykernel)",
   "language": "python",
   "name": "python3"
  },
  "language_info": {
   "codemirror_mode": {
    "name": "ipython",
    "version": 3
   },
   "file_extension": ".py",
   "mimetype": "text/x-python",
   "name": "python",
   "nbconvert_exporter": "python",
   "pygments_lexer": "ipython3",
   "version": "3.9.13"
  }
 },
 "nbformat": 4,
 "nbformat_minor": 5
}

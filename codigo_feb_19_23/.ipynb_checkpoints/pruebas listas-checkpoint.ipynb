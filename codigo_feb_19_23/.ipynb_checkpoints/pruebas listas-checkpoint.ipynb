{
 "cells": [
  {
   "cell_type": "markdown",
   "id": "bbf30d0c",
   "metadata": {},
   "source": [
    "### Copiar listar"
   ]
  },
  {
   "cell_type": "markdown",
   "id": "7de2ddb9",
   "metadata": {},
   "source": [
    "#### Copia de elementos mutables"
   ]
  },
  {
   "cell_type": "markdown",
   "id": "969fbd63",
   "metadata": {},
   "source": [
    "La copia funciona igual en listas, diccionarios y conjuntos"
   ]
  },
  {
   "cell_type": "code",
   "execution_count": 3,
   "id": "114af702",
   "metadata": {},
   "outputs": [
    {
     "name": "stdout",
     "output_type": "stream",
     "text": [
      "L1 [1000, 2, 3, 4] 2463485186816\n",
      "L2 [1000, 2, 3, 4] 2463485186816\n"
     ]
    }
   ],
   "source": [
    "# Ojo no copia, crea una referencia:\n",
    "L1 = [1,2,3,4]\n",
    "L2 = L1\n",
    "L1[0] = 1000\n",
    "print('L1',L1,id(L1))\n",
    "print('L2',L2,id(L2))\n"
   ]
  },
  {
   "cell_type": "code",
   "execution_count": null,
   "id": "3efd765c",
   "metadata": {},
   "outputs": [],
   "source": []
  }
 ],
 "metadata": {
  "kernelspec": {
   "display_name": "Python 3 (ipykernel)",
   "language": "python",
   "name": "python3"
  },
  "language_info": {
   "codemirror_mode": {
    "name": "ipython",
    "version": 3
   },
   "file_extension": ".py",
   "mimetype": "text/x-python",
   "name": "python",
   "nbconvert_exporter": "python",
   "pygments_lexer": "ipython3",
   "version": "3.9.13"
  }
 },
 "nbformat": 4,
 "nbformat_minor": 5
}

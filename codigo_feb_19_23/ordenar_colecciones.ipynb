{
 "cells": [
  {
   "cell_type": "markdown",
   "id": "69f0c419",
   "metadata": {},
   "source": [
    "### Ordenar colecciones: método sort de list y la función sorted"
   ]
  },
  {
   "cell_type": "code",
   "execution_count": 1,
   "id": "773be82a",
   "metadata": {},
   "outputs": [],
   "source": [
    "from random import randint"
   ]
  },
  {
   "cell_type": "code",
   "execution_count": 2,
   "id": "11651bf1",
   "metadata": {},
   "outputs": [
    {
     "data": {
      "text/plain": [
       "25"
      ]
     },
     "execution_count": 2,
     "metadata": {},
     "output_type": "execute_result"
    }
   ],
   "source": [
    "randint(1,50)"
   ]
  },
  {
   "cell_type": "code",
   "execution_count": 3,
   "id": "84643345",
   "metadata": {},
   "outputs": [
    {
     "data": {
      "text/plain": [
       "[36, 26, 3, 13, 38, 26, 29, 42, 39, 46, 13, 49, 20, 2, 43]"
      ]
     },
     "execution_count": 3,
     "metadata": {},
     "output_type": "execute_result"
    }
   ],
   "source": [
    "L = [randint(1,50) for _ in range(15)]\n",
    "L"
   ]
  },
  {
   "cell_type": "code",
   "execution_count": 4,
   "id": "d42178e0",
   "metadata": {},
   "outputs": [
    {
     "data": {
      "text/plain": [
       "[2, 3, 13, 13, 20, 26, 26, 29, 36, 38, 39, 42, 43, 46, 49]"
      ]
     },
     "execution_count": 4,
     "metadata": {},
     "output_type": "execute_result"
    }
   ],
   "source": [
    "L.sort()\n",
    "L"
   ]
  },
  {
   "cell_type": "code",
   "execution_count": 5,
   "id": "fda2aef4",
   "metadata": {},
   "outputs": [
    {
     "data": {
      "text/plain": [
       "[49, 46, 43, 42, 39, 38, 36, 29, 26, 26, 20, 13, 13, 3, 2]"
      ]
     },
     "execution_count": 5,
     "metadata": {},
     "output_type": "execute_result"
    }
   ],
   "source": [
    "L.sort(reverse=True)\n",
    "L"
   ]
  },
  {
   "cell_type": "code",
   "execution_count": 11,
   "id": "34d1677d",
   "metadata": {},
   "outputs": [
    {
     "data": {
      "text/plain": [
       "['ana', 'eva', 'jose Antonio', 'Jose Miguel', 'Miguel', 'Raquel']"
      ]
     },
     "execution_count": 11,
     "metadata": {},
     "output_type": "execute_result"
    }
   ],
   "source": [
    "nombres = ['Miguel','ana','Jose Miguel','Raquel','eva','jose Antonio']\n",
    "nombres.sort(key=str.capitalize)\n",
    "nombres"
   ]
  },
  {
   "cell_type": "code",
   "execution_count": 7,
   "id": "b0a272a8",
   "metadata": {},
   "outputs": [
    {
     "data": {
      "text/plain": [
       "[3, 3, 12, 11, 6, 6]"
      ]
     },
     "execution_count": 7,
     "metadata": {},
     "output_type": "execute_result"
    }
   ],
   "source": [
    "L2 = [len(i) for i in nombres]\n",
    "L2"
   ]
  },
  {
   "cell_type": "code",
   "execution_count": 8,
   "id": "e686ddac",
   "metadata": {},
   "outputs": [
    {
     "data": {
      "text/plain": [
       "['Jose Antonio', 'Jose Miguel', 'Miguel', 'Raquel', 'Ana', 'Eva']"
      ]
     },
     "execution_count": 8,
     "metadata": {},
     "output_type": "execute_result"
    }
   ],
   "source": [
    "nombres.sort(key=len, reverse=True)\n",
    "nombres"
   ]
  },
  {
   "cell_type": "code",
   "execution_count": 12,
   "id": "372cb37f",
   "metadata": {},
   "outputs": [
    {
     "data": {
      "text/plain": [
       "[('Alberto', 55, 1.8),\n",
       " ('Eva', 33, 1.7),\n",
       " ('Miguel', 45, 1.81),\n",
       " ('Sandra', 43, 1.79)]"
      ]
     },
     "execution_count": 12,
     "metadata": {},
     "output_type": "execute_result"
    }
   ],
   "source": [
    "L = [('Eva',33,1.7), ('Alberto',55,1.8),('Sandra',43,1.79),('Miguel',45,1.81)]\n",
    "L.sort()\n",
    "L"
   ]
  },
  {
   "cell_type": "code",
   "execution_count": 13,
   "id": "4b6af5b0",
   "metadata": {},
   "outputs": [
    {
     "data": {
      "text/plain": [
       "[('Eva', 33, 1.7),\n",
       " ('Sandra', 43, 1.79),\n",
       " ('Miguel', 45, 1.81),\n",
       " ('Alberto', 55, 1.8)]"
      ]
     },
     "execution_count": 13,
     "metadata": {},
     "output_type": "execute_result"
    }
   ],
   "source": [
    "L.sort(key=lambda t:t[1])\n",
    "L"
   ]
  },
  {
   "cell_type": "code",
   "execution_count": 14,
   "id": "6dac782f",
   "metadata": {},
   "outputs": [
    {
     "data": {
      "text/plain": [
       "[('Miguel', 45, 1.81),\n",
       " ('Alberto', 55, 1.8),\n",
       " ('Sandra', 43, 1.79),\n",
       " ('Eva', 33, 1.7)]"
      ]
     },
     "execution_count": 14,
     "metadata": {},
     "output_type": "execute_result"
    }
   ],
   "source": [
    "L.sort(key=lambda t:t[2], reverse=True)\n",
    "L"
   ]
  },
  {
   "cell_type": "code",
   "execution_count": 15,
   "id": "9d858c06",
   "metadata": {},
   "outputs": [],
   "source": [
    "d = [{\"años\":15, \"edad\":40, \"carrera\":True},\n",
    "     {\"años\":23, \"edad\":33, \"carrera\":True},\n",
    "     {\"años\":23, \"edad\":45, \"carrera\":True},\n",
    "     {\"años\":15, \"edad\":38, \"carrera\":False}\n",
    "    ]"
   ]
  },
  {
   "cell_type": "code",
   "execution_count": 16,
   "id": "40b36acb",
   "metadata": {},
   "outputs": [
    {
     "data": {
      "text/plain": [
       "[{'años': 15, 'edad': 40, 'carrera': True},\n",
       " {'años': 15, 'edad': 38, 'carrera': False},\n",
       " {'años': 23, 'edad': 33, 'carrera': True},\n",
       " {'años': 23, 'edad': 45, 'carrera': True}]"
      ]
     },
     "execution_count": 16,
     "metadata": {},
     "output_type": "execute_result"
    }
   ],
   "source": [
    "d.sort(key=lambda dic:dic['años'])\n",
    "d"
   ]
  },
  {
   "cell_type": "code",
   "execution_count": 18,
   "id": "5393aa09",
   "metadata": {},
   "outputs": [
    {
     "name": "stdout",
     "output_type": "stream",
     "text": [
      "{1: 4, 2: 4, 3: 3, 4: 1, 5: 5, 6: 1}\n"
     ]
    }
   ],
   "source": [
    "L = [1, 2, 3, 1, 1, 2, 3, 4, 5, 6, 3, 2, 1, 2,5,5,5,5]\n",
    "d = dict()\n",
    "for i in set(L):\n",
    "    d[i] = L.count(i)\n",
    "   \n",
    "print(d)"
   ]
  },
  {
   "cell_type": "code",
   "execution_count": 19,
   "id": "5bb379c5",
   "metadata": {},
   "outputs": [
    {
     "data": {
      "text/plain": [
       "dict_items([(1, 4), (2, 4), (3, 3), (4, 1), (5, 5), (6, 1)])"
      ]
     },
     "execution_count": 19,
     "metadata": {},
     "output_type": "execute_result"
    }
   ],
   "source": [
    "d.items()"
   ]
  },
  {
   "cell_type": "code",
   "execution_count": 20,
   "id": "7c2ac704",
   "metadata": {},
   "outputs": [
    {
     "data": {
      "text/plain": [
       "[(5, 5), (1, 4), (2, 4), (3, 3), (4, 1), (6, 1)]"
      ]
     },
     "execution_count": 20,
     "metadata": {},
     "output_type": "execute_result"
    }
   ],
   "source": [
    "L = sorted(d.items(), key=lambda t:t[1], reverse=True)\n",
    "L"
   ]
  },
  {
   "cell_type": "code",
   "execution_count": null,
   "id": "225eb839",
   "metadata": {},
   "outputs": [],
   "source": []
  }
 ],
 "metadata": {
  "kernelspec": {
   "display_name": "Python 3 (ipykernel)",
   "language": "python",
   "name": "python3"
  },
  "language_info": {
   "codemirror_mode": {
    "name": "ipython",
    "version": 3
   },
   "file_extension": ".py",
   "mimetype": "text/x-python",
   "name": "python",
   "nbconvert_exporter": "python",
   "pygments_lexer": "ipython3",
   "version": "3.8.5"
  }
 },
 "nbformat": 4,
 "nbformat_minor": 5
}

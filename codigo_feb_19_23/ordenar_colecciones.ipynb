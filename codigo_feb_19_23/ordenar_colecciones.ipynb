{
 "cells": [
  {
   "cell_type": "markdown",
   "id": "3f42d3cc",
   "metadata": {},
   "source": [
    "### Ordenar colecciones: método sort de list y la función sorted"
   ]
  },
  {
   "cell_type": "code",
   "execution_count": 1,
   "id": "4bd5dd20",
   "metadata": {},
   "outputs": [],
   "source": [
    "from random import randint"
   ]
  },
  {
   "cell_type": "code",
   "execution_count": 2,
   "id": "11beee2b",
   "metadata": {},
   "outputs": [
    {
     "data": {
      "text/plain": [
       "25"
      ]
     },
     "execution_count": 2,
     "metadata": {},
     "output_type": "execute_result"
    }
   ],
   "source": [
    "randint(1,50)"
   ]
  },
  {
   "cell_type": "code",
   "execution_count": 3,
   "id": "0cbdf790",
   "metadata": {},
   "outputs": [
    {
     "data": {
      "text/plain": [
       "[36, 26, 3, 13, 38, 26, 29, 42, 39, 46, 13, 49, 20, 2, 43]"
      ]
     },
     "execution_count": 3,
     "metadata": {},
     "output_type": "execute_result"
    }
   ],
   "source": [
    "L = [randint(1,50) for _ in range(15)]\n",
    "L"
   ]
  },
  {
   "cell_type": "code",
   "execution_count": 4,
   "id": "02e65ad3",
   "metadata": {},
   "outputs": [
    {
     "data": {
      "text/plain": [
       "[2, 3, 13, 13, 20, 26, 26, 29, 36, 38, 39, 42, 43, 46, 49]"
      ]
     },
     "execution_count": 4,
     "metadata": {},
     "output_type": "execute_result"
    }
   ],
   "source": [
    "L.sort()\n",
    "L"
   ]
  },
  {
   "cell_type": "code",
   "execution_count": 5,
   "id": "4e246c9e",
   "metadata": {},
   "outputs": [
    {
     "data": {
      "text/plain": [
       "[49, 46, 43, 42, 39, 38, 36, 29, 26, 26, 20, 13, 13, 3, 2]"
      ]
     },
     "execution_count": 5,
     "metadata": {},
     "output_type": "execute_result"
    }
   ],
   "source": [
    "L.sort(reverse=True)\n",
    "L"
   ]
  },
  {
   "cell_type": "code",
   "execution_count": null,
   "id": "e75e5020",
   "metadata": {},
   "outputs": [],
   "source": []
  }
 ],
 "metadata": {
  "kernelspec": {
   "display_name": "Python 3 (ipykernel)",
   "language": "python",
   "name": "python3"
  },
  "language_info": {
   "codemirror_mode": {
    "name": "ipython",
    "version": 3
   },
   "file_extension": ".py",
   "mimetype": "text/x-python",
   "name": "python",
   "nbconvert_exporter": "python",
   "pygments_lexer": "ipython3",
   "version": "3.8.5"
  }
 },
 "nbformat": 4,
 "nbformat_minor": 5
}

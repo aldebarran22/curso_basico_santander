{
 "cells": [
  {
   "cell_type": "markdown",
   "id": "4e5e85e9",
   "metadata": {},
   "source": [
    "### Bucles y condiciones en Python"
   ]
  },
  {
   "cell_type": "code",
   "execution_count": 7,
   "id": "715d133c",
   "metadata": {},
   "outputs": [
    {
     "name": "stdout",
     "output_type": "stream",
     "text": [
      "[0, 1, 2, 3, 4, 5, 6, 7, 8, 9]\n",
      "[1, 2, 3, 4, 5, 6, 7, 8, 9, 10]\n",
      "[10, 9, 8, 7, 6, 5, 4, 3, 2, 1]\n",
      "[0, 5, 10, 15, 20, 25, 30, 35, 40, 45, 50, 55, 60, 65, 70, 75, 80, 85, 90, 95, 100]\n"
     ]
    }
   ],
   "source": [
    "# range(inicio, fin-1, salto=1)\n",
    "print(list(range(10)))\n",
    "print(list(range(1,11)))\n",
    "print(list(range(10,0,-1)))\n",
    "print(list(range(0,101,5)))"
   ]
  },
  {
   "cell_type": "code",
   "execution_count": 4,
   "id": "aa4f7886",
   "metadata": {},
   "outputs": [
    {
     "name": "stdout",
     "output_type": "stream",
     "text": [
      "0\n",
      "1\n",
      "2\n",
      "3\n",
      "4\n"
     ]
    }
   ],
   "source": [
    "for i in range(5):\n",
    "    print(i)"
   ]
  },
  {
   "cell_type": "code",
   "execution_count": 11,
   "id": "7058d7de",
   "metadata": {},
   "outputs": [
    {
     "name": "stdout",
     "output_type": "stream",
     "text": [
      "1\n",
      "2\n",
      "3\n",
      "4\n",
      "5\n",
      "6\n",
      "7\n",
      "8\n",
      "9\n",
      "fuera del bucle\n"
     ]
    }
   ],
   "source": [
    "i = 1\n",
    "while i < 10:\n",
    "    print(i)\n",
    "    i+=1\n",
    "print('fuera del bucle')"
   ]
  },
  {
   "cell_type": "code",
   "execution_count": null,
   "id": "0f51df8b",
   "metadata": {},
   "outputs": [],
   "source": [
    "# Bucle infinito:\n",
    "#while True:\n",
    "#    pass"
   ]
  },
  {
   "cell_type": "markdown",
   "id": "e53ff986",
   "metadata": {},
   "source": [
    "if compacto:  A if cond else B"
   ]
  },
  {
   "cell_type": "code",
   "execution_count": 12,
   "id": "9244020e",
   "metadata": {},
   "outputs": [
    {
     "name": "stdout",
     "output_type": "stream",
     "text": [
      "impar\n"
     ]
    }
   ],
   "source": [
    "numero = 13\n",
    "print(\"par\" if numero % 2 == 0 else \"impar\")"
   ]
  },
  {
   "cell_type": "code",
   "execution_count": null,
   "id": "203ccfca",
   "metadata": {},
   "outputs": [],
   "source": [
    "if numero % 2 == 0:\n",
    "    print(\"par\")\n",
    "else:\n",
    "    print(\"impar\")"
   ]
  }
 ],
 "metadata": {
  "kernelspec": {
   "display_name": "Python 3 (ipykernel)",
   "language": "python",
   "name": "python3"
  },
  "language_info": {
   "codemirror_mode": {
    "name": "ipython",
    "version": 3
   },
   "file_extension": ".py",
   "mimetype": "text/x-python",
   "name": "python",
   "nbconvert_exporter": "python",
   "pygments_lexer": "ipython3",
   "version": "3.9.13"
  }
 },
 "nbformat": 4,
 "nbformat_minor": 5
}

{
 "cells": [
  {
   "cell_type": "markdown",
   "id": "eba6bdba",
   "metadata": {},
   "source": [
    "### Bucles y condiciones en Python"
   ]
  },
  {
   "cell_type": "code",
   "execution_count": 7,
   "id": "a3d3d062",
   "metadata": {},
   "outputs": [
    {
     "name": "stdout",
     "output_type": "stream",
     "text": [
      "[0, 1, 2, 3, 4, 5, 6, 7, 8, 9]\n",
      "[1, 2, 3, 4, 5, 6, 7, 8, 9, 10]\n",
      "[10, 9, 8, 7, 6, 5, 4, 3, 2, 1]\n",
      "[0, 5, 10, 15, 20, 25, 30, 35, 40, 45, 50, 55, 60, 65, 70, 75, 80, 85, 90, 95, 100]\n"
     ]
    }
   ],
   "source": [
    "# range(inicio, fin-1, salto=1)\n",
    "print(list(range(10)))\n",
    "print(list(range(1,11)))\n",
    "print(list(range(10,0,-1)))\n",
    "print(list(range(0,101,5)))"
   ]
  },
  {
   "cell_type": "code",
   "execution_count": 4,
   "id": "e211c811",
   "metadata": {},
   "outputs": [
    {
     "name": "stdout",
     "output_type": "stream",
     "text": [
      "0\n",
      "1\n",
      "2\n",
      "3\n",
      "4\n"
     ]
    }
   ],
   "source": [
    "for i in range(5):\n",
    "    print(i)"
   ]
  },
  {
   "cell_type": "code",
   "execution_count": 11,
   "id": "3ccae563",
   "metadata": {},
   "outputs": [
    {
     "name": "stdout",
     "output_type": "stream",
     "text": [
      "1\n",
      "2\n",
      "3\n",
      "4\n",
      "5\n",
      "6\n",
      "7\n",
      "8\n",
      "9\n",
      "fuera del bucle\n"
     ]
    }
   ],
   "source": [
    "i = 1\n",
    "while i < 10:\n",
    "    print(i)\n",
    "    i+=1\n",
    "print('fuera del bucle')"
   ]
  },
  {
   "cell_type": "code",
   "execution_count": null,
   "id": "d3f9e150",
   "metadata": {},
   "outputs": [],
   "source": [
    "# Bucle infinito:\n",
    "#while True:\n",
    "#    pass"
   ]
  },
  {
   "cell_type": "markdown",
   "id": "ccba46e0",
   "metadata": {},
   "source": [
    "if compacto:  A if cond else B"
   ]
  },
  {
   "cell_type": "code",
   "execution_count": 12,
   "id": "222a8422",
   "metadata": {},
   "outputs": [
    {
     "name": "stdout",
     "output_type": "stream",
     "text": [
      "impar\n"
     ]
    }
   ],
   "source": [
    "numero = 13\n",
    "print(\"par\" if numero % 2 == 0 else \"impar\")"
   ]
  },
  {
   "cell_type": "code",
   "execution_count": 13,
   "id": "5c25924a",
   "metadata": {},
   "outputs": [
    {
     "name": "stdout",
     "output_type": "stream",
     "text": [
      "impar\n"
     ]
    }
   ],
   "source": [
    "if numero % 2 == 0:\n",
    "    print(\"par\")\n",
    "else:\n",
    "    print(\"impar\")"
   ]
  },
  {
   "cell_type": "code",
   "execution_count": 15,
   "id": "ee4e460b",
   "metadata": {},
   "outputs": [
    {
     "data": {
      "text/plain": [
       "90"
      ]
     },
     "execution_count": 15,
     "metadata": {},
     "output_type": "execute_result"
    }
   ],
   "source": [
    "n1 = 120\n",
    "n2 = 90\n",
    "menor = n1 if n1 < n2 else n2\n",
    "menor"
   ]
  },
  {
   "cell_type": "code",
   "execution_count": 16,
   "id": "d7ed3b12",
   "metadata": {},
   "outputs": [
    {
     "data": {
      "text/plain": [
       "90"
      ]
     },
     "execution_count": 16,
     "metadata": {},
     "output_type": "execute_result"
    }
   ],
   "source": [
    "if n1 < n2:\n",
    "    menor = n1\n",
    "else:\n",
    "    menor = n2\n",
    "menor"
   ]
  },
  {
   "cell_type": "markdown",
   "id": "ced998f1",
   "metadata": {},
   "source": [
    "break y continue para los bucles while y for"
   ]
  },
  {
   "cell_type": "code",
   "execution_count": 17,
   "id": "a3308b37",
   "metadata": {},
   "outputs": [
    {
     "name": "stdout",
     "output_type": "stream",
     "text": [
      "0\n",
      "1\n",
      "2\n",
      "3\n",
      "4\n"
     ]
    }
   ],
   "source": [
    "for i in range(10):\n",
    "    if i == 5: \n",
    "        break # rompe el bucle y termina\n",
    "    print(i)        "
   ]
  },
  {
   "cell_type": "code",
   "execution_count": 18,
   "id": "2529e6ea",
   "metadata": {},
   "outputs": [
    {
     "name": "stdout",
     "output_type": "stream",
     "text": [
      "0\n",
      "1\n",
      "2\n",
      "3\n",
      "4\n",
      "6\n",
      "7\n",
      "8\n",
      "9\n"
     ]
    }
   ],
   "source": [
    "for i in range(10):\n",
    "    if i == 5: \n",
    "        continue # salta la iteración del 5\n",
    "    print(i) "
   ]
  },
  {
   "cell_type": "code",
   "execution_count": null,
   "id": "7b35d48b",
   "metadata": {},
   "outputs": [],
   "source": [
    "# Leer un número de teclado y solo se aceptan múltiplos de 10\n",
    "while True:\n",
    "    numero = int(input('Dame un numero'))\n",
    "    if numero % 10 != 0:\n",
    "        print('Solo se aceptan múltiplos de 10')\n",
    "    else:\n",
    "        break\n",
    "    "
   ]
  }
 ],
 "metadata": {
  "kernelspec": {
   "display_name": "Python 3 (ipykernel)",
   "language": "python",
   "name": "python3"
  },
  "language_info": {
   "codemirror_mode": {
    "name": "ipython",
    "version": 3
   },
   "file_extension": ".py",
   "mimetype": "text/x-python",
   "name": "python",
   "nbconvert_exporter": "python",
   "pygments_lexer": "ipython3",
   "version": "3.9.13"
  }
 },
 "nbformat": 4,
 "nbformat_minor": 5
}

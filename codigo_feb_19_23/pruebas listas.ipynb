{
 "cells": [
  {
   "cell_type": "markdown",
   "id": "8cc89b75",
   "metadata": {},
   "source": [
    "### Copiar listar"
   ]
  },
  {
   "cell_type": "markdown",
   "id": "65fced7b",
   "metadata": {},
   "source": [
    "#### Copia de elementos mutables"
   ]
  },
  {
   "cell_type": "markdown",
   "id": "91bc00fc",
   "metadata": {},
   "source": [
    "La copia funciona igual en listas, diccionarios y conjuntos"
   ]
  },
  {
   "cell_type": "code",
   "execution_count": 3,
   "id": "92d06765",
   "metadata": {},
   "outputs": [
    {
     "name": "stdout",
     "output_type": "stream",
     "text": [
      "L1 [1000, 2, 3, 4] 2463485186816\n",
      "L2 [1000, 2, 3, 4] 2463485186816\n"
     ]
    }
   ],
   "source": [
    "# Ojo no copia, crea una referencia:\n",
    "L1 = [1,2,3,4]\n",
    "L2 = L1\n",
    "L1[0] = 1000\n",
    "print('L1',L1,id(L1))\n",
    "print('L2',L2,id(L2))\n"
   ]
  },
  {
   "cell_type": "code",
   "execution_count": null,
   "id": "00614809",
   "metadata": {},
   "outputs": [],
   "source": [
    "# Utilizar el método copy: disponible en list, set y dict\n",
    "L1 = [1,2,3,4]\n",
    "L2 = L1.copy()\n",
    "L1[0] = 1000\n",
    "print('L1',L1,id(L1))\n",
    "print('L2',L2,id(L2))"
   ]
  }
 ],
 "metadata": {
  "kernelspec": {
   "display_name": "Python 3 (ipykernel)",
   "language": "python",
   "name": "python3"
  },
  "language_info": {
   "codemirror_mode": {
    "name": "ipython",
    "version": 3
   },
   "file_extension": ".py",
   "mimetype": "text/x-python",
   "name": "python",
   "nbconvert_exporter": "python",
   "pygments_lexer": "ipython3",
   "version": "3.9.13"
  }
 },
 "nbformat": 4,
 "nbformat_minor": 5
}

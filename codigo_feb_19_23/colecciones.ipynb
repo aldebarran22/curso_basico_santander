{
 "cells": [
  {
   "cell_type": "markdown",
   "id": "467b3f52",
   "metadata": {},
   "source": [
    "### Copiar listar"
   ]
  },
  {
   "cell_type": "markdown",
   "id": "36756c8f",
   "metadata": {},
   "source": [
    "#### Copia de elementos mutables"
   ]
  },
  {
   "cell_type": "markdown",
   "id": "cb121af9",
   "metadata": {},
   "source": [
    "La copia funciona igual en listas, diccionarios y conjuntos"
   ]
  },
  {
   "cell_type": "code",
   "execution_count": 3,
   "id": "6522834d",
   "metadata": {},
   "outputs": [
    {
     "name": "stdout",
     "output_type": "stream",
     "text": [
      "L1 [1000, 2, 3, 4] 2463485186816\n",
      "L2 [1000, 2, 3, 4] 2463485186816\n"
     ]
    }
   ],
   "source": [
    "# Ojo no copia, crea una referencia:\n",
    "L1 = [1,2,3,4]\n",
    "L2 = L1\n",
    "L1[0] = 1000\n",
    "print('L1',L1,id(L1))\n",
    "print('L2',L2,id(L2))"
   ]
  },
  {
   "cell_type": "code",
   "execution_count": 4,
   "id": "8580644f",
   "metadata": {},
   "outputs": [
    {
     "name": "stdout",
     "output_type": "stream",
     "text": [
      "L1 [1000, 2, 3, 4] 2463485195648\n",
      "L2 [1, 2, 3, 4] 2463485194368\n"
     ]
    }
   ],
   "source": [
    "# Utilizar el método copy: disponible en list, set y dict\n",
    "L1 = [1,2,3,4]\n",
    "L2 = L1.copy()\n",
    "L1[0] = 1000\n",
    "print('L1',L1,id(L1))\n",
    "print('L2',L2,id(L2))"
   ]
  },
  {
   "cell_type": "markdown",
   "id": "637e5b22",
   "metadata": {},
   "source": [
    "Para copiar listas de objetos mutables u objetos más complejos. Utilizar"
   ]
  },
  {
   "cell_type": "markdown",
   "id": "8644054e",
   "metadata": {},
   "source": [
    "import copy\n"
   ]
  },
  {
   "cell_type": "markdown",
   "id": "4fee595e",
   "metadata": {},
   "source": [
    "copia = copy.deepcopy(original)"
   ]
  },
  {
   "cell_type": "markdown",
   "id": "104b3fc1",
   "metadata": {},
   "source": [
    "### Pruebas con conjuntos"
   ]
  },
  {
   "cell_type": "code",
   "execution_count": 5,
   "id": "e15c9d5c",
   "metadata": {},
   "outputs": [
    {
     "data": {
      "text/plain": [
       "{1, 2, 3, 4, 5}"
      ]
     },
     "execution_count": 5,
     "metadata": {},
     "output_type": "execute_result"
    }
   ],
   "source": [
    "c1 = {1,2,2,2,1,1,3,4,5}\n",
    "c1"
   ]
  },
  {
   "cell_type": "code",
   "execution_count": 6,
   "id": "1e36818a",
   "metadata": {},
   "outputs": [
    {
     "data": {
      "text/plain": [
       "{1, 2, 3, 4, 5, 6, 8}"
      ]
     },
     "execution_count": 6,
     "metadata": {},
     "output_type": "execute_result"
    }
   ],
   "source": [
    "L = [1,2,3,4,3,2,1,2,2,2,4,5,6,8]\n",
    "c2 = set(L)\n",
    "c2"
   ]
  },
  {
   "cell_type": "code",
   "execution_count": 7,
   "id": "a9692aa3",
   "metadata": {},
   "outputs": [
    {
     "data": {
      "text/plain": [
       "[32, 1, 2, 3, 4, 5]"
      ]
     },
     "execution_count": 7,
     "metadata": {},
     "output_type": "execute_result"
    }
   ],
   "source": [
    "# Quiar repetidos a una lista y dejar los datos en una lista\n",
    "L2 = [1,2,3,4,3,32,1,2,3,4,5]\n",
    "L3 = list(set(L2))\n",
    "L3"
   ]
  },
  {
   "cell_type": "code",
   "execution_count": 8,
   "id": "af7d4141",
   "metadata": {},
   "outputs": [],
   "source": [
    "comida = {\"Alex\",\"Ana\",\"Miguel\",\"Eva\",\"Raquel\"}\n",
    "cena = {\"Ana\",\"Miguel\", \"Juan\", \"Pedro\",\"Raúl\"}"
   ]
  },
  {
   "cell_type": "code",
   "execution_count": 9,
   "id": "df23f894",
   "metadata": {},
   "outputs": [
    {
     "data": {
      "text/plain": [
       "{'Ana', 'Miguel'}"
      ]
     },
     "execution_count": 9,
     "metadata": {},
     "output_type": "execute_result"
    }
   ],
   "source": [
    "# Quien va a comer y a cenar:\n",
    "comida & cena"
   ]
  },
  {
   "cell_type": "code",
   "execution_count": 10,
   "id": "1e71233c",
   "metadata": {},
   "outputs": [
    {
     "data": {
      "text/plain": [
       "{'Alex', 'Eva', 'Raquel'}"
      ]
     },
     "execution_count": 10,
     "metadata": {},
     "output_type": "execute_result"
    }
   ],
   "source": [
    "# Quien va solo a comer:\n",
    "comida - cena"
   ]
  },
  {
   "cell_type": "code",
   "execution_count": 11,
   "id": "7fb90da1",
   "metadata": {},
   "outputs": [
    {
     "data": {
      "text/plain": [
       "{'Juan', 'Pedro', 'Raúl'}"
      ]
     },
     "execution_count": 11,
     "metadata": {},
     "output_type": "execute_result"
    }
   ],
   "source": [
    "# Quien va solo a cenar:\n",
    "cena - comida"
   ]
  },
  {
   "cell_type": "code",
   "execution_count": 12,
   "id": "7b345f8c",
   "metadata": {},
   "outputs": [
    {
     "data": {
      "text/plain": [
       "{'Alex', 'Ana', 'Eva', 'Juan', 'Miguel', 'Pedro', 'Raquel', 'Raúl'}"
      ]
     },
     "execution_count": 12,
     "metadata": {},
     "output_type": "execute_result"
    }
   ],
   "source": [
    "# Quienes han participado en los eventos:\n",
    "comida | cena"
   ]
  },
  {
   "cell_type": "code",
   "execution_count": 13,
   "id": "d45c0e9b",
   "metadata": {},
   "outputs": [
    {
     "data": {
      "text/plain": [
       "{'Alex', 'Eva', 'Juan', 'Pedro', 'Raquel', 'Raúl'}"
      ]
     },
     "execution_count": 13,
     "metadata": {},
     "output_type": "execute_result"
    }
   ],
   "source": [
    "# Quien va solo a un evento: solo uno!\n",
    "comida ^ cena"
   ]
  },
  {
   "cell_type": "markdown",
   "id": "9bdec235",
   "metadata": {},
   "source": [
    "### Pruebas con tuplas"
   ]
  },
  {
   "cell_type": "code",
   "execution_count": 14,
   "id": "037bdd47",
   "metadata": {},
   "outputs": [
    {
     "name": "stdout",
     "output_type": "stream",
     "text": [
      "(1, 2, 3, 4, 5) <class 'tuple'>\n",
      "(4, 5, 6, 7) <class 'tuple'>\n"
     ]
    }
   ],
   "source": [
    "t1 = (1,2,3,4,5)\n",
    "t2 = 4,5,6,7\n",
    "print(t1, type(t1))\n",
    "print(t2, type(t2))\n"
   ]
  },
  {
   "cell_type": "code",
   "execution_count": 15,
   "id": "b3828a59",
   "metadata": {},
   "outputs": [
    {
     "name": "stdout",
     "output_type": "stream",
     "text": [
      "9 <class 'int'>\n"
     ]
    }
   ],
   "source": [
    "# select * from clientes where pais=?\n",
    "t = (9)\n",
    "print(t, type(t))"
   ]
  },
  {
   "cell_type": "code",
   "execution_count": 16,
   "id": "f4f1684b",
   "metadata": {},
   "outputs": [
    {
     "name": "stdout",
     "output_type": "stream",
     "text": [
      "(9,) <class 'tuple'>\n"
     ]
    }
   ],
   "source": [
    "t = (9,)\n",
    "print(t, type(t))"
   ]
  },
  {
   "cell_type": "code",
   "execution_count": 17,
   "id": "35ad6d64",
   "metadata": {},
   "outputs": [
    {
     "name": "stdout",
     "output_type": "stream",
     "text": [
      "1\n",
      "2\n"
     ]
    }
   ],
   "source": [
    "# Intercambiar variables:\n",
    "a, b = 1,2\n",
    "print(a)\n",
    "print(b)"
   ]
  },
  {
   "cell_type": "code",
   "execution_count": 18,
   "id": "c423cb6d",
   "metadata": {},
   "outputs": [
    {
     "name": "stdout",
     "output_type": "stream",
     "text": [
      "2\n",
      "1\n"
     ]
    }
   ],
   "source": [
    "a,b = b,a\n",
    "print(a)\n",
    "print(b)"
   ]
  },
  {
   "cell_type": "code",
   "execution_count": 19,
   "id": "c9adf1fc",
   "metadata": {},
   "outputs": [
    {
     "data": {
      "text/plain": [
       "(1, 2, 3, 4, 5)"
      ]
     },
     "execution_count": 19,
     "metadata": {},
     "output_type": "execute_result"
    }
   ],
   "source": [
    "# Conversiones de otras colecciones a tuplas:\n",
    "L = [1,2,3,4,5]\n",
    "t = tuple(L)\n",
    "t"
   ]
  },
  {
   "cell_type": "code",
   "execution_count": 20,
   "id": "14e786c0",
   "metadata": {},
   "outputs": [
    {
     "data": {
      "text/plain": [
       "(1, 2, 8, 9, 0)"
      ]
     },
     "execution_count": 20,
     "metadata": {},
     "output_type": "execute_result"
    }
   ],
   "source": [
    "(1,2) + (8,9,0)"
   ]
  },
  {
   "cell_type": "code",
   "execution_count": 22,
   "id": "e228cf8e",
   "metadata": {},
   "outputs": [
    {
     "data": {
      "text/plain": [
       "(1, 2, 1, 2, 1, 2, 1, 2, 1, 2, 1, 2, 1, 2, 1, 2, 1, 2, 1, 2)"
      ]
     },
     "execution_count": 22,
     "metadata": {},
     "output_type": "execute_result"
    }
   ],
   "source": [
    "(1,2) * 10"
   ]
  },
  {
   "cell_type": "code",
   "execution_count": 23,
   "id": "cfb6b25f",
   "metadata": {},
   "outputs": [
    {
     "ename": "TypeError",
     "evalue": "'tuple' object does not support item assignment",
     "output_type": "error",
     "traceback": [
      "\u001b[1;31m---------------------------------------------------------------------------\u001b[0m",
      "\u001b[1;31mTypeError\u001b[0m                                 Traceback (most recent call last)",
      "\u001b[1;32m~\\AppData\\Local\\Temp\\ipykernel_3440\\255351379.py\u001b[0m in \u001b[0;36m<module>\u001b[1;34m\u001b[0m\n\u001b[1;32m----> 1\u001b[1;33m \u001b[0mt\u001b[0m\u001b[1;33m[\u001b[0m\u001b[1;36m0\u001b[0m\u001b[1;33m]\u001b[0m \u001b[1;33m=\u001b[0m \u001b[1;36m1000\u001b[0m\u001b[1;33m\u001b[0m\u001b[1;33m\u001b[0m\u001b[0m\n\u001b[0m",
      "\u001b[1;31mTypeError\u001b[0m: 'tuple' object does not support item assignment"
     ]
    }
   ],
   "source": [
    "t[0] = 1000"
   ]
  },
  {
   "cell_type": "code",
   "execution_count": 26,
   "id": "d1432559",
   "metadata": {},
   "outputs": [
    {
     "name": "stdout",
     "output_type": "stream",
     "text": [
      "1 2\n",
      "8 9\n",
      "3 5\n"
     ]
    }
   ],
   "source": [
    "L = [(1,2), (8,9), (3,5)]\n",
    "# Expansión de tuplas:\n",
    "for a,b in L:\n",
    "    print(a,b)"
   ]
  },
  {
   "cell_type": "code",
   "execution_count": null,
   "id": "05e29b47",
   "metadata": {},
   "outputs": [],
   "source": []
  }
 ],
 "metadata": {
  "kernelspec": {
   "display_name": "Python 3 (ipykernel)",
   "language": "python",
   "name": "python3"
  },
  "language_info": {
   "codemirror_mode": {
    "name": "ipython",
    "version": 3
   },
   "file_extension": ".py",
   "mimetype": "text/x-python",
   "name": "python",
   "nbconvert_exporter": "python",
   "pygments_lexer": "ipython3",
   "version": "3.9.13"
  }
 },
 "nbformat": 4,
 "nbformat_minor": 5
}

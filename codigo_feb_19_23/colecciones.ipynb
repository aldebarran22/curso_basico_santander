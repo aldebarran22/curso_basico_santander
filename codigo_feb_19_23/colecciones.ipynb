{
 "cells": [
  {
   "cell_type": "markdown",
   "id": "03378991",
   "metadata": {},
   "source": [
    "### Copiar listar"
   ]
  },
  {
   "cell_type": "markdown",
   "id": "cc01fb4b",
   "metadata": {},
   "source": [
    "#### Copia de elementos mutables"
   ]
  },
  {
   "cell_type": "markdown",
   "id": "0758b8ea",
   "metadata": {},
   "source": [
    "La copia funciona igual en listas, diccionarios y conjuntos"
   ]
  },
  {
   "cell_type": "code",
   "execution_count": 3,
   "id": "3787faa3",
   "metadata": {},
   "outputs": [
    {
     "name": "stdout",
     "output_type": "stream",
     "text": [
      "L1 [1000, 2, 3, 4] 2463485186816\n",
      "L2 [1000, 2, 3, 4] 2463485186816\n"
     ]
    }
   ],
   "source": [
    "# Ojo no copia, crea una referencia:\n",
    "L1 = [1,2,3,4]\n",
    "L2 = L1\n",
    "L1[0] = 1000\n",
    "print('L1',L1,id(L1))\n",
    "print('L2',L2,id(L2))"
   ]
  },
  {
   "cell_type": "code",
   "execution_count": 4,
   "id": "5e16ca5f",
   "metadata": {},
   "outputs": [
    {
     "name": "stdout",
     "output_type": "stream",
     "text": [
      "L1 [1000, 2, 3, 4] 2463485195648\n",
      "L2 [1, 2, 3, 4] 2463485194368\n"
     ]
    }
   ],
   "source": [
    "# Utilizar el método copy: disponible en list, set y dict\n",
    "L1 = [1,2,3,4]\n",
    "L2 = L1.copy()\n",
    "L1[0] = 1000\n",
    "print('L1',L1,id(L1))\n",
    "print('L2',L2,id(L2))"
   ]
  },
  {
   "cell_type": "markdown",
   "id": "f0eee91d",
   "metadata": {},
   "source": [
    "Para copiar listas de objetos mutables u objetos más complejos. Utilizar"
   ]
  },
  {
   "cell_type": "markdown",
   "id": "e0b009ad",
   "metadata": {},
   "source": [
    "import copy\n"
   ]
  },
  {
   "cell_type": "markdown",
   "id": "152a8e6b",
   "metadata": {},
   "source": [
    "copia = copy.deepcopy(original)"
   ]
  },
  {
   "cell_type": "markdown",
   "id": "85eaf3a0",
   "metadata": {},
   "source": [
    "### Pruebas con conjuntos"
   ]
  },
  {
   "cell_type": "code",
   "execution_count": 5,
   "id": "75fd958e",
   "metadata": {},
   "outputs": [
    {
     "data": {
      "text/plain": [
       "{1, 2, 3, 4, 5}"
      ]
     },
     "execution_count": 5,
     "metadata": {},
     "output_type": "execute_result"
    }
   ],
   "source": [
    "c1 = {1,2,2,2,1,1,3,4,5}\n",
    "c1"
   ]
  },
  {
   "cell_type": "code",
   "execution_count": 6,
   "id": "24e04f63",
   "metadata": {},
   "outputs": [
    {
     "data": {
      "text/plain": [
       "{1, 2, 3, 4, 5, 6, 8}"
      ]
     },
     "execution_count": 6,
     "metadata": {},
     "output_type": "execute_result"
    }
   ],
   "source": [
    "L = [1,2,3,4,3,2,1,2,2,2,4,5,6,8]\n",
    "c2 = set(L)\n",
    "c2"
   ]
  },
  {
   "cell_type": "code",
   "execution_count": 7,
   "id": "db7afe3f",
   "metadata": {},
   "outputs": [
    {
     "data": {
      "text/plain": [
       "[32, 1, 2, 3, 4, 5]"
      ]
     },
     "execution_count": 7,
     "metadata": {},
     "output_type": "execute_result"
    }
   ],
   "source": [
    "# Quiar repetidos a una lista y dejar los datos en una lista\n",
    "L2 = [1,2,3,4,3,32,1,2,3,4,5]\n",
    "L3 = list(set(L2))\n",
    "L3"
   ]
  },
  {
   "cell_type": "code",
   "execution_count": 8,
   "id": "a197794e",
   "metadata": {},
   "outputs": [],
   "source": [
    "comida = {\"Alex\",\"Ana\",\"Miguel\",\"Eva\",\"Raquel\"}\n",
    "cena = {\"Ana\",\"Miguel\", \"Juan\", \"Pedro\",\"Raúl\"}"
   ]
  },
  {
   "cell_type": "code",
   "execution_count": 9,
   "id": "79263036",
   "metadata": {},
   "outputs": [
    {
     "data": {
      "text/plain": [
       "{'Ana', 'Miguel'}"
      ]
     },
     "execution_count": 9,
     "metadata": {},
     "output_type": "execute_result"
    }
   ],
   "source": [
    "# Quien va a comer y a cenar:\n",
    "comida & cena"
   ]
  },
  {
   "cell_type": "code",
   "execution_count": null,
   "id": "6d91f727",
   "metadata": {},
   "outputs": [],
   "source": [
    "# Quien va solo a comer:\n"
   ]
  }
 ],
 "metadata": {
  "kernelspec": {
   "display_name": "Python 3 (ipykernel)",
   "language": "python",
   "name": "python3"
  },
  "language_info": {
   "codemirror_mode": {
    "name": "ipython",
    "version": 3
   },
   "file_extension": ".py",
   "mimetype": "text/x-python",
   "name": "python",
   "nbconvert_exporter": "python",
   "pygments_lexer": "ipython3",
   "version": "3.9.13"
  }
 },
 "nbformat": 4,
 "nbformat_minor": 5
}

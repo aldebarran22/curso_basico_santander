{
 "cells": [
  {
   "cell_type": "code",
   "execution_count": 1,
   "id": "aef5b857",
   "metadata": {},
   "outputs": [],
   "source": [
    "txt = \"\"\"Quiere la boca exhausta vid, kiwi, piña y fugaz jamón. Fabio me exige, sin tapujos, que añada cerveza al whisky. Jovencillo emponzoñado de whisky, ¡qué figurota exhibes! La cigüeña tocaba cada vez mejor el saxofón y el búho pedía kiwi y queso. El jefe buscó el éxtasis en un imprevisto baño de whisky y gozó como un duque. Exhíbanse politiquillos zafios, con orejas kilométricas y uñas de gavilán. El cadáver de Wamba, rey godo de España, fue exhumado y trasladado en una caja de zinc que pesó un kilo. El pingüino Wenceslao hizo kilómetros bajo exhaustiva lluvia y frío, añoraba a su querido cachorro. El veloz murciélago hindú comía feliz cardillo y kiwi. La cigüeña tocaba el saxofón detrás del palenque de paja.Quiere la boca exhausta vid, kiwi, piña y fugaz jamón. Fabio me exige, sin tapujos, que añada cerveza al whisky. Jovencillo emponzoñado de whisky, ¡qué figurota exhibes! La cigüeña tocaba cada vez mejor el saxofón y el búho pedía kiwi y queso. El jefe buscó el éxtasis en un imprevisto baño de whisky y gozó como un duque. Exhíbanse politiquillos zafios, con orejas kilométricas y uñas de gavilán. El cadáver de Wamba, rey godo de España, fue\n",
    "Una mañana, tras un sueño intranquilo, Gregorio Samsa se despertó convertido en un monstruoso insecto. Estaba echado de espaldas sobre un duro caparazón y, al alzar la cabeza, vio su vientre convexo y oscuro, surcado por curvadas callosidades, sobre el que casi no se aguantaba la colcha, que estaba a punto de escurrirse hasta el suelo. Numerosas patas, penosamente delgadas en comparación con el grosor normal de sus piernas, se agitaban sin concierto. - ¿Qué me ha ocurrido? No estaba soñando. Su habitación, una habitación normal, aunque muy pequeña, tenía el aspecto habitual. Sobre la mesa había desparramado un muestrario de paños - Samsa era viajante de comercio-, y de la pared colgaba una estampa recientemente recortada de una revista ilustrada y puesta en un marco dorado. La estampa mostraba a una mujer tocada con un gorro de pieles, envuelta en una estola también de pieles, y que, muy erguida, esgrimía un amplio manguito, asimismo de piel, que ocultaba todo su antebrazo. Gregorio miró hacia la ventana; estaba nublado, y sobre el cinc del alféizar repiqueteaban las gotas de lluvia, lo que le hizo sentir una gran melancolía. «Bueno -pensó-; ¿y si siguiese durmiendo un rato y me olvidase de\n",
    "Reina en mi espíritu una alegría admirable, muy parecida a las dulces alboradas de la primavera, de que gozo aquí con delicia. Estoy solo, y me felicito de vivir en este país, el más a propósito para almas como la mía, soy tan dichoso, mi querido amigo, me sojuzga de tal modo la idea de reposar, que no me ocupo de mi arte. Ahora no sabría dibujar, ni siquiera hacer una línea con el lápiz; y, sin embargo, jamás he sido mejor pintor Cuando el valle se vela en torno mío con un encaje de vapores; cuando el sol de mediodía centellea sobre la impenetrable sombra de mi bosque sin conseguir otra cosa que filtrar entre las hojas algunos rayos que penetran hasta el fondo del santuario, cuando recostado sobre la crecida hierba, cerca de la cascada, mi vista, más próxima a la tierra, descubre multitud de menudas y diversas plantas; cuando siento más cerca de mi corazón los rumores de vida de ese pequeño mundo que palpita en los tallos de las hojas, y veo las formas innumerables e infinitas de los gusanillos y de los insectos; cuando siento, en fin, la presencia del Todopoderoso, que nos ha creado\n",
    "Y, viéndole don Quijote de aquella manera, con muestras de tanta tristeza, le dijo: Sábete, Sancho, que no es un hombre más que otro si no hace más que otro. Todas estas borrascas que nos suceden son señales de que presto ha de serenar el tiempo y han de sucedernos bien las cosas; porque no es posible que el mal ni el bien sean durables, y de aquí se sigue que, habiendo durado mucho el mal, el bien está ya cerca. Así que, no debes congojarte por las desgracias que a mí me suceden, pues a ti no te cabe parte dellas.Y, viéndole don Quijote de aquella manera, con muestras de tanta tristeza, le dijo: Sábete, Sancho, que no es un hombre más que otro si no hace más que otro. Todas estas borrascas que nos suceden son señales de que presto ha de serenar el tiempo y han de sucedernos bien las cosas; porque no es posible que el mal ni el bien sean durables, y de aquí se sigue que, habiendo durado mucho el mal, el bien está ya cerca. Así que, no debes congojarte por las desgracias que a mí me suceden, pues a ti no\n",
    "Muy lejos, más allá de las montañas de palabras, alejados de los países de las vocales y las consonantes, viven los textos simulados. Viven aislados en casas de letras, en la costa de la semántica, un gran océano de lenguas. Un riachuelo llamado Pons fluye por su pueblo y los abastece con las normas necesarias. Hablamos de un país paraisomático en el que a uno le caen pedazos de frases asadas en la boca. Ni siquiera los todopoderosos signos de puntuación dominan a los textos simulados; una vida, se puede decir, poco ortográfica. Pero un buen día, una pequeña línea de texto simulado, llamada Lorem Ipsum, decidió aventurarse y salir al vasto mundo de la gramática. El gran Oxmox le desanconsejó hacerlo, ya que esas tierras estaban llenas de comas malvadas, signos de interrogación salvajes y puntos y coma traicioneros, pero el texto simulado no se dejó atemorizar. Empacó sus siete versales, enfundó su inicial en el cinturón y se puso en camino. Cuando ya había escalado las primeras colinas de las montañas cursivas, se dio media vuelta para dirigir su mirada por última vez, hacia su ciudad natal Letralandia, el encabezamiento del pueblo Alfabeto y el subtítulo de su\"\"\""
   ]
  },
  {
   "cell_type": "markdown",
   "id": "3ac54f8e",
   "metadata": {},
   "source": [
    "Histograma a nivel de letra"
   ]
  },
  {
   "cell_type": "code",
   "execution_count": 8,
   "id": "27af806d",
   "metadata": {},
   "outputs": [
    {
     "name": "stdout",
     "output_type": "stream",
     "text": [
      "número de letras:  5668\n",
      "número de letras sin repetidos:  45\n",
      "{'r': 226, 'i': 259, 'z': 32, 'n': 264, 's': 365, 'ü': 4, 'f': 29, 'í': 31, 'x': 23, '\\n': 4, ';': 9, '«': 1, '¿': 2, ',': 95, 'a': 555, 'q': 66, 'u': 226, 'c': 165, 'o': 373, 'j': 35, 'é': 13, 'ó': 29, 'l': 241, '¡': 2, 'w': 14, 'ú': 4, 'á': 24, ' ': 993, 'b': 90, 'v': 54, 'y': 59, ':': 2, 'e': 556, 't': 171, '!': 2, 'ñ': 27, 'h': 57, '?': 1, '.': 37, 'g': 56, 'p': 98, '-': 5, 'd': 215, 'm': 139, 'k': 15}\n"
     ]
    }
   ],
   "source": [
    "letras = list(txt.lower())\n",
    "print('número de letras: ', len(letras))\n",
    "cletras = set(letras)\n",
    "print('número de letras sin repetidos: ', len(cletras))\n",
    "histo1 = dict()\n",
    "\n",
    "for letra in cletras:\n",
    "    histo1[letra] = letras.count(letra)\n",
    "\n",
    "print(histo1)"
   ]
  },
  {
   "cell_type": "code",
   "execution_count": null,
   "id": "1df6b99d",
   "metadata": {},
   "outputs": [],
   "source": [
    "aux = list(histo1.items())\n",
    "aux[:5]"
   ]
  },
  {
   "cell_type": "markdown",
   "id": "ca575310",
   "metadata": {},
   "source": [
    "Histograma a nivel de palabra"
   ]
  },
  {
   "cell_type": "code",
   "execution_count": 9,
   "id": "e64d6749",
   "metadata": {},
   "outputs": [
    {
     "name": "stdout",
     "output_type": "stream",
     "text": [
      "número de palabras:  994\n",
      "número de palabras sin repetidos:  479\n",
      "{'intranquilo,': 1, 'torno': 1, 'fue': 1, 'es': 4, 'vista,': 1, 'llamado': 1, 'pintor': 1, 'whisky': 2, 'presto': 2, 'amigo,': 1, 'pequeño': 1, 'descubre': 1, 'estaba': 4, 'traicioneros,': 1, 'suelo.': 1, 'estola': 1, 'cinc': 1, 'encaje': 1, 'puesta': 1, 'cinturón': 1, 'abastece': 1, 'que,': 5, 'rayos': 1, 'rato': 1, 'paños': 1, 'todopoderoso,': 1, 'mi': 6, 'empacó': 1, 'presencia': 1, 'que': 29, 'miró': 1, 'kilo.': 1, 'alejados': 1, 'semántica,': 1, 'interrogación': 1, 'enfundó': 1, 'cadáver': 2, 'ti': 2, 'jefe': 2, 'solo,': 1, 'países': 1, 'había': 2, 'su': 9, 'despertó': 1, 'otro.': 2, 'y': 34, 'dulces': 1, 'sábete,': 2, 'simulado': 1, 'muestras': 2, 'alféizar': 1, 'necesarias.': 1, 'tallos': 1, 'dominan': 1, 'aspecto': 1, 'riachuelo': 1, 'hacer': 1, 'numerosas': 1, 'llenas': 1, 'infinitas': 1, 'mal': 2, 'lejos,': 1, 'vida,': 1, 'quiere': 1, 'esgrimía': 1, 'era': 1, 'samsa': 2, 'cuando': 6, 'convexo': 1, 'don': 2, 'exhaustiva': 1, 'gavilán.': 2, 'normal': 1, 'concierto.': 1, 'ocultaba': 1, 'cursivas,': 1, 'mañana,': 1, 'bosque': 1, 'natal': 1, 'aislados': 1, 'kiwi.': 1, 'pequeña': 1, 'al': 4, 'vasto': 1, 'nos': 3, 'lorem': 1, 'wamba,': 2, 'mucho': 2, 'wenceslao': 1, 'exhíbanse': 2, 'tocaba': 3, 'se': 10, 'línea': 2, 'recortada': 1, 'borrascas': 2, 'vivir': 1, 'con': 10, 'orejas': 2, 'fue\\nuna': 1, 'duque.': 2, 'hasta': 2, 'feliz': 1, 'cabe': 1, 'sabría': 1, 'duro': 1, 'puntos': 1, 'uno': 1, 'durables,': 2, 'queso.': 2, 'primavera,': 1, 'cosa': 1, 'decir,': 1, 'ese': 1, 'godo': 2, 'delicia.': 1, 'media': 1, 'recientemente': 1, 'hacerlo,': 1, 'caen': 1, 'gusanillos': 1, 'como': 3, 'aguantaba': 1, 'ahora': 1, 'costa': 1, 'sentir': 1, 'cabeza,': 1, 'exhumado': 1, 'sus': 2, 'inicial': 1, 'ocurrido?': 1, 'alboradas': 1, 'todas': 2, 'veo': 1, 'caparazón': 1, 'agitaban': 1, 'hizo': 2, 'siquiera': 2, 'todo': 1, 'rey': 2, 'encabezamiento': 1, 'de': 68, 'pons': 1, 'creado\\ny,': 1, 'salir': 1, 'figurota': 2, 'día,': 1, 'palpita': 1, 'buen': 1, '-': 2, 'ciudad': 1, 'también': 1, 'lluvia,': 1, 'trasladado': 1, 'mediodía': 1, '-pensó-;': 1, 'desparramado': 1, 'los': 9, 'decidió': 1, 'hablamos': 1, 'arte.': 1, 'idea': 1, 'posible': 2, 'otro': 2, 'tierras': 1, 'parecida': 1, 'el': 39, 'vid,': 2, 'todopoderosos': 1, 'salvajes': 1, 'ilustrada': 1, 'sido': 1, 'imprevisto': 2, 'tras': 1, 'buscó': 2, 'suceden,': 2, 'ipsum,': 1, 'echado': 1, 'diversas': 1, 'politiquillos': 2, 'pequeña,': 1, 'gran': 3, 'hierba,': 1, 'almas': 1, 'santuario,': 1, 'insectos;': 1, 'colcha,': 1, 'sean': 2, 'penosamente': 1, 'veloz': 1, 'fin,': 1, 'fluye': 1, 'baño': 2, 'más': 8, 'las': 15, 'exhibes!': 2, 'mesa': 1, 'alfabeto': 1, 'habitación': 1, 'españa,': 2, 'comercio-,': 1, 'estaban': 1, 'por': 5, 'casas': 1, 'nublado,': 1, 'algunos': 1, 'revista': 1, 'erguida,': 1, 'punto': 1, 'éxtasis': 2, 'otra': 1, 'admirable,': 1, 'bien': 6, 'sol': 1, 'tapujos,': 2, 'envuelta': 1, 'sojuzga': 1, 'conseguir': 1, 'filtrar': 1, 'hace': 2, 'plantas;': 1, 'mostraba': 1, 'suceden': 2, 'he': 1, 'manguito,': 1, 'hojas': 1, 'gramática.': 1, 'exhausta': 2, 'la': 23, 'espíritu': 1, 'durado': 2, 'asimismo': 1, 'atemorizar.': 1, 'parte': 1, 'sancho,': 2, 'propósito': 1, 'olvidase': 1, 'ocupo': 1, 'modo': 1, 'siento,': 1, 'jovencillo': 2, 'gorro': 1, 'no': 14, 'mío': 1, 'soy': 1, 'aventurarse': 1, 'muestrario': 1, 'habitación,': 1, 'a': 12, 'cascada,': 1, 'tierra,': 1, 'manera,': 2, 'le': 5, 'crecida': 1, 'dichoso,': 1, 'repiqueteaban': 1, 'pedía': 2, 'boca.': 1, 'y,': 2, 'mundo': 2, 'lenguas.': 1, 'vapores;': 1, 'antebrazo.': 1, 'viéndole': 2, 'casi': 1, 'caja': 1, '¿qué': 1, 'saxofón': 3, 'siento': 1, 'tal': 1, 'aquella': 2, 'añoraba': 1, '¿y': 1, 'muy': 3, 'formas': 1, 'vela': 1, 'cigüeña': 3, 'viven': 2, 'asadas': 1, 'pedazos': 1, 'insecto.': 1, 'comía': 1, 'simulados;': 1, 'lluvia': 1, 'piel,': 1, 'patas,': 1, 'hindú': 1, 'sobre': 6, 'puede': 1, 'boca': 2, 'hacia': 2, 'reposar,': 1, 'mejor': 3, 'viajante': 1, 'desanconsejó': 1, 'montañas': 2, 'e': 1, 'pared': 1, 'consonantes,': 1, 'vientre': 1, 'vida': 1, 'mujer': 1, 'texto': 2, 'esas': 1, 'penetran': 1, 'llamada': 1, 'camino.': 1, 'palenque': 1, 'corazón': 1, 'si': 3, 'han': 2, 'próxima': 1, 'alzar': 1, 'multitud': 1, 'surcado': 1, 'kilómetros': 1, 'alegría': 1, 'allá': 1, 'pesó': 1, 'siguiese': 1, 'bajo': 1, 'comparación': 1, 'dio': 1, 'normal,': 1, 'dejó': 1, 'versales,': 1, 'melancolía.': 1, 'sin': 5, 'habiendo': 2, '«bueno': 1, 'dellas.y,': 1, 'monstruoso': 1, 'este': 1, 'escurrirse': 1, 'ortográfica.': 1, 'whisky.': 2, 'recostado': 1, 'delgadas': 1, 'de\\nreina': 1, 'simulado,': 1, 'cerca.': 2, 'kilométricas': 2, 'sombra': 1, 'vio': 1, 'cada': 2, 'felicito': 1, 'dijo:': 2, 'grosor': 1, 'uñas': 2, '¡qué': 2, 'piernas,': 1, 'estoy': 1, 'congojarte': 2, 'te': 1, 'comas': 1, 'curvadas': 1, 'jamás': 1, 'tenía': 1, 'mirada': 1, 'tocada': 1, 'un': 20, 'habitual.': 1, 'tiempo': 2, 'textos': 2, 'ventana;': 1, 'impenetrable': 1, 'cerveza': 2, 'estas': 2, 'sueño': 1, 'una': 11, 'serenar': 2, 'dorado.': 1, 'fondo': 1, 'cachorro.': 1, 'hombre': 2, 'océano': 1, 'búho': 2, 'amplio': 1, 'gozó': 2, 'coma': 1, 'embargo,': 1, 'tristeza,': 2, 'gozo': 1, 'jamón.': 2, 'signos': 2, 'cerca': 2, 'zafios,': 2, 'escalado': 1, 'colinas': 1, 'debes': 2, 'marco': 1, 'ya': 4, 'pingüino': 1, 'callosidades,': 1, 'gotas': 1, 'oxmox': 1, 'innumerables': 1, 'pues': 2, 'son': 2, 'malvadas,': 1, 'señales': 2, 'convertido': 1, 'dirigir': 1, 'no\\nmuy': 1, 'vocales': 1, 'aunque': 1, 'palabras,': 1, 'detrás': 1, 'última': 1, 'fabio': 2, 'país': 1, 'del': 5, 'añada': 2, 'centellea': 1, 'frío,': 1, 'letras,': 1, 'vuelta': 1, 'rumores': 1, 'porque': 2, 'letralandia,': 1, 'piña': 2, 'dibujar,': 1, 'paraisomático': 1, 'cardillo': 1, 'mal,': 2, 'me': 9, 'normas': 1, 'mí': 2, 'quijote': 2, 'valle': 1, 'en': 18, 'para': 2, 'frases': 1, 'kiwi': 2, 'subtítulo': 1, 'así': 2, 'gregorio': 2, 'pieles,': 2, 'sigue': 2, 'primeras': 1, 'fugaz': 2, 'emponzoñado': 2, 'kiwi,': 2, 'estampa': 2, 'murciélago': 1, 'hojas,': 1, 'simulados.': 1, 'está': 2, 'lápiz;': 1, 'vez,': 1, 'país,': 1, 'exige,': 2, 'paja.quiere': 1, 'aquí': 3, 'tanta': 2, 'entre': 1, 'poco': 1, 'pero': 2, 'menudas': 1, 'sucedernos': 2, 'durmiendo': 1, 'vez': 2, 'lo': 1, 'zinc': 1, 'espaldas': 1, 'ni': 4, 'ha': 4, 'pueblo': 2, 'soñando.': 1, 'colgaba': 1, 'cosas;': 2, 'oscuro,': 1, 'mía,': 1, 'siete': 1, 'desgracias': 2, 'whisky,': 2, 'querido': 2, 'tan': 1, 'puntuación': 1, 'puso': 1}\n"
     ]
    }
   ],
   "source": [
    "palabras = txt.lower().split(\" \")\n",
    "print('número de palabras: ', len(palabras))\n",
    "cpalabras = set(palabras)\n",
    "print('número de palabras sin repetidos: ', len(cpalabras))\n",
    "\n",
    "histo2 = dict()\n",
    "\n",
    "for palabra in cpalabras:\n",
    "    histo2[palabra] = palabras.count(palabra)\n",
    "\n",
    "print(histo2)"
   ]
  },
  {
   "cell_type": "code",
   "execution_count": null,
   "id": "f0ddcf18",
   "metadata": {},
   "outputs": [],
   "source": []
  }
 ],
 "metadata": {
  "kernelspec": {
   "display_name": "Python 3 (ipykernel)",
   "language": "python",
   "name": "python3"
  },
  "language_info": {
   "codemirror_mode": {
    "name": "ipython",
    "version": 3
   },
   "file_extension": ".py",
   "mimetype": "text/x-python",
   "name": "python",
   "nbconvert_exporter": "python",
   "pygments_lexer": "ipython3",
   "version": "3.8.5"
  }
 },
 "nbformat": 4,
 "nbformat_minor": 5
}

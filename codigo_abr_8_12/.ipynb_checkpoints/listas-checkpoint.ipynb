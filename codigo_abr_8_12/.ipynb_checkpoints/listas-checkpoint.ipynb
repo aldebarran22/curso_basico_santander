{
 "cells": [
  {
   "cell_type": "markdown",
   "id": "6af5ebb5",
   "metadata": {},
   "source": [
    "## Listas en Python"
   ]
  },
  {
   "cell_type": "markdown",
   "id": "14117ae7",
   "metadata": {},
   "source": [
    "Operaciones con listas"
   ]
  },
  {
   "cell_type": "markdown",
   "id": "2a767b72",
   "metadata": {},
   "source": [
    "- Crear listas\n",
    "- funciones de uso general para colecciones.\n",
    "- acceso a los elementos\n",
    "- índices\n",
    "- recorridos\n",
    "- slicing\n",
    "- operadores\n",
    "- copiar listas\n"
   ]
  },
  {
   "cell_type": "code",
   "execution_count": 1,
   "id": "b21733cd",
   "metadata": {},
   "outputs": [],
   "source": [
    "L = [1,3,4,5,6,1,2,3,4]\n",
    "L"
   ]
  },
  {
   "cell_type": "code",
   "execution_count": 2,
   "id": "f9e023d8",
   "metadata": {},
   "outputs": [
    {
     "name": "stdout",
     "output_type": "stream",
     "text": [
      "recuento:  9\n",
      "suma:  29\n",
      "minimo:  1\n",
      "maximo:  6\n",
      "promedio:  3.22\n"
     ]
    }
   ],
   "source": [
    "print('recuento: ', len(L))\n",
    "print('suma: ', sum(L))\n",
    "print('minimo: ', min(L))\n",
    "print('maximo: ', max(L))\n",
    "print('promedio: ', round(sum(L)/len(L),2))"
   ]
  },
  {
   "cell_type": "code",
   "execution_count": 3,
   "id": "3e9f87bb",
   "metadata": {},
   "outputs": [],
   "source": [
    "L2 = [1,2,3]"
   ]
  },
  {
   "cell_type": "code",
   "execution_count": 4,
   "id": "274dcbc4",
   "metadata": {},
   "outputs": [
    {
     "name": "stdout",
     "output_type": "stream",
     "text": [
      "1\n",
      "3\n",
      "4\n",
      "5\n",
      "6\n",
      "1\n",
      "2\n",
      "3\n",
      "4\n"
     ]
    }
   ],
   "source": [
    "for i in L:\n",
    "    print(i)"
   ]
  },
  {
   "cell_type": "code",
   "execution_count": 5,
   "id": "ef88c5af",
   "metadata": {},
   "outputs": [
    {
     "name": "stdout",
     "output_type": "stream",
     "text": [
      "0 1\n",
      "1 3\n",
      "2 4\n",
      "3 5\n",
      "4 6\n",
      "5 1\n",
      "6 2\n",
      "7 3\n",
      "8 4\n"
     ]
    }
   ],
   "source": [
    "for pos, i in enumerate(L):\n",
    "    print(pos, i)"
   ]
  },
  {
   "cell_type": "code",
   "execution_count": 7,
   "id": "948b9c5b",
   "metadata": {},
   "outputs": [
    {
     "name": "stdout",
     "output_type": "stream",
     "text": [
      "el primero: 1 1\n",
      "el último: 6 6\n"
     ]
    }
   ],
   "source": [
    "L = [1,2,3,4,5,6]\n",
    "print('el primero:', L[0], L[-6])\n",
    "print('el último:', L[5], L[-1])"
   ]
  },
  {
   "cell_type": "code",
   "execution_count": 8,
   "id": "bd4fca92",
   "metadata": {},
   "outputs": [
    {
     "data": {
      "text/plain": [
       "['C:', 'mis documentos', 'libros', 'libro1.xlsx']"
      ]
     },
     "execution_count": 8,
     "metadata": {},
     "output_type": "execute_result"
    }
   ],
   "source": [
    "path = \"C:/mis documentos/libros/libro1.xlsx\"\n",
    "R = path.split('/')\n",
    "R"
   ]
  },
  {
   "cell_type": "code",
   "execution_count": 9,
   "id": "ae06225b",
   "metadata": {},
   "outputs": [
    {
     "data": {
      "text/plain": [
       "'libro1.xlsx'"
      ]
     },
     "execution_count": 9,
     "metadata": {},
     "output_type": "execute_result"
    }
   ],
   "source": [
    "fichero = R[-1]\n",
    "fichero"
   ]
  },
  {
   "cell_type": "markdown",
   "id": "4fb159c4",
   "metadata": {},
   "source": [
    "slicing: parámetros   L[inicio:fin-1:salto=1]"
   ]
  },
  {
   "cell_type": "code",
   "execution_count": 10,
   "id": "b186ec9b",
   "metadata": {},
   "outputs": [
    {
     "data": {
      "text/plain": [
       "[1, 2, 3, 4, 5, 6]"
      ]
     },
     "execution_count": 10,
     "metadata": {},
     "output_type": "execute_result"
    }
   ],
   "source": [
    "L"
   ]
  },
  {
   "cell_type": "code",
   "execution_count": 16,
   "id": "1da22321",
   "metadata": {},
   "outputs": [
    {
     "name": "stdout",
     "output_type": "stream",
     "text": [
      "los 3 primeros:  [1, 2, 3]\n",
      "los 3 primeros:  [1, 2, 3]\n",
      "los 3 últimos: [4, 5, 6]\n",
      "todos de dos en dos:  [1, 3, 5]\n",
      "invertir:  [6, 5, 4, 3, 2, 1]\n",
      "Quitar el primero y el último:  [2, 3, 4, 5]\n"
     ]
    }
   ],
   "source": [
    "print('los 3 primeros: ', L[0:3])\n",
    "print('los 3 primeros: ', L[:3])\n",
    "print('los 3 últimos:', L[-3:])\n",
    "print('todos de dos en dos: ', L[::2])\n",
    "print('invertir: ', L[::-1])\n",
    "print('Quitar el primero y el último: ', L[1:-1])"
   ]
  },
  {
   "cell_type": "code",
   "execution_count": 19,
   "id": "0946df78",
   "metadata": {},
   "outputs": [
    {
     "data": {
      "text/plain": [
       "True"
      ]
     },
     "execution_count": 19,
     "metadata": {},
     "output_type": "execute_result"
    }
   ],
   "source": [
    "# Calcular si un número es capicua:\n",
    "n = 1234321\n",
    "s = str(n)\n",
    "s == s[::-1]"
   ]
  },
  {
   "cell_type": "markdown",
   "id": "81ee3a37",
   "metadata": {},
   "source": [
    "Crear listas con la función list"
   ]
  },
  {
   "cell_type": "code",
   "execution_count": 23,
   "id": "104f6f23",
   "metadata": {},
   "outputs": [
    {
     "data": {
      "text/plain": [
       "(['h', 'o', 'l', 'a', ' ', 'q', 'u', 'e', ' ', 't', 'a', 'l'], list)"
      ]
     },
     "execution_count": 23,
     "metadata": {},
     "output_type": "execute_result"
    }
   ],
   "source": [
    "s = \"hola que tal\"\n",
    "L2 = list(s)\n",
    "L2, type(L2)"
   ]
  },
  {
   "cell_type": "code",
   "execution_count": 26,
   "id": "0265e067",
   "metadata": {},
   "outputs": [
    {
     "name": "stdout",
     "output_type": "stream",
     "text": [
      "[1, 2, 3, 4, 5, 6]\n",
      "[1, 2, 3, 1, 2, 3, 1, 2, 3, 1, 2, 3, 1, 2, 3]\n",
      "1 in L1:  True\n",
      "10 in L1:  False\n"
     ]
    }
   ],
   "source": [
    "# Operadores de las listas: + * in\n",
    "L1 = [1,2,3]\n",
    "L2 = [4,5,6]\n",
    "print(L1 + L2)\n",
    "print(L1 * 5)\n",
    "print('1 in L1: ', 1 in L1)\n",
    "print('10 in L1: ', 10 in L1)\n"
   ]
  },
  {
   "cell_type": "code",
   "execution_count": null,
   "id": "4d67414d",
   "metadata": {},
   "outputs": [],
   "source": []
  }
 ],
 "metadata": {
  "kernelspec": {
   "display_name": "Python 3 (ipykernel)",
   "language": "python",
   "name": "python3"
  },
  "language_info": {
   "codemirror_mode": {
    "name": "ipython",
    "version": 3
   },
   "file_extension": ".py",
   "mimetype": "text/x-python",
   "name": "python",
   "nbconvert_exporter": "python",
   "pygments_lexer": "ipython3",
   "version": "3.8.5"
  }
 },
 "nbformat": 4,
 "nbformat_minor": 5
}

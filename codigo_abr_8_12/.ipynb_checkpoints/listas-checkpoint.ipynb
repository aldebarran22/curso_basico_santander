{
 "cells": [
  {
   "cell_type": "markdown",
   "id": "00067fc2",
   "metadata": {},
   "source": [
    "## Listas en Python"
   ]
  },
  {
   "cell_type": "markdown",
   "id": "cbedc343",
   "metadata": {},
   "source": [
    "Operaciones con listas"
   ]
  },
  {
   "cell_type": "markdown",
   "id": "0b071e2c",
   "metadata": {},
   "source": [
    "- Crear listas\n",
    "- funciones de uso general para colecciones.\n",
    "- acceso a los elementos\n",
    "- índices\n",
    "- recorridos\n",
    "- slicing\n",
    "- operadores\n",
    "- copiar listas\n"
   ]
  },
  {
   "cell_type": "code",
   "execution_count": 1,
   "id": "47f40298",
   "metadata": {},
   "outputs": [],
   "source": [
    "L = [1,3,4,5,6,1,2,3,4]\n",
    "L"
   ]
  },
  {
   "cell_type": "code",
   "execution_count": 2,
   "id": "603a2840",
   "metadata": {},
   "outputs": [
    {
     "name": "stdout",
     "output_type": "stream",
     "text": [
      "recuento:  9\n",
      "suma:  29\n",
      "minimo:  1\n",
      "maximo:  6\n",
      "promedio:  3.22\n"
     ]
    }
   ],
   "source": [
    "print('recuento: ', len(L))\n",
    "print('suma: ', sum(L))\n",
    "print('minimo: ', min(L))\n",
    "print('maximo: ', max(L))\n",
    "print('promedio: ', round(sum(L)/len(L),2))"
   ]
  },
  {
   "cell_type": "code",
   "execution_count": 3,
   "id": "d31ed846",
   "metadata": {},
   "outputs": [],
   "source": [
    "L2 = [1,2,3]"
   ]
  },
  {
   "cell_type": "code",
   "execution_count": 4,
   "id": "96fdb5df",
   "metadata": {},
   "outputs": [
    {
     "name": "stdout",
     "output_type": "stream",
     "text": [
      "1\n",
      "3\n",
      "4\n",
      "5\n",
      "6\n",
      "1\n",
      "2\n",
      "3\n",
      "4\n"
     ]
    }
   ],
   "source": [
    "for i in L:\n",
    "    print(i)"
   ]
  },
  {
   "cell_type": "code",
   "execution_count": 5,
   "id": "96c2ec61",
   "metadata": {},
   "outputs": [
    {
     "name": "stdout",
     "output_type": "stream",
     "text": [
      "0 1\n",
      "1 3\n",
      "2 4\n",
      "3 5\n",
      "4 6\n",
      "5 1\n",
      "6 2\n",
      "7 3\n",
      "8 4\n"
     ]
    }
   ],
   "source": [
    "for pos, i in enumerate(L):\n",
    "    print(pos, i)"
   ]
  },
  {
   "cell_type": "code",
   "execution_count": 7,
   "id": "ef6feee4",
   "metadata": {},
   "outputs": [
    {
     "name": "stdout",
     "output_type": "stream",
     "text": [
      "el primero: 1 1\n",
      "el último: 6 6\n"
     ]
    }
   ],
   "source": [
    "L = [1,2,3,4,5,6]\n",
    "print('el primero:', L[0], L[-6])\n",
    "print('el último:', L[5], L[-1])"
   ]
  },
  {
   "cell_type": "code",
   "execution_count": 8,
   "id": "dd4f1551",
   "metadata": {},
   "outputs": [
    {
     "data": {
      "text/plain": [
       "['C:', 'mis documentos', 'libros', 'libro1.xlsx']"
      ]
     },
     "execution_count": 8,
     "metadata": {},
     "output_type": "execute_result"
    }
   ],
   "source": [
    "path = \"C:/mis documentos/libros/libro1.xlsx\"\n",
    "R = path.split('/')\n",
    "R"
   ]
  },
  {
   "cell_type": "code",
   "execution_count": 9,
   "id": "9d1e1412",
   "metadata": {},
   "outputs": [
    {
     "data": {
      "text/plain": [
       "'libro1.xlsx'"
      ]
     },
     "execution_count": 9,
     "metadata": {},
     "output_type": "execute_result"
    }
   ],
   "source": [
    "fichero = R[-1]\n",
    "fichero"
   ]
  },
  {
   "cell_type": "markdown",
   "id": "4903c0eb",
   "metadata": {},
   "source": [
    "slicing: parámetros   L[inicio:fin-1:salto=1]"
   ]
  },
  {
   "cell_type": "code",
   "execution_count": 10,
   "id": "c5ad658d",
   "metadata": {},
   "outputs": [
    {
     "data": {
      "text/plain": [
       "[1, 2, 3, 4, 5, 6]"
      ]
     },
     "execution_count": 10,
     "metadata": {},
     "output_type": "execute_result"
    }
   ],
   "source": [
    "L"
   ]
  },
  {
   "cell_type": "code",
   "execution_count": 16,
   "id": "68a8d489",
   "metadata": {},
   "outputs": [
    {
     "name": "stdout",
     "output_type": "stream",
     "text": [
      "los 3 primeros:  [1, 2, 3]\n",
      "los 3 primeros:  [1, 2, 3]\n",
      "los 3 últimos: [4, 5, 6]\n",
      "todos de dos en dos:  [1, 3, 5]\n",
      "invertir:  [6, 5, 4, 3, 2, 1]\n",
      "Quitar el primero y el último:  [2, 3, 4, 5]\n"
     ]
    }
   ],
   "source": [
    "print('los 3 primeros: ', L[0:3])\n",
    "print('los 3 primeros: ', L[:3])\n",
    "print('los 3 últimos:', L[-3:])\n",
    "print('todos de dos en dos: ', L[::2])\n",
    "print('invertir: ', L[::-1])\n",
    "print('Quitar el primero y el último: ', L[1:-1])"
   ]
  },
  {
   "cell_type": "code",
   "execution_count": 19,
   "id": "c4e36027",
   "metadata": {},
   "outputs": [
    {
     "data": {
      "text/plain": [
       "True"
      ]
     },
     "execution_count": 19,
     "metadata": {},
     "output_type": "execute_result"
    }
   ],
   "source": [
    "# Calcular si un número es capicua:\n",
    "n = 1234321\n",
    "s = str(n)\n",
    "s == s[::-1]"
   ]
  },
  {
   "cell_type": "markdown",
   "id": "95add240",
   "metadata": {},
   "source": [
    "Crear listas con la función list"
   ]
  },
  {
   "cell_type": "code",
   "execution_count": 23,
   "id": "49edb59f",
   "metadata": {},
   "outputs": [
    {
     "data": {
      "text/plain": [
       "(['h', 'o', 'l', 'a', ' ', 'q', 'u', 'e', ' ', 't', 'a', 'l'], list)"
      ]
     },
     "execution_count": 23,
     "metadata": {},
     "output_type": "execute_result"
    }
   ],
   "source": [
    "s = \"hola que tal\"\n",
    "L2 = list(s)\n",
    "L2, type(L2)"
   ]
  },
  {
   "cell_type": "code",
   "execution_count": 26,
   "id": "c70ffa2a",
   "metadata": {},
   "outputs": [
    {
     "name": "stdout",
     "output_type": "stream",
     "text": [
      "[1, 2, 3, 4, 5, 6]\n",
      "[1, 2, 3, 1, 2, 3, 1, 2, 3, 1, 2, 3, 1, 2, 3]\n",
      "1 in L1:  True\n",
      "10 in L1:  False\n"
     ]
    }
   ],
   "source": [
    "# Operadores de las listas: + * in\n",
    "L1 = [1,2,3]\n",
    "L2 = [4,5,6]\n",
    "print(L1 + L2)\n",
    "print(L1 * 5)\n",
    "print('1 in L1: ', 1 in L1)\n",
    "print('10 in L1: ', 10 in L1)\n"
   ]
  },
  {
   "cell_type": "code",
   "execution_count": 27,
   "id": "59b5f868",
   "metadata": {},
   "outputs": [
    {
     "data": {
      "text/plain": [
       "[10, 2, 3, 4, 5, 6]"
      ]
     },
     "execution_count": 27,
     "metadata": {},
     "output_type": "execute_result"
    }
   ],
   "source": [
    "# Modificar elementos:\n",
    "L[0] = 10\n",
    "L"
   ]
  },
  {
   "cell_type": "code",
   "execution_count": 28,
   "id": "00b59bde",
   "metadata": {},
   "outputs": [
    {
     "data": {
      "text/plain": [
       "[10, 2, 3, 4, 5, 6, 100]"
      ]
     },
     "execution_count": 28,
     "metadata": {},
     "output_type": "execute_result"
    }
   ],
   "source": [
    "# Añadir elementos\n",
    "L += [100]\n",
    "L"
   ]
  },
  {
   "cell_type": "markdown",
   "id": "91a152cd",
   "metadata": {},
   "source": [
    "Dadas dos listas, calcular la intersección (elementos comunes sin repetir) en una nueva lista (sin utilizar conjuntos)."
   ]
  },
  {
   "cell_type": "code",
   "execution_count": 30,
   "id": "771d5abb",
   "metadata": {},
   "outputs": [
    {
     "data": {
      "text/plain": [
       "[1, 2, 3, 4, 5]"
      ]
     },
     "execution_count": 30,
     "metadata": {},
     "output_type": "execute_result"
    }
   ],
   "source": [
    "L1 = [1,2,3,4,5,1,2]\n",
    "L2 = [4,5,6,7,1,2,3]\n",
    "\n",
    "R = []  # R = list()\n",
    " \n",
    "for i in L1:\n",
    "    if i in L2 and i not in R:\n",
    "        R += [i]\n",
    "        \n",
    "R"
   ]
  },
  {
   "cell_type": "code",
   "execution_count": 31,
   "id": "b6d5be44",
   "metadata": {},
   "outputs": [
    {
     "ename": "TypeError",
     "evalue": "'int' object is not subscriptable",
     "output_type": "error",
     "traceback": [
      "\u001b[1;31m---------------------------------------------------------------------------\u001b[0m",
      "\u001b[1;31mTypeError\u001b[0m                                 Traceback (most recent call last)",
      "\u001b[1;32m<ipython-input-31-3e64f9191e73>\u001b[0m in \u001b[0;36m<module>\u001b[1;34m\u001b[0m\n\u001b[0;32m      1\u001b[0m \u001b[1;31m# excepciones en las listas\u001b[0m\u001b[1;33m\u001b[0m\u001b[1;33m\u001b[0m\u001b[1;33m\u001b[0m\u001b[0m\n\u001b[0;32m      2\u001b[0m \u001b[0mn\u001b[0m \u001b[1;33m=\u001b[0m \u001b[1;36m23\u001b[0m\u001b[1;33m\u001b[0m\u001b[1;33m\u001b[0m\u001b[0m\n\u001b[1;32m----> 3\u001b[1;33m \u001b[0mn\u001b[0m\u001b[1;33m[\u001b[0m\u001b[1;36m0\u001b[0m\u001b[1;33m]\u001b[0m\u001b[1;33m\u001b[0m\u001b[1;33m\u001b[0m\u001b[0m\n\u001b[0m",
      "\u001b[1;31mTypeError\u001b[0m: 'int' object is not subscriptable"
     ]
    }
   ],
   "source": [
    "# excepciones en las listas, NO podemos indexar un número entero.\n",
    "n = 23\n",
    "n[0]"
   ]
  },
  {
   "cell_type": "code",
   "execution_count": 32,
   "id": "49e12557",
   "metadata": {},
   "outputs": [
    {
     "ename": "IndexError",
     "evalue": "list index out of range",
     "output_type": "error",
     "traceback": [
      "\u001b[1;31m---------------------------------------------------------------------------\u001b[0m",
      "\u001b[1;31mIndexError\u001b[0m                                Traceback (most recent call last)",
      "\u001b[1;32m<ipython-input-32-6c221b7d3b05>\u001b[0m in \u001b[0;36m<module>\u001b[1;34m\u001b[0m\n\u001b[0;32m      1\u001b[0m \u001b[1;31m# acceso a una posición que no existe\u001b[0m\u001b[1;33m\u001b[0m\u001b[1;33m\u001b[0m\u001b[1;33m\u001b[0m\u001b[0m\n\u001b[1;32m----> 2\u001b[1;33m \u001b[0mR\u001b[0m\u001b[1;33m[\u001b[0m\u001b[1;36m100\u001b[0m\u001b[1;33m]\u001b[0m\u001b[1;33m\u001b[0m\u001b[1;33m\u001b[0m\u001b[0m\n\u001b[0m",
      "\u001b[1;31mIndexError\u001b[0m: list index out of range"
     ]
    }
   ],
   "source": [
    "# acceso a una posición que no existe\n",
    "R[100]"
   ]
  },
  {
   "cell_type": "code",
   "execution_count": 33,
   "id": "7e402950",
   "metadata": {},
   "outputs": [
    {
     "ename": "TypeError",
     "evalue": "'int' object is not iterable",
     "output_type": "error",
     "traceback": [
      "\u001b[1;31m---------------------------------------------------------------------------\u001b[0m",
      "\u001b[1;31mTypeError\u001b[0m                                 Traceback (most recent call last)",
      "\u001b[1;32m<ipython-input-33-665a8c31cf25>\u001b[0m in \u001b[0;36m<module>\u001b[1;34m\u001b[0m\n\u001b[1;32m----> 1\u001b[1;33m \u001b[1;32mfor\u001b[0m \u001b[0mi\u001b[0m \u001b[1;32min\u001b[0m \u001b[1;36m10\u001b[0m\u001b[1;33m:\u001b[0m\u001b[1;33m\u001b[0m\u001b[1;33m\u001b[0m\u001b[0m\n\u001b[0m\u001b[0;32m      2\u001b[0m     \u001b[0mprint\u001b[0m\u001b[1;33m(\u001b[0m\u001b[0mi\u001b[0m\u001b[1;33m)\u001b[0m\u001b[1;33m\u001b[0m\u001b[1;33m\u001b[0m\u001b[0m\n",
      "\u001b[1;31mTypeError\u001b[0m: 'int' object is not iterable"
     ]
    }
   ],
   "source": [
    "for i in 10:\n",
    "    print(i)"
   ]
  },
  {
   "cell_type": "code",
   "execution_count": 35,
   "id": "4e3ea5bb",
   "metadata": {},
   "outputs": [
    {
     "name": "stdout",
     "output_type": "stream",
     "text": [
      "0\n",
      "1\n",
      "2\n",
      "3\n",
      "4\n",
      "5\n",
      "6\n",
      "7\n",
      "8\n",
      "9\n"
     ]
    }
   ],
   "source": [
    "for i in range(10):\n",
    "    print(i)"
   ]
  },
  {
   "cell_type": "code",
   "execution_count": 39,
   "id": "a3a9ddbc",
   "metadata": {},
   "outputs": [
    {
     "name": "stdout",
     "output_type": "stream",
     "text": [
      "range(0, 10)\n",
      "[0, 1, 2, 3, 4, 5, 6, 7, 8, 9]\n",
      "[1, 2, 3, 4, 5, 6, 7, 8, 9, 10]\n",
      "[0, 5, 10, 15, 20, 25, 30, 35, 40, 45, 50, 55, 60, 65, 70, 75, 80, 85, 90, 95, 100]\n",
      "[10, 9, 8, 7, 6, 5, 4, 3, 2, 1]\n"
     ]
    }
   ],
   "source": [
    "# range(ini, fin-1, salto=1)\n",
    "print(range(10))\n",
    "print(list(range(10)))\n",
    "print(list(range(1,11)))\n",
    "print(list(range(0,101,5)))\n",
    "print(list(range(10,0,-1)))"
   ]
  },
  {
   "cell_type": "code",
   "execution_count": 41,
   "id": "3c7582f2",
   "metadata": {},
   "outputs": [
    {
     "name": "stdout",
     "output_type": "stream",
     "text": [
      "L1 [1000, 2, 3, 4, 5, 6, 7] 2010599651200\n",
      "L2 [1000, 2, 3, 4, 5, 6, 7] 2010599651200\n"
     ]
    }
   ],
   "source": [
    "# copiar listas: OJO estamos creando una referencia.\n",
    "L1 = [1,2,3,4,5,6,7]\n",
    "L2 = L1\n",
    "L1[0] = 1000\n",
    "print('L1', L1, id(L1))\n",
    "print('L2', L2, id(L2))"
   ]
  },
  {
   "cell_type": "code",
   "execution_count": 42,
   "id": "84aaec38",
   "metadata": {},
   "outputs": [
    {
     "name": "stdout",
     "output_type": "stream",
     "text": [
      "L1 [1000, 2, 3, 4, 5, 6, 7] 2010600684992\n",
      "L2 [1, 2, 3, 4, 5, 6, 7] 2010600020416\n"
     ]
    }
   ],
   "source": [
    "# Copia de listas con objetos inmutables\n",
    "L1 = [1,2,3,4,5,6,7]\n",
    "L2 = L1.copy()\n",
    "L1[0] = 1000\n",
    "print('L1', L1, id(L1))\n",
    "print('L2', L2, id(L2))"
   ]
  },
  {
   "cell_type": "code",
   "execution_count": null,
   "id": "65b1a1b8",
   "metadata": {},
   "outputs": [],
   "source": []
  }
 ],
 "metadata": {
  "kernelspec": {
   "display_name": "Python 3 (ipykernel)",
   "language": "python",
   "name": "python3"
  },
  "language_info": {
   "codemirror_mode": {
    "name": "ipython",
    "version": 3
   },
   "file_extension": ".py",
   "mimetype": "text/x-python",
   "name": "python",
   "nbconvert_exporter": "python",
   "pygments_lexer": "ipython3",
   "version": "3.8.5"
  }
 },
 "nbformat": 4,
 "nbformat_minor": 5
}

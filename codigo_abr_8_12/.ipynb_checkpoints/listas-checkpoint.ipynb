{
 "cells": [
  {
   "cell_type": "markdown",
   "id": "ff2f4460",
   "metadata": {},
   "source": [
    "## Listas en Python"
   ]
  },
  {
   "cell_type": "markdown",
   "id": "9dfc4518",
   "metadata": {},
   "source": [
    "Operaciones con listas"
   ]
  },
  {
   "cell_type": "markdown",
   "id": "3ce03d8b",
   "metadata": {},
   "source": [
    "- Crear listas\n",
    "- funciones de uso general para colecciones.\n",
    "- acceso a los elementos\n",
    "- índices\n",
    "- recorridos\n",
    "- slicing\n",
    "- operadores\n",
    "- copiar listas\n"
   ]
  },
  {
   "cell_type": "code",
   "execution_count": 1,
   "id": "5e13eb6f",
   "metadata": {},
   "outputs": [],
   "source": [
    "L = [1,3,4,5,6,1,2,3,4]\n",
    "L"
   ]
  },
  {
   "cell_type": "code",
   "execution_count": 2,
   "id": "b2d330bf",
   "metadata": {},
   "outputs": [
    {
     "name": "stdout",
     "output_type": "stream",
     "text": [
      "recuento:  9\n",
      "suma:  29\n",
      "minimo:  1\n",
      "maximo:  6\n",
      "promedio:  3.22\n"
     ]
    }
   ],
   "source": [
    "print('recuento: ', len(L))\n",
    "print('suma: ', sum(L))\n",
    "print('minimo: ', min(L))\n",
    "print('maximo: ', max(L))\n",
    "print('promedio: ', round(sum(L)/len(L),2))"
   ]
  },
  {
   "cell_type": "code",
   "execution_count": 3,
   "id": "106f98ed",
   "metadata": {},
   "outputs": [],
   "source": [
    "L2 = [1,2,3]"
   ]
  },
  {
   "cell_type": "code",
   "execution_count": 4,
   "id": "c271f55e",
   "metadata": {},
   "outputs": [
    {
     "name": "stdout",
     "output_type": "stream",
     "text": [
      "1\n",
      "3\n",
      "4\n",
      "5\n",
      "6\n",
      "1\n",
      "2\n",
      "3\n",
      "4\n"
     ]
    }
   ],
   "source": [
    "for i in L:\n",
    "    print(i)"
   ]
  },
  {
   "cell_type": "code",
   "execution_count": 5,
   "id": "f5e26cbc",
   "metadata": {},
   "outputs": [
    {
     "name": "stdout",
     "output_type": "stream",
     "text": [
      "0 1\n",
      "1 3\n",
      "2 4\n",
      "3 5\n",
      "4 6\n",
      "5 1\n",
      "6 2\n",
      "7 3\n",
      "8 4\n"
     ]
    }
   ],
   "source": [
    "for pos, i in enumerate(L):\n",
    "    print(pos, i)"
   ]
  },
  {
   "cell_type": "code",
   "execution_count": 7,
   "id": "99a076dc",
   "metadata": {},
   "outputs": [
    {
     "name": "stdout",
     "output_type": "stream",
     "text": [
      "el primero: 1 1\n",
      "el último: 6 6\n"
     ]
    }
   ],
   "source": [
    "L = [1,2,3,4,5,6]\n",
    "print('el primero:', L[0], L[-6])\n",
    "print('el último:', L[5], L[-1])"
   ]
  },
  {
   "cell_type": "code",
   "execution_count": 8,
   "id": "0bbfa949",
   "metadata": {},
   "outputs": [
    {
     "data": {
      "text/plain": [
       "['C:', 'mis documentos', 'libros', 'libro1.xlsx']"
      ]
     },
     "execution_count": 8,
     "metadata": {},
     "output_type": "execute_result"
    }
   ],
   "source": [
    "path = \"C:/mis documentos/libros/libro1.xlsx\"\n",
    "R = path.split('/')\n",
    "R"
   ]
  },
  {
   "cell_type": "code",
   "execution_count": 9,
   "id": "42ff9a8b",
   "metadata": {},
   "outputs": [
    {
     "data": {
      "text/plain": [
       "'libro1.xlsx'"
      ]
     },
     "execution_count": 9,
     "metadata": {},
     "output_type": "execute_result"
    }
   ],
   "source": [
    "fichero = R[-1]\n",
    "fichero"
   ]
  },
  {
   "cell_type": "markdown",
   "id": "0dcbb8a4",
   "metadata": {},
   "source": [
    "slicing: parámetros   L[inicio:fin-1:salto=1]"
   ]
  },
  {
   "cell_type": "code",
   "execution_count": 10,
   "id": "c3b88cea",
   "metadata": {},
   "outputs": [
    {
     "data": {
      "text/plain": [
       "[1, 2, 3, 4, 5, 6]"
      ]
     },
     "execution_count": 10,
     "metadata": {},
     "output_type": "execute_result"
    }
   ],
   "source": [
    "L"
   ]
  },
  {
   "cell_type": "code",
   "execution_count": 16,
   "id": "56529b5d",
   "metadata": {},
   "outputs": [
    {
     "name": "stdout",
     "output_type": "stream",
     "text": [
      "los 3 primeros:  [1, 2, 3]\n",
      "los 3 primeros:  [1, 2, 3]\n",
      "los 3 últimos: [4, 5, 6]\n",
      "todos de dos en dos:  [1, 3, 5]\n",
      "invertir:  [6, 5, 4, 3, 2, 1]\n",
      "Quitar el primero y el último:  [2, 3, 4, 5]\n"
     ]
    }
   ],
   "source": [
    "print('los 3 primeros: ', L[0:3])\n",
    "print('los 3 primeros: ', L[:3])\n",
    "print('los 3 últimos:', L[-3:])\n",
    "print('todos de dos en dos: ', L[::2])\n",
    "print('invertir: ', L[::-1])\n",
    "print('Quitar el primero y el último: ', L[1:-1])"
   ]
  },
  {
   "cell_type": "code",
   "execution_count": 19,
   "id": "a580274d",
   "metadata": {},
   "outputs": [
    {
     "data": {
      "text/plain": [
       "True"
      ]
     },
     "execution_count": 19,
     "metadata": {},
     "output_type": "execute_result"
    }
   ],
   "source": [
    "# Calcular si un número es capicua:\n",
    "n = 1234321\n",
    "s = str(n)\n",
    "s == s[::-1]"
   ]
  },
  {
   "cell_type": "markdown",
   "id": "e9f2727e",
   "metadata": {},
   "source": [
    "Crear listas con la función list"
   ]
  },
  {
   "cell_type": "code",
   "execution_count": 23,
   "id": "857ea110",
   "metadata": {},
   "outputs": [
    {
     "data": {
      "text/plain": [
       "(['h', 'o', 'l', 'a', ' ', 'q', 'u', 'e', ' ', 't', 'a', 'l'], list)"
      ]
     },
     "execution_count": 23,
     "metadata": {},
     "output_type": "execute_result"
    }
   ],
   "source": [
    "s = \"hola que tal\"\n",
    "L2 = list(s)\n",
    "L2, type(L2)"
   ]
  },
  {
   "cell_type": "code",
   "execution_count": 26,
   "id": "1a8fd644",
   "metadata": {},
   "outputs": [
    {
     "name": "stdout",
     "output_type": "stream",
     "text": [
      "[1, 2, 3, 4, 5, 6]\n",
      "[1, 2, 3, 1, 2, 3, 1, 2, 3, 1, 2, 3, 1, 2, 3]\n",
      "1 in L1:  True\n",
      "10 in L1:  False\n"
     ]
    }
   ],
   "source": [
    "# Operadores de las listas: + * in\n",
    "L1 = [1,2,3]\n",
    "L2 = [4,5,6]\n",
    "print(L1 + L2)\n",
    "print(L1 * 5)\n",
    "print('1 in L1: ', 1 in L1)\n",
    "print('10 in L1: ', 10 in L1)\n"
   ]
  },
  {
   "cell_type": "code",
   "execution_count": 27,
   "id": "d4e2ff40",
   "metadata": {},
   "outputs": [
    {
     "data": {
      "text/plain": [
       "[10, 2, 3, 4, 5, 6]"
      ]
     },
     "execution_count": 27,
     "metadata": {},
     "output_type": "execute_result"
    }
   ],
   "source": [
    "# Modificar elementos:\n",
    "L[0] = 10\n",
    "L"
   ]
  },
  {
   "cell_type": "code",
   "execution_count": 28,
   "id": "92743bb2",
   "metadata": {},
   "outputs": [
    {
     "data": {
      "text/plain": [
       "[10, 2, 3, 4, 5, 6, 100]"
      ]
     },
     "execution_count": 28,
     "metadata": {},
     "output_type": "execute_result"
    }
   ],
   "source": [
    "# Añadir elementos\n",
    "L += [100]\n",
    "L"
   ]
  },
  {
   "cell_type": "markdown",
   "id": "4dd45081",
   "metadata": {},
   "source": [
    "Dadas dos listas, calcular la intersección (elementos comunes sin repetir) en una nueva lista (sin utilizar conjuntos)."
   ]
  },
  {
   "cell_type": "code",
   "execution_count": null,
   "id": "9666301f",
   "metadata": {},
   "outputs": [],
   "source": [
    "L1 = [1,2,3,4,5,1,2]\n",
    "L2 = [4,5,6,7,1,2,3]\n",
    "\n"
   ]
  },
  {
   "cell_type": "code",
   "execution_count": null,
   "id": "68ef420d",
   "metadata": {},
   "outputs": [],
   "source": [
    "# excepciones en las listas"
   ]
  },
  {
   "cell_type": "code",
   "execution_count": null,
   "id": "22cec5f7",
   "metadata": {},
   "outputs": [],
   "source": [
    "# range"
   ]
  },
  {
   "cell_type": "code",
   "execution_count": null,
   "id": "81b41839",
   "metadata": {},
   "outputs": [],
   "source": [
    "# copiar listas"
   ]
  }
 ],
 "metadata": {
  "kernelspec": {
   "display_name": "Python 3 (ipykernel)",
   "language": "python",
   "name": "python3"
  },
  "language_info": {
   "codemirror_mode": {
    "name": "ipython",
    "version": 3
   },
   "file_extension": ".py",
   "mimetype": "text/x-python",
   "name": "python",
   "nbconvert_exporter": "python",
   "pygments_lexer": "ipython3",
   "version": "3.8.5"
  }
 },
 "nbformat": 4,
 "nbformat_minor": 5
}

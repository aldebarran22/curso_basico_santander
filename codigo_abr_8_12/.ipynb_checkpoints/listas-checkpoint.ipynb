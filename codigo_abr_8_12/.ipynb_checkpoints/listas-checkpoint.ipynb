{
 "cells": [
  {
   "cell_type": "markdown",
   "id": "61424f19",
   "metadata": {},
   "source": [
    "## Listas en Python"
   ]
  },
  {
   "cell_type": "markdown",
   "id": "228c8426",
   "metadata": {},
   "source": [
    "Operaciones con listas"
   ]
  },
  {
   "cell_type": "markdown",
   "id": "8911b2e4",
   "metadata": {},
   "source": [
    "- Crear listas\n",
    "- funciones de uso general para colecciones.\n",
    "- acceso a los elementos\n",
    "- índices\n",
    "- recorridos\n",
    "- slicing\n",
    "- copiar listas\n"
   ]
  },
  {
   "cell_type": "code",
   "execution_count": 2,
   "id": "3afa53d1",
   "metadata": {},
   "outputs": [
    {
     "data": {
      "text/plain": [
       "[1, 3, 4, 5, 6, 1, 2, 3, 4]"
      ]
     },
     "execution_count": 2,
     "metadata": {},
     "output_type": "execute_result"
    }
   ],
   "source": [
    "L = [1,3,4,5,6,1,2,3,4]\n",
    "L"
   ]
  },
  {
   "cell_type": "code",
   "execution_count": 4,
   "id": "2917a76b",
   "metadata": {},
   "outputs": [
    {
     "name": "stdout",
     "output_type": "stream",
     "text": [
      "recuento:  9\n",
      "suma:  29\n",
      "minimo:  1\n",
      "maximo:  6\n",
      "promedio:  3.22\n"
     ]
    }
   ],
   "source": [
    "print('recuento: ', len(L))\n",
    "print('suma: ', sum(L))\n",
    "print('minimo: ', min(L))\n",
    "print('maximo: ', max(L))\n",
    "print('promedio: ', round(sum(L)/len(L),2))"
   ]
  },
  {
   "cell_type": "code",
   "execution_count": null,
   "id": "e6ce8e1b",
   "metadata": {},
   "outputs": [],
   "source": []
  }
 ],
 "metadata": {
  "kernelspec": {
   "display_name": "Python 3 (ipykernel)",
   "language": "python",
   "name": "python3"
  },
  "language_info": {
   "codemirror_mode": {
    "name": "ipython",
    "version": 3
   },
   "file_extension": ".py",
   "mimetype": "text/x-python",
   "name": "python",
   "nbconvert_exporter": "python",
   "pygments_lexer": "ipython3",
   "version": "3.8.5"
  }
 },
 "nbformat": 4,
 "nbformat_minor": 5
}

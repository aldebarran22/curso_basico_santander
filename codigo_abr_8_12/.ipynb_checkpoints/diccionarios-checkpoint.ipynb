{
 "cells": [
  {
   "cell_type": "markdown",
   "id": "baeb62cf",
   "metadata": {},
   "source": [
    "## Diccionarios en Python"
   ]
  },
  {
   "cell_type": "markdown",
   "id": "1615b85e",
   "metadata": {},
   "source": [
    "- Crear diccionarios, funciones\n",
    "- Acceso a los elementos\n",
    "- Recorridos\n",
    "- in"
   ]
  },
  {
   "cell_type": "code",
   "execution_count": 1,
   "id": "1d68455e",
   "metadata": {},
   "outputs": [
    {
     "data": {
      "text/plain": [
       "({'a': 10, 'b': 20, 'c': 30}, dict)"
      ]
     },
     "execution_count": 1,
     "metadata": {},
     "output_type": "execute_result"
    }
   ],
   "source": [
    "d = {\"a\": 10, \"b\": 20, \"c\":30}\n",
    "d, type(d)"
   ]
  },
  {
   "cell_type": "code",
   "execution_count": 2,
   "id": "3e24c7ae",
   "metadata": {},
   "outputs": [
    {
     "data": {
      "text/plain": [
       "{'a': 1000, 'b': 20, 'c': 30, 'd': 40}"
      ]
     },
     "execution_count": 2,
     "metadata": {},
     "output_type": "execute_result"
    }
   ],
   "source": [
    "d[\"d\"] = 40\n",
    "d[\"a\"] = 1000\n",
    "d"
   ]
  },
  {
   "cell_type": "code",
   "execution_count": 3,
   "id": "3b6b4615",
   "metadata": {},
   "outputs": [
    {
     "data": {
      "text/plain": [
       "1000"
      ]
     },
     "execution_count": 3,
     "metadata": {},
     "output_type": "execute_result"
    }
   ],
   "source": [
    "d[\"a\"]"
   ]
  },
  {
   "cell_type": "code",
   "execution_count": 4,
   "id": "d987a764",
   "metadata": {},
   "outputs": [
    {
     "ename": "KeyError",
     "evalue": "'e'",
     "output_type": "error",
     "traceback": [
      "\u001b[1;31m---------------------------------------------------------------------------\u001b[0m",
      "\u001b[1;31mKeyError\u001b[0m                                  Traceback (most recent call last)",
      "\u001b[1;32m<ipython-input-4-b39bc183dd68>\u001b[0m in \u001b[0;36m<module>\u001b[1;34m\u001b[0m\n\u001b[1;32m----> 1\u001b[1;33m \u001b[0md\u001b[0m\u001b[1;33m[\u001b[0m\u001b[1;34m\"e\"\u001b[0m\u001b[1;33m]\u001b[0m\u001b[1;33m\u001b[0m\u001b[1;33m\u001b[0m\u001b[0m\n\u001b[0m",
      "\u001b[1;31mKeyError\u001b[0m: 'e'"
     ]
    }
   ],
   "source": [
    "d[\"e\"]"
   ]
  },
  {
   "cell_type": "code",
   "execution_count": null,
   "id": "af15978e",
   "metadata": {},
   "outputs": [],
   "source": []
  }
 ],
 "metadata": {
  "kernelspec": {
   "display_name": "Python 3 (ipykernel)",
   "language": "python",
   "name": "python3"
  },
  "language_info": {
   "codemirror_mode": {
    "name": "ipython",
    "version": 3
   },
   "file_extension": ".py",
   "mimetype": "text/x-python",
   "name": "python",
   "nbconvert_exporter": "python",
   "pygments_lexer": "ipython3",
   "version": "3.8.5"
  }
 },
 "nbformat": 4,
 "nbformat_minor": 5
}

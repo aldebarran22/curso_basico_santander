{
 "cells": [
  {
   "cell_type": "markdown",
   "id": "342d6e91",
   "metadata": {},
   "source": [
    "## Programación funcional en Python"
   ]
  },
  {
   "cell_type": "markdown",
   "id": "91d5bcc8",
   "metadata": {},
   "source": [
    "- list comprehension\n",
    "- iteradores: map, filter, reduce\n",
    "- generadores\n",
    "- decoradores"
   ]
  },
  {
   "cell_type": "code",
   "execution_count": 9,
   "id": "6c887296",
   "metadata": {},
   "outputs": [],
   "source": [
    "from random import randint"
   ]
  },
  {
   "cell_type": "code",
   "execution_count": 1,
   "id": "ed5a1f23",
   "metadata": {},
   "outputs": [],
   "source": [
    "def calcularIva(precio):\n",
    "    return round(precio * 0.21, 2)"
   ]
  },
  {
   "cell_type": "code",
   "execution_count": 2,
   "id": "4ee7ad64",
   "metadata": {},
   "outputs": [
    {
     "data": {
      "text/plain": [
       "21.0"
      ]
     },
     "execution_count": 2,
     "metadata": {},
     "output_type": "execute_result"
    }
   ],
   "source": [
    "calcularIva(100)"
   ]
  },
  {
   "cell_type": "code",
   "execution_count": 3,
   "id": "36cbfee0",
   "metadata": {},
   "outputs": [
    {
     "data": {
      "text/plain": [
       "[117.6, 1050.0, 252.0, 515.76, 71.4]"
      ]
     },
     "execution_count": 3,
     "metadata": {},
     "output_type": "execute_result"
    }
   ],
   "source": [
    "precios = [560, 5000, 1200, 2456, 340]\n",
    "iva = []\n",
    "for p in precios:\n",
    "    iva.append(calcularIva(p))\n",
    "iva"
   ]
  },
  {
   "cell_type": "markdown",
   "id": "5e4d5a64",
   "metadata": {},
   "source": [
    "### map"
   ]
  },
  {
   "cell_type": "code",
   "execution_count": 6,
   "id": "91d29026",
   "metadata": {},
   "outputs": [
    {
     "data": {
      "text/plain": [
       "[117.6, 1050.0, 252.0, 515.76, 71.4]"
      ]
     },
     "execution_count": 6,
     "metadata": {},
     "output_type": "execute_result"
    }
   ],
   "source": [
    "obj = list(map(calcularIva, precios))\n",
    "obj"
   ]
  },
  {
   "cell_type": "markdown",
   "id": "7611c9ce",
   "metadata": {},
   "source": [
    "### list comprehension"
   ]
  },
  {
   "cell_type": "code",
   "execution_count": 7,
   "id": "59d380d6",
   "metadata": {},
   "outputs": [
    {
     "data": {
      "text/plain": [
       "[117.6, 1050.0, 252.0, 515.76, 71.4]"
      ]
     },
     "execution_count": 7,
     "metadata": {},
     "output_type": "execute_result"
    }
   ],
   "source": [
    "L = [calcularIva(i) for i in precios]\n",
    "L"
   ]
  },
  {
   "cell_type": "code",
   "execution_count": 8,
   "id": "227ac7e1",
   "metadata": {},
   "outputs": [
    {
     "data": {
      "text/plain": [
       "[117.6, 1050.0, 252.0, 515.76, 71.4]"
      ]
     },
     "execution_count": 8,
     "metadata": {},
     "output_type": "execute_result"
    }
   ],
   "source": [
    "L2 = [round(precio * 0.21, 2) for precio in precios]\n",
    "L2"
   ]
  },
  {
   "cell_type": "code",
   "execution_count": 10,
   "id": "6198ff8f",
   "metadata": {},
   "outputs": [
    {
     "data": {
      "text/plain": [
       "8"
      ]
     },
     "execution_count": 10,
     "metadata": {},
     "output_type": "execute_result"
    }
   ],
   "source": [
    "randint(1,40)"
   ]
  },
  {
   "cell_type": "markdown",
   "id": "b97bb0b6",
   "metadata": {},
   "source": [
    "Generar una lista de 30 números aleatorios entre 1 y 50"
   ]
  },
  {
   "cell_type": "code",
   "execution_count": 16,
   "id": "c5d05be0",
   "metadata": {},
   "outputs": [
    {
     "data": {
      "text/plain": [
       "[35, 30, 27, 44, 43, 12, 14, 25, 41, 29]"
      ]
     },
     "execution_count": 16,
     "metadata": {},
     "output_type": "execute_result"
    }
   ],
   "source": [
    "L3 = [randint(1,50) for _ in range(30)]\n",
    "L3[:10]"
   ]
  },
  {
   "cell_type": "code",
   "execution_count": 12,
   "id": "b582a2ed",
   "metadata": {},
   "outputs": [],
   "source": [
    "def multiplo3(n):\n",
    "    return True if n%3==0 else False"
   ]
  },
  {
   "cell_type": "markdown",
   "id": "0bbbfa8d",
   "metadata": {},
   "source": [
    "### Filter"
   ]
  },
  {
   "cell_type": "code",
   "execution_count": 18,
   "id": "fc177b2d",
   "metadata": {},
   "outputs": [
    {
     "data": {
      "text/plain": [
       "[30, 27, 12, 45, 6, 21, 12, 33, 30, 21, 42, 21]"
      ]
     },
     "execution_count": 18,
     "metadata": {},
     "output_type": "execute_result"
    }
   ],
   "source": [
    "obj2 = list(filter(multiplo3, L3))\n",
    "obj2"
   ]
  },
  {
   "cell_type": "markdown",
   "id": "e05c02f1",
   "metadata": {},
   "source": [
    "### list comprehension"
   ]
  },
  {
   "cell_type": "code",
   "execution_count": 17,
   "id": "4c73901e",
   "metadata": {},
   "outputs": [
    {
     "data": {
      "text/plain": [
       "[30, 27, 12, 45, 6, 21, 12, 33, 30, 21, 42, 21]"
      ]
     },
     "execution_count": 17,
     "metadata": {},
     "output_type": "execute_result"
    }
   ],
   "source": [
    "L4 = [i for i in L3 if multiplo3(i)]\n",
    "L4"
   ]
  },
  {
   "cell_type": "code",
   "execution_count": 19,
   "id": "68dea684",
   "metadata": {},
   "outputs": [
    {
     "data": {
      "text/plain": [
       "[30, 27, 12, 45, 6, 21, 12, 33, 30, 21, 42, 21]"
      ]
     },
     "execution_count": 19,
     "metadata": {},
     "output_type": "execute_result"
    }
   ],
   "source": [
    "L5 = [i for i in L3 if i%3==0]\n",
    "L5"
   ]
  },
  {
   "cell_type": "markdown",
   "id": "0bc89b4b",
   "metadata": {},
   "source": [
    "Calcular el iva de los multiplos de 3"
   ]
  },
  {
   "cell_type": "code",
   "execution_count": 20,
   "id": "1599585a",
   "metadata": {},
   "outputs": [
    {
     "data": {
      "text/plain": [
       "[6.3, 5.67, 2.52, 9.45, 1.26, 4.41, 2.52, 6.93, 6.3, 4.41, 8.82, 4.41]"
      ]
     },
     "execution_count": 20,
     "metadata": {},
     "output_type": "execute_result"
    }
   ],
   "source": [
    "L6 = [calcularIva(i) for i in L3 if multiplo3(i)]\n",
    "L6"
   ]
  },
  {
   "cell_type": "code",
   "execution_count": 21,
   "id": "768435b5",
   "metadata": {},
   "outputs": [
    {
     "data": {
      "text/plain": [
       "[6.3, 5.67, 2.52, 9.45, 1.26, 4.41, 2.52, 6.93, 6.3, 4.41, 8.82, 4.41]"
      ]
     },
     "execution_count": 21,
     "metadata": {},
     "output_type": "execute_result"
    }
   ],
   "source": [
    "obj3 = list(map(calcularIva, filter(multiplo3, L3)))\n",
    "obj3"
   ]
  },
  {
   "cell_type": "code",
   "execution_count": 22,
   "id": "1612f853",
   "metadata": {},
   "outputs": [
    {
     "data": {
      "text/plain": [
       "[(30, 6.3),\n",
       " (27, 5.67),\n",
       " (12, 2.52),\n",
       " (45, 9.45),\n",
       " (6, 1.26),\n",
       " (21, 4.41),\n",
       " (12, 2.52),\n",
       " (33, 6.93),\n",
       " (30, 6.3),\n",
       " (21, 4.41),\n",
       " (42, 8.82),\n",
       " (21, 4.41)]"
      ]
     },
     "execution_count": 22,
     "metadata": {},
     "output_type": "execute_result"
    }
   ],
   "source": [
    "L7 = [(i, calcularIva(i)) for i in L3 if multiplo3(i)]\n",
    "L7"
   ]
  },
  {
   "cell_type": "code",
   "execution_count": 23,
   "id": "a5ad74f7",
   "metadata": {},
   "outputs": [
    {
     "data": {
      "text/plain": [
       "{30: 6.3, 27: 5.67, 12: 2.52, 45: 9.45, 6: 1.26, 21: 4.41, 33: 6.93, 42: 8.82}"
      ]
     },
     "execution_count": 23,
     "metadata": {},
     "output_type": "execute_result"
    }
   ],
   "source": [
    "d = {i:calcularIva(i) for i in L3 if multiplo3(i)}\n",
    "d"
   ]
  },
  {
   "cell_type": "code",
   "execution_count": 24,
   "id": "c775c205",
   "metadata": {},
   "outputs": [
    {
     "data": {
      "text/plain": [
       "{1.26, 2.52, 4.41, 5.67, 6.3, 6.93, 8.82, 9.45}"
      ]
     },
     "execution_count": 24,
     "metadata": {},
     "output_type": "execute_result"
    }
   ],
   "source": [
    "c = {calcularIva(i) for i in L3 if multiplo3(i)}\n",
    "c"
   ]
  },
  {
   "cell_type": "code",
   "execution_count": 26,
   "id": "fa187ec3",
   "metadata": {},
   "outputs": [
    {
     "data": {
      "text/plain": [
       "(6.3, 5.67, 2.52, 9.45, 1.26, 4.41, 2.52, 6.93, 6.3, 4.41, 8.82, 4.41)"
      ]
     },
     "execution_count": 26,
     "metadata": {},
     "output_type": "execute_result"
    }
   ],
   "source": [
    "t = tuple((calcularIva(i) for i in L3 if multiplo3(i)))\n",
    "t"
   ]
  },
  {
   "cell_type": "code",
   "execution_count": null,
   "id": "88cf965e",
   "metadata": {},
   "outputs": [],
   "source": []
  }
 ],
 "metadata": {
  "kernelspec": {
   "display_name": "Python 3 (ipykernel)",
   "language": "python",
   "name": "python3"
  },
  "language_info": {
   "codemirror_mode": {
    "name": "ipython",
    "version": 3
   },
   "file_extension": ".py",
   "mimetype": "text/x-python",
   "name": "python",
   "nbconvert_exporter": "python",
   "pygments_lexer": "ipython3",
   "version": "3.8.5"
  }
 },
 "nbformat": 4,
 "nbformat_minor": 5
}

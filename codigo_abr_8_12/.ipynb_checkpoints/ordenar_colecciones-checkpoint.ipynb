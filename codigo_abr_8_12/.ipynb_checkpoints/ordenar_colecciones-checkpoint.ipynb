{
 "cells": [
  {
   "cell_type": "markdown",
   "id": "c35817f6",
   "metadata": {},
   "source": [
    "### Ordenar colecciones"
   ]
  },
  {
   "cell_type": "code",
   "execution_count": 8,
   "id": "a7ad0a56",
   "metadata": {},
   "outputs": [],
   "source": [
    "from random import randint"
   ]
  },
  {
   "cell_type": "code",
   "execution_count": 1,
   "id": "67edb749",
   "metadata": {},
   "outputs": [],
   "source": [
    "L = [5,7,8,1,2,3,4,9,8]\n",
    "nombres = ['Jorge', 'Ana','Jose Antonio','miguel','Raúl']"
   ]
  },
  {
   "cell_type": "code",
   "execution_count": 2,
   "id": "30041979",
   "metadata": {},
   "outputs": [
    {
     "data": {
      "text/plain": [
       "['Ana', 'Jorge', 'Jose Antonio', 'Raúl', 'miguel']"
      ]
     },
     "execution_count": 2,
     "metadata": {},
     "output_type": "execute_result"
    }
   ],
   "source": [
    "nombres.sort()\n",
    "nombres"
   ]
  },
  {
   "cell_type": "code",
   "execution_count": 3,
   "id": "308594d8",
   "metadata": {},
   "outputs": [
    {
     "data": {
      "text/plain": [
       "[9, 8, 8, 7, 5, 4, 3, 2, 1]"
      ]
     },
     "execution_count": 3,
     "metadata": {},
     "output_type": "execute_result"
    }
   ],
   "source": [
    "L.sort(reverse=True)\n",
    "L"
   ]
  },
  {
   "cell_type": "code",
   "execution_count": 4,
   "id": "ab15e73e",
   "metadata": {},
   "outputs": [
    {
     "data": {
      "text/plain": [
       "[3, 5, 12, 4, 6]"
      ]
     },
     "execution_count": 4,
     "metadata": {},
     "output_type": "execute_result"
    }
   ],
   "source": [
    "lon = [len(i) for i in nombres]\n",
    "lon"
   ]
  },
  {
   "cell_type": "code",
   "execution_count": 5,
   "id": "e9851c30",
   "metadata": {},
   "outputs": [
    {
     "data": {
      "text/plain": [
       "['Jose Antonio', 'miguel', 'Jorge', 'Raúl', 'Ana']"
      ]
     },
     "execution_count": 5,
     "metadata": {},
     "output_type": "execute_result"
    }
   ],
   "source": [
    "nombres.sort(key=len, reverse=True)\n",
    "nombres"
   ]
  },
  {
   "cell_type": "code",
   "execution_count": 14,
   "id": "cefdfd84",
   "metadata": {},
   "outputs": [
    {
     "data": {
      "text/plain": [
       "[(120, 34, 1), (23, 5), (8, 9, 1, 2, 3, 4)]"
      ]
     },
     "execution_count": 14,
     "metadata": {},
     "output_type": "execute_result"
    }
   ],
   "source": [
    "t = ((23,5),(120, 34, 1),(8,9,1,2,3,4))\n",
    "L = sorted(t, key=sum, reverse=True)\n",
    "L"
   ]
  },
  {
   "cell_type": "code",
   "execution_count": 9,
   "id": "fd2229cf",
   "metadata": {},
   "outputs": [
    {
     "data": {
      "text/plain": [
       "[(9, 11, 37), (17, 22, 54), (20, 32, 21), (14, 50, 29), (23, 31, 11)]"
      ]
     },
     "execution_count": 9,
     "metadata": {},
     "output_type": "execute_result"
    }
   ],
   "source": [
    "horas = [(randint(0,23), randint(0,59), randint(0,59)) for _ in range(30)]\n",
    "horas[:5]"
   ]
  },
  {
   "cell_type": "code",
   "execution_count": 10,
   "id": "21447965",
   "metadata": {},
   "outputs": [],
   "source": [
    "def segundos(h=0, m=0, s=0):\n",
    "    return h * 3600 + m * 60 + s"
   ]
  },
  {
   "cell_type": "code",
   "execution_count": 15,
   "id": "dcee63c9",
   "metadata": {},
   "outputs": [
    {
     "data": {
      "text/plain": [
       "[(1, 44, 14),\n",
       " (6, 3, 22),\n",
       " (6, 15, 24),\n",
       " (7, 6, 2),\n",
       " (7, 32, 29),\n",
       " (8, 17, 21),\n",
       " (9, 11, 37),\n",
       " (9, 14, 9),\n",
       " (9, 41, 2),\n",
       " (11, 19, 52)]"
      ]
     },
     "execution_count": 15,
     "metadata": {},
     "output_type": "execute_result"
    }
   ],
   "source": [
    "horas.sort(key=lambda t: segundos(*t))\n",
    "horas[:10]"
   ]
  },
  {
   "cell_type": "code",
   "execution_count": 11,
   "id": "c88e3bf0",
   "metadata": {},
   "outputs": [],
   "source": [
    "def segundos2(t):\n",
    "    h,m,s = t\n",
    "    return h * 3600 + m * 60 + s"
   ]
  },
  {
   "cell_type": "code",
   "execution_count": 12,
   "id": "a214cae7",
   "metadata": {},
   "outputs": [
    {
     "data": {
      "text/plain": [
       "[(23, 48, 23),\n",
       " (23, 31, 11),\n",
       " (23, 19, 58),\n",
       " (21, 52, 46),\n",
       " (21, 11, 10),\n",
       " (20, 32, 21),\n",
       " (20, 23, 58),\n",
       " (20, 6, 53),\n",
       " (18, 23, 32),\n",
       " (18, 22, 27)]"
      ]
     },
     "execution_count": 12,
     "metadata": {},
     "output_type": "execute_result"
    }
   ],
   "source": [
    "horas.sort(key=segundos2, reverse=True)\n",
    "horas[:10]"
   ]
  },
  {
   "cell_type": "code",
   "execution_count": null,
   "id": "32d01c31",
   "metadata": {},
   "outputs": [],
   "source": []
  }
 ],
 "metadata": {
  "kernelspec": {
   "display_name": "Python 3 (ipykernel)",
   "language": "python",
   "name": "python3"
  },
  "language_info": {
   "codemirror_mode": {
    "name": "ipython",
    "version": 3
   },
   "file_extension": ".py",
   "mimetype": "text/x-python",
   "name": "python",
   "nbconvert_exporter": "python",
   "pygments_lexer": "ipython3",
   "version": "3.8.5"
  }
 },
 "nbformat": 4,
 "nbformat_minor": 5
}

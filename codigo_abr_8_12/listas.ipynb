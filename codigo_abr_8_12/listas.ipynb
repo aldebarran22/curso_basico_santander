{
 "cells": [
  {
   "cell_type": "markdown",
   "id": "c4911beb",
   "metadata": {},
   "source": [
    "## Listas en Python"
   ]
  },
  {
   "cell_type": "markdown",
   "id": "e1869a12",
   "metadata": {},
   "source": [
    "Operaciones con listas"
   ]
  },
  {
   "cell_type": "markdown",
   "id": "fc14e790",
   "metadata": {},
   "source": [
    "- Crear listas\n",
    "- funciones de uso general para colecciones.\n",
    "- acceso a los elementos\n",
    "- índices\n",
    "- recorridos\n",
    "- slicing\n",
    "- operadores\n",
    "- copiar listas\n"
   ]
  },
  {
   "cell_type": "code",
   "execution_count": 1,
   "id": "db4e667d",
   "metadata": {},
   "outputs": [],
   "source": [
    "L = [1,3,4,5,6,1,2,3,4]\n",
    "L"
   ]
  },
  {
   "cell_type": "code",
   "execution_count": 2,
   "id": "aef323df",
   "metadata": {},
   "outputs": [
    {
     "name": "stdout",
     "output_type": "stream",
     "text": [
      "recuento:  9\n",
      "suma:  29\n",
      "minimo:  1\n",
      "maximo:  6\n",
      "promedio:  3.22\n"
     ]
    }
   ],
   "source": [
    "print('recuento: ', len(L))\n",
    "print('suma: ', sum(L))\n",
    "print('minimo: ', min(L))\n",
    "print('maximo: ', max(L))\n",
    "print('promedio: ', round(sum(L)/len(L),2))"
   ]
  },
  {
   "cell_type": "code",
   "execution_count": 3,
   "id": "2f1e1383",
   "metadata": {},
   "outputs": [],
   "source": [
    "L2 = [1,2,3]"
   ]
  },
  {
   "cell_type": "code",
   "execution_count": 4,
   "id": "84f7e4b3",
   "metadata": {},
   "outputs": [
    {
     "name": "stdout",
     "output_type": "stream",
     "text": [
      "1\n",
      "3\n",
      "4\n",
      "5\n",
      "6\n",
      "1\n",
      "2\n",
      "3\n",
      "4\n"
     ]
    }
   ],
   "source": [
    "for i in L:\n",
    "    print(i)"
   ]
  },
  {
   "cell_type": "code",
   "execution_count": 5,
   "id": "5bed75c0",
   "metadata": {},
   "outputs": [
    {
     "name": "stdout",
     "output_type": "stream",
     "text": [
      "0 1\n",
      "1 3\n",
      "2 4\n",
      "3 5\n",
      "4 6\n",
      "5 1\n",
      "6 2\n",
      "7 3\n",
      "8 4\n"
     ]
    }
   ],
   "source": [
    "for pos, i in enumerate(L):\n",
    "    print(pos, i)"
   ]
  },
  {
   "cell_type": "code",
   "execution_count": 7,
   "id": "b863654c",
   "metadata": {},
   "outputs": [
    {
     "name": "stdout",
     "output_type": "stream",
     "text": [
      "el primero: 1 1\n",
      "el último: 6 6\n"
     ]
    }
   ],
   "source": [
    "L = [1,2,3,4,5,6]\n",
    "print('el primero:', L[0], L[-6])\n",
    "print('el último:', L[5], L[-1])"
   ]
  },
  {
   "cell_type": "code",
   "execution_count": 8,
   "id": "94488d60",
   "metadata": {},
   "outputs": [
    {
     "data": {
      "text/plain": [
       "['C:', 'mis documentos', 'libros', 'libro1.xlsx']"
      ]
     },
     "execution_count": 8,
     "metadata": {},
     "output_type": "execute_result"
    }
   ],
   "source": [
    "path = \"C:/mis documentos/libros/libro1.xlsx\"\n",
    "R = path.split('/')\n",
    "R"
   ]
  },
  {
   "cell_type": "code",
   "execution_count": 9,
   "id": "391b025c",
   "metadata": {},
   "outputs": [
    {
     "data": {
      "text/plain": [
       "'libro1.xlsx'"
      ]
     },
     "execution_count": 9,
     "metadata": {},
     "output_type": "execute_result"
    }
   ],
   "source": [
    "fichero = R[-1]\n",
    "fichero"
   ]
  },
  {
   "cell_type": "markdown",
   "id": "ed4d33cc",
   "metadata": {},
   "source": [
    "slicing: parámetros   L[inicio:fin-1:salto=1]"
   ]
  },
  {
   "cell_type": "code",
   "execution_count": 10,
   "id": "a4dbb817",
   "metadata": {},
   "outputs": [
    {
     "data": {
      "text/plain": [
       "[1, 2, 3, 4, 5, 6]"
      ]
     },
     "execution_count": 10,
     "metadata": {},
     "output_type": "execute_result"
    }
   ],
   "source": [
    "L"
   ]
  },
  {
   "cell_type": "code",
   "execution_count": 16,
   "id": "1ed92f12",
   "metadata": {},
   "outputs": [
    {
     "name": "stdout",
     "output_type": "stream",
     "text": [
      "los 3 primeros:  [1, 2, 3]\n",
      "los 3 primeros:  [1, 2, 3]\n",
      "los 3 últimos: [4, 5, 6]\n",
      "todos de dos en dos:  [1, 3, 5]\n",
      "invertir:  [6, 5, 4, 3, 2, 1]\n",
      "Quitar el primero y el último:  [2, 3, 4, 5]\n"
     ]
    }
   ],
   "source": [
    "print('los 3 primeros: ', L[0:3])\n",
    "print('los 3 primeros: ', L[:3])\n",
    "print('los 3 últimos:', L[-3:])\n",
    "print('todos de dos en dos: ', L[::2])\n",
    "print('invertir: ', L[::-1])\n",
    "print('Quitar el primero y el último: ', L[1:-1])"
   ]
  },
  {
   "cell_type": "code",
   "execution_count": 19,
   "id": "d64e7987",
   "metadata": {},
   "outputs": [
    {
     "data": {
      "text/plain": [
       "True"
      ]
     },
     "execution_count": 19,
     "metadata": {},
     "output_type": "execute_result"
    }
   ],
   "source": [
    "# Calcular si un número es capicua:\n",
    "n = 1234321\n",
    "s = str(n)\n",
    "s == s[::-1]"
   ]
  },
  {
   "cell_type": "markdown",
   "id": "f4749558",
   "metadata": {},
   "source": [
    "Crear listas con la función list"
   ]
  },
  {
   "cell_type": "code",
   "execution_count": 23,
   "id": "61a57e3b",
   "metadata": {},
   "outputs": [
    {
     "data": {
      "text/plain": [
       "(['h', 'o', 'l', 'a', ' ', 'q', 'u', 'e', ' ', 't', 'a', 'l'], list)"
      ]
     },
     "execution_count": 23,
     "metadata": {},
     "output_type": "execute_result"
    }
   ],
   "source": [
    "s = \"hola que tal\"\n",
    "L2 = list(s)\n",
    "L2, type(L2)"
   ]
  },
  {
   "cell_type": "code",
   "execution_count": 26,
   "id": "895cf4ac",
   "metadata": {},
   "outputs": [
    {
     "name": "stdout",
     "output_type": "stream",
     "text": [
      "[1, 2, 3, 4, 5, 6]\n",
      "[1, 2, 3, 1, 2, 3, 1, 2, 3, 1, 2, 3, 1, 2, 3]\n",
      "1 in L1:  True\n",
      "10 in L1:  False\n"
     ]
    }
   ],
   "source": [
    "# Operadores de las listas: + * in\n",
    "L1 = [1,2,3]\n",
    "L2 = [4,5,6]\n",
    "print(L1 + L2)\n",
    "print(L1 * 5)\n",
    "print('1 in L1: ', 1 in L1)\n",
    "print('10 in L1: ', 10 in L1)\n"
   ]
  },
  {
   "cell_type": "code",
   "execution_count": 27,
   "id": "25e94615",
   "metadata": {},
   "outputs": [
    {
     "data": {
      "text/plain": [
       "[10, 2, 3, 4, 5, 6]"
      ]
     },
     "execution_count": 27,
     "metadata": {},
     "output_type": "execute_result"
    }
   ],
   "source": [
    "# Modificar elementos:\n",
    "L[0] = 10\n",
    "L"
   ]
  },
  {
   "cell_type": "code",
   "execution_count": 28,
   "id": "c0927f4b",
   "metadata": {},
   "outputs": [
    {
     "data": {
      "text/plain": [
       "[10, 2, 3, 4, 5, 6, 100]"
      ]
     },
     "execution_count": 28,
     "metadata": {},
     "output_type": "execute_result"
    }
   ],
   "source": [
    "# Añadir elementos\n",
    "L += [100]\n",
    "L"
   ]
  },
  {
   "cell_type": "markdown",
   "id": "4e708339",
   "metadata": {},
   "source": [
    "Dadas dos listas, calcular la intersección (elementos comunes sin repetir) en una nueva lista (sin utilizar conjuntos)."
   ]
  },
  {
   "cell_type": "code",
   "execution_count": 30,
   "id": "92d7f831",
   "metadata": {},
   "outputs": [
    {
     "data": {
      "text/plain": [
       "[1, 2, 3, 4, 5]"
      ]
     },
     "execution_count": 30,
     "metadata": {},
     "output_type": "execute_result"
    }
   ],
   "source": [
    "L1 = [1,2,3,4,5,1,2]\n",
    "L2 = [4,5,6,7,1,2,3]\n",
    "\n",
    "R = []  # R = list()\n",
    " \n",
    "for i in L1:\n",
    "    if i in L2 and i not in R:\n",
    "        R += [i]\n",
    "        \n",
    "R"
   ]
  },
  {
   "cell_type": "code",
   "execution_count": 31,
   "id": "fc68a1e1",
   "metadata": {},
   "outputs": [
    {
     "ename": "TypeError",
     "evalue": "'int' object is not subscriptable",
     "output_type": "error",
     "traceback": [
      "\u001b[1;31m---------------------------------------------------------------------------\u001b[0m",
      "\u001b[1;31mTypeError\u001b[0m                                 Traceback (most recent call last)",
      "\u001b[1;32m<ipython-input-31-3e64f9191e73>\u001b[0m in \u001b[0;36m<module>\u001b[1;34m\u001b[0m\n\u001b[0;32m      1\u001b[0m \u001b[1;31m# excepciones en las listas\u001b[0m\u001b[1;33m\u001b[0m\u001b[1;33m\u001b[0m\u001b[1;33m\u001b[0m\u001b[0m\n\u001b[0;32m      2\u001b[0m \u001b[0mn\u001b[0m \u001b[1;33m=\u001b[0m \u001b[1;36m23\u001b[0m\u001b[1;33m\u001b[0m\u001b[1;33m\u001b[0m\u001b[0m\n\u001b[1;32m----> 3\u001b[1;33m \u001b[0mn\u001b[0m\u001b[1;33m[\u001b[0m\u001b[1;36m0\u001b[0m\u001b[1;33m]\u001b[0m\u001b[1;33m\u001b[0m\u001b[1;33m\u001b[0m\u001b[0m\n\u001b[0m",
      "\u001b[1;31mTypeError\u001b[0m: 'int' object is not subscriptable"
     ]
    }
   ],
   "source": [
    "# excepciones en las listas, NO podemos indexar un número entero.\n",
    "n = 23\n",
    "n[0]"
   ]
  },
  {
   "cell_type": "code",
   "execution_count": 32,
   "id": "00b37a09",
   "metadata": {},
   "outputs": [
    {
     "ename": "IndexError",
     "evalue": "list index out of range",
     "output_type": "error",
     "traceback": [
      "\u001b[1;31m---------------------------------------------------------------------------\u001b[0m",
      "\u001b[1;31mIndexError\u001b[0m                                Traceback (most recent call last)",
      "\u001b[1;32m<ipython-input-32-6c221b7d3b05>\u001b[0m in \u001b[0;36m<module>\u001b[1;34m\u001b[0m\n\u001b[0;32m      1\u001b[0m \u001b[1;31m# acceso a una posición que no existe\u001b[0m\u001b[1;33m\u001b[0m\u001b[1;33m\u001b[0m\u001b[1;33m\u001b[0m\u001b[0m\n\u001b[1;32m----> 2\u001b[1;33m \u001b[0mR\u001b[0m\u001b[1;33m[\u001b[0m\u001b[1;36m100\u001b[0m\u001b[1;33m]\u001b[0m\u001b[1;33m\u001b[0m\u001b[1;33m\u001b[0m\u001b[0m\n\u001b[0m",
      "\u001b[1;31mIndexError\u001b[0m: list index out of range"
     ]
    }
   ],
   "source": [
    "# acceso a una posición que no existe\n",
    "R[100]"
   ]
  },
  {
   "cell_type": "code",
   "execution_count": 33,
   "id": "caadddbb",
   "metadata": {},
   "outputs": [
    {
     "ename": "TypeError",
     "evalue": "'int' object is not iterable",
     "output_type": "error",
     "traceback": [
      "\u001b[1;31m---------------------------------------------------------------------------\u001b[0m",
      "\u001b[1;31mTypeError\u001b[0m                                 Traceback (most recent call last)",
      "\u001b[1;32m<ipython-input-33-665a8c31cf25>\u001b[0m in \u001b[0;36m<module>\u001b[1;34m\u001b[0m\n\u001b[1;32m----> 1\u001b[1;33m \u001b[1;32mfor\u001b[0m \u001b[0mi\u001b[0m \u001b[1;32min\u001b[0m \u001b[1;36m10\u001b[0m\u001b[1;33m:\u001b[0m\u001b[1;33m\u001b[0m\u001b[1;33m\u001b[0m\u001b[0m\n\u001b[0m\u001b[0;32m      2\u001b[0m     \u001b[0mprint\u001b[0m\u001b[1;33m(\u001b[0m\u001b[0mi\u001b[0m\u001b[1;33m)\u001b[0m\u001b[1;33m\u001b[0m\u001b[1;33m\u001b[0m\u001b[0m\n",
      "\u001b[1;31mTypeError\u001b[0m: 'int' object is not iterable"
     ]
    }
   ],
   "source": [
    "for i in 10:\n",
    "    print(i)"
   ]
  },
  {
   "cell_type": "code",
   "execution_count": 35,
   "id": "94be2b3f",
   "metadata": {},
   "outputs": [
    {
     "name": "stdout",
     "output_type": "stream",
     "text": [
      "0\n",
      "1\n",
      "2\n",
      "3\n",
      "4\n",
      "5\n",
      "6\n",
      "7\n",
      "8\n",
      "9\n"
     ]
    }
   ],
   "source": [
    "for i in range(10):\n",
    "    print(i)"
   ]
  },
  {
   "cell_type": "code",
   "execution_count": 39,
   "id": "023e9eb2",
   "metadata": {},
   "outputs": [
    {
     "name": "stdout",
     "output_type": "stream",
     "text": [
      "range(0, 10)\n",
      "[0, 1, 2, 3, 4, 5, 6, 7, 8, 9]\n",
      "[1, 2, 3, 4, 5, 6, 7, 8, 9, 10]\n",
      "[0, 5, 10, 15, 20, 25, 30, 35, 40, 45, 50, 55, 60, 65, 70, 75, 80, 85, 90, 95, 100]\n",
      "[10, 9, 8, 7, 6, 5, 4, 3, 2, 1]\n"
     ]
    }
   ],
   "source": [
    "# range(ini, fin-1, salto=1)\n",
    "print(range(10))\n",
    "print(list(range(10)))\n",
    "print(list(range(1,11)))\n",
    "print(list(range(0,101,5)))\n",
    "print(list(range(10,0,-1)))"
   ]
  },
  {
   "cell_type": "code",
   "execution_count": null,
   "id": "526029be",
   "metadata": {},
   "outputs": [],
   "source": [
    "# copiar listas"
   ]
  }
 ],
 "metadata": {
  "kernelspec": {
   "display_name": "Python 3 (ipykernel)",
   "language": "python",
   "name": "python3"
  },
  "language_info": {
   "codemirror_mode": {
    "name": "ipython",
    "version": 3
   },
   "file_extension": ".py",
   "mimetype": "text/x-python",
   "name": "python",
   "nbconvert_exporter": "python",
   "pygments_lexer": "ipython3",
   "version": "3.8.5"
  }
 },
 "nbformat": 4,
 "nbformat_minor": 5
}

{
 "cells": [
  {
   "cell_type": "markdown",
   "id": "7d2abe21",
   "metadata": {},
   "source": [
    "## Tuplas en python"
   ]
  },
  {
   "cell_type": "markdown",
   "id": "4ae8ad17",
   "metadata": {},
   "source": [
    "- Inicializar múltiples variables\n",
    "- Expansión de tuplas\n",
    "- Intercambio de variables\n",
    "- Operadores: + * in\n",
    "- Slicing\n",
    "- Crear tuplas: tuple\n",
    "- Métodos: index, count\n",
    "- Número indeterminado de parámetros a una función\n",
    "- Una función pueda devolver más de un parámetro.\n",
    "- Consultas parametrizadas (para inyectar parámetros): select * from clientes where pais = ?\n",
    "- Obtener resultados de una consulta a la BD."
   ]
  },
  {
   "cell_type": "code",
   "execution_count": 1,
   "id": "2d15dd2c",
   "metadata": {},
   "outputs": [
    {
     "data": {
      "text/plain": [
       "1"
      ]
     },
     "execution_count": 1,
     "metadata": {},
     "output_type": "execute_result"
    }
   ],
   "source": [
    "a,b,c = 1,2,3\n",
    "a"
   ]
  },
  {
   "cell_type": "code",
   "execution_count": 2,
   "id": "c2757471",
   "metadata": {},
   "outputs": [
    {
     "data": {
      "text/plain": [
       "('libro1', '.', 'xlsx')"
      ]
     },
     "execution_count": 2,
     "metadata": {},
     "output_type": "execute_result"
    }
   ],
   "source": [
    "fichero = \"libro1.xlsx\"\n",
    "t = fichero.partition(\".\")\n",
    "t"
   ]
  },
  {
   "cell_type": "code",
   "execution_count": 17,
   "id": "0fbc13d1",
   "metadata": {},
   "outputs": [
    {
     "data": {
      "text/plain": [
       "'xlsx'"
      ]
     },
     "execution_count": 17,
     "metadata": {},
     "output_type": "execute_result"
    }
   ],
   "source": [
    "ext = fichero.partition('.')[2]\n",
    "ext"
   ]
  },
  {
   "cell_type": "code",
   "execution_count": 3,
   "id": "ac3dfe24",
   "metadata": {},
   "outputs": [
    {
     "name": "stdout",
     "output_type": "stream",
     "text": [
      "libro1\n",
      "xlsx\n"
     ]
    }
   ],
   "source": [
    "nombre, _, ext = t\n",
    "print(nombre)\n",
    "print(ext)"
   ]
  },
  {
   "cell_type": "code",
   "execution_count": 10,
   "id": "af615be7",
   "metadata": {},
   "outputs": [
    {
     "name": "stdout",
     "output_type": "stream",
     "text": [
      "40.4 -3.65\n",
      "42.8 -5.6\n",
      "36.8 1.22\n"
     ]
    }
   ],
   "source": [
    "L = [(40.4, -3.65), (42.8, -5.6), (36.8, 1.22)]\n",
    "for i in L:\n",
    "    print(i[0], i[1])"
   ]
  },
  {
   "cell_type": "code",
   "execution_count": 11,
   "id": "d4599b73",
   "metadata": {},
   "outputs": [
    {
     "name": "stdout",
     "output_type": "stream",
     "text": [
      "40.4 -3.65\n",
      "42.8 -5.6\n",
      "36.8 1.22\n"
     ]
    }
   ],
   "source": [
    "for lat, lon in L:\n",
    "    print(lat, lon)"
   ]
  },
  {
   "cell_type": "code",
   "execution_count": 12,
   "id": "abefb444",
   "metadata": {},
   "outputs": [
    {
     "name": "stdout",
     "output_type": "stream",
     "text": [
      "1\n",
      "2\n"
     ]
    }
   ],
   "source": [
    "a,b = [1,2]\n",
    "print(a)\n",
    "print(b)"
   ]
  },
  {
   "cell_type": "code",
   "execution_count": 14,
   "id": "0aa50699",
   "metadata": {},
   "outputs": [
    {
     "name": "stdout",
     "output_type": "stream",
     "text": [
      "1 2 [3, 4, 5, 6]\n"
     ]
    }
   ],
   "source": [
    "a,b, *resto = [1,2,3,4,5,6]\n",
    "print(a,b,resto)"
   ]
  },
  {
   "cell_type": "code",
   "execution_count": 15,
   "id": "18023ec9",
   "metadata": {},
   "outputs": [
    {
     "name": "stdout",
     "output_type": "stream",
     "text": [
      "1 2 [3, 4, 5, 6]\n"
     ]
    }
   ],
   "source": [
    "a,b, *_ = [1,2,3,4,5,6]\n",
    "print(a,b,_)"
   ]
  },
  {
   "cell_type": "code",
   "execution_count": 16,
   "id": "e8f3d5c2",
   "metadata": {},
   "outputs": [
    {
     "name": "stdout",
     "output_type": "stream",
     "text": [
      "20 10\n"
     ]
    }
   ],
   "source": [
    "a = 10\n",
    "b = 20\n",
    "a,b = b,a\n",
    "print(a, b)"
   ]
  },
  {
   "cell_type": "code",
   "execution_count": 18,
   "id": "d1b0cdc3",
   "metadata": {},
   "outputs": [
    {
     "name": "stdout",
     "output_type": "stream",
     "text": [
      "(1, 2, 3, 4)\n",
      "(1, 2, 1, 2, 1, 2, 1, 2, 1, 2, 1, 2, 1, 2, 1, 2, 1, 2, 1, 2)\n"
     ]
    }
   ],
   "source": [
    "print((1,2)+(3,4))\n",
    "print((1,2)*10)"
   ]
  },
  {
   "cell_type": "code",
   "execution_count": 19,
   "id": "eb8ba572",
   "metadata": {},
   "outputs": [
    {
     "data": {
      "text/plain": [
       "(1, 2, 3)"
      ]
     },
     "execution_count": 19,
     "metadata": {},
     "output_type": "execute_result"
    }
   ],
   "source": [
    "t = (1,2,3,4,5)\n",
    "t[:3]"
   ]
  },
  {
   "cell_type": "code",
   "execution_count": 21,
   "id": "277fae9d",
   "metadata": {},
   "outputs": [
    {
     "data": {
      "text/plain": [
       "(1, 2, 3, 4, 5)"
      ]
     },
     "execution_count": 21,
     "metadata": {},
     "output_type": "execute_result"
    }
   ],
   "source": [
    "# De lista a tupla o de tupla a conjunto:\n",
    "L = [1,2,3,4,5]\n",
    "t = tuple(L)\n",
    "t"
   ]
  },
  {
   "cell_type": "code",
   "execution_count": 22,
   "id": "0b593f13",
   "metadata": {},
   "outputs": [
    {
     "data": {
      "text/plain": [
       "{1, 2, 3, 4, 5}"
      ]
     },
     "execution_count": 22,
     "metadata": {},
     "output_type": "execute_result"
    }
   ],
   "source": [
    "c = set(t)\n",
    "c"
   ]
  },
  {
   "cell_type": "markdown",
   "id": "c4ccd768",
   "metadata": {},
   "source": [
    "Obtener todas las posiciones que ocupa un número dentro de una tupla y almacenarlo en una lista."
   ]
  },
  {
   "cell_type": "code",
   "execution_count": 23,
   "id": "198269f1",
   "metadata": {},
   "outputs": [
    {
     "data": {
      "text/plain": [
       "(1, 2, 3, 4, 2, 5, 6, 2, 7, 8, 2)"
      ]
     },
     "execution_count": 23,
     "metadata": {},
     "output_type": "execute_result"
    }
   ],
   "source": [
    "t = (1,2,3,4,2,5,6,2,7,8,2)\n",
    "t"
   ]
  },
  {
   "cell_type": "code",
   "execution_count": 32,
   "id": "ddfd5a2c",
   "metadata": {},
   "outputs": [
    {
     "name": "stdout",
     "output_type": "stream",
     "text": [
      "2 se repite 4 veces\n",
      "[1, 4, 7, 10]\n"
     ]
    }
   ],
   "source": [
    "numero = 2\n",
    "n = t.count(numero)\n",
    "print(f\"{numero} se repite {n} veces\")\n",
    "L = []\n",
    "ini = 0\n",
    "\n",
    "for i in range(n):\n",
    "    pos = t.index(numero, ini)\n",
    "    L.append(pos)\n",
    "    ini = pos + 1\n",
    "    \n",
    "print(L)"
   ]
  },
  {
   "cell_type": "code",
   "execution_count": null,
   "id": "50ea1a7d",
   "metadata": {},
   "outputs": [],
   "source": []
  }
 ],
 "metadata": {
  "kernelspec": {
   "display_name": "Python 3 (ipykernel)",
   "language": "python",
   "name": "python3"
  },
  "language_info": {
   "codemirror_mode": {
    "name": "ipython",
    "version": 3
   },
   "file_extension": ".py",
   "mimetype": "text/x-python",
   "name": "python",
   "nbconvert_exporter": "python",
   "pygments_lexer": "ipython3",
   "version": "3.8.5"
  }
 },
 "nbformat": 4,
 "nbformat_minor": 5
}

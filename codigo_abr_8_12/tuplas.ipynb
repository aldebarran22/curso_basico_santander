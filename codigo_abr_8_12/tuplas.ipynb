{
 "cells": [
  {
   "cell_type": "markdown",
   "id": "615637bb",
   "metadata": {},
   "source": [
    "## Tuplas en python"
   ]
  },
  {
   "cell_type": "markdown",
   "id": "1c24ddf6",
   "metadata": {},
   "source": [
    "- Inicializar múltiples variables\n",
    "- Expansión de tuplas\n",
    "- Intercambio de variables\n",
    "- Número indeterminado de parámetros a una función\n",
    "- Una función pueda devolver más de un parámetro.\n",
    "- Consultas parametrizadas (para inyectar parámetros): select * from clientes where pais = ?\n",
    "- Obtener resultados de una consulta a la BD."
   ]
  },
  {
   "cell_type": "code",
   "execution_count": 1,
   "id": "ba410b20",
   "metadata": {},
   "outputs": [
    {
     "data": {
      "text/plain": [
       "1"
      ]
     },
     "execution_count": 1,
     "metadata": {},
     "output_type": "execute_result"
    }
   ],
   "source": [
    "a,b,c = 1,2,3\n",
    "a"
   ]
  },
  {
   "cell_type": "code",
   "execution_count": 2,
   "id": "b27c5f0f",
   "metadata": {},
   "outputs": [
    {
     "data": {
      "text/plain": [
       "('libro1', '.', 'xlsx')"
      ]
     },
     "execution_count": 2,
     "metadata": {},
     "output_type": "execute_result"
    }
   ],
   "source": [
    "fichero = \"libro1.xlsx\"\n",
    "t = fichero.partition(\".\")\n",
    "t"
   ]
  },
  {
   "cell_type": "code",
   "execution_count": 3,
   "id": "4da59298",
   "metadata": {},
   "outputs": [
    {
     "name": "stdout",
     "output_type": "stream",
     "text": [
      "libro1\n",
      "xlsx\n"
     ]
    }
   ],
   "source": [
    "nombre, _, ext = t\n",
    "print(nombre)\n",
    "print(ext)"
   ]
  },
  {
   "cell_type": "code",
   "execution_count": 8,
   "id": "81f62d90",
   "metadata": {},
   "outputs": [
    {
     "name": "stdout",
     "output_type": "stream",
     "text": [
      "40.4 -3.65\n",
      "42.8 -5.6\n",
      "36.8 1.22\n"
     ]
    }
   ],
   "source": [
    "L = [(40.4, -3.65), (42.8, -5.6), (36.8, 1.22, 670)]\n",
    "for i in L:\n",
    "    print(i[0], i[1])"
   ]
  },
  {
   "cell_type": "code",
   "execution_count": 9,
   "id": "54ca25c7",
   "metadata": {},
   "outputs": [
    {
     "name": "stdout",
     "output_type": "stream",
     "text": [
      "40.4 -3.65\n",
      "42.8 -5.6\n"
     ]
    },
    {
     "ename": "ValueError",
     "evalue": "too many values to unpack (expected 2)",
     "output_type": "error",
     "traceback": [
      "\u001b[1;31m---------------------------------------------------------------------------\u001b[0m",
      "\u001b[1;31mValueError\u001b[0m                                Traceback (most recent call last)",
      "\u001b[1;32m<ipython-input-9-8bd8320c003d>\u001b[0m in \u001b[0;36m<module>\u001b[1;34m\u001b[0m\n\u001b[1;32m----> 1\u001b[1;33m \u001b[1;32mfor\u001b[0m \u001b[0mlat\u001b[0m\u001b[1;33m,\u001b[0m \u001b[0mlon\u001b[0m \u001b[1;32min\u001b[0m \u001b[0mL\u001b[0m\u001b[1;33m:\u001b[0m\u001b[1;33m\u001b[0m\u001b[1;33m\u001b[0m\u001b[0m\n\u001b[0m\u001b[0;32m      2\u001b[0m     \u001b[0mprint\u001b[0m\u001b[1;33m(\u001b[0m\u001b[0mlat\u001b[0m\u001b[1;33m,\u001b[0m \u001b[0mlon\u001b[0m\u001b[1;33m)\u001b[0m\u001b[1;33m\u001b[0m\u001b[1;33m\u001b[0m\u001b[0m\n",
      "\u001b[1;31mValueError\u001b[0m: too many values to unpack (expected 2)"
     ]
    }
   ],
   "source": [
    "for lat, lon in L:\n",
    "    print(lat, lon)"
   ]
  },
  {
   "cell_type": "code",
   "execution_count": null,
   "id": "d4fc7256",
   "metadata": {},
   "outputs": [],
   "source": []
  }
 ],
 "metadata": {
  "kernelspec": {
   "display_name": "Python 3 (ipykernel)",
   "language": "python",
   "name": "python3"
  },
  "language_info": {
   "codemirror_mode": {
    "name": "ipython",
    "version": 3
   },
   "file_extension": ".py",
   "mimetype": "text/x-python",
   "name": "python",
   "nbconvert_exporter": "python",
   "pygments_lexer": "ipython3",
   "version": "3.8.5"
  }
 },
 "nbformat": 4,
 "nbformat_minor": 5
}

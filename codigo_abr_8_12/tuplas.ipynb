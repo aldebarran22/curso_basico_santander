{
 "cells": [
  {
   "cell_type": "markdown",
   "id": "e6f5d4b2",
   "metadata": {},
   "source": [
    "## Tuplas en python"
   ]
  },
  {
   "cell_type": "markdown",
   "id": "375a9ddd",
   "metadata": {},
   "source": [
    "- Inicializar múltiples variables\n",
    "- Expansión de tuplas\n",
    "- Intercambio de variables\n",
    "- Número indeterminado de parámetros a una función\n",
    "- Una función pueda devolver más de un parámetro.\n",
    "- Consultas parametrizadas (para inyectar parámetros): select * from clientes where pais = ?\n",
    "- Obtener resultados de una consulta a la BD."
   ]
  },
  {
   "cell_type": "code",
   "execution_count": 1,
   "id": "7a2c7139",
   "metadata": {},
   "outputs": [
    {
     "data": {
      "text/plain": [
       "1"
      ]
     },
     "execution_count": 1,
     "metadata": {},
     "output_type": "execute_result"
    }
   ],
   "source": [
    "a,b,c = 1,2,3\n",
    "a"
   ]
  },
  {
   "cell_type": "code",
   "execution_count": 2,
   "id": "8b72fbe9",
   "metadata": {},
   "outputs": [
    {
     "data": {
      "text/plain": [
       "('libro1', '.', 'xlsx')"
      ]
     },
     "execution_count": 2,
     "metadata": {},
     "output_type": "execute_result"
    }
   ],
   "source": [
    "fichero = \"libro1.xlsx\"\n",
    "t = fichero.partition(\".\")\n",
    "t"
   ]
  },
  {
   "cell_type": "code",
   "execution_count": null,
   "id": "0fa550a8",
   "metadata": {},
   "outputs": [],
   "source": []
  }
 ],
 "metadata": {
  "kernelspec": {
   "display_name": "Python 3 (ipykernel)",
   "language": "python",
   "name": "python3"
  },
  "language_info": {
   "codemirror_mode": {
    "name": "ipython",
    "version": 3
   },
   "file_extension": ".py",
   "mimetype": "text/x-python",
   "name": "python",
   "nbconvert_exporter": "python",
   "pygments_lexer": "ipython3",
   "version": "3.8.5"
  }
 },
 "nbformat": 4,
 "nbformat_minor": 5
}

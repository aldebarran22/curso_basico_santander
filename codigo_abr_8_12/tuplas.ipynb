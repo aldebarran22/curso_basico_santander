{
 "cells": [
  {
   "cell_type": "markdown",
   "id": "1451f5a0",
   "metadata": {},
   "source": [
    "## Tuplas en python"
   ]
  },
  {
   "cell_type": "markdown",
   "id": "e5128d8b",
   "metadata": {},
   "source": [
    "- Inicializar múltiples variables\n",
    "- Expansión de tuplas\n",
    "- Intercambio de variables\n",
    "- Operadores: + * in\n",
    "- Slicing\n",
    "- Crear tuplas: tuple\n",
    "- Número indeterminado de parámetros a una función\n",
    "- Una función pueda devolver más de un parámetro.\n",
    "- Consultas parametrizadas (para inyectar parámetros): select * from clientes where pais = ?\n",
    "- Obtener resultados de una consulta a la BD."
   ]
  },
  {
   "cell_type": "code",
   "execution_count": 1,
   "id": "7bfef4e0",
   "metadata": {},
   "outputs": [
    {
     "data": {
      "text/plain": [
       "1"
      ]
     },
     "execution_count": 1,
     "metadata": {},
     "output_type": "execute_result"
    }
   ],
   "source": [
    "a,b,c = 1,2,3\n",
    "a"
   ]
  },
  {
   "cell_type": "code",
   "execution_count": 2,
   "id": "dca62576",
   "metadata": {},
   "outputs": [
    {
     "data": {
      "text/plain": [
       "('libro1', '.', 'xlsx')"
      ]
     },
     "execution_count": 2,
     "metadata": {},
     "output_type": "execute_result"
    }
   ],
   "source": [
    "fichero = \"libro1.xlsx\"\n",
    "t = fichero.partition(\".\")\n",
    "t"
   ]
  },
  {
   "cell_type": "code",
   "execution_count": 17,
   "id": "ebccf22e",
   "metadata": {},
   "outputs": [
    {
     "data": {
      "text/plain": [
       "'xlsx'"
      ]
     },
     "execution_count": 17,
     "metadata": {},
     "output_type": "execute_result"
    }
   ],
   "source": [
    "ext = fichero.partition('.')[2]\n",
    "ext"
   ]
  },
  {
   "cell_type": "code",
   "execution_count": 3,
   "id": "9b981aa6",
   "metadata": {},
   "outputs": [
    {
     "name": "stdout",
     "output_type": "stream",
     "text": [
      "libro1\n",
      "xlsx\n"
     ]
    }
   ],
   "source": [
    "nombre, _, ext = t\n",
    "print(nombre)\n",
    "print(ext)"
   ]
  },
  {
   "cell_type": "code",
   "execution_count": 10,
   "id": "c10c294a",
   "metadata": {},
   "outputs": [
    {
     "name": "stdout",
     "output_type": "stream",
     "text": [
      "40.4 -3.65\n",
      "42.8 -5.6\n",
      "36.8 1.22\n"
     ]
    }
   ],
   "source": [
    "L = [(40.4, -3.65), (42.8, -5.6), (36.8, 1.22)]\n",
    "for i in L:\n",
    "    print(i[0], i[1])"
   ]
  },
  {
   "cell_type": "code",
   "execution_count": 11,
   "id": "8b1ef7f1",
   "metadata": {},
   "outputs": [
    {
     "name": "stdout",
     "output_type": "stream",
     "text": [
      "40.4 -3.65\n",
      "42.8 -5.6\n",
      "36.8 1.22\n"
     ]
    }
   ],
   "source": [
    "for lat, lon in L:\n",
    "    print(lat, lon)"
   ]
  },
  {
   "cell_type": "code",
   "execution_count": 12,
   "id": "81273bc2",
   "metadata": {},
   "outputs": [
    {
     "name": "stdout",
     "output_type": "stream",
     "text": [
      "1\n",
      "2\n"
     ]
    }
   ],
   "source": [
    "a,b = [1,2]\n",
    "print(a)\n",
    "print(b)"
   ]
  },
  {
   "cell_type": "code",
   "execution_count": 14,
   "id": "8c729c2a",
   "metadata": {},
   "outputs": [
    {
     "name": "stdout",
     "output_type": "stream",
     "text": [
      "1 2 [3, 4, 5, 6]\n"
     ]
    }
   ],
   "source": [
    "a,b, *resto = [1,2,3,4,5,6]\n",
    "print(a,b,resto)"
   ]
  },
  {
   "cell_type": "code",
   "execution_count": 15,
   "id": "f213b0ab",
   "metadata": {},
   "outputs": [
    {
     "name": "stdout",
     "output_type": "stream",
     "text": [
      "1 2 [3, 4, 5, 6]\n"
     ]
    }
   ],
   "source": [
    "a,b, *_ = [1,2,3,4,5,6]\n",
    "print(a,b,_)"
   ]
  },
  {
   "cell_type": "code",
   "execution_count": 16,
   "id": "6cd7c96f",
   "metadata": {},
   "outputs": [
    {
     "name": "stdout",
     "output_type": "stream",
     "text": [
      "20 10\n"
     ]
    }
   ],
   "source": [
    "a = 10\n",
    "b = 20\n",
    "a,b = b,a\n",
    "print(a, b)"
   ]
  },
  {
   "cell_type": "code",
   "execution_count": null,
   "id": "27b439dd",
   "metadata": {},
   "outputs": [],
   "source": []
  }
 ],
 "metadata": {
  "kernelspec": {
   "display_name": "Python 3 (ipykernel)",
   "language": "python",
   "name": "python3"
  },
  "language_info": {
   "codemirror_mode": {
    "name": "ipython",
    "version": 3
   },
   "file_extension": ".py",
   "mimetype": "text/x-python",
   "name": "python",
   "nbconvert_exporter": "python",
   "pygments_lexer": "ipython3",
   "version": "3.8.5"
  }
 },
 "nbformat": 4,
 "nbformat_minor": 5
}

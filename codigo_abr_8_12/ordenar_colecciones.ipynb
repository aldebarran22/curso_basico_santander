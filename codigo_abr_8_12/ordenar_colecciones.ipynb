{
 "cells": [
  {
   "cell_type": "markdown",
   "id": "c13fe4c2",
   "metadata": {},
   "source": [
    "### Ordenar colecciones"
   ]
  },
  {
   "cell_type": "code",
   "execution_count": 1,
   "id": "34ae1bf5",
   "metadata": {},
   "outputs": [],
   "source": [
    "L = [5,7,8,1,2,3,4,9,8]\n",
    "nombres = ['Jorge', 'Ana','Jose Antonio','miguel','Raúl']"
   ]
  },
  {
   "cell_type": "code",
   "execution_count": 2,
   "id": "26083703",
   "metadata": {},
   "outputs": [
    {
     "data": {
      "text/plain": [
       "['Ana', 'Jorge', 'Jose Antonio', 'Raúl', 'miguel']"
      ]
     },
     "execution_count": 2,
     "metadata": {},
     "output_type": "execute_result"
    }
   ],
   "source": [
    "nombres.sort()\n",
    "nombres"
   ]
  },
  {
   "cell_type": "code",
   "execution_count": 3,
   "id": "4a2b65ef",
   "metadata": {},
   "outputs": [
    {
     "data": {
      "text/plain": [
       "[9, 8, 8, 7, 5, 4, 3, 2, 1]"
      ]
     },
     "execution_count": 3,
     "metadata": {},
     "output_type": "execute_result"
    }
   ],
   "source": [
    "L.sort(reverse=True)\n",
    "L"
   ]
  },
  {
   "cell_type": "code",
   "execution_count": 4,
   "id": "12827a84",
   "metadata": {},
   "outputs": [
    {
     "data": {
      "text/plain": [
       "[3, 5, 12, 4, 6]"
      ]
     },
     "execution_count": 4,
     "metadata": {},
     "output_type": "execute_result"
    }
   ],
   "source": [
    "lon = [len(i) for i in nombres]\n",
    "lon"
   ]
  },
  {
   "cell_type": "code",
   "execution_count": 5,
   "id": "72f975dd",
   "metadata": {},
   "outputs": [
    {
     "data": {
      "text/plain": [
       "['Jose Antonio', 'miguel', 'Jorge', 'Raúl', 'Ana']"
      ]
     },
     "execution_count": 5,
     "metadata": {},
     "output_type": "execute_result"
    }
   ],
   "source": [
    "nombres.sort(key=len, reverse=True)\n",
    "nombres"
   ]
  },
  {
   "cell_type": "code",
   "execution_count": 7,
   "id": "2cc9cab2",
   "metadata": {},
   "outputs": [
    {
     "data": {
      "text/plain": [
       "[(120, 34, 1), (23, 5), (8, 9, 1, 2, 3, 4)]"
      ]
     },
     "execution_count": 7,
     "metadata": {},
     "output_type": "execute_result"
    }
   ],
   "source": [
    "t = ((23,5),(120, 34, 1),(8,9,1,2,3,4))\n",
    "L = sorted(t, key=sum, reverse=True)\n",
    "L"
   ]
  },
  {
   "cell_type": "code",
   "execution_count": null,
   "id": "6d1b14fa",
   "metadata": {},
   "outputs": [],
   "source": []
  }
 ],
 "metadata": {
  "kernelspec": {
   "display_name": "Python 3 (ipykernel)",
   "language": "python",
   "name": "python3"
  },
  "language_info": {
   "codemirror_mode": {
    "name": "ipython",
    "version": 3
   },
   "file_extension": ".py",
   "mimetype": "text/x-python",
   "name": "python",
   "nbconvert_exporter": "python",
   "pygments_lexer": "ipython3",
   "version": "3.8.5"
  }
 },
 "nbformat": 4,
 "nbformat_minor": 5
}

{
 "cells": [
  {
   "cell_type": "code",
   "execution_count": 1,
   "id": "922e5d53",
   "metadata": {},
   "outputs": [],
   "source": [
    "txt = \"\"\"Quiere la boca exhausta vid, kiwi, piña y fugaz jamón. Fabio me exige, sin tapujos, que añada cerveza al whisky. Jovencillo emponzoñado de whisky, ¡qué figurota exhibes! La cigüeña tocaba cada vez mejor el saxofón y el búho pedía kiwi y queso. El jefe buscó el éxtasis en un imprevisto baño de whisky y gozó como un duque. Exhíbanse politiquillos zafios, con orejas kilométricas y uñas de gavilán. El cadáver de Wamba, rey godo de España, fue exhumado y trasladado en una caja de zinc que pesó un kilo. El pingüino Wenceslao hizo kilómetros bajo exhaustiva lluvia y frío, añoraba a su querido cachorro. El veloz murciélago hindú comía feliz cardillo y kiwi. La cigüeña tocaba el saxofón detrás del palenque de paja.Quiere la boca exhausta vid, kiwi, piña y fugaz jamón. Fabio me exige, sin tapujos, que añada cerveza al whisky. Jovencillo emponzoñado de whisky, ¡qué figurota exhibes! La cigüeña tocaba cada vez mejor el saxofón y el búho pedía kiwi y queso. El jefe buscó el éxtasis en un imprevisto baño de whisky y gozó como un duque. Exhíbanse politiquillos zafios, con orejas kilométricas y uñas de gavilán. El cadáver de Wamba, rey godo de España, fue\n",
    "Una mañana, tras un sueño intranquilo, Gregorio Samsa se despertó convertido en un monstruoso insecto. Estaba echado de espaldas sobre un duro caparazón y, al alzar la cabeza, vio su vientre convexo y oscuro, surcado por curvadas callosidades, sobre el que casi no se aguantaba la colcha, que estaba a punto de escurrirse hasta el suelo. Numerosas patas, penosamente delgadas en comparación con el grosor normal de sus piernas, se agitaban sin concierto. - ¿Qué me ha ocurrido? No estaba soñando. Su habitación, una habitación normal, aunque muy pequeña, tenía el aspecto habitual. Sobre la mesa había desparramado un muestrario de paños - Samsa era viajante de comercio-, y de la pared colgaba una estampa recientemente recortada de una revista ilustrada y puesta en un marco dorado. La estampa mostraba a una mujer tocada con un gorro de pieles, envuelta en una estola también de pieles, y que, muy erguida, esgrimía un amplio manguito, asimismo de piel, que ocultaba todo su antebrazo. Gregorio miró hacia la ventana; estaba nublado, y sobre el cinc del alféizar repiqueteaban las gotas de lluvia, lo que le hizo sentir una gran melancolía. «Bueno -pensó-; ¿y si siguiese durmiendo un rato y me olvidase de\n",
    "Reina en mi espíritu una alegría admirable, muy parecida a las dulces alboradas de la primavera, de que gozo aquí con delicia. Estoy solo, y me felicito de vivir en este país, el más a propósito para almas como la mía, soy tan dichoso, mi querido amigo, me sojuzga de tal modo la idea de reposar, que no me ocupo de mi arte. Ahora no sabría dibujar, ni siquiera hacer una línea con el lápiz; y, sin embargo, jamás he sido mejor pintor Cuando el valle se vela en torno mío con un encaje de vapores; cuando el sol de mediodía centellea sobre la impenetrable sombra de mi bosque sin conseguir otra cosa que filtrar entre las hojas algunos rayos que penetran hasta el fondo del santuario, cuando recostado sobre la crecida hierba, cerca de la cascada, mi vista, más próxima a la tierra, descubre multitud de menudas y diversas plantas; cuando siento más cerca de mi corazón los rumores de vida de ese pequeño mundo que palpita en los tallos de las hojas, y veo las formas innumerables e infinitas de los gusanillos y de los insectos; cuando siento, en fin, la presencia del Todopoderoso, que nos ha creado\n",
    "Y, viéndole don Quijote de aquella manera, con muestras de tanta tristeza, le dijo: Sábete, Sancho, que no es un hombre más que otro si no hace más que otro. Todas estas borrascas que nos suceden son señales de que presto ha de serenar el tiempo y han de sucedernos bien las cosas; porque no es posible que el mal ni el bien sean durables, y de aquí se sigue que, habiendo durado mucho el mal, el bien está ya cerca. Así que, no debes congojarte por las desgracias que a mí me suceden, pues a ti no te cabe parte dellas.Y, viéndole don Quijote de aquella manera, con muestras de tanta tristeza, le dijo: Sábete, Sancho, que no es un hombre más que otro si no hace más que otro. Todas estas borrascas que nos suceden son señales de que presto ha de serenar el tiempo y han de sucedernos bien las cosas; porque no es posible que el mal ni el bien sean durables, y de aquí se sigue que, habiendo durado mucho el mal, el bien está ya cerca. Así que, no debes congojarte por las desgracias que a mí me suceden, pues a ti no\n",
    "Muy lejos, más allá de las montañas de palabras, alejados de los países de las vocales y las consonantes, viven los textos simulados. Viven aislados en casas de letras, en la costa de la semántica, un gran océano de lenguas. Un riachuelo llamado Pons fluye por su pueblo y los abastece con las normas necesarias. Hablamos de un país paraisomático en el que a uno le caen pedazos de frases asadas en la boca. Ni siquiera los todopoderosos signos de puntuación dominan a los textos simulados; una vida, se puede decir, poco ortográfica. Pero un buen día, una pequeña línea de texto simulado, llamada Lorem Ipsum, decidió aventurarse y salir al vasto mundo de la gramática. El gran Oxmox le desanconsejó hacerlo, ya que esas tierras estaban llenas de comas malvadas, signos de interrogación salvajes y puntos y coma traicioneros, pero el texto simulado no se dejó atemorizar. Empacó sus siete versales, enfundó su inicial en el cinturón y se puso en camino. Cuando ya había escalado las primeras colinas de las montañas cursivas, se dio media vuelta para dirigir su mirada por última vez, hacia su ciudad natal Letralandia, el encabezamiento del pueblo Alfabeto y el subtítulo de su\"\"\""
   ]
  },
  {
   "cell_type": "markdown",
   "id": "fa29af9a",
   "metadata": {},
   "source": [
    "Histograma a nivel de letra"
   ]
  },
  {
   "cell_type": "code",
   "execution_count": 2,
   "id": "b622da39",
   "metadata": {},
   "outputs": [
    {
     "name": "stdout",
     "output_type": "stream",
     "text": [
      "número de letras:  5668\n",
      "número de letras sin repetidos:  45\n",
      "{'¿': 2, 'v': 54, 'e': 556, '«': 1, 'o': 373, '?': 1, 'á': 24, 'm': 139, 'l': 241, 's': 365, 'h': 57, 'a': 555, 'é': 13, '-': 5, 'u': 226, 'z': 32, 'ü': 4, 'n': 264, '!': 2, ':': 2, 'b': 90, 'f': 29, 'd': 215, 'k': 15, 'r': 226, 'í': 31, 'i': 259, 'w': 14, 'q': 66, 'g': 56, ' ': 993, ';': 9, '.': 37, 'p': 98, '\\n': 4, '¡': 2, 't': 171, 'ú': 4, 'c': 165, ',': 95, 'j': 35, 'ñ': 27, 'ó': 29, 'x': 23, 'y': 59}\n"
     ]
    }
   ],
   "source": [
    "letras = list(txt.lower())\n",
    "print('número de letras: ', len(letras))\n",
    "cletras = set(letras)\n",
    "print('número de letras sin repetidos: ', len(cletras))\n",
    "histo1 = dict()\n",
    "\n",
    "for letra in cletras:\n",
    "    histo1[letra] = letras.count(letra)\n",
    "\n",
    "print(histo1)"
   ]
  },
  {
   "cell_type": "code",
   "execution_count": 3,
   "id": "8643171d",
   "metadata": {},
   "outputs": [
    {
     "data": {
      "text/plain": [
       "[('¿', 2), ('v', 54), ('e', 556), ('«', 1), ('o', 373)]"
      ]
     },
     "execution_count": 3,
     "metadata": {},
     "output_type": "execute_result"
    }
   ],
   "source": [
    "aux = list(histo1.items())\n",
    "aux[:5]"
   ]
  },
  {
   "cell_type": "code",
   "execution_count": 6,
   "id": "4cafed3e",
   "metadata": {},
   "outputs": [
    {
     "data": {
      "text/plain": [
       "[('\\n', 4),\n",
       " (' ', 993),\n",
       " ('!', 2),\n",
       " (',', 95),\n",
       " ('-', 5),\n",
       " ('.', 37),\n",
       " (':', 2),\n",
       " (';', 9),\n",
       " ('?', 1),\n",
       " ('a', 555)]"
      ]
     },
     "execution_count": 6,
     "metadata": {},
     "output_type": "execute_result"
    }
   ],
   "source": [
    "L = sorted(histo1.items())\n",
    "L[:10]"
   ]
  },
  {
   "cell_type": "code",
   "execution_count": 7,
   "id": "3a8ae1da",
   "metadata": {},
   "outputs": [
    {
     "data": {
      "text/plain": [
       "[(' ', 993),\n",
       " ('e', 556),\n",
       " ('a', 555),\n",
       " ('o', 373),\n",
       " ('s', 365),\n",
       " ('n', 264),\n",
       " ('i', 259),\n",
       " ('l', 241),\n",
       " ('u', 226),\n",
       " ('r', 226)]"
      ]
     },
     "execution_count": 7,
     "metadata": {},
     "output_type": "execute_result"
    }
   ],
   "source": [
    "L = sorted(histo1.items(), key=lambda t: t[1], reverse=True)\n",
    "L[:10]"
   ]
  },
  {
   "cell_type": "markdown",
   "id": "6063d63f",
   "metadata": {},
   "source": [
    "Histograma a nivel de palabra"
   ]
  },
  {
   "cell_type": "code",
   "execution_count": 4,
   "id": "a812ed88",
   "metadata": {},
   "outputs": [
    {
     "name": "stdout",
     "output_type": "stream",
     "text": [
      "número de palabras:  994\n",
      "número de palabras sin repetidos:  479\n",
      "{'oscuro,': 1, 'murciélago': 1, 'gorro': 1, 'vez,': 1, 'última': 1, 'baño': 2, '-pensó-;': 1, 'asimismo': 1, 'punto': 1, 'lenguas.': 1, 'vapores;': 1, 'presto': 2, 'solo,': 1, 'corazón': 1, 'alejados': 1, 'suelo.': 1, 'coma': 1, 'pared': 1, 'sido': 1, 'palpita': 1, 'buen': 1, 'suceden': 2, 'whisky.': 2, 'curvadas': 1, 'mal,': 2, 'hablamos': 1, 'hacer': 1, 'son': 2, 'diversas': 1, 'vela': 1, 'casi': 1, 'consonantes,': 1, 'siguiese': 1, 'muestras': 2, 'mal': 2, 'frío,': 1, 'amigo,': 1, 'y,': 2, 'con': 10, 'callosidades,': 1, 'llamado': 1, 'cinc': 1, 'línea': 2, 'búho': 2, 'reposar,': 1, 'otro': 2, 'cerca.': 2, 'olvidase': 1, 'palabras,': 1, 'abastece': 1, 'hasta': 2, 'wenceslao': 1, 'ha': 4, 'pero': 2, 'de\\nreina': 1, 'estaban': 1, 'recortada': 1, 'exige,': 2, 'uñas': 2, 'filtrar': 1, 'intranquilo,': 1, 'siete': 1, 'vio': 1, 'decidió': 1, 'rumores': 1, 'caja': 1, 'politiquillos': 2, 'desgracias': 2, 'este': 1, 'fin,': 1, 'si': 3, 'camino.': 1, 'porque': 2, 'empacó': 1, 'dibujar,': 1, 'tierra,': 1, 'erguida,': 1, 'todopoderoso,': 1, 'whisky': 2, 'aquella': 2, 'hacia': 2, 'orejas': 2, 'parte': 1, 'habitación': 1, 'exhibes!': 2, 'otro.': 2, 'frases': 1, 'muy': 3, 'las': 15, 'traicioneros,': 1, 'los': 9, 'no': 14, 'día,': 1, 'boca': 2, 'próxima': 1, 'tan': 1, 'simulados.': 1, 'soñando.': 1, 'durmiendo': 1, 'lápiz;': 1, 'figurota': 2, 'gran': 3, 'ya': 4, 'miró': 1, 'allá': 1, 'wamba,': 2, 'hombre': 2, 'hindú': 1, 'está': 2, '«bueno': 1, 'paraisomático': 1, 'parecida': 1, 'ilustrada': 1, 'infinitas': 1, 'kilómetros': 1, 'delicia.': 1, 'felicito': 1, 'gozo': 1, 'océano': 1, 'mañana,': 1, 'samsa': 2, 'signos': 2, 'dominan': 1, 'añoraba': 1, 'como': 3, 'cascada,': 1, 'plantas;': 1, 'todas': 2, 'descubre': 1, 'vista,': 1, 'oxmox': 1, 'tocada': 1, 'vuelta': 1, 'manera,': 2, 'sigue': 2, 'vida,': 1, 'pesó': 1, 'todopoderosos': 1, 'aspecto': 1, 'decir,': 1, 'hace': 2, 'caparazón': 1, 'menudas': 1, 'serenar': 2, 'caen': 1, 'sábete,': 2, 'salir': 1, 'una': 11, 'señales': 2, 'bajo': 1, 'almas': 1, 'aguantaba': 1, 'lluvia': 1, 'penosamente': 1, 'concierto.': 1, 'paños': 1, 'inicial': 1, 'hizo': 2, 'mucho': 2, 'habitación,': 1, 'centellea': 1, 'textos': 2, 'sobre': 6, 'sol': 1, 'sojuzga': 1, 'borrascas': 2, 'país,': 1, 'kilométricas': 2, 'arte.': 1, 'dirigir': 1, 'mediodía': 1, 'paja.quiere': 1, 'asadas': 1, 'lo': 1, 'monstruoso': 1, 'vasto': 1, 'cerca': 2, 'agitaban': 1, 'mujer': 1, 'ese': 1, 'vocales': 1, 'uno': 1, 'tristeza,': 2, 'bosque': 1, 'ipsum,': 1, 'he': 1, 'españa,': 2, 'queso.': 2, 'pingüino': 1, 'estas': 2, 'whisky,': 2, 'durables,': 2, 'ciudad': 1, 'tanta': 2, 'fabio': 2, 'ocultaba': 1, 'pieles,': 2, 'cigüeña': 3, 'godo': 2, 'añada': 2, 'entre': 1, 'palenque': 1, 'nublado,': 1, 'hierba,': 1, 'quijote': 2, 'de': 68, 'otra': 1, 'rato': 1, 'buscó': 2, 'semántica,': 1, 'cadáver': 2, 'mi': 6, 'cardillo': 1, 'aislados': 1, 'comas': 1, 'sin': 5, 'exhumado': 1, 'cosa': 1, 'dejó': 1, 'mío': 1, 'mostraba': 1, 'santuario,': 1, 'su': 9, 'estampa': 2, 'aventurarse': 1, 'don': 2, 'presencia': 1, 'me': 9, 'puntos': 1, 'es': 4, 'sus': 2, 'dulces': 1, 'valle': 1, 'simulado': 1, 'en': 18, 'melancolía.': 1, 'rey': 2, 'convertido': 1, 'revista': 1, 'soy': 1, 'sombra': 1, 'gregorio': 2, 'jamás': 1, 'recostado': 1, 'tiempo': 2, 'gusanillos': 1, '¡qué': 2, 'emponzoñado': 2, 'del': 5, 'fugaz': 2, 'así': 2, 'suceden,': 2, 'era': 1, 'vid,': 2, 'estaba': 4, 'países': 1, 'vientre': 1, 'te': 1, 'trasladado': 1, 'propósito': 1, 'ti': 2, 'subtítulo': 1, 'marco': 1, 'embargo,': 1, 'normal,': 1, 'colgaba': 1, 'todo': 1, 'atemorizar.': 1, 'comercio-,': 1, 'viven': 2, 'media': 1, 'imprevisto': 2, 'manguito,': 1, 'cabeza,': 1, 'normas': 1, 'montañas': 2, 'kiwi.': 1, 'vivir': 1, 'interrogación': 1, 'exhíbanse': 2, 'duro': 1, 'dichoso,': 1, 'natal': 1, 'sabría': 1, 'puede': 1, 'estoy': 1, 'repiqueteaban': 1, 'pintor': 1, 'admirable,': 1, 'zafios,': 2, 'simulados;': 1, 'vez': 2, 'e': 1, 'puso': 1, 'durado': 2, 'puntuación': 1, 'alboradas': 1, 'insecto.': 1, 'letralandia,': 1, 'por': 5, 'colcha,': 1, 'sean': 2, 'jefe': 2, 'gotas': 1, 'colinas': 1, 'fue': 1, 'letras,': 1, 'habiendo': 2, 'texto': 2, 'pequeño': 1, 'piña': 2, 'tocaba': 3, 'gavilán.': 2, 'gozó': 2, 'pequeña': 1, 'cosas;': 2, 'veloz': 1, 'espíritu': 1, 'despertó': 1, 'veo': 1, 'comparación': 1, 'posible': 2, 'a': 12, 'piernas,': 1, 'gramática.': 1, 'boca.': 1, 'echado': 1, 'idea': 1, 'esgrimía': 1, 'alzar': 1, 'tallos': 1, 'cachorro.': 1, 'mí': 2, 'insectos;': 1, 'jamón.': 2, 'siento': 1, 'cuando': 6, 'cerveza': 2, 'saxofón': 3, 'poco': 1, 'surcado': 1, 'kilo.': 1, 'nos': 3, 'pues': 2, 'alfabeto': 1, 'el': 39, 'primavera,': 1, 'sancho,': 2, 'quiere': 1, 'lluvia,': 1, 'mundo': 2, 'cabe': 1, 'simulado,': 1, 'también': 1, 'ocurrido?': 1, 'riachuelo': 1, 'fue\\nuna': 1, 'la': 23, '¿qué': 1, 'innumerables': 1, 'sucedernos': 2, 'dijo:': 2, 'han': 2, 'esas': 1, 'primeras': 1, 'lejos,': 1, 'había': 2, 'exhaustiva': 1, 'puesta': 1, 'dorado.': 1, 'país': 1, 'lorem': 1, 'alféizar': 1, 'le': 5, 'kiwi,': 2, 'pedazos': 1, 'costa': 1, 'dio': 1, 'habitual.': 1, 'salvajes': 1, 'llamada': 1, 'se': 10, 'estola': 1, 'crecida': 1, 'fondo': 1, 'aunque': 1, 'mía,': 1, 'aquí': 3, 'vida': 1, 'pequeña,': 1, 'tapujos,': 2, 'feliz': 1, 'mirada': 1, 'patas,': 1, 'cinturón': 1, 'algunos': 1, 'congojarte': 2, 'tenía': 1, 'antebrazo.': 1, 'éxtasis': 2, 'hojas': 1, 'casas': 1, 'cada': 2, 'ni': 4, 'convexo': 1, 'torno': 1, 'alegría': 1, 'kiwi': 2, 'llenas': 1, 'ahora': 1, 'para': 2, 'multitud': 1, 'conseguir': 1, 'espaldas': 1, 'modo': 1, 'desparramado': 1, 'que': 29, 'impenetrable': 1, 'exhausta': 2, 'creado\\ny,': 1, 'hacerlo,': 1, 'encabezamiento': 1, 'tal': 1, 'pons': 1, 'detrás': 1, '-': 2, 'encaje': 1, 'jovencillo': 2, 'viéndole': 2, 'enfundó': 1, 'fluye': 1, 'zinc': 1, 'dellas.y,': 1, 'versales,': 1, 'ortográfica.': 1, 'un': 20, 'delgadas': 1, 'ventana;': 1, 'pedía': 2, 'duque.': 2, 'rayos': 1, 'escurrirse': 1, 'y': 34, 'grosor': 1, 'al': 4, 'muestrario': 1, '¿y': 1, 'sentir': 1, 'penetran': 1, 'más': 8, 'tras': 1, 'formas': 1, 'normal': 1, 'siquiera': 2, 'escalado': 1, 'viajante': 1, 'pueblo': 2, 'piel,': 1, 'querido': 2, 'que,': 5, 'tierras': 1, 'malvadas,': 1, 'numerosas': 1, 'mesa': 1, 'debes': 2, 'recientemente': 1, 'necesarias.': 1, 'no\\nmuy': 1, 'siento,': 1, 'desanconsejó': 1, 'hojas,': 1, 'envuelta': 1, 'ocupo': 1, 'mejor': 3, 'sueño': 1, 'cursivas,': 1, 'bien': 6, 'amplio': 1, 'comía': 1}\n"
     ]
    }
   ],
   "source": [
    "palabras = txt.lower().split(\" \")\n",
    "print('número de palabras: ', len(palabras))\n",
    "cpalabras = set(palabras)\n",
    "print('número de palabras sin repetidos: ', len(cpalabras))\n",
    "\n",
    "histo2 = dict()\n",
    "\n",
    "for palabra in cpalabras:\n",
    "    histo2[palabra] = palabras.count(palabra)\n",
    "\n",
    "print(histo2)"
   ]
  },
  {
   "cell_type": "code",
   "execution_count": null,
   "id": "80814381",
   "metadata": {},
   "outputs": [],
   "source": [
    "L = sorted(histo2.items(), key=lambda )"
   ]
  }
 ],
 "metadata": {
  "kernelspec": {
   "display_name": "Python 3 (ipykernel)",
   "language": "python",
   "name": "python3"
  },
  "language_info": {
   "codemirror_mode": {
    "name": "ipython",
    "version": 3
   },
   "file_extension": ".py",
   "mimetype": "text/x-python",
   "name": "python",
   "nbconvert_exporter": "python",
   "pygments_lexer": "ipython3",
   "version": "3.8.5"
  }
 },
 "nbformat": 4,
 "nbformat_minor": 5
}

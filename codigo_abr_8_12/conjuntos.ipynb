{
 "cells": [
  {
   "cell_type": "markdown",
   "id": "e751f239",
   "metadata": {},
   "source": [
    "## Conjuntos en Python"
   ]
  },
  {
   "cell_type": "markdown",
   "id": "b2a4ec7c",
   "metadata": {},
   "source": [
    "- crear\n",
    "- quitar repetidos\n",
    "- recorridos\n",
    "- in\n",
    "- operadores de conjuntos"
   ]
  },
  {
   "cell_type": "code",
   "execution_count": 1,
   "id": "452ad734",
   "metadata": {},
   "outputs": [
    {
     "data": {
      "text/plain": [
       "({1, 2, 3, 4, 5, 7}, set)"
      ]
     },
     "execution_count": 1,
     "metadata": {},
     "output_type": "execute_result"
    }
   ],
   "source": [
    "c = {1,3,4,5,5,5,2,1,3,7}\n",
    "c, type(c)"
   ]
  },
  {
   "cell_type": "code",
   "execution_count": 2,
   "id": "3e809237",
   "metadata": {},
   "outputs": [
    {
     "data": {
      "text/plain": [
       "[1, 2, 3, 4, 5]"
      ]
     },
     "execution_count": 2,
     "metadata": {},
     "output_type": "execute_result"
    }
   ],
   "source": [
    "L = [1,2,3,4,4,3,3,2,1,1,1,2,3,4,5]\n",
    "L2 = list(set(L))\n",
    "L2"
   ]
  },
  {
   "cell_type": "code",
   "execution_count": 3,
   "id": "4a2636a7",
   "metadata": {},
   "outputs": [
    {
     "name": "stdout",
     "output_type": "stream",
     "text": [
      "1\n",
      "2\n",
      "3\n",
      "4\n",
      "5\n",
      "7\n"
     ]
    }
   ],
   "source": [
    "for i in c:\n",
    "    print(i)"
   ]
  },
  {
   "cell_type": "code",
   "execution_count": 4,
   "id": "3fdfb868",
   "metadata": {},
   "outputs": [
    {
     "name": "stdout",
     "output_type": "stream",
     "text": [
      "{1, 2, 3, 4, 5}\n"
     ]
    }
   ],
   "source": [
    "L1 = [1,2,3,4,5,1,2]\n",
    "L2 = [4,5,6,7,1,2,3]\n",
    "\n",
    "c1 = set(L1)\n",
    "c2 = set(L2)\n",
    "print(c1 & c2) # intersección\n"
   ]
  },
  {
   "cell_type": "code",
   "execution_count": 9,
   "id": "5ea2276c",
   "metadata": {},
   "outputs": [
    {
     "name": "stdout",
     "output_type": "stream",
     "text": [
      "Quien va a comer y a cenar {'Jorge', 'Ana'}\n",
      "Quien va solo a comer:  {'Andrea', 'Luis', 'Tomás'}\n",
      "Quien va solo a cenar:  {'Julia', 'Paula', 'Alberto'}\n",
      "Quien va solo a uno de los dos eventos pero no ambos:  {'Paula', 'Andrea', 'Julia', 'Luis', 'Tomás', 'Alberto'}\n",
      "Quienes han participado en los eventos:  {'Paula', 'Julia', 'Andrea', 'Tomás', 'Alberto', 'Luis', 'Jorge', 'Ana'}\n"
     ]
    }
   ],
   "source": [
    "comida = {\"Ana\", \"Tomás\", \"Jorge\",\"Andrea\", \"Luis\"}\n",
    "cena = {\"Alberto\", \"Jorge\",\"Ana\",\"Julia\",\"Paula\"}\n",
    "\n",
    "\n",
    "print(\"Quien va a comer y a cenar\", comida & cena)\n",
    "print(\"Quien va solo a comer: \", comida - cena)\n",
    "print(\"Quien va solo a cenar: \", cena - comida)\n",
    "print(\"Quien va solo a uno de los dos eventos pero no ambos: \", comida ^ cena)\n",
    "print(\"Quienes han participado en los eventos: \", comida | cena)"
   ]
  },
  {
   "cell_type": "code",
   "execution_count": null,
   "id": "4173f47a",
   "metadata": {},
   "outputs": [],
   "source": []
  }
 ],
 "metadata": {
  "kernelspec": {
   "display_name": "Python 3 (ipykernel)",
   "language": "python",
   "name": "python3"
  },
  "language_info": {
   "codemirror_mode": {
    "name": "ipython",
    "version": 3
   },
   "file_extension": ".py",
   "mimetype": "text/x-python",
   "name": "python",
   "nbconvert_exporter": "python",
   "pygments_lexer": "ipython3",
   "version": "3.8.5"
  }
 },
 "nbformat": 4,
 "nbformat_minor": 5
}

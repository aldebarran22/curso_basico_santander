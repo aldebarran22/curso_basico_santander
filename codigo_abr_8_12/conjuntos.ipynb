{
 "cells": [
  {
   "cell_type": "markdown",
   "id": "5ebd4d69",
   "metadata": {},
   "source": [
    "## Conjuntos en Python"
   ]
  },
  {
   "cell_type": "markdown",
   "id": "902636c6",
   "metadata": {},
   "source": [
    "- crear\n",
    "- quitar repetidos\n",
    "- recorridos\n",
    "- in\n",
    "- operadores de conjuntos"
   ]
  },
  {
   "cell_type": "code",
   "execution_count": 1,
   "id": "b2e917d5",
   "metadata": {},
   "outputs": [
    {
     "data": {
      "text/plain": [
       "({1, 2, 3, 4, 5, 7}, set)"
      ]
     },
     "execution_count": 1,
     "metadata": {},
     "output_type": "execute_result"
    }
   ],
   "source": [
    "c = {1,3,4,5,5,5,2,1,3,7}\n",
    "c, type(c)"
   ]
  },
  {
   "cell_type": "code",
   "execution_count": 2,
   "id": "2d60b9ca",
   "metadata": {},
   "outputs": [
    {
     "data": {
      "text/plain": [
       "[1, 2, 3, 4, 5]"
      ]
     },
     "execution_count": 2,
     "metadata": {},
     "output_type": "execute_result"
    }
   ],
   "source": [
    "L = [1,2,3,4,4,3,3,2,1,1,1,2,3,4,5]\n",
    "L2 = list(set(L))\n",
    "L2"
   ]
  },
  {
   "cell_type": "code",
   "execution_count": 3,
   "id": "9fd7ce1b",
   "metadata": {},
   "outputs": [
    {
     "name": "stdout",
     "output_type": "stream",
     "text": [
      "1\n",
      "2\n",
      "3\n",
      "4\n",
      "5\n",
      "7\n"
     ]
    }
   ],
   "source": [
    "for i in c:\n",
    "    print(i)"
   ]
  },
  {
   "cell_type": "code",
   "execution_count": 4,
   "id": "a45c22bc",
   "metadata": {},
   "outputs": [
    {
     "name": "stdout",
     "output_type": "stream",
     "text": [
      "{1, 2, 3, 4, 5}\n"
     ]
    }
   ],
   "source": [
    "L1 = [1,2,3,4,5,1,2]\n",
    "L2 = [4,5,6,7,1,2,3]\n",
    "\n",
    "c1 = set(L1)\n",
    "c2 = set(L2)\n",
    "print(c1 & c2) # intersección\n"
   ]
  },
  {
   "cell_type": "code",
   "execution_count": null,
   "id": "d67b6442",
   "metadata": {},
   "outputs": [],
   "source": [
    "comida = {\"Ana\", \"Tomás\", \"Jorge\",\"Andrea\", \"Luis\"}\n",
    "cena = {\"Alberto\", \"Jorge\",\"Ana\",\"Julia\",\"Paula\"}\n",
    "\n",
    "# Quien va a comer y a cenar:\n"
   ]
  }
 ],
 "metadata": {
  "kernelspec": {
   "display_name": "Python 3 (ipykernel)",
   "language": "python",
   "name": "python3"
  },
  "language_info": {
   "codemirror_mode": {
    "name": "ipython",
    "version": 3
   },
   "file_extension": ".py",
   "mimetype": "text/x-python",
   "name": "python",
   "nbconvert_exporter": "python",
   "pygments_lexer": "ipython3",
   "version": "3.8.5"
  }
 },
 "nbformat": 4,
 "nbformat_minor": 5
}

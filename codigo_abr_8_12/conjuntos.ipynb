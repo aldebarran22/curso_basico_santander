{
 "cells": [
  {
   "cell_type": "markdown",
   "id": "976aad90",
   "metadata": {},
   "source": [
    "## Conjuntos en Python"
   ]
  },
  {
   "cell_type": "markdown",
   "id": "b3e3b272",
   "metadata": {},
   "source": [
    "- crear\n",
    "- quitar repetidos\n",
    "- recorridos\n",
    "- in\n",
    "- operadores de conjuntos"
   ]
  },
  {
   "cell_type": "code",
   "execution_count": 1,
   "id": "25f2f2d8",
   "metadata": {},
   "outputs": [
    {
     "data": {
      "text/plain": [
       "({1, 2, 3, 4, 5, 7}, set)"
      ]
     },
     "execution_count": 1,
     "metadata": {},
     "output_type": "execute_result"
    }
   ],
   "source": [
    "c = {1,3,4,5,5,5,2,1,3,7}\n",
    "c, type(c)"
   ]
  },
  {
   "cell_type": "code",
   "execution_count": 2,
   "id": "672f236a",
   "metadata": {},
   "outputs": [
    {
     "data": {
      "text/plain": [
       "[1, 2, 3, 4, 5]"
      ]
     },
     "execution_count": 2,
     "metadata": {},
     "output_type": "execute_result"
    }
   ],
   "source": [
    "L = [1,2,3,4,4,3,3,2,1,1,1,2,3,4,5]\n",
    "L2 = list(set(L))\n",
    "L2"
   ]
  },
  {
   "cell_type": "code",
   "execution_count": null,
   "id": "47ded573",
   "metadata": {},
   "outputs": [],
   "source": []
  }
 ],
 "metadata": {
  "kernelspec": {
   "display_name": "Python 3 (ipykernel)",
   "language": "python",
   "name": "python3"
  },
  "language_info": {
   "codemirror_mode": {
    "name": "ipython",
    "version": 3
   },
   "file_extension": ".py",
   "mimetype": "text/x-python",
   "name": "python",
   "nbconvert_exporter": "python",
   "pygments_lexer": "ipython3",
   "version": "3.8.5"
  }
 },
 "nbformat": 4,
 "nbformat_minor": 5
}

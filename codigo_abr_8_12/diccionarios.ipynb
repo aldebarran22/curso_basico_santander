{
 "cells": [
  {
   "cell_type": "markdown",
   "id": "474c7898",
   "metadata": {},
   "source": [
    "## Diccionarios en Python"
   ]
  },
  {
   "cell_type": "markdown",
   "id": "bc370879",
   "metadata": {},
   "source": [
    "- Crear diccionarios, funciones\n",
    "- Acceso a los elementos\n",
    "- Recorridos\n",
    "- in"
   ]
  },
  {
   "cell_type": "code",
   "execution_count": 1,
   "id": "da5e773c",
   "metadata": {},
   "outputs": [],
   "source": [
    "d = {\"a\": 10, \"b\": 20, \"c\":30}\n",
    "d, type(d)"
   ]
  },
  {
   "cell_type": "code",
   "execution_count": 2,
   "id": "61f995f4",
   "metadata": {},
   "outputs": [],
   "source": [
    "d[\"d\"] = 40\n",
    "d[\"a\"] = 1000\n",
    "d"
   ]
  },
  {
   "cell_type": "code",
   "execution_count": 3,
   "id": "61cb9ce9",
   "metadata": {
    "scrolled": true
   },
   "outputs": [
    {
     "data": {
      "text/plain": [
       "1000"
      ]
     },
     "execution_count": 3,
     "metadata": {},
     "output_type": "execute_result"
    }
   ],
   "source": [
    "d[\"a\"]"
   ]
  },
  {
   "cell_type": "code",
   "execution_count": 4,
   "id": "7e5a417d",
   "metadata": {},
   "outputs": [
    {
     "ename": "KeyError",
     "evalue": "'e'",
     "output_type": "error",
     "traceback": [
      "\u001b[1;31m---------------------------------------------------------------------------\u001b[0m",
      "\u001b[1;31mKeyError\u001b[0m                                  Traceback (most recent call last)",
      "\u001b[1;32m<ipython-input-4-b39bc183dd68>\u001b[0m in \u001b[0;36m<module>\u001b[1;34m\u001b[0m\n\u001b[1;32m----> 1\u001b[1;33m \u001b[0md\u001b[0m\u001b[1;33m[\u001b[0m\u001b[1;34m\"e\"\u001b[0m\u001b[1;33m]\u001b[0m\u001b[1;33m\u001b[0m\u001b[1;33m\u001b[0m\u001b[0m\n\u001b[0m",
      "\u001b[1;31mKeyError\u001b[0m: 'e'"
     ]
    }
   ],
   "source": [
    "d[\"e\"]"
   ]
  },
  {
   "cell_type": "code",
   "execution_count": 5,
   "id": "9a71afc4",
   "metadata": {},
   "outputs": [
    {
     "name": "stdout",
     "output_type": "stream",
     "text": [
      "a 1000\n",
      "b 20\n",
      "c 30\n",
      "d 40\n"
     ]
    }
   ],
   "source": [
    "for k,v in d.items():\n",
    "    print(k, v)"
   ]
  },
  {
   "cell_type": "code",
   "execution_count": 6,
   "id": "f7fb04cb",
   "metadata": {},
   "outputs": [
    {
     "name": "stdout",
     "output_type": "stream",
     "text": [
      "dict_keys(['a', 'b', 'c', 'd'])\n",
      "dict_values([1000, 20, 30, 40])\n",
      "['a', 'b', 'c', 'd']\n",
      "[1000, 20, 30, 40]\n"
     ]
    }
   ],
   "source": [
    "print(d.keys())\n",
    "print(d.values())\n",
    "\n",
    "print(list(d.keys()))\n",
    "print(list(d.values()))"
   ]
  },
  {
   "cell_type": "code",
   "execution_count": 7,
   "id": "a1f6e0a8",
   "metadata": {},
   "outputs": [
    {
     "name": "stdout",
     "output_type": "stream",
     "text": [
      "['id', 'nombre', 'cargo']\n",
      "['1', 'Davolio', 'Representante de ventas']\n"
     ]
    },
    {
     "data": {
      "text/plain": [
       "{'id': '1', 'nombre': 'Davolio', 'cargo': 'Representante de ventas'}"
      ]
     },
     "execution_count": 7,
     "metadata": {},
     "output_type": "execute_result"
    }
   ],
   "source": [
    "cabs = \"id;nombre;cargo\"\n",
    "val = \"1;Davolio;Representante de ventas\"\n",
    "\n",
    "Lcabs = cabs.split(\";\")\n",
    "Lval = val.split(\";\")\n",
    "\n",
    "print(Lcabs)\n",
    "print(Lval)\n",
    "\n",
    "d2 = dict(zip(Lcabs, Lval))\n",
    "d2"
   ]
  },
  {
   "cell_type": "code",
   "execution_count": 8,
   "id": "1eb3fd2c",
   "metadata": {},
   "outputs": [
    {
     "data": {
      "text/plain": [
       "'Davolio'"
      ]
     },
     "execution_count": 8,
     "metadata": {},
     "output_type": "execute_result"
    }
   ],
   "source": [
    "d2['nombre']"
   ]
  },
  {
   "cell_type": "code",
   "execution_count": 9,
   "id": "87129e01",
   "metadata": {},
   "outputs": [
    {
     "data": {
      "text/plain": [
       "{'id': '1',\n",
       " 'nombre': 'Davolio',\n",
       " 'cargo': 'Representante de ventas',\n",
       " 'telefono': None}"
      ]
     },
     "execution_count": 9,
     "metadata": {},
     "output_type": "execute_result"
    }
   ],
   "source": [
    "d2['telefono'] = None\n",
    "d2"
   ]
  },
  {
   "cell_type": "code",
   "execution_count": 11,
   "id": "3738d202",
   "metadata": {},
   "outputs": [
    {
     "name": "stdout",
     "output_type": "stream",
     "text": [
      "nombre in d2:  True\n",
      "Davolio in d2.values():  True\n"
     ]
    }
   ],
   "source": [
    "# Buscar en un diccionario: in\n",
    "print('nombre in d2: ', 'nombre' in d2)\n",
    "print('Davolio in d2.values(): ', 'Davolio' in d2.values())"
   ]
  },
  {
   "cell_type": "code",
   "execution_count": null,
   "id": "9664feaf",
   "metadata": {},
   "outputs": [],
   "source": []
  }
 ],
 "metadata": {
  "kernelspec": {
   "display_name": "Python 3 (ipykernel)",
   "language": "python",
   "name": "python3"
  },
  "language_info": {
   "codemirror_mode": {
    "name": "ipython",
    "version": 3
   },
   "file_extension": ".py",
   "mimetype": "text/x-python",
   "name": "python",
   "nbconvert_exporter": "python",
   "pygments_lexer": "ipython3",
   "version": "3.8.5"
  }
 },
 "nbformat": 4,
 "nbformat_minor": 5
}

{
 "cells": [
  {
   "cell_type": "markdown",
   "id": "90bd86f1",
   "metadata": {},
   "source": [
    "## Diccionarios en Python"
   ]
  },
  {
   "cell_type": "markdown",
   "id": "2223c4cb",
   "metadata": {},
   "source": [
    "- Crear diccionarios, funciones\n",
    "- Acceso a los elementos\n",
    "- Recorridos\n",
    "- in"
   ]
  },
  {
   "cell_type": "code",
   "execution_count": 1,
   "id": "66ddd231",
   "metadata": {},
   "outputs": [
    {
     "data": {
      "text/plain": [
       "({'a': 10, 'b': 20, 'c': 30}, dict)"
      ]
     },
     "execution_count": 1,
     "metadata": {},
     "output_type": "execute_result"
    }
   ],
   "source": [
    "d = {\"a\": 10, \"b\": 20, \"c\":30}\n",
    "d, type(d)"
   ]
  },
  {
   "cell_type": "code",
   "execution_count": 2,
   "id": "56b07c8d",
   "metadata": {},
   "outputs": [
    {
     "data": {
      "text/plain": [
       "{'a': 1000, 'b': 20, 'c': 30, 'd': 40}"
      ]
     },
     "execution_count": 2,
     "metadata": {},
     "output_type": "execute_result"
    }
   ],
   "source": [
    "d[\"d\"] = 40\n",
    "d[\"a\"] = 1000\n",
    "d"
   ]
  },
  {
   "cell_type": "code",
   "execution_count": null,
   "id": "e1c4900f",
   "metadata": {},
   "outputs": [],
   "source": []
  }
 ],
 "metadata": {
  "kernelspec": {
   "display_name": "Python 3 (ipykernel)",
   "language": "python",
   "name": "python3"
  },
  "language_info": {
   "codemirror_mode": {
    "name": "ipython",
    "version": 3
   },
   "file_extension": ".py",
   "mimetype": "text/x-python",
   "name": "python",
   "nbconvert_exporter": "python",
   "pygments_lexer": "ipython3",
   "version": "3.8.5"
  }
 },
 "nbformat": 4,
 "nbformat_minor": 5
}

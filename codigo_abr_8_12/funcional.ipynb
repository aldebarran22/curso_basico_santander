{
 "cells": [
  {
   "cell_type": "markdown",
   "id": "793e92e6",
   "metadata": {},
   "source": [
    "## Programación funcional en Python"
   ]
  },
  {
   "cell_type": "markdown",
   "id": "90d2dbb1",
   "metadata": {},
   "source": [
    "- list comprehension\n",
    "- iteradores: map, filter, reduce\n",
    "- generadores\n",
    "- decoradores"
   ]
  },
  {
   "cell_type": "code",
   "execution_count": 1,
   "id": "1a0c3396",
   "metadata": {},
   "outputs": [],
   "source": [
    "def calcularIva(precio):\n",
    "    return round(precio * 0.21, 2)"
   ]
  },
  {
   "cell_type": "code",
   "execution_count": 2,
   "id": "6b3537f4",
   "metadata": {},
   "outputs": [
    {
     "data": {
      "text/plain": [
       "21.0"
      ]
     },
     "execution_count": 2,
     "metadata": {},
     "output_type": "execute_result"
    }
   ],
   "source": [
    "calcularIva(100)"
   ]
  },
  {
   "cell_type": "code",
   "execution_count": 3,
   "id": "5325d14b",
   "metadata": {},
   "outputs": [
    {
     "data": {
      "text/plain": [
       "[117.6, 1050.0, 252.0, 515.76, 71.4]"
      ]
     },
     "execution_count": 3,
     "metadata": {},
     "output_type": "execute_result"
    }
   ],
   "source": [
    "precios = [560, 5000, 1200, 2456, 340]\n",
    "iva = []\n",
    "for p in precios:\n",
    "    iva.append(calcularIva(p))\n",
    "iva"
   ]
  },
  {
   "cell_type": "markdown",
   "id": "b02af926",
   "metadata": {},
   "source": [
    "### map"
   ]
  },
  {
   "cell_type": "code",
   "execution_count": 6,
   "id": "5ae7ea87",
   "metadata": {},
   "outputs": [
    {
     "data": {
      "text/plain": [
       "[117.6, 1050.0, 252.0, 515.76, 71.4]"
      ]
     },
     "execution_count": 6,
     "metadata": {},
     "output_type": "execute_result"
    }
   ],
   "source": [
    "obj = list(map(calcularIva, precios))\n",
    "obj"
   ]
  },
  {
   "cell_type": "markdown",
   "id": "a3cd89ce",
   "metadata": {},
   "source": [
    "### list comprehension"
   ]
  },
  {
   "cell_type": "code",
   "execution_count": 7,
   "id": "72c8a715",
   "metadata": {},
   "outputs": [
    {
     "data": {
      "text/plain": [
       "[117.6, 1050.0, 252.0, 515.76, 71.4]"
      ]
     },
     "execution_count": 7,
     "metadata": {},
     "output_type": "execute_result"
    }
   ],
   "source": [
    "L = [calcularIva(i) for i in precios]\n",
    "L"
   ]
  },
  {
   "cell_type": "code",
   "execution_count": 8,
   "id": "4a0a0717",
   "metadata": {},
   "outputs": [
    {
     "data": {
      "text/plain": [
       "[117.6, 1050.0, 252.0, 515.76, 71.4]"
      ]
     },
     "execution_count": 8,
     "metadata": {},
     "output_type": "execute_result"
    }
   ],
   "source": [
    "L2 = [round(precio * 0.21, 2) for precio in precios]\n",
    "L2"
   ]
  },
  {
   "cell_type": "code",
   "execution_count": null,
   "id": "d4d666b1",
   "metadata": {},
   "outputs": [],
   "source": []
  }
 ],
 "metadata": {
  "kernelspec": {
   "display_name": "Python 3 (ipykernel)",
   "language": "python",
   "name": "python3"
  },
  "language_info": {
   "codemirror_mode": {
    "name": "ipython",
    "version": 3
   },
   "file_extension": ".py",
   "mimetype": "text/x-python",
   "name": "python",
   "nbconvert_exporter": "python",
   "pygments_lexer": "ipython3",
   "version": "3.8.5"
  }
 },
 "nbformat": 4,
 "nbformat_minor": 5
}

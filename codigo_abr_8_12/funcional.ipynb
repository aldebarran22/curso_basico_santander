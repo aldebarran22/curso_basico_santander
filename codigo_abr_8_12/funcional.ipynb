{
 "cells": [
  {
   "cell_type": "markdown",
   "id": "71ae032c",
   "metadata": {},
   "source": [
    "## Programación funcional en Python"
   ]
  },
  {
   "cell_type": "markdown",
   "id": "ffa2acc7",
   "metadata": {},
   "source": [
    "- list comprehension\n",
    "- iteradores: map, filter, reduce\n",
    "- Funciones lambda\n",
    "- generadores\n",
    "- decoradores"
   ]
  },
  {
   "cell_type": "code",
   "execution_count": 1,
   "id": "4ca4a558",
   "metadata": {},
   "outputs": [],
   "source": [
    "from random import randint\n",
    "from functools import reduce\n",
    "from string import ascii_letters"
   ]
  },
  {
   "cell_type": "code",
   "execution_count": 2,
   "id": "aaa140e3",
   "metadata": {},
   "outputs": [],
   "source": [
    "def calcularIva(precio):\n",
    "    return round(precio * 0.21, 2)"
   ]
  },
  {
   "cell_type": "code",
   "execution_count": 3,
   "id": "b7ac2bbe",
   "metadata": {},
   "outputs": [
    {
     "data": {
      "text/plain": [
       "21.0"
      ]
     },
     "execution_count": 3,
     "metadata": {},
     "output_type": "execute_result"
    }
   ],
   "source": [
    "calcularIva(100)"
   ]
  },
  {
   "cell_type": "code",
   "execution_count": 4,
   "id": "5badaf68",
   "metadata": {},
   "outputs": [
    {
     "data": {
      "text/plain": [
       "[117.6, 1050.0, 252.0, 515.76, 71.4]"
      ]
     },
     "execution_count": 4,
     "metadata": {},
     "output_type": "execute_result"
    }
   ],
   "source": [
    "precios = [560, 5000, 1200, 2456, 340]\n",
    "iva = []\n",
    "for p in precios:\n",
    "    iva.append(calcularIva(p))\n",
    "iva"
   ]
  },
  {
   "cell_type": "markdown",
   "id": "09303c4b",
   "metadata": {},
   "source": [
    "### map"
   ]
  },
  {
   "cell_type": "code",
   "execution_count": 5,
   "id": "5590cab6",
   "metadata": {},
   "outputs": [
    {
     "data": {
      "text/plain": [
       "[117.6, 1050.0, 252.0, 515.76, 71.4]"
      ]
     },
     "execution_count": 5,
     "metadata": {},
     "output_type": "execute_result"
    }
   ],
   "source": [
    "obj = list(map(calcularIva, precios))\n",
    "obj"
   ]
  },
  {
   "cell_type": "markdown",
   "id": "9997a453",
   "metadata": {},
   "source": [
    "### list comprehension"
   ]
  },
  {
   "cell_type": "code",
   "execution_count": 6,
   "id": "2ea4a8ce",
   "metadata": {},
   "outputs": [
    {
     "data": {
      "text/plain": [
       "[117.6, 1050.0, 252.0, 515.76, 71.4]"
      ]
     },
     "execution_count": 6,
     "metadata": {},
     "output_type": "execute_result"
    }
   ],
   "source": [
    "L = [calcularIva(i) for i in precios]\n",
    "L"
   ]
  },
  {
   "cell_type": "code",
   "execution_count": 7,
   "id": "c08d3f93",
   "metadata": {},
   "outputs": [
    {
     "data": {
      "text/plain": [
       "[117.6, 1050.0, 252.0, 515.76, 71.4]"
      ]
     },
     "execution_count": 7,
     "metadata": {},
     "output_type": "execute_result"
    }
   ],
   "source": [
    "L2 = [round(precio * 0.21, 2) for precio in precios]\n",
    "L2"
   ]
  },
  {
   "cell_type": "code",
   "execution_count": 8,
   "id": "6514409d",
   "metadata": {},
   "outputs": [
    {
     "data": {
      "text/plain": [
       "26"
      ]
     },
     "execution_count": 8,
     "metadata": {},
     "output_type": "execute_result"
    }
   ],
   "source": [
    "randint(1,40)"
   ]
  },
  {
   "cell_type": "markdown",
   "id": "df664e78",
   "metadata": {},
   "source": [
    "Generar una lista de 30 números aleatorios entre 1 y 50"
   ]
  },
  {
   "cell_type": "code",
   "execution_count": 9,
   "id": "fe5e1000",
   "metadata": {},
   "outputs": [
    {
     "data": {
      "text/plain": [
       "[40, 8, 44, 40, 29, 29, 18, 7, 5, 15]"
      ]
     },
     "execution_count": 9,
     "metadata": {},
     "output_type": "execute_result"
    }
   ],
   "source": [
    "L3 = [randint(1,50) for _ in range(30)]\n",
    "L3[:10]"
   ]
  },
  {
   "cell_type": "code",
   "execution_count": 10,
   "id": "0e509309",
   "metadata": {},
   "outputs": [],
   "source": [
    "def multiplo3(n):\n",
    "    return True if n%3==0 else False"
   ]
  },
  {
   "cell_type": "markdown",
   "id": "5c56abd7",
   "metadata": {},
   "source": [
    "### Filter"
   ]
  },
  {
   "cell_type": "code",
   "execution_count": 11,
   "id": "ee2a96ef",
   "metadata": {},
   "outputs": [
    {
     "data": {
      "text/plain": [
       "[18, 15, 42, 48, 39, 6, 24, 24, 36, 24, 36, 18]"
      ]
     },
     "execution_count": 11,
     "metadata": {},
     "output_type": "execute_result"
    }
   ],
   "source": [
    "obj2 = list(filter(multiplo3, L3))\n",
    "obj2"
   ]
  },
  {
   "cell_type": "markdown",
   "id": "3c4b3b21",
   "metadata": {},
   "source": [
    "### list comprehension"
   ]
  },
  {
   "cell_type": "code",
   "execution_count": 12,
   "id": "c44c7eb1",
   "metadata": {},
   "outputs": [
    {
     "data": {
      "text/plain": [
       "[18, 15, 42, 48, 39, 6, 24, 24, 36, 24, 36, 18]"
      ]
     },
     "execution_count": 12,
     "metadata": {},
     "output_type": "execute_result"
    }
   ],
   "source": [
    "L4 = [i for i in L3 if multiplo3(i)]\n",
    "L4"
   ]
  },
  {
   "cell_type": "code",
   "execution_count": 13,
   "id": "8e04b6e2",
   "metadata": {},
   "outputs": [
    {
     "data": {
      "text/plain": [
       "[18, 15, 42, 48, 39, 6, 24, 24, 36, 24, 36, 18]"
      ]
     },
     "execution_count": 13,
     "metadata": {},
     "output_type": "execute_result"
    }
   ],
   "source": [
    "L5 = [i for i in L3 if i%3==0]\n",
    "L5"
   ]
  },
  {
   "cell_type": "markdown",
   "id": "3f4740c9",
   "metadata": {},
   "source": [
    "Calcular el iva de los multiplos de 3"
   ]
  },
  {
   "cell_type": "code",
   "execution_count": 14,
   "id": "6b33e7bc",
   "metadata": {},
   "outputs": [
    {
     "data": {
      "text/plain": [
       "[3.78, 3.15, 8.82, 10.08, 8.19, 1.26, 5.04, 5.04, 7.56, 5.04, 7.56, 3.78]"
      ]
     },
     "execution_count": 14,
     "metadata": {},
     "output_type": "execute_result"
    }
   ],
   "source": [
    "L6 = [calcularIva(i) for i in L3 if multiplo3(i)]\n",
    "L6"
   ]
  },
  {
   "cell_type": "code",
   "execution_count": 15,
   "id": "549fcb2e",
   "metadata": {},
   "outputs": [
    {
     "data": {
      "text/plain": [
       "[3.78, 3.15, 8.82, 10.08, 8.19, 1.26, 5.04, 5.04, 7.56, 5.04, 7.56, 3.78]"
      ]
     },
     "execution_count": 15,
     "metadata": {},
     "output_type": "execute_result"
    }
   ],
   "source": [
    "obj3 = list(map(calcularIva, filter(multiplo3, L3)))\n",
    "obj3"
   ]
  },
  {
   "cell_type": "code",
   "execution_count": 16,
   "id": "cb82e663",
   "metadata": {},
   "outputs": [
    {
     "data": {
      "text/plain": [
       "[(18, 3.78),\n",
       " (15, 3.15),\n",
       " (42, 8.82),\n",
       " (48, 10.08),\n",
       " (39, 8.19),\n",
       " (6, 1.26),\n",
       " (24, 5.04),\n",
       " (24, 5.04),\n",
       " (36, 7.56),\n",
       " (24, 5.04),\n",
       " (36, 7.56),\n",
       " (18, 3.78)]"
      ]
     },
     "execution_count": 16,
     "metadata": {},
     "output_type": "execute_result"
    }
   ],
   "source": [
    "L7 = [(i, calcularIva(i)) for i in L3 if multiplo3(i)]\n",
    "L7"
   ]
  },
  {
   "cell_type": "code",
   "execution_count": 17,
   "id": "e50941fe",
   "metadata": {},
   "outputs": [
    {
     "data": {
      "text/plain": [
       "{18: 3.78,\n",
       " 15: 3.15,\n",
       " 42: 8.82,\n",
       " 48: 10.08,\n",
       " 39: 8.19,\n",
       " 6: 1.26,\n",
       " 24: 5.04,\n",
       " 36: 7.56}"
      ]
     },
     "execution_count": 17,
     "metadata": {},
     "output_type": "execute_result"
    }
   ],
   "source": [
    "d = {i:calcularIva(i) for i in L3 if multiplo3(i)}\n",
    "d"
   ]
  },
  {
   "cell_type": "code",
   "execution_count": 18,
   "id": "01d4a5bf",
   "metadata": {},
   "outputs": [
    {
     "data": {
      "text/plain": [
       "{1.26, 3.15, 3.78, 5.04, 7.56, 8.19, 8.82, 10.08}"
      ]
     },
     "execution_count": 18,
     "metadata": {},
     "output_type": "execute_result"
    }
   ],
   "source": [
    "c = {calcularIva(i) for i in L3 if multiplo3(i)}\n",
    "c"
   ]
  },
  {
   "cell_type": "code",
   "execution_count": 19,
   "id": "6a824e86",
   "metadata": {},
   "outputs": [
    {
     "data": {
      "text/plain": [
       "(3.78, 3.15, 8.82, 10.08, 8.19, 1.26, 5.04, 5.04, 7.56, 5.04, 7.56, 3.78)"
      ]
     },
     "execution_count": 19,
     "metadata": {},
     "output_type": "execute_result"
    }
   ],
   "source": [
    "t = tuple((calcularIva(i) for i in L3 if multiplo3(i)))\n",
    "t"
   ]
  },
  {
   "cell_type": "code",
   "execution_count": 20,
   "id": "7c10b647",
   "metadata": {},
   "outputs": [
    {
     "data": {
      "text/plain": [
       "[2, 3, 5, 7, 11, 13, 17, 19, 23, 29]"
      ]
     },
     "execution_count": 20,
     "metadata": {},
     "output_type": "execute_result"
    }
   ],
   "source": [
    "primos = [x for x in range(2, 101) if all(x%y for y in range(2, min(x, 11)))]\n",
    "primos[:10]"
   ]
  },
  {
   "cell_type": "code",
   "execution_count": 21,
   "id": "1c50e3b8",
   "metadata": {},
   "outputs": [
    {
     "data": {
      "text/plain": [
       "False"
      ]
     },
     "execution_count": 21,
     "metadata": {},
     "output_type": "execute_result"
    }
   ],
   "source": [
    "all([True, 45, None])"
   ]
  },
  {
   "cell_type": "code",
   "execution_count": 22,
   "id": "a992faa7",
   "metadata": {},
   "outputs": [
    {
     "data": {
      "text/plain": [
       "True"
      ]
     },
     "execution_count": 22,
     "metadata": {},
     "output_type": "execute_result"
    }
   ],
   "source": [
    "any([True, 45, None])"
   ]
  },
  {
   "cell_type": "markdown",
   "id": "74533a6a",
   "metadata": {},
   "source": [
    "### reduce"
   ]
  },
  {
   "cell_type": "code",
   "execution_count": 23,
   "id": "6f9f3432",
   "metadata": {},
   "outputs": [],
   "source": [
    "def sumar(a,b):\n",
    "    print(a,b)\n",
    "    return a+b"
   ]
  },
  {
   "cell_type": "code",
   "execution_count": 24,
   "id": "75a4bdc5",
   "metadata": {},
   "outputs": [],
   "source": [
    "def minimo(a,b):\n",
    "    print(a,b)\n",
    "    return a if a < b else b"
   ]
  },
  {
   "cell_type": "code",
   "execution_count": 25,
   "id": "c3cd5eff",
   "metadata": {},
   "outputs": [
    {
     "name": "stdout",
     "output_type": "stream",
     "text": [
      "30 27\n",
      "57 12\n",
      "69 45\n",
      "114 6\n",
      "120 21\n",
      "141 12\n",
      "153 33\n",
      "186 30\n",
      "216 21\n",
      "237 42\n",
      "279 21\n"
     ]
    },
    {
     "data": {
      "text/plain": [
       "300"
      ]
     },
     "execution_count": 25,
     "metadata": {},
     "output_type": "execute_result"
    }
   ],
   "source": [
    "L = [30, 27, 12, 45, 6, 21, 12, 33, 30, 21, 42, 21]\n",
    "obj = reduce(sumar, L)\n",
    "obj"
   ]
  },
  {
   "cell_type": "code",
   "execution_count": 26,
   "id": "c5a452fe",
   "metadata": {},
   "outputs": [
    {
     "name": "stdout",
     "output_type": "stream",
     "text": [
      "[30, 27, 12, 45, 6, 21, 12, 33, 30, 21, 42, 21]\n",
      "30 27\n",
      "27 12\n",
      "12 45\n",
      "12 6\n",
      "6 21\n",
      "6 12\n",
      "6 33\n",
      "6 30\n",
      "6 21\n",
      "6 42\n",
      "6 21\n"
     ]
    },
    {
     "data": {
      "text/plain": [
       "6"
      ]
     },
     "execution_count": 26,
     "metadata": {},
     "output_type": "execute_result"
    }
   ],
   "source": [
    "print(L)\n",
    "obj = reduce(minimo, L)\n",
    "obj"
   ]
  },
  {
   "cell_type": "code",
   "execution_count": 35,
   "id": "f6b60b1f",
   "metadata": {},
   "outputs": [],
   "source": [
    "def mejorCandidato(c1, c2):        \n",
    "    if c1['exp'] > c2['exp']:\n",
    "        return c1\n",
    "    elif c2['exp'] > c1['exp']:\n",
    "        return c2\n",
    "    else:\n",
    "        if c1['emp'] > c2['emp']:\n",
    "            return c1\n",
    "        elif c2['emp'] > c1['emp']:\n",
    "            return c2\n",
    "        else:\n",
    "            if c1['sup'] and not c2['sup']:\n",
    "                return c1\n",
    "            elif c2['sup'] and not c1['sup']:\n",
    "                return c2\n",
    "            else:\n",
    "                return c1"
   ]
  },
  {
   "cell_type": "code",
   "execution_count": 36,
   "id": "f0f3b725",
   "metadata": {},
   "outputs": [
    {
     "name": "stdout",
     "output_type": "stream",
     "text": [
      "{'nombre': 'aaaaa', 'exp': 3, 'emp': 8, 'sup': True}\n",
      "{'nombre': 'bbbbb', 'exp': 11, 'emp': 1, 'sup': False}\n",
      "{'nombre': 'ccccc', 'exp': 2, 'emp': 1, 'sup': False}\n",
      "{'nombre': 'ddddd', 'exp': 8, 'emp': 8, 'sup': False}\n",
      "{'nombre': 'eeeee', 'exp': 10, 'emp': 3, 'sup': True}\n",
      "{'nombre': 'fffff', 'exp': 7, 'emp': 8, 'sup': False}\n",
      "{'nombre': 'ggggg', 'exp': 3, 'emp': 8, 'sup': False}\n",
      "{'nombre': 'hhhhh', 'exp': 8, 'emp': 3, 'sup': True}\n",
      "{'nombre': 'iiiii', 'exp': 9, 'emp': 8, 'sup': False}\n",
      "{'nombre': 'jjjjj', 'exp': 7, 'emp': 8, 'sup': False}\n",
      "{'nombre': 'kkkkk', 'exp': 11, 'emp': 1, 'sup': True}\n",
      "{'nombre': 'lllll', 'exp': 12, 'emp': 6, 'sup': True}\n",
      "{'nombre': 'mmmmm', 'exp': 10, 'emp': 1, 'sup': False}\n",
      "{'nombre': 'nnnnn', 'exp': 5, 'emp': 7, 'sup': False}\n",
      "{'nombre': 'ooooo', 'exp': 2, 'emp': 3, 'sup': False}\n",
      "{'nombre': 'ppppp', 'exp': 6, 'emp': 3, 'sup': False}\n",
      "{'nombre': 'qqqqq', 'exp': 12, 'emp': 5, 'sup': False}\n",
      "{'nombre': 'rrrrr', 'exp': 12, 'emp': 3, 'sup': False}\n",
      "{'nombre': 'sssss', 'exp': 8, 'emp': 5, 'sup': True}\n",
      "{'nombre': 'ttttt', 'exp': 2, 'emp': 7, 'sup': True}\n",
      "{'nombre': 'uuuuu', 'exp': 4, 'emp': 8, 'sup': False}\n",
      "{'nombre': 'vvvvv', 'exp': 8, 'emp': 5, 'sup': True}\n",
      "{'nombre': 'wwwww', 'exp': 5, 'emp': 6, 'sup': True}\n",
      "{'nombre': 'xxxxx', 'exp': 4, 'emp': 1, 'sup': True}\n",
      "{'nombre': 'yyyyy', 'exp': 2, 'emp': 5, 'sup': True}\n",
      "{'nombre': 'zzzzz', 'exp': 6, 'emp': 3, 'sup': True}\n",
      "{'nombre': 'AAAAA', 'exp': 5, 'emp': 1, 'sup': False}\n",
      "{'nombre': 'BBBBB', 'exp': 8, 'emp': 8, 'sup': True}\n",
      "{'nombre': 'CCCCC', 'exp': 12, 'emp': 8, 'sup': True}\n",
      "{'nombre': 'DDDDD', 'exp': 6, 'emp': 8, 'sup': True}\n",
      "{'nombre': 'EEEEE', 'exp': 9, 'emp': 4, 'sup': False}\n",
      "{'nombre': 'FFFFF', 'exp': 9, 'emp': 5, 'sup': False}\n",
      "{'nombre': 'GGGGG', 'exp': 10, 'emp': 6, 'sup': False}\n",
      "{'nombre': 'HHHHH', 'exp': 10, 'emp': 7, 'sup': False}\n",
      "{'nombre': 'IIIII', 'exp': 6, 'emp': 1, 'sup': False}\n",
      "{'nombre': 'JJJJJ', 'exp': 9, 'emp': 1, 'sup': True}\n",
      "{'nombre': 'KKKKK', 'exp': 9, 'emp': 1, 'sup': True}\n",
      "{'nombre': 'LLLLL', 'exp': 11, 'emp': 1, 'sup': True}\n",
      "{'nombre': 'MMMMM', 'exp': 5, 'emp': 1, 'sup': True}\n",
      "{'nombre': 'NNNNN', 'exp': 5, 'emp': 8, 'sup': True}\n",
      "{'nombre': 'OOOOO', 'exp': 2, 'emp': 7, 'sup': False}\n",
      "{'nombre': 'PPPPP', 'exp': 2, 'emp': 2, 'sup': False}\n",
      "{'nombre': 'QQQQQ', 'exp': 4, 'emp': 1, 'sup': True}\n",
      "{'nombre': 'RRRRR', 'exp': 4, 'emp': 1, 'sup': False}\n",
      "{'nombre': 'SSSSS', 'exp': 2, 'emp': 5, 'sup': False}\n",
      "{'nombre': 'TTTTT', 'exp': 2, 'emp': 3, 'sup': True}\n",
      "{'nombre': 'UUUUU', 'exp': 10, 'emp': 7, 'sup': True}\n",
      "{'nombre': 'VVVVV', 'exp': 4, 'emp': 8, 'sup': False}\n",
      "{'nombre': 'WWWWW', 'exp': 11, 'emp': 6, 'sup': False}\n",
      "{'nombre': 'XXXXX', 'exp': 5, 'emp': 7, 'sup': True}\n",
      "{'nombre': 'YYYYY', 'exp': 9, 'emp': 5, 'sup': False}\n",
      "{'nombre': 'ZZZZZ', 'exp': 8, 'emp': 6, 'sup': True}\n"
     ]
    }
   ],
   "source": [
    "candidatos = [{\"nombre\":letra*5,\"exp\":randint(2,12), \"emp\":randint(1,8), \"sup\": True if randint(1,10)%2==0 else False} \n",
    "              for letra in ascii_letters]\n",
    "for c in candidatos:\n",
    "    print(c)"
   ]
  },
  {
   "cell_type": "code",
   "execution_count": 37,
   "id": "c0b41a00",
   "metadata": {},
   "outputs": [
    {
     "data": {
      "text/plain": [
       "{'nombre': 'CCCCC', 'exp': 12, 'emp': 8, 'sup': True}"
      ]
     },
     "execution_count": 37,
     "metadata": {},
     "output_type": "execute_result"
    }
   ],
   "source": [
    "mejor = reduce(mejorCandidato, candidatos)\n",
    "mejor"
   ]
  },
  {
   "cell_type": "code",
   "execution_count": null,
   "id": "2ba5febb",
   "metadata": {},
   "outputs": [],
   "source": []
  }
 ],
 "metadata": {
  "kernelspec": {
   "display_name": "Python 3 (ipykernel)",
   "language": "python",
   "name": "python3"
  },
  "language_info": {
   "codemirror_mode": {
    "name": "ipython",
    "version": 3
   },
   "file_extension": ".py",
   "mimetype": "text/x-python",
   "name": "python",
   "nbconvert_exporter": "python",
   "pygments_lexer": "ipython3",
   "version": "3.8.5"
  }
 },
 "nbformat": 4,
 "nbformat_minor": 5
}

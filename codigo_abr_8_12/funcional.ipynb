{
 "cells": [
  {
   "cell_type": "markdown",
   "id": "3e33a6fa",
   "metadata": {},
   "source": [
    "## Programación funcional en Python"
   ]
  },
  {
   "cell_type": "markdown",
   "id": "8413307f",
   "metadata": {},
   "source": [
    "- list comprehension\n",
    "- iteradores: map, filter, reduce\n",
    "- generadores\n",
    "- decoradores"
   ]
  },
  {
   "cell_type": "code",
   "execution_count": 9,
   "id": "ec5fb898",
   "metadata": {},
   "outputs": [],
   "source": [
    "from random import randint"
   ]
  },
  {
   "cell_type": "code",
   "execution_count": 1,
   "id": "46386b72",
   "metadata": {},
   "outputs": [],
   "source": [
    "def calcularIva(precio):\n",
    "    return round(precio * 0.21, 2)"
   ]
  },
  {
   "cell_type": "code",
   "execution_count": 2,
   "id": "82863bb5",
   "metadata": {},
   "outputs": [
    {
     "data": {
      "text/plain": [
       "21.0"
      ]
     },
     "execution_count": 2,
     "metadata": {},
     "output_type": "execute_result"
    }
   ],
   "source": [
    "calcularIva(100)"
   ]
  },
  {
   "cell_type": "code",
   "execution_count": 3,
   "id": "e220755f",
   "metadata": {},
   "outputs": [
    {
     "data": {
      "text/plain": [
       "[117.6, 1050.0, 252.0, 515.76, 71.4]"
      ]
     },
     "execution_count": 3,
     "metadata": {},
     "output_type": "execute_result"
    }
   ],
   "source": [
    "precios = [560, 5000, 1200, 2456, 340]\n",
    "iva = []\n",
    "for p in precios:\n",
    "    iva.append(calcularIva(p))\n",
    "iva"
   ]
  },
  {
   "cell_type": "markdown",
   "id": "6a7cc129",
   "metadata": {},
   "source": [
    "### map"
   ]
  },
  {
   "cell_type": "code",
   "execution_count": 6,
   "id": "c5551615",
   "metadata": {},
   "outputs": [
    {
     "data": {
      "text/plain": [
       "[117.6, 1050.0, 252.0, 515.76, 71.4]"
      ]
     },
     "execution_count": 6,
     "metadata": {},
     "output_type": "execute_result"
    }
   ],
   "source": [
    "obj = list(map(calcularIva, precios))\n",
    "obj"
   ]
  },
  {
   "cell_type": "markdown",
   "id": "a93aebd3",
   "metadata": {},
   "source": [
    "### list comprehension"
   ]
  },
  {
   "cell_type": "code",
   "execution_count": 7,
   "id": "49f020da",
   "metadata": {},
   "outputs": [
    {
     "data": {
      "text/plain": [
       "[117.6, 1050.0, 252.0, 515.76, 71.4]"
      ]
     },
     "execution_count": 7,
     "metadata": {},
     "output_type": "execute_result"
    }
   ],
   "source": [
    "L = [calcularIva(i) for i in precios]\n",
    "L"
   ]
  },
  {
   "cell_type": "code",
   "execution_count": 8,
   "id": "885716bc",
   "metadata": {},
   "outputs": [
    {
     "data": {
      "text/plain": [
       "[117.6, 1050.0, 252.0, 515.76, 71.4]"
      ]
     },
     "execution_count": 8,
     "metadata": {},
     "output_type": "execute_result"
    }
   ],
   "source": [
    "L2 = [round(precio * 0.21, 2) for precio in precios]\n",
    "L2"
   ]
  },
  {
   "cell_type": "code",
   "execution_count": null,
   "id": "d92f9063",
   "metadata": {},
   "outputs": [],
   "source": []
  }
 ],
 "metadata": {
  "kernelspec": {
   "display_name": "Python 3 (ipykernel)",
   "language": "python",
   "name": "python3"
  },
  "language_info": {
   "codemirror_mode": {
    "name": "ipython",
    "version": 3
   },
   "file_extension": ".py",
   "mimetype": "text/x-python",
   "name": "python",
   "nbconvert_exporter": "python",
   "pygments_lexer": "ipython3",
   "version": "3.8.5"
  }
 },
 "nbformat": 4,
 "nbformat_minor": 5
}

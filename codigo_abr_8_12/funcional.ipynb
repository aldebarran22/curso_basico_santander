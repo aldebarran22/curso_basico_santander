{
 "cells": [
  {
   "cell_type": "markdown",
   "id": "d64e6cbf",
   "metadata": {},
   "source": [
    "## Programación funcional en Python"
   ]
  },
  {
   "cell_type": "markdown",
   "id": "71f76497",
   "metadata": {},
   "source": [
    "- list comprehension\n",
    "- iteradores: map, filter, reduce\n",
    "- generadores\n",
    "- decoradores"
   ]
  },
  {
   "cell_type": "code",
   "execution_count": 32,
   "id": "a348b866",
   "metadata": {},
   "outputs": [],
   "source": [
    "from random import randint\n",
    "from functools import reduce"
   ]
  },
  {
   "cell_type": "code",
   "execution_count": 1,
   "id": "56f69e9a",
   "metadata": {},
   "outputs": [],
   "source": [
    "def calcularIva(precio):\n",
    "    return round(precio * 0.21, 2)"
   ]
  },
  {
   "cell_type": "code",
   "execution_count": 2,
   "id": "3eb46f17",
   "metadata": {},
   "outputs": [
    {
     "data": {
      "text/plain": [
       "21.0"
      ]
     },
     "execution_count": 2,
     "metadata": {},
     "output_type": "execute_result"
    }
   ],
   "source": [
    "calcularIva(100)"
   ]
  },
  {
   "cell_type": "code",
   "execution_count": 3,
   "id": "16b8966b",
   "metadata": {},
   "outputs": [
    {
     "data": {
      "text/plain": [
       "[117.6, 1050.0, 252.0, 515.76, 71.4]"
      ]
     },
     "execution_count": 3,
     "metadata": {},
     "output_type": "execute_result"
    }
   ],
   "source": [
    "precios = [560, 5000, 1200, 2456, 340]\n",
    "iva = []\n",
    "for p in precios:\n",
    "    iva.append(calcularIva(p))\n",
    "iva"
   ]
  },
  {
   "cell_type": "markdown",
   "id": "9f02f284",
   "metadata": {},
   "source": [
    "### map"
   ]
  },
  {
   "cell_type": "code",
   "execution_count": 6,
   "id": "d8839390",
   "metadata": {},
   "outputs": [
    {
     "data": {
      "text/plain": [
       "[117.6, 1050.0, 252.0, 515.76, 71.4]"
      ]
     },
     "execution_count": 6,
     "metadata": {},
     "output_type": "execute_result"
    }
   ],
   "source": [
    "obj = list(map(calcularIva, precios))\n",
    "obj"
   ]
  },
  {
   "cell_type": "markdown",
   "id": "c075df64",
   "metadata": {},
   "source": [
    "### list comprehension"
   ]
  },
  {
   "cell_type": "code",
   "execution_count": 7,
   "id": "f7dd796a",
   "metadata": {},
   "outputs": [
    {
     "data": {
      "text/plain": [
       "[117.6, 1050.0, 252.0, 515.76, 71.4]"
      ]
     },
     "execution_count": 7,
     "metadata": {},
     "output_type": "execute_result"
    }
   ],
   "source": [
    "L = [calcularIva(i) for i in precios]\n",
    "L"
   ]
  },
  {
   "cell_type": "code",
   "execution_count": 8,
   "id": "18b58918",
   "metadata": {},
   "outputs": [
    {
     "data": {
      "text/plain": [
       "[117.6, 1050.0, 252.0, 515.76, 71.4]"
      ]
     },
     "execution_count": 8,
     "metadata": {},
     "output_type": "execute_result"
    }
   ],
   "source": [
    "L2 = [round(precio * 0.21, 2) for precio in precios]\n",
    "L2"
   ]
  },
  {
   "cell_type": "code",
   "execution_count": 10,
   "id": "85e1a015",
   "metadata": {},
   "outputs": [
    {
     "data": {
      "text/plain": [
       "8"
      ]
     },
     "execution_count": 10,
     "metadata": {},
     "output_type": "execute_result"
    }
   ],
   "source": [
    "randint(1,40)"
   ]
  },
  {
   "cell_type": "markdown",
   "id": "fdddec89",
   "metadata": {},
   "source": [
    "Generar una lista de 30 números aleatorios entre 1 y 50"
   ]
  },
  {
   "cell_type": "code",
   "execution_count": 16,
   "id": "968b8656",
   "metadata": {},
   "outputs": [
    {
     "data": {
      "text/plain": [
       "[35, 30, 27, 44, 43, 12, 14, 25, 41, 29]"
      ]
     },
     "execution_count": 16,
     "metadata": {},
     "output_type": "execute_result"
    }
   ],
   "source": [
    "L3 = [randint(1,50) for _ in range(30)]\n",
    "L3[:10]"
   ]
  },
  {
   "cell_type": "code",
   "execution_count": 12,
   "id": "396bb3da",
   "metadata": {},
   "outputs": [],
   "source": [
    "def multiplo3(n):\n",
    "    return True if n%3==0 else False"
   ]
  },
  {
   "cell_type": "markdown",
   "id": "1a3b857c",
   "metadata": {},
   "source": [
    "### Filter"
   ]
  },
  {
   "cell_type": "code",
   "execution_count": 18,
   "id": "8b259c02",
   "metadata": {},
   "outputs": [
    {
     "data": {
      "text/plain": [
       "[30, 27, 12, 45, 6, 21, 12, 33, 30, 21, 42, 21]"
      ]
     },
     "execution_count": 18,
     "metadata": {},
     "output_type": "execute_result"
    }
   ],
   "source": [
    "obj2 = list(filter(multiplo3, L3))\n",
    "obj2"
   ]
  },
  {
   "cell_type": "markdown",
   "id": "4b88c399",
   "metadata": {},
   "source": [
    "### list comprehension"
   ]
  },
  {
   "cell_type": "code",
   "execution_count": 17,
   "id": "01995e8c",
   "metadata": {},
   "outputs": [
    {
     "data": {
      "text/plain": [
       "[30, 27, 12, 45, 6, 21, 12, 33, 30, 21, 42, 21]"
      ]
     },
     "execution_count": 17,
     "metadata": {},
     "output_type": "execute_result"
    }
   ],
   "source": [
    "L4 = [i for i in L3 if multiplo3(i)]\n",
    "L4"
   ]
  },
  {
   "cell_type": "code",
   "execution_count": 19,
   "id": "c7336f05",
   "metadata": {},
   "outputs": [
    {
     "data": {
      "text/plain": [
       "[30, 27, 12, 45, 6, 21, 12, 33, 30, 21, 42, 21]"
      ]
     },
     "execution_count": 19,
     "metadata": {},
     "output_type": "execute_result"
    }
   ],
   "source": [
    "L5 = [i for i in L3 if i%3==0]\n",
    "L5"
   ]
  },
  {
   "cell_type": "markdown",
   "id": "b31e123d",
   "metadata": {},
   "source": [
    "Calcular el iva de los multiplos de 3"
   ]
  },
  {
   "cell_type": "code",
   "execution_count": 20,
   "id": "08aeea41",
   "metadata": {},
   "outputs": [
    {
     "data": {
      "text/plain": [
       "[6.3, 5.67, 2.52, 9.45, 1.26, 4.41, 2.52, 6.93, 6.3, 4.41, 8.82, 4.41]"
      ]
     },
     "execution_count": 20,
     "metadata": {},
     "output_type": "execute_result"
    }
   ],
   "source": [
    "L6 = [calcularIva(i) for i in L3 if multiplo3(i)]\n",
    "L6"
   ]
  },
  {
   "cell_type": "code",
   "execution_count": 21,
   "id": "0f665e8d",
   "metadata": {},
   "outputs": [
    {
     "data": {
      "text/plain": [
       "[6.3, 5.67, 2.52, 9.45, 1.26, 4.41, 2.52, 6.93, 6.3, 4.41, 8.82, 4.41]"
      ]
     },
     "execution_count": 21,
     "metadata": {},
     "output_type": "execute_result"
    }
   ],
   "source": [
    "obj3 = list(map(calcularIva, filter(multiplo3, L3)))\n",
    "obj3"
   ]
  },
  {
   "cell_type": "code",
   "execution_count": 22,
   "id": "2034c446",
   "metadata": {},
   "outputs": [
    {
     "data": {
      "text/plain": [
       "[(30, 6.3),\n",
       " (27, 5.67),\n",
       " (12, 2.52),\n",
       " (45, 9.45),\n",
       " (6, 1.26),\n",
       " (21, 4.41),\n",
       " (12, 2.52),\n",
       " (33, 6.93),\n",
       " (30, 6.3),\n",
       " (21, 4.41),\n",
       " (42, 8.82),\n",
       " (21, 4.41)]"
      ]
     },
     "execution_count": 22,
     "metadata": {},
     "output_type": "execute_result"
    }
   ],
   "source": [
    "L7 = [(i, calcularIva(i)) for i in L3 if multiplo3(i)]\n",
    "L7"
   ]
  },
  {
   "cell_type": "code",
   "execution_count": 23,
   "id": "895f1467",
   "metadata": {},
   "outputs": [
    {
     "data": {
      "text/plain": [
       "{30: 6.3, 27: 5.67, 12: 2.52, 45: 9.45, 6: 1.26, 21: 4.41, 33: 6.93, 42: 8.82}"
      ]
     },
     "execution_count": 23,
     "metadata": {},
     "output_type": "execute_result"
    }
   ],
   "source": [
    "d = {i:calcularIva(i) for i in L3 if multiplo3(i)}\n",
    "d"
   ]
  },
  {
   "cell_type": "code",
   "execution_count": 24,
   "id": "19af4c31",
   "metadata": {},
   "outputs": [
    {
     "data": {
      "text/plain": [
       "{1.26, 2.52, 4.41, 5.67, 6.3, 6.93, 8.82, 9.45}"
      ]
     },
     "execution_count": 24,
     "metadata": {},
     "output_type": "execute_result"
    }
   ],
   "source": [
    "c = {calcularIva(i) for i in L3 if multiplo3(i)}\n",
    "c"
   ]
  },
  {
   "cell_type": "code",
   "execution_count": 26,
   "id": "0dad49ed",
   "metadata": {},
   "outputs": [
    {
     "data": {
      "text/plain": [
       "(6.3, 5.67, 2.52, 9.45, 1.26, 4.41, 2.52, 6.93, 6.3, 4.41, 8.82, 4.41)"
      ]
     },
     "execution_count": 26,
     "metadata": {},
     "output_type": "execute_result"
    }
   ],
   "source": [
    "t = tuple((calcularIva(i) for i in L3 if multiplo3(i)))\n",
    "t"
   ]
  },
  {
   "cell_type": "code",
   "execution_count": 28,
   "id": "9524a068",
   "metadata": {},
   "outputs": [
    {
     "data": {
      "text/plain": [
       "[2, 3, 5, 7, 11, 13, 17, 19, 23, 29]"
      ]
     },
     "execution_count": 28,
     "metadata": {},
     "output_type": "execute_result"
    }
   ],
   "source": [
    "primos = [x for x in range(2, 101) if all(x%y for y in range(2, min(x, 11)))]\n",
    "primos[:10]"
   ]
  },
  {
   "cell_type": "code",
   "execution_count": 30,
   "id": "6f33a157",
   "metadata": {},
   "outputs": [
    {
     "data": {
      "text/plain": [
       "False"
      ]
     },
     "execution_count": 30,
     "metadata": {},
     "output_type": "execute_result"
    }
   ],
   "source": [
    "all([True, 45, None])"
   ]
  },
  {
   "cell_type": "code",
   "execution_count": 31,
   "id": "30571502",
   "metadata": {},
   "outputs": [
    {
     "data": {
      "text/plain": [
       "True"
      ]
     },
     "execution_count": 31,
     "metadata": {},
     "output_type": "execute_result"
    }
   ],
   "source": [
    "any([True, 45, None])"
   ]
  },
  {
   "cell_type": "markdown",
   "id": "46b69244",
   "metadata": {},
   "source": [
    "### reduce"
   ]
  },
  {
   "cell_type": "code",
   "execution_count": 33,
   "id": "ac7b9f47",
   "metadata": {},
   "outputs": [],
   "source": [
    "def sumar(a,b):\n",
    "    print(a,b)\n",
    "    return a+b"
   ]
  },
  {
   "cell_type": "code",
   "execution_count": null,
   "id": "52d6ea21",
   "metadata": {},
   "outputs": [],
   "source": [
    "L = [2, 3, 5, 7, 11, 13, 17, 19, 23, 29]\n",
    "obj = reduce(sumar, L)\n",
    "obj"
   ]
  }
 ],
 "metadata": {
  "kernelspec": {
   "display_name": "Python 3 (ipykernel)",
   "language": "python",
   "name": "python3"
  },
  "language_info": {
   "codemirror_mode": {
    "name": "ipython",
    "version": 3
   },
   "file_extension": ".py",
   "mimetype": "text/x-python",
   "name": "python",
   "nbconvert_exporter": "python",
   "pygments_lexer": "ipython3",
   "version": "3.8.5"
  }
 },
 "nbformat": 4,
 "nbformat_minor": 5
}

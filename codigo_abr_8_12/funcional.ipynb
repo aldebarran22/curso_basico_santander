{
 "cells": [
  {
   "cell_type": "markdown",
   "id": "03dbd033",
   "metadata": {},
   "source": [
    "## Programación funcional en Python"
   ]
  },
  {
   "cell_type": "markdown",
   "id": "a2bd7b28",
   "metadata": {},
   "source": [
    "- list comprehension\n",
    "- iteradores: map, filter, reduce\n",
    "- Funciones lambda\n",
    "- generadores\n",
    "- decoradores"
   ]
  },
  {
   "cell_type": "code",
   "execution_count": 1,
   "id": "1bd9e48e",
   "metadata": {},
   "outputs": [],
   "source": [
    "from random import randint\n",
    "from functools import reduce\n",
    "from string import ascii_letters"
   ]
  },
  {
   "cell_type": "code",
   "execution_count": 2,
   "id": "4746a449",
   "metadata": {},
   "outputs": [],
   "source": [
    "def calcularIva(precio):\n",
    "    return round(precio * 0.21, 2)"
   ]
  },
  {
   "cell_type": "code",
   "execution_count": 3,
   "id": "38b65e74",
   "metadata": {},
   "outputs": [
    {
     "data": {
      "text/plain": [
       "21.0"
      ]
     },
     "execution_count": 3,
     "metadata": {},
     "output_type": "execute_result"
    }
   ],
   "source": [
    "calcularIva(100)"
   ]
  },
  {
   "cell_type": "code",
   "execution_count": 4,
   "id": "356f5ac4",
   "metadata": {},
   "outputs": [
    {
     "data": {
      "text/plain": [
       "[117.6, 1050.0, 252.0, 515.76, 71.4]"
      ]
     },
     "execution_count": 4,
     "metadata": {},
     "output_type": "execute_result"
    }
   ],
   "source": [
    "precios = [560, 5000, 1200, 2456, 340]\n",
    "iva = []\n",
    "for p in precios:\n",
    "    iva.append(calcularIva(p))\n",
    "iva"
   ]
  },
  {
   "cell_type": "markdown",
   "id": "15198df2",
   "metadata": {},
   "source": [
    "### map"
   ]
  },
  {
   "cell_type": "code",
   "execution_count": 5,
   "id": "adb08453",
   "metadata": {},
   "outputs": [
    {
     "data": {
      "text/plain": [
       "[117.6, 1050.0, 252.0, 515.76, 71.4]"
      ]
     },
     "execution_count": 5,
     "metadata": {},
     "output_type": "execute_result"
    }
   ],
   "source": [
    "obj = list(map(calcularIva, precios))\n",
    "obj"
   ]
  },
  {
   "cell_type": "markdown",
   "id": "525253a1",
   "metadata": {},
   "source": [
    "### list comprehension"
   ]
  },
  {
   "cell_type": "code",
   "execution_count": 6,
   "id": "b3437309",
   "metadata": {},
   "outputs": [
    {
     "data": {
      "text/plain": [
       "[117.6, 1050.0, 252.0, 515.76, 71.4]"
      ]
     },
     "execution_count": 6,
     "metadata": {},
     "output_type": "execute_result"
    }
   ],
   "source": [
    "L = [calcularIva(i) for i in precios]\n",
    "L"
   ]
  },
  {
   "cell_type": "code",
   "execution_count": 7,
   "id": "5b8534fb",
   "metadata": {},
   "outputs": [
    {
     "data": {
      "text/plain": [
       "[117.6, 1050.0, 252.0, 515.76, 71.4]"
      ]
     },
     "execution_count": 7,
     "metadata": {},
     "output_type": "execute_result"
    }
   ],
   "source": [
    "L2 = [round(precio * 0.21, 2) for precio in precios]\n",
    "L2"
   ]
  },
  {
   "cell_type": "code",
   "execution_count": 8,
   "id": "29b448d0",
   "metadata": {},
   "outputs": [
    {
     "data": {
      "text/plain": [
       "26"
      ]
     },
     "execution_count": 8,
     "metadata": {},
     "output_type": "execute_result"
    }
   ],
   "source": [
    "randint(1,40)"
   ]
  },
  {
   "cell_type": "markdown",
   "id": "2651883b",
   "metadata": {},
   "source": [
    "Generar una lista de 30 números aleatorios entre 1 y 50"
   ]
  },
  {
   "cell_type": "code",
   "execution_count": 9,
   "id": "75fd7807",
   "metadata": {},
   "outputs": [
    {
     "data": {
      "text/plain": [
       "[40, 8, 44, 40, 29, 29, 18, 7, 5, 15]"
      ]
     },
     "execution_count": 9,
     "metadata": {},
     "output_type": "execute_result"
    }
   ],
   "source": [
    "L3 = [randint(1,50) for _ in range(30)]\n",
    "L3[:10]"
   ]
  },
  {
   "cell_type": "code",
   "execution_count": 10,
   "id": "d4ab3377",
   "metadata": {},
   "outputs": [],
   "source": [
    "def multiplo3(n):\n",
    "    return True if n%3==0 else False"
   ]
  },
  {
   "cell_type": "markdown",
   "id": "cf2e5674",
   "metadata": {},
   "source": [
    "### Filter"
   ]
  },
  {
   "cell_type": "code",
   "execution_count": 11,
   "id": "916637ca",
   "metadata": {},
   "outputs": [
    {
     "data": {
      "text/plain": [
       "[18, 15, 42, 48, 39, 6, 24, 24, 36, 24, 36, 18]"
      ]
     },
     "execution_count": 11,
     "metadata": {},
     "output_type": "execute_result"
    }
   ],
   "source": [
    "obj2 = list(filter(multiplo3, L3))\n",
    "obj2"
   ]
  },
  {
   "cell_type": "markdown",
   "id": "4940f3d5",
   "metadata": {},
   "source": [
    "### list comprehension"
   ]
  },
  {
   "cell_type": "code",
   "execution_count": 12,
   "id": "38db8563",
   "metadata": {},
   "outputs": [
    {
     "data": {
      "text/plain": [
       "[18, 15, 42, 48, 39, 6, 24, 24, 36, 24, 36, 18]"
      ]
     },
     "execution_count": 12,
     "metadata": {},
     "output_type": "execute_result"
    }
   ],
   "source": [
    "L4 = [i for i in L3 if multiplo3(i)]\n",
    "L4"
   ]
  },
  {
   "cell_type": "code",
   "execution_count": 13,
   "id": "a01dccd9",
   "metadata": {},
   "outputs": [
    {
     "data": {
      "text/plain": [
       "[18, 15, 42, 48, 39, 6, 24, 24, 36, 24, 36, 18]"
      ]
     },
     "execution_count": 13,
     "metadata": {},
     "output_type": "execute_result"
    }
   ],
   "source": [
    "L5 = [i for i in L3 if i%3==0]\n",
    "L5"
   ]
  },
  {
   "cell_type": "markdown",
   "id": "a37ca08c",
   "metadata": {},
   "source": [
    "Calcular el iva de los multiplos de 3"
   ]
  },
  {
   "cell_type": "code",
   "execution_count": 14,
   "id": "7bf75797",
   "metadata": {},
   "outputs": [
    {
     "data": {
      "text/plain": [
       "[3.78, 3.15, 8.82, 10.08, 8.19, 1.26, 5.04, 5.04, 7.56, 5.04, 7.56, 3.78]"
      ]
     },
     "execution_count": 14,
     "metadata": {},
     "output_type": "execute_result"
    }
   ],
   "source": [
    "L6 = [calcularIva(i) for i in L3 if multiplo3(i)]\n",
    "L6"
   ]
  },
  {
   "cell_type": "code",
   "execution_count": 15,
   "id": "3d95c37b",
   "metadata": {},
   "outputs": [
    {
     "data": {
      "text/plain": [
       "[3.78, 3.15, 8.82, 10.08, 8.19, 1.26, 5.04, 5.04, 7.56, 5.04, 7.56, 3.78]"
      ]
     },
     "execution_count": 15,
     "metadata": {},
     "output_type": "execute_result"
    }
   ],
   "source": [
    "obj3 = list(map(calcularIva, filter(multiplo3, L3)))\n",
    "obj3"
   ]
  },
  {
   "cell_type": "code",
   "execution_count": 16,
   "id": "d08b80c3",
   "metadata": {},
   "outputs": [
    {
     "data": {
      "text/plain": [
       "[(18, 3.78),\n",
       " (15, 3.15),\n",
       " (42, 8.82),\n",
       " (48, 10.08),\n",
       " (39, 8.19),\n",
       " (6, 1.26),\n",
       " (24, 5.04),\n",
       " (24, 5.04),\n",
       " (36, 7.56),\n",
       " (24, 5.04),\n",
       " (36, 7.56),\n",
       " (18, 3.78)]"
      ]
     },
     "execution_count": 16,
     "metadata": {},
     "output_type": "execute_result"
    }
   ],
   "source": [
    "L7 = [(i, calcularIva(i)) for i in L3 if multiplo3(i)]\n",
    "L7"
   ]
  },
  {
   "cell_type": "code",
   "execution_count": 17,
   "id": "fc48da6d",
   "metadata": {},
   "outputs": [
    {
     "data": {
      "text/plain": [
       "{18: 3.78,\n",
       " 15: 3.15,\n",
       " 42: 8.82,\n",
       " 48: 10.08,\n",
       " 39: 8.19,\n",
       " 6: 1.26,\n",
       " 24: 5.04,\n",
       " 36: 7.56}"
      ]
     },
     "execution_count": 17,
     "metadata": {},
     "output_type": "execute_result"
    }
   ],
   "source": [
    "d = {i:calcularIva(i) for i in L3 if multiplo3(i)}\n",
    "d"
   ]
  },
  {
   "cell_type": "code",
   "execution_count": 18,
   "id": "3fb32dd5",
   "metadata": {},
   "outputs": [
    {
     "data": {
      "text/plain": [
       "{1.26, 3.15, 3.78, 5.04, 7.56, 8.19, 8.82, 10.08}"
      ]
     },
     "execution_count": 18,
     "metadata": {},
     "output_type": "execute_result"
    }
   ],
   "source": [
    "c = {calcularIva(i) for i in L3 if multiplo3(i)}\n",
    "c"
   ]
  },
  {
   "cell_type": "code",
   "execution_count": 19,
   "id": "b036a18f",
   "metadata": {},
   "outputs": [
    {
     "data": {
      "text/plain": [
       "(3.78, 3.15, 8.82, 10.08, 8.19, 1.26, 5.04, 5.04, 7.56, 5.04, 7.56, 3.78)"
      ]
     },
     "execution_count": 19,
     "metadata": {},
     "output_type": "execute_result"
    }
   ],
   "source": [
    "t = tuple((calcularIva(i) for i in L3 if multiplo3(i)))\n",
    "t"
   ]
  },
  {
   "cell_type": "code",
   "execution_count": 20,
   "id": "d37d9d2b",
   "metadata": {},
   "outputs": [
    {
     "data": {
      "text/plain": [
       "[2, 3, 5, 7, 11, 13, 17, 19, 23, 29]"
      ]
     },
     "execution_count": 20,
     "metadata": {},
     "output_type": "execute_result"
    }
   ],
   "source": [
    "primos = [x for x in range(2, 101) if all(x%y for y in range(2, min(x, 11)))]\n",
    "primos[:10]"
   ]
  },
  {
   "cell_type": "code",
   "execution_count": 21,
   "id": "83be9183",
   "metadata": {},
   "outputs": [
    {
     "data": {
      "text/plain": [
       "False"
      ]
     },
     "execution_count": 21,
     "metadata": {},
     "output_type": "execute_result"
    }
   ],
   "source": [
    "all([True, 45, None])"
   ]
  },
  {
   "cell_type": "code",
   "execution_count": 22,
   "id": "5940b5f9",
   "metadata": {},
   "outputs": [
    {
     "data": {
      "text/plain": [
       "True"
      ]
     },
     "execution_count": 22,
     "metadata": {},
     "output_type": "execute_result"
    }
   ],
   "source": [
    "any([True, 45, None])"
   ]
  },
  {
   "cell_type": "markdown",
   "id": "5ae1830f",
   "metadata": {},
   "source": [
    "### reduce"
   ]
  },
  {
   "cell_type": "code",
   "execution_count": 23,
   "id": "e8fb443c",
   "metadata": {},
   "outputs": [],
   "source": [
    "def sumar(a,b):\n",
    "    print(a,b)\n",
    "    return a+b"
   ]
  },
  {
   "cell_type": "code",
   "execution_count": 24,
   "id": "7fcc2262",
   "metadata": {},
   "outputs": [],
   "source": [
    "def minimo(a,b):\n",
    "    print(a,b)\n",
    "    return a if a < b else b"
   ]
  },
  {
   "cell_type": "code",
   "execution_count": 25,
   "id": "5368d4e1",
   "metadata": {},
   "outputs": [
    {
     "name": "stdout",
     "output_type": "stream",
     "text": [
      "30 27\n",
      "57 12\n",
      "69 45\n",
      "114 6\n",
      "120 21\n",
      "141 12\n",
      "153 33\n",
      "186 30\n",
      "216 21\n",
      "237 42\n",
      "279 21\n"
     ]
    },
    {
     "data": {
      "text/plain": [
       "300"
      ]
     },
     "execution_count": 25,
     "metadata": {},
     "output_type": "execute_result"
    }
   ],
   "source": [
    "L = [30, 27, 12, 45, 6, 21, 12, 33, 30, 21, 42, 21]\n",
    "obj = reduce(sumar, L)\n",
    "obj"
   ]
  },
  {
   "cell_type": "code",
   "execution_count": 26,
   "id": "9b6058b0",
   "metadata": {},
   "outputs": [
    {
     "name": "stdout",
     "output_type": "stream",
     "text": [
      "[30, 27, 12, 45, 6, 21, 12, 33, 30, 21, 42, 21]\n",
      "30 27\n",
      "27 12\n",
      "12 45\n",
      "12 6\n",
      "6 21\n",
      "6 12\n",
      "6 33\n",
      "6 30\n",
      "6 21\n",
      "6 42\n",
      "6 21\n"
     ]
    },
    {
     "data": {
      "text/plain": [
       "6"
      ]
     },
     "execution_count": 26,
     "metadata": {},
     "output_type": "execute_result"
    }
   ],
   "source": [
    "print(L)\n",
    "obj = reduce(minimo, L)\n",
    "obj"
   ]
  },
  {
   "cell_type": "code",
   "execution_count": 27,
   "id": "950940b0",
   "metadata": {},
   "outputs": [],
   "source": [
    "def mejorCandidato(c1, c2):\n",
    "    if c1['exp'] > c2['exp']:\n",
    "        return c1\n",
    "    elif c2['exp'] > c1['exp']:\n",
    "        return c2\n",
    "    else:\n",
    "        if c1['emp'] > c2['emp']:\n",
    "            return c1\n",
    "        elif c2['emp'] > c1['emp']:\n",
    "            return c2\n",
    "        else:\n",
    "            if c1['sup'] and not c2['sup']:\n",
    "                return c1\n",
    "            elif c2['sup'] and not c1['sup']:\n",
    "                return c"
   ]
  },
  {
   "cell_type": "code",
   "execution_count": 30,
   "id": "e411ed57",
   "metadata": {},
   "outputs": [
    {
     "name": "stdout",
     "output_type": "stream",
     "text": [
      "{'nombre': 'aaaaa', 'exp': 3, 'emp': 5, 'sup': False}\n",
      "{'nombre': 'bbbbb', 'exp': 8, 'emp': 7, 'sup': False}\n",
      "{'nombre': 'ccccc', 'exp': 11, 'emp': 5, 'sup': True}\n",
      "{'nombre': 'ddddd', 'exp': 7, 'emp': 7, 'sup': False}\n",
      "{'nombre': 'eeeee', 'exp': 12, 'emp': 4, 'sup': True}\n",
      "{'nombre': 'fffff', 'exp': 12, 'emp': 2, 'sup': False}\n",
      "{'nombre': 'ggggg', 'exp': 3, 'emp': 5, 'sup': True}\n",
      "{'nombre': 'hhhhh', 'exp': 11, 'emp': 3, 'sup': True}\n",
      "{'nombre': 'iiiii', 'exp': 12, 'emp': 1, 'sup': True}\n",
      "{'nombre': 'jjjjj', 'exp': 9, 'emp': 2, 'sup': True}\n",
      "{'nombre': 'kkkkk', 'exp': 3, 'emp': 2, 'sup': False}\n",
      "{'nombre': 'lllll', 'exp': 4, 'emp': 2, 'sup': True}\n",
      "{'nombre': 'mmmmm', 'exp': 9, 'emp': 8, 'sup': False}\n",
      "{'nombre': 'nnnnn', 'exp': 12, 'emp': 3, 'sup': False}\n",
      "{'nombre': 'ooooo', 'exp': 7, 'emp': 5, 'sup': False}\n",
      "{'nombre': 'ppppp', 'exp': 8, 'emp': 1, 'sup': True}\n",
      "{'nombre': 'qqqqq', 'exp': 12, 'emp': 2, 'sup': False}\n",
      "{'nombre': 'rrrrr', 'exp': 6, 'emp': 1, 'sup': True}\n",
      "{'nombre': 'sssss', 'exp': 2, 'emp': 1, 'sup': False}\n",
      "{'nombre': 'ttttt', 'exp': 12, 'emp': 8, 'sup': True}\n",
      "{'nombre': 'uuuuu', 'exp': 10, 'emp': 1, 'sup': True}\n",
      "{'nombre': 'vvvvv', 'exp': 2, 'emp': 2, 'sup': False}\n",
      "{'nombre': 'wwwww', 'exp': 5, 'emp': 2, 'sup': True}\n",
      "{'nombre': 'xxxxx', 'exp': 8, 'emp': 5, 'sup': True}\n",
      "{'nombre': 'yyyyy', 'exp': 7, 'emp': 3, 'sup': False}\n",
      "{'nombre': 'zzzzz', 'exp': 12, 'emp': 4, 'sup': True}\n",
      "{'nombre': 'AAAAA', 'exp': 9, 'emp': 4, 'sup': True}\n",
      "{'nombre': 'BBBBB', 'exp': 3, 'emp': 6, 'sup': False}\n",
      "{'nombre': 'CCCCC', 'exp': 5, 'emp': 3, 'sup': True}\n",
      "{'nombre': 'DDDDD', 'exp': 3, 'emp': 5, 'sup': True}\n",
      "{'nombre': 'EEEEE', 'exp': 4, 'emp': 7, 'sup': True}\n",
      "{'nombre': 'FFFFF', 'exp': 2, 'emp': 7, 'sup': True}\n",
      "{'nombre': 'GGGGG', 'exp': 9, 'emp': 1, 'sup': True}\n",
      "{'nombre': 'HHHHH', 'exp': 9, 'emp': 4, 'sup': True}\n",
      "{'nombre': 'IIIII', 'exp': 2, 'emp': 5, 'sup': True}\n",
      "{'nombre': 'JJJJJ', 'exp': 11, 'emp': 5, 'sup': True}\n",
      "{'nombre': 'KKKKK', 'exp': 3, 'emp': 7, 'sup': False}\n",
      "{'nombre': 'LLLLL', 'exp': 8, 'emp': 8, 'sup': False}\n",
      "{'nombre': 'MMMMM', 'exp': 3, 'emp': 7, 'sup': True}\n",
      "{'nombre': 'NNNNN', 'exp': 5, 'emp': 7, 'sup': True}\n",
      "{'nombre': 'OOOOO', 'exp': 10, 'emp': 3, 'sup': False}\n",
      "{'nombre': 'PPPPP', 'exp': 5, 'emp': 2, 'sup': False}\n",
      "{'nombre': 'QQQQQ', 'exp': 8, 'emp': 1, 'sup': True}\n",
      "{'nombre': 'RRRRR', 'exp': 10, 'emp': 4, 'sup': False}\n",
      "{'nombre': 'SSSSS', 'exp': 12, 'emp': 8, 'sup': False}\n",
      "{'nombre': 'TTTTT', 'exp': 2, 'emp': 5, 'sup': True}\n",
      "{'nombre': 'UUUUU', 'exp': 9, 'emp': 4, 'sup': True}\n",
      "{'nombre': 'VVVVV', 'exp': 6, 'emp': 3, 'sup': True}\n",
      "{'nombre': 'WWWWW', 'exp': 7, 'emp': 8, 'sup': True}\n",
      "{'nombre': 'XXXXX', 'exp': 6, 'emp': 2, 'sup': False}\n",
      "{'nombre': 'YYYYY', 'exp': 11, 'emp': 5, 'sup': True}\n",
      "{'nombre': 'ZZZZZ', 'exp': 5, 'emp': 5, 'sup': True}\n"
     ]
    }
   ],
   "source": [
    "candidatos = [{\"nombre\":letra*5,\"exp\":randint(2,12), \"emp\":randint(1,8), \"sup\": True if randint(1,10)%2==0 else False} \n",
    "              for letra in ascii_letters]\n",
    "for c in candidatos:\n",
    "    print(c)"
   ]
  },
  {
   "cell_type": "code",
   "execution_count": null,
   "id": "0a665ec3",
   "metadata": {},
   "outputs": [],
   "source": []
  }
 ],
 "metadata": {
  "kernelspec": {
   "display_name": "Python 3 (ipykernel)",
   "language": "python",
   "name": "python3"
  },
  "language_info": {
   "codemirror_mode": {
    "name": "ipython",
    "version": 3
   },
   "file_extension": ".py",
   "mimetype": "text/x-python",
   "name": "python",
   "nbconvert_exporter": "python",
   "pygments_lexer": "ipython3",
   "version": "3.8.5"
  }
 },
 "nbformat": 4,
 "nbformat_minor": 5
}

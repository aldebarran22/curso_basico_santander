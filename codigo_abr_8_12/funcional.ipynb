{
 "cells": [
  {
   "cell_type": "markdown",
   "id": "5bf79aae",
   "metadata": {},
   "source": [
    "## Programación funcional en Python"
   ]
  },
  {
   "cell_type": "markdown",
   "id": "364eaf8a",
   "metadata": {},
   "source": [
    "- list comprehension\n",
    "- iteradores: map, filter, reduce\n",
    "- generadores\n",
    "- decoradores"
   ]
  },
  {
   "cell_type": "code",
   "execution_count": 32,
   "id": "61e9e579",
   "metadata": {},
   "outputs": [],
   "source": [
    "from random import randint\n",
    "from functools import reduce"
   ]
  },
  {
   "cell_type": "code",
   "execution_count": 1,
   "id": "3ad377b9",
   "metadata": {},
   "outputs": [],
   "source": [
    "def calcularIva(precio):\n",
    "    return round(precio * 0.21, 2)"
   ]
  },
  {
   "cell_type": "code",
   "execution_count": 2,
   "id": "c8a7c250",
   "metadata": {},
   "outputs": [
    {
     "data": {
      "text/plain": [
       "21.0"
      ]
     },
     "execution_count": 2,
     "metadata": {},
     "output_type": "execute_result"
    }
   ],
   "source": [
    "calcularIva(100)"
   ]
  },
  {
   "cell_type": "code",
   "execution_count": 3,
   "id": "c0d135bb",
   "metadata": {},
   "outputs": [
    {
     "data": {
      "text/plain": [
       "[117.6, 1050.0, 252.0, 515.76, 71.4]"
      ]
     },
     "execution_count": 3,
     "metadata": {},
     "output_type": "execute_result"
    }
   ],
   "source": [
    "precios = [560, 5000, 1200, 2456, 340]\n",
    "iva = []\n",
    "for p in precios:\n",
    "    iva.append(calcularIva(p))\n",
    "iva"
   ]
  },
  {
   "cell_type": "markdown",
   "id": "2804f7d5",
   "metadata": {},
   "source": [
    "### map"
   ]
  },
  {
   "cell_type": "code",
   "execution_count": 6,
   "id": "6c9a57c1",
   "metadata": {},
   "outputs": [
    {
     "data": {
      "text/plain": [
       "[117.6, 1050.0, 252.0, 515.76, 71.4]"
      ]
     },
     "execution_count": 6,
     "metadata": {},
     "output_type": "execute_result"
    }
   ],
   "source": [
    "obj = list(map(calcularIva, precios))\n",
    "obj"
   ]
  },
  {
   "cell_type": "markdown",
   "id": "046ee77f",
   "metadata": {},
   "source": [
    "### list comprehension"
   ]
  },
  {
   "cell_type": "code",
   "execution_count": 7,
   "id": "384b98b9",
   "metadata": {},
   "outputs": [
    {
     "data": {
      "text/plain": [
       "[117.6, 1050.0, 252.0, 515.76, 71.4]"
      ]
     },
     "execution_count": 7,
     "metadata": {},
     "output_type": "execute_result"
    }
   ],
   "source": [
    "L = [calcularIva(i) for i in precios]\n",
    "L"
   ]
  },
  {
   "cell_type": "code",
   "execution_count": 8,
   "id": "626d5048",
   "metadata": {},
   "outputs": [
    {
     "data": {
      "text/plain": [
       "[117.6, 1050.0, 252.0, 515.76, 71.4]"
      ]
     },
     "execution_count": 8,
     "metadata": {},
     "output_type": "execute_result"
    }
   ],
   "source": [
    "L2 = [round(precio * 0.21, 2) for precio in precios]\n",
    "L2"
   ]
  },
  {
   "cell_type": "code",
   "execution_count": 10,
   "id": "44097889",
   "metadata": {},
   "outputs": [
    {
     "data": {
      "text/plain": [
       "8"
      ]
     },
     "execution_count": 10,
     "metadata": {},
     "output_type": "execute_result"
    }
   ],
   "source": [
    "randint(1,40)"
   ]
  },
  {
   "cell_type": "markdown",
   "id": "8e76ae41",
   "metadata": {},
   "source": [
    "Generar una lista de 30 números aleatorios entre 1 y 50"
   ]
  },
  {
   "cell_type": "code",
   "execution_count": 16,
   "id": "6a492bf0",
   "metadata": {},
   "outputs": [
    {
     "data": {
      "text/plain": [
       "[35, 30, 27, 44, 43, 12, 14, 25, 41, 29]"
      ]
     },
     "execution_count": 16,
     "metadata": {},
     "output_type": "execute_result"
    }
   ],
   "source": [
    "L3 = [randint(1,50) for _ in range(30)]\n",
    "L3[:10]"
   ]
  },
  {
   "cell_type": "code",
   "execution_count": 12,
   "id": "8e9e5337",
   "metadata": {},
   "outputs": [],
   "source": [
    "def multiplo3(n):\n",
    "    return True if n%3==0 else False"
   ]
  },
  {
   "cell_type": "markdown",
   "id": "365309cc",
   "metadata": {},
   "source": [
    "### Filter"
   ]
  },
  {
   "cell_type": "code",
   "execution_count": 18,
   "id": "8a9c7851",
   "metadata": {},
   "outputs": [
    {
     "data": {
      "text/plain": [
       "[30, 27, 12, 45, 6, 21, 12, 33, 30, 21, 42, 21]"
      ]
     },
     "execution_count": 18,
     "metadata": {},
     "output_type": "execute_result"
    }
   ],
   "source": [
    "obj2 = list(filter(multiplo3, L3))\n",
    "obj2"
   ]
  },
  {
   "cell_type": "markdown",
   "id": "7e216dd1",
   "metadata": {},
   "source": [
    "### list comprehension"
   ]
  },
  {
   "cell_type": "code",
   "execution_count": 17,
   "id": "9a2bdcf0",
   "metadata": {},
   "outputs": [
    {
     "data": {
      "text/plain": [
       "[30, 27, 12, 45, 6, 21, 12, 33, 30, 21, 42, 21]"
      ]
     },
     "execution_count": 17,
     "metadata": {},
     "output_type": "execute_result"
    }
   ],
   "source": [
    "L4 = [i for i in L3 if multiplo3(i)]\n",
    "L4"
   ]
  },
  {
   "cell_type": "code",
   "execution_count": 19,
   "id": "fa2ea0fa",
   "metadata": {},
   "outputs": [
    {
     "data": {
      "text/plain": [
       "[30, 27, 12, 45, 6, 21, 12, 33, 30, 21, 42, 21]"
      ]
     },
     "execution_count": 19,
     "metadata": {},
     "output_type": "execute_result"
    }
   ],
   "source": [
    "L5 = [i for i in L3 if i%3==0]\n",
    "L5"
   ]
  },
  {
   "cell_type": "markdown",
   "id": "1b3a022e",
   "metadata": {},
   "source": [
    "Calcular el iva de los multiplos de 3"
   ]
  },
  {
   "cell_type": "code",
   "execution_count": 20,
   "id": "5e1385a7",
   "metadata": {},
   "outputs": [
    {
     "data": {
      "text/plain": [
       "[6.3, 5.67, 2.52, 9.45, 1.26, 4.41, 2.52, 6.93, 6.3, 4.41, 8.82, 4.41]"
      ]
     },
     "execution_count": 20,
     "metadata": {},
     "output_type": "execute_result"
    }
   ],
   "source": [
    "L6 = [calcularIva(i) for i in L3 if multiplo3(i)]\n",
    "L6"
   ]
  },
  {
   "cell_type": "code",
   "execution_count": 21,
   "id": "474f47c7",
   "metadata": {},
   "outputs": [
    {
     "data": {
      "text/plain": [
       "[6.3, 5.67, 2.52, 9.45, 1.26, 4.41, 2.52, 6.93, 6.3, 4.41, 8.82, 4.41]"
      ]
     },
     "execution_count": 21,
     "metadata": {},
     "output_type": "execute_result"
    }
   ],
   "source": [
    "obj3 = list(map(calcularIva, filter(multiplo3, L3)))\n",
    "obj3"
   ]
  },
  {
   "cell_type": "code",
   "execution_count": 22,
   "id": "2356734b",
   "metadata": {},
   "outputs": [
    {
     "data": {
      "text/plain": [
       "[(30, 6.3),\n",
       " (27, 5.67),\n",
       " (12, 2.52),\n",
       " (45, 9.45),\n",
       " (6, 1.26),\n",
       " (21, 4.41),\n",
       " (12, 2.52),\n",
       " (33, 6.93),\n",
       " (30, 6.3),\n",
       " (21, 4.41),\n",
       " (42, 8.82),\n",
       " (21, 4.41)]"
      ]
     },
     "execution_count": 22,
     "metadata": {},
     "output_type": "execute_result"
    }
   ],
   "source": [
    "L7 = [(i, calcularIva(i)) for i in L3 if multiplo3(i)]\n",
    "L7"
   ]
  },
  {
   "cell_type": "code",
   "execution_count": 23,
   "id": "e27370f4",
   "metadata": {},
   "outputs": [
    {
     "data": {
      "text/plain": [
       "{30: 6.3, 27: 5.67, 12: 2.52, 45: 9.45, 6: 1.26, 21: 4.41, 33: 6.93, 42: 8.82}"
      ]
     },
     "execution_count": 23,
     "metadata": {},
     "output_type": "execute_result"
    }
   ],
   "source": [
    "d = {i:calcularIva(i) for i in L3 if multiplo3(i)}\n",
    "d"
   ]
  },
  {
   "cell_type": "code",
   "execution_count": 24,
   "id": "3b79f259",
   "metadata": {},
   "outputs": [
    {
     "data": {
      "text/plain": [
       "{1.26, 2.52, 4.41, 5.67, 6.3, 6.93, 8.82, 9.45}"
      ]
     },
     "execution_count": 24,
     "metadata": {},
     "output_type": "execute_result"
    }
   ],
   "source": [
    "c = {calcularIva(i) for i in L3 if multiplo3(i)}\n",
    "c"
   ]
  },
  {
   "cell_type": "code",
   "execution_count": 26,
   "id": "38acb0a1",
   "metadata": {},
   "outputs": [
    {
     "data": {
      "text/plain": [
       "(6.3, 5.67, 2.52, 9.45, 1.26, 4.41, 2.52, 6.93, 6.3, 4.41, 8.82, 4.41)"
      ]
     },
     "execution_count": 26,
     "metadata": {},
     "output_type": "execute_result"
    }
   ],
   "source": [
    "t = tuple((calcularIva(i) for i in L3 if multiplo3(i)))\n",
    "t"
   ]
  },
  {
   "cell_type": "code",
   "execution_count": 28,
   "id": "647748fd",
   "metadata": {},
   "outputs": [
    {
     "data": {
      "text/plain": [
       "[2, 3, 5, 7, 11, 13, 17, 19, 23, 29]"
      ]
     },
     "execution_count": 28,
     "metadata": {},
     "output_type": "execute_result"
    }
   ],
   "source": [
    "primos = [x for x in range(2, 101) if all(x%y for y in range(2, min(x, 11)))]\n",
    "primos[:10]"
   ]
  },
  {
   "cell_type": "code",
   "execution_count": 30,
   "id": "a4c64804",
   "metadata": {},
   "outputs": [
    {
     "data": {
      "text/plain": [
       "False"
      ]
     },
     "execution_count": 30,
     "metadata": {},
     "output_type": "execute_result"
    }
   ],
   "source": [
    "all([True, 45, None])"
   ]
  },
  {
   "cell_type": "code",
   "execution_count": 31,
   "id": "0228d7e9",
   "metadata": {},
   "outputs": [
    {
     "data": {
      "text/plain": [
       "True"
      ]
     },
     "execution_count": 31,
     "metadata": {},
     "output_type": "execute_result"
    }
   ],
   "source": [
    "any([True, 45, None])"
   ]
  },
  {
   "cell_type": "markdown",
   "id": "38301323",
   "metadata": {},
   "source": [
    "### reduce"
   ]
  },
  {
   "cell_type": "code",
   "execution_count": 33,
   "id": "44404102",
   "metadata": {},
   "outputs": [],
   "source": [
    "def sumar(a,b):\n",
    "    print(a,b)\n",
    "    return a+b"
   ]
  },
  {
   "cell_type": "code",
   "execution_count": 37,
   "id": "3e0614ef",
   "metadata": {},
   "outputs": [],
   "source": [
    "def minimo(a,b):\n",
    "    print(a,b)\n",
    "    return a if a < b else b"
   ]
  },
  {
   "cell_type": "code",
   "execution_count": 38,
   "id": "8edd7226",
   "metadata": {},
   "outputs": [
    {
     "name": "stdout",
     "output_type": "stream",
     "text": [
      "30 27\n",
      "57 12\n",
      "69 45\n",
      "114 6\n",
      "120 21\n",
      "141 12\n",
      "153 33\n",
      "186 30\n",
      "216 21\n",
      "237 42\n",
      "279 21\n"
     ]
    },
    {
     "data": {
      "text/plain": [
       "300"
      ]
     },
     "execution_count": 38,
     "metadata": {},
     "output_type": "execute_result"
    }
   ],
   "source": [
    "L = [30, 27, 12, 45, 6, 21, 12, 33, 30, 21, 42, 21]\n",
    "obj = reduce(sumar, L)\n",
    "obj"
   ]
  },
  {
   "cell_type": "code",
   "execution_count": 40,
   "id": "46cae90e",
   "metadata": {},
   "outputs": [
    {
     "name": "stdout",
     "output_type": "stream",
     "text": [
      "[30, 27, 12, 45, 6, 21, 12, 33, 30, 21, 42, 21]\n",
      "30 27\n",
      "27 12\n",
      "12 45\n",
      "12 6\n",
      "6 21\n",
      "6 12\n",
      "6 33\n",
      "6 30\n",
      "6 21\n",
      "6 42\n",
      "6 21\n"
     ]
    },
    {
     "data": {
      "text/plain": [
       "6"
      ]
     },
     "execution_count": 40,
     "metadata": {},
     "output_type": "execute_result"
    }
   ],
   "source": [
    "print(L)\n",
    "obj = reduce(minimo, L)\n",
    "obj"
   ]
  },
  {
   "cell_type": "code",
   "execution_count": null,
   "id": "9910c3fc",
   "metadata": {},
   "outputs": [],
   "source": [
    "def mejorCandidato(c1, c2):\n",
    "    if c1['exp'] > c2['exp']:\n",
    "        return c1\n",
    "    elif c2['exp'] > c1['exp']:\n",
    "        return c2\n",
    "    else:\n",
    "        pass"
   ]
  },
  {
   "cell_type": "code",
   "execution_count": 41,
   "id": "bb5c3c3d",
   "metadata": {},
   "outputs": [
    {
     "name": "stdout",
     "output_type": "stream",
     "text": [
      "{'exp': 5, 'emp': 1, 'sup': True}\n",
      "{'exp': 5, 'emp': 4, 'sup': True}\n",
      "{'exp': 6, 'emp': 5, 'sup': True}\n",
      "{'exp': 3, 'emp': 7, 'sup': True}\n",
      "{'exp': 2, 'emp': 5, 'sup': True}\n",
      "{'exp': 8, 'emp': 8, 'sup': False}\n",
      "{'exp': 7, 'emp': 2, 'sup': False}\n",
      "{'exp': 11, 'emp': 2, 'sup': True}\n",
      "{'exp': 8, 'emp': 4, 'sup': True}\n",
      "{'exp': 3, 'emp': 4, 'sup': True}\n",
      "{'exp': 3, 'emp': 8, 'sup': False}\n",
      "{'exp': 11, 'emp': 3, 'sup': False}\n",
      "{'exp': 11, 'emp': 2, 'sup': False}\n",
      "{'exp': 5, 'emp': 4, 'sup': False}\n",
      "{'exp': 11, 'emp': 3, 'sup': False}\n",
      "{'exp': 8, 'emp': 6, 'sup': False}\n",
      "{'exp': 7, 'emp': 4, 'sup': False}\n",
      "{'exp': 12, 'emp': 7, 'sup': True}\n",
      "{'exp': 12, 'emp': 8, 'sup': False}\n",
      "{'exp': 7, 'emp': 1, 'sup': False}\n",
      "{'exp': 7, 'emp': 1, 'sup': True}\n",
      "{'exp': 12, 'emp': 8, 'sup': True}\n",
      "{'exp': 7, 'emp': 4, 'sup': True}\n",
      "{'exp': 12, 'emp': 4, 'sup': False}\n",
      "{'exp': 8, 'emp': 1, 'sup': False}\n",
      "{'exp': 12, 'emp': 7, 'sup': False}\n",
      "{'exp': 2, 'emp': 4, 'sup': False}\n",
      "{'exp': 5, 'emp': 7, 'sup': True}\n",
      "{'exp': 2, 'emp': 4, 'sup': True}\n",
      "{'exp': 6, 'emp': 1, 'sup': True}\n",
      "{'exp': 6, 'emp': 5, 'sup': False}\n",
      "{'exp': 7, 'emp': 8, 'sup': False}\n",
      "{'exp': 12, 'emp': 7, 'sup': True}\n",
      "{'exp': 7, 'emp': 8, 'sup': False}\n",
      "{'exp': 7, 'emp': 4, 'sup': True}\n",
      "{'exp': 12, 'emp': 1, 'sup': False}\n",
      "{'exp': 8, 'emp': 2, 'sup': False}\n",
      "{'exp': 2, 'emp': 6, 'sup': True}\n",
      "{'exp': 4, 'emp': 2, 'sup': False}\n",
      "{'exp': 10, 'emp': 4, 'sup': False}\n",
      "{'exp': 4, 'emp': 6, 'sup': True}\n",
      "{'exp': 10, 'emp': 2, 'sup': True}\n",
      "{'exp': 12, 'emp': 4, 'sup': True}\n",
      "{'exp': 11, 'emp': 7, 'sup': False}\n",
      "{'exp': 6, 'emp': 2, 'sup': False}\n",
      "{'exp': 9, 'emp': 5, 'sup': True}\n",
      "{'exp': 6, 'emp': 7, 'sup': False}\n",
      "{'exp': 11, 'emp': 3, 'sup': True}\n",
      "{'exp': 8, 'emp': 8, 'sup': False}\n",
      "{'exp': 10, 'emp': 7, 'sup': True}\n"
     ]
    }
   ],
   "source": [
    "num = 50\n",
    "candidatos = [{\"exp\":randint(2,12), \"emp\":randint(1,8), \"sup\": True if randint(1,10)%2==0 else False} for _ in range(num)]\n",
    "for c in candidatos:\n",
    "    print(c)"
   ]
  },
  {
   "cell_type": "code",
   "execution_count": null,
   "id": "d348dc32",
   "metadata": {},
   "outputs": [],
   "source": []
  }
 ],
 "metadata": {
  "kernelspec": {
   "display_name": "Python 3 (ipykernel)",
   "language": "python",
   "name": "python3"
  },
  "language_info": {
   "codemirror_mode": {
    "name": "ipython",
    "version": 3
   },
   "file_extension": ".py",
   "mimetype": "text/x-python",
   "name": "python",
   "nbconvert_exporter": "python",
   "pygments_lexer": "ipython3",
   "version": "3.8.5"
  }
 },
 "nbformat": 4,
 "nbformat_minor": 5
}

{
 "cells": [
  {
   "cell_type": "markdown",
   "id": "d3a3c1e5",
   "metadata": {},
   "source": [
    "### Funcional"
   ]
  },
  {
   "cell_type": "markdown",
   "id": "f585ff41",
   "metadata": {},
   "source": [
    " - Iteradores: map y filter, reduce\n",
    " - List comprehension"
   ]
  },
  {
   "cell_type": "code",
   "execution_count": 26,
   "id": "1395120b",
   "metadata": {},
   "outputs": [],
   "source": [
    "from math import pi\n",
    "from functools import reduce\n",
    "from string import ascii_letters\n",
    "from random import randint"
   ]
  },
  {
   "cell_type": "code",
   "execution_count": 2,
   "id": "057a48c5",
   "metadata": {},
   "outputs": [
    {
     "data": {
      "text/plain": [
       "3.141592653589793"
      ]
     },
     "execution_count": 2,
     "metadata": {},
     "output_type": "execute_result"
    }
   ],
   "source": [
    "pi"
   ]
  },
  {
   "cell_type": "code",
   "execution_count": 6,
   "id": "07597843",
   "metadata": {},
   "outputs": [],
   "source": [
    "def area(radio):\n",
    "    return round(pi * radio**2, 2)"
   ]
  },
  {
   "cell_type": "code",
   "execution_count": 7,
   "id": "27fc135d",
   "metadata": {},
   "outputs": [],
   "source": [
    "circulos = [5, 3.5, 1.5, 8, 10, 20]"
   ]
  },
  {
   "cell_type": "code",
   "execution_count": 8,
   "id": "8c2428db",
   "metadata": {},
   "outputs": [
    {
     "data": {
      "text/plain": [
       "[78.54, 38.48, 7.07, 201.06, 314.16, 1256.64]"
      ]
     },
     "execution_count": 8,
     "metadata": {},
     "output_type": "execute_result"
    }
   ],
   "source": [
    "areas = []\n",
    "for r in circulos:\n",
    "    areas.append(area(r))\n",
    "    \n",
    "areas"
   ]
  },
  {
   "cell_type": "markdown",
   "id": "be89d653",
   "metadata": {},
   "source": [
    "#### Con map:"
   ]
  },
  {
   "cell_type": "code",
   "execution_count": 10,
   "id": "0a246ccd",
   "metadata": {},
   "outputs": [
    {
     "data": {
      "text/plain": [
       "[78.54, 38.48, 7.07, 201.06, 314.16, 1256.64]"
      ]
     },
     "execution_count": 10,
     "metadata": {},
     "output_type": "execute_result"
    }
   ],
   "source": [
    "R = list(map(area, circulos))\n",
    "R"
   ]
  },
  {
   "cell_type": "code",
   "execution_count": 12,
   "id": "c780f636",
   "metadata": {},
   "outputs": [
    {
     "data": {
      "text/plain": [
       "[78.54, 38.48, 7.07, 201.06, 314.16, 1256.64]"
      ]
     },
     "execution_count": 12,
     "metadata": {},
     "output_type": "execute_result"
    }
   ],
   "source": [
    "R2 = list(map(lambda r : round(pi * r**2, 2),circulos))\n",
    "R2"
   ]
  },
  {
   "cell_type": "markdown",
   "id": "d60e8dcc",
   "metadata": {},
   "source": [
    "#### Con List C."
   ]
  },
  {
   "cell_type": "code",
   "execution_count": 13,
   "id": "acc2dd35",
   "metadata": {},
   "outputs": [
    {
     "data": {
      "text/plain": [
       "[78.54, 38.48, 7.07, 201.06, 314.16, 1256.64]"
      ]
     },
     "execution_count": 13,
     "metadata": {},
     "output_type": "execute_result"
    }
   ],
   "source": [
    "R3 = [area(i) for i in circulos]\n",
    "R3"
   ]
  },
  {
   "cell_type": "code",
   "execution_count": 14,
   "id": "6f83db17",
   "metadata": {},
   "outputs": [
    {
     "data": {
      "text/plain": [
       "[78.54, 38.48, 7.07, 201.06, 314.16, 1256.64]"
      ]
     },
     "execution_count": 14,
     "metadata": {},
     "output_type": "execute_result"
    }
   ],
   "source": [
    "R4 = [round(pi * r**2, 2) for r in circulos]\n",
    "R4"
   ]
  },
  {
   "cell_type": "code",
   "execution_count": 15,
   "id": "b69c4916",
   "metadata": {},
   "outputs": [
    {
     "data": {
      "text/plain": [
       "{7.07, 38.48, 78.54, 201.06, 314.16, 1256.64}"
      ]
     },
     "execution_count": 15,
     "metadata": {},
     "output_type": "execute_result"
    }
   ],
   "source": [
    "c = {area(i) for i in circulos}\n",
    "c"
   ]
  },
  {
   "cell_type": "code",
   "execution_count": 16,
   "id": "584f269d",
   "metadata": {},
   "outputs": [
    {
     "data": {
      "text/plain": [
       "{5: 78.54, 3.5: 38.48, 1.5: 7.07, 8: 201.06, 10: 314.16, 20: 1256.64}"
      ]
     },
     "execution_count": 16,
     "metadata": {},
     "output_type": "execute_result"
    }
   ],
   "source": [
    "d = {radio:area(radio) for radio in circulos}\n",
    "d"
   ]
  },
  {
   "cell_type": "markdown",
   "id": "769c79f0",
   "metadata": {},
   "source": [
    "#### filter"
   ]
  },
  {
   "cell_type": "code",
   "execution_count": 17,
   "id": "e770e390",
   "metadata": {},
   "outputs": [
    {
     "data": {
      "text/plain": [
       "[78.54, 38.48, 7.07, 201.06, 314.16, 1256.64]"
      ]
     },
     "execution_count": 17,
     "metadata": {},
     "output_type": "execute_result"
    }
   ],
   "source": [
    "R4"
   ]
  },
  {
   "cell_type": "code",
   "execution_count": 18,
   "id": "477893af",
   "metadata": {},
   "outputs": [],
   "source": [
    "# Filtrar los valores de R4 que están en el intervalo 100 y 500\n",
    "def filtro(n):\n",
    "    return 100 <= n <= 500"
   ]
  },
  {
   "cell_type": "code",
   "execution_count": 19,
   "id": "0b113de9",
   "metadata": {},
   "outputs": [
    {
     "data": {
      "text/plain": [
       "[201.06, 314.16]"
      ]
     },
     "execution_count": 19,
     "metadata": {},
     "output_type": "execute_result"
    }
   ],
   "source": [
    "R5 = list(filter(filtro, R4))\n",
    "R5"
   ]
  },
  {
   "cell_type": "code",
   "execution_count": 20,
   "id": "b980cc43",
   "metadata": {},
   "outputs": [
    {
     "data": {
      "text/plain": [
       "[201.06, 314.16]"
      ]
     },
     "execution_count": 20,
     "metadata": {},
     "output_type": "execute_result"
    }
   ],
   "source": [
    "R6 = list(filter(lambda n : 100 <= n <= 500 , R4))\n",
    "R6"
   ]
  },
  {
   "cell_type": "markdown",
   "id": "75cb528a",
   "metadata": {},
   "source": [
    "#### Con List C."
   ]
  },
  {
   "cell_type": "code",
   "execution_count": 22,
   "id": "c6681391",
   "metadata": {},
   "outputs": [
    {
     "data": {
      "text/plain": [
       "[201.06, 314.16]"
      ]
     },
     "execution_count": 22,
     "metadata": {},
     "output_type": "execute_result"
    }
   ],
   "source": [
    "R7 = [i for i in R4 if 100 <= i <= 500]\n",
    "R7"
   ]
  },
  {
   "cell_type": "markdown",
   "id": "d4496bb9",
   "metadata": {},
   "source": [
    "#### reduce"
   ]
  },
  {
   "cell_type": "code",
   "execution_count": 24,
   "id": "287c1fe0",
   "metadata": {},
   "outputs": [],
   "source": [
    "def menor(n1, n2):\n",
    "    print(n1, n2)\n",
    "    \n",
    "    return n1 if n1 < n2 else n2"
   ]
  },
  {
   "cell_type": "code",
   "execution_count": 25,
   "id": "9d877310",
   "metadata": {},
   "outputs": [
    {
     "name": "stdout",
     "output_type": "stream",
     "text": [
      "45 44\n",
      "44 46\n",
      "44 32\n",
      "32 23\n",
      "23 55\n",
      "23 12\n",
      "12 7\n",
      "7 400\n",
      "Resultado: 7\n"
     ]
    }
   ],
   "source": [
    "L = [45,44,46,32,23,55,12,7,400]\n",
    "\n",
    "resul = reduce(menor, L)\n",
    "print(\"Resultado:\", resul)"
   ]
  },
  {
   "cell_type": "markdown",
   "id": "8a6aaffc",
   "metadata": {},
   "source": [
    "Generar la colección de candidatos:"
   ]
  },
  {
   "cell_type": "code",
   "execution_count": 34,
   "id": "d978ddbb",
   "metadata": {},
   "outputs": [],
   "source": [
    "def mejorCandidato(c1, c2):\n",
    "    if c1['exp'] > c2['exp']:\n",
    "        return c1\n",
    "    \n",
    "    elif c2['exp'] > c1['exp']:\n",
    "        return c2\n",
    "    \n",
    "    else:\n",
    "        \n",
    "        if c1['emp'] > c2['emp']:\n",
    "            return c1\n",
    "        \n",
    "        elif c2['emp'] > c1['emp']:\n",
    "            return c2\n",
    "    \n",
    "        else:\n",
    "            if c1['sup'] and not c2['sup']:\n",
    "                return c1\n",
    "            \n",
    "            elif c2['sup'] and not c1['sup']:\n",
    "                return c2\n",
    "            \n",
    "            else:\n",
    "                return c1        "
   ]
  },
  {
   "cell_type": "code",
   "execution_count": 36,
   "id": "25697dfb",
   "metadata": {},
   "outputs": [
    {
     "data": {
      "text/plain": [
       "[{'nombre': 'aaaaa', 'exp': 4, 'emp': 6, 'sup': False},\n",
       " {'nombre': 'bbbbb', 'exp': 4, 'emp': 4, 'sup': True},\n",
       " {'nombre': 'ccccc', 'exp': 4, 'emp': 6, 'sup': False},\n",
       " {'nombre': 'ddddd', 'exp': 5, 'emp': 4, 'sup': True},\n",
       " {'nombre': 'eeeee', 'exp': 8, 'emp': 5, 'sup': True},\n",
       " {'nombre': 'fffff', 'exp': 6, 'emp': 5, 'sup': False},\n",
       " {'nombre': 'ggggg', 'exp': 8, 'emp': 6, 'sup': True},\n",
       " {'nombre': 'hhhhh', 'exp': 8, 'emp': 6, 'sup': False},\n",
       " {'nombre': 'iiiii', 'exp': 8, 'emp': 4, 'sup': True},\n",
       " {'nombre': 'jjjjj', 'exp': 8, 'emp': 5, 'sup': True},\n",
       " {'nombre': 'kkkkk', 'exp': 8, 'emp': 5, 'sup': False},\n",
       " {'nombre': 'lllll', 'exp': 8, 'emp': 4, 'sup': False},\n",
       " {'nombre': 'mmmmm', 'exp': 7, 'emp': 3, 'sup': False},\n",
       " {'nombre': 'nnnnn', 'exp': 5, 'emp': 5, 'sup': True},\n",
       " {'nombre': 'ooooo', 'exp': 8, 'emp': 3, 'sup': False},\n",
       " {'nombre': 'ppppp', 'exp': 6, 'emp': 5, 'sup': False},\n",
       " {'nombre': 'qqqqq', 'exp': 4, 'emp': 3, 'sup': True},\n",
       " {'nombre': 'rrrrr', 'exp': 8, 'emp': 6, 'sup': True},\n",
       " {'nombre': 'sssss', 'exp': 5, 'emp': 3, 'sup': False},\n",
       " {'nombre': 'ttttt', 'exp': 5, 'emp': 4, 'sup': False},\n",
       " {'nombre': 'uuuuu', 'exp': 7, 'emp': 6, 'sup': False},\n",
       " {'nombre': 'vvvvv', 'exp': 4, 'emp': 3, 'sup': True},\n",
       " {'nombre': 'wwwww', 'exp': 6, 'emp': 4, 'sup': True},\n",
       " {'nombre': 'xxxxx', 'exp': 4, 'emp': 5, 'sup': True},\n",
       " {'nombre': 'yyyyy', 'exp': 8, 'emp': 4, 'sup': True},\n",
       " {'nombre': 'zzzzz', 'exp': 8, 'emp': 3, 'sup': True},\n",
       " {'nombre': 'AAAAA', 'exp': 4, 'emp': 4, 'sup': True},\n",
       " {'nombre': 'BBBBB', 'exp': 4, 'emp': 4, 'sup': True},\n",
       " {'nombre': 'CCCCC', 'exp': 6, 'emp': 5, 'sup': False},\n",
       " {'nombre': 'DDDDD', 'exp': 5, 'emp': 3, 'sup': False},\n",
       " {'nombre': 'EEEEE', 'exp': 4, 'emp': 6, 'sup': True},\n",
       " {'nombre': 'FFFFF', 'exp': 8, 'emp': 4, 'sup': True},\n",
       " {'nombre': 'GGGGG', 'exp': 4, 'emp': 4, 'sup': False},\n",
       " {'nombre': 'HHHHH', 'exp': 5, 'emp': 4, 'sup': True},\n",
       " {'nombre': 'IIIII', 'exp': 4, 'emp': 3, 'sup': True},\n",
       " {'nombre': 'JJJJJ', 'exp': 6, 'emp': 3, 'sup': True},\n",
       " {'nombre': 'KKKKK', 'exp': 7, 'emp': 6, 'sup': True},\n",
       " {'nombre': 'LLLLL', 'exp': 7, 'emp': 3, 'sup': True},\n",
       " {'nombre': 'MMMMM', 'exp': 8, 'emp': 6, 'sup': False},\n",
       " {'nombre': 'NNNNN', 'exp': 4, 'emp': 3, 'sup': False},\n",
       " {'nombre': 'OOOOO', 'exp': 5, 'emp': 3, 'sup': True},\n",
       " {'nombre': 'PPPPP', 'exp': 5, 'emp': 4, 'sup': False},\n",
       " {'nombre': 'QQQQQ', 'exp': 5, 'emp': 5, 'sup': True},\n",
       " {'nombre': 'RRRRR', 'exp': 8, 'emp': 6, 'sup': False},\n",
       " {'nombre': 'SSSSS', 'exp': 4, 'emp': 6, 'sup': True},\n",
       " {'nombre': 'TTTTT', 'exp': 7, 'emp': 6, 'sup': True},\n",
       " {'nombre': 'UUUUU', 'exp': 4, 'emp': 3, 'sup': False},\n",
       " {'nombre': 'VVVVV', 'exp': 6, 'emp': 5, 'sup': False},\n",
       " {'nombre': 'WWWWW', 'exp': 4, 'emp': 6, 'sup': False},\n",
       " {'nombre': 'XXXXX', 'exp': 5, 'emp': 5, 'sup': False},\n",
       " {'nombre': 'YYYYY', 'exp': 7, 'emp': 4, 'sup': True},\n",
       " {'nombre': 'ZZZZZ', 'exp': 6, 'emp': 5, 'sup': False}]"
      ]
     },
     "execution_count": 36,
     "metadata": {},
     "output_type": "execute_result"
    }
   ],
   "source": [
    "candidatos = [{\"nombre\":letra * 5, \"exp\":randint(4,8),\"emp\":randint(3,6),\"sup\": randint(1,10)%2==0} for letra in ascii_letters]\n",
    "candidatos"
   ]
  },
  {
   "cell_type": "code",
   "execution_count": 37,
   "id": "f38791ce",
   "metadata": {},
   "outputs": [
    {
     "data": {
      "text/plain": [
       "{'nombre': 'ggggg', 'exp': 8, 'emp': 6, 'sup': True}"
      ]
     },
     "execution_count": 37,
     "metadata": {},
     "output_type": "execute_result"
    }
   ],
   "source": [
    "elMejor = reduce(mejorCandidato, candidatos)\n",
    "elMejor"
   ]
  },
  {
   "cell_type": "code",
   "execution_count": 38,
   "id": "0a650748",
   "metadata": {},
   "outputs": [
    {
     "data": {
      "text/plain": [
       "[{'nombre': 'ggggg', 'exp': 8, 'emp': 6, 'sup': True},\n",
       " {'nombre': 'rrrrr', 'exp': 8, 'emp': 6, 'sup': True}]"
      ]
     },
     "execution_count": 38,
     "metadata": {},
     "output_type": "execute_result"
    }
   ],
   "source": [
    "mejores = [d for d in candidatos if list(d.values())[1:] == list(elMejor.values())[1:]]\n",
    "mejores"
   ]
  },
  {
   "cell_type": "code",
   "execution_count": 39,
   "id": "5974cc36",
   "metadata": {},
   "outputs": [
    {
     "data": {
      "text/plain": [
       "dict_values(['ggggg', 8, 6, True])"
      ]
     },
     "execution_count": 39,
     "metadata": {},
     "output_type": "execute_result"
    }
   ],
   "source": [
    "valores = elMejor.values()\n",
    "valores"
   ]
  },
  {
   "cell_type": "code",
   "execution_count": 41,
   "id": "b5b9a461",
   "metadata": {},
   "outputs": [
    {
     "data": {
      "text/plain": [
       "[8, 6, True]"
      ]
     },
     "execution_count": 41,
     "metadata": {},
     "output_type": "execute_result"
    }
   ],
   "source": [
    "L =list(valores)\n",
    "L[1:]"
   ]
  },
  {
   "cell_type": "code",
   "execution_count": 47,
   "id": "205b3b4b",
   "metadata": {},
   "outputs": [
    {
     "data": {
      "text/plain": [
       "<generator object <genexpr> at 0x000001D1E15C33C0>"
      ]
     },
     "execution_count": 47,
     "metadata": {},
     "output_type": "execute_result"
    }
   ],
   "source": [
    "t = (i**2 for i in range(10))\n",
    "t"
   ]
  },
  {
   "cell_type": "code",
   "execution_count": 48,
   "id": "4a603a02",
   "metadata": {},
   "outputs": [
    {
     "name": "stdout",
     "output_type": "stream",
     "text": [
      "0\n",
      "1\n",
      "4\n",
      "9\n",
      "16\n",
      "25\n",
      "36\n",
      "49\n",
      "64\n",
      "81\n"
     ]
    }
   ],
   "source": [
    "for i in t:\n",
    "    print(i)"
   ]
  },
  {
   "cell_type": "code",
   "execution_count": 49,
   "id": "95f2e60e",
   "metadata": {},
   "outputs": [],
   "source": [
    "for i in t:\n",
    "    print(i)"
   ]
  },
  {
   "cell_type": "code",
   "execution_count": 46,
   "id": "4fc31b88",
   "metadata": {},
   "outputs": [
    {
     "data": {
      "text/plain": [
       "(0, 1, 4, 9, 16, 25, 36, 49, 64, 81)"
      ]
     },
     "execution_count": 46,
     "metadata": {},
     "output_type": "execute_result"
    }
   ],
   "source": [
    "t2 = tuple([i**2 for i in range(10)])\n",
    "t2"
   ]
  },
  {
   "cell_type": "code",
   "execution_count": null,
   "id": "cc2dc690",
   "metadata": {},
   "outputs": [],
   "source": []
  }
 ],
 "metadata": {
  "kernelspec": {
   "display_name": "Python 3 (ipykernel)",
   "language": "python",
   "name": "python3"
  },
  "language_info": {
   "codemirror_mode": {
    "name": "ipython",
    "version": 3
   },
   "file_extension": ".py",
   "mimetype": "text/x-python",
   "name": "python",
   "nbconvert_exporter": "python",
   "pygments_lexer": "ipython3",
   "version": "3.8.5"
  }
 },
 "nbformat": 4,
 "nbformat_minor": 5
}

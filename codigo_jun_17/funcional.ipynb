{
 "cells": [
  {
   "cell_type": "markdown",
   "id": "2aff60da",
   "metadata": {},
   "source": [
    "### Funcional"
   ]
  },
  {
   "cell_type": "markdown",
   "id": "bd293c93",
   "metadata": {},
   "source": [
    " - Iteradores: map y filter, reduce\n",
    " - List comprehension"
   ]
  },
  {
   "cell_type": "code",
   "execution_count": 1,
   "id": "bedc31e6",
   "metadata": {},
   "outputs": [],
   "source": [
    "from math import pi"
   ]
  },
  {
   "cell_type": "code",
   "execution_count": 2,
   "id": "61b3cb76",
   "metadata": {},
   "outputs": [
    {
     "data": {
      "text/plain": [
       "3.141592653589793"
      ]
     },
     "execution_count": 2,
     "metadata": {},
     "output_type": "execute_result"
    }
   ],
   "source": [
    "pi"
   ]
  },
  {
   "cell_type": "code",
   "execution_count": 6,
   "id": "82c53933",
   "metadata": {},
   "outputs": [],
   "source": [
    "def area(radio):\n",
    "    return round(pi * radio**2, 2)"
   ]
  },
  {
   "cell_type": "code",
   "execution_count": 7,
   "id": "01779a47",
   "metadata": {},
   "outputs": [],
   "source": [
    "circulos = [5, 3.5, 1.5, 8, 10, 20]"
   ]
  },
  {
   "cell_type": "code",
   "execution_count": 8,
   "id": "67ab7000",
   "metadata": {},
   "outputs": [
    {
     "data": {
      "text/plain": [
       "[78.54, 38.48, 7.07, 201.06, 314.16, 1256.64]"
      ]
     },
     "execution_count": 8,
     "metadata": {},
     "output_type": "execute_result"
    }
   ],
   "source": [
    "areas = []\n",
    "for r in circulos:\n",
    "    areas.append(area(r))\n",
    "    \n",
    "areas"
   ]
  },
  {
   "cell_type": "markdown",
   "id": "6a6148a1",
   "metadata": {},
   "source": [
    "#### Con map:"
   ]
  },
  {
   "cell_type": "code",
   "execution_count": 10,
   "id": "89f723b6",
   "metadata": {},
   "outputs": [
    {
     "data": {
      "text/plain": [
       "[78.54, 38.48, 7.07, 201.06, 314.16, 1256.64]"
      ]
     },
     "execution_count": 10,
     "metadata": {},
     "output_type": "execute_result"
    }
   ],
   "source": [
    "R = list(map(area, circulos))\n",
    "R"
   ]
  },
  {
   "cell_type": "code",
   "execution_count": 12,
   "id": "1e154271",
   "metadata": {},
   "outputs": [
    {
     "data": {
      "text/plain": [
       "[78.54, 38.48, 7.07, 201.06, 314.16, 1256.64]"
      ]
     },
     "execution_count": 12,
     "metadata": {},
     "output_type": "execute_result"
    }
   ],
   "source": [
    "R2 = list(map(lambda r : round(pi * r**2, 2),circulos))\n",
    "R2"
   ]
  },
  {
   "cell_type": "markdown",
   "id": "6d2c3212",
   "metadata": {},
   "source": [
    "#### Con List C."
   ]
  },
  {
   "cell_type": "code",
   "execution_count": null,
   "id": "8cb59870",
   "metadata": {},
   "outputs": [],
   "source": [
    "R3 = [area(i) ]"
   ]
  }
 ],
 "metadata": {
  "kernelspec": {
   "display_name": "Python 3 (ipykernel)",
   "language": "python",
   "name": "python3"
  },
  "language_info": {
   "codemirror_mode": {
    "name": "ipython",
    "version": 3
   },
   "file_extension": ".py",
   "mimetype": "text/x-python",
   "name": "python",
   "nbconvert_exporter": "python",
   "pygments_lexer": "ipython3",
   "version": "3.8.5"
  }
 },
 "nbformat": 4,
 "nbformat_minor": 5
}

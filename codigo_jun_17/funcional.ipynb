{
 "cells": [
  {
   "cell_type": "markdown",
   "id": "eb2a7bd1",
   "metadata": {},
   "source": [
    "### Funcional"
   ]
  },
  {
   "cell_type": "markdown",
   "id": "a4b79d6d",
   "metadata": {},
   "source": [
    " - Iteradores: map y filter, reduce\n",
    " - List comprehension"
   ]
  },
  {
   "cell_type": "code",
   "execution_count": 1,
   "id": "48cf3722",
   "metadata": {},
   "outputs": [],
   "source": [
    "from math import pi"
   ]
  },
  {
   "cell_type": "code",
   "execution_count": 2,
   "id": "d9612ca5",
   "metadata": {},
   "outputs": [
    {
     "data": {
      "text/plain": [
       "3.141592653589793"
      ]
     },
     "execution_count": 2,
     "metadata": {},
     "output_type": "execute_result"
    }
   ],
   "source": [
    "pi"
   ]
  },
  {
   "cell_type": "code",
   "execution_count": 6,
   "id": "4fae9e7e",
   "metadata": {},
   "outputs": [],
   "source": [
    "def area(radio):\n",
    "    return round(pi * radio**2, 2)"
   ]
  },
  {
   "cell_type": "code",
   "execution_count": 7,
   "id": "f928c4c9",
   "metadata": {},
   "outputs": [],
   "source": [
    "circulos = [5, 3.5, 1.5, 8, 10, 20]"
   ]
  },
  {
   "cell_type": "code",
   "execution_count": 8,
   "id": "4543b8aa",
   "metadata": {},
   "outputs": [
    {
     "data": {
      "text/plain": [
       "[78.54, 38.48, 7.07, 201.06, 314.16, 1256.64]"
      ]
     },
     "execution_count": 8,
     "metadata": {},
     "output_type": "execute_result"
    }
   ],
   "source": [
    "areas = []\n",
    "for r in circulos:\n",
    "    areas.append(area(r))\n",
    "    \n",
    "areas"
   ]
  },
  {
   "cell_type": "markdown",
   "id": "cf889d9c",
   "metadata": {},
   "source": [
    "#### Con map:"
   ]
  },
  {
   "cell_type": "code",
   "execution_count": 10,
   "id": "15a9ff58",
   "metadata": {},
   "outputs": [
    {
     "data": {
      "text/plain": [
       "[78.54, 38.48, 7.07, 201.06, 314.16, 1256.64]"
      ]
     },
     "execution_count": 10,
     "metadata": {},
     "output_type": "execute_result"
    }
   ],
   "source": [
    "R = list(map(area, circulos))\n",
    "R"
   ]
  },
  {
   "cell_type": "code",
   "execution_count": 12,
   "id": "bbcca2b5",
   "metadata": {},
   "outputs": [
    {
     "data": {
      "text/plain": [
       "[78.54, 38.48, 7.07, 201.06, 314.16, 1256.64]"
      ]
     },
     "execution_count": 12,
     "metadata": {},
     "output_type": "execute_result"
    }
   ],
   "source": [
    "R2 = list(map(lambda r : round(pi * r**2, 2),circulos))\n",
    "R2"
   ]
  },
  {
   "cell_type": "code",
   "execution_count": null,
   "id": "f68cc9e4",
   "metadata": {},
   "outputs": [],
   "source": []
  }
 ],
 "metadata": {
  "kernelspec": {
   "display_name": "Python 3 (ipykernel)",
   "language": "python",
   "name": "python3"
  },
  "language_info": {
   "codemirror_mode": {
    "name": "ipython",
    "version": 3
   },
   "file_extension": ".py",
   "mimetype": "text/x-python",
   "name": "python",
   "nbconvert_exporter": "python",
   "pygments_lexer": "ipython3",
   "version": "3.8.5"
  }
 },
 "nbformat": 4,
 "nbformat_minor": 5
}

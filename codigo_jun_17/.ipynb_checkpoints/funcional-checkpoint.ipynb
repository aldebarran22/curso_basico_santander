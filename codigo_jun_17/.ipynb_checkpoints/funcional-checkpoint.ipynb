{
 "cells": [
  {
   "cell_type": "markdown",
   "id": "c321d43d",
   "metadata": {},
   "source": [
    "### Funcional"
   ]
  },
  {
   "cell_type": "markdown",
   "id": "570320f8",
   "metadata": {},
   "source": [
    " - Iteradores: map y filter, reduce\n",
    " - List comprehension"
   ]
  },
  {
   "cell_type": "code",
   "execution_count": 1,
   "id": "6a2fa592",
   "metadata": {},
   "outputs": [],
   "source": [
    "from math import pi"
   ]
  },
  {
   "cell_type": "code",
   "execution_count": 2,
   "id": "9d3bae63",
   "metadata": {},
   "outputs": [
    {
     "data": {
      "text/plain": [
       "3.141592653589793"
      ]
     },
     "execution_count": 2,
     "metadata": {},
     "output_type": "execute_result"
    }
   ],
   "source": [
    "pi"
   ]
  },
  {
   "cell_type": "code",
   "execution_count": 6,
   "id": "2307d052",
   "metadata": {},
   "outputs": [],
   "source": [
    "def area(radio):\n",
    "    return round(pi * radio**2, 2)"
   ]
  },
  {
   "cell_type": "code",
   "execution_count": 7,
   "id": "96354e3f",
   "metadata": {},
   "outputs": [],
   "source": [
    "circulos = [5, 3.5, 1.5, 8, 10, 20]"
   ]
  },
  {
   "cell_type": "code",
   "execution_count": 8,
   "id": "110ddc16",
   "metadata": {},
   "outputs": [
    {
     "data": {
      "text/plain": [
       "[78.54, 38.48, 7.07, 201.06, 314.16, 1256.64]"
      ]
     },
     "execution_count": 8,
     "metadata": {},
     "output_type": "execute_result"
    }
   ],
   "source": [
    "areas = []\n",
    "for r in circulos:\n",
    "    areas.append(area(r))\n",
    "    \n",
    "areas"
   ]
  },
  {
   "cell_type": "markdown",
   "id": "1a9e2d2a",
   "metadata": {},
   "source": [
    "#### Con map:"
   ]
  },
  {
   "cell_type": "code",
   "execution_count": 10,
   "id": "0edc10fb",
   "metadata": {},
   "outputs": [
    {
     "data": {
      "text/plain": [
       "[78.54, 38.48, 7.07, 201.06, 314.16, 1256.64]"
      ]
     },
     "execution_count": 10,
     "metadata": {},
     "output_type": "execute_result"
    }
   ],
   "source": [
    "R = list(map(area, circulos))\n",
    "R"
   ]
  },
  {
   "cell_type": "code",
   "execution_count": 12,
   "id": "96884455",
   "metadata": {},
   "outputs": [
    {
     "data": {
      "text/plain": [
       "[78.54, 38.48, 7.07, 201.06, 314.16, 1256.64]"
      ]
     },
     "execution_count": 12,
     "metadata": {},
     "output_type": "execute_result"
    }
   ],
   "source": [
    "R2 = list(map(lambda r : round(pi * r**2, 2),circulos))\n",
    "R2"
   ]
  },
  {
   "cell_type": "markdown",
   "id": "4f02fadd",
   "metadata": {},
   "source": [
    "#### Con List C."
   ]
  },
  {
   "cell_type": "code",
   "execution_count": 13,
   "id": "708a114e",
   "metadata": {},
   "outputs": [
    {
     "data": {
      "text/plain": [
       "[78.54, 38.48, 7.07, 201.06, 314.16, 1256.64]"
      ]
     },
     "execution_count": 13,
     "metadata": {},
     "output_type": "execute_result"
    }
   ],
   "source": [
    "R3 = [area(i) for i in circulos]\n",
    "R3"
   ]
  },
  {
   "cell_type": "code",
   "execution_count": 14,
   "id": "315447e9",
   "metadata": {},
   "outputs": [
    {
     "data": {
      "text/plain": [
       "[78.54, 38.48, 7.07, 201.06, 314.16, 1256.64]"
      ]
     },
     "execution_count": 14,
     "metadata": {},
     "output_type": "execute_result"
    }
   ],
   "source": [
    "R4 = [round(pi * r**2, 2) for r in circulos]\n",
    "R4"
   ]
  },
  {
   "cell_type": "code",
   "execution_count": 15,
   "id": "a2708fab",
   "metadata": {},
   "outputs": [
    {
     "data": {
      "text/plain": [
       "{7.07, 38.48, 78.54, 201.06, 314.16, 1256.64}"
      ]
     },
     "execution_count": 15,
     "metadata": {},
     "output_type": "execute_result"
    }
   ],
   "source": [
    "c = {area(i) for i in circulos}\n",
    "c"
   ]
  },
  {
   "cell_type": "code",
   "execution_count": 16,
   "id": "98a86231",
   "metadata": {},
   "outputs": [
    {
     "data": {
      "text/plain": [
       "{5: 78.54, 3.5: 38.48, 1.5: 7.07, 8: 201.06, 10: 314.16, 20: 1256.64}"
      ]
     },
     "execution_count": 16,
     "metadata": {},
     "output_type": "execute_result"
    }
   ],
   "source": [
    "d = {radio:area(radio) for radio in circulos}\n",
    "d"
   ]
  },
  {
   "cell_type": "code",
   "execution_count": null,
   "id": "ac2bc824",
   "metadata": {},
   "outputs": [],
   "source": []
  }
 ],
 "metadata": {
  "kernelspec": {
   "display_name": "Python 3 (ipykernel)",
   "language": "python",
   "name": "python3"
  },
  "language_info": {
   "codemirror_mode": {
    "name": "ipython",
    "version": 3
   },
   "file_extension": ".py",
   "mimetype": "text/x-python",
   "name": "python",
   "nbconvert_exporter": "python",
   "pygments_lexer": "ipython3",
   "version": "3.8.5"
  }
 },
 "nbformat": 4,
 "nbformat_minor": 5
}

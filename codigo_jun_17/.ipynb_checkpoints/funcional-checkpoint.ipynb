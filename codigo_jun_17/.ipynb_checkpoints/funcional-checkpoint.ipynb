{
 "cells": [
  {
   "cell_type": "markdown",
   "id": "2151980f",
   "metadata": {},
   "source": [
    "### Funcional"
   ]
  },
  {
   "cell_type": "markdown",
   "id": "041159db",
   "metadata": {},
   "source": [
    " - Iteradores: map y filter, reduce\n",
    " - List comprehension"
   ]
  },
  {
   "cell_type": "code",
   "execution_count": 1,
   "id": "433210cb",
   "metadata": {},
   "outputs": [],
   "source": [
    "from math import pi"
   ]
  },
  {
   "cell_type": "code",
   "execution_count": 2,
   "id": "7f15c283",
   "metadata": {},
   "outputs": [
    {
     "data": {
      "text/plain": [
       "3.141592653589793"
      ]
     },
     "execution_count": 2,
     "metadata": {},
     "output_type": "execute_result"
    }
   ],
   "source": [
    "pi"
   ]
  },
  {
   "cell_type": "code",
   "execution_count": 6,
   "id": "a891dd4b",
   "metadata": {},
   "outputs": [],
   "source": [
    "def area(radio):\n",
    "    return round(pi * radio**2, 2)"
   ]
  },
  {
   "cell_type": "code",
   "execution_count": 7,
   "id": "dfd1dd4e",
   "metadata": {},
   "outputs": [],
   "source": [
    "circulos = [5, 3.5, 1.5, 8, 10, 20]"
   ]
  },
  {
   "cell_type": "code",
   "execution_count": 8,
   "id": "190578a5",
   "metadata": {},
   "outputs": [
    {
     "data": {
      "text/plain": [
       "[78.54, 38.48, 7.07, 201.06, 314.16, 1256.64]"
      ]
     },
     "execution_count": 8,
     "metadata": {},
     "output_type": "execute_result"
    }
   ],
   "source": [
    "areas = []\n",
    "for r in circulos:\n",
    "    areas.append(area(r))\n",
    "    \n",
    "areas"
   ]
  },
  {
   "cell_type": "markdown",
   "id": "ae132185",
   "metadata": {},
   "source": [
    "#### Con map:"
   ]
  },
  {
   "cell_type": "code",
   "execution_count": 10,
   "id": "b29b7107",
   "metadata": {},
   "outputs": [
    {
     "data": {
      "text/plain": [
       "[78.54, 38.48, 7.07, 201.06, 314.16, 1256.64]"
      ]
     },
     "execution_count": 10,
     "metadata": {},
     "output_type": "execute_result"
    }
   ],
   "source": [
    "R = list(map(area, circulos))\n",
    "R"
   ]
  },
  {
   "cell_type": "code",
   "execution_count": 12,
   "id": "58813df6",
   "metadata": {},
   "outputs": [
    {
     "data": {
      "text/plain": [
       "[78.54, 38.48, 7.07, 201.06, 314.16, 1256.64]"
      ]
     },
     "execution_count": 12,
     "metadata": {},
     "output_type": "execute_result"
    }
   ],
   "source": [
    "R2 = list(map(lambda r : round(pi * r**2, 2),circulos))\n",
    "R2"
   ]
  },
  {
   "cell_type": "markdown",
   "id": "89290aac",
   "metadata": {},
   "source": [
    "#### Con List C."
   ]
  },
  {
   "cell_type": "code",
   "execution_count": 13,
   "id": "1f46602f",
   "metadata": {},
   "outputs": [
    {
     "data": {
      "text/plain": [
       "[78.54, 38.48, 7.07, 201.06, 314.16, 1256.64]"
      ]
     },
     "execution_count": 13,
     "metadata": {},
     "output_type": "execute_result"
    }
   ],
   "source": [
    "R3 = [area(i) for i in circulos]\n",
    "R3"
   ]
  },
  {
   "cell_type": "code",
   "execution_count": 14,
   "id": "9b6ab38a",
   "metadata": {},
   "outputs": [
    {
     "data": {
      "text/plain": [
       "[78.54, 38.48, 7.07, 201.06, 314.16, 1256.64]"
      ]
     },
     "execution_count": 14,
     "metadata": {},
     "output_type": "execute_result"
    }
   ],
   "source": [
    "R4 = [round(pi * r**2, 2) for r in circulos]\n",
    "R4"
   ]
  },
  {
   "cell_type": "code",
   "execution_count": 15,
   "id": "8a52e6f1",
   "metadata": {},
   "outputs": [
    {
     "data": {
      "text/plain": [
       "{7.07, 38.48, 78.54, 201.06, 314.16, 1256.64}"
      ]
     },
     "execution_count": 15,
     "metadata": {},
     "output_type": "execute_result"
    }
   ],
   "source": [
    "c = {area(i) for i in circulos}\n",
    "c"
   ]
  },
  {
   "cell_type": "code",
   "execution_count": 16,
   "id": "ddb923cf",
   "metadata": {},
   "outputs": [
    {
     "data": {
      "text/plain": [
       "{5: 78.54, 3.5: 38.48, 1.5: 7.07, 8: 201.06, 10: 314.16, 20: 1256.64}"
      ]
     },
     "execution_count": 16,
     "metadata": {},
     "output_type": "execute_result"
    }
   ],
   "source": [
    "d = {radio:area(radio) for radio in circulos}\n",
    "d"
   ]
  },
  {
   "cell_type": "markdown",
   "id": "eb507f42",
   "metadata": {},
   "source": [
    "#### filter"
   ]
  },
  {
   "cell_type": "code",
   "execution_count": 17,
   "id": "906ab1c5",
   "metadata": {},
   "outputs": [
    {
     "data": {
      "text/plain": [
       "[78.54, 38.48, 7.07, 201.06, 314.16, 1256.64]"
      ]
     },
     "execution_count": 17,
     "metadata": {},
     "output_type": "execute_result"
    }
   ],
   "source": [
    "R4"
   ]
  },
  {
   "cell_type": "code",
   "execution_count": 18,
   "id": "76fddfbf",
   "metadata": {},
   "outputs": [],
   "source": [
    "# Filtrar los valores de R4 que están en el intervalo 100 y 500\n",
    "def filtro(n):\n",
    "    return 100 <= n <= 500"
   ]
  },
  {
   "cell_type": "code",
   "execution_count": 19,
   "id": "47f59894",
   "metadata": {},
   "outputs": [
    {
     "data": {
      "text/plain": [
       "[201.06, 314.16]"
      ]
     },
     "execution_count": 19,
     "metadata": {},
     "output_type": "execute_result"
    }
   ],
   "source": [
    "R5 = list(filter(filtro, R4))\n",
    "R5"
   ]
  },
  {
   "cell_type": "code",
   "execution_count": 20,
   "id": "8a2d7dfc",
   "metadata": {},
   "outputs": [
    {
     "data": {
      "text/plain": [
       "[201.06, 314.16]"
      ]
     },
     "execution_count": 20,
     "metadata": {},
     "output_type": "execute_result"
    }
   ],
   "source": [
    "R6 = list(filter(lambda n : 100 <= n <= 500 , R4))\n",
    "R6"
   ]
  },
  {
   "cell_type": "markdown",
   "id": "73f4dfdb",
   "metadata": {},
   "source": [
    "#### Con List C."
   ]
  },
  {
   "cell_type": "code",
   "execution_count": 22,
   "id": "2aa451de",
   "metadata": {},
   "outputs": [
    {
     "data": {
      "text/plain": [
       "[201.06, 314.16]"
      ]
     },
     "execution_count": 22,
     "metadata": {},
     "output_type": "execute_result"
    }
   ],
   "source": [
    "R7 = [i for i in R4 if 100 <= i <= 500]\n",
    "R7"
   ]
  },
  {
   "cell_type": "code",
   "execution_count": null,
   "id": "9be0aae5",
   "metadata": {},
   "outputs": [],
   "source": []
  },
  {
   "cell_type": "code",
   "execution_count": null,
   "id": "9efdafe7",
   "metadata": {},
   "outputs": [],
   "source": []
  }
 ],
 "metadata": {
  "kernelspec": {
   "display_name": "Python 3 (ipykernel)",
   "language": "python",
   "name": "python3"
  },
  "language_info": {
   "codemirror_mode": {
    "name": "ipython",
    "version": 3
   },
   "file_extension": ".py",
   "mimetype": "text/x-python",
   "name": "python",
   "nbconvert_exporter": "python",
   "pygments_lexer": "ipython3",
   "version": "3.8.5"
  }
 },
 "nbformat": 4,
 "nbformat_minor": 5
}

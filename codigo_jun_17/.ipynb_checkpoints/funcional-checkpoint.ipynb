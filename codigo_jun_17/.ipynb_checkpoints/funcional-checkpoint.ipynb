{
 "cells": [
  {
   "cell_type": "markdown",
   "id": "655c2220",
   "metadata": {},
   "source": [
    "### Funcional"
   ]
  },
  {
   "cell_type": "markdown",
   "id": "8e150919",
   "metadata": {},
   "source": [
    " - Iteradores: map y filter, reduce\n",
    " - List comprehension"
   ]
  },
  {
   "cell_type": "code",
   "execution_count": 26,
   "id": "1951a423",
   "metadata": {},
   "outputs": [],
   "source": [
    "from math import pi\n",
    "from functools import reduce\n",
    "from string import ascii_letters\n",
    "from random import randint"
   ]
  },
  {
   "cell_type": "code",
   "execution_count": 2,
   "id": "a90539d1",
   "metadata": {},
   "outputs": [
    {
     "data": {
      "text/plain": [
       "3.141592653589793"
      ]
     },
     "execution_count": 2,
     "metadata": {},
     "output_type": "execute_result"
    }
   ],
   "source": [
    "pi"
   ]
  },
  {
   "cell_type": "code",
   "execution_count": 6,
   "id": "d37ff1e2",
   "metadata": {},
   "outputs": [],
   "source": [
    "def area(radio):\n",
    "    return round(pi * radio**2, 2)"
   ]
  },
  {
   "cell_type": "code",
   "execution_count": 7,
   "id": "dbb48e3c",
   "metadata": {},
   "outputs": [],
   "source": [
    "circulos = [5, 3.5, 1.5, 8, 10, 20]"
   ]
  },
  {
   "cell_type": "code",
   "execution_count": 8,
   "id": "6f9c4438",
   "metadata": {},
   "outputs": [
    {
     "data": {
      "text/plain": [
       "[78.54, 38.48, 7.07, 201.06, 314.16, 1256.64]"
      ]
     },
     "execution_count": 8,
     "metadata": {},
     "output_type": "execute_result"
    }
   ],
   "source": [
    "areas = []\n",
    "for r in circulos:\n",
    "    areas.append(area(r))\n",
    "    \n",
    "areas"
   ]
  },
  {
   "cell_type": "markdown",
   "id": "85b71fe4",
   "metadata": {},
   "source": [
    "#### Con map:"
   ]
  },
  {
   "cell_type": "code",
   "execution_count": 10,
   "id": "d31328b4",
   "metadata": {},
   "outputs": [
    {
     "data": {
      "text/plain": [
       "[78.54, 38.48, 7.07, 201.06, 314.16, 1256.64]"
      ]
     },
     "execution_count": 10,
     "metadata": {},
     "output_type": "execute_result"
    }
   ],
   "source": [
    "R = list(map(area, circulos))\n",
    "R"
   ]
  },
  {
   "cell_type": "code",
   "execution_count": 12,
   "id": "4ef05144",
   "metadata": {},
   "outputs": [
    {
     "data": {
      "text/plain": [
       "[78.54, 38.48, 7.07, 201.06, 314.16, 1256.64]"
      ]
     },
     "execution_count": 12,
     "metadata": {},
     "output_type": "execute_result"
    }
   ],
   "source": [
    "R2 = list(map(lambda r : round(pi * r**2, 2),circulos))\n",
    "R2"
   ]
  },
  {
   "cell_type": "markdown",
   "id": "5b54a250",
   "metadata": {},
   "source": [
    "#### Con List C."
   ]
  },
  {
   "cell_type": "code",
   "execution_count": 13,
   "id": "7c408de2",
   "metadata": {},
   "outputs": [
    {
     "data": {
      "text/plain": [
       "[78.54, 38.48, 7.07, 201.06, 314.16, 1256.64]"
      ]
     },
     "execution_count": 13,
     "metadata": {},
     "output_type": "execute_result"
    }
   ],
   "source": [
    "R3 = [area(i) for i in circulos]\n",
    "R3"
   ]
  },
  {
   "cell_type": "code",
   "execution_count": 14,
   "id": "66fca239",
   "metadata": {},
   "outputs": [
    {
     "data": {
      "text/plain": [
       "[78.54, 38.48, 7.07, 201.06, 314.16, 1256.64]"
      ]
     },
     "execution_count": 14,
     "metadata": {},
     "output_type": "execute_result"
    }
   ],
   "source": [
    "R4 = [round(pi * r**2, 2) for r in circulos]\n",
    "R4"
   ]
  },
  {
   "cell_type": "code",
   "execution_count": 15,
   "id": "ca4c08ac",
   "metadata": {},
   "outputs": [
    {
     "data": {
      "text/plain": [
       "{7.07, 38.48, 78.54, 201.06, 314.16, 1256.64}"
      ]
     },
     "execution_count": 15,
     "metadata": {},
     "output_type": "execute_result"
    }
   ],
   "source": [
    "c = {area(i) for i in circulos}\n",
    "c"
   ]
  },
  {
   "cell_type": "code",
   "execution_count": 16,
   "id": "60d64b04",
   "metadata": {},
   "outputs": [
    {
     "data": {
      "text/plain": [
       "{5: 78.54, 3.5: 38.48, 1.5: 7.07, 8: 201.06, 10: 314.16, 20: 1256.64}"
      ]
     },
     "execution_count": 16,
     "metadata": {},
     "output_type": "execute_result"
    }
   ],
   "source": [
    "d = {radio:area(radio) for radio in circulos}\n",
    "d"
   ]
  },
  {
   "cell_type": "markdown",
   "id": "986fd8af",
   "metadata": {},
   "source": [
    "#### filter"
   ]
  },
  {
   "cell_type": "code",
   "execution_count": 17,
   "id": "b5c4e2e0",
   "metadata": {},
   "outputs": [
    {
     "data": {
      "text/plain": [
       "[78.54, 38.48, 7.07, 201.06, 314.16, 1256.64]"
      ]
     },
     "execution_count": 17,
     "metadata": {},
     "output_type": "execute_result"
    }
   ],
   "source": [
    "R4"
   ]
  },
  {
   "cell_type": "code",
   "execution_count": 18,
   "id": "0852d8c0",
   "metadata": {},
   "outputs": [],
   "source": [
    "# Filtrar los valores de R4 que están en el intervalo 100 y 500\n",
    "def filtro(n):\n",
    "    return 100 <= n <= 500"
   ]
  },
  {
   "cell_type": "code",
   "execution_count": 19,
   "id": "003a4fab",
   "metadata": {},
   "outputs": [
    {
     "data": {
      "text/plain": [
       "[201.06, 314.16]"
      ]
     },
     "execution_count": 19,
     "metadata": {},
     "output_type": "execute_result"
    }
   ],
   "source": [
    "R5 = list(filter(filtro, R4))\n",
    "R5"
   ]
  },
  {
   "cell_type": "code",
   "execution_count": 20,
   "id": "6ea8f1f5",
   "metadata": {},
   "outputs": [
    {
     "data": {
      "text/plain": [
       "[201.06, 314.16]"
      ]
     },
     "execution_count": 20,
     "metadata": {},
     "output_type": "execute_result"
    }
   ],
   "source": [
    "R6 = list(filter(lambda n : 100 <= n <= 500 , R4))\n",
    "R6"
   ]
  },
  {
   "cell_type": "markdown",
   "id": "d299302a",
   "metadata": {},
   "source": [
    "#### Con List C."
   ]
  },
  {
   "cell_type": "code",
   "execution_count": 22,
   "id": "c4c6f245",
   "metadata": {},
   "outputs": [
    {
     "data": {
      "text/plain": [
       "[201.06, 314.16]"
      ]
     },
     "execution_count": 22,
     "metadata": {},
     "output_type": "execute_result"
    }
   ],
   "source": [
    "R7 = [i for i in R4 if 100 <= i <= 500]\n",
    "R7"
   ]
  },
  {
   "cell_type": "markdown",
   "id": "a25225da",
   "metadata": {},
   "source": [
    "#### reduce"
   ]
  },
  {
   "cell_type": "code",
   "execution_count": 24,
   "id": "cad608ee",
   "metadata": {},
   "outputs": [],
   "source": [
    "def menor(n1, n2):\n",
    "    print(n1, n2)\n",
    "    \n",
    "    return n1 if n1 < n2 else n2"
   ]
  },
  {
   "cell_type": "code",
   "execution_count": 25,
   "id": "54aef54e",
   "metadata": {},
   "outputs": [
    {
     "name": "stdout",
     "output_type": "stream",
     "text": [
      "45 44\n",
      "44 46\n",
      "44 32\n",
      "32 23\n",
      "23 55\n",
      "23 12\n",
      "12 7\n",
      "7 400\n",
      "Resultado: 7\n"
     ]
    }
   ],
   "source": [
    "L = [45,44,46,32,23,55,12,7,400]\n",
    "\n",
    "resul = reduce(menor, L)\n",
    "print(\"Resultado:\", resul)"
   ]
  },
  {
   "cell_type": "markdown",
   "id": "dbe4de1d",
   "metadata": {},
   "source": [
    "Generar la colección de candidatos:"
   ]
  },
  {
   "cell_type": "code",
   "execution_count": 32,
   "id": "e2403d02",
   "metadata": {},
   "outputs": [],
   "source": [
    "def mejorCandidato(c1, c2):\n",
    "    if c1['exp'] > c2['exp']:\n",
    "        return c1\n",
    "    \n",
    "    elif c2['exp'] > c1['exp']:\n",
    "        return c2\n",
    "    \n",
    "    else:\n",
    "        \n",
    "        if c1['emp'] > c2['emp']:\n",
    "            return c1\n",
    "        \n",
    "        elif c2['emp'] > c1['emp']:\n",
    "            return c2\n",
    "    \n",
    "        else:\n",
    "            if c1['sup'] and not c2['sup']:\n",
    "                return c1\n",
    "            \n",
    "            elif c2['sup'] and not c1['sup']:\n",
    "                return c2\n",
    "            \n",
    "            else:\n",
    "                return c1        "
   ]
  },
  {
   "cell_type": "code",
   "execution_count": 30,
   "id": "71a670a0",
   "metadata": {},
   "outputs": [
    {
     "data": {
      "text/plain": [
       "[{'nombre': 'aaaaa', 'exp': 7, 'emp': 1, 'sup': False},\n",
       " {'nombre': 'bbbbb', 'exp': 6, 'emp': 2, 'sup': True},\n",
       " {'nombre': 'ccccc', 'exp': 7, 'emp': 3, 'sup': False},\n",
       " {'nombre': 'ddddd', 'exp': 5, 'emp': 5, 'sup': True},\n",
       " {'nombre': 'eeeee', 'exp': 3, 'emp': 4, 'sup': True},\n",
       " {'nombre': 'fffff', 'exp': 6, 'emp': 4, 'sup': False},\n",
       " {'nombre': 'ggggg', 'exp': 7, 'emp': 2, 'sup': True},\n",
       " {'nombre': 'hhhhh', 'exp': 3, 'emp': 4, 'sup': True},\n",
       " {'nombre': 'iiiii', 'exp': 8, 'emp': 3, 'sup': False},\n",
       " {'nombre': 'jjjjj', 'exp': 4, 'emp': 3, 'sup': True},\n",
       " {'nombre': 'kkkkk', 'exp': 6, 'emp': 2, 'sup': True},\n",
       " {'nombre': 'lllll', 'exp': 4, 'emp': 1, 'sup': True},\n",
       " {'nombre': 'mmmmm', 'exp': 8, 'emp': 3, 'sup': True},\n",
       " {'nombre': 'nnnnn', 'exp': 5, 'emp': 2, 'sup': True},\n",
       " {'nombre': 'ooooo', 'exp': 5, 'emp': 4, 'sup': False},\n",
       " {'nombre': 'ppppp', 'exp': 8, 'emp': 1, 'sup': True},\n",
       " {'nombre': 'qqqqq', 'exp': 4, 'emp': 6, 'sup': False},\n",
       " {'nombre': 'rrrrr', 'exp': 3, 'emp': 2, 'sup': False},\n",
       " {'nombre': 'sssss', 'exp': 5, 'emp': 2, 'sup': False},\n",
       " {'nombre': 'ttttt', 'exp': 4, 'emp': 1, 'sup': True},\n",
       " {'nombre': 'uuuuu', 'exp': 7, 'emp': 4, 'sup': False},\n",
       " {'nombre': 'vvvvv', 'exp': 6, 'emp': 6, 'sup': False},\n",
       " {'nombre': 'wwwww', 'exp': 6, 'emp': 4, 'sup': True},\n",
       " {'nombre': 'xxxxx', 'exp': 5, 'emp': 6, 'sup': True},\n",
       " {'nombre': 'yyyyy', 'exp': 5, 'emp': 4, 'sup': False},\n",
       " {'nombre': 'zzzzz', 'exp': 5, 'emp': 1, 'sup': True},\n",
       " {'nombre': 'AAAAA', 'exp': 4, 'emp': 5, 'sup': True},\n",
       " {'nombre': 'BBBBB', 'exp': 3, 'emp': 3, 'sup': False},\n",
       " {'nombre': 'CCCCC', 'exp': 4, 'emp': 3, 'sup': True},\n",
       " {'nombre': 'DDDDD', 'exp': 3, 'emp': 4, 'sup': True},\n",
       " {'nombre': 'EEEEE', 'exp': 4, 'emp': 1, 'sup': True},\n",
       " {'nombre': 'FFFFF', 'exp': 8, 'emp': 5, 'sup': False},\n",
       " {'nombre': 'GGGGG', 'exp': 6, 'emp': 2, 'sup': False},\n",
       " {'nombre': 'HHHHH', 'exp': 5, 'emp': 4, 'sup': False},\n",
       " {'nombre': 'IIIII', 'exp': 8, 'emp': 6, 'sup': True},\n",
       " {'nombre': 'JJJJJ', 'exp': 6, 'emp': 3, 'sup': True},\n",
       " {'nombre': 'KKKKK', 'exp': 7, 'emp': 1, 'sup': False},\n",
       " {'nombre': 'LLLLL', 'exp': 8, 'emp': 1, 'sup': False},\n",
       " {'nombre': 'MMMMM', 'exp': 3, 'emp': 3, 'sup': False},\n",
       " {'nombre': 'NNNNN', 'exp': 4, 'emp': 5, 'sup': False},\n",
       " {'nombre': 'OOOOO', 'exp': 6, 'emp': 3, 'sup': True},\n",
       " {'nombre': 'PPPPP', 'exp': 4, 'emp': 6, 'sup': True},\n",
       " {'nombre': 'QQQQQ', 'exp': 5, 'emp': 2, 'sup': False},\n",
       " {'nombre': 'RRRRR', 'exp': 7, 'emp': 6, 'sup': False},\n",
       " {'nombre': 'SSSSS', 'exp': 8, 'emp': 3, 'sup': False},\n",
       " {'nombre': 'TTTTT', 'exp': 8, 'emp': 5, 'sup': True},\n",
       " {'nombre': 'UUUUU', 'exp': 3, 'emp': 2, 'sup': False},\n",
       " {'nombre': 'VVVVV', 'exp': 4, 'emp': 5, 'sup': False},\n",
       " {'nombre': 'WWWWW', 'exp': 3, 'emp': 4, 'sup': False},\n",
       " {'nombre': 'XXXXX', 'exp': 4, 'emp': 6, 'sup': False},\n",
       " {'nombre': 'YYYYY', 'exp': 8, 'emp': 1, 'sup': False},\n",
       " {'nombre': 'ZZZZZ', 'exp': 7, 'emp': 6, 'sup': False}]"
      ]
     },
     "execution_count": 30,
     "metadata": {},
     "output_type": "execute_result"
    }
   ],
   "source": [
    "candidatos = [{\"nombre\":letra * 5, \"exp\":randint(3,8),\"emp\":randint(1,6),\"sup\": randint(1,10)%2==0} for letra in ascii_letters]\n",
    "candidatos"
   ]
  },
  {
   "cell_type": "code",
   "execution_count": 33,
   "id": "c83f3b02",
   "metadata": {},
   "outputs": [
    {
     "data": {
      "text/plain": [
       "{'nombre': 'mmmmm', 'exp': 8, 'emp': 3, 'sup': True}"
      ]
     },
     "execution_count": 33,
     "metadata": {},
     "output_type": "execute_result"
    }
   ],
   "source": [
    "elMejor = reduce(mejorCandidato, candidatos)\n",
    "elMejor"
   ]
  },
  {
   "cell_type": "code",
   "execution_count": null,
   "id": "284f534b",
   "metadata": {},
   "outputs": [],
   "source": []
  }
 ],
 "metadata": {
  "kernelspec": {
   "display_name": "Python 3 (ipykernel)",
   "language": "python",
   "name": "python3"
  },
  "language_info": {
   "codemirror_mode": {
    "name": "ipython",
    "version": 3
   },
   "file_extension": ".py",
   "mimetype": "text/x-python",
   "name": "python",
   "nbconvert_exporter": "python",
   "pygments_lexer": "ipython3",
   "version": "3.8.5"
  }
 },
 "nbformat": 4,
 "nbformat_minor": 5
}

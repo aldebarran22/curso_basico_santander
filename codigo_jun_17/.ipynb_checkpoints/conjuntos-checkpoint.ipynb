{
 "cells": [
  {
   "cell_type": "markdown",
   "id": "3dd2b853",
   "metadata": {},
   "source": [
    "### Conjuntos en Python"
   ]
  },
  {
   "cell_type": "code",
   "execution_count": 1,
   "id": "e3d5acb0",
   "metadata": {},
   "outputs": [
    {
     "data": {
      "text/plain": [
       "{1, 2, 3, 4, 5, 7, 22, 33}"
      ]
     },
     "execution_count": 1,
     "metadata": {},
     "output_type": "execute_result"
    }
   ],
   "source": [
    "c1 = {1,4,5,3,2,7,33,22,22,33}\n",
    "c1"
   ]
  },
  {
   "cell_type": "code",
   "execution_count": 2,
   "id": "b1987895",
   "metadata": {},
   "outputs": [
    {
     "ename": "TypeError",
     "evalue": "'set' object is not subscriptable",
     "output_type": "error",
     "traceback": [
      "\u001b[1;31m---------------------------------------------------------------------------\u001b[0m",
      "\u001b[1;31mTypeError\u001b[0m                                 Traceback (most recent call last)",
      "\u001b[1;32m<ipython-input-2-50c5d02d1184>\u001b[0m in \u001b[0;36m<module>\u001b[1;34m\u001b[0m\n\u001b[1;32m----> 1\u001b[1;33m \u001b[0mc1\u001b[0m\u001b[1;33m[\u001b[0m\u001b[1;36m0\u001b[0m\u001b[1;33m]\u001b[0m\u001b[1;33m\u001b[0m\u001b[1;33m\u001b[0m\u001b[0m\n\u001b[0m",
      "\u001b[1;31mTypeError\u001b[0m: 'set' object is not subscriptable"
     ]
    }
   ],
   "source": [
    "c1[0]"
   ]
  },
  {
   "cell_type": "code",
   "execution_count": 3,
   "id": "1698a746",
   "metadata": {},
   "outputs": [
    {
     "data": {
      "text/plain": [
       "set"
      ]
     },
     "execution_count": 3,
     "metadata": {},
     "output_type": "execute_result"
    }
   ],
   "source": [
    "type(c1)"
   ]
  },
  {
   "cell_type": "code",
   "execution_count": 4,
   "id": "6257094a",
   "metadata": {},
   "outputs": [
    {
     "data": {
      "text/plain": [
       "{8, 12}"
      ]
     },
     "execution_count": 4,
     "metadata": {},
     "output_type": "execute_result"
    }
   ],
   "source": [
    "c2 = set()\n",
    "c2.add(12)\n",
    "c2.add(12)\n",
    "c2.add(12)\n",
    "c2.add(8)\n",
    "c2"
   ]
  },
  {
   "cell_type": "code",
   "execution_count": 5,
   "id": "fd4965cf",
   "metadata": {},
   "outputs": [
    {
     "name": "stdout",
     "output_type": "stream",
     "text": [
      "Tenemos:  2 números\n"
     ]
    }
   ],
   "source": [
    "print(\"Tenemos: \", len(c2), \"números\")"
   ]
  },
  {
   "cell_type": "markdown",
   "id": "db009572",
   "metadata": {},
   "source": [
    "Operadores a nivel de conjuntos:\n",
    " - & intersección\n",
    " - | unión\n",
    " - menos diferencia\n",
    " - ^ diferencia simétrica"
   ]
  },
  {
   "cell_type": "code",
   "execution_count": 11,
   "id": "89f1ef68",
   "metadata": {},
   "outputs": [
    {
     "name": "stdout",
     "output_type": "stream",
     "text": [
      "Quién va a comer y a cenar:  {'Raquel', 'Andrés'}\n",
      "Quién va a comer y a cenar:  {'Raquel', 'Andrés'}\n",
      "Quién va solo a comer:  {'Pablo', 'Sonia', 'Eva'}\n",
      "Quién va solo a cenar:  {'Miguel', 'Sara', 'Juan'}\n",
      "Quienes han participado en los eventos:  {'Sara', 'Andrés', 'Eva', 'Miguel', 'Sonia', 'Pablo', 'Juan', 'Raquel'}\n",
      "Quién va sólo a un eventos pero no a los dos:  {'Miguel', 'Sara', 'Juan', 'Eva', 'Sonia', 'Pablo'}\n"
     ]
    }
   ],
   "source": [
    "comida = {\"Raquel\",\"Pablo\",\"Andrés\",\"Sonia\",\"Eva\"}\n",
    "cena = {\"Raquel\", \"Andrés\", \"Miguel\", \"Sara\", \"Juan\"}\n",
    "\n",
    "print('Quién va a comer y a cenar: ', comida & cena)\n",
    "print('Quién va a comer y a cenar: ', comida.intersection(cena))\n",
    "print(\"Quién va solo a comer: \", comida - cena)\n",
    "print(\"Quién va solo a cenar: \", cena - comida)\n",
    "print(\"Quienes han participado en los eventos: \", comida | cena)\n",
    "print(\"Quién va sólo a un eventos pero no a los dos: \", comida ^ cena)"
   ]
  },
  {
   "cell_type": "code",
   "execution_count": null,
   "id": "57a3ab70",
   "metadata": {},
   "outputs": [],
   "source": []
  }
 ],
 "metadata": {
  "kernelspec": {
   "display_name": "Python 3 (ipykernel)",
   "language": "python",
   "name": "python3"
  },
  "language_info": {
   "codemirror_mode": {
    "name": "ipython",
    "version": 3
   },
   "file_extension": ".py",
   "mimetype": "text/x-python",
   "name": "python",
   "nbconvert_exporter": "python",
   "pygments_lexer": "ipython3",
   "version": "3.8.5"
  }
 },
 "nbformat": 4,
 "nbformat_minor": 5
}

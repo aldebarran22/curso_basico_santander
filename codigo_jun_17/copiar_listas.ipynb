{
 "cells": [
  {
   "cell_type": "markdown",
   "metadata": {},
   "source": [
    "## Copiar listas en Python"
   ]
  },
  {
   "cell_type": "code",
   "execution_count": 1,
   "metadata": {},
   "outputs": [
    {
     "data": {
      "text/plain": [
       "[1, 3, 4, 5, 6, 9]"
      ]
     },
     "execution_count": 1,
     "metadata": {},
     "output_type": "execute_result"
    }
   ],
   "source": [
    "L = [1,3,4,5,6,9]\n",
    "L"
   ]
  },
  {
   "cell_type": "markdown",
   "metadata": {},
   "source": [
    "### Funciona igual en conjuntos (set) y diccionarios (dict)"
   ]
  },
  {
   "cell_type": "code",
   "execution_count": 3,
   "metadata": {},
   "outputs": [
    {
     "name": "stdout",
     "output_type": "stream",
     "text": [
      "L1:  [1000, 2, 3, 4, 5] 2338535994432\n",
      "L2:  [1000, 2, 3, 4, 5] 2338535994432\n"
     ]
    }
   ],
   "source": [
    "# Copiar una lista: Crear una referencia!\n",
    "L1 = [1,2,3,4,5]\n",
    "L2 = L1  \n",
    "L1[0] = 1000\n",
    "print(\"L1: \", L1, id(L1))\n",
    "print(\"L2: \", L2, id(L2))"
   ]
  },
  {
   "cell_type": "code",
   "execution_count": 4,
   "metadata": {},
   "outputs": [
    {
     "name": "stdout",
     "output_type": "stream",
     "text": [
      "L1:  [1000, 2, 3, 4, 5] 2338536176832\n",
      "L2:  [1, 2, 3, 4, 5] 2338536163008\n"
     ]
    }
   ],
   "source": [
    "# Copiar listas de objetos inmutables\n",
    "L1 = [1,2,3,4,5]\n",
    "L2 = L1.copy()  \n",
    "L1[0] = 1000\n",
    "print(\"L1: \", L1, id(L1))\n",
    "print(\"L2: \", L2, id(L2))"
   ]
  },
  {
   "cell_type": "code",
   "execution_count": 5,
   "metadata": {},
   "outputs": [
    {
     "name": "stdout",
     "output_type": "stream",
     "text": [
      "L1:  [1000, [4, 5, 999]] 2338536166528\n",
      "L2:  [[1, 2, 3], [4, 5, 999]] 2338535999296\n"
     ]
    }
   ],
   "source": [
    "# Copiar una lista de listas (mutables). Los elementos se comparten\n",
    "L1 = [[1,2,3],[4,5]]\n",
    "L2 = L1.copy()  \n",
    "L1[0] = 1000\n",
    "L1[-1].append(999)\n",
    "print(\"L1: \", L1, id(L1))\n",
    "print(\"L2: \", L2, id(L2))"
   ]
  },
  {
   "cell_type": "code",
   "execution_count": 6,
   "metadata": {},
   "outputs": [
    {
     "name": "stdout",
     "output_type": "stream",
     "text": [
      "L1:  [1000, [4, 5, 999]] 2338535997696\n",
      "L2:  [[1, 2, 3], [4, 5]] 2338536147200\n"
     ]
    }
   ],
   "source": [
    "import copy\n",
    "L1 = [[1,2,3],[4,5]]\n",
    "L2 = copy.deepcopy(L1)  \n",
    "L1[0] = 1000\n",
    "L1[-1].append(999)\n",
    "print(\"L1: \", L1, id(L1))\n",
    "print(\"L2: \", L2, id(L2))"
   ]
  },
  {
   "cell_type": "code",
   "execution_count": null,
   "metadata": {},
   "outputs": [],
   "source": []
  }
 ],
 "metadata": {
  "kernelspec": {
   "display_name": "Python 3",
   "language": "python",
   "name": "python3"
  },
  "language_info": {
   "codemirror_mode": {
    "name": "ipython",
    "version": 3
   },
   "file_extension": ".py",
   "mimetype": "text/x-python",
   "name": "python",
   "nbconvert_exporter": "python",
   "pygments_lexer": "ipython3",
   "version": "3.8.5"
  }
 },
 "nbformat": 4,
 "nbformat_minor": 4
}

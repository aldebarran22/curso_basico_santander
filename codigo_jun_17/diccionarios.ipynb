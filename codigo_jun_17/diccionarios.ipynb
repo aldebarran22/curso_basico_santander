{
 "cells": [
  {
   "cell_type": "markdown",
   "metadata": {},
   "source": [
    "### Diccionarios en Python"
   ]
  },
  {
   "cell_type": "code",
   "execution_count": 1,
   "metadata": {},
   "outputs": [
    {
     "name": "stdout",
     "output_type": "stream",
     "text": [
      "{'a': 1, 'b': 2, 'c': 3} <class 'dict'>\n"
     ]
    }
   ],
   "source": [
    "d = {\"a\": 1, \"b\":2, \"c\": 3}\n",
    "print(d, type(d))"
   ]
  },
  {
   "cell_type": "markdown",
   "metadata": {},
   "source": [
    "La clave de un diccionario tiene que ser un tipo inmutable: números, bool, tuplas y cadenas (str)"
   ]
  },
  {
   "cell_type": "code",
   "execution_count": 2,
   "metadata": {},
   "outputs": [
    {
     "ename": "TypeError",
     "evalue": "unhashable type: 'list'",
     "output_type": "error",
     "traceback": [
      "\u001b[1;31m---------------------------------------------------------------------------\u001b[0m",
      "\u001b[1;31mTypeError\u001b[0m                                 Traceback (most recent call last)",
      "\u001b[1;32m<ipython-input-2-a80032b33b14>\u001b[0m in \u001b[0;36m<module>\u001b[1;34m\u001b[0m\n\u001b[1;32m----> 1\u001b[1;33m \u001b[0md2\u001b[0m \u001b[1;33m=\u001b[0m \u001b[1;33m{\u001b[0m\u001b[1;33m[\u001b[0m\u001b[1;36m1\u001b[0m\u001b[1;33m,\u001b[0m\u001b[1;36m2\u001b[0m\u001b[1;33m]\u001b[0m\u001b[1;33m:\u001b[0m\u001b[1;34m\"hola\"\u001b[0m\u001b[1;33m,\u001b[0m \u001b[1;33m[\u001b[0m\u001b[1;36m3\u001b[0m\u001b[1;33m,\u001b[0m\u001b[1;36m4\u001b[0m\u001b[1;33m]\u001b[0m\u001b[1;33m:\u001b[0m\u001b[1;34m\"adios\"\u001b[0m\u001b[1;33m}\u001b[0m\u001b[1;33m\u001b[0m\u001b[1;33m\u001b[0m\u001b[0m\n\u001b[0m",
      "\u001b[1;31mTypeError\u001b[0m: unhashable type: 'list'"
     ]
    }
   ],
   "source": [
    "d2 = {[1,2]:\"hola\", [3,4]:\"adios\"}"
   ]
  },
  {
   "cell_type": "code",
   "execution_count": 4,
   "metadata": {},
   "outputs": [],
   "source": [
    "d[\"d\"] = 4"
   ]
  },
  {
   "cell_type": "code",
   "execution_count": 5,
   "metadata": {},
   "outputs": [
    {
     "data": {
      "text/plain": [
       "{'a': 1, 'b': 2, 'c': 3, 'd': 4}"
      ]
     },
     "execution_count": 5,
     "metadata": {},
     "output_type": "execute_result"
    }
   ],
   "source": [
    "d"
   ]
  },
  {
   "cell_type": "code",
   "execution_count": 6,
   "metadata": {},
   "outputs": [
    {
     "data": {
      "text/plain": [
       "{'a': 1, 'b': 2, 'c': 3, 'd': 400}"
      ]
     },
     "execution_count": 6,
     "metadata": {},
     "output_type": "execute_result"
    }
   ],
   "source": [
    "d[\"d\"] = 400\n",
    "d"
   ]
  },
  {
   "cell_type": "code",
   "execution_count": 7,
   "metadata": {},
   "outputs": [],
   "source": [
    "txt = \"\"\"id;nombre;cargo\n",
    "1;Davolio;Representante de ventas\"\"\""
   ]
  },
  {
   "cell_type": "code",
   "execution_count": 8,
   "metadata": {},
   "outputs": [
    {
     "data": {
      "text/plain": [
       "['id;nombre;cargo', '1;Davolio;Representante de ventas']"
      ]
     },
     "execution_count": 8,
     "metadata": {},
     "output_type": "execute_result"
    }
   ],
   "source": [
    "L = txt.split(\"\\n\")\n",
    "L"
   ]
  },
  {
   "cell_type": "code",
   "execution_count": 9,
   "metadata": {},
   "outputs": [
    {
     "name": "stdout",
     "output_type": "stream",
     "text": [
      "['id', 'nombre', 'cargo']\n",
      "['1', 'Davolio', 'Representante de ventas']\n"
     ]
    }
   ],
   "source": [
    "cabs = L[0].split(\";\")\n",
    "valores = L[1].split(\";\")\n",
    "print(cabs)\n",
    "print(valores)"
   ]
  },
  {
   "cell_type": "code",
   "execution_count": 10,
   "metadata": {},
   "outputs": [
    {
     "data": {
      "text/plain": [
       "{'id': '1', 'nombre': 'Davolio', 'cargo': 'Representante de ventas'}"
      ]
     },
     "execution_count": 10,
     "metadata": {},
     "output_type": "execute_result"
    }
   ],
   "source": [
    "emp = dict(zip(cabs, valores))\n",
    "emp"
   ]
  },
  {
   "cell_type": "code",
   "execution_count": 11,
   "metadata": {},
   "outputs": [
    {
     "data": {
      "text/plain": [
       "'Davolio'"
      ]
     },
     "execution_count": 11,
     "metadata": {},
     "output_type": "execute_result"
    }
   ],
   "source": [
    "emp['nombre']"
   ]
  },
  {
   "cell_type": "code",
   "execution_count": 12,
   "metadata": {},
   "outputs": [],
   "source": [
    "txt2 = \"\"\"id;nombre;cargo\n",
    "1;Davolio;Representante de ventas\n",
    "2;Fuller;Vicepresidente comercial\n",
    "3;Leverling;Representante de ventas\n",
    "4;Peacock;Representante de ventas\n",
    "5;Buchanan;Gerente de ventas\n",
    "6;Suyama;Representante de ventas\n",
    "7;King;Representante de ventas\n",
    "8;Callahan;Coordinador ventas interno\n",
    "9;Dodsworth;Representante de ventas\"\"\""
   ]
  },
  {
   "cell_type": "code",
   "execution_count": 13,
   "metadata": {},
   "outputs": [
    {
     "data": {
      "text/plain": [
       "'id;nombre;cargo\\n1;Davolio;Representante de ventas\\n2;Fuller;Vicepresidente comercial\\n3;Leverling;Representante de ventas\\n4;Peacock;Representante de ventas\\n5;Buchanan;Gerente de ventas\\n6;Suyama;Representante de ventas\\n7;King;Representante de ventas\\n8;Callahan;Coordinador ventas interno\\n9;Dodsworth;Representante de ventas'"
      ]
     },
     "execution_count": 13,
     "metadata": {},
     "output_type": "execute_result"
    }
   ],
   "source": [
    "txt2"
   ]
  },
  {
   "cell_type": "code",
   "execution_count": 14,
   "metadata": {},
   "outputs": [
    {
     "data": {
      "text/plain": [
       "['id;nombre;cargo',\n",
       " '1;Davolio;Representante de ventas',\n",
       " '2;Fuller;Vicepresidente comercial',\n",
       " '3;Leverling;Representante de ventas',\n",
       " '4;Peacock;Representante de ventas',\n",
       " '5;Buchanan;Gerente de ventas',\n",
       " '6;Suyama;Representante de ventas',\n",
       " '7;King;Representante de ventas',\n",
       " '8;Callahan;Coordinador ventas interno',\n",
       " '9;Dodsworth;Representante de ventas']"
      ]
     },
     "execution_count": 14,
     "metadata": {},
     "output_type": "execute_result"
    }
   ],
   "source": [
    "L = txt2.split(\"\\n\")\n",
    "L"
   ]
  },
  {
   "cell_type": "code",
   "execution_count": 15,
   "metadata": {},
   "outputs": [
    {
     "data": {
      "text/plain": [
       "['id', 'nombre', 'cargo']"
      ]
     },
     "execution_count": 15,
     "metadata": {},
     "output_type": "execute_result"
    }
   ],
   "source": [
    "cabs = L[0].split(\";\")\n",
    "cabs"
   ]
  },
  {
   "cell_type": "code",
   "execution_count": 20,
   "metadata": {},
   "outputs": [
    {
     "data": {
      "text/plain": [
       "[{'id': '1', 'nombre': 'Davolio', 'cargo': 'Representante de ventas'},\n",
       " {'id': '2', 'nombre': 'Fuller', 'cargo': 'Vicepresidente comercial'},\n",
       " {'id': '3', 'nombre': 'Leverling', 'cargo': 'Representante de ventas'},\n",
       " {'id': '4', 'nombre': 'Peacock', 'cargo': 'Representante de ventas'},\n",
       " {'id': '5', 'nombre': 'Buchanan', 'cargo': 'Gerente de ventas'},\n",
       " {'id': '6', 'nombre': 'Suyama', 'cargo': 'Representante de ventas'},\n",
       " {'id': '7', 'nombre': 'King', 'cargo': 'Representante de ventas'},\n",
       " {'id': '8', 'nombre': 'Callahan', 'cargo': 'Coordinador ventas interno'},\n",
       " {'id': '9', 'nombre': 'Dodsworth', 'cargo': 'Representante de ventas'}]"
      ]
     },
     "execution_count": 20,
     "metadata": {},
     "output_type": "execute_result"
    }
   ],
   "source": [
    "# Almacenará un diccionario por cada empleado:\n",
    "empleados = []\n",
    "for fila in L[1:]:\n",
    "    datos = fila.split(\";\")\n",
    "    emp = dict(zip(cabs, datos))\n",
    "    empleados.append(emp)\n",
    "empleados"
   ]
  },
  {
   "cell_type": "code",
   "execution_count": 23,
   "metadata": {},
   "outputs": [
    {
     "name": "stdout",
     "output_type": "stream",
     "text": [
      "Davolio\n",
      "Fuller\n",
      "Leverling\n",
      "Peacock\n",
      "Buchanan\n",
      "Suyama\n",
      "King\n",
      "Callahan\n",
      "Dodsworth\n"
     ]
    }
   ],
   "source": [
    "# Imprimir los nombres de los empleados:\n",
    "for emp in empleados:   \n",
    "    print(emp['nombre'])"
   ]
  },
  {
   "cell_type": "code",
   "execution_count": null,
   "metadata": {},
   "outputs": [],
   "source": [
    "# Imprimir los nombres de los empleados que sean Vicepresidentes o Gerentes:\n"
   ]
  }
 ],
 "metadata": {
  "kernelspec": {
   "display_name": "Python 3 (ipykernel)",
   "language": "python",
   "name": "python3"
  },
  "language_info": {
   "codemirror_mode": {
    "name": "ipython",
    "version": 3
   },
   "file_extension": ".py",
   "mimetype": "text/x-python",
   "name": "python",
   "nbconvert_exporter": "python",
   "pygments_lexer": "ipython3",
   "version": "3.8.5"
  }
 },
 "nbformat": 4,
 "nbformat_minor": 4
}

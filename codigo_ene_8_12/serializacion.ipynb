{
 "cells": [
  {
   "cell_type": "markdown",
   "id": "40af94ae",
   "metadata": {},
   "source": [
    "## Serialización con pickle y shelve"
   ]
  },
  {
   "cell_type": "markdown",
   "id": "38cce493",
   "metadata": {},
   "source": [
    "### Librería pickle"
   ]
  },
  {
   "cell_type": "code",
   "execution_count": 10,
   "id": "0920c9c3",
   "metadata": {},
   "outputs": [],
   "source": [
    "import pickle, shelve\n",
    "from fecha_hora import Time\n",
    "from random import randint"
   ]
  },
  {
   "cell_type": "code",
   "execution_count": 4,
   "id": "58da7570",
   "metadata": {},
   "outputs": [
    {
     "data": {
      "text/plain": [
       "[03:03:09, 13:37:44, 18:38:38, 00:34:54, 12:04:31]"
      ]
     },
     "execution_count": 4,
     "metadata": {},
     "output_type": "execute_result"
    }
   ],
   "source": [
    "L = [Time(randint(0,23), randint(0,59), randint(0,59)) for _ in range(25)]\n",
    "L[:5]"
   ]
  },
  {
   "cell_type": "code",
   "execution_count": 7,
   "id": "6a44ef56",
   "metadata": {},
   "outputs": [],
   "source": [
    "def serializarPickle(objeto, path):\n",
    "    fich = None\n",
    "    try:\n",
    "        fich = open(path, \"wb\")\n",
    "        pickle.dump(objeto, fich, protocol=5)\n",
    "    except Exception as e:\n",
    "        print(e)\n",
    "    finally:\n",
    "        if fich: fich.close()"
   ]
  },
  {
   "cell_type": "code",
   "execution_count": 6,
   "id": "603b8f10",
   "metadata": {},
   "outputs": [],
   "source": [
    "def deserializarPickle(path):\n",
    "    fich = None\n",
    "    try:\n",
    "        fich = open(path, \"rb\")\n",
    "        objeto = pickle.load(fich)\n",
    "        return objeto    \n",
    "    except Exception as e:\n",
    "        print(e)\n",
    "    finally:\n",
    "        if fich: fich.close()"
   ]
  },
  {
   "cell_type": "code",
   "execution_count": 8,
   "id": "3966b9da",
   "metadata": {},
   "outputs": [],
   "source": [
    "serializarPickle(L, \"horas.dat\")"
   ]
  },
  {
   "cell_type": "code",
   "execution_count": 9,
   "id": "eeb49119",
   "metadata": {},
   "outputs": [
    {
     "data": {
      "text/plain": [
       "[03:03:09, 13:37:44, 18:38:38, 00:34:54, 12:04:31]"
      ]
     },
     "execution_count": 9,
     "metadata": {},
     "output_type": "execute_result"
    }
   ],
   "source": [
    "L2 = deserializarPickle(\"horas.dat\")\n",
    "L2[:5]"
   ]
  },
  {
   "cell_type": "markdown",
   "id": "892f879f",
   "metadata": {},
   "source": [
    "### Librería shelve"
   ]
  },
  {
   "cell_type": "code",
   "execution_count": 11,
   "id": "5456cfe3",
   "metadata": {},
   "outputs": [],
   "source": [
    "t1 = Time(9,0,0)\n",
    "t2 = Time(11,0,0)\n",
    "t3 = Time(15,0,0)"
   ]
  },
  {
   "cell_type": "code",
   "execution_count": 12,
   "id": "8e622bbf",
   "metadata": {},
   "outputs": [],
   "source": [
    "Shelf = shelve.open(\"horas2\")\n",
    "Shelf['inicio'] = t1\n",
    "Shelf['descanso'] = t2\n",
    "Shelf['fin'] = t3\n",
    "Shelf.close()"
   ]
  },
  {
   "cell_type": "code",
   "execution_count": 13,
   "id": "d2c4d2ea",
   "metadata": {},
   "outputs": [
    {
     "name": "stdout",
     "output_type": "stream",
     "text": [
      "15:00:00\n",
      "09:00:00\n",
      "11:00:00\n"
     ]
    }
   ],
   "source": [
    "Shelf = shelve.open(\"horas2\")\n",
    "print(Shelf['fin'])\n",
    "print(Shelf['inicio'])\n",
    "print(Shelf['descanso'])\n",
    "Shelf.close()"
   ]
  },
  {
   "cell_type": "code",
   "execution_count": null,
   "id": "13e06668",
   "metadata": {},
   "outputs": [],
   "source": []
  }
 ],
 "metadata": {
  "kernelspec": {
   "display_name": "Python 3 (ipykernel)",
   "language": "python",
   "name": "python3"
  },
  "language_info": {
   "codemirror_mode": {
    "name": "ipython",
    "version": 3
   },
   "file_extension": ".py",
   "mimetype": "text/x-python",
   "name": "python",
   "nbconvert_exporter": "python",
   "pygments_lexer": "ipython3",
   "version": "3.8.5"
  }
 },
 "nbformat": 4,
 "nbformat_minor": 5
}

{
 "cells": [
  {
   "cell_type": "markdown",
   "id": "25e975ef",
   "metadata": {},
   "source": [
    "## Serialización con pickle y shelve"
   ]
  },
  {
   "cell_type": "markdown",
   "id": "1b5925c8",
   "metadata": {},
   "source": [
    "### Librería pickle"
   ]
  },
  {
   "cell_type": "code",
   "execution_count": 2,
   "id": "2d2bebcf",
   "metadata": {},
   "outputs": [],
   "source": [
    "import pickle\n",
    "from fecha_hora import Time\n",
    "from random import randint"
   ]
  },
  {
   "cell_type": "code",
   "execution_count": null,
   "id": "01834110",
   "metadata": {},
   "outputs": [],
   "source": [
    "L = [Time(randint(0,23), randint(0,59), randint(0,59)) for _ in range(25)]\n",
    "L[:5]"
   ]
  },
  {
   "cell_type": "code",
   "execution_count": null,
   "id": "08875ef8",
   "metadata": {},
   "outputs": [],
   "source": []
  }
 ],
 "metadata": {
  "kernelspec": {
   "display_name": "Python 3 (ipykernel)",
   "language": "python",
   "name": "python3"
  },
  "language_info": {
   "codemirror_mode": {
    "name": "ipython",
    "version": 3
   },
   "file_extension": ".py",
   "mimetype": "text/x-python",
   "name": "python",
   "nbconvert_exporter": "python",
   "pygments_lexer": "ipython3",
   "version": "3.9.13"
  }
 },
 "nbformat": 4,
 "nbformat_minor": 5
}

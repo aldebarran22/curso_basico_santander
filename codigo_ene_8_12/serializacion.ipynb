{
 "cells": [
  {
   "cell_type": "markdown",
   "id": "cd5f3a7a",
   "metadata": {},
   "source": [
    "## Serialización con pickle y shelve"
   ]
  },
  {
   "cell_type": "markdown",
   "id": "b5475131",
   "metadata": {},
   "source": [
    "### Librería pickle"
   ]
  },
  {
   "cell_type": "code",
   "execution_count": 10,
   "id": "f16eee1a",
   "metadata": {},
   "outputs": [],
   "source": [
    "import pickle, shelve\n",
    "from fecha_hora import Time\n",
    "from random import randint"
   ]
  },
  {
   "cell_type": "code",
   "execution_count": 4,
   "id": "53c1f81b",
   "metadata": {},
   "outputs": [
    {
     "data": {
      "text/plain": [
       "[03:03:09, 13:37:44, 18:38:38, 00:34:54, 12:04:31]"
      ]
     },
     "execution_count": 4,
     "metadata": {},
     "output_type": "execute_result"
    }
   ],
   "source": [
    "L = [Time(randint(0,23), randint(0,59), randint(0,59)) for _ in range(25)]\n",
    "L[:5]"
   ]
  },
  {
   "cell_type": "code",
   "execution_count": 7,
   "id": "6654069f",
   "metadata": {},
   "outputs": [],
   "source": [
    "def serializarPickle(objeto, path):\n",
    "    fich = None\n",
    "    try:\n",
    "        fich = open(path, \"wb\")\n",
    "        pickle.dump(objeto, fich, protocol=5)\n",
    "    except Exception as e:\n",
    "        print(e)\n",
    "    finally:\n",
    "        if fich: fich.close()"
   ]
  },
  {
   "cell_type": "code",
   "execution_count": 6,
   "id": "3dc97c97",
   "metadata": {},
   "outputs": [],
   "source": [
    "def deserializarPickle(path):\n",
    "    fich = None\n",
    "    try:\n",
    "        fich = open(path, \"rb\")\n",
    "        objeto = pickle.load(fich)\n",
    "        return objeto    \n",
    "    except Exception as e:\n",
    "        print(e)\n",
    "    finally:\n",
    "        if fich: fich.close()"
   ]
  },
  {
   "cell_type": "code",
   "execution_count": 8,
   "id": "07f7f9e3",
   "metadata": {},
   "outputs": [],
   "source": [
    "serializarPickle(L, \"horas.dat\")"
   ]
  },
  {
   "cell_type": "code",
   "execution_count": 9,
   "id": "28b56275",
   "metadata": {},
   "outputs": [
    {
     "data": {
      "text/plain": [
       "[03:03:09, 13:37:44, 18:38:38, 00:34:54, 12:04:31]"
      ]
     },
     "execution_count": 9,
     "metadata": {},
     "output_type": "execute_result"
    }
   ],
   "source": [
    "L2 = deserializarPickle(\"horas.dat\")\n",
    "L2[:5]"
   ]
  },
  {
   "cell_type": "markdown",
   "id": "d9f7e4b1",
   "metadata": {},
   "source": [
    "### Librería shelve"
   ]
  },
  {
   "cell_type": "code",
   "execution_count": 11,
   "id": "3488ef0e",
   "metadata": {},
   "outputs": [],
   "source": [
    "t1 = Time(9,0,0)\n",
    "t2 = Time(11,0,0)\n",
    "t3 = Time(15,0,0)"
   ]
  },
  {
   "cell_type": "code",
   "execution_count": 12,
   "id": "20b38430",
   "metadata": {},
   "outputs": [],
   "source": [
    "Shelf = shelve.open(\"horas2\")\n",
    "Shelf['inicio'] = t1\n",
    "Shelf['descanso'] = t2\n",
    "Shelf['fin'] = t3\n",
    "Shelf.close()"
   ]
  },
  {
   "cell_type": "code",
   "execution_count": null,
   "id": "1e5eb69f",
   "metadata": {},
   "outputs": [],
   "source": []
  }
 ],
 "metadata": {
  "kernelspec": {
   "display_name": "Python 3 (ipykernel)",
   "language": "python",
   "name": "python3"
  },
  "language_info": {
   "codemirror_mode": {
    "name": "ipython",
    "version": 3
   },
   "file_extension": ".py",
   "mimetype": "text/x-python",
   "name": "python",
   "nbconvert_exporter": "python",
   "pygments_lexer": "ipython3",
   "version": "3.8.5"
  }
 },
 "nbformat": 4,
 "nbformat_minor": 5
}

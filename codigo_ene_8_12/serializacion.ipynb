{
 "cells": [
  {
   "cell_type": "markdown",
   "id": "b985dc90",
   "metadata": {},
   "source": [
    "## Serialización con pickle y shelve"
   ]
  },
  {
   "cell_type": "markdown",
   "id": "e3612b58",
   "metadata": {},
   "source": [
    "### Librería pickle"
   ]
  },
  {
   "cell_type": "code",
   "execution_count": 10,
   "id": "86455b14",
   "metadata": {},
   "outputs": [],
   "source": [
    "import pickle, shelve\n",
    "from fecha_hora import Time\n",
    "from random import randint"
   ]
  },
  {
   "cell_type": "code",
   "execution_count": 4,
   "id": "a7dcde64",
   "metadata": {},
   "outputs": [
    {
     "data": {
      "text/plain": [
       "[03:03:09, 13:37:44, 18:38:38, 00:34:54, 12:04:31]"
      ]
     },
     "execution_count": 4,
     "metadata": {},
     "output_type": "execute_result"
    }
   ],
   "source": [
    "L = [Time(randint(0,23), randint(0,59), randint(0,59)) for _ in range(25)]\n",
    "L[:5]"
   ]
  },
  {
   "cell_type": "code",
   "execution_count": 7,
   "id": "a93fc700",
   "metadata": {},
   "outputs": [],
   "source": [
    "def serializarPickle(objeto, path):\n",
    "    fich = None\n",
    "    try:\n",
    "        fich = open(path, \"wb\")\n",
    "        pickle.dump(objeto, fich, protocol=5)\n",
    "    except Exception as e:\n",
    "        print(e)\n",
    "    finally:\n",
    "        if fich: fich.close()"
   ]
  },
  {
   "cell_type": "code",
   "execution_count": 6,
   "id": "ddb5e543",
   "metadata": {},
   "outputs": [],
   "source": [
    "def deserializarPickle(path):\n",
    "    fich = None\n",
    "    try:\n",
    "        fich = open(path, \"rb\")\n",
    "        objeto = pickle.load(fich)\n",
    "        return objeto    \n",
    "    except Exception as e:\n",
    "        print(e)\n",
    "    finally:\n",
    "        if fich: fich.close()"
   ]
  },
  {
   "cell_type": "code",
   "execution_count": 8,
   "id": "5287d986",
   "metadata": {},
   "outputs": [],
   "source": [
    "serializarPickle(L, \"horas.dat\")"
   ]
  },
  {
   "cell_type": "code",
   "execution_count": 9,
   "id": "f3d0080e",
   "metadata": {},
   "outputs": [
    {
     "data": {
      "text/plain": [
       "[03:03:09, 13:37:44, 18:38:38, 00:34:54, 12:04:31]"
      ]
     },
     "execution_count": 9,
     "metadata": {},
     "output_type": "execute_result"
    }
   ],
   "source": [
    "L2 = deserializarPickle(\"horas.dat\")\n",
    "L2[:5]"
   ]
  },
  {
   "cell_type": "markdown",
   "id": "5d727107",
   "metadata": {},
   "source": [
    "### Librería shelve"
   ]
  },
  {
   "cell_type": "code",
   "execution_count": 11,
   "id": "f5d38794",
   "metadata": {},
   "outputs": [],
   "source": [
    "t1 = Time(9,0,0)\n",
    "t2 = Time(11,0,0)\n",
    "t3 = Time(15,0,0)"
   ]
  },
  {
   "cell_type": "code",
   "execution_count": null,
   "id": "aa53a022",
   "metadata": {},
   "outputs": [],
   "source": [
    "Shelf = shelve.open(\"horas2\")\n",
    "Shelf['inicio'] = t1\n",
    "Shelf['descanso'] = t2\n",
    "Shelf['fin'] = t3"
   ]
  }
 ],
 "metadata": {
  "kernelspec": {
   "display_name": "Python 3 (ipykernel)",
   "language": "python",
   "name": "python3"
  },
  "language_info": {
   "codemirror_mode": {
    "name": "ipython",
    "version": 3
   },
   "file_extension": ".py",
   "mimetype": "text/x-python",
   "name": "python",
   "nbconvert_exporter": "python",
   "pygments_lexer": "ipython3",
   "version": "3.8.5"
  }
 },
 "nbformat": 4,
 "nbformat_minor": 5
}

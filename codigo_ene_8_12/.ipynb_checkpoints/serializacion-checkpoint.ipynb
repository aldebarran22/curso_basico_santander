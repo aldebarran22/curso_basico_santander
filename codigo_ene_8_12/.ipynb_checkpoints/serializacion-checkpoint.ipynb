{
 "cells": [
  {
   "cell_type": "markdown",
   "id": "c79a498d",
   "metadata": {},
   "source": [
    "## Serialización con pickle y shelve"
   ]
  },
  {
   "cell_type": "markdown",
   "id": "a0a153f8",
   "metadata": {},
   "source": [
    "### Librería pickle"
   ]
  },
  {
   "cell_type": "code",
   "execution_count": 3,
   "id": "34867734",
   "metadata": {},
   "outputs": [],
   "source": [
    "import pickle\n",
    "from fecha_hora import Time\n",
    "from random import randint"
   ]
  },
  {
   "cell_type": "code",
   "execution_count": 4,
   "id": "d3206167",
   "metadata": {},
   "outputs": [
    {
     "data": {
      "text/plain": [
       "[03:03:09, 13:37:44, 18:38:38, 00:34:54, 12:04:31]"
      ]
     },
     "execution_count": 4,
     "metadata": {},
     "output_type": "execute_result"
    }
   ],
   "source": [
    "L = [Time(randint(0,23), randint(0,59), randint(0,59)) for _ in range(25)]\n",
    "L[:5]"
   ]
  },
  {
   "cell_type": "code",
   "execution_count": 5,
   "id": "bdcb3641",
   "metadata": {},
   "outputs": [],
   "source": [
    "def serializarPickle(objeto, path):\n",
    "    fich = None\n",
    "    try:\n",
    "        fich = open(path, \"wb\")\n",
    "        pickle.dump(objeto, fich)\n",
    "    except Exception as e:\n",
    "        print(e)\n",
    "    finally:\n",
    "        if fich: fich.close()"
   ]
  },
  {
   "cell_type": "code",
   "execution_count": null,
   "id": "802b9e13",
   "metadata": {},
   "outputs": [],
   "source": [
    "def deserializarPickle(path):\n",
    "    fich = None\n",
    "    try:\n",
    "        fich = open(path, \"rb\")\n",
    "        objeto = pickle.load(fich)\n",
    "        return objeto    \n",
    "    except Exception as e:\n",
    "        print(e)\n",
    "    finally:\n",
    "        if fich: fich.close()"
   ]
  }
 ],
 "metadata": {
  "kernelspec": {
   "display_name": "Python 3 (ipykernel)",
   "language": "python",
   "name": "python3"
  },
  "language_info": {
   "codemirror_mode": {
    "name": "ipython",
    "version": 3
   },
   "file_extension": ".py",
   "mimetype": "text/x-python",
   "name": "python",
   "nbconvert_exporter": "python",
   "pygments_lexer": "ipython3",
   "version": "3.8.5"
  }
 },
 "nbformat": 4,
 "nbformat_minor": 5
}

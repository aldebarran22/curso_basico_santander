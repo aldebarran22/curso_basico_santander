{
 "cells": [
  {
   "cell_type": "markdown",
   "id": "4486bc96",
   "metadata": {},
   "source": [
    "## Expresiones Regulares en Python"
   ]
  },
  {
   "cell_type": "code",
   "execution_count": 1,
   "id": "5e745c2f",
   "metadata": {},
   "outputs": [],
   "source": [
    "import re"
   ]
  },
  {
   "cell_type": "code",
   "execution_count": 2,
   "id": "8cde4831",
   "metadata": {},
   "outputs": [],
   "source": [
    "def comprobarPatron(patron, L):\n",
    "    R = [True if re.match(patron, cad)!=None else False  for cad in L]\n",
    "    return R"
   ]
  },
  {
   "cell_type": "code",
   "execution_count": 4,
   "id": "b8c63297",
   "metadata": {},
   "outputs": [
    {
     "name": "stdout",
     "output_type": "stream",
     "text": [
      "['cython', 'python', 'jython', 'java', 'php', '8ython']\n",
      "[True, True, True, False, False, True]\n"
     ]
    }
   ],
   "source": [
    "patron = r\".ython\"\n",
    "L = [\"cython\", \"python\", \"jython\", \"java\", \"php\",\"8ython\"]\n",
    "R = comprobarPatron(patron, L)\n",
    "print(L)\n",
    "print(R)"
   ]
  },
  {
   "cell_type": "code",
   "execution_count": 5,
   "id": "3e14c3ab",
   "metadata": {},
   "outputs": [
    {
     "name": "stdout",
     "output_type": "stream",
     "text": [
      "['cython', 'python', 'jython', 'java', 'php', '8ython']\n",
      "[True, True, True, False, False, False]\n"
     ]
    }
   ],
   "source": [
    "patron = r\"[cpj]ython\"\n",
    "L = [\"cython\", \"python\", \"jython\", \"java\", \"php\",\"8ython\"]\n",
    "R = comprobarPatron(patron, L)\n",
    "print(L)\n",
    "print(R)"
   ]
  },
  {
   "cell_type": "code",
   "execution_count": 7,
   "id": "0f3da85f",
   "metadata": {},
   "outputs": [
    {
     "name": "stdout",
     "output_type": "stream",
     "text": [
      "['cython 33', 'python 2', 'jython', 'java', 'php', '8ython']\n",
      "[False, False, True, False, False, False]\n"
     ]
    }
   ],
   "source": [
    "patron = r\"[cpj]ython$\"\n",
    "L = [\"cython 33\", \"python 2\", \"jython\", \"java\", \"php\",\"8ython\"]\n",
    "R = comprobarPatron(patron, L)\n",
    "print(L)\n",
    "print(R)"
   ]
  },
  {
   "cell_type": "code",
   "execution_count": 9,
   "id": "7f6c80f8",
   "metadata": {},
   "outputs": [
    {
     "name": "stdout",
     "output_type": "stream",
     "text": [
      "['.abc', '.abcd', 'abcde.', 'a.', '.a', 'a1b.']\n",
      "[True, False, False, False, False, False]\n"
     ]
    }
   ],
   "source": [
    "# Buscar palabras de 3 letras minúsculas que empiezan o terminan con un '.'\n",
    "patron = \"[a-z][a-z][a-z]\\.$|\\.[a-z][a-z][a-z]$\"\n",
    "L = [\".abc\",\".abcd\",\"abcde.\",\"a.\",\".a\",\"a1b.\"]\n",
    "R = comprobarPatron(patron, L)\n",
    "print(L)\n",
    "print(R)"
   ]
  },
  {
   "cell_type": "code",
   "execution_count": null,
   "id": "71fc2c1d",
   "metadata": {},
   "outputs": [],
   "source": []
  }
 ],
 "metadata": {
  "kernelspec": {
   "display_name": "Python 3 (ipykernel)",
   "language": "python",
   "name": "python3"
  },
  "language_info": {
   "codemirror_mode": {
    "name": "ipython",
    "version": 3
   },
   "file_extension": ".py",
   "mimetype": "text/x-python",
   "name": "python",
   "nbconvert_exporter": "python",
   "pygments_lexer": "ipython3",
   "version": "3.8.5"
  }
 },
 "nbformat": 4,
 "nbformat_minor": 5
}

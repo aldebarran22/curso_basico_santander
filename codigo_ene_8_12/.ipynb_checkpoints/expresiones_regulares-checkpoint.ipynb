{
 "cells": [
  {
   "cell_type": "markdown",
   "id": "78643e0e",
   "metadata": {},
   "source": [
    "## Expresiones Regulares en Python"
   ]
  },
  {
   "cell_type": "code",
   "execution_count": 1,
   "id": "b7bfd90b",
   "metadata": {},
   "outputs": [],
   "source": [
    "import re"
   ]
  },
  {
   "cell_type": "code",
   "execution_count": 2,
   "id": "09d5b6ff",
   "metadata": {},
   "outputs": [],
   "source": [
    "def comprobarPatron(patron, L):\n",
    "    R = [True if re.match(patron, cad)!=None else False  for cad in L]\n",
    "    return R"
   ]
  },
  {
   "cell_type": "code",
   "execution_count": 4,
   "id": "b1bc7f63",
   "metadata": {},
   "outputs": [
    {
     "name": "stdout",
     "output_type": "stream",
     "text": [
      "['cython', 'python', 'jython', 'java', 'php', '8ython']\n",
      "[True, True, True, False, False, True]\n"
     ]
    }
   ],
   "source": [
    "patron = r\".ython\"\n",
    "L = [\"cython\", \"python\", \"jython\", \"java\", \"php\",\"8ython\"]\n",
    "R = comprobarPatron(patron, L)\n",
    "print(L)\n",
    "print(R)"
   ]
  },
  {
   "cell_type": "code",
   "execution_count": 5,
   "id": "6cf0feca",
   "metadata": {},
   "outputs": [
    {
     "name": "stdout",
     "output_type": "stream",
     "text": [
      "['cython', 'python', 'jython', 'java', 'php', '8ython']\n",
      "[True, True, True, False, False, False]\n"
     ]
    }
   ],
   "source": [
    "patron = r\"[cpj]ython\"\n",
    "L = [\"cython\", \"python\", \"jython\", \"java\", \"php\",\"8ython\"]\n",
    "R = comprobarPatron(patron, L)\n",
    "print(L)\n",
    "print(R)"
   ]
  },
  {
   "cell_type": "code",
   "execution_count": 7,
   "id": "86fd32de",
   "metadata": {},
   "outputs": [
    {
     "name": "stdout",
     "output_type": "stream",
     "text": [
      "['cython 33', 'python 2', 'jython', 'java', 'php', '8ython']\n",
      "[False, False, True, False, False, False]\n"
     ]
    }
   ],
   "source": [
    "patron = r\"[cpj]ython$\"\n",
    "L = [\"cython 33\", \"python 2\", \"jython\", \"java\", \"php\",\"8ython\"]\n",
    "R = comprobarPatron(patron, L)\n",
    "print(L)\n",
    "print(R)"
   ]
  },
  {
   "cell_type": "code",
   "execution_count": 9,
   "id": "20a01c1c",
   "metadata": {},
   "outputs": [
    {
     "name": "stdout",
     "output_type": "stream",
     "text": [
      "['.abc', '.abcd', 'abcde.', 'a.', '.a', 'a1b.']\n",
      "[True, False, False, False, False, False]\n"
     ]
    }
   ],
   "source": [
    "# Buscar palabras de 3 letras minúsculas que empiezan o terminan con un '.'\n",
    "patron = \"[a-z][a-z][a-z]\\.$|\\.[a-z][a-z][a-z]$\"\n",
    "L = [\".abc\",\".abcd\",\"abcde.\",\"a.\",\".a\",\"a1b.\"]\n",
    "R = comprobarPatron(patron, L)\n",
    "print(L)\n",
    "print(R)"
   ]
  },
  {
   "cell_type": "code",
   "execution_count": 10,
   "id": "527d8e69",
   "metadata": {},
   "outputs": [
    {
     "name": "stdout",
     "output_type": "stream",
     "text": [
      "['.abc', '.abcd', 'abcde.', 'a.', '.a', 'a1b.']\n",
      "[False, False, True, True, False, False]\n"
     ]
    }
   ],
   "source": [
    "patron = \"[a-z]+\\.$\"\n",
    "L = [\".abc\",\".abcd\",\"abcde.\",\"a.\",\".a\",\"a1b.\"]\n",
    "R = comprobarPatron(patron, L)\n",
    "print(L)\n",
    "print(R)"
   ]
  },
  {
   "cell_type": "code",
   "execution_count": 15,
   "id": "266167af",
   "metadata": {},
   "outputs": [
    {
     "name": "stdout",
     "output_type": "stream",
     "text": [
      "['12345678AAA', '12345678V', '1A', 'A01234567']\n",
      "[False, True, True, False]\n"
     ]
    }
   ],
   "source": [
    "# Comprobar DNI: dígitos de 1 a 8 y termine en una letra mayúscula:\n",
    "patron = \"[0-9]{1,8}[A-Z]$\"\n",
    "L = [\"12345678AAA\",\"12345678V\",\"1A\",\"A01234567\"]\n",
    "R = comprobarPatron(patron, L)\n",
    "print(L)\n",
    "print(R)"
   ]
  },
  {
   "cell_type": "code",
   "execution_count": 16,
   "id": "9e16b8b0",
   "metadata": {},
   "outputs": [
    {
     "name": "stdout",
     "output_type": "stream",
     "text": [
      "['12345678AAA', '12345678V', '1A', 'A01234567']\n",
      "[False, True, True, False]\n"
     ]
    }
   ],
   "source": [
    "# Comprobar DNI: dígitos de 1 a 8 y termine en una letra mayúscula:\n",
    "patron = \"\\d{1,8}[A-Z]$\"\n",
    "L = [\"12345678AAA\",\"12345678V\",\"1A\",\"A01234567\"]\n",
    "R = comprobarPatron(patron, L)\n",
    "print(L)\n",
    "print(R)"
   ]
  },
  {
   "cell_type": "code",
   "execution_count": null,
   "id": "0eccf2c7",
   "metadata": {},
   "outputs": [],
   "source": []
  }
 ],
 "metadata": {
  "kernelspec": {
   "display_name": "Python 3 (ipykernel)",
   "language": "python",
   "name": "python3"
  },
  "language_info": {
   "codemirror_mode": {
    "name": "ipython",
    "version": 3
   },
   "file_extension": ".py",
   "mimetype": "text/x-python",
   "name": "python",
   "nbconvert_exporter": "python",
   "pygments_lexer": "ipython3",
   "version": "3.8.5"
  }
 },
 "nbformat": 4,
 "nbformat_minor": 5
}

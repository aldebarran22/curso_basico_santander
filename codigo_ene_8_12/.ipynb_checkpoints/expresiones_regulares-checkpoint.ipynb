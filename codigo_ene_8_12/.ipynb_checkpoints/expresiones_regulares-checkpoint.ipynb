{
 "cells": [
  {
   "cell_type": "markdown",
   "id": "30f38da3",
   "metadata": {},
   "source": [
    "## Expresiones Regulares en Python"
   ]
  },
  {
   "cell_type": "code",
   "execution_count": 1,
   "id": "99cd0bc7",
   "metadata": {},
   "outputs": [],
   "source": [
    "import re"
   ]
  },
  {
   "cell_type": "code",
   "execution_count": 2,
   "id": "5ca3b4d2",
   "metadata": {},
   "outputs": [],
   "source": [
    "def comprobarPatron(patron, L):\n",
    "    R = [True if re.match(patron, cad)!=None else False  for cad in L]\n",
    "    return R"
   ]
  },
  {
   "cell_type": "code",
   "execution_count": 4,
   "id": "558ccf31",
   "metadata": {},
   "outputs": [
    {
     "name": "stdout",
     "output_type": "stream",
     "text": [
      "['cython', 'python', 'jython', 'java', 'php', '8ython']\n",
      "[True, True, True, False, False, True]\n"
     ]
    }
   ],
   "source": [
    "patron = \".ython\"\n",
    "L = [\"cython\", \"python\", \"jython\", \"java\", \"php\",\"8ython\"]\n",
    "R = comprobarPatron(patron, L)\n",
    "print(L)\n",
    "print(R)"
   ]
  },
  {
   "cell_type": "code",
   "execution_count": null,
   "id": "09f3ba60",
   "metadata": {},
   "outputs": [],
   "source": []
  }
 ],
 "metadata": {
  "kernelspec": {
   "display_name": "Python 3 (ipykernel)",
   "language": "python",
   "name": "python3"
  },
  "language_info": {
   "codemirror_mode": {
    "name": "ipython",
    "version": 3
   },
   "file_extension": ".py",
   "mimetype": "text/x-python",
   "name": "python",
   "nbconvert_exporter": "python",
   "pygments_lexer": "ipython3",
   "version": "3.8.5"
  }
 },
 "nbformat": 4,
 "nbformat_minor": 5
}

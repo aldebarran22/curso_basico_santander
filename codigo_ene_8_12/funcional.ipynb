{
 "cells": [
  {
   "cell_type": "markdown",
   "id": "613cec05",
   "metadata": {},
   "source": [
    "## Programación  Funcional"
   ]
  },
  {
   "cell_type": "markdown",
   "id": "e0ad016b",
   "metadata": {},
   "source": [
    "Ordenación, list compre. con dict y set ..."
   ]
  },
  {
   "cell_type": "code",
   "execution_count": 8,
   "id": "88efeb1d",
   "metadata": {},
   "outputs": [],
   "source": [
    "import random, string"
   ]
  },
  {
   "cell_type": "code",
   "execution_count": 1,
   "id": "c99e1474",
   "metadata": {},
   "outputs": [
    {
     "data": {
      "text/plain": [
       "[1, 3, 4, 5]"
      ]
     },
     "execution_count": 1,
     "metadata": {},
     "output_type": "execute_result"
    }
   ],
   "source": [
    "L = [1,3,4,5]\n",
    "L"
   ]
  },
  {
   "cell_type": "code",
   "execution_count": 2,
   "id": "cdee640f",
   "metadata": {},
   "outputs": [
    {
     "data": {
      "text/plain": [
       "[1, 3, 4, 5, 100]"
      ]
     },
     "execution_count": 2,
     "metadata": {},
     "output_type": "execute_result"
    }
   ],
   "source": [
    "L.append(100)\n",
    "L"
   ]
  },
  {
   "cell_type": "markdown",
   "id": "74e32eac",
   "metadata": {},
   "source": [
    "Generamos un conjunto de números aleatorios"
   ]
  },
  {
   "cell_type": "code",
   "execution_count": 6,
   "id": "5aa573ca",
   "metadata": {},
   "outputs": [
    {
     "name": "stdout",
     "output_type": "stream",
     "text": [
      "[1, 3, 4, 5, 100]\n",
      "{2, 3, 4, 5, 6, 7, 9, 10}\n"
     ]
    }
   ],
   "source": [
    "c = {random.randint(1,10) for _ in range(20)}\n",
    "c"
   ]
  },
  {
   "cell_type": "code",
   "execution_count": 9,
   "id": "f863f5d0",
   "metadata": {},
   "outputs": [
    {
     "data": {
      "text/plain": [
       "'ABCDEFGHIJKLMNOPQRSTUVWXYZ'"
      ]
     },
     "execution_count": 9,
     "metadata": {},
     "output_type": "execute_result"
    }
   ],
   "source": [
    "string.ascii_uppercase"
   ]
  },
  {
   "cell_type": "code",
   "execution_count": 11,
   "id": "681a61d5",
   "metadata": {},
   "outputs": [
    {
     "data": {
      "text/plain": [
       "[('U', 10),\n",
       " ('Y', 10),\n",
       " ('H', 9),\n",
       " ('S', 9),\n",
       " ('W', 9),\n",
       " ('M', 8),\n",
       " ('B', 7),\n",
       " ('G', 7),\n",
       " ('V', 7),\n",
       " ('A', 6)]"
      ]
     },
     "execution_count": 11,
     "metadata": {},
     "output_type": "execute_result"
    }
   ],
   "source": [
    "d = {letra:random.randint(1,10) for letra in string.ascii_uppercase}\n",
    "L = sorted(d.items(), key=lambda t:t[1], reverse=True)\n",
    "L[:10]"
   ]
  },
  {
   "cell_type": "code",
   "execution_count": 12,
   "id": "a3aa39eb",
   "metadata": {},
   "outputs": [
    {
     "data": {
      "text/plain": [
       "<generator object <genexpr> at 0x000001CCD658E2E0>"
      ]
     },
     "execution_count": 12,
     "metadata": {},
     "output_type": "execute_result"
    }
   ],
   "source": [
    "t = (i**2 for i in range(1,11))\n",
    "t"
   ]
  },
  {
   "cell_type": "code",
   "execution_count": 14,
   "id": "c90b9c51",
   "metadata": {},
   "outputs": [
    {
     "name": "stdout",
     "output_type": "stream",
     "text": [
      "1\n",
      "4\n",
      "9\n",
      "16\n",
      "25\n",
      "36\n",
      "49\n",
      "64\n",
      "81\n",
      "100\n"
     ]
    }
   ],
   "source": [
    "for i in t:\n",
    "    print(i)"
   ]
  },
  {
   "cell_type": "code",
   "execution_count": 15,
   "id": "6b4a8d3d",
   "metadata": {},
   "outputs": [],
   "source": [
    "for i in t:\n",
    "    print(i)"
   ]
  },
  {
   "cell_type": "code",
   "execution_count": null,
   "id": "ca6b8039",
   "metadata": {},
   "outputs": [],
   "source": []
  }
 ],
 "metadata": {
  "kernelspec": {
   "display_name": "Python 3 (ipykernel)",
   "language": "python",
   "name": "python3"
  },
  "language_info": {
   "codemirror_mode": {
    "name": "ipython",
    "version": 3
   },
   "file_extension": ".py",
   "mimetype": "text/x-python",
   "name": "python",
   "nbconvert_exporter": "python",
   "pygments_lexer": "ipython3",
   "version": "3.8.5"
  }
 },
 "nbformat": 4,
 "nbformat_minor": 5
}

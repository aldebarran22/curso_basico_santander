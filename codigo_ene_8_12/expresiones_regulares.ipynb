{
 "cells": [
  {
   "cell_type": "markdown",
   "id": "c52ce439",
   "metadata": {},
   "source": [
    "## Expresiones Regulares en Python"
   ]
  },
  {
   "cell_type": "code",
   "execution_count": 1,
   "id": "59bf500e",
   "metadata": {},
   "outputs": [],
   "source": [
    "import re"
   ]
  },
  {
   "cell_type": "code",
   "execution_count": 2,
   "id": "53fb72c3",
   "metadata": {},
   "outputs": [],
   "source": [
    "def comprobarPatron(patron, L):\n",
    "    R = [True if re.match(patron, cad)!=None else False  for cad in L]\n",
    "    return R"
   ]
  },
  {
   "cell_type": "code",
   "execution_count": 3,
   "id": "8aefb658",
   "metadata": {},
   "outputs": [
    {
     "name": "stdout",
     "output_type": "stream",
     "text": [
      "['cython', 'python', 'jython', 'java', 'php', '8ython']\n",
      "[True, True, True, False, False, True]\n"
     ]
    }
   ],
   "source": [
    "patron = r\".ython\"\n",
    "L = [\"cython\", \"python\", \"jython\", \"java\", \"php\",\"8ython\"]\n",
    "R = comprobarPatron(patron, L)\n",
    "print(L)\n",
    "print(R)"
   ]
  },
  {
   "cell_type": "code",
   "execution_count": 4,
   "id": "8d6054b6",
   "metadata": {},
   "outputs": [
    {
     "name": "stdout",
     "output_type": "stream",
     "text": [
      "['cython', 'python', 'jython', 'java', 'php', '8ython']\n",
      "[True, True, True, False, False, False]\n"
     ]
    }
   ],
   "source": [
    "patron = r\"[cpj]ython\"\n",
    "L = [\"cython\", \"python\", \"jython\", \"java\", \"php\",\"8ython\"]\n",
    "R = comprobarPatron(patron, L)\n",
    "print(L)\n",
    "print(R)"
   ]
  },
  {
   "cell_type": "code",
   "execution_count": 5,
   "id": "be380ae9",
   "metadata": {},
   "outputs": [
    {
     "name": "stdout",
     "output_type": "stream",
     "text": [
      "['cython 33', 'python 2', 'jython', 'java', 'php', '8ython']\n",
      "[False, False, True, False, False, False]\n"
     ]
    }
   ],
   "source": [
    "patron = r\"[cpj]ython$\"\n",
    "L = [\"cython 33\", \"python 2\", \"jython\", \"java\", \"php\",\"8ython\"]\n",
    "R = comprobarPatron(patron, L)\n",
    "print(L)\n",
    "print(R)"
   ]
  },
  {
   "cell_type": "code",
   "execution_count": 6,
   "id": "ecee6401",
   "metadata": {},
   "outputs": [
    {
     "name": "stdout",
     "output_type": "stream",
     "text": [
      "['.abc', '.abcd', 'abcde.', 'a.', '.a', 'a1b.']\n",
      "[True, False, False, False, False, False]\n"
     ]
    }
   ],
   "source": [
    "# Buscar palabras de 3 letras minúsculas que empiezan o terminan con un '.'\n",
    "patron = \"[a-z][a-z][a-z]\\.$|\\.[a-z][a-z][a-z]$\"\n",
    "L = [\".abc\",\".abcd\",\"abcde.\",\"a.\",\".a\",\"a1b.\"]\n",
    "R = comprobarPatron(patron, L)\n",
    "print(L)\n",
    "print(R)"
   ]
  },
  {
   "cell_type": "code",
   "execution_count": 7,
   "id": "8f71ff88",
   "metadata": {},
   "outputs": [
    {
     "name": "stdout",
     "output_type": "stream",
     "text": [
      "['.abc', '.abcd', 'abcde.', 'a.', '.a', 'a1b.']\n",
      "[False, False, True, True, False, False]\n"
     ]
    }
   ],
   "source": [
    "patron = \"[a-z]+\\.$\"\n",
    "L = [\".abc\",\".abcd\",\"abcde.\",\"a.\",\".a\",\"a1b.\"]\n",
    "R = comprobarPatron(patron, L)\n",
    "print(L)\n",
    "print(R)"
   ]
  },
  {
   "cell_type": "code",
   "execution_count": 8,
   "id": "f07db6c7",
   "metadata": {},
   "outputs": [
    {
     "name": "stdout",
     "output_type": "stream",
     "text": [
      "['12345678AAA', '12345678V', '1A', 'A01234567']\n",
      "[False, True, True, False]\n"
     ]
    }
   ],
   "source": [
    "# Comprobar DNI: dígitos de 1 a 8 y termine en una letra mayúscula:\n",
    "patron = \"[0-9]{1,8}[A-Z]$\"\n",
    "L = [\"12345678AAA\",\"12345678V\",\"1A\",\"A01234567\"]\n",
    "R = comprobarPatron(patron, L)\n",
    "print(L)\n",
    "print(R)"
   ]
  },
  {
   "cell_type": "code",
   "execution_count": 9,
   "id": "0ec94d26",
   "metadata": {},
   "outputs": [
    {
     "name": "stdout",
     "output_type": "stream",
     "text": [
      "['12345678AAA', '12345678V', '1A', 'A01234567']\n",
      "[False, True, True, False]\n"
     ]
    }
   ],
   "source": [
    "# Comprobar DNI: dígitos de 1 a 8 y termine en una letra mayúscula:\n",
    "patron = \"\\d{1,8}[A-Z]$\"\n",
    "L = [\"12345678AAA\",\"12345678V\",\"1A\",\"A01234567\"]\n",
    "R = comprobarPatron(patron, L)\n",
    "print(L)\n",
    "print(R)"
   ]
  },
  {
   "cell_type": "code",
   "execution_count": 10,
   "id": "6c83286c",
   "metadata": {},
   "outputs": [
    {
     "data": {
      "text/plain": [
       "<re.Match object; span=(0, 9), match='12345678V'>"
      ]
     },
     "execution_count": 10,
     "metadata": {},
     "output_type": "execute_result"
    }
   ],
   "source": [
    "# Recoger el objeto que devuelve match\n",
    "patron = \"\\d{1,8}[A-Z]$\"\n",
    "dni = \"12345678V\"\n",
    "obj = re.match(patron, dni)\n",
    "obj"
   ]
  },
  {
   "cell_type": "code",
   "execution_count": 11,
   "id": "90d0ecb9",
   "metadata": {},
   "outputs": [
    {
     "data": {
      "text/plain": [
       "<re.Match object; span=(2, 11), match='12345678V'>"
      ]
     },
     "execution_count": 11,
     "metadata": {},
     "output_type": "execute_result"
    }
   ],
   "source": [
    "patron = \"\\d{1,8}[A-Z]$\"\n",
    "dni = \"  12345678V\"\n",
    "obj = re.search(patron, dni)\n",
    "obj"
   ]
  },
  {
   "cell_type": "code",
   "execution_count": 14,
   "id": "1b5a01e8",
   "metadata": {},
   "outputs": [
    {
     "name": "stdout",
     "output_type": "stream",
     "text": [
      "None\n"
     ]
    }
   ],
   "source": [
    "patron = \"\\d{1,8}[A-Z]$\"\n",
    "dni = \"  12345678V\"\n",
    "obj = re.match(patron, dni)\n",
    "print(obj)"
   ]
  },
  {
   "cell_type": "code",
   "execution_count": 16,
   "id": "c2310b0a",
   "metadata": {},
   "outputs": [
    {
     "name": "stdout",
     "output_type": "stream",
     "text": [
      "<re.Match object; span=(0, 8), match='03:15:25'>\n"
     ]
    }
   ],
   "source": [
    "# Validar horas: 03:15:25\n",
    "patron = \"([0-2][0-9]):([0-5][0-9]):([0-5][0-9])\"\n",
    "hora = \"03:15:25\"\n",
    "obj = re.match(patron, hora)\n",
    "print(obj)"
   ]
  },
  {
   "cell_type": "code",
   "execution_count": 18,
   "id": "6d8c5c25",
   "metadata": {},
   "outputs": [
    {
     "data": {
      "text/plain": [
       "('03', '15', '25')"
      ]
     },
     "execution_count": 18,
     "metadata": {},
     "output_type": "execute_result"
    }
   ],
   "source": [
    "obj.groups()"
   ]
  },
  {
   "cell_type": "code",
   "execution_count": 20,
   "id": "7dc23734",
   "metadata": {},
   "outputs": [
    {
     "data": {
      "text/plain": [
       "'03:15:25'"
      ]
     },
     "execution_count": 20,
     "metadata": {},
     "output_type": "execute_result"
    }
   ],
   "source": [
    "obj.group(0)"
   ]
  },
  {
   "cell_type": "code",
   "execution_count": 21,
   "id": "a24899ef",
   "metadata": {},
   "outputs": [
    {
     "data": {
      "text/plain": [
       "'03'"
      ]
     },
     "execution_count": 21,
     "metadata": {},
     "output_type": "execute_result"
    }
   ],
   "source": [
    "obj.group(1)"
   ]
  },
  {
   "cell_type": "code",
   "execution_count": 19,
   "id": "aa9b908c",
   "metadata": {},
   "outputs": [
    {
     "name": "stdout",
     "output_type": "stream",
     "text": [
      "3 15 25\n"
     ]
    }
   ],
   "source": [
    "h, m, s = [int(i) for i in obj.groups()]\n",
    "print(h,m,s)"
   ]
  },
  {
   "cell_type": "code",
   "execution_count": null,
   "id": "278f5913",
   "metadata": {},
   "outputs": [],
   "source": []
  }
 ],
 "metadata": {
  "kernelspec": {
   "display_name": "Python 3 (ipykernel)",
   "language": "python",
   "name": "python3"
  },
  "language_info": {
   "codemirror_mode": {
    "name": "ipython",
    "version": 3
   },
   "file_extension": ".py",
   "mimetype": "text/x-python",
   "name": "python",
   "nbconvert_exporter": "python",
   "pygments_lexer": "ipython3",
   "version": "3.8.5"
  }
 },
 "nbformat": 4,
 "nbformat_minor": 5
}

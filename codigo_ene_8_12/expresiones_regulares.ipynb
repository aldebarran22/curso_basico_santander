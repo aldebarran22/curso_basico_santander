{
 "cells": [
  {
   "cell_type": "markdown",
   "id": "0f8cb1b0",
   "metadata": {},
   "source": [
    "## Expresiones Regulares en Python"
   ]
  },
  {
   "cell_type": "code",
   "execution_count": 1,
   "id": "874d8027",
   "metadata": {},
   "outputs": [],
   "source": [
    "import re"
   ]
  },
  {
   "cell_type": "code",
   "execution_count": 2,
   "id": "9bb129ab",
   "metadata": {},
   "outputs": [],
   "source": [
    "def comprobarPatron(patron, L):\n",
    "    R = [True if re.match(patron, cad)!=None else False  for cad in L]\n",
    "    return R"
   ]
  },
  {
   "cell_type": "code",
   "execution_count": 3,
   "id": "36d3eb8e",
   "metadata": {},
   "outputs": [
    {
     "name": "stdout",
     "output_type": "stream",
     "text": [
      "['cython', 'python', 'jython', 'java', 'php', '8ython']\n",
      "[True, True, True, False, False, True]\n"
     ]
    }
   ],
   "source": [
    "patron = r\".ython\"\n",
    "L = [\"cython\", \"python\", \"jython\", \"java\", \"php\",\"8ython\"]\n",
    "R = comprobarPatron(patron, L)\n",
    "print(L)\n",
    "print(R)"
   ]
  },
  {
   "cell_type": "code",
   "execution_count": 4,
   "id": "1b830cec",
   "metadata": {},
   "outputs": [
    {
     "name": "stdout",
     "output_type": "stream",
     "text": [
      "['cython', 'python', 'jython', 'java', 'php', '8ython']\n",
      "[True, True, True, False, False, False]\n"
     ]
    }
   ],
   "source": [
    "patron = r\"[cpj]ython\"\n",
    "L = [\"cython\", \"python\", \"jython\", \"java\", \"php\",\"8ython\"]\n",
    "R = comprobarPatron(patron, L)\n",
    "print(L)\n",
    "print(R)"
   ]
  },
  {
   "cell_type": "code",
   "execution_count": 5,
   "id": "c106a43c",
   "metadata": {},
   "outputs": [
    {
     "name": "stdout",
     "output_type": "stream",
     "text": [
      "['cython 33', 'python 2', 'jython', 'java', 'php', '8ython']\n",
      "[False, False, True, False, False, False]\n"
     ]
    }
   ],
   "source": [
    "patron = r\"[cpj]ython$\"\n",
    "L = [\"cython 33\", \"python 2\", \"jython\", \"java\", \"php\",\"8ython\"]\n",
    "R = comprobarPatron(patron, L)\n",
    "print(L)\n",
    "print(R)"
   ]
  },
  {
   "cell_type": "code",
   "execution_count": 6,
   "id": "7c380080",
   "metadata": {},
   "outputs": [
    {
     "name": "stdout",
     "output_type": "stream",
     "text": [
      "['.abc', '.abcd', 'abcde.', 'a.', '.a', 'a1b.']\n",
      "[True, False, False, False, False, False]\n"
     ]
    }
   ],
   "source": [
    "# Buscar palabras de 3 letras minúsculas que empiezan o terminan con un '.'\n",
    "patron = \"[a-z][a-z][a-z]\\.$|\\.[a-z][a-z][a-z]$\"\n",
    "L = [\".abc\",\".abcd\",\"abcde.\",\"a.\",\".a\",\"a1b.\"]\n",
    "R = comprobarPatron(patron, L)\n",
    "print(L)\n",
    "print(R)"
   ]
  },
  {
   "cell_type": "code",
   "execution_count": 7,
   "id": "c53c638b",
   "metadata": {},
   "outputs": [
    {
     "name": "stdout",
     "output_type": "stream",
     "text": [
      "['.abc', '.abcd', 'abcde.', 'a.', '.a', 'a1b.']\n",
      "[False, False, True, True, False, False]\n"
     ]
    }
   ],
   "source": [
    "patron = \"[a-z]+\\.$\"\n",
    "L = [\".abc\",\".abcd\",\"abcde.\",\"a.\",\".a\",\"a1b.\"]\n",
    "R = comprobarPatron(patron, L)\n",
    "print(L)\n",
    "print(R)"
   ]
  },
  {
   "cell_type": "code",
   "execution_count": 8,
   "id": "110e0b5b",
   "metadata": {},
   "outputs": [
    {
     "name": "stdout",
     "output_type": "stream",
     "text": [
      "['12345678AAA', '12345678V', '1A', 'A01234567']\n",
      "[False, True, True, False]\n"
     ]
    }
   ],
   "source": [
    "# Comprobar DNI: dígitos de 1 a 8 y termine en una letra mayúscula:\n",
    "patron = \"[0-9]{1,8}[A-Z]$\"\n",
    "L = [\"12345678AAA\",\"12345678V\",\"1A\",\"A01234567\"]\n",
    "R = comprobarPatron(patron, L)\n",
    "print(L)\n",
    "print(R)"
   ]
  },
  {
   "cell_type": "code",
   "execution_count": 9,
   "id": "fa3aa7a2",
   "metadata": {},
   "outputs": [
    {
     "name": "stdout",
     "output_type": "stream",
     "text": [
      "['12345678AAA', '12345678V', '1A', 'A01234567']\n",
      "[False, True, True, False]\n"
     ]
    }
   ],
   "source": [
    "# Comprobar DNI: dígitos de 1 a 8 y termine en una letra mayúscula:\n",
    "patron = \"\\d{1,8}[A-Z]$\"\n",
    "L = [\"12345678AAA\",\"12345678V\",\"1A\",\"A01234567\"]\n",
    "R = comprobarPatron(patron, L)\n",
    "print(L)\n",
    "print(R)"
   ]
  },
  {
   "cell_type": "code",
   "execution_count": 10,
   "id": "9d39dce1",
   "metadata": {},
   "outputs": [
    {
     "data": {
      "text/plain": [
       "<re.Match object; span=(0, 9), match='12345678V'>"
      ]
     },
     "execution_count": 10,
     "metadata": {},
     "output_type": "execute_result"
    }
   ],
   "source": [
    "# Recoger el objeto que devuelve match\n",
    "patron = \"\\d{1,8}[A-Z]$\"\n",
    "dni = \"12345678V\"\n",
    "obj = re.match(patron, dni)\n",
    "obj"
   ]
  },
  {
   "cell_type": "code",
   "execution_count": 11,
   "id": "ff6dfe66",
   "metadata": {},
   "outputs": [
    {
     "data": {
      "text/plain": [
       "<re.Match object; span=(2, 11), match='12345678V'>"
      ]
     },
     "execution_count": 11,
     "metadata": {},
     "output_type": "execute_result"
    }
   ],
   "source": [
    "patron = \"\\d{1,8}[A-Z]$\"\n",
    "dni = \"  12345678V\"\n",
    "obj = re.search(patron, dni)\n",
    "obj"
   ]
  },
  {
   "cell_type": "code",
   "execution_count": 14,
   "id": "af830115",
   "metadata": {},
   "outputs": [
    {
     "name": "stdout",
     "output_type": "stream",
     "text": [
      "None\n"
     ]
    }
   ],
   "source": [
    "patron = \"\\d{1,8}[A-Z]$\"\n",
    "dni = \"  12345678V\"\n",
    "obj = re.match(patron, dni)\n",
    "print(obj)"
   ]
  },
  {
   "cell_type": "code",
   "execution_count": 16,
   "id": "6b8205d0",
   "metadata": {},
   "outputs": [
    {
     "name": "stdout",
     "output_type": "stream",
     "text": [
      "<re.Match object; span=(0, 8), match='03:15:25'>\n"
     ]
    }
   ],
   "source": [
    "# Validar horas: 03:15:25\n",
    "patron = \"([0-2][0-9]):([0-5][0-9]):([0-5][0-9])\"\n",
    "hora = \"03:15:25\"\n",
    "obj = re.match(patron, hora)\n",
    "print(obj)"
   ]
  },
  {
   "cell_type": "code",
   "execution_count": 18,
   "id": "fb1add78",
   "metadata": {},
   "outputs": [
    {
     "data": {
      "text/plain": [
       "('03', '15', '25')"
      ]
     },
     "execution_count": 18,
     "metadata": {},
     "output_type": "execute_result"
    }
   ],
   "source": [
    "obj.groups()"
   ]
  },
  {
   "cell_type": "code",
   "execution_count": 19,
   "id": "3940c7d1",
   "metadata": {},
   "outputs": [
    {
     "name": "stdout",
     "output_type": "stream",
     "text": [
      "3 15 25\n"
     ]
    }
   ],
   "source": [
    "h, m, s = [int(i) for i in obj.groups()]\n",
    "print(h,m,s)"
   ]
  },
  {
   "cell_type": "code",
   "execution_count": null,
   "id": "2cf7f107",
   "metadata": {},
   "outputs": [],
   "source": []
  }
 ],
 "metadata": {
  "kernelspec": {
   "display_name": "Python 3 (ipykernel)",
   "language": "python",
   "name": "python3"
  },
  "language_info": {
   "codemirror_mode": {
    "name": "ipython",
    "version": 3
   },
   "file_extension": ".py",
   "mimetype": "text/x-python",
   "name": "python",
   "nbconvert_exporter": "python",
   "pygments_lexer": "ipython3",
   "version": "3.8.5"
  }
 },
 "nbformat": 4,
 "nbformat_minor": 5
}

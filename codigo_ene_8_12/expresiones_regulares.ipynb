{
 "cells": [
  {
   "cell_type": "markdown",
   "id": "fa4745fc",
   "metadata": {},
   "source": [
    "## Expresiones Regulares en Python"
   ]
  },
  {
   "cell_type": "code",
   "execution_count": 1,
   "id": "53c11a1c",
   "metadata": {},
   "outputs": [],
   "source": [
    "import re"
   ]
  },
  {
   "cell_type": "code",
   "execution_count": 2,
   "id": "394fb450",
   "metadata": {},
   "outputs": [],
   "source": [
    "def comprobarPatron(patron, L):\n",
    "    R = [True if re.match(patron, cad)!=None else False  for cad in L]\n",
    "    return R"
   ]
  },
  {
   "cell_type": "code",
   "execution_count": 4,
   "id": "d4bb4a46",
   "metadata": {},
   "outputs": [
    {
     "name": "stdout",
     "output_type": "stream",
     "text": [
      "['cython', 'python', 'jython', 'java', 'php', '8ython']\n",
      "[True, True, True, False, False, True]\n"
     ]
    }
   ],
   "source": [
    "patron = r\".ython\"\n",
    "L = [\"cython\", \"python\", \"jython\", \"java\", \"php\",\"8ython\"]\n",
    "R = comprobarPatron(patron, L)\n",
    "print(L)\n",
    "print(R)"
   ]
  },
  {
   "cell_type": "code",
   "execution_count": 5,
   "id": "c6db4086",
   "metadata": {},
   "outputs": [
    {
     "name": "stdout",
     "output_type": "stream",
     "text": [
      "['cython', 'python', 'jython', 'java', 'php', '8ython']\n",
      "[True, True, True, False, False, False]\n"
     ]
    }
   ],
   "source": [
    "patron = r\"[cpj]ython\"\n",
    "L = [\"cython\", \"python\", \"jython\", \"java\", \"php\",\"8ython\"]\n",
    "R = comprobarPatron(patron, L)\n",
    "print(L)\n",
    "print(R)"
   ]
  },
  {
   "cell_type": "code",
   "execution_count": 7,
   "id": "42f7166d",
   "metadata": {},
   "outputs": [
    {
     "name": "stdout",
     "output_type": "stream",
     "text": [
      "['cython 33', 'python 2', 'jython', 'java', 'php', '8ython']\n",
      "[False, False, True, False, False, False]\n"
     ]
    }
   ],
   "source": [
    "patron = r\"[cpj]ython$\"\n",
    "L = [\"cython 33\", \"python 2\", \"jython\", \"java\", \"php\",\"8ython\"]\n",
    "R = comprobarPatron(patron, L)\n",
    "print(L)\n",
    "print(R)"
   ]
  },
  {
   "cell_type": "code",
   "execution_count": 9,
   "id": "703660bf",
   "metadata": {},
   "outputs": [
    {
     "name": "stdout",
     "output_type": "stream",
     "text": [
      "['.abc', '.abcd', 'abcde.', 'a.', '.a', 'a1b.']\n",
      "[True, False, False, False, False, False]\n"
     ]
    }
   ],
   "source": [
    "# Buscar palabras de 3 letras minúsculas que empiezan o terminan con un '.'\n",
    "patron = \"[a-z][a-z][a-z]\\.$|\\.[a-z][a-z][a-z]$\"\n",
    "L = [\".abc\",\".abcd\",\"abcde.\",\"a.\",\".a\",\"a1b.\"]\n",
    "R = comprobarPatron(patron, L)\n",
    "print(L)\n",
    "print(R)"
   ]
  },
  {
   "cell_type": "code",
   "execution_count": null,
   "id": "b9b3893f",
   "metadata": {},
   "outputs": [],
   "source": [
    "patron = \"[a-z]+\\.$\"\n"
   ]
  }
 ],
 "metadata": {
  "kernelspec": {
   "display_name": "Python 3 (ipykernel)",
   "language": "python",
   "name": "python3"
  },
  "language_info": {
   "codemirror_mode": {
    "name": "ipython",
    "version": 3
   },
   "file_extension": ".py",
   "mimetype": "text/x-python",
   "name": "python",
   "nbconvert_exporter": "python",
   "pygments_lexer": "ipython3",
   "version": "3.8.5"
  }
 },
 "nbformat": 4,
 "nbformat_minor": 5
}

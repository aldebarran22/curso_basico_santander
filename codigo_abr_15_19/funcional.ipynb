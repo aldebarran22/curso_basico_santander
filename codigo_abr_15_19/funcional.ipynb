{
 "cells": [
  {
   "cell_type": "markdown",
   "id": "f0d18ba9",
   "metadata": {},
   "source": [
    "### Programación funcional en Python"
   ]
  },
  {
   "cell_type": "markdown",
   "id": "230210c8",
   "metadata": {},
   "source": [
    "- Iteradores: map, filter y reduce\n",
    "- List comprehession\n",
    "- generadores"
   ]
  },
  {
   "cell_type": "markdown",
   "id": "c5d2c8b9",
   "metadata": {},
   "source": [
    "Pruebas iniciales"
   ]
  },
  {
   "cell_type": "code",
   "execution_count": 1,
   "id": "ba7c46e2",
   "metadata": {},
   "outputs": [
    {
     "data": {
      "text/plain": [
       "[1, 3, 4, 5, 6, 1, 2, 70]"
      ]
     },
     "execution_count": 1,
     "metadata": {},
     "output_type": "execute_result"
    }
   ],
   "source": [
    "L = [1,3,4,5,6,1,2,70]\n",
    "L"
   ]
  },
  {
   "cell_type": "code",
   "execution_count": 2,
   "id": "1a0ece79",
   "metadata": {},
   "outputs": [
    {
     "data": {
      "text/plain": [
       "[1, 3, 4, 5, 6, 1, 2, 70, 1, 3, 4, 5, 6, 1, 2, 70]"
      ]
     },
     "execution_count": 2,
     "metadata": {},
     "output_type": "execute_result"
    }
   ],
   "source": [
    "L * 2"
   ]
  },
  {
   "cell_type": "markdown",
   "id": "9e1b10c8",
   "metadata": {},
   "source": [
    "#### map"
   ]
  },
  {
   "cell_type": "code",
   "execution_count": 3,
   "id": "df0689ba",
   "metadata": {},
   "outputs": [],
   "source": [
    "def cuadrado(x):\n",
    "    return x**2"
   ]
  },
  {
   "cell_type": "code",
   "execution_count": 4,
   "id": "6a78f8a5",
   "metadata": {},
   "outputs": [
    {
     "name": "stdout",
     "output_type": "stream",
     "text": [
      "[4, 5, 6, 7, 2, 3, 4, 5]\n"
     ]
    },
    {
     "data": {
      "text/plain": [
       "[16, 25, 36, 49, 4, 9, 16, 25]"
      ]
     },
     "execution_count": 4,
     "metadata": {},
     "output_type": "execute_result"
    }
   ],
   "source": [
    "L = [4,5,6,7,2,3,4,5]\n",
    "print(L)\n",
    "R = []\n",
    "for i in L:\n",
    "    R.append(cuadrado(i))\n",
    "R"
   ]
  },
  {
   "cell_type": "code",
   "execution_count": 7,
   "id": "cd698373",
   "metadata": {},
   "outputs": [
    {
     "data": {
      "text/plain": [
       "[16, 25, 36, 49, 4, 9, 16, 25]"
      ]
     },
     "execution_count": 7,
     "metadata": {},
     "output_type": "execute_result"
    }
   ],
   "source": [
    "R2 = list(map(cuadrado, L))\n",
    "R2"
   ]
  },
  {
   "cell_type": "code",
   "execution_count": 8,
   "id": "8c9f0fc7",
   "metadata": {},
   "outputs": [
    {
     "data": {
      "text/plain": [
       "[16, 25, 36, 49, 4, 9, 16, 25]"
      ]
     },
     "execution_count": 8,
     "metadata": {},
     "output_type": "execute_result"
    }
   ],
   "source": [
    "R3 = [cuadrado(i) for i in L]\n",
    "R3"
   ]
  },
  {
   "cell_type": "code",
   "execution_count": 9,
   "id": "33c366d8",
   "metadata": {},
   "outputs": [
    {
     "data": {
      "text/plain": [
       "[16, 25, 36, 49, 4, 9, 16, 25]"
      ]
     },
     "execution_count": 9,
     "metadata": {},
     "output_type": "execute_result"
    }
   ],
   "source": [
    "R4 = [i**2 for i in L]\n",
    "R4"
   ]
  },
  {
   "cell_type": "code",
   "execution_count": 10,
   "id": "fde9f0d7",
   "metadata": {},
   "outputs": [
    {
     "data": {
      "text/plain": [
       "[(4, 16), (5, 25), (6, 36), (7, 49), (2, 4), (3, 9), (4, 16), (5, 25)]"
      ]
     },
     "execution_count": 10,
     "metadata": {},
     "output_type": "execute_result"
    }
   ],
   "source": [
    "R5 = [(i, i**2) for i in L]\n",
    "R5"
   ]
  },
  {
   "cell_type": "code",
   "execution_count": 11,
   "id": "1511ae24",
   "metadata": {},
   "outputs": [
    {
     "data": {
      "text/plain": [
       "[(1, 1, 1),\n",
       " (1, 2, 2),\n",
       " (1, 3, 3),\n",
       " (1, 4, 4),\n",
       " (1, 5, 5),\n",
       " (1, 6, 6),\n",
       " (1, 7, 7),\n",
       " (1, 8, 8),\n",
       " (1, 9, 9),\n",
       " (1, 10, 10),\n",
       " (2, 1, 2),\n",
       " (2, 2, 4),\n",
       " (2, 3, 6),\n",
       " (2, 4, 8),\n",
       " (2, 5, 10),\n",
       " (2, 6, 12),\n",
       " (2, 7, 14),\n",
       " (2, 8, 16),\n",
       " (2, 9, 18),\n",
       " (2, 10, 20),\n",
       " (3, 1, 3),\n",
       " (3, 2, 6),\n",
       " (3, 3, 9),\n",
       " (3, 4, 12),\n",
       " (3, 5, 15),\n",
       " (3, 6, 18),\n",
       " (3, 7, 21),\n",
       " (3, 8, 24),\n",
       " (3, 9, 27),\n",
       " (3, 10, 30)]"
      ]
     },
     "execution_count": 11,
     "metadata": {},
     "output_type": "execute_result"
    }
   ],
   "source": [
    "tablas = [(i,j,i*j) for i in range(1,4) for j in range(1,11)]\n",
    "tablas"
   ]
  },
  {
   "cell_type": "code",
   "execution_count": null,
   "id": "9248aa97",
   "metadata": {},
   "outputs": [],
   "source": []
  }
 ],
 "metadata": {
  "kernelspec": {
   "display_name": "Python 3 (ipykernel)",
   "language": "python",
   "name": "python3"
  },
  "language_info": {
   "codemirror_mode": {
    "name": "ipython",
    "version": 3
   },
   "file_extension": ".py",
   "mimetype": "text/x-python",
   "name": "python",
   "nbconvert_exporter": "python",
   "pygments_lexer": "ipython3",
   "version": "3.9.13"
  }
 },
 "nbformat": 4,
 "nbformat_minor": 5
}

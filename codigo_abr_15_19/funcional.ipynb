{
 "cells": [
  {
   "cell_type": "markdown",
   "id": "537c2774",
   "metadata": {},
   "source": [
    "### Programación funcional en Python"
   ]
  },
  {
   "cell_type": "markdown",
   "id": "537b81ce",
   "metadata": {},
   "source": [
    "- Iteradores: map, filter y reduce\n",
    "- List comprehession\n",
    "- generadores"
   ]
  },
  {
   "cell_type": "markdown",
   "id": "7fbffed0",
   "metadata": {},
   "source": [
    "Pruebas iniciales"
   ]
  },
  {
   "cell_type": "code",
   "execution_count": 1,
   "id": "7b6af284",
   "metadata": {},
   "outputs": [
    {
     "data": {
      "text/plain": [
       "[1, 3, 4, 5, 6, 1, 2, 70]"
      ]
     },
     "execution_count": 1,
     "metadata": {},
     "output_type": "execute_result"
    }
   ],
   "source": [
    "L = [1,3,4,5,6,1,2,70]\n",
    "L"
   ]
  },
  {
   "cell_type": "code",
   "execution_count": 2,
   "id": "bde794d8",
   "metadata": {},
   "outputs": [
    {
     "data": {
      "text/plain": [
       "[1, 3, 4, 5, 6, 1, 2, 70, 1, 3, 4, 5, 6, 1, 2, 70]"
      ]
     },
     "execution_count": 2,
     "metadata": {},
     "output_type": "execute_result"
    }
   ],
   "source": [
    "L * 2"
   ]
  },
  {
   "cell_type": "code",
   "execution_count": null,
   "id": "d2dd4cf3",
   "metadata": {},
   "outputs": [],
   "source": []
  }
 ],
 "metadata": {
  "kernelspec": {
   "display_name": "Python 3 (ipykernel)",
   "language": "python",
   "name": "python3"
  },
  "language_info": {
   "codemirror_mode": {
    "name": "ipython",
    "version": 3
   },
   "file_extension": ".py",
   "mimetype": "text/x-python",
   "name": "python",
   "nbconvert_exporter": "python",
   "pygments_lexer": "ipython3",
   "version": "3.9.13"
  }
 },
 "nbformat": 4,
 "nbformat_minor": 5
}

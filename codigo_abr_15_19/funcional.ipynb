{
 "cells": [
  {
   "cell_type": "markdown",
   "id": "6d2930e9",
   "metadata": {},
   "source": [
    "### Programación funcional en Python"
   ]
  },
  {
   "cell_type": "markdown",
   "id": "8e1e7df4",
   "metadata": {},
   "source": [
    "- Iteradores: map, filter y reduce\n",
    "- List comprehession\n",
    "- generadores"
   ]
  },
  {
   "cell_type": "markdown",
   "id": "daee0a72",
   "metadata": {},
   "source": [
    "Pruebas iniciales"
   ]
  },
  {
   "cell_type": "code",
   "execution_count": 1,
   "id": "4eb6eb4b",
   "metadata": {},
   "outputs": [],
   "source": [
    "L = [1,3,4,5,6,1,2,70]\n",
    "L"
   ]
  },
  {
   "cell_type": "code",
   "execution_count": 2,
   "id": "b26885d5",
   "metadata": {},
   "outputs": [
    {
     "data": {
      "text/plain": [
       "[1, 3, 4, 5, 6, 1, 2, 70, 1, 3, 4, 5, 6, 1, 2, 70]"
      ]
     },
     "execution_count": 2,
     "metadata": {},
     "output_type": "execute_result"
    }
   ],
   "source": [
    "L * 2"
   ]
  },
  {
   "cell_type": "markdown",
   "id": "39de0c11",
   "metadata": {},
   "source": [
    "#### map"
   ]
  },
  {
   "cell_type": "code",
   "execution_count": 3,
   "id": "b4c9c296",
   "metadata": {},
   "outputs": [],
   "source": [
    "def cuadrado(x):\n",
    "    return x**2"
   ]
  },
  {
   "cell_type": "code",
   "execution_count": 4,
   "id": "511ffc60",
   "metadata": {},
   "outputs": [
    {
     "name": "stdout",
     "output_type": "stream",
     "text": [
      "[4, 5, 6, 7, 2, 3, 4, 5]\n"
     ]
    },
    {
     "data": {
      "text/plain": [
       "[16, 25, 36, 49, 4, 9, 16, 25]"
      ]
     },
     "execution_count": 4,
     "metadata": {},
     "output_type": "execute_result"
    }
   ],
   "source": [
    "L = [4,5,6,7,2,3,4,5]\n",
    "print(L)\n",
    "R = []\n",
    "for i in L:\n",
    "    R.append(cuadrado(i))\n",
    "R"
   ]
  },
  {
   "cell_type": "code",
   "execution_count": 5,
   "id": "96489726",
   "metadata": {},
   "outputs": [
    {
     "data": {
      "text/plain": [
       "[16, 25, 36, 49, 4, 9, 16, 25]"
      ]
     },
     "execution_count": 5,
     "metadata": {},
     "output_type": "execute_result"
    }
   ],
   "source": [
    "R2 = list(map(cuadrado, L))\n",
    "R2"
   ]
  },
  {
   "cell_type": "code",
   "execution_count": 6,
   "id": "aebbd5e1",
   "metadata": {},
   "outputs": [
    {
     "data": {
      "text/plain": [
       "[4, 5, 6, 7, 2, 3, 4, 5]"
      ]
     },
     "execution_count": 6,
     "metadata": {},
     "output_type": "execute_result"
    }
   ],
   "source": [
    "L"
   ]
  },
  {
   "cell_type": "code",
   "execution_count": 7,
   "id": "124efb0d",
   "metadata": {},
   "outputs": [
    {
     "data": {
      "text/plain": [
       "[16, 25, 36, 49, 4, 9, 16, 25]"
      ]
     },
     "execution_count": 7,
     "metadata": {},
     "output_type": "execute_result"
    }
   ],
   "source": [
    "R22 = list(map(lambda x : x**2, L))\n",
    "R22"
   ]
  },
  {
   "cell_type": "code",
   "execution_count": 8,
   "id": "b40fcefc",
   "metadata": {},
   "outputs": [
    {
     "data": {
      "text/plain": [
       "[16, 25, 36, 49, 4, 9, 16, 25]"
      ]
     },
     "execution_count": 8,
     "metadata": {},
     "output_type": "execute_result"
    }
   ],
   "source": [
    "R3 = [cuadrado(i) for i in L]\n",
    "R3"
   ]
  },
  {
   "cell_type": "code",
   "execution_count": 9,
   "id": "b7f8962e",
   "metadata": {},
   "outputs": [
    {
     "data": {
      "text/plain": [
       "[16, 25, 36, 49, 4, 9, 16, 25]"
      ]
     },
     "execution_count": 9,
     "metadata": {},
     "output_type": "execute_result"
    }
   ],
   "source": [
    "R4 = [i**2 for i in L]\n",
    "R4"
   ]
  },
  {
   "cell_type": "code",
   "execution_count": 10,
   "id": "999ed6e9",
   "metadata": {},
   "outputs": [
    {
     "data": {
      "text/plain": [
       "[(4, 16), (5, 25), (6, 36), (7, 49), (2, 4), (3, 9), (4, 16), (5, 25)]"
      ]
     },
     "execution_count": 10,
     "metadata": {},
     "output_type": "execute_result"
    }
   ],
   "source": [
    "R5 = [(i, i**2) for i in L]\n",
    "R5"
   ]
  },
  {
   "cell_type": "code",
   "execution_count": 11,
   "id": "dbb1af65",
   "metadata": {},
   "outputs": [
    {
     "data": {
      "text/plain": [
       "[(1, 1, 1),\n",
       " (1, 2, 2),\n",
       " (1, 3, 3),\n",
       " (1, 4, 4),\n",
       " (1, 5, 5),\n",
       " (1, 6, 6),\n",
       " (1, 7, 7),\n",
       " (1, 8, 8),\n",
       " (1, 9, 9),\n",
       " (1, 10, 10),\n",
       " (2, 1, 2),\n",
       " (2, 2, 4),\n",
       " (2, 3, 6),\n",
       " (2, 4, 8),\n",
       " (2, 5, 10),\n",
       " (2, 6, 12),\n",
       " (2, 7, 14),\n",
       " (2, 8, 16),\n",
       " (2, 9, 18),\n",
       " (2, 10, 20),\n",
       " (3, 1, 3),\n",
       " (3, 2, 6),\n",
       " (3, 3, 9),\n",
       " (3, 4, 12),\n",
       " (3, 5, 15),\n",
       " (3, 6, 18),\n",
       " (3, 7, 21),\n",
       " (3, 8, 24),\n",
       " (3, 9, 27),\n",
       " (3, 10, 30)]"
      ]
     },
     "execution_count": 11,
     "metadata": {},
     "output_type": "execute_result"
    }
   ],
   "source": [
    "tablas = [(i,j,i*j) for i in range(1,4) for j in range(1,11)]\n",
    "tablas"
   ]
  },
  {
   "cell_type": "code",
   "execution_count": 12,
   "id": "35ecf459",
   "metadata": {},
   "outputs": [],
   "source": [
    "def segundos(h=0, m=0, s=0):\n",
    "    return h * 3600 + m * 60 + s"
   ]
  },
  {
   "cell_type": "code",
   "execution_count": 13,
   "id": "f117f01a",
   "metadata": {},
   "outputs": [],
   "source": [
    "L = [(12, 4, 5), (8, 30, 56), (13, 4, 22), (7, 8, 10)]"
   ]
  },
  {
   "cell_type": "code",
   "execution_count": 14,
   "id": "8386a51d",
   "metadata": {},
   "outputs": [
    {
     "data": {
      "text/plain": [
       "[43445, 30656, 47062, 25690]"
      ]
     },
     "execution_count": 14,
     "metadata": {},
     "output_type": "execute_result"
    }
   ],
   "source": [
    "R = [segundos(*t) for t in L]\n",
    "R"
   ]
  },
  {
   "cell_type": "markdown",
   "id": "20de3cfa",
   "metadata": {},
   "source": [
    "#### Filter"
   ]
  },
  {
   "cell_type": "code",
   "execution_count": 15,
   "id": "66ce728e",
   "metadata": {},
   "outputs": [],
   "source": [
    "def filtro(n):\n",
    "    return True if n < 40000 else False"
   ]
  },
  {
   "cell_type": "code",
   "execution_count": 16,
   "id": "be2f1900",
   "metadata": {},
   "outputs": [
    {
     "data": {
      "text/plain": [
       "[30656, 25690]"
      ]
     },
     "execution_count": 16,
     "metadata": {},
     "output_type": "execute_result"
    }
   ],
   "source": [
    "R2 = list(filter(filtro, R))\n",
    "R2"
   ]
  },
  {
   "cell_type": "code",
   "execution_count": 17,
   "id": "528f47aa",
   "metadata": {},
   "outputs": [
    {
     "data": {
      "text/plain": [
       "[30656, 25690]"
      ]
     },
     "execution_count": 17,
     "metadata": {},
     "output_type": "execute_result"
    }
   ],
   "source": [
    "R3 = [i for i in R if i < 40000]\n",
    "R3"
   ]
  },
  {
   "cell_type": "markdown",
   "id": "f1949665",
   "metadata": {},
   "source": [
    "#### Funciones Lambda"
   ]
  },
  {
   "cell_type": "code",
   "execution_count": 18,
   "id": "c9b88629",
   "metadata": {},
   "outputs": [],
   "source": [
    "f = lambda num : num % 2 == 0"
   ]
  },
  {
   "cell_type": "code",
   "execution_count": 19,
   "id": "7b26ef9d",
   "metadata": {},
   "outputs": [
    {
     "data": {
      "text/plain": [
       "function"
      ]
     },
     "execution_count": 19,
     "metadata": {},
     "output_type": "execute_result"
    }
   ],
   "source": [
    "type(f)"
   ]
  },
  {
   "cell_type": "code",
   "execution_count": 20,
   "id": "9fa24cc4",
   "metadata": {},
   "outputs": [
    {
     "data": {
      "text/plain": [
       "True"
      ]
     },
     "execution_count": 20,
     "metadata": {},
     "output_type": "execute_result"
    }
   ],
   "source": [
    "f(8)"
   ]
  },
  {
   "cell_type": "code",
   "execution_count": 21,
   "id": "68191f68",
   "metadata": {},
   "outputs": [
    {
     "data": {
      "text/plain": [
       "False"
      ]
     },
     "execution_count": 21,
     "metadata": {},
     "output_type": "execute_result"
    }
   ],
   "source": [
    "f(3)"
   ]
  },
  {
   "cell_type": "code",
   "execution_count": null,
   "id": "4fa40e8c",
   "metadata": {},
   "outputs": [],
   "source": []
  }
 ],
 "metadata": {
  "kernelspec": {
   "display_name": "Python 3 (ipykernel)",
   "language": "python",
   "name": "python3"
  },
  "language_info": {
   "codemirror_mode": {
    "name": "ipython",
    "version": 3
   },
   "file_extension": ".py",
   "mimetype": "text/x-python",
   "name": "python",
   "nbconvert_exporter": "python",
   "pygments_lexer": "ipython3",
   "version": "3.8.5"
  }
 },
 "nbformat": 4,
 "nbformat_minor": 5
}

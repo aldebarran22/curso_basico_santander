{
 "cells": [
  {
   "cell_type": "markdown",
   "id": "8decc8a3",
   "metadata": {},
   "source": [
    "### Programación funcional en Python"
   ]
  },
  {
   "cell_type": "markdown",
   "id": "7beb0eec",
   "metadata": {},
   "source": [
    "- Iteradores: map, filter y reduce\n",
    "- List comprehession\n",
    "- generadores"
   ]
  },
  {
   "cell_type": "markdown",
   "id": "9ef85e54",
   "metadata": {},
   "source": [
    "Pruebas iniciales"
   ]
  },
  {
   "cell_type": "code",
   "execution_count": 29,
   "id": "d2a84669",
   "metadata": {},
   "outputs": [],
   "source": [
    "# from modulo import funcion\n",
    "from functools import reduce\n",
    "from random import randint\n",
    "from string import ascii_letters"
   ]
  },
  {
   "cell_type": "code",
   "execution_count": 1,
   "id": "5fdbda71",
   "metadata": {},
   "outputs": [],
   "source": [
    "L = [1,3,4,5,6,1,2,70]\n",
    "L"
   ]
  },
  {
   "cell_type": "code",
   "execution_count": 2,
   "id": "478b1a2b",
   "metadata": {},
   "outputs": [
    {
     "data": {
      "text/plain": [
       "[1, 3, 4, 5, 6, 1, 2, 70, 1, 3, 4, 5, 6, 1, 2, 70]"
      ]
     },
     "execution_count": 2,
     "metadata": {},
     "output_type": "execute_result"
    }
   ],
   "source": [
    "L * 2"
   ]
  },
  {
   "cell_type": "markdown",
   "id": "f1c9fc9b",
   "metadata": {},
   "source": [
    "#### map"
   ]
  },
  {
   "cell_type": "code",
   "execution_count": 3,
   "id": "25759066",
   "metadata": {},
   "outputs": [],
   "source": [
    "def cuadrado(x):\n",
    "    return x**2"
   ]
  },
  {
   "cell_type": "code",
   "execution_count": 4,
   "id": "e13c099c",
   "metadata": {},
   "outputs": [
    {
     "name": "stdout",
     "output_type": "stream",
     "text": [
      "[4, 5, 6, 7, 2, 3, 4, 5]\n"
     ]
    },
    {
     "data": {
      "text/plain": [
       "[16, 25, 36, 49, 4, 9, 16, 25]"
      ]
     },
     "execution_count": 4,
     "metadata": {},
     "output_type": "execute_result"
    }
   ],
   "source": [
    "L = [4,5,6,7,2,3,4,5]\n",
    "print(L)\n",
    "R = []\n",
    "for i in L:\n",
    "    R.append(cuadrado(i))\n",
    "R"
   ]
  },
  {
   "cell_type": "code",
   "execution_count": 5,
   "id": "b307ae79",
   "metadata": {},
   "outputs": [
    {
     "data": {
      "text/plain": [
       "[16, 25, 36, 49, 4, 9, 16, 25]"
      ]
     },
     "execution_count": 5,
     "metadata": {},
     "output_type": "execute_result"
    }
   ],
   "source": [
    "R2 = list(map(cuadrado, L))\n",
    "R2"
   ]
  },
  {
   "cell_type": "code",
   "execution_count": 6,
   "id": "79cc8246",
   "metadata": {},
   "outputs": [
    {
     "data": {
      "text/plain": [
       "[4, 5, 6, 7, 2, 3, 4, 5]"
      ]
     },
     "execution_count": 6,
     "metadata": {},
     "output_type": "execute_result"
    }
   ],
   "source": [
    "L"
   ]
  },
  {
   "cell_type": "code",
   "execution_count": 7,
   "id": "2556443d",
   "metadata": {},
   "outputs": [
    {
     "data": {
      "text/plain": [
       "[16, 25, 36, 49, 4, 9, 16, 25]"
      ]
     },
     "execution_count": 7,
     "metadata": {},
     "output_type": "execute_result"
    }
   ],
   "source": [
    "R22 = list(map(lambda x : x**2, L))\n",
    "R22"
   ]
  },
  {
   "cell_type": "code",
   "execution_count": 8,
   "id": "b7886d30",
   "metadata": {},
   "outputs": [
    {
     "data": {
      "text/plain": [
       "[16, 25, 36, 49, 4, 9, 16, 25]"
      ]
     },
     "execution_count": 8,
     "metadata": {},
     "output_type": "execute_result"
    }
   ],
   "source": [
    "R3 = [cuadrado(i) for i in L]\n",
    "R3"
   ]
  },
  {
   "cell_type": "code",
   "execution_count": 9,
   "id": "4fd32e14",
   "metadata": {},
   "outputs": [
    {
     "data": {
      "text/plain": [
       "[16, 25, 36, 49, 4, 9, 16, 25]"
      ]
     },
     "execution_count": 9,
     "metadata": {},
     "output_type": "execute_result"
    }
   ],
   "source": [
    "R4 = [i**2 for i in L]\n",
    "R4"
   ]
  },
  {
   "cell_type": "code",
   "execution_count": 10,
   "id": "0be90a9d",
   "metadata": {},
   "outputs": [
    {
     "data": {
      "text/plain": [
       "[(4, 16), (5, 25), (6, 36), (7, 49), (2, 4), (3, 9), (4, 16), (5, 25)]"
      ]
     },
     "execution_count": 10,
     "metadata": {},
     "output_type": "execute_result"
    }
   ],
   "source": [
    "R5 = [(i, i**2) for i in L]\n",
    "R5"
   ]
  },
  {
   "cell_type": "code",
   "execution_count": 11,
   "id": "0a2fd812",
   "metadata": {},
   "outputs": [
    {
     "data": {
      "text/plain": [
       "[(1, 1, 1),\n",
       " (1, 2, 2),\n",
       " (1, 3, 3),\n",
       " (1, 4, 4),\n",
       " (1, 5, 5),\n",
       " (1, 6, 6),\n",
       " (1, 7, 7),\n",
       " (1, 8, 8),\n",
       " (1, 9, 9),\n",
       " (1, 10, 10),\n",
       " (2, 1, 2),\n",
       " (2, 2, 4),\n",
       " (2, 3, 6),\n",
       " (2, 4, 8),\n",
       " (2, 5, 10),\n",
       " (2, 6, 12),\n",
       " (2, 7, 14),\n",
       " (2, 8, 16),\n",
       " (2, 9, 18),\n",
       " (2, 10, 20),\n",
       " (3, 1, 3),\n",
       " (3, 2, 6),\n",
       " (3, 3, 9),\n",
       " (3, 4, 12),\n",
       " (3, 5, 15),\n",
       " (3, 6, 18),\n",
       " (3, 7, 21),\n",
       " (3, 8, 24),\n",
       " (3, 9, 27),\n",
       " (3, 10, 30)]"
      ]
     },
     "execution_count": 11,
     "metadata": {},
     "output_type": "execute_result"
    }
   ],
   "source": [
    "tablas = [(i,j,i*j) for i in range(1,4) for j in range(1,11)]\n",
    "tablas"
   ]
  },
  {
   "cell_type": "code",
   "execution_count": 12,
   "id": "dee55ca8",
   "metadata": {},
   "outputs": [],
   "source": [
    "def segundos(h=0, m=0, s=0):\n",
    "    return h * 3600 + m * 60 + s"
   ]
  },
  {
   "cell_type": "code",
   "execution_count": 13,
   "id": "a31a0827",
   "metadata": {},
   "outputs": [],
   "source": [
    "L = [(12, 4, 5), (8, 30, 56), (13, 4, 22), (7, 8, 10)]"
   ]
  },
  {
   "cell_type": "code",
   "execution_count": 14,
   "id": "fe5eb17f",
   "metadata": {},
   "outputs": [
    {
     "data": {
      "text/plain": [
       "[43445, 30656, 47062, 25690]"
      ]
     },
     "execution_count": 14,
     "metadata": {},
     "output_type": "execute_result"
    }
   ],
   "source": [
    "R = [segundos(*t) for t in L]\n",
    "R"
   ]
  },
  {
   "cell_type": "markdown",
   "id": "d3cc6da1",
   "metadata": {},
   "source": [
    "#### Filter"
   ]
  },
  {
   "cell_type": "code",
   "execution_count": 15,
   "id": "2bf7f755",
   "metadata": {},
   "outputs": [],
   "source": [
    "def filtro(n):\n",
    "    return True if n < 40000 else False"
   ]
  },
  {
   "cell_type": "code",
   "execution_count": 16,
   "id": "e9a7af49",
   "metadata": {},
   "outputs": [
    {
     "data": {
      "text/plain": [
       "[30656, 25690]"
      ]
     },
     "execution_count": 16,
     "metadata": {},
     "output_type": "execute_result"
    }
   ],
   "source": [
    "R2 = list(filter(filtro, R))\n",
    "R2"
   ]
  },
  {
   "cell_type": "code",
   "execution_count": 17,
   "id": "abe16f34",
   "metadata": {},
   "outputs": [
    {
     "data": {
      "text/plain": [
       "[30656, 25690]"
      ]
     },
     "execution_count": 17,
     "metadata": {},
     "output_type": "execute_result"
    }
   ],
   "source": [
    "R3 = [i for i in R if i < 40000]\n",
    "R3"
   ]
  },
  {
   "cell_type": "markdown",
   "id": "4b393d99",
   "metadata": {},
   "source": [
    "#### Funciones Lambda"
   ]
  },
  {
   "cell_type": "code",
   "execution_count": 18,
   "id": "1a491849",
   "metadata": {},
   "outputs": [],
   "source": [
    "f = lambda num : num % 2 == 0"
   ]
  },
  {
   "cell_type": "code",
   "execution_count": 19,
   "id": "db5732ad",
   "metadata": {},
   "outputs": [
    {
     "data": {
      "text/plain": [
       "function"
      ]
     },
     "execution_count": 19,
     "metadata": {},
     "output_type": "execute_result"
    }
   ],
   "source": [
    "type(f)"
   ]
  },
  {
   "cell_type": "code",
   "execution_count": 20,
   "id": "baaa15e3",
   "metadata": {},
   "outputs": [
    {
     "data": {
      "text/plain": [
       "True"
      ]
     },
     "execution_count": 20,
     "metadata": {},
     "output_type": "execute_result"
    }
   ],
   "source": [
    "f(8)"
   ]
  },
  {
   "cell_type": "code",
   "execution_count": 21,
   "id": "4bd7788b",
   "metadata": {},
   "outputs": [
    {
     "data": {
      "text/plain": [
       "False"
      ]
     },
     "execution_count": 21,
     "metadata": {},
     "output_type": "execute_result"
    }
   ],
   "source": [
    "f(3)"
   ]
  },
  {
   "cell_type": "markdown",
   "id": "f2812411",
   "metadata": {},
   "source": [
    "#### reduce"
   ]
  },
  {
   "cell_type": "code",
   "execution_count": 26,
   "id": "e591380a",
   "metadata": {},
   "outputs": [],
   "source": [
    "def minimo(a, b):\n",
    "    print(a,b)\n",
    "    return a if a < b else b"
   ]
  },
  {
   "cell_type": "code",
   "execution_count": 27,
   "id": "28d2071d",
   "metadata": {},
   "outputs": [],
   "source": [
    "L = [34, 50, 12, 13,10, 8,7,30,1]"
   ]
  },
  {
   "cell_type": "code",
   "execution_count": 28,
   "id": "037f057d",
   "metadata": {},
   "outputs": [
    {
     "name": "stdout",
     "output_type": "stream",
     "text": [
      "34 50\n",
      "34 12\n",
      "12 13\n",
      "12 10\n",
      "10 8\n",
      "8 7\n",
      "7 30\n",
      "7 1\n"
     ]
    },
    {
     "data": {
      "text/plain": [
       "1"
      ]
     },
     "execution_count": 28,
     "metadata": {},
     "output_type": "execute_result"
    }
   ],
   "source": [
    "numero = reduce(minimo, L)\n",
    "numero"
   ]
  },
  {
   "cell_type": "code",
   "execution_count": null,
   "id": "7c21bad1",
   "metadata": {},
   "outputs": [],
   "source": [
    "def mejorCandidato(c1, c2):\n",
    "    \n",
    "    if c1['exp'] > c2['exp']:\n",
    "        return c1\n",
    "    \n",
    "    elif c2['exp'] > c1['exp']:\n",
    "        return c2\n",
    "    \n",
    "    else:\n",
    "        if c1['emp'] > c2['emp']:\n",
    "            return c1\n",
    "        \n",
    "        elif c2['emp'] > c1['emp']:\n",
    "            \n",
    "        \n",
    "    \n",
    "    "
   ]
  },
  {
   "cell_type": "code",
   "execution_count": 35,
   "id": "ff641049",
   "metadata": {},
   "outputs": [],
   "source": [
    "candidatos = [{'nombre':letra * 5, 'exp':randint(3,10), 'emp':randint(1,5)} for letra in ascii_letters]"
   ]
  },
  {
   "cell_type": "code",
   "execution_count": 36,
   "id": "b721615b",
   "metadata": {},
   "outputs": [
    {
     "name": "stdout",
     "output_type": "stream",
     "text": [
      "{'nombre': 'aaaaa', 'exp': 7, 'emp': 3}\n",
      "{'nombre': 'bbbbb', 'exp': 7, 'emp': 4}\n",
      "{'nombre': 'ccccc', 'exp': 6, 'emp': 1}\n",
      "{'nombre': 'ddddd', 'exp': 3, 'emp': 2}\n",
      "{'nombre': 'eeeee', 'exp': 6, 'emp': 5}\n",
      "{'nombre': 'fffff', 'exp': 10, 'emp': 5}\n",
      "{'nombre': 'ggggg', 'exp': 7, 'emp': 4}\n",
      "{'nombre': 'hhhhh', 'exp': 3, 'emp': 2}\n",
      "{'nombre': 'iiiii', 'exp': 9, 'emp': 1}\n",
      "{'nombre': 'jjjjj', 'exp': 5, 'emp': 5}\n",
      "{'nombre': 'kkkkk', 'exp': 3, 'emp': 4}\n",
      "{'nombre': 'lllll', 'exp': 4, 'emp': 2}\n",
      "{'nombre': 'mmmmm', 'exp': 5, 'emp': 3}\n",
      "{'nombre': 'nnnnn', 'exp': 10, 'emp': 1}\n",
      "{'nombre': 'ooooo', 'exp': 5, 'emp': 4}\n",
      "{'nombre': 'ppppp', 'exp': 4, 'emp': 5}\n",
      "{'nombre': 'qqqqq', 'exp': 3, 'emp': 4}\n",
      "{'nombre': 'rrrrr', 'exp': 4, 'emp': 2}\n",
      "{'nombre': 'sssss', 'exp': 10, 'emp': 2}\n",
      "{'nombre': 'ttttt', 'exp': 5, 'emp': 4}\n",
      "{'nombre': 'uuuuu', 'exp': 3, 'emp': 5}\n",
      "{'nombre': 'vvvvv', 'exp': 10, 'emp': 4}\n",
      "{'nombre': 'wwwww', 'exp': 3, 'emp': 4}\n",
      "{'nombre': 'xxxxx', 'exp': 7, 'emp': 2}\n",
      "{'nombre': 'yyyyy', 'exp': 7, 'emp': 5}\n",
      "{'nombre': 'zzzzz', 'exp': 9, 'emp': 5}\n",
      "{'nombre': 'AAAAA', 'exp': 7, 'emp': 5}\n",
      "{'nombre': 'BBBBB', 'exp': 9, 'emp': 1}\n",
      "{'nombre': 'CCCCC', 'exp': 6, 'emp': 4}\n",
      "{'nombre': 'DDDDD', 'exp': 3, 'emp': 3}\n",
      "{'nombre': 'EEEEE', 'exp': 6, 'emp': 2}\n",
      "{'nombre': 'FFFFF', 'exp': 6, 'emp': 4}\n",
      "{'nombre': 'GGGGG', 'exp': 4, 'emp': 2}\n",
      "{'nombre': 'HHHHH', 'exp': 5, 'emp': 3}\n",
      "{'nombre': 'IIIII', 'exp': 8, 'emp': 1}\n",
      "{'nombre': 'JJJJJ', 'exp': 3, 'emp': 5}\n",
      "{'nombre': 'KKKKK', 'exp': 3, 'emp': 4}\n",
      "{'nombre': 'LLLLL', 'exp': 10, 'emp': 1}\n",
      "{'nombre': 'MMMMM', 'exp': 4, 'emp': 3}\n",
      "{'nombre': 'NNNNN', 'exp': 5, 'emp': 2}\n",
      "{'nombre': 'OOOOO', 'exp': 8, 'emp': 2}\n",
      "{'nombre': 'PPPPP', 'exp': 6, 'emp': 1}\n",
      "{'nombre': 'QQQQQ', 'exp': 5, 'emp': 3}\n",
      "{'nombre': 'RRRRR', 'exp': 5, 'emp': 2}\n",
      "{'nombre': 'SSSSS', 'exp': 3, 'emp': 5}\n",
      "{'nombre': 'TTTTT', 'exp': 7, 'emp': 5}\n",
      "{'nombre': 'UUUUU', 'exp': 10, 'emp': 4}\n",
      "{'nombre': 'VVVVV', 'exp': 10, 'emp': 4}\n",
      "{'nombre': 'WWWWW', 'exp': 6, 'emp': 1}\n",
      "{'nombre': 'XXXXX', 'exp': 7, 'emp': 3}\n",
      "{'nombre': 'YYYYY', 'exp': 6, 'emp': 5}\n",
      "{'nombre': 'ZZZZZ', 'exp': 3, 'emp': 1}\n"
     ]
    }
   ],
   "source": [
    "for c in candidatos:\n",
    "    print(c)"
   ]
  },
  {
   "cell_type": "code",
   "execution_count": null,
   "id": "0493849c",
   "metadata": {},
   "outputs": [],
   "source": []
  }
 ],
 "metadata": {
  "kernelspec": {
   "display_name": "Python 3 (ipykernel)",
   "language": "python",
   "name": "python3"
  },
  "language_info": {
   "codemirror_mode": {
    "name": "ipython",
    "version": 3
   },
   "file_extension": ".py",
   "mimetype": "text/x-python",
   "name": "python",
   "nbconvert_exporter": "python",
   "pygments_lexer": "ipython3",
   "version": "3.8.5"
  }
 },
 "nbformat": 4,
 "nbformat_minor": 5
}

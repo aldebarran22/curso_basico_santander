{
 "cells": [
  {
   "cell_type": "markdown",
   "id": "13137245",
   "metadata": {},
   "source": [
    "### Programación funcional en Python"
   ]
  },
  {
   "cell_type": "markdown",
   "id": "eff87aae",
   "metadata": {},
   "source": [
    "- Iteradores: map, filter y reduce\n",
    "- List comprehession\n",
    "- generadores"
   ]
  },
  {
   "cell_type": "markdown",
   "id": "f9b5c376",
   "metadata": {},
   "source": [
    "Pruebas iniciales"
   ]
  },
  {
   "cell_type": "code",
   "execution_count": 1,
   "id": "c229539f",
   "metadata": {},
   "outputs": [],
   "source": [
    "L = [1,3,4,5,6,1,2,70]\n",
    "L"
   ]
  },
  {
   "cell_type": "code",
   "execution_count": 2,
   "id": "22346dc3",
   "metadata": {},
   "outputs": [],
   "source": [
    "L * 2"
   ]
  },
  {
   "cell_type": "markdown",
   "id": "4415c9f3",
   "metadata": {},
   "source": [
    "#### map"
   ]
  },
  {
   "cell_type": "code",
   "execution_count": 3,
   "id": "43b877cd",
   "metadata": {},
   "outputs": [],
   "source": [
    "def cuadrado(x):\n",
    "    return x**2"
   ]
  },
  {
   "cell_type": "code",
   "execution_count": 4,
   "id": "fa7746a9",
   "metadata": {},
   "outputs": [
    {
     "name": "stdout",
     "output_type": "stream",
     "text": [
      "[4, 5, 6, 7, 2, 3, 4, 5]\n"
     ]
    },
    {
     "data": {
      "text/plain": [
       "[16, 25, 36, 49, 4, 9, 16, 25]"
      ]
     },
     "execution_count": 4,
     "metadata": {},
     "output_type": "execute_result"
    }
   ],
   "source": [
    "L = [4,5,6,7,2,3,4,5]\n",
    "print(L)\n",
    "R = []\n",
    "for i in L:\n",
    "    R.append(cuadrado(i))\n",
    "R"
   ]
  },
  {
   "cell_type": "code",
   "execution_count": 5,
   "id": "04a01912",
   "metadata": {},
   "outputs": [
    {
     "data": {
      "text/plain": [
       "[16, 25, 36, 49, 4, 9, 16, 25]"
      ]
     },
     "execution_count": 5,
     "metadata": {},
     "output_type": "execute_result"
    }
   ],
   "source": [
    "R2 = list(map(cuadrado, L))\n",
    "R2"
   ]
  },
  {
   "cell_type": "code",
   "execution_count": 6,
   "id": "edb53649",
   "metadata": {},
   "outputs": [
    {
     "data": {
      "text/plain": [
       "[16, 25, 36, 49, 4, 9, 16, 25]"
      ]
     },
     "execution_count": 6,
     "metadata": {},
     "output_type": "execute_result"
    }
   ],
   "source": [
    "R3 = [cuadrado(i) for i in L]\n",
    "R3"
   ]
  },
  {
   "cell_type": "code",
   "execution_count": 7,
   "id": "3e4d1d7f",
   "metadata": {},
   "outputs": [
    {
     "data": {
      "text/plain": [
       "[16, 25, 36, 49, 4, 9, 16, 25]"
      ]
     },
     "execution_count": 7,
     "metadata": {},
     "output_type": "execute_result"
    }
   ],
   "source": [
    "R4 = [i**2 for i in L]\n",
    "R4"
   ]
  },
  {
   "cell_type": "code",
   "execution_count": 8,
   "id": "3841867d",
   "metadata": {},
   "outputs": [
    {
     "data": {
      "text/plain": [
       "[(4, 16), (5, 25), (6, 36), (7, 49), (2, 4), (3, 9), (4, 16), (5, 25)]"
      ]
     },
     "execution_count": 8,
     "metadata": {},
     "output_type": "execute_result"
    }
   ],
   "source": [
    "R5 = [(i, i**2) for i in L]\n",
    "R5"
   ]
  },
  {
   "cell_type": "code",
   "execution_count": 9,
   "id": "d57bb1f3",
   "metadata": {},
   "outputs": [
    {
     "data": {
      "text/plain": [
       "[(1, 1, 1),\n",
       " (1, 2, 2),\n",
       " (1, 3, 3),\n",
       " (1, 4, 4),\n",
       " (1, 5, 5),\n",
       " (1, 6, 6),\n",
       " (1, 7, 7),\n",
       " (1, 8, 8),\n",
       " (1, 9, 9),\n",
       " (1, 10, 10),\n",
       " (2, 1, 2),\n",
       " (2, 2, 4),\n",
       " (2, 3, 6),\n",
       " (2, 4, 8),\n",
       " (2, 5, 10),\n",
       " (2, 6, 12),\n",
       " (2, 7, 14),\n",
       " (2, 8, 16),\n",
       " (2, 9, 18),\n",
       " (2, 10, 20),\n",
       " (3, 1, 3),\n",
       " (3, 2, 6),\n",
       " (3, 3, 9),\n",
       " (3, 4, 12),\n",
       " (3, 5, 15),\n",
       " (3, 6, 18),\n",
       " (3, 7, 21),\n",
       " (3, 8, 24),\n",
       " (3, 9, 27),\n",
       " (3, 10, 30)]"
      ]
     },
     "execution_count": 9,
     "metadata": {},
     "output_type": "execute_result"
    }
   ],
   "source": [
    "tablas = [(i,j,i*j) for i in range(1,4) for j in range(1,11)]\n",
    "tablas"
   ]
  },
  {
   "cell_type": "code",
   "execution_count": 10,
   "id": "9f9c1ad6",
   "metadata": {},
   "outputs": [],
   "source": [
    "def segundos(h=0, m=0, s=0):\n",
    "    return h * 3600 + m * 60 + s"
   ]
  },
  {
   "cell_type": "code",
   "execution_count": 11,
   "id": "9ae05a9c",
   "metadata": {},
   "outputs": [],
   "source": [
    "L = [(12, 4, 5), (8, 30, 56), (13, 4, 22), (7, 8, 10)]"
   ]
  },
  {
   "cell_type": "code",
   "execution_count": 12,
   "id": "34ae2401",
   "metadata": {},
   "outputs": [
    {
     "data": {
      "text/plain": [
       "[43445, 30656, 47062, 25690]"
      ]
     },
     "execution_count": 12,
     "metadata": {},
     "output_type": "execute_result"
    }
   ],
   "source": [
    "R = [segundos(*t) for t in L]\n",
    "R"
   ]
  },
  {
   "cell_type": "markdown",
   "id": "f144685f",
   "metadata": {},
   "source": [
    "#### Filter"
   ]
  },
  {
   "cell_type": "code",
   "execution_count": 13,
   "id": "7e22933e",
   "metadata": {},
   "outputs": [],
   "source": [
    "def filtro(n):\n",
    "    return True if n < 40000 else False"
   ]
  },
  {
   "cell_type": "code",
   "execution_count": 14,
   "id": "5a64ade9",
   "metadata": {},
   "outputs": [
    {
     "data": {
      "text/plain": [
       "[30656, 25690]"
      ]
     },
     "execution_count": 14,
     "metadata": {},
     "output_type": "execute_result"
    }
   ],
   "source": [
    "R2 = list(filter(filtro, R))\n",
    "R2"
   ]
  },
  {
   "cell_type": "code",
   "execution_count": null,
   "id": "b5d8a0cc",
   "metadata": {},
   "outputs": [],
   "source": []
  }
 ],
 "metadata": {
  "kernelspec": {
   "display_name": "Python 3 (ipykernel)",
   "language": "python",
   "name": "python3"
  },
  "language_info": {
   "codemirror_mode": {
    "name": "ipython",
    "version": 3
   },
   "file_extension": ".py",
   "mimetype": "text/x-python",
   "name": "python",
   "nbconvert_exporter": "python",
   "pygments_lexer": "ipython3",
   "version": "3.8.5"
  }
 },
 "nbformat": 4,
 "nbformat_minor": 5
}
